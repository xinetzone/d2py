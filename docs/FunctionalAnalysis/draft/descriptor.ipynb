{
 "cells": [
  {
   "cell_type": "markdown",
   "metadata": {},
   "source": [
    "# 描述器\n",
    "\n",
    "描述器\n",
    ":   任何定义了 {meth}`__get__`, {meth}`__set__` 或 {meth}` __delete__` 方法的对象。当一个类属性为描述器时，它的特殊绑定行为就会在属性查找时被触发。通常情况下，使用 `a.b` 来获取、设置或删除一个属性时会在 `a` 的类字典中查找名称为 `b` 的对象，但如果 `b` 是一个描述器，则会调用对应的描述器方法。\n",
    "\n",
    "    如果一个对象定义了 {meth}`__set__` 或 {meth}` __delete__`，则它会被视为 **数据描述器**。\n",
    "\n",
    "    仅定义了 {meth}`__get__` 的描述器称为 **非数据描述器** （它们经常被用于方法，但也可以有其他用途）。\n",
    "\n",
    "    据和非数据描述器的不同之处在于，如何计算实例字典中项的替代值。如果实例的字典具有与数据描述器同名的项，则数据描述器优先。如果实例的字典具有与非数据描述器同名的项，则该字典项优先。\n",
    "\n",
    "为了使数据描述器成为只读的，应该同时定义 {meth}`__get__` 和 {meth}`__set__`，并在 {meth}`__set__` 中引发 {exc}`AttributeError`。\n",
    "\n",
    "描述器调用概述"
   ]
  },
  {
   "cell_type": "code",
   "execution_count": 7,
   "metadata": {},
   "outputs": [
    {
     "data": {
      "text/plain": [
       "60000"
      ]
     },
     "execution_count": 7,
     "metadata": {},
     "output_type": "execute_result"
    }
   ],
   "source": [
    "2000 * 30"
   ]
  },
  {
   "cell_type": "code",
   "execution_count": null,
   "metadata": {},
   "outputs": [],
   "source": []
  }
 ],
 "metadata": {
  "interpreter": {
   "hash": "217cbd5f9a308b7892384b08237230dd0dcfa951c152faf18c0b07a5660270cf"
  },
  "kernelspec": {
   "display_name": "Python 3.10.0 64-bit ('xpp': conda)",
   "language": "python",
   "name": "python3"
  },
  "language_info": {
   "codemirror_mode": {
    "name": "ipython",
    "version": 3
   },
   "file_extension": ".py",
   "mimetype": "text/x-python",
   "name": "python",
   "nbconvert_exporter": "python",
   "pygments_lexer": "ipython3",
   "version": "3.10.0"
  },
  "orig_nbformat": 4
 },
 "nbformat": 4,
 "nbformat_minor": 2
}
