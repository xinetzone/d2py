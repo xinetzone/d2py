{
 "cells": [
  {
   "cell_type": "markdown",
   "metadata": {},
   "source": [
    "# 流程控制\n",
    "\n",
    "Python 不仅仅需要可以求值的 [表达式](intro/basic-type) 与 [函数](function)，还需要一些结构用于表达循环和控制等。\n",
    "\n",
    "## 比较、相等和真值\n",
    "\n",
    "- `==` 操作符测试值的相等性。\n",
    "- `is` 表达式测试对象的一致性。\n",
    "\n",
    "真值判断："
   ]
  },
  {
   "cell_type": "code",
   "execution_count": 1,
   "metadata": {},
   "outputs": [
    {
     "data": {
      "text/plain": [
       "(True, True)"
      ]
     },
     "execution_count": 1,
     "metadata": {},
     "output_type": "execute_result"
    }
   ],
   "source": [
    "S1 = 'spam'\n",
    "S2 = 'spam'\n",
    "\n",
    "S1 == S2, S1 is S2"
   ]
  },
  {
   "cell_type": "markdown",
   "metadata": {},
   "source": [
    "比较："
   ]
  },
  {
   "cell_type": "code",
   "execution_count": 2,
   "metadata": {},
   "outputs": [
    {
     "data": {
      "text/plain": [
       "(True, False, False, False)"
      ]
     },
     "execution_count": 2,
     "metadata": {},
     "output_type": "execute_result"
    }
   ],
   "source": [
    "L1 = [1, ('a', 3)] \n",
    "L2 = [1, ('a', 3)]\n",
    "\n",
    "L1 == L2, L1 is L2, L1 < L2, L1 > L2"
   ]
  },
  {
   "cell_type": "code",
   "execution_count": 3,
   "metadata": {},
   "outputs": [
    {
     "data": {
      "text/plain": [
       "False"
      ]
     },
     "execution_count": 3,
     "metadata": {},
     "output_type": "execute_result"
    }
   ],
   "source": [
    "bool('')"
   ]
  },
  {
   "cell_type": "markdown",
   "metadata": {},
   "source": [
    "惰性求值："
   ]
  },
  {
   "cell_type": "code",
   "execution_count": 4,
   "metadata": {},
   "outputs": [
    {
     "data": {
      "text/plain": [
       "4"
      ]
     },
     "execution_count": 4,
     "metadata": {},
     "output_type": "execute_result"
    }
   ],
   "source": [
    "2 and 4"
   ]
  },
  {
   "cell_type": "code",
   "execution_count": 5,
   "metadata": {},
   "outputs": [
    {
     "data": {
      "text/plain": [
       "2"
      ]
     },
     "execution_count": 5,
     "metadata": {},
     "output_type": "execute_result"
    }
   ],
   "source": [
    "2 or 4"
   ]
  },
  {
   "cell_type": "markdown",
   "metadata": {},
   "source": [
    "Python **语句** 就是告诉你的程序应该做什么的句子。\n",
    "\n",
    "- 程序由模块构成。\n",
    "- 模块包含语句。\n",
    "- 语句包含表达式。\n",
    "- 表达式建立并处理对象。\n",
    "\n",
    "## 真值测试\n",
    "\n",
    "- 所有的对象都有一个固有的布尔值：真或假。\n",
    "- 任何非零的数字或非空的对象都是真。\n",
    "- 零数、空对象和特殊对象 `None` 被视为假。\n",
    "- 比较和相等测试是递归地应用于数据结构。\n",
    "- 比较和相等测试返回 `True` 或 `False`。\n",
    "- 布尔运算符 `and` 和 `or` 返回一个真或假的操作对象。\n",
    "- 一旦知道结果，布尔运算符就会停止评估（\"短路\"）。\n",
    "\n",
    "真值判定|结果\n",
    ":-|:-\n",
    "`X and Y`|如果 `X` 和 `Y` 都为真，则为真。\n",
    "`X or Y`|如果 `X` 或 `Y` 为真，则为真。\n",
    "`not X`|如果 `X` 是假的，则为真。\n",
    "\n",
    "## 短路计算\n",
    "\n",
    "- `or`: 从左到右求算操作对象，然后返回第一个为真的操作对象。\n",
    "- `and`: 从左到右求算操作对象，然后返回第一个为假的操作对象。"
   ]
  },
  {
   "cell_type": "code",
   "execution_count": 6,
   "metadata": {},
   "outputs": [
    {
     "data": {
      "text/plain": [
       "(2, 3)"
      ]
     },
     "execution_count": 6,
     "metadata": {},
     "output_type": "execute_result"
    }
   ],
   "source": [
    "2 or 3, 3 or 2"
   ]
  },
  {
   "cell_type": "code",
   "execution_count": 7,
   "metadata": {},
   "outputs": [
    {
     "data": {
      "text/plain": [
       "3"
      ]
     },
     "execution_count": 7,
     "metadata": {},
     "output_type": "execute_result"
    }
   ],
   "source": [
    "[] or 3"
   ]
  },
  {
   "cell_type": "code",
   "execution_count": 8,
   "metadata": {},
   "outputs": [
    {
     "data": {
      "text/plain": [
       "{}"
      ]
     },
     "execution_count": 8,
     "metadata": {},
     "output_type": "execute_result"
    }
   ],
   "source": [
    "[] or {}"
   ]
  },
  {
   "cell_type": "code",
   "execution_count": 9,
   "metadata": {},
   "outputs": [
    {
     "data": {
      "text/plain": [
       "(3, 2)"
      ]
     },
     "execution_count": 9,
     "metadata": {},
     "output_type": "execute_result"
    }
   ],
   "source": [
    "2 and 3, 3 and 2"
   ]
  },
  {
   "cell_type": "code",
   "execution_count": 10,
   "metadata": {},
   "outputs": [
    {
     "data": {
      "text/plain": [
       "[]"
      ]
     },
     "execution_count": 10,
     "metadata": {},
     "output_type": "execute_result"
    }
   ],
   "source": [
    "[] and {}"
   ]
  },
  {
   "cell_type": "code",
   "execution_count": 11,
   "metadata": {},
   "outputs": [
    {
     "data": {
      "text/plain": [
       "[]"
      ]
     },
     "execution_count": 11,
     "metadata": {},
     "output_type": "execute_result"
    }
   ],
   "source": [
    "3 and []"
   ]
  },
  {
   "cell_type": "markdown",
   "metadata": {},
   "source": [
    "## 断言\n",
    "\n",
    "用于测试推断："
   ]
  },
  {
   "cell_type": "code",
   "execution_count": 12,
   "metadata": {},
   "outputs": [
    {
     "ename": "AssertionError",
     "evalue": "num 应该为正数！",
     "output_type": "error",
     "traceback": [
      "\u001b[1;31m---------------------------------------------------------------------------\u001b[0m",
      "\u001b[1;31mAssertionError\u001b[0m                            Traceback (most recent call last)",
      "\u001b[1;32m~\\AppData\\Local\\Temp/ipykernel_10012/2608566952.py\u001b[0m in \u001b[0;36m<module>\u001b[1;34m\u001b[0m\n\u001b[0;32m      1\u001b[0m \u001b[0mnum\u001b[0m \u001b[1;33m=\u001b[0m \u001b[1;33m-\u001b[0m\u001b[1;36m1\u001b[0m\u001b[1;33m\u001b[0m\u001b[1;33m\u001b[0m\u001b[0m\n\u001b[1;32m----> 2\u001b[1;33m \u001b[1;32massert\u001b[0m \u001b[0mnum\u001b[0m \u001b[1;33m>\u001b[0m \u001b[1;36m0\u001b[0m\u001b[1;33m,\u001b[0m \u001b[1;34m'num 应该为正数！'\u001b[0m\u001b[1;33m\u001b[0m\u001b[1;33m\u001b[0m\u001b[0m\n\u001b[0m",
      "\u001b[1;31mAssertionError\u001b[0m: num 应该为正数！"
     ]
    }
   ],
   "source": [
    "num = -1\n",
    "assert num > 0, 'num 应该为正数！'"
   ]
  },
  {
   "cell_type": "markdown",
   "metadata": {},
   "source": [
    "## `if` 条件"
   ]
  },
  {
   "cell_type": "code",
   "execution_count": 14,
   "metadata": {},
   "outputs": [
    {
     "name": "stdout",
     "output_type": "stream",
     "text": [
      "平年\n"
     ]
    }
   ],
   "source": [
    "year = 1990\n",
    "if year % 4 == 0:\n",
    "    if year % 400 == 0:\n",
    "        print('闰年')\n",
    "    elif year % 100 == 0:\n",
    "        print('平年')\n",
    "    else:\n",
    "        print('闰年')\n",
    "else:\n",
    "    print('平年')"
   ]
  },
  {
   "cell_type": "markdown",
   "metadata": {},
   "source": [
    "使用 `and` 与 `or` 的短路逻辑简化表达式："
   ]
  },
  {
   "cell_type": "code",
   "execution_count": 15,
   "metadata": {},
   "outputs": [
    {
     "name": "stdout",
     "output_type": "stream",
     "text": [
      "平年\n"
     ]
    }
   ],
   "source": [
    "year = 1990\n",
    "if (year % 4 == 0 and year % 100 != 0) or year % 400 == 0:\n",
    "    print('闰年')\n",
    "else:\n",
    "    print('平年')"
   ]
  },
  {
   "cell_type": "markdown",
   "metadata": {},
   "source": [
    "`if` 的短路（short-ciecuit）计算：`A = Y if X else Z`"
   ]
  },
  {
   "cell_type": "code",
   "execution_count": 16,
   "metadata": {},
   "outputs": [
    {
     "name": "stdout",
     "output_type": "stream",
     "text": [
      "平年\n"
     ]
    }
   ],
   "source": [
    "year = 1990\n",
    "print('闰年') if (year % 4 == 0 and year % 100 != 0) or year % 400 == 0 else print('平年')"
   ]
  },
  {
   "cell_type": "code",
   "execution_count": 17,
   "metadata": {},
   "outputs": [
    {
     "data": {
      "text/plain": [
       "'t'"
      ]
     },
     "execution_count": 17,
     "metadata": {},
     "output_type": "execute_result"
    }
   ],
   "source": [
    "'t' if 'spam' else 'f'"
   ]
  },
  {
   "cell_type": "markdown",
   "metadata": {},
   "source": [
    "## `while` 循环\n",
    "\n",
    "`while` 循环结构：\n",
    "\n",
    "```python\n",
    "while test:  # 循环测试\n",
    "    statements  # 循环体\n",
    "else:  # 可选，只有当循环正常离开时才会执行 (也就是没有碰到 `break` 语句)\n",
    "    statements  # 如果没有用 break 退出循环，则运行。\n",
    "```\n",
    "\n",
    "- `continue`：跳到最近所在循环的开头处（来到循环的首行）\n",
    "- `break`：跳出最近所在的循环（跳过整个循环语句）\n",
    "- `pass` 或 `...`：空占位语句"
   ]
  },
  {
   "cell_type": "code",
   "execution_count": 18,
   "metadata": {},
   "outputs": [
    {
     "name": "stdout",
     "output_type": "stream",
     "text": [
      "spam pam am m "
     ]
    }
   ],
   "source": [
    "x = 'spam'\n",
    "while x:\n",
    "    print(x, end=' ')\n",
    "    x = x[1:]"
   ]
  },
  {
   "cell_type": "code",
   "execution_count": 19,
   "metadata": {},
   "outputs": [
    {
     "data": {
      "text/plain": [
       "Ellipsis"
      ]
     },
     "execution_count": 19,
     "metadata": {},
     "output_type": "execute_result"
    }
   ],
   "source": [
    "X = ...\n",
    "X"
   ]
  },
  {
   "cell_type": "code",
   "execution_count": 20,
   "metadata": {},
   "outputs": [
    {
     "name": "stdout",
     "output_type": "stream",
     "text": [
      "1\n",
      "28\n",
      "55\n",
      "82\n"
     ]
    }
   ],
   "source": [
    "x = 1  # 初值条件\n",
    "while x <= 100:  # 终止条件\n",
    "    print(x)\n",
    "    x += 27"
   ]
  },
  {
   "cell_type": "code",
   "execution_count": 23,
   "metadata": {},
   "outputs": [
    {
     "name": "stdout",
     "output_type": "stream",
     "text": [
      "16\n",
      "8.0\n",
      "4.0\n",
      "2.0\n",
      "1.0\n"
     ]
    }
   ],
   "source": [
    "# 拉兹猜想\n",
    "num = 5\n",
    "while num != 1:\n",
    "    if num % 2 == 0:\n",
    "        num /= 2\n",
    "    else:\n",
    "        num = num*3+1\n",
    "    print(num)"
   ]
  },
  {
   "cell_type": "code",
   "execution_count": 24,
   "metadata": {},
   "outputs": [
    {
     "name": "stdout",
     "output_type": "stream",
     "text": [
      "8 6 4 2 0 "
     ]
    }
   ],
   "source": [
    "x = 10\n",
    "while x:\n",
    "    x -= 1\n",
    "    if x % 2 != 0:\n",
    "        continue  # 跳过打印\n",
    "    print(x, end=' ')"
   ]
  },
  {
   "cell_type": "markdown",
   "metadata": {},
   "source": [
    "```python\n",
    "while True:\n",
    "    name = input('Enter name: ')\n",
    "    if name == 'stop': break\n",
    "    age = input('Enter age: ')\n",
    "    print('Hello ', name, '=>', int(age)**2)\n",
    "```\n",
    "\n",
    "和循环 `else` 子句结合，`break` 语句通常可以忽略其他语言中所需要的搜索状态标志位。\n",
    "\n",
    "```python\n",
    "y = int(input('输入数字：'))\n",
    "x = y // 2\n",
    "while x > 1:\n",
    "    if y % x == 0:\n",
    "        print(y, '有因子', x)\n",
    "        break\n",
    "    x -= 1\n",
    "else:  # 没有碰到 break 才会执行\n",
    "    print(y, '是质数！')\n",
    "```\n",
    "\n",
    "**循环 `else` 分句是 Python 特有的，它提供了常见的编写代码的明确语法：这是编写代码的结构，让你捕捉循环的“另一条”出路，而不通过设定和检查标志位或条件。**\n",
    "\n",
    "例如，假设你要写一个循环搜索列表的值，而且需要知道在离开循环后该值是否已经找到，可能会用下面的方式编写该任务：\n",
    "\n",
    "```python\n",
    "found = False\n",
    "while x and not found:\n",
    "    if match(x[0]):\n",
    "        print('Ni')\n",
    "        found = True\n",
    "    else:\n",
    "        x = x[1:]\n",
    "if not found:\n",
    "    print('not found')\n",
    "```\n",
    "\n",
    "我们亦可使用循环 `else` 分句来简化上述代码：\n",
    "\n",
    "```python\n",
    "while x:\n",
    "    if match(x[0]):\n",
    "        print('Ni')\n",
    "        break\n",
    "    x = x[1:]\n",
    "else:\n",
    "    print('not found')\n",
    "```\n",
    "\n",
    "## `for` 循环\n",
    "\n",
    "遍历序列对象：\n",
    "\n",
    "\n",
    "```python\n",
    "for target in object:                 # 将对象项目分配给目标   \n",
    "    statements                        # 循环体\n",
    "else:                                 # 可选的 else 子句  \n",
    "    statements                        # 如果我们没有遇到 `break` 的话\n",
    "```"
   ]
  },
  {
   "cell_type": "code",
   "execution_count": 25,
   "metadata": {},
   "outputs": [],
   "source": [
    "for i in range(5):\n",
    "    ...  # 等价于 pass"
   ]
  },
  {
   "cell_type": "code",
   "execution_count": 26,
   "metadata": {},
   "outputs": [
    {
     "name": "stdout",
     "output_type": "stream",
     "text": [
      "1\n",
      "2\n",
      "3\n",
      "4\n",
      "5\n"
     ]
    }
   ],
   "source": [
    "nums = [1,2,3,4,5]\n",
    "for i in nums:\n",
    "    print(i)"
   ]
  },
  {
   "cell_type": "code",
   "execution_count": 27,
   "metadata": {},
   "outputs": [
    {
     "data": {
      "text/plain": [
       "[1, 7]"
      ]
     },
     "execution_count": 27,
     "metadata": {},
     "output_type": "execute_result"
    }
   ],
   "source": [
    "list(range(1, 10, 6))"
   ]
  },
  {
   "cell_type": "code",
   "execution_count": 28,
   "metadata": {},
   "outputs": [
    {
     "name": "stdout",
     "output_type": "stream",
     "text": [
      "10!= 3628800\n"
     ]
    }
   ],
   "source": [
    "# 阶乘\n",
    "x = 1\n",
    "for i in range(1,11):\n",
    "    x *= i\n",
    "print('10!=', x)"
   ]
  },
  {
   "cell_type": "code",
   "execution_count": 29,
   "metadata": {},
   "outputs": [
    {
     "data": {
      "text/plain": [
       "100"
      ]
     },
     "execution_count": 29,
     "metadata": {},
     "output_type": "execute_result"
    }
   ],
   "source": [
    "b = [[9, 7, 3, 6, 5],\n",
    "     [10, 2, 4, 6, 7],\n",
    "     [0, 5, 3, 2, 9],\n",
    "     [7, 3, 5, 6, 1]]\n",
    "\n",
    "s = 0\n",
    "for i in range(len(b)):\n",
    "    for j in range(len(b[i])):\n",
    "        s += b[i][j]\n",
    "s"
   ]
  },
  {
   "cell_type": "code",
   "execution_count": null,
   "metadata": {},
   "outputs": [],
   "source": []
  }
 ],
 "metadata": {
  "interpreter": {
   "hash": "5bd0e00e2a19143fe511974294bb108c565eeab444c74caa312a526033b1280c"
  },
  "kernelspec": {
   "display_name": "Python 3.9.5 64-bit ('jupyter-book': conda)",
   "language": "python",
   "name": "python3"
  },
  "language_info": {
   "codemirror_mode": {
    "name": "ipython",
    "version": 3
   },
   "file_extension": ".py",
   "mimetype": "text/x-python",
   "name": "python",
   "nbconvert_exporter": "python",
   "pygments_lexer": "ipython3",
   "version": "3.9.5"
  },
  "orig_nbformat": 4
 },
 "nbformat": 4,
 "nbformat_minor": 2
}
