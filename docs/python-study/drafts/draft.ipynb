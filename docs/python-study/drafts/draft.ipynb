{
 "cells": [
  {
   "cell_type": "markdown",
   "metadata": {},
   "source": [
    "# 回收站"
   ]
  },
  {
   "cell_type": "code",
   "execution_count": 1,
   "metadata": {},
   "outputs": [
    {
     "name": "stdout",
     "output_type": "stream",
     "text": [
      "The Zen of Python, by Tim Peters\n",
      "\n",
      "Beautiful is better than ugly.\n",
      "Explicit is better than implicit.\n",
      "Simple is better than complex.\n",
      "Complex is better than complicated.\n",
      "Flat is better than nested.\n",
      "Sparse is better than dense.\n",
      "Readability counts.\n",
      "Special cases aren't special enough to break the rules.\n",
      "Although practicality beats purity.\n",
      "Errors should never pass silently.\n",
      "Unless explicitly silenced.\n",
      "In the face of ambiguity, refuse the temptation to guess.\n",
      "There should be one-- and preferably only one --obvious way to do it.\n",
      "Although that way may not be obvious at first unless you're Dutch.\n",
      "Now is better than never.\n",
      "Although never is often better than *right* now.\n",
      "If the implementation is hard to explain, it's a bad idea.\n",
      "If the implementation is easy to explain, it may be a good idea.\n",
      "Namespaces are one honking great idea -- let's do more of those!\n"
     ]
    }
   ],
   "source": [
    "import this"
   ]
  },
  {
   "cell_type": "markdown",
   "metadata": {},
   "source": [
    "\n",
    "## 初学者教程\n",
    "- [Python官方-英文](https://wiki.python.org/moin/BeginnersGuide)\n",
    "- [Python官方-中文](https://wiki.python.org/moin/BeginnersGuideChinese)\n",
    "- [中文资源](https://wiki.python.org/moin/ChineseLanguage)\n",
    "\n",
    "## Python3\n",
    "- [官方文件Idex](https://docs.python.org/3/)\n",
    "- [Cook Book](https://python3-cookbook.readthedocs.io/zh_CN/latest/index.html)\n",
    "\n",
    "## IPython\n",
    "<https://jupyter-notebook.readthedocs.io/en/stable/public_server.html>\n",
    "- [官方文件](http://www.ipython.org/documentation.html)\n",
    "## 远程访问jupyter notebook\n",
    "- [连接远程jupyter notebook ----windows环境](http://www.xfenglin.com/a/12010926580.html)\n",
    "- [远程访问jupyter notebook](http://www.cnblogs.com/yangxiaolan/p/5778305.html)\n",
    "## HTML5\n",
    "[reveal.js框架](http://lab.hakim.se/reveal-js)\n",
    "## [SPHINX Python项目文档软件包](http://sphinx-doc.org)\n",
    "以`.rst`作为后缀的文件可以被其使用。\n",
    "## [jupyter_contrib_nbextensions](https://github.com/Enjoying-Learning/jupyter_contrib_nbextensions)(jupyter notebook的扩展插件)\n",
    "\n",
    "## [如何用Pelican, Jupyter notebook,Github Pages搭建博客](https://junjiecai.github.io/posts/2016/Jun/10/blog_with_jupyter/)\n",
    "\n",
    "## [Jupyter Notebook: Output image in previous line](https://stackoverflow.com/questions/38318166/jupyter-notebook-output-image-in-previous-line/38320547)\n",
    "## [Jupyter Notebook 快速入门](http://www.cnblogs.com/nxld/p/6566380.html)\n",
    "\n",
    "## [将文档自动发布到 GitHub Pages](http://www.mkdocs.org/)\n",
    "## [初学者需要IPython 与 Jupyter Notebook 吗?](http://www.cnblogs.com/billvvv/archive/2017/06/20/7056880.html)\n",
    "## [Python-OpenCV 处理视频（四）:运动检测](http://python.jobbole.com/85207/)\n",
    "\n",
    "\n",
    "## [nbviewer: A simple way to share Jupyter Notebooks](https://nbviewer.jupyter.org/)\n",
    "## [Jupyterlab开发小指南 ](http://blog.csdn.net/greenovia/article/details/74388877?utm_source=itdadao&utm_medium=referral)\n",
    "\n",
    "## [ipython notebook使用教程](http://www.cnblogs.com/giserliu/p/4997144.html)\n",
    "\n",
    "## [基本配置2—云端部署jupyter notebook](http://blog.leanote.com/post/5267/180feb62d20b)"
   ]
  }
 ],
 "metadata": {
  "interpreter": {
   "hash": "f3aa50f0c7e40bcc9cedd2a4cdb1116a2b731edfa88dfef927032477c9c99d10"
  },
  "kernelspec": {
   "display_name": "Python 3.10.0 64-bit ('hs': conda)",
   "language": "python",
   "name": "python3"
  },
  "language_info": {
   "codemirror_mode": {
    "name": "ipython",
    "version": 3
   },
   "file_extension": ".py",
   "mimetype": "text/x-python",
   "name": "python",
   "nbconvert_exporter": "python",
   "pygments_lexer": "ipython3",
   "version": "3.10.0"
  },
  "orig_nbformat": 4
 },
 "nbformat": 4,
 "nbformat_minor": 2
}
