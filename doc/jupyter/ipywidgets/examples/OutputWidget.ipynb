{
 "cells": [
  {
   "cell_type": "markdown",
   "metadata": {},
   "source": [
    "# 输出小部件：利用 Jupyter 的显示系统\n",
    "\n",
    "在Jupyter环境中，`Output`小部件可以用于捕获和显示交互式计算的结果。通过将函数的输出重定向到`Output`小部件，你可以在用户界面中查看这些结果，而不是仅仅在代码单元格的输出区域中显示它们。这使得创建复杂的交互式应用程序成为可能，其中可以实时更新和共享计算结果。\n",
    "\n",
    "以下是使用`Output`小部件的一些关键点：\n",
    "\n",
    "1. **捕获输出**：你可以使用`display`函数将结果发送到`Output`小部件。例如，`display(some_output)`将`some_output`的值发送到当前的`Output`小部件。\n",
    "\n",
    "2. **动态更新**：当你希望根据用户输入或其他事件动态更新输出时，`Output`小部件特别有用。你可以通过编程方式更新`Output`小部件的内容，以反映计算的最新状态。\n",
    "\n",
    "3. **共享和保存**：`Output`小部件的内容可以轻松地共享给其他用户或保存为各种格式，如HTML、PDF或SVG。\n",
    "\n",
    "4. **集成与自定义**：你可以将`Output`小部件与其他类型的小部件（如滑块、按钮等）结合使用，以创建具有丰富交互性的应用程序。此外，你还可以通过自定义CSS样式来控制`Output`小部件的外观。 \n",
    "\n",
    "5. **灵活性**：`Output`小部件支持多种内容类型，包括文本、图像、视频等。这意味着你可以使用`Output`小部件来显示几乎任何类型的计算结果。\n",
    "\n",
    "6. **扩展性**：如果你需要更高级的功能，可以创建自定义的`Output`小部件。这使你能够构建特定于你的应用程序或工作流程的专用输出控件。\n",
    "\n",
    "总之，`Output` 小部件是 Jupyter 环境中的强大工具，它允许你以交互式和可视化的方式展示和共享计算结果。通过利用 `Output` 小部件，你可以创建更加动态和参与性的数据分析和科学计算应用程序。"
   ]
  },
  {
   "cell_type": "code",
   "execution_count": 1,
   "metadata": {
    "tags": [
     "remove-cell"
    ]
   },
   "outputs": [
    {
     "name": "stdout",
     "output_type": "stream",
     "text": [
      "Note: you may need to restart the kernel to use updated packages.\n"
     ]
    }
   ],
   "source": [
    "# Imports for JupyterLite\n",
    "%pip install -q ipywidgets"
   ]
  },
  {
   "cell_type": "code",
   "execution_count": 2,
   "metadata": {},
   "outputs": [],
   "source": [
    "import ipywidgets as widgets"
   ]
  },
  {
   "cell_type": "markdown",
   "metadata": {},
   "source": [
    "`Output` 部件可以捕获并显示 stdout、stderr 以及由 IPython 生成的 [富文本输出](http://ipython.readthedocs.io/en/stable/api/generated/IPython.display.html#module-IPython.display)。你也可以直接将输出附加到输出部件，或者通过编程方式清除它。"
   ]
  },
  {
   "cell_type": "code",
   "execution_count": 3,
   "metadata": {},
   "outputs": [
    {
     "data": {
      "application/vnd.jupyter.widget-view+json": {
       "model_id": "63ed54e42b6d45c1895114a1e720c60f",
       "version_major": 2,
       "version_minor": 0
      },
      "text/plain": [
       "Output(layout=Layout(border_bottom='1px solid black', border_left='1px solid black', border_right='1px solid b…"
      ]
     },
     "execution_count": 3,
     "metadata": {},
     "output_type": "execute_result"
    }
   ],
   "source": [
    "out = widgets.Output(layout={'border': '1px solid black'})\n",
    "out"
   ]
  },
  {
   "cell_type": "markdown",
   "metadata": {},
   "source": [
    "在部件创建后，使用上下文管理器将输出定向到它。你可以将文本打印到输出区域："
   ]
  },
  {
   "cell_type": "code",
   "execution_count": 4,
   "metadata": {},
   "outputs": [],
   "source": [
    "with out:\n",
    "    for i in range(10):\n",
    "        print(i, 'Hello world!')"
   ]
  },
  {
   "cell_type": "markdown",
   "metadata": {},
   "source": [
    "富文本输出也可以定向到输出区域。任何在 Jupyter 笔记本中显示良好的内容也会在 `Output` 部件中显示得很好。"
   ]
  },
  {
   "cell_type": "markdown",
   "metadata": {},
   "source": [
    "```python\n",
    "from IPython.display import YouTubeVideo\n",
    "with out:\n",
    "    display(YouTubeVideo('eWzY2nGfkXk'))\n",
    "```"
   ]
  },
  {
   "cell_type": "markdown",
   "metadata": {},
   "source": [
    "我们甚至可以在输出部件中显示复杂的 `mimetypes`，例如嵌套的部件。"
   ]
  },
  {
   "cell_type": "code",
   "execution_count": 5,
   "metadata": {},
   "outputs": [],
   "source": [
    "with out:\n",
    "    display(widgets.IntSlider())"
   ]
  },
  {
   "cell_type": "markdown",
   "metadata": {},
   "source": [
    "我们还可以使用 `append_stdout`、`append_stderr` 或 `append_display_data` 等便利方法直接将输出附加到输出部件。"
   ]
  },
  {
   "cell_type": "markdown",
   "metadata": {},
   "source": [
    "```python\n",
    "out = widgets.Output(layout={'border': '1px solid black'})\n",
    "out.append_stdout('Output appended with append_stdout')\n",
    "out.append_display_data(YouTubeVideo('eWzY2nGfkXk'))\n",
    "out\n",
    "```"
   ]
  },
  {
   "cell_type": "markdown",
   "metadata": {},
   "source": [
    "可以通过在上下文管理器中使用 `IPython.display.clear_output` 来清除输出，或者我们可以直接调用部件的 `clear_output` 方法。"
   ]
  },
  {
   "cell_type": "code",
   "execution_count": 6,
   "metadata": {},
   "outputs": [],
   "source": [
    "out.clear_output()"
   ]
  },
  {
   "cell_type": "markdown",
   "metadata": {},
   "source": [
    "`clear_output` 支持关键字参数 `wait`。将其设置为 `True` 时，部件内容不会立即清除。相反，它们会在下一次部件接收到要显示的内容时被清除。在替换输出部件中的内容时，这很有用：它允许更平滑的过渡，避免了调用 `clear_output` 后部件突然调整大小的情况。\n",
    "\n",
    "最后，我们可以使用输出部件通过 `capture` 装饰器捕获函数产生的所有输出。"
   ]
  },
  {
   "cell_type": "code",
   "execution_count": 7,
   "metadata": {
    "tags": [
     "raises-exception"
    ]
   },
   "outputs": [],
   "source": [
    "@out.capture()\n",
    "def function_with_captured_output():\n",
    "    print('This goes into the output widget')\n",
    "    raise Exception('As does this')\n",
    "    \n",
    "function_with_captured_output()"
   ]
  },
  {
   "cell_type": "markdown",
   "metadata": {},
   "source": [
    "`out.capture` 支持关键字参数 `clear_output`。将其设置为 `True` 将在每次调用函数时清除输出部件，这样你只会看到最后一次调用的输出。将 `clear_output` 设置为 `True` 时，你还可以传递一个 `wait=True` 参数，以仅在新输出可用时清除输出。当然，你也可以随时手动清除输出。"
   ]
  },
  {
   "cell_type": "code",
   "execution_count": 8,
   "metadata": {},
   "outputs": [],
   "source": [
    "out.clear_output()"
   ]
  },
  {
   "cell_type": "markdown",
   "metadata": {},
   "source": [
    "## 输出部件作为交互的基础\n",
    "\n",
    "输出部件构成了交互和相关方法实现的基础。它也可以单独使用，以创建包含部件和代码输出的丰富布局。自定义交互界面外观的一种简单方法是使用 `interactive_output` 函数将控件与一个函数连接起来，该函数的输出被捕获在返回的输出部件中。在下一个示例中，我们将控件垂直堆叠，然后将函数的输出放到右侧。"
   ]
  },
  {
   "cell_type": "code",
   "execution_count": 9,
   "metadata": {},
   "outputs": [
    {
     "data": {
      "application/vnd.jupyter.widget-view+json": {
       "model_id": "813cfb371e2b48c591ec2daaa49fcfec",
       "version_major": 2,
       "version_minor": 0
      },
      "text/plain": [
       "HBox(children=(VBox(children=(IntSlider(value=0, description='a'), IntSlider(value=0, description='b'), IntSli…"
      ]
     },
     "execution_count": 9,
     "metadata": {},
     "output_type": "execute_result"
    }
   ],
   "source": [
    "a = widgets.IntSlider(description='a')\n",
    "b = widgets.IntSlider(description='b')\n",
    "c = widgets.IntSlider(description='c')\n",
    "def f(a, b, c):\n",
    "    print('{}*{}*{}={}'.format(a, b, c, a*b*c))\n",
    "\n",
    "out = widgets.interactive_output(f, {'a': a, 'b': b, 'c': c})\n",
    "\n",
    "widgets.HBox([widgets.VBox([a, b, c]), out])"
   ]
  },
  {
   "cell_type": "markdown",
   "metadata": {},
   "source": [
    "## 使用输出部件调试回调中的错误\n",
    "\n",
    "在某些平台上，比如 JupyterLab，由部件回调生成的输出（例如，附加到部件特质的 `.observe` 方法或按钮部件的 `.on_click` 方法上的函数）不会在任何地方显示。即使在其他平台上，也不明确这些输出应该出现在哪个单元格中。这可能使得调试回调函数中的错误更具挑战性。\n",
    "\n",
    "一个有效访问部件回调输出的工具是使用输出部件的捕获方法装饰回调函数。然后你可以在新的单元格中显示该部件以查看回调输出。"
   ]
  },
  {
   "cell_type": "code",
   "execution_count": 10,
   "metadata": {},
   "outputs": [
    {
     "data": {
      "application/vnd.jupyter.widget-view+json": {
       "model_id": "644394822769478e83c5ab13b0ae52c5",
       "version_major": 2,
       "version_minor": 0
      },
      "text/plain": [
       "Button(description='click me to raise an exception', layout=Layout(width='300px'), style=ButtonStyle())"
      ]
     },
     "execution_count": 10,
     "metadata": {},
     "output_type": "execute_result"
    }
   ],
   "source": [
    "debug_view = widgets.Output(layout={'border': '1px solid black'})\n",
    "\n",
    "@debug_view.capture(clear_output=True)\n",
    "def bad_callback(event):\n",
    "    print('This is about to explode')\n",
    "    return 1.0 / 0.0\n",
    "\n",
    "button = widgets.Button(\n",
    "    description='click me to raise an exception',\n",
    "    layout={'width': '300px'}\n",
    ")\n",
    "button.on_click(bad_callback)\n",
    "button"
   ]
  },
  {
   "cell_type": "code",
   "execution_count": 11,
   "metadata": {},
   "outputs": [
    {
     "data": {
      "application/vnd.jupyter.widget-view+json": {
       "model_id": "00eddd1685c54a84a05c1e7c9fa8763b",
       "version_major": 2,
       "version_minor": 0
      },
      "text/plain": [
       "Output(layout=Layout(border_bottom='1px solid black', border_left='1px solid black', border_right='1px solid b…"
      ]
     },
     "execution_count": 11,
     "metadata": {},
     "output_type": "execute_result"
    }
   ],
   "source": [
    "debug_view"
   ]
  },
  {
   "cell_type": "markdown",
   "metadata": {},
   "source": [
    "## 将输出部件与日志模块集成\n",
    "\n",
    "虽然使用 `.capture` 装饰器对于理解和调试单个回调很有用，但它不适用于更大的应用程序。通常，在较大的应用程序中，人们可能会使用 [logging](https://docs.python.org/3/library/logging.html) 模块来打印程序状态的信息。然而，在部件应用程序的情况下，不清楚日志输出应该去哪里。\n",
    "\n",
    "一个有用的模式是创建一个自定义的 [handler](https://docs.python.org/3/library/logging.html#handler-objects)，它将日志重定向到输出部件。然后可以在新的单元格中显示输出部件，以在应用程序运行时监视它。"
   ]
  },
  {
   "cell_type": "code",
   "execution_count": 12,
   "metadata": {},
   "outputs": [],
   "source": [
    "import ipywidgets as widgets\n",
    "import logging\n",
    "\n",
    "class OutputWidgetHandler(logging.Handler):\n",
    "    \"\"\" Custom logging handler sending logs to an output widget \"\"\"\n",
    "\n",
    "    def __init__(self, *args, **kwargs):\n",
    "        super(OutputWidgetHandler, self).__init__(*args, **kwargs)\n",
    "        layout = {\n",
    "            'width': '100%', \n",
    "            'height': '160px', \n",
    "            'border': '1px solid black'\n",
    "        }\n",
    "        self.out = widgets.Output(layout=layout)\n",
    "\n",
    "    def emit(self, record):\n",
    "        \"\"\" Overload of logging.Handler method \"\"\"\n",
    "        formatted_record = self.format(record)\n",
    "        new_output = {\n",
    "            'name': 'stdout', \n",
    "            'output_type': 'stream', \n",
    "            'text': formatted_record+'\\n'\n",
    "        }\n",
    "        self.out.outputs = (new_output, ) + self.out.outputs\n",
    "        \n",
    "    def show_logs(self):\n",
    "        \"\"\" Show the logs \"\"\"\n",
    "        display(self.out)\n",
    "    \n",
    "    def clear_logs(self):\n",
    "        \"\"\" Clear the current logs \"\"\"\n",
    "        self.out.clear_output()\n",
    "\n",
    "\n",
    "logger = logging.getLogger(__name__)\n",
    "handler = OutputWidgetHandler()\n",
    "handler.setFormatter(logging.Formatter('%(asctime)s  - [%(levelname)s] %(message)s'))\n",
    "logger.addHandler(handler)\n",
    "logger.setLevel(logging.INFO)"
   ]
  },
  {
   "cell_type": "code",
   "execution_count": 13,
   "metadata": {},
   "outputs": [
    {
     "data": {
      "application/vnd.jupyter.widget-view+json": {
       "model_id": "68b45f5ab6b343a9ba24ef23ea1a6001",
       "version_major": 2,
       "version_minor": 0
      },
      "text/plain": [
       "Output(layout=Layout(border_bottom='1px solid black', border_left='1px solid black', border_right='1px solid b…"
      ]
     },
     "metadata": {},
     "output_type": "display_data"
    }
   ],
   "source": [
    "handler.show_logs()"
   ]
  },
  {
   "cell_type": "code",
   "execution_count": 14,
   "metadata": {},
   "outputs": [],
   "source": [
    "handler.clear_logs()\n",
    "logger.info('Starting program')\n",
    "\n",
    "try:\n",
    "    logger.info('About to try something dangerous...')\n",
    "    1.0/0.0\n",
    "except Exception as e:\n",
    "    logger.exception('An error occurred!')"
   ]
  },
  {
   "cell_type": "markdown",
   "metadata": {},
   "source": [
    "## 从后台线程与输出部件交互\n",
    "\n",
    "在显示由后台线程产生的输出时，Jupyter的 `display` 机制可能违反直觉。后台线程的输出被打印到主线程当前正在写入的任何单元格。要直接看到这一点，创建一个反复打印标准输出的线程：\n",
    "\n",
    "```python\n",
    "import threading\n",
    "import time\n",
    "\n",
    "def run():\n",
    "    for i in itertools.count(0):\n",
    "        time.sleep(1)\n",
    "        print('output from background {}'.format(i))\n",
    "        \n",
    "t = threading.Thread(target=run)\n",
    "t.start()\n",
    "```\n",
    "\n",
    "这总是在当前活动单元格中打印，而不是启动后台线程的单元格。\n",
    "\n",
    "这可能导致输出部件出现意外行为。在输出部件捕获输出的时间内，笔记本中生成的任何输出，无论线程如何，都会进入输出部件。\n",
    "\n",
    "避免意外的最佳方式是*永远*不要在多个线程生成输出的环境中使用输出部件的上下文管理器。相反，我们可以将输出部件传递给在线程中执行的函数，并使用 `append_display_data()`、`append_stdout()` 或 `append_stderr()` 方法将可显示的输出附加到输出部件。"
   ]
  },
  {
   "cell_type": "code",
   "execution_count": 15,
   "metadata": {},
   "outputs": [
    {
     "data": {
      "text/plain": [
       "'Display in main thread'"
      ]
     },
     "metadata": {},
     "output_type": "display_data"
    },
    {
     "data": {
      "application/vnd.jupyter.widget-view+json": {
       "model_id": "06fcb2d353bf48feb518e453900027d3",
       "version_major": 2,
       "version_minor": 0
      },
      "text/plain": [
       "Output()"
      ]
     },
     "metadata": {},
     "output_type": "display_data"
    }
   ],
   "source": [
    "import threading\n",
    "from IPython.display import display, HTML\n",
    "import ipywidgets as widgets\n",
    "import time\n",
    "\n",
    "def thread_func(something, out):\n",
    "    for i in range(1, 5):\n",
    "        time.sleep(0.3)\n",
    "        out.append_stdout('{} {} {}\\n'.format(i, '**'*i, something))\n",
    "    out.append_display_data(HTML(\"<em>All done!</em>\"))\n",
    "\n",
    "display('Display in main thread')\n",
    "out = widgets.Output()\n",
    "# Now the key: the container is displayed (while empty) in the main thread\n",
    "display(out)\n",
    "\n",
    "thread = threading.Thread(\n",
    "    target=thread_func,\n",
    "    args=(\"some text\", out))\n",
    "thread.start()"
   ]
  },
  {
   "cell_type": "code",
   "execution_count": 16,
   "metadata": {},
   "outputs": [],
   "source": [
    "thread.join()"
   ]
  }
 ],
 "metadata": {
  "kernelspec": {
   "display_name": "Python 3 (ipykernel)",
   "language": "python",
   "name": "python3"
  },
  "language_info": {
   "codemirror_mode": {
    "name": "ipython",
    "version": 3
   },
   "file_extension": ".py",
   "mimetype": "text/x-python",
   "name": "python",
   "nbconvert_exporter": "python",
   "pygments_lexer": "ipython3",
   "version": "3.11.7"
  }
 },
 "nbformat": 4,
 "nbformat_minor": 4
}
