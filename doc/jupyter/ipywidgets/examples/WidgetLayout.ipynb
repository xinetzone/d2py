{
 "cells": [
  {
   "cell_type": "markdown",
   "metadata": {},
   "source": [
    "(ipywidgets:WidgetLayout)=\n",
    "# Jupyter小部件的布局\n",
    "\n",
    "本笔记本展示了如何布局 Jupyter 交互式小部件，以构建丰富且具有 *响应性* 的基于小部件的应用程序。"
   ]
  },
  {
   "cell_type": "markdown",
   "metadata": {},
   "source": [
    "## `layout` 属性\n",
    "\n",
    "Jupyter 交互式小部件具有一个 `layout` 属性，它暴露了一些影响小部件布局的 CSS 属性。\n",
    "\n",
    "### 暴露的 CSS 属性\n",
    "\n",
    "<div class=\"-info\" style=\"margin: 20px\">\n",
    "以下属性映射到同名 CSS 属性的值（下划线被替换为短横线），应用于相应小部件的顶级 DOM 元素。\n",
    "</div>\n",
    "\n",
    "#### 尺寸\n",
    "\n",
    "- `height`\n",
    "- `width`\n",
    "- `max_height`\n",
    "- `max_width`\n",
    "- `min_height`\n",
    "- `min_width`\n",
    "\n",
    "#### 显示\n",
    "\n",
    "- `visibility`\n",
    "- `display`\n",
    "- `overflow`\n",
    "\n",
    "#### 盒模型\n",
    "\n",
    "- `border`\n",
    "- `margin`\n",
    "- `padding`\n",
    "\n",
    "#### 定位\n",
    "\n",
    "- `top`\n",
    "- `left`\n",
    "- `bottom`\n",
    "- `right`\n",
    "\n",
    "#### 弹性盒子\n",
    "\n",
    "- `order`\n",
    "- `flex_flow`\n",
    "- `align_items`\n",
    "- `flex`\n",
    "- `align_self`\n",
    "- `align_content`\n",
    "- `justify_content`\n",
    "\n",
    "#### 网格布局\n",
    "\n",
    "- `grid_auto_columns`\n",
    "- `grid_auto_flow`\n",
    "- `grid_auto_rows`\n",
    "- `grid_gap`\n",
    "- `grid_template`\n",
    "- `grid_row`\n",
    "- `grid_column`\n",
    "\n",
    "### 简写 CSS 属性\n",
    "\n",
    "您可能已经注意到，某些 CSS 属性如 `margin-[top/right/bottom/left]` 似乎缺失了。对于 `padding-[top/right/bottom/left]` 等也是如此。\n",
    "\n",
    "实际上，您可以通过单独的 `margin` 属性原子性地指定 `[top/right/bottom/left]` 边距，通过传递字符串 `'100px 150px 100px 80px'` 来分别设置 `top`、`right`、`bottom` 和 `left` 边距为 `100`、`150`、`100` 和 `80` 像素。\n",
    "\n",
    "同样，`flex` 属性可以包含 `flex-grow`、`flex-shrink` 和 `flex-basis` 的值。`border` 属性是 `border-width`、`border-style (必需)` 和 `border-color` 的简写属性。"
   ]
  },
  {
   "cell_type": "markdown",
   "metadata": {},
   "source": [
    "### 简单示例\n",
    "\n",
    "以下示例展示了如何调整 `Button` 的大小，使其视图的高度为 `80px`，宽度为可用空间的 `50%`："
   ]
  },
  {
   "cell_type": "code",
   "execution_count": 1,
   "metadata": {
    "tags": [
     "remove-cell"
    ]
   },
   "outputs": [
    {
     "name": "stdout",
     "output_type": "stream",
     "text": [
      "Note: you may need to restart the kernel to use updated packages.\n"
     ]
    }
   ],
   "source": [
    "# Imports for JupyterLite\n",
    "%pip install -q ipywidgets"
   ]
  },
  {
   "cell_type": "code",
   "execution_count": 2,
   "metadata": {},
   "outputs": [
    {
     "data": {
      "application/vnd.jupyter.widget-view+json": {
       "model_id": "9a6fd7c52ac94b1690fffd5c156dac28",
       "version_major": 2,
       "version_minor": 0
      },
      "text/plain": [
       "Button(description='(50% width, 80px height) button', layout=Layout(height='80px', width='50%'), style=ButtonS…"
      ]
     },
     "execution_count": 2,
     "metadata": {},
     "output_type": "execute_result"
    }
   ],
   "source": [
    "from ipywidgets import Button, Layout\n",
    "\n",
    "b = Button(description='(50% width, 80px height) button',\n",
    "           layout=Layout(width='50%', height='80px'))\n",
    "b"
   ]
  },
  {
   "cell_type": "markdown",
   "metadata": {},
   "source": [
    "`layout` 属性可以在多个小部件之间共享，并直接分配。"
   ]
  },
  {
   "cell_type": "code",
   "execution_count": 3,
   "metadata": {},
   "outputs": [
    {
     "data": {
      "application/vnd.jupyter.widget-view+json": {
       "model_id": "b219a448a45b4cc98e23125d794d254a",
       "version_major": 2,
       "version_minor": 0
      },
      "text/plain": [
       "Button(description='Another button with the same layout', layout=Layout(height='80px', width='50%'), style=But…"
      ]
     },
     "execution_count": 3,
     "metadata": {},
     "output_type": "execute_result"
    }
   ],
   "source": [
    "Button(description='Another button with the same layout', layout=b.layout)"
   ]
  },
  {
   "cell_type": "markdown",
   "metadata": {},
   "source": [
    "### 描述\n",
    "\n",
    "您可能已经注意到，长描述被截断了。这是因为描述长度默认是固定的。"
   ]
  },
  {
   "cell_type": "code",
   "execution_count": 4,
   "metadata": {},
   "outputs": [
    {
     "data": {
      "application/vnd.jupyter.widget-view+json": {
       "model_id": "faea454e773d4b058d664e2b1f770da1",
       "version_major": 2,
       "version_minor": 0
      },
      "text/plain": [
       "IntSlider(value=0, description='A too long description')"
      ]
     },
     "execution_count": 4,
     "metadata": {},
     "output_type": "execute_result"
    }
   ],
   "source": [
    "from ipywidgets import IntSlider\n",
    "\n",
    "IntSlider(description='A too long description')"
   ]
  },
  {
   "cell_type": "markdown",
   "metadata": {},
   "source": [
    "您可以更改描述的长度以适应描述文本。然而，这将使小部件本身变得更短。您可以通过使用小部件的样式调整描述宽度和小部件宽度来同时更改这两者。"
   ]
  },
  {
   "cell_type": "code",
   "execution_count": 5,
   "metadata": {},
   "outputs": [
    {
     "data": {
      "application/vnd.jupyter.widget-view+json": {
       "model_id": "5aee77ce6ad840b2a3dac3ecbb4f4239",
       "version_major": 2,
       "version_minor": 0
      },
      "text/plain": [
       "IntSlider(value=0, description='A too long description', style=SliderStyle(description_width='initial'))"
      ]
     },
     "execution_count": 5,
     "metadata": {},
     "output_type": "execute_result"
    }
   ],
   "source": [
    "style = {'description_width': 'initial'}\n",
    "IntSlider(description='A too long description', style=style)"
   ]
  },
  {
   "cell_type": "markdown",
   "metadata": {},
   "source": [
    "如果您需要更大的灵活性来布局小部件和描述，您可以直接使用标签小部件。"
   ]
  },
  {
   "cell_type": "code",
   "execution_count": 6,
   "metadata": {},
   "outputs": [
    {
     "data": {
      "application/vnd.jupyter.widget-view+json": {
       "model_id": "8c04f70768d04422a9fd3c945877e301",
       "version_major": 2,
       "version_minor": 0
      },
      "text/plain": [
       "HBox(children=(Label(value='A too long description'), IntSlider(value=0)))"
      ]
     },
     "execution_count": 6,
     "metadata": {},
     "output_type": "execute_result"
    }
   ],
   "source": [
    "from ipywidgets import HBox, Label\n",
    "\n",
    "HBox([Label('A too long description'), IntSlider()])"
   ]
  },
  {
   "cell_type": "markdown",
   "metadata": {},
   "source": [
    "### 自然尺寸，以及使用 HBox 和 VBox 的排列\n",
    "\n",
    "大多数核心小部件都有默认的高度和宽度，可以很好地拼接在一起。这使得基于 `HBox` 和 `VBox` 辅助函数的简单布局能够自然对齐："
   ]
  },
  {
   "cell_type": "code",
   "execution_count": 7,
   "metadata": {},
   "outputs": [
    {
     "data": {
      "application/vnd.jupyter.widget-view+json": {
       "model_id": "2a6a29a91e3645a3973f2e3a8596cc18",
       "version_major": 2,
       "version_minor": 0
      },
      "text/plain": [
       "HBox(children=(VBox(children=(Button(description='correct', style=ButtonStyle()), Button(description='horse', …"
      ]
     },
     "execution_count": 7,
     "metadata": {},
     "output_type": "execute_result"
    }
   ],
   "source": [
    "from ipywidgets import Button, HBox, VBox\n",
    "\n",
    "words = ['correct', 'horse', 'battery', 'staple']\n",
    "items = [Button(description=w) for w in words]\n",
    "left_box = VBox([items[0], items[1]])\n",
    "right_box = VBox([items[2], items[3]])\n",
    "HBox([left_box, right_box])"
   ]
  },
  {
   "cell_type": "markdown",
   "metadata": {},
   "source": [
    "### LaTeX\n",
    "\n",
    "像滑块和文本输入这样的小部件具有可以渲染 LaTeX 方程的描述属性。`Label` 小部件也可以渲染 LaTeX 方程。"
   ]
  },
  {
   "cell_type": "code",
   "execution_count": 8,
   "metadata": {},
   "outputs": [],
   "source": [
    "from ipywidgets import IntSlider, Label"
   ]
  },
  {
   "cell_type": "code",
   "execution_count": 9,
   "metadata": {},
   "outputs": [
    {
     "data": {
      "application/vnd.jupyter.widget-view+json": {
       "model_id": "166f43db57cb48f885e424fab04c3f21",
       "version_major": 2,
       "version_minor": 0
      },
      "text/plain": [
       "IntSlider(value=0, description='\\\\(\\\\int_0^t f\\\\)')"
      ]
     },
     "execution_count": 9,
     "metadata": {},
     "output_type": "execute_result"
    }
   ],
   "source": [
    "IntSlider(description=r'\\(\\int_0^t f\\)')"
   ]
  },
  {
   "cell_type": "code",
   "execution_count": 10,
   "metadata": {},
   "outputs": [
    {
     "data": {
      "application/vnd.jupyter.widget-view+json": {
       "model_id": "8ede853d16f94556aa7062a0b655c46c",
       "version_major": 2,
       "version_minor": 0
      },
      "text/plain": [
       "Label(value='\\\\(e=mc^2\\\\)')"
      ]
     },
     "execution_count": 10,
     "metadata": {},
     "output_type": "execute_result"
    }
   ],
   "source": [
    "Label(value=r'\\(e=mc^2\\)')"
   ]
  },
  {
   "cell_type": "markdown",
   "metadata": {},
   "source": [
    "### 数字格式化\n",
    "\n",
    "滑块有一个读数区域，可以使用 Python 的 [格式说明小型语言](https://docs.python.org/3/library/string.html#format-specification-mini-language) 进行格式化。如果读数区域的空间对于滑块值的字符串表示来说太窄，将应用不同的样式以显示并非所有数字都可见。"
   ]
  },
  {
   "cell_type": "markdown",
   "metadata": {},
   "source": [
    "## 弹性盒子布局\n",
    "\n",
    "上述的`HBox`和`VBox`类是`Box`小部件的特殊案例。\n",
    "\n",
    "`Box`小部件实现了完整的CSS弹性盒子规范以及网格布局规范，使得在 Jupyter 笔记本中可以实现丰富的响应式布局。它旨在提供一种高效的方式，用于在容器中对项目进行布局、对齐和分配空间。\n",
    "\n",
    "再次强调，整个弹性盒子规范可以通过容器小部件（`Box`）的`layout`属性以及包含的项目来暴露。可以在所有包含的项目之间共享相同的`layout`属性。\n",
    "\n",
    "### 致谢\n",
    "\n",
    "以下关于弹性盒子布局的教程遵循了Chris Coyier的文章[《A Complete Guide to Flexbox》](https://css-tricks.com/snippets/css/a-guide-to-flexbox/) 的思路，并且在获得了[许可的情况下](https://css-tricks.com/license/)，使用了该文章的文本和各种图片。"
   ]
  },
  {
   "cell_type": "markdown",
   "metadata": {},
   "source": [
    "### 基本概念和术语\n",
    "\n",
    "由于flexbox是一个完整的模块，而不仅仅是一个属性，它涉及到很多方面，包括它的一整套属性。其中一些属性是设置在容器（父元素，被称为\"flex容器\"）上的，而其他的则是设置在子元素（被称为\"flex项目\"）上的。\n",
    "\n",
    "如果常规布局是基于块和内联流动方向的，那么flex布局则是基于\"flex流动方向\"。请参考规范中的这张图，解释了flex布局背后的主要思想。\n",
    "\n",
    "![Flexbox](./images/flexbox.png)\n",
    "\n",
    "基本上，项目将按照\"主轴\"（从main-start到main-end）或\"交叉轴\"（从cross-start到cross-end）进行布局。\n",
    "\n",
    "- \"主轴\" - flex容器的主轴是沿其排列flex项目的主要轴。请注意，它不一定是水平的；它取决于flex-direction属性（见下文）。\n",
    "- \"main-start | main-end\" - flex项目从容器的main-start开始放置，向main-end方向延伸。\n",
    "- \"主轴尺寸\" - flex项目的宽度或高度（取决于主轴维度）是项目的主轴尺寸。flex项目的主轴尺寸属性是'width'或'height'属性，取决于主轴维度。\n",
    "交叉轴 - 与主轴垂直的轴称为交叉轴。其方向取决于主轴方向。\n",
    "- \"cross-start | cross-end\" - flex线用项目填充，并从flex容器的cross-start一侧开始放置，向cross-end一侧延伸。\n",
    "- \"交叉尺寸\" - flex项目的宽度或高度（取决于交叉维度）是项目的交叉尺寸。交叉尺寸属性是'width'或'height'，取决于交叉维度。\n",
    "\n",
    "### 父元素的属性\n",
    "\n",
    "![Container](./images/flex-container.svg)\n",
    "\n",
    "#### display\n",
    "\n",
    "`display`可以是`flex`或`inline-flex`。这定义了一个flex容器（块级或内联）。\n",
    "\n",
    "#### flex-flow\n",
    "\n",
    "`flex-flow`是`flex-direction`和`flex-wrap`属性的简写，它们共同定义了flex容器的主轴和交叉轴。默认值是`row nowrap`。\n",
    "\n",
    "- `flex-direction` (column-reverse | column | row | row-reverse )\n",
    "\n",
    "  这建立了主轴，从而定义了flex项目在flex容器中的放置方向。Flexbox是一个（除了可选的包裹外）单方向布局概念。可以将flex项目视为主要是水平行或垂直列排列。\n",
    "![Direction](./images/flex-direction1.svg)\n",
    "\n",
    "- `flex-wrap` (nowrap | wrap | wrap-reverse)\n",
    "\n",
    "  默认情况下，flex项目都会尝试适应一行。你可以使用这个属性改变这一点，允许项目根据需要进行换行。方向在这里也起作用，决定了新行堆叠的方向。\n",
    "![Wrap](./images/flex-wrap.svg)\n",
    "\n",
    "#### justify-content\n",
    "\n",
    "`justify-content`可以是`flex-start`、`flex-end`、`center`、`space-between`、`space-around`之一。这定义了沿着主轴的对齐方式。它有助于分配剩余的空闲空间，当一行上的所有flex项目都是不可变的，或者它们是灵活的但已达到最大大小时。当项目溢出该行时，它也会对项目的对齐产生一些控制。\n",
    "![Justify](./images/justify-content.svg)\n",
    "\n",
    "#### align-items\n",
    "\n",
    "`align-items`可以是`flex-start`、`flex-end`、`center`、`baseline`、`stretch`之一。这定义了在当前行上沿着交叉轴布局flex项目的默认行为。可以将其视为交叉轴（与主轴垂直）版本的justify-content。\n",
    "![Items](./images/align-items.svg)\n",
    "\n",
    "#### align-content\n",
    "`align-content`可以是`flex-start`、`flex-end`、`center`、`baseline`、`stretch`之一。当交叉轴有多余的空间时，它会对flex容器的行进行对齐，类似于justify-content如何沿着主轴对齐单个项目。\n",
    "![Items](./images/align-content.svg)\n",
    "\n",
    "**注意**：当只有一行flex项目时，此属性无效。\n",
    "\n",
    "### 项目的属性\n",
    "\n",
    "![Item](./images/flex-items.svg)\n",
    "\n",
    "如果父元素不是flexbox容器（即其display属性等于flex或inline-flex），则项目的与flexbox相关的CSS属性不会有任何影响。\n",
    "\n",
    "#### order\n",
    "默认情况下，flex项目按源顺序布局。然而，`order`属性控制它们在flex容器中出现的顺序。\n",
    "\n",
    "```\n",
    "<img alt=\"Order\" style=\"width: 500px;\"/>\n",
    "```\n",
    "\n",
    "#### flex\n",
    "`flex`是三个属性的简写，分别是`flex-grow`、`flex-shrink`和`flex-basis`。第二个和第三个参数（`flex-shrink`和`flex-basis`）是可选的。默认值是`0 1 auto`。\n",
    "\n",
    "- `flex-grow`\n",
    "\n",
    "  这定义了flex项目在必要时增长的能力。它接受一个无单位的值，作为比例。它指示了项目应该在flex容器中占据多少可用空间。\n",
    "\n",
    "  如果所有项目的flex-grow设置为1，则容器中剩余的空间将平均分配给所有子元素。如果其中一个子元素的值为2，则剩余的空间将占据其他空间的两倍（或至少会尝试这样做）。\n",
    "  ![Grow](./images/flex-grow.svg)\n",
    "\n",
    "- `flex-shrink`\n",
    "\n",
    "  这定义了flex项目在必要时缩小的能力。\n",
    "\n",
    "- `flex-basis`\n",
    "\n",
    "  这定义了元素在剩余空间分配之前的默认大小。它可以是一个长度（例如`20%`、`5rem`等）或一个关键字。`auto`关键字意味着\"查看我的宽度或高度属性\"。\n",
    "\n",
    "#### align-self\n",
    "\n",
    "`align-self`允许默认对齐（或由align-items指定的对齐）被单个flex项目覆盖。\n",
    "\n",
    "![Align](./images/align-self.svg)\n",
    "\n",
    "### VBox和HBox助手\n",
    "\n",
    "VBox 和 HBox 助手类提供了简单的默认设置，以垂直和水平方式排列子小部件。它们大致相当于："
   ]
  },
  {
   "cell_type": "markdown",
   "metadata": {},
   "source": [
    "\n",
    "\n",
    "```Python\n",
    "def VBox(*pargs, **kwargs):\n",
    "    \"\"\"Displays multiple widgets vertically using the flexible box model.\"\"\"\n",
    "    box = Box(*pargs, **kwargs)\n",
    "    box.layout.display = 'flex'\n",
    "    box.layout.flex_flow = 'column'\n",
    "    box.layout.align_items = 'stretch'\n",
    "    return box\n",
    "\n",
    "def HBox(*pargs, **kwargs):\n",
    "    \"\"\"Displays multiple widgets horizontally using the flexible box model.\"\"\"\n",
    "    box = Box(*pargs, **kwargs)\n",
    "    box.layout.display = 'flex'\n",
    "    box.layout.align_items = 'stretch'\n",
    "    return box\n",
    "```\n",
    "\n",
    "\n",
    "### 示例\n",
    "\n",
    "四个按钮在一个 VBox 中。项目在垂直盒子中伸展到最大宽度，该垂直盒子占据可用空间的 $50\\%$。"
   ]
  },
  {
   "cell_type": "code",
   "execution_count": 11,
   "metadata": {},
   "outputs": [
    {
     "data": {
      "application/vnd.jupyter.widget-view+json": {
       "model_id": "f69ce98f9df3410cb64348b46f18db93",
       "version_major": 2,
       "version_minor": 0
      },
      "text/plain": [
       "Box(children=(Button(button_style='danger', description='correct', layout=Layout(width='auto'), style=ButtonSt…"
      ]
     },
     "execution_count": 11,
     "metadata": {},
     "output_type": "execute_result"
    }
   ],
   "source": [
    "from ipywidgets import Layout, Button, Box\n",
    "\n",
    "items_layout = Layout( width='auto')     # override the default width of the button to 'auto' to let the button grow\n",
    "\n",
    "box_layout = Layout(display='flex',\n",
    "                    flex_flow='column', \n",
    "                    align_items='stretch', \n",
    "                    border='solid',\n",
    "                    width='50%')\n",
    "\n",
    "words = ['correct', 'horse', 'battery', 'staple']\n",
    "items = [Button(description=word, layout=items_layout, button_style='danger') for word in words]\n",
    "box = Box(children=items, layout=box_layout)\n",
    "box"
   ]
  },
  {
   "cell_type": "markdown",
   "metadata": {},
   "source": [
    "三个按钮在一个 HBox 中。项目根据它们的重量比例进行弹性伸缩。"
   ]
  },
  {
   "cell_type": "code",
   "execution_count": 12,
   "metadata": {},
   "outputs": [
    {
     "data": {
      "application/vnd.jupyter.widget-view+json": {
       "model_id": "ca819eb919c84de9b7bcdfb9a059eebe",
       "version_major": 2,
       "version_minor": 0
      },
      "text/plain": [
       "VBox(children=(Box(children=(Button(button_style='danger', description='weight=1; auto', layout=Layout(flex='1…"
      ]
     },
     "execution_count": 12,
     "metadata": {},
     "output_type": "execute_result"
    }
   ],
   "source": [
    "from ipywidgets import Layout, Button, Box, VBox\n",
    "\n",
    "# Items flex proportionally to the weight and the left over space around the text \n",
    "items_auto = [\n",
    "    Button(description='weight=1; auto', layout=Layout(flex='1 1 auto', width='auto'), button_style='danger'),\n",
    "    Button(description='weight=3; auto', layout=Layout(flex='3 1 auto', width='auto'), button_style='danger'),\n",
    "    Button(description='weight=1; auto', layout=Layout(flex='1 1 auto', width='auto'), button_style='danger'),\n",
    " ]\n",
    "\n",
    "# Items flex proportionally to the weight \n",
    "items_0 = [\n",
    "    Button(description='weight=1; 0%', layout=Layout(flex='1 1 0%', width='auto'), button_style='danger'),\n",
    "    Button(description='weight=3; 0%', layout=Layout(flex='3 1 0%', width='auto'), button_style='danger'),\n",
    "    Button(description='weight=1; 0%', layout=Layout(flex='1 1 0%', width='auto'), button_style='danger'),\n",
    " ]\n",
    "box_layout = Layout(display='flex',\n",
    "                    flex_flow='row', \n",
    "                    align_items='stretch', \n",
    "                    width='70%')\n",
    "box_auto = Box(children=items_auto, layout=box_layout)\n",
    "box_0 = Box(children=items_0, layout=box_layout)\n",
    "VBox([box_auto, box_0])"
   ]
  },
  {
   "cell_type": "markdown",
   "metadata": {},
   "source": [
    "**一个更高级的例子：一个响应式表单。**\n",
    "\n",
    "该表单是一个宽度为 `'50%'` 的 `VBox`。`VBox` 中的每一行都是一个 `HBox`，它使用空间间隔来对齐内容。"
   ]
  },
  {
   "cell_type": "code",
   "execution_count": 13,
   "metadata": {},
   "outputs": [
    {
     "data": {
      "application/vnd.jupyter.widget-view+json": {
       "model_id": "ae002098cf4a4a9882d3493e348c351f",
       "version_major": 2,
       "version_minor": 0
      },
      "text/plain": [
       "Box(children=(Box(children=(Label(value='Age of the captain'), IntSlider(value=40, max=60, min=40)), layout=La…"
      ]
     },
     "execution_count": 13,
     "metadata": {},
     "output_type": "execute_result"
    }
   ],
   "source": [
    "from ipywidgets import Layout, Button, Box, FloatText, Textarea, Dropdown, Label, IntSlider\n",
    "\n",
    "form_item_layout = Layout(\n",
    "    display='flex',\n",
    "    flex_flow='row',\n",
    "    justify_content='space-between'\n",
    ")\n",
    "\n",
    "form_items = [\n",
    "    Box([Label(value='Age of the captain'), IntSlider(min=40, max=60)], layout=form_item_layout),\n",
    "    Box([Label(value='Egg style'), \n",
    "         Dropdown(options=['Scrambled', 'Sunny side up', 'Over easy'])], layout=form_item_layout),\n",
    "    Box([Label(value='Ship size'), \n",
    "         FloatText()], layout=form_item_layout),\n",
    "    Box([Label(value='Information'), \n",
    "         Textarea()], layout=form_item_layout)\n",
    "]\n",
    "\n",
    "form = Box(form_items, layout=Layout(\n",
    "    display='flex',\n",
    "    flex_flow='column',\n",
    "    border='solid 2px',\n",
    "    align_items='stretch',\n",
    "    width='50%'\n",
    "))\n",
    "form"
   ]
  },
  {
   "cell_type": "markdown",
   "metadata": {},
   "source": [
    "**一个更高级的例子：轮播图。**"
   ]
  },
  {
   "cell_type": "code",
   "execution_count": 14,
   "metadata": {},
   "outputs": [
    {
     "data": {
      "application/vnd.jupyter.widget-view+json": {
       "model_id": "e24f2ef0faee42c793b1dad16b200ca2",
       "version_major": 2,
       "version_minor": 0
      },
      "text/plain": [
       "VBox(children=(Label(value='Scroll horizontally:'), Box(children=(Button(button_style='warning', description='…"
      ]
     },
     "execution_count": 14,
     "metadata": {},
     "output_type": "execute_result"
    }
   ],
   "source": [
    "from ipywidgets import Layout, Button, VBox, Label\n",
    "\n",
    "item_layout = Layout(height='100px', min_width='40px')\n",
    "items = [Button(layout=item_layout, description=str(i), button_style='warning') for i in range(40)]\n",
    "box_layout = Layout(overflow='scroll hidden',\n",
    "                    border='3px solid black',\n",
    "                    width='500px',\n",
    "                    height='',\n",
    "                    flex_flow='row',\n",
    "                    display='flex')\n",
    "carousel = Box(children=items, layout=box_layout)\n",
    "VBox([Label('Scroll horizontally:'), carousel])"
   ]
  },
  {
   "cell_type": "markdown",
   "metadata": {},
   "source": [
    "## 网格布局\n",
    "\n",
    "`GridBox`类是`Box`小部件的一个特例。\n",
    "\n",
    "`Box`小部件实现了完整的CSS弹性盒子规范，使得在Jupyter笔记本中可以实现丰富的响应式布局。它旨在提供一种高效的方式，用于在容器中对项目进行布局、对齐和分配空间。\n",
    "\n",
    "再次强调，整个网格布局规范可以通过容器小部件（`Box`）的`layout`属性以及包含的项目来暴露。可以在所有包含的项目之间共享相同的`layout`属性。\n",
    "\n",
    "以下的弹性盒子教程遵循了Chris House的文章《A Complete Guide to Grid》的思路，并在获得许可的情况下，使用了该文章的文本和各种图像。\n",
    "\n",
    "### 基础知识和浏览器支持\n",
    "\n",
    "要开始使用，你必须将一个容器元素定义为网格，使用`display: grid`，通过`grid-template-rows`、`grid-template-columns`和`grid_template_areas`设置行和列的大小，然后使用`grid-column`和`grid-row`将其子元素放置到网格中。与弹性盒子类似，网格项目的来源顺序并不重要。你的CSS可以以任何顺序放置它们，这使得使用媒体查询重新排列网格变得非常容易。想象一下定义整个页面的布局，然后完全重新安排它以适应不同的屏幕宽度，只需几行CSS代码。网格是迄今为止引入的最强大的CSS模块之一。\n",
    "\n",
    "截至2017年3月，大多数浏览器都本机支持无前缀的CSS Grid：Chrome（包括在Android上）、Firefox、Safari（包括在iOS上）和Opera。另一方面，Internet Explorer 10和11支持它，但使用的是过时的语法。现在就是使用网格构建的时候！\n",
    "\n",
    "### 重要术语\n",
    "\n",
    "在深入了解网格的概念之前，了解术语非常重要。由于这里涉及的术语在概念上都有些相似，如果你不先记住网格规范定义的含义，就很容易将它们混淆。不过别担心，它们并不多。\n",
    "\n",
    "**网格容器**\n",
    "\n",
    "应用`display: grid`的元素。它是所有网格项目的直接父级。在这个例子中，容器是网格容器。\n",
    "\n",
    "```html\n",
    "<div class=\"container\">\n",
    "  <div class=\"item item-1\"></div>\n",
    "  <div class=\"item item-2\"></div>\n",
    "  <div class=\"item item-3\"></div>\n",
    "</div>\n",
    "```\n",
    "\n",
    "**网格项目**\n",
    "\n",
    "网格容器的子元素（例如直接后代）。这里的item元素是网格项目，但sub-item不是。\n",
    "\n",
    "```html\n",
    "<div class=\"container\">\n",
    "  <div class=\"item\"></div> \n",
    "  <div class=\"item\">\n",
    "    <p class=\"sub-item\"></p>\n",
    "  </div>\n",
    "  <div class=\"item\"></div>\n",
    "</div>\n",
    "```\n",
    "\n",
    "**网格线**\n",
    "\n",
    "构成网格结构的分界线。它们可以是垂直的（\"列网格线\"）或水平的（\"行网格线\"），位于行或列的任一侧。这里的黄色线是列网格线的一个例子。\n",
    "\n",
    "![grid-line](images/grid-line.png)\n",
    "\n",
    "**网格轨道**\n",
    "\n",
    "两个相邻网格线之间的空间。你可以将它们看作是网格的列或行。这里是第二和第三行网格线之间的网格轨道。\n",
    "\n",
    "![grid-track](images/grid-track.png)\n",
    "\n",
    "**网格单元格**\n",
    "\n",
    "两个相邻行和两个相邻列网格线之间的空间。它是网格的一个\"单元\"。这里是行网格线1和2，以及列网格线2和3之间的网格单元格。\n",
    "\n",
    "![grid-cell](images/grid-cell.png)\n",
    "\n",
    "**网格区域**\n",
    "\n",
    "由四条网格线包围的总空间。一个网格区域可能由任意数量的网格单元格组成。这里是行网格线1和3，以及列网格线1和3之间的网格区域。\n",
    "\n",
    "![grid-area](images/grid-area.png)\n",
    "\n",
    "### 父级的属性\n",
    "\n",
    "**grid-template-rows, grid-template-colums**\n",
    "\n",
    "使用空格分隔的值列表定义网格的列和行。这些值代表轨道大小，它们之间的空格代表网格线。\n",
    "\n",
    "值：\n",
    "\n",
    "- `<track-size>` - 可以是长度、百分比或网格中可用空间的分数（使用`fr`单位）\n",
    "- `<line-name>` - 你选择的任意网格区域名称\n",
    "\n",
    "**grid-template-areas** \n",
    "\n",
    "通过引用使用`grid-area`属性指定的网格区域的名称来定义网格模板。重复网格区域的名称会导致内容跨越这些单元格。句点表示空单元格。语法本身提供了网格结构的可视化。\n",
    "\n",
    "值：\n",
    "\n",
    "- `<grid-area-name>` - 使用`grid-area`指定的网格区域的名称\n",
    "- `.` - 句点表示空的网格单元格\n",
    "- `none` - 没有定义网格区域\n",
    "\n",
    "**grid-gap** \n",
    "\n",
    "`grid-row-gap`和`grid-column-gap`的简写\n",
    "\n",
    "值：\n",
    "\n",
    "- `<grid-row-gap>`, `<grid-column-gap>` - 长度值\n",
    "\n",
    "其中`grid-row-gap`和`grid-column-gap`指定网格线的大小。你可以将其视为设置列/行之间的间隙宽度。\n",
    "\n",
    "- `<line-size>` - 长度值\n",
    "\n",
    "*注意：`grid-`前缀将被删除，`grid-gap`将重命名为`gap`。未加前缀的属性已在Chrome 68+、Safari 11.2 Release 50+和Opera 54+中得到支持。*\n",
    "\n",
    "**align-items**\n",
    "\n",
    "沿块（列）轴对齐网格项目（与justify-items相反，后者沿内联（行）轴对齐）。此值适用于容器内的所有网格项目。\n",
    "\n",
    "值：\n",
    "\n",
    "- `start` - 使项目与单元格的起始边缘对齐\n",
    "- `end` - 使项目与单元格的结束边缘对齐\n",
    "- `center` - 在单元格中心对齐项目\n",
    "- `stretch` - 填充整个单元格的高度（这是默认值）\n",
    "\n",
    "**justify-items**\n",
    "\n",
    "沿内联（行）轴对齐网格项目（与`align-items`相反，后者沿块（列）轴对齐）。此值适用于容器内的所有网格项目。\n",
    "\n",
    "值：\n",
    "\n",
    "- `start` - 使项目与单元格的起始边缘对齐\n",
    "- `end` - 使项目与单元格的结束边缘对齐\n",
    "- `center` - 在单元格中心对齐项目\n",
    "- `stretch` - 填充整个单元格的宽度（这是默认值）"
   ]
  },
  {
   "cell_type": "markdown",
   "metadata": {},
   "source": [
    "**align-content**\n",
    "\n",
    "有时，你的网格总大小可能小于其网格容器的大小。如果所有的网格项都使用非灵活的单位（如`px`）设置大小，就会发生这种情况。在这种情况下，你可以在网格容器内设置网格的对齐方式。这个属性沿着块（列）轴对齐网格（与justify-content相反，后者沿着内联（行）轴对齐）。\n",
    "\n",
    "值：\n",
    "\n",
    "- `start` - 将网格与网格容器的起始边缘对齐\n",
    "- `end` - 将网格与网格容器的结束边缘对齐\n",
    "- `center` - 在网格容器的中心对齐网格\n",
    "- `stretch` - 调整网格项的大小以使网格填充满网格容器的高度\n",
    "- `space-around` - 在每个网格项之间放置相等的空间，两端有半尺寸的空间\n",
    "- `space-between` - 在每个网格项之间放置相等的空间，两端没有空间\n",
    "- `space-evenly` - 在每个网格项之间放置相等的空间，包括两端\n",
    "\n",
    "**justify-content**\n",
    "\n",
    "有时，你的网格总大小可能小于其网格容器的大小。如果所有的网格项都使用非灵活的单位（如`px`）设置大小，就会发生这种情况。在这种情况下，你可以在网格容器内设置网格的对齐方式。这个属性沿着内联（行）轴对齐网格（与align-content相反，后者沿着块（列）轴对齐）。\n",
    "\n",
    "值：\n",
    "\n",
    "- `start` - 将网格与网格容器的起始边缘对齐\n",
    "- `end` - 将网格与网格容器的结束边缘对齐\n",
    "- `center` - 在网格容器的中心对齐网格\n",
    "- `stretch` - 调整网格项的大小以使网格填充满网格容器的宽度\n",
    "- `space-around` - 在每个网格项之间放置相等的空间，两端有半尺寸的空间\n",
    "- `space-between` - 在每个网格项之间放置相等的空间，两端没有空间\n",
    "- `space-evenly` - 在每个网格项之间放置相等的空间，包括两端\n",
    "\n",
    "**grid-auto-columns, grid-auto-rows**\n",
    "\n",
    "指定任何自动生成的网格轨道（又名隐式网格轨道）的大小。当网格中的网格项多于单元格或当一个网格项放置在显式网格之外时，会创建隐式轨道。（参见显式网格和隐式网格之间的区别）\n",
    "\n",
    "值：\n",
    "\n",
    "- `<track-size>` - 可以是长度、百分比或网格中可用空间的分数（使用`fr`单位）\n",
    "\n",
    "### 网格项的属性\n",
    "\n",
    "*注意：`float`、`display: inline-block`、`display: table-cell`、`vertical-align`和`column-??`属性对网格项无效。*\n",
    "\n",
    "**grid-column, grid-row**\n",
    "\n",
    "通过引用特定的网格线来确定网格项在网格中的位置。`grid-column-start`/`grid-row-start`是项开始的线，`grid-column-end`/`grid-row-end`是项结束的线。\n",
    "\n",
    "值：\n",
    "\n",
    "- `<line>` - 可以是一个数字，引用编号的网格线，或者是一个名称，引用命名的网格线\n",
    "- `span <number>` - 项将跨越提供的数目的网格轨道\n",
    "- `span <name>` - 项将一直跨越直到遇到下一个具有提供名称的线\n",
    "- `auto` - 表示自动放置，自动跨度或默认跨度为一\n",
    "\n",
    "```css\n",
    ".item {\n",
    "  grid-column: <number> | <name> | span <number> | span <name> | auto / \n",
    "               <number> | <name> | span <number> | span <name> | auto\n",
    "  grid-row: <number> | <name> | span <number> | span <name> | auto /\n",
    "            <number> | <name> | span <number> | span <name> | auto\n",
    "}\n",
    "```\n",
    "\n",
    "示例：\n",
    "\n",
    "```css\n",
    ".item-a {\n",
    "  grid-column: 2 / five;\n",
    "  grid-row: row1-start / 3;\n",
    "}\n",
    "```\n",
    "\n",
    "![grid-start-end-a](images/grid-start-end-a.png)\n",
    "\n",
    "```css\n",
    ".item-b {\n",
    "  grid-column: 1 / span col4-start;\n",
    "  grid-row: 2 / span 2;\n",
    "}\n",
    "```\n",
    "\n",
    "![grid-start-end-b](images/grid-start-end-b.png)\n",
    "\n",
    "如果没有声明`grid-column` / `grid-row`，项将默认跨越1个轨道。\n",
    "\n",
    "项可以重叠。你可以使用`z-index`来控制它们的堆叠顺序。\n",
    "\n",
    "**grid-area**\n",
    "\n",
    "给一个项命名，以便可以通过`grid-template-areas`属性创建的模板引用它。或者，这个属性可以作为`grid-row-start` + `grid-column-start` + `grid-row-end` + `grid-column-end`的更简短的简写。\n",
    "\n",
    "值：\n",
    "\n",
    "- `<name>` - 你选择的名称\n",
    "- `<row-start> / <column-start> / <row-end> / <column-end>` - 可以是数字或命名的线条\n",
    "\n",
    "```css\n",
    ".item {\n",
    "  grid-area: <name> | <row-start> / <column-start> / <row-end> / <column-end>;\n",
    "}\n",
    "```\n",
    "\n",
    "示例：\n",
    "\n",
    "作为给项分配名称的方式：\n",
    "\n",
    "```css\n",
    ".item-d {\n",
    "  grid-area: header\n",
    "}\n",
    "```\n",
    "\n",
    "作为`grid-row-start` + `grid-column-start` + `grid-row-end` + `grid-column-end`的简写：\n",
    "\n",
    "```css\n",
    ".item-d {\n",
    "  grid-area: 1 / col4-start / last-line / 6\n",
    "}\n",
    "```\n",
    "\n",
    "![grid-start-end-d](images/grid-start-end-d.png)\n",
    "\n",
    "**justify-self**\n",
    "\n",
    "沿着内联（行）轴对齐单元格内的网格项（与align-self相反，后者沿着块（列）轴对齐）。此值适用于单个单元格内的网格项。\n",
    "\n",
    "值：\n",
    "\n",
    "- `start` - 将网格项与单元格的起始边缘对齐\n",
    "- `end` - 将网格项与单元格的结束边缘对齐\n",
    "- `center` - 在单元格的中心对齐网格项\n",
    "- `stretch` - 填充整个单元格的宽度（这是默认值）\n",
    "\n",
    "```css\n",
    ".item {\n",
    "  justify-self: start | end | center | stretch;\n",
    "}\n",
    "```\n",
    "\n",
    "示例：\n",
    "\n",
    "```css\n",
    ".item-a {\n",
    "  justify-self: start;\n",
    "}\n",
    "```\n",
    "\n",
    "![Example of `justify-self` set to start](images/grid-justify-self-start.png)\n",
    "\n",
    "```css\n",
    ".item-a {\n",
    "  justify-self: end;\n",
    "}\n",
    "```\n",
    "\n",
    "![Example of `justify-self` set to end](images/grid-justify-self-end.png)\n",
    "\n",
    "```css\n",
    ".item-a {\n",
    "  justify-self: center;\n",
    "}\n",
    "```\n",
    "\n",
    "![Example of `justify-self` set to center](images/grid-justify-self-center.png)\n",
    "\n",
    "```css\n",
    ".item-a {\n",
    "  justify-self: stretch;\n",
    "}\n",
    "```\n",
    "\n",
    "![Example of `justify-self` set to stretch](images/grid-justify-self-stretch.png)\n",
    "\n",
    "要为网格中的所有项设置对齐方式，也可以通过网格容器上的`justify-items`属性来设置此行为。"
   ]
  },
  {
   "cell_type": "code",
   "execution_count": 15,
   "metadata": {},
   "outputs": [],
   "source": [
    "from ipywidgets import Button, GridBox, Layout, ButtonStyle"
   ]
  },
  {
   "cell_type": "markdown",
   "metadata": {},
   "source": [
    "按名称放置项目："
   ]
  },
  {
   "cell_type": "code",
   "execution_count": 16,
   "metadata": {},
   "outputs": [
    {
     "data": {
      "application/vnd.jupyter.widget-view+json": {
       "model_id": "5586ff3bece149ba8d6cd2145aaf23b7",
       "version_major": 2,
       "version_minor": 0
      },
      "text/plain": [
       "GridBox(children=(Button(description='Header', layout=Layout(grid_area='header', width='auto'), style=ButtonSt…"
      ]
     },
     "execution_count": 16,
     "metadata": {},
     "output_type": "execute_result"
    }
   ],
   "source": [
    "header  = Button(description='Header',\n",
    "                 layout=Layout(width='auto', grid_area='header'),\n",
    "                 style=ButtonStyle(button_color='lightblue'))\n",
    "main    = Button(description='Main',\n",
    "                 layout=Layout(width='auto', grid_area='main'),\n",
    "                 style=ButtonStyle(button_color='moccasin'))\n",
    "sidebar = Button(description='Sidebar',\n",
    "                 layout=Layout(width='auto', grid_area='sidebar'),\n",
    "                 style=ButtonStyle(button_color='salmon'))\n",
    "footer  = Button(description='Footer',\n",
    "                 layout=Layout(width='auto', grid_area='footer'),\n",
    "                 style=ButtonStyle(button_color='olive'))\n",
    "\n",
    "GridBox(children=[header, main, sidebar, footer],\n",
    "        layout=Layout(\n",
    "            width='50%',\n",
    "            grid_template_rows='auto auto auto',\n",
    "            grid_template_columns='25% 25% 25% 25%',\n",
    "            grid_template_areas='''\n",
    "            \"header header header header\"\n",
    "            \"main main . sidebar \"\n",
    "            \"footer footer footer footer\"\n",
    "            ''')\n",
    "       )"
   ]
  },
  {
   "cell_type": "markdown",
   "metadata": {},
   "source": [
    "设置行和列模板及间距"
   ]
  },
  {
   "cell_type": "code",
   "execution_count": 17,
   "metadata": {},
   "outputs": [
    {
     "data": {
      "application/vnd.jupyter.widget-view+json": {
       "model_id": "482fd4ff4c254e54af7498cea6b2c0dc",
       "version_major": 2,
       "version_minor": 0
      },
      "text/plain": [
       "GridBox(children=(Button(layout=Layout(height='auto', width='auto'), style=ButtonStyle(button_color='darkseagr…"
      ]
     },
     "execution_count": 17,
     "metadata": {},
     "output_type": "execute_result"
    }
   ],
   "source": [
    "GridBox(children=[Button(layout=Layout(width='auto', height='auto'),\n",
    "                         style=ButtonStyle(button_color='darkseagreen')) for i in range(9)\n",
    "                 ],\n",
    "        layout=Layout(\n",
    "            width='50%',\n",
    "            grid_template_columns='100px 50px 100px',\n",
    "            grid_template_rows='80px auto 80px', \n",
    "            grid_gap='5px 10px')\n",
    "       )"
   ]
  },
  {
   "cell_type": "markdown",
   "metadata": {},
   "source": [
    "图像布局和大小调整与其他元素略有不同，这是由于历史原因（HTML标签`img`在CSS之前就存在了）和实际原因（图像具有固有的大小）。\n",
    "\n",
    "图像大小调整尤其令人困惑，因为有两种方式可以指定图像的大小。`Image`小部件具有与HTML `img`标签同名的属性`width`和`height`。此外，`Image`小部件（像其他所有小部件一样）具有`layout`，它也具有`width`和`height`。\n",
    "\n",
    "另外，一些CSS样式被应用到图像上，而这些样式不会被应用到其他小部件上：`max_width`被设置为`100%`，`height`被设置为`auto`。\n",
    "\n",
    "你不应该依赖`Image.width`或`Image.height`来确定图像小部件的显示宽度和高度。任何CSS样式，无论是通过`Image.layout`还是其他来源，都会覆盖`Image.width`和`Image.height`。\n",
    "\n",
    "当单独显示一个`Image`小部件时，将`Image.layout.width`设置为所需的宽度将按原始图像的宽高比显示`Image`小部件。\n",
    "\n",
    "当将`Image`放入`Box`（或`HBox`或`VBox`）中时，结果取决于是否在`Box`上设置了宽度。如果设置了宽度，那么图像将被拉伸（或压缩）以适应盒子，因为`Image.layout.max_width`是`100%`，所以图像会填充容器。这通常不会保留图像的宽高比。"
   ]
  },
  {
   "cell_type": "markdown",
   "metadata": {},
   "source": [
    "### 控制容器内`Image`的显示\n",
    "\n",
    "使用`Image.layout.object_fit`来控制图像在容器（如盒子）内的缩放方式。可能的取值有：\n",
    "\n",
    "+ `'contain'`：在保持宽高比的同时，将图像适应到其内容框中。如果容器的任何部分没有被图像覆盖，则显示容器的背景。内容框的大小取决于容器和图像的大小，如果容器小于图像，则为容器的大小；如果容器大于图像，则为图像的大小。\n",
    "+ `'cover'`：在保持图像宽高比的同时，完全填充内容框，必要时裁剪图像。\n",
    "+ `'fill'`：完全填充内容框，根据需要拉伸/压缩图像。\n",
    "+ `'none'`：不进行大小调整；图像将被容器裁剪。\n",
    "+ `'scale-down'`：执行与`contain`或`none`相同的操作，使用两者中显示图像较小的那个。\n",
    "+ `None`（Python值）：从布局中移除`object_fit`；效果与`'fill'`相同。\n",
    "\n",
    "使用`Image.layout.object_position`来控制在容器（如盒子）内图像的位置。默认值确保图像在盒子中居中。在某些情况下，`Image.layout.object_position`的效果取决于`Image.layout.object_fit`的值。\n",
    "\n",
    "可以通过下面描述的几种方式来指定`object_position`的值。"
   ]
  },
  {
   "cell_type": "markdown",
   "metadata": {},
   "source": [
    "### `object_fit`的示例\n",
    "\n",
    "在下面的例子中，一个图像被显示在一个绿色盒子内，以展示`object_fit`每个值的效果。\n",
    "\n",
    "为了让示例保持一致，这里定义通用的代码。"
   ]
  },
  {
   "cell_type": "code",
   "execution_count": 18,
   "metadata": {},
   "outputs": [],
   "source": [
    "from ipywidgets import Layout, Box, VBox, HBox, HTML, Image\n",
    "\n",
    "fit_options = ['contain', 'cover', 'fill', 'scale-down', 'none', None]\n",
    "\n",
    "hbox_layout = Layout()\n",
    "hbox_layout.width = '100%'\n",
    "hbox_layout.justify_content = 'space-around'\n",
    "\n",
    "green_box_layout = Layout()\n",
    "green_box_layout.width = '100px'\n",
    "green_box_layout.height = '100px'\n",
    "green_box_layout.border = '2px solid green'\n",
    "\n",
    "\n",
    "def make_box_for_grid(image_widget, fit):\n",
    "    \"\"\"\n",
    "    Make a VBox to hold caption/image for demonstrating\n",
    "    option_fit values.\n",
    "    \"\"\"\n",
    "    # Make the caption\n",
    "    if fit is not None:\n",
    "        fit_str = \"'{}'\".format(fit)\n",
    "    else:\n",
    "        fit_str = str(fit)\n",
    "        \n",
    "    h = HTML(value='' + str(fit_str) + '')\n",
    "\n",
    "    # Make the green box with the image widget inside it\n",
    "    boxb = Box()\n",
    "    boxb.layout = green_box_layout\n",
    "    boxb.children = [image_widget]\n",
    "    \n",
    "    # Compose into a vertical box\n",
    "    vb = VBox()\n",
    "    vb.layout.align_items = 'center'\n",
    "    vb.children = [h, boxb]\n",
    "    return vb\n",
    "\n",
    "# Use this margin to eliminate space between the image and the box\n",
    "image_margin = '0 0 0 0'\n",
    "\n",
    "# Set size of captions in figures below\n",
    "caption_size = 'h4'"
   ]
  },
  {
   "cell_type": "markdown",
   "metadata": {},
   "source": [
    "### `object_fit`在比原始图像小的`Box`中\n",
    "\n",
    "在下面的图像中可以看到每个效果。在每种情况下，图像位于一个带有绿色边框的盒子中。原始图像是600x300，图像中的网格盒子是正方形。由于图像比盒子宽度宽，内容框的大小为容器的大小。"
   ]
  },
  {
   "cell_type": "code",
   "execution_count": 19,
   "metadata": {},
   "outputs": [],
   "source": [
    "with open('images/gaussian_with_grid.png', 'rb') as f:\n",
    "    im_600_300 = f.read()"
   ]
  },
  {
   "cell_type": "code",
   "execution_count": 20,
   "metadata": {},
   "outputs": [
    {
     "data": {
      "application/vnd.jupyter.widget-view+json": {
       "model_id": "db91633528354ff4b2f3fcf849bd52b6",
       "version_major": 2,
       "version_minor": 0
      },
      "text/plain": [
       "VBox(children=(HTML(value='<h4>Examples of <code>object_fit</code> with large image</h4>'), HBox(children=(VBo…"
      ]
     },
     "execution_count": 20,
     "metadata": {},
     "output_type": "execute_result"
    }
   ],
   "source": [
    "boxes = []\n",
    "for fit in fit_options:\n",
    "    ib = Image(value=im_600_300)\n",
    "    ib.layout.object_fit = fit\n",
    "    ib.layout.margin = image_margin\n",
    "\n",
    "    boxes.append(make_box_for_grid(ib, fit))\n",
    "\n",
    "vb = VBox()\n",
    "h = HTML(value='<{size}>Examples of <code>object_fit</code> with large image</{size}>'.format(size=caption_size))\n",
    "vb.layout.align_items = 'center'\n",
    "hb = HBox()\n",
    "hb.layout = hbox_layout\n",
    "hb.children = boxes\n",
    "\n",
    "vb.children = [h, hb]\n",
    "vb"
   ]
  },
  {
   "cell_type": "markdown",
   "metadata": {},
   "source": [
    "### `object_fit`在比原始图像大的`Box`中\n",
    "\n",
    "在下面的图像中可以看到每个效果。在每种情况下，图像位于一个带有绿色边框的盒子中。原始图像是50x25，图像中的网格盒子是正方形。"
   ]
  },
  {
   "cell_type": "code",
   "execution_count": 21,
   "metadata": {},
   "outputs": [],
   "source": [
    "with open('images/gaussian_with_grid_tiny.png', 'rb') as f:\n",
    "    im_50_25 = f.read()"
   ]
  },
  {
   "cell_type": "code",
   "execution_count": 22,
   "metadata": {},
   "outputs": [
    {
     "data": {
      "application/vnd.jupyter.widget-view+json": {
       "model_id": "4572ca77447b49c581838d7c72870e1b",
       "version_major": 2,
       "version_minor": 0
      },
      "text/plain": [
       "VBox(children=(HTML(value='<h4>Examples of <code>object_fit</code> with small image</h4>'), HBox(children=(VBo…"
      ]
     },
     "execution_count": 22,
     "metadata": {},
     "output_type": "execute_result"
    }
   ],
   "source": [
    "boxes = []\n",
    "for fit in fit_options:\n",
    "    ib = Image(value=im_50_25)\n",
    "    ib.layout.object_fit = fit\n",
    "    ib.layout.margin = image_margin\n",
    "    boxes.append(make_box_for_grid(ib, fit))\n",
    "\n",
    "vb = VBox()\n",
    "h = HTML(value='<{size}>Examples of <code>object_fit</code> with small image</{size}>'.format(size=caption_size))\n",
    "vb.layout.align_items = 'center'\n",
    "hb = HBox()\n",
    "hb.layout = hbox_layout\n",
    "hb.children = boxes\n",
    "\n",
    "vb.children = [h, hb]\n",
    "vb"
   ]
  },
  {
   "cell_type": "markdown",
   "metadata": {},
   "source": [
    "根据`option_fit`的值的描述，可能会让人感到惊讶的是，在所有情况下，图像实际上都没有填充整个盒子。原因是底层图像只有50像素宽，是盒子宽度的一半，所以`fill`和`cover`的意思是“填充/覆盖由图像大小决定的内容框”。\n",
    "\n",
    "### `object_fit`在比原始图像大的`Box`中：使用图像布局宽度`100%`来填充容器\n",
    "\n",
    "如果图像的布局宽度设置为`100%`，它将填充放置它的盒子。这个例子还展示了`'contain'`和`'scale-down'`之间的区别。`'scale-down'`的效果与`'contain'`或`'none'`相同，取决于哪个导致显示的图像更小。在这种情况下，较小的图像来自于不进行适配，所以这就是显示出来的结果。"
   ]
  },
  {
   "cell_type": "code",
   "execution_count": 23,
   "metadata": {},
   "outputs": [
    {
     "data": {
      "application/vnd.jupyter.widget-view+json": {
       "model_id": "a04ef0e883254d55b701cfdb9ffff6a8",
       "version_major": 2,
       "version_minor": 0
      },
      "text/plain": [
       "VBox(children=(HTML(value='<h4>Examples of <code>object_fit</code> with image smaller than container</h4>'), H…"
      ]
     },
     "execution_count": 23,
     "metadata": {},
     "output_type": "execute_result"
    }
   ],
   "source": [
    "boxes = []\n",
    "for fit in fit_options:\n",
    "    ib = Image(value=im_50_25)\n",
    "    ib.layout.object_fit = fit\n",
    "    ib.layout.margin = image_margin\n",
    "\n",
    "    # NOTE WIDTH IS SET TO 100%\n",
    "    ib.layout.width = '100%'\n",
    "    \n",
    "    boxes.append(make_box_for_grid(ib, fit))\n",
    "\n",
    "vb = VBox()\n",
    "h = HTML(value='<{size}>Examples of <code>object_fit</code> with image '\n",
    "               'smaller than container</{size}>'.format(size=caption_size))\n",
    "vb.layout.align_items = 'center'\n",
    "hb = HBox()\n",
    "hb.layout = hbox_layout\n",
    "hb.children = boxes\n",
    "\n",
    "vb.children = [h, hb]\n",
    "vb"
   ]
  },
  {
   "cell_type": "markdown",
   "metadata": {},
   "source": [
    "### `object_position`的示例\n",
    "\n",
    "有几种方法可以设置对象位置：\n",
    "\n",
    "+ 使用关键字，如`top`和`left`，来描述图像应如何放置在容器中。\n",
    "+ 使用两个位置值（以像素为单位），表示从容器的左上角到图像的左上角的偏移量。偏移量可以是正数或负数，可以用来将图像定位在盒子外部。\n",
    "+ 在每个方向上使用百分比作为偏移量。如果图像小于容器，则百分比是指围绕图像的垂直或水平留白部分的比例；如果图像大于容器，则是指图像超出容器的部分的比例。\n",
    "+ 混合使用像素和百分比偏移量。\n",
    "+ 混合使用关键字和偏移量。\n",
    "\n",
    "由`object_fit`决定的图像缩放在某些情况下会优先于定位。例如，如果`object_fit`是`fill`，以便图像应该填充容器而不保持宽高比，则`object_position`将无效，因为实际上没有定位要执行。\n",
    "\n",
    "另一种思考方式是：`object_position`指定了如果在某个方向上有留白，应该如何在容器中分配围绕图像的空白空间。"
   ]
  },
  {
   "cell_type": "markdown",
   "metadata": {},
   "source": [
    "### 使用关键字指定`object_position`\n",
    "\n",
    "这种形式的`object_position`接受两个关键字，一个用于指定图像在容器中的水平位置，另一个用于垂直位置，顺序如此。\n",
    "\n",
    "+ 水平位置必须是以下之一：\n",
    "    * `'left'`：图像的左侧应与容器的左侧对齐\n",
    "    * `'center'`：图像应在容器中水平居中\n",
    "    * `'right'`：图像的右侧应与容器的右侧对齐\n",
    "+ 垂直位置必须是以下之一：\n",
    "    * `'top'`：图像的顶部应与容器的顶部对齐\n",
    "    * `'center'`：图像应在容器中垂直居中\n",
    "    * `'bottom'`：图像的底部应与容器的底部对齐\n",
    "\n",
    "每种效果都会在下面展示，一次是对于小于容器的图像，一次是对于大于容器的图像。\n",
    "\n",
    "在下面的示例中，`object_fit`被设置为`'none'`，以便图像不被缩放。"
   ]
  },
  {
   "cell_type": "code",
   "execution_count": 24,
   "metadata": {},
   "outputs": [
    {
     "data": {
      "application/vnd.jupyter.widget-view+json": {
       "model_id": "355081b87de24f5f8a833bb86ba248de",
       "version_major": 2,
       "version_minor": 0
      },
      "text/plain": [
       "VBox(children=(HTML(value='<h4><code> object_position </code> by keyword with large image</h4>'), HBox(childre…"
      ]
     },
     "execution_count": 24,
     "metadata": {},
     "output_type": "execute_result"
    }
   ],
   "source": [
    "object_fit = 'none'\n",
    "image_value = [im_600_300, im_50_25]\n",
    "horz_keywords = ['left', 'center', 'right']\n",
    "vert_keywords = ['top', 'center', 'bottom']\n",
    "\n",
    "rows = []\n",
    "for image, caption  in zip(image_value, ['600 x 300 image', '50 x 25 image']):\n",
    "    cols = []\n",
    "    for horz in horz_keywords:\n",
    "        for vert in vert_keywords:\n",
    "            ib = Image(value=image)\n",
    "            ib.layout.object_position = '{horz} {vert}'.format(horz=horz, vert=vert)\n",
    "            ib.layout.margin = image_margin\n",
    "            ib.layout.object_fit = object_fit\n",
    "            # ib.layout.height = 'inherit'\n",
    "            ib.layout.width = '100%'\n",
    "            cols.append(make_box_for_grid(ib, ib.layout.object_position))\n",
    "    hb = HBox()\n",
    "    hb.layout = hbox_layout\n",
    "    hb.children = cols\n",
    "    rows.append(hb)\n",
    "\n",
    "vb = VBox()\n",
    "\n",
    "h1 = HTML(value='<{size}><code> object_position </code> by '\n",
    "                'keyword with large image</{size}>'.format(size=caption_size))\n",
    "h2 = HTML(value='<{size}><code> object_position </code> by '\n",
    "                'keyword with small image</{size}>'.format(size=caption_size))\n",
    "\n",
    "vb.children = [h1, rows[0], h2, rows[1]]\n",
    "vb.layout.height = '400px'\n",
    "vb.layout.justify_content = 'space-around'\n",
    "vb.layout.align_items = 'center'\n",
    "vb"
   ]
  },
  {
   "cell_type": "markdown",
   "metadata": {},
   "source": [
    "### 使用像素偏移指定`object_position`\n",
    "\n",
    "可以指定图像的左上角相对于容器的左上角的像素偏移。两个偏移值中的第一个是水平的，第二个是垂直的，两者都可以为负数。如果偏移量足够大以至于图像位于容器外部，将导致图像被隐藏。\n",
    "\n",
    "首先使用`object_fit`的值（如果未指定任何内容，则默认为`fill`）对图像进行缩放，然后应用偏移。\n",
    "\n",
    "可以通过组合关键字和像素偏移来从底部和/或右侧指定偏移。例如，`right 10px bottom 20px`将图像的右侧从容器的右边缘偏移10px，并将图像的底部从容器的底部偏移20px。"
   ]
  },
  {
   "cell_type": "code",
   "execution_count": 25,
   "metadata": {},
   "outputs": [
    {
     "data": {
      "application/vnd.jupyter.widget-view+json": {
       "model_id": "d05d91354c40407dbf615483920f2216",
       "version_major": 2,
       "version_minor": 0
      },
      "text/plain": [
       "VBox(children=(HTML(value='<h4><code>object_position</code> by offset 20px 10px with several <code>object_fit<…"
      ]
     },
     "execution_count": 25,
     "metadata": {},
     "output_type": "execute_result"
    }
   ],
   "source": [
    "object_fit = ['none', 'contain', 'fill', 'cover']\n",
    "offset = '20px 10px'\n",
    "image_value = [im_600_300]\n",
    "\n",
    "boxes = []\n",
    "for image, caption  in zip(image_value, ['600 x 300 image', ]):\n",
    "    for fit in object_fit:\n",
    "        ib = Image(value=image)\n",
    "        ib.layout.object_position = offset\n",
    "        ib.layout.margin = image_margin\n",
    "        ib.layout.object_fit = fit\n",
    "        # ib.layout.height = 'inherit'\n",
    "        ib.layout.width = '100%'\n",
    "        title = 'object_fit: {}'.format(ib.layout.object_fit)\n",
    "        boxes.append(make_box_for_grid(ib, title))\n",
    "\n",
    "vb = VBox()\n",
    "h = HTML(value='<{size}><code>object_position</code> by '\n",
    "               'offset {offset} with several '\n",
    "               '<code>object_fit</code>s with large image</{size}>'.format(size=caption_size,\n",
    "                                                         offset=offset))\n",
    "vb.layout.align_items = 'center'\n",
    "hb = HBox()\n",
    "hb.layout = hbox_layout\n",
    "hb.children = boxes\n",
    "\n",
    "vb.children = [h, hb]\n",
    "vb"
   ]
  },
  {
   "cell_type": "markdown",
   "metadata": {},
   "source": [
    "### 使用百分比偏移指定`object_position`\n",
    "\n",
    "可以以百分比的形式指定图像的左上角相对于容器的左上角的偏移量。两个偏移值中的第一个是水平的，第二个是垂直的，两者都可以为负数。如果偏移量足够大以至于图像位于容器外部，将导致图像被隐藏。\n",
    "\n",
    "重要的是要理解，如果图像小于容器，这是每个方向上留白空间的百分比，因此`50% 50%`会使图像居中。\n",
    "\n",
    "如果在使用`object_fit`缩放后图像大于容器，则偏移量是图像超出容器部分的百分比。这意味着`50% 50%`也会使一个*大于*容器的图像居中。`10% 90%`的值会将图像超出容器部分的10%放在左边边缘的左侧，以及顶部边缘上方的90%。\n",
    "\n",
    "与通过关键字指定`object_position`一样，`object_fit`可能会阻止任何偏移应用于图像。"
   ]
  }
 ],
 "metadata": {
  "kernelspec": {
   "display_name": "Python 3 (ipykernel)",
   "language": "python",
   "name": "python3"
  },
  "language_info": {
   "codemirror_mode": {
    "name": "ipython",
    "version": 3
   },
   "file_extension": ".py",
   "mimetype": "text/x-python",
   "name": "python",
   "nbconvert_exporter": "python",
   "pygments_lexer": "ipython3",
   "version": "3.11.7"
  }
 },
 "nbformat": 4,
 "nbformat_minor": 4
}
