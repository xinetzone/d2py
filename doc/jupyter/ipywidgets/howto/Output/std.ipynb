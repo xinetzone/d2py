{
 "cells": [
  {
   "cell_type": "markdown",
   "metadata": {},
   "source": [
    "# 输出小部件：标准输出&输出错误"
   ]
  },
  {
   "cell_type": "code",
   "execution_count": 1,
   "metadata": {
    "tags": [
     "remove-cell"
    ]
   },
   "outputs": [
    {
     "name": "stdout",
     "output_type": "stream",
     "text": [
      "Note: you may need to restart the kernel to use updated packages.\n"
     ]
    }
   ],
   "source": [
    "# 为了保证 `JupyterLite` 可用，需要 notebook 开头添加：\n",
    "%pip install -q ipywidgets"
   ]
  },
  {
   "cell_type": "code",
   "execution_count": 1,
   "metadata": {},
   "outputs": [],
   "source": [
    "import ipywidgets as widgets"
   ]
  },
  {
   "cell_type": "markdown",
   "metadata": {},
   "source": [
    "我们还可以使用 `append_stdout`、`append_stderr` 或 `append_display_data` 等便利方法直接将输出附加到输出部件。"
   ]
  },
  {
   "cell_type": "markdown",
   "metadata": {},
   "source": [
    "```python\n",
    "from IPython.display import YouTubeVideo\n",
    "out = widgets.Output(layout={'border': '1px solid black'})\n",
    "out.append_stdout('Output appended with append_stdout')\n",
    "out.append_display_data(YouTubeVideo('eWzY2nGfkXk'))\n",
    "out\n",
    "```"
   ]
  },
  {
   "cell_type": "markdown",
   "metadata": {},
   "source": [
    "`clear_output` 支持关键字参数 `wait`。将其设置为 `True` 时，部件内容不会立即清除。相反，它们会在下一次部件接收到要显示的内容时被清除。在替换输出部件中的内容时，这很有用：它允许更平滑的过渡，避免了调用 `clear_output` 后部件突然调整大小的情况。\n",
    "\n",
    "最后，我们可以使用输出部件通过 `capture` 装饰器捕获函数产生的所有输出。"
   ]
  },
  {
   "cell_type": "code",
   "execution_count": 2,
   "metadata": {
    "tags": [
     "raises-exception"
    ]
   },
   "outputs": [],
   "source": [
    "out = widgets.Output(layout={'border': '1px solid black'})\n",
    "\n",
    "@out.capture()\n",
    "def function_with_captured_output():\n",
    "    print('This goes into the output widget')\n",
    "    raise Exception('As does this')\n",
    "    \n",
    "function_with_captured_output()"
   ]
  },
  {
   "cell_type": "code",
   "execution_count": 3,
   "metadata": {},
   "outputs": [
    {
     "data": {
      "application/vnd.jupyter.widget-view+json": {
       "model_id": "c1486a7f43db473d9b1c3bfdfe7ef220",
       "version_major": 2,
       "version_minor": 0
      },
      "text/plain": [
       "Output(layout=Layout(border_bottom='1px solid black', border_left='1px solid black', border_right='1px solid b…"
      ]
     },
     "execution_count": 3,
     "metadata": {},
     "output_type": "execute_result"
    }
   ],
   "source": [
    "out"
   ]
  },
  {
   "cell_type": "code",
   "execution_count": 4,
   "metadata": {},
   "outputs": [
    {
     "name": "stdout",
     "output_type": "stream",
     "text": [
      "\n",
      "        Decorator to capture the stdout and stderr of a function.\n",
      "\n",
      "        Parameters\n",
      "        ----------\n",
      "\n",
      "        clear_output: bool\n",
      "            If True, clear the content of the output widget at every\n",
      "            new function call. Default: False\n",
      "\n",
      "        wait: bool\n",
      "            If True, wait to clear the output until new output is\n",
      "            available to replace it. This is only used if clear_output\n",
      "            is also True.\n",
      "            Default: False\n",
      "        \n"
     ]
    }
   ],
   "source": [
    "print(out.capture.__doc__)"
   ]
  },
  {
   "cell_type": "markdown",
   "metadata": {},
   "source": [
    "`out.capture` 支持关键字参数 `clear_output`。将其设置为 `True` 将在每次调用函数时清除输出部件，这样你只会看到最后一次调用的输出。将 `clear_output` 设置为 `True` 时，你还可以传递一个 `wait=True` 参数，以仅在新输出可用时清除输出。当然，你也可以随时手动清除输出。"
   ]
  },
  {
   "cell_type": "code",
   "execution_count": 5,
   "metadata": {},
   "outputs": [],
   "source": [
    "# out.clear_output()"
   ]
  }
 ],
 "metadata": {
  "kernelspec": {
   "display_name": "Python 3 (ipykernel)",
   "language": "python",
   "name": "python3"
  },
  "language_info": {
   "codemirror_mode": {
    "name": "ipython",
    "version": 3
   },
   "file_extension": ".py",
   "mimetype": "text/x-python",
   "name": "python",
   "nbconvert_exporter": "python",
   "pygments_lexer": "ipython3",
   "version": "3.11.7"
  }
 },
 "nbformat": 4,
 "nbformat_minor": 4
}
