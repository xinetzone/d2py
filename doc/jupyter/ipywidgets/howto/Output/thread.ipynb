{
 "cells": [
  {
   "cell_type": "markdown",
   "metadata": {},
   "source": [
    "# 从后台线程与输出部件交互\n",
    "\n",
    "在显示由后台线程产生的输出时，Jupyter 的 `display` 机制可能违反直觉。后台线程的输出被打印到主线程当前正在写入的任何单元格。要直接看到这一点，创建一个反复打印标准输出的线程："
   ]
  },
  {
   "cell_type": "code",
   "execution_count": 1,
   "metadata": {
    "tags": [
     "remove-cell"
    ]
   },
   "outputs": [
    {
     "name": "stdout",
     "output_type": "stream",
     "text": [
      "Note: you may need to restart the kernel to use updated packages.\n"
     ]
    }
   ],
   "source": [
    "# 为了保证 `JupyterLite` 可用，需要 notebook 开头添加：\n",
    "%pip install -q ipywidgets"
   ]
  },
  {
   "cell_type": "markdown",
   "metadata": {},
   "source": [
    "```python\n",
    "import threading\n",
    "import time\n",
    "\n",
    "def run():\n",
    "    for i in itertools.count(0):\n",
    "        time.sleep(1)\n",
    "        print('output from background {}'.format(i))\n",
    "        \n",
    "t = threading.Thread(target=run)\n",
    "t.start()\n",
    "```\n",
    "\n",
    "这总是在当前活动单元格中打印，而不是启动后台线程的单元格。\n",
    "\n",
    "这可能导致输出部件出现意外行为。在输出部件捕获输出的时间内，笔记本中生成的任何输出，无论线程如何，都会进入输出部件。\n",
    "\n",
    "避免意外的最佳方式是*永远*不要在多个线程生成输出的环境中使用输出部件的上下文管理器。相反，我们可以将输出部件传递给在线程中执行的函数，并使用 `append_display_data()`、`append_stdout()` 或 `append_stderr()` 方法将可显示的输出附加到输出部件。"
   ]
  },
  {
   "cell_type": "code",
   "execution_count": 2,
   "metadata": {},
   "outputs": [
    {
     "data": {
      "text/plain": [
       "'Display in main thread'"
      ]
     },
     "metadata": {},
     "output_type": "display_data"
    },
    {
     "data": {
      "application/vnd.jupyter.widget-view+json": {
       "model_id": "fdeb60fa8f3a4d1498477011499e3f15",
       "version_major": 2,
       "version_minor": 0
      },
      "text/plain": [
       "Output()"
      ]
     },
     "metadata": {},
     "output_type": "display_data"
    }
   ],
   "source": [
    "import threading\n",
    "from IPython.display import display, HTML\n",
    "import ipywidgets as widgets\n",
    "import time\n",
    "\n",
    "def thread_func(something, out):\n",
    "    for i in range(1, 5):\n",
    "        time.sleep(0.3)\n",
    "        out.append_stdout('{} {} {}\\n'.format(i, '**'*i, something))\n",
    "    out.append_display_data(HTML(\"<em>All done!</em>\"))\n",
    "\n",
    "display('Display in main thread')\n",
    "out = widgets.Output()\n",
    "# Now the key: the container is displayed (while empty) in the main thread\n",
    "display(out)\n",
    "\n",
    "thread = threading.Thread(\n",
    "    target=thread_func,\n",
    "    args=(\"some text\", out))\n",
    "thread.start()"
   ]
  },
  {
   "cell_type": "code",
   "execution_count": 3,
   "metadata": {},
   "outputs": [],
   "source": [
    "thread.join()"
   ]
  }
 ],
 "metadata": {
  "kernelspec": {
   "display_name": "Python 3 (ipykernel)",
   "language": "python",
   "name": "python3"
  },
  "language_info": {
   "codemirror_mode": {
    "name": "ipython",
    "version": 3
   },
   "file_extension": ".py",
   "mimetype": "text/x-python",
   "name": "python",
   "nbconvert_exporter": "python",
   "pygments_lexer": "ipython3",
   "version": "3.11.7"
  }
 },
 "nbformat": 4,
 "nbformat_minor": 4
}
