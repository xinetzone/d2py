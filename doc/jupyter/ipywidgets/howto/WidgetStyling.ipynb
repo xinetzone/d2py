{
 "cells": [
  {
   "cell_type": "markdown",
   "metadata": {},
   "source": [
    "(WidgetStyling)=\n",
    "# Jupyter小部件的样式设置\n",
    "\n",
    "本笔记本展示了如何为 Jupyter 交互式小部件设置样式，以构建丰富且具有 *响应性* 的基于小部件的应用程序。"
   ]
  },
  {
   "cell_type": "markdown",
   "metadata": {},
   "source": [
    "## 预定义样式\n",
    "\n",
    "如果您希望小部件的样式使用环境定义的颜色和样式（例如，与笔记本主题保持一致），许多小部件都允许在一系列预定义样式中进行选择。\n",
    "\n",
    "例如，`Button` 小部件具有 `button_style` 属性，它可以取以下 5 种不同的值：\n",
    "\n",
    "- `'primary'`\n",
    "- `'success'`\n",
    "- `'info'`\n",
    "- `'warning'`\n",
    "- `'danger'`\n",
    "\n",
    "除此之外还有默认的空字符串 `''`。"
   ]
  },
  {
   "cell_type": "code",
   "execution_count": 1,
   "metadata": {},
   "outputs": [
    {
     "data": {
      "application/vnd.jupyter.widget-view+json": {
       "model_id": "5bcdd6be5fbe4e54ae577154c3d330bc",
       "version_major": 2,
       "version_minor": 0
      },
      "text/plain": [
       "Button(button_style='danger', description='Danger Button', style=ButtonStyle())"
      ]
     },
     "execution_count": 1,
     "metadata": {},
     "output_type": "execute_result"
    }
   ],
   "source": [
    "from ipywidgets import Button\n",
    "\n",
    "Button(description='Danger Button', button_style='danger')"
   ]
  },
  {
   "cell_type": "markdown",
   "metadata": {},
   "source": [
    "## `style` 属性\n",
    "\n",
    "虽然 `layout` 属性仅暴露与布局相关的 CSS 属性给小部件的顶级 DOM 元素，但 `style` 属性用于暴露小部件的非布局相关样式属性。\n",
    "\n",
    "然而，`style` 属性的属性对于每种小部件类型都是特定的。"
   ]
  },
  {
   "cell_type": "code",
   "execution_count": 2,
   "metadata": {},
   "outputs": [
    {
     "data": {
      "application/vnd.jupyter.widget-view+json": {
       "model_id": "c5d1263452a14c039678c6e40d11c1f2",
       "version_major": 2,
       "version_minor": 0
      },
      "text/plain": [
       "Button(description='Custom color', style=ButtonStyle(button_color='lightgreen'))"
      ]
     },
     "execution_count": 2,
     "metadata": {},
     "output_type": "execute_result"
    }
   ],
   "source": [
    "b1 = Button(description='Custom color')\n",
    "b1.style.button_color = 'lightgreen'\n",
    "b1"
   ]
  },
  {
   "cell_type": "markdown",
   "metadata": {},
   "source": [
    "You can get a list of the style attributes for a widget with the `keys` property."
   ]
  },
  {
   "cell_type": "code",
   "execution_count": 3,
   "metadata": {},
   "outputs": [
    {
     "data": {
      "text/plain": [
       "['_model_module',\n",
       " '_model_module_version',\n",
       " '_model_name',\n",
       " '_view_count',\n",
       " '_view_module',\n",
       " '_view_module_version',\n",
       " '_view_name',\n",
       " 'button_color',\n",
       " 'font_family',\n",
       " 'font_size',\n",
       " 'font_style',\n",
       " 'font_variant',\n",
       " 'font_weight',\n",
       " 'text_color',\n",
       " 'text_decoration']"
      ]
     },
     "execution_count": 3,
     "metadata": {},
     "output_type": "execute_result"
    }
   ],
   "source": [
    "b1.style.keys"
   ]
  },
  {
   "cell_type": "markdown",
   "metadata": {},
   "source": [
    "就像 `layout` 属性一样，小部件的样式也可以分配给其他小部件。"
   ]
  },
  {
   "cell_type": "code",
   "execution_count": 4,
   "metadata": {},
   "outputs": [
    {
     "data": {
      "application/vnd.jupyter.widget-view+json": {
       "model_id": "88ef6b0c915f4ff1b5a07223e448bf48",
       "version_major": 2,
       "version_minor": 0
      },
      "text/plain": [
       "Button(style=ButtonStyle(button_color='lightgreen'))"
      ]
     },
     "execution_count": 4,
     "metadata": {},
     "output_type": "execute_result"
    }
   ],
   "source": [
    "b2 = Button()\n",
    "b2.style = b1.style\n",
    "b2"
   ]
  },
  {
   "cell_type": "markdown",
   "metadata": {},
   "source": [
    "小部件样式属性对于每种小部件类型都是特定的。"
   ]
  },
  {
   "cell_type": "code",
   "execution_count": 5,
   "metadata": {},
   "outputs": [
    {
     "data": {
      "application/vnd.jupyter.widget-view+json": {
       "model_id": "aa554f74f37542d5863e77577d739156",
       "version_major": 2,
       "version_minor": 0
      },
      "text/plain": [
       "IntSlider(value=0, description='Blue handle', style=SliderStyle(handle_color='lightblue'))"
      ]
     },
     "execution_count": 5,
     "metadata": {},
     "output_type": "execute_result"
    }
   ],
   "source": [
    "from ipywidgets import IntSlider\n",
    "\n",
    "s1 = IntSlider(description='Blue handle')\n",
    "s1.style.handle_color = 'lightblue'\n",
    "s1"
   ]
  },
  {
   "cell_type": "markdown",
   "metadata": {},
   "source": [
    "样式可以在构建小部件时指定，既可以作为特定的 `Style` 实例，也可以作为 `dict`。"
   ]
  },
  {
   "cell_type": "code",
   "execution_count": 6,
   "metadata": {},
   "outputs": [
    {
     "data": {
      "application/vnd.jupyter.widget-view+json": {
       "model_id": "81ad6722a67d4fe4b9fc304908a36edf",
       "version_major": 2,
       "version_minor": 0
      },
      "text/plain": [
       "Button(description='Styled button', style=ButtonStyle(font_style='italic', font_variant='small-caps', font_wei…"
      ]
     },
     "execution_count": 6,
     "metadata": {},
     "output_type": "execute_result"
    }
   ],
   "source": [
    "b3 = Button(description='Styled button', style=dict(\n",
    "    font_style='italic',\n",
    "    font_weight='bold',\n",
    "    font_variant=\"small-caps\",\n",
    "    text_color='red',\n",
    "    text_decoration='underline'\n",
    "))\n",
    "b3"
   ]
  },
  {
   "cell_type": "markdown",
   "metadata": {},
   "source": [
    "### 当前支持的属性\n",
    "\n",
    "目前，支持的样式属性因小部件而异。以下是不同 `Style` 小部件被各种其他小部件使用的列表："
   ]
  },
  {
   "cell_type": "code",
   "execution_count": 7,
   "metadata": {},
   "outputs": [],
   "source": [
    "from collections import defaultdict\n",
    "from IPython.display import HTML\n",
    "import ipywidgets\n",
    "from pprint import pprint"
   ]
  },
  {
   "cell_type": "code",
   "execution_count": 8,
   "metadata": {},
   "outputs": [
    {
     "data": {
      "text/html": [
       "<ul>\n",
       "<li><b>DescriptionStyle:</b> BoundedFloatText, BoundedIntText, ColorPicker, ColorsInput, DatePicker, DatetimePicker, Dropdown, FloatText, FloatsInput, IntText, IntsInput, NaiveDatetimePicker, Play, RadioButtons, Select, SelectMultiple, TagsInput, TimePicker, Valid</li>\n",
       "<li><b>ButtonStyle:</b> Button, FileUpload</li>\n",
       "<li><b>CheckboxStyle:</b> Checkbox</li>\n",
       "<li><b>TextStyle:</b> Combobox, Password, Text, Textarea</li>\n",
       "<li><b>SliderStyle:</b> FloatLogSlider, FloatRangeSlider, FloatSlider, IntRangeSlider, IntSlider, SelectionRangeSlider, SelectionSlider</li>\n",
       "<li><b>ProgressStyle:</b> FloatProgress, IntProgress</li>\n",
       "<li><b>HTMLStyle:</b> HTML</li>\n",
       "<li><b>HTMLMathStyle:</b> HTMLMath</li>\n",
       "<li><b>LabelStyle:</b> Label</li>\n",
       "<li><b>ToggleButtonStyle:</b> ToggleButton</li>\n",
       "<li><b>ToggleButtonsStyle:</b> ToggleButtons</li></ul>"
      ],
      "text/plain": [
       "<IPython.core.display.HTML object>"
      ]
     },
     "execution_count": 8,
     "metadata": {},
     "output_type": "execute_result"
    }
   ],
   "source": [
    "reverse_lut = defaultdict(set)\n",
    "styles = set()\n",
    "for export_name in dir(ipywidgets.widgets):\n",
    "    export = getattr(ipywidgets.widgets, export_name)\n",
    "    try:\n",
    "        if issubclass(export, ipywidgets.Widget) and 'style' in export.class_trait_names():\n",
    "            reverse_lut[export.style.klass.__name__].add(export.__name__)\n",
    "            styles.add(export.style.klass)\n",
    "    except TypeError:\n",
    "        pass\n",
    "\n",
    "html = '<ul>'\n",
    "for style, widgets in reverse_lut.items():\n",
    "    html = f\"{html}\\n<li><b>{style}:</b> {', '.join(sorted(widgets))}</li>\"\n",
    "html += \"</ul>\"\n",
    "HTML(html)"
   ]
  },
  {
   "cell_type": "markdown",
   "metadata": {},
   "source": [
    "以下是不同的 `Style` 小部件支持的不同属性："
   ]
  },
  {
   "cell_type": "code",
   "execution_count": 9,
   "metadata": {},
   "outputs": [
    {
     "data": {
      "text/html": [
       "<table>\n",
       "<tr><th>Attribute</th><th>SliderStyle</th><th>ToggleButtonStyle</th><th>TextStyle</th><th>LabelStyle</th><th>HTMLMathStyle</th><th>ButtonStyle</th><th>ProgressStyle</th><th>CheckboxStyle</th><th>DescriptionStyle</th><th>HTMLStyle</th><th>ToggleButtonsStyle</th></tr><tr><td>font_style</td><td></td><td>✓</td><td></td><td>✓</td><td></td><td>✓</td><td></td><td></td><td></td><td></td><td></td></tr><tr><td>text_decoration</td><td></td><td>✓</td><td></td><td>✓</td><td></td><td>✓</td><td></td><td></td><td></td><td></td><td></td></tr><tr><td>button_color</td><td></td><td></td><td></td><td></td><td></td><td>✓</td><td></td><td></td><td></td><td></td><td></td></tr><tr><td>handle_color</td><td>✓</td><td></td><td></td><td></td><td></td><td></td><td></td><td></td><td></td><td></td><td></td></tr><tr><td>bar_color</td><td></td><td></td><td></td><td></td><td></td><td></td><td>✓</td><td></td><td></td><td></td><td></td></tr><tr><td>font_family</td><td></td><td>✓</td><td></td><td>✓</td><td></td><td>✓</td><td></td><td></td><td></td><td></td><td></td></tr><tr><td>button_width</td><td></td><td></td><td></td><td></td><td></td><td></td><td></td><td></td><td></td><td></td><td>✓</td></tr><tr><td>description_width</td><td>✓</td><td>✓</td><td>✓</td><td>✓</td><td>✓</td><td></td><td>✓</td><td>✓</td><td>✓</td><td>✓</td><td>✓</td></tr><tr><td>font_size</td><td></td><td>✓</td><td>✓</td><td>✓</td><td>✓</td><td>✓</td><td></td><td></td><td></td><td>✓</td><td></td></tr><tr><td>font_variant</td><td></td><td>✓</td><td></td><td>✓</td><td></td><td>✓</td><td></td><td></td><td></td><td></td><td></td></tr><tr><td>background</td><td></td><td></td><td>✓</td><td>✓</td><td>✓</td><td></td><td></td><td>✓</td><td></td><td>✓</td><td></td></tr><tr><td>font_weight</td><td></td><td>✓</td><td></td><td>✓</td><td></td><td>✓</td><td></td><td></td><td></td><td></td><td>✓</td></tr><tr><td>text_color</td><td></td><td>✓</td><td>✓</td><td>✓</td><td>✓</td><td>✓</td><td></td><td></td><td></td><td>✓</td><td></td></tr></table>"
      ],
      "text/plain": [
       "<IPython.core.display.HTML object>"
      ]
     },
     "execution_count": 9,
     "metadata": {},
     "output_type": "execute_result"
    }
   ],
   "source": [
    "attributes = defaultdict(set)\n",
    "base_traits = set(ipywidgets.Style.class_trait_names())\n",
    "\n",
    "for s in styles:\n",
    "    for t in s.class_trait_names():\n",
    "        if not t.startswith(\"_\") and t not in base_traits:\n",
    "            attributes[s.__name__].add(t)\n",
    "all_attributes = set().union(*attributes.values())\n",
    "\n",
    "html = '<table>\\n'\n",
    "html = f\"{html}<tr><th>Attribute</th>{ ''.join(f'<th>{s}</th>' for s in attributes.keys()) }</tr>\"\n",
    "for a in all_attributes:\n",
    "    html = f\"\"\"{html}<tr><td>{a}</td>{ ''.join(f'<td>{\"✓\" if a in attribs else \"\"}</td>' for attribs in attributes.values()) }</tr>\"\"\"\n",
    "html += \"</table>\"\n",
    "HTML(html)"
   ]
  }
 ],
 "metadata": {
  "kernelspec": {
   "display_name": "Python 3 (ipykernel)",
   "language": "python",
   "name": "python3"
  },
  "language_info": {
   "codemirror_mode": {
    "name": "ipython",
    "version": 3
   },
   "file_extension": ".py",
   "mimetype": "text/x-python",
   "name": "python",
   "nbconvert_exporter": "python",
   "pygments_lexer": "ipython3",
   "version": "3.11.7"
  }
 },
 "nbformat": 4,
 "nbformat_minor": 4
}
