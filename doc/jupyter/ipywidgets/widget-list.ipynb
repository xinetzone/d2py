{
 "cells": [
  {
   "cell_type": "markdown",
   "metadata": {},
   "source": [
    "# Widget list"
   ]
  },
  {
   "cell_type": "code",
   "execution_count": 1,
   "metadata": {},
   "outputs": [],
   "source": [
    "import ipywidgets as widgets"
   ]
  },
  {
   "cell_type": "markdown",
   "metadata": {
    "slideshow": {
     "slide_type": "slide"
    }
   },
   "source": [
    "## Numeric widgets\n",
    "\n",
    "There are a variety of IPython widgets that are designed to display numeric values. The integer widgets have a similar naming scheme as their counterparts with floating point numbers. You can find the respective integer equivalent by replacing `Float` with` Int` in the widget name."
   ]
  },
  {
   "cell_type": "markdown",
   "metadata": {},
   "source": [
    "### IntSlider"
   ]
  },
  {
   "cell_type": "code",
   "execution_count": 2,
   "metadata": {},
   "outputs": [
    {
     "data": {
      "application/vnd.jupyter.widget-view+json": {
       "model_id": "39694750677b4072ae7673b1dcff4ac7",
       "version_major": 2,
       "version_minor": 0
      },
      "text/plain": [
       "IntSlider(value=7, continuous_update=False, description='Test:', max=10)"
      ]
     },
     "metadata": {},
     "output_type": "display_data"
    }
   ],
   "source": [
    "widgets.IntSlider(\n",
    "    value=7,\n",
    "    min=0,\n",
    "    max=10,\n",
    "    step=1,\n",
    "    description=\"Test:\",\n",
    "    disabled=False,\n",
    "    continuous_update=False,\n",
    "    orientation=\"horizontal\",\n",
    "    readout=True,\n",
    "    readout_format=\"d\",\n",
    ")"
   ]
  },
  {
   "cell_type": "markdown",
   "metadata": {
    "slideshow": {
     "slide_type": "slide"
    }
   },
   "source": [
    "### FloatSlider"
   ]
  },
  {
   "cell_type": "code",
   "execution_count": 3,
   "metadata": {},
   "outputs": [
    {
     "data": {
      "application/vnd.jupyter.widget-view+json": {
       "model_id": "a137eae21c814272a3259b7a1c5d3cd6",
       "version_major": 2,
       "version_minor": 0
      },
      "text/plain": [
       "FloatSlider(value=7.5, continuous_update=False, description='Test:', max=10.0, readout_format='.1f')"
      ]
     },
     "metadata": {},
     "output_type": "display_data"
    }
   ],
   "source": [
    "widgets.FloatSlider(\n",
    "    value=7.5,\n",
    "    min=0,\n",
    "    max=10.0,\n",
    "    step=0.1,\n",
    "    description=\"Test:\",\n",
    "    disabled=False,\n",
    "    continuous_update=False,\n",
    "    orientation=\"horizontal\",\n",
    "    readout=True,\n",
    "    readout_format=\".1f\",\n",
    ")"
   ]
  },
  {
   "cell_type": "markdown",
   "metadata": {},
   "source": [
    "Sliders can also be **displayed vertically**."
   ]
  },
  {
   "cell_type": "code",
   "execution_count": 4,
   "metadata": {},
   "outputs": [
    {
     "data": {
      "application/vnd.jupyter.widget-view+json": {
       "model_id": "f1766515960d4d29a3f6b922eb722702",
       "version_major": 2,
       "version_minor": 0
      },
      "text/plain": [
       "FloatSlider(value=7.5, continuous_update=False, description='Test:', max=10.0, orientation='vertical', readout…"
      ]
     },
     "metadata": {},
     "output_type": "display_data"
    }
   ],
   "source": [
    "widgets.FloatSlider(\n",
    "    value=7.5,\n",
    "    min=0,\n",
    "    max=10.0,\n",
    "    step=0.1,\n",
    "    description=\"Test:\",\n",
    "    disabled=False,\n",
    "    continuous_update=False,\n",
    "    orientation=\"vertical\",\n",
    "    readout=True,\n",
    "    readout_format=\".1f\",\n",
    ")"
   ]
  },
  {
   "cell_type": "markdown",
   "metadata": {},
   "source": [
    "### FloatLogSlider\n",
    "\n",
    "The `FloatLogSlider` has a scale that makes it easy to use a slider for a wide range of positive numbers. `min` and `max` refer to the minimum and maximum exponents of the base and the `value` refers to the actual value of the slider."
   ]
  },
  {
   "cell_type": "code",
   "execution_count": 5,
   "metadata": {},
   "outputs": [
    {
     "data": {
      "application/vnd.jupyter.widget-view+json": {
       "model_id": "a0c751eecea64da5a4271aa042132f73",
       "version_major": 2,
       "version_minor": 0
      },
      "text/plain": [
       "FloatLogSlider(value=10.0, description='Log Slider', max=10.0, min=-10.0, step=0.2)"
      ]
     },
     "metadata": {},
     "output_type": "display_data"
    }
   ],
   "source": [
    "widgets.FloatLogSlider(\n",
    "    value=10,\n",
    "    base=10,\n",
    "    min=-10,  # max exponent of base\n",
    "    max=10,  # min exponent of base\n",
    "    step=0.2,  # exponent step\n",
    "    description=\"Log Slider\",\n",
    ")"
   ]
  },
  {
   "cell_type": "markdown",
   "metadata": {},
   "source": [
    "### IntRangeSlider"
   ]
  },
  {
   "cell_type": "code",
   "execution_count": 6,
   "metadata": {},
   "outputs": [
    {
     "data": {
      "application/vnd.jupyter.widget-view+json": {
       "model_id": "4adb88fcaec24aad8c40edcb44e426c5",
       "version_major": 2,
       "version_minor": 0
      },
      "text/plain": [
       "IntRangeSlider(value=(5, 7), continuous_update=False, description='Test:', max=10)"
      ]
     },
     "metadata": {},
     "output_type": "display_data"
    }
   ],
   "source": [
    "widgets.IntRangeSlider(\n",
    "    value=[5, 7],\n",
    "    min=0,\n",
    "    max=10,\n",
    "    step=1,\n",
    "    description=\"Test:\",\n",
    "    disabled=False,\n",
    "    continuous_update=False,\n",
    "    orientation=\"horizontal\",\n",
    "    readout=True,\n",
    "    readout_format=\"d\",\n",
    ")"
   ]
  },
  {
   "cell_type": "markdown",
   "metadata": {},
   "source": [
    "### FloatRangeSlider"
   ]
  },
  {
   "cell_type": "code",
   "execution_count": 7,
   "metadata": {},
   "outputs": [
    {
     "data": {
      "application/vnd.jupyter.widget-view+json": {
       "model_id": "2a727e9ea52a47589f2977b77e34d0da",
       "version_major": 2,
       "version_minor": 0
      },
      "text/plain": [
       "FloatRangeSlider(value=(5.0, 7.5), continuous_update=False, description='Test:', max=10.0, readout_format='.1f…"
      ]
     },
     "metadata": {},
     "output_type": "display_data"
    }
   ],
   "source": [
    "widgets.FloatRangeSlider(\n",
    "    value=[5, 7.5],\n",
    "    min=0,\n",
    "    max=10.0,\n",
    "    step=0.1,\n",
    "    description=\"Test:\",\n",
    "    disabled=False,\n",
    "    continuous_update=False,\n",
    "    orientation=\"horizontal\",\n",
    "    readout=True,\n",
    "    readout_format=\".1f\",\n",
    ")"
   ]
  },
  {
   "cell_type": "markdown",
   "metadata": {},
   "source": [
    "### IntProgress"
   ]
  },
  {
   "cell_type": "code",
   "execution_count": 8,
   "metadata": {},
   "outputs": [
    {
     "data": {
      "application/vnd.jupyter.widget-view+json": {
       "model_id": "08d811bdf42f4cc08729a647a746de12",
       "version_major": 2,
       "version_minor": 0
      },
      "text/plain": [
       "IntProgress(value=7, description='Loading:', max=10)"
      ]
     },
     "metadata": {},
     "output_type": "display_data"
    }
   ],
   "source": [
    "widgets.IntProgress(\n",
    "    value=7,\n",
    "    min=0,\n",
    "    max=10,\n",
    "    step=1,\n",
    "    description=\"Loading:\",\n",
    "    bar_style=\"\",  # \"success\", \"info\", \"warning\", \"danger\" or \"\"\n",
    "    orientation=\"horizontal\",\n",
    ")"
   ]
  },
  {
   "cell_type": "markdown",
   "metadata": {
    "slideshow": {
     "slide_type": "slide"
    }
   },
   "source": [
    "### FloatProgress"
   ]
  },
  {
   "cell_type": "code",
   "execution_count": 9,
   "metadata": {},
   "outputs": [
    {
     "data": {
      "application/vnd.jupyter.widget-view+json": {
       "model_id": "1bc75c56cbc84316b920d45740921090",
       "version_major": 2,
       "version_minor": 0
      },
      "text/plain": [
       "FloatProgress(value=7.5, bar_style='info', description='Loading:', max=10.0)"
      ]
     },
     "metadata": {},
     "output_type": "display_data"
    }
   ],
   "source": [
    "widgets.FloatProgress(\n",
    "    value=7.5,\n",
    "    min=0,\n",
    "    max=10.0,\n",
    "    step=0.1,\n",
    "    description=\"Loading:\",\n",
    "    bar_style=\"info\",\n",
    "    orientation=\"horizontal\",\n",
    ")"
   ]
  },
  {
   "cell_type": "markdown",
   "metadata": {},
   "source": [
    "The numerical text boxes that impose some limit on the data (range, integer-only) impose that restriction when the user presses enter.\n",
    "\n",
    "### BoundedIntText"
   ]
  },
  {
   "cell_type": "code",
   "execution_count": 10,
   "metadata": {},
   "outputs": [
    {
     "data": {
      "application/vnd.jupyter.widget-view+json": {
       "model_id": "628f4e00b519492cabc1101f1efd5d74",
       "version_major": 2,
       "version_minor": 0
      },
      "text/plain": [
       "BoundedIntText(value=7, description='Text:', max=10)"
      ]
     },
     "metadata": {},
     "output_type": "display_data"
    }
   ],
   "source": [
    "widgets.BoundedIntText(\n",
    "    value=7,\n",
    "    min=0,\n",
    "    max=10,\n",
    "    step=1,\n",
    "    description=\"Text:\",\n",
    "    disabled=False\n",
    ")"
   ]
  },
  {
   "cell_type": "markdown",
   "metadata": {
    "slideshow": {
     "slide_type": "slide"
    }
   },
   "source": [
    "### BoundedFloatText"
   ]
  },
  {
   "cell_type": "code",
   "execution_count": 11,
   "metadata": {},
   "outputs": [
    {
     "data": {
      "application/vnd.jupyter.widget-view+json": {
       "model_id": "82275033a3be4a0994c003fa8b656855",
       "version_major": 2,
       "version_minor": 0
      },
      "text/plain": [
       "BoundedFloatText(value=7.5, description='Text:', max=10.0, step=0.1)"
      ]
     },
     "metadata": {},
     "output_type": "display_data"
    }
   ],
   "source": [
    "widgets.BoundedFloatText(\n",
    "    value=7.5,\n",
    "    min=0, max=10.0,\n",
    "    step=0.1,\n",
    "    description=\"Text:\",\n",
    "    disabled=False\n",
    ")"
   ]
  },
  {
   "cell_type": "markdown",
   "metadata": {},
   "source": [
    "### IntText"
   ]
  },
  {
   "cell_type": "code",
   "execution_count": 12,
   "metadata": {},
   "outputs": [
    {
     "data": {
      "application/vnd.jupyter.widget-view+json": {
       "model_id": "a43accd0be284859a980070ffcd22cb7",
       "version_major": 2,
       "version_minor": 0
      },
      "text/plain": [
       "IntText(value=7, description='Any:')"
      ]
     },
     "metadata": {},
     "output_type": "display_data"
    }
   ],
   "source": [
    "widgets.IntText(\n",
    "    value=7,\n",
    "    description=\"Any:\",\n",
    "    disabled=False\n",
    ")"
   ]
  },
  {
   "cell_type": "markdown",
   "metadata": {
    "slideshow": {
     "slide_type": "slide"
    }
   },
   "source": [
    "### FloatText"
   ]
  },
  {
   "cell_type": "code",
   "execution_count": 13,
   "metadata": {},
   "outputs": [
    {
     "data": {
      "application/vnd.jupyter.widget-view+json": {
       "model_id": "78e17d55f31d47058e1e7d2c7d4f08d0",
       "version_major": 2,
       "version_minor": 0
      },
      "text/plain": [
       "FloatText(value=7.5, description='Any:')"
      ]
     },
     "metadata": {},
     "output_type": "display_data"
    }
   ],
   "source": [
    "widgets.FloatText(\n",
    "    value=7.5,\n",
    "    description=\"Any:\",\n",
    "    disabled=False\n",
    ")"
   ]
  },
  {
   "cell_type": "markdown",
   "metadata": {
    "slideshow": {
     "slide_type": "slide"
    }
   },
   "source": [
    "## Boolean widgets\n",
    "\n",
    "There are three widgets that are designed to display Boolean values."
   ]
  },
  {
   "cell_type": "markdown",
   "metadata": {},
   "source": [
    "### ToggleButton"
   ]
  },
  {
   "cell_type": "code",
   "execution_count": 14,
   "metadata": {},
   "outputs": [
    {
     "data": {
      "application/vnd.jupyter.widget-view+json": {
       "model_id": "9766fb35280b466a8ec1360c6c78569e",
       "version_major": 2,
       "version_minor": 0
      },
      "text/plain": [
       "ToggleButton(value=False, description='Click me', icon='check', tooltip='Description')"
      ]
     },
     "metadata": {},
     "output_type": "display_data"
    }
   ],
   "source": [
    "widgets.ToggleButton(\n",
    "    value=False,\n",
    "    description=\"Click me\",\n",
    "    disabled=False,\n",
    "    button_style=\"\",  # \"success\", \"info\", \"warning\", \"danger\" or \"\"\n",
    "    tooltip=\"Description\",\n",
    "    icon=\"check\",\n",
    ")"
   ]
  },
  {
   "cell_type": "markdown",
   "metadata": {
    "slideshow": {
     "slide_type": "slide"
    }
   },
   "source": [
    "### Checkbox"
   ]
  },
  {
   "cell_type": "code",
   "execution_count": 15,
   "metadata": {},
   "outputs": [
    {
     "data": {
      "application/vnd.jupyter.widget-view+json": {
       "model_id": "80e417b6adcf4b1e9ea2f5023c2ecbe5",
       "version_major": 2,
       "version_minor": 0
      },
      "text/plain": [
       "Checkbox(value=False, description='Check me')"
      ]
     },
     "metadata": {},
     "output_type": "display_data"
    }
   ],
   "source": [
    "widgets.Checkbox(\n",
    "    value=False,\n",
    "    description=\"Check me\",\n",
    "    disabled=False\n",
    ")"
   ]
  },
  {
   "cell_type": "markdown",
   "metadata": {},
   "source": [
    "### Valid\n",
    "\n",
    "The `Valid` widget offers a read-only display."
   ]
  },
  {
   "cell_type": "code",
   "execution_count": 16,
   "metadata": {},
   "outputs": [
    {
     "data": {
      "application/vnd.jupyter.widget-view+json": {
       "model_id": "ccd79dc54d2e451ea6c5c7f23b305c50",
       "version_major": 2,
       "version_minor": 0
      },
      "text/plain": [
       "Valid(value=False, description='Valid!')"
      ]
     },
     "metadata": {},
     "output_type": "display_data"
    }
   ],
   "source": [
    "widgets.Valid(\n",
    "    value=False,\n",
    "    description=\"Valid!\",\n",
    ")"
   ]
  },
  {
   "cell_type": "markdown",
   "metadata": {
    "slideshow": {
     "slide_type": "slide"
    }
   },
   "source": [
    "## Selection widgets\n",
    "\n",
    "There are several widgets for selecting single values and two for multiple values. All inherit from the same base class."
   ]
  },
  {
   "cell_type": "markdown",
   "metadata": {
    "slideshow": {
     "slide_type": "slide"
    }
   },
   "source": [
    "### Dropdown"
   ]
  },
  {
   "cell_type": "code",
   "execution_count": 17,
   "metadata": {},
   "outputs": [
    {
     "data": {
      "application/vnd.jupyter.widget-view+json": {
       "model_id": "bfd4469e51fa4493bfe0d7948960cf42",
       "version_major": 2,
       "version_minor": 0
      },
      "text/plain": [
       "Dropdown(description='Number:', index=1, options=('1', '2', '3'), value='2')"
      ]
     },
     "metadata": {},
     "output_type": "display_data"
    }
   ],
   "source": [
    "widgets.Dropdown(\n",
    "    options=[\"1\", \"2\", \"3\"],\n",
    "    value=\"2\",\n",
    "    description=\"Number:\",\n",
    "    disabled=False,\n",
    ")"
   ]
  },
  {
   "cell_type": "markdown",
   "metadata": {
    "slideshow": {
     "slide_type": "slide"
    }
   },
   "source": [
    "### RadioButtons"
   ]
  },
  {
   "cell_type": "code",
   "execution_count": 18,
   "metadata": {},
   "outputs": [
    {
     "data": {
      "application/vnd.jupyter.widget-view+json": {
       "model_id": "74dc54985e284b4e90fe8045c7312c83",
       "version_major": 2,
       "version_minor": 0
      },
      "text/plain": [
       "RadioButtons(description='Pizza topping:', index=1, options=('pepperoni', 'pineapple', 'anchovies'), value='pi…"
      ]
     },
     "metadata": {},
     "output_type": "display_data"
    }
   ],
   "source": [
    "widgets.RadioButtons(\n",
    "    options=[\"pepperoni\", \"pineapple\", \"anchovies\"],\n",
    "    value=\"pineapple\",\n",
    "    description=\"Pizza topping:\",\n",
    "    disabled=False,\n",
    ")"
   ]
  },
  {
   "cell_type": "markdown",
   "metadata": {
    "slideshow": {
     "slide_type": "slide"
    }
   },
   "source": [
    "### Select"
   ]
  },
  {
   "cell_type": "code",
   "execution_count": 19,
   "metadata": {},
   "outputs": [
    {
     "data": {
      "application/vnd.jupyter.widget-view+json": {
       "model_id": "c7e6e61fbe3b4aaca034cdaab12f6788",
       "version_major": 2,
       "version_minor": 0
      },
      "text/plain": [
       "Select(description='OS:', index=2, options=('Linux', 'Windows', 'OSX'), rows=3, value='OSX')"
      ]
     },
     "metadata": {},
     "output_type": "display_data"
    }
   ],
   "source": [
    "widgets.Select(\n",
    "    options=[\"Linux\", \"Windows\", \"OSX\"],\n",
    "    value=\"OSX\",\n",
    "    rows=3,\n",
    "    description=\"OS:\",\n",
    "    disabled=False,\n",
    ")"
   ]
  },
  {
   "cell_type": "markdown",
   "metadata": {},
   "source": [
    "### SelectionSlider"
   ]
  },
  {
   "cell_type": "code",
   "execution_count": 20,
   "metadata": {},
   "outputs": [
    {
     "data": {
      "application/vnd.jupyter.widget-view+json": {
       "model_id": "e170ee467e8d40efa10e9630dcefb8cf",
       "version_major": 2,
       "version_minor": 0
      },
      "text/plain": [
       "SelectionSlider(continuous_update=False, description='I like my eggs …', index=1, options=('scrambled', 'sunny…"
      ]
     },
     "metadata": {},
     "output_type": "display_data"
    }
   ],
   "source": [
    "widgets.SelectionSlider(\n",
    "    options=[\"scrambled\", \"sunny side up\", \"poached\", \"over easy\"],\n",
    "    value=\"sunny side up\",\n",
    "    description=\"I like my eggs …\",\n",
    "    disabled=False,\n",
    "    continuous_update=False,\n",
    "    orientation=\"horizontal\",\n",
    "    readout=True,\n",
    ")"
   ]
  },
  {
   "cell_type": "markdown",
   "metadata": {},
   "source": [
    "### SelectionRangeSlider\n",
    "\n",
    "`index` is a tuple of minimum and maximum values."
   ]
  },
  {
   "cell_type": "code",
   "execution_count": 21,
   "metadata": {},
   "outputs": [
    {
     "data": {
      "application/vnd.jupyter.widget-view+json": {
       "model_id": "244182ba9c814858a81821d665b64c50",
       "version_major": 2,
       "version_minor": 0
      },
      "text/plain": [
       "SelectionRangeSlider(description='Months (2015)', index=(0, 11), options=(('Jan', datetime.date(2015, 1, 1)), …"
      ]
     },
     "metadata": {},
     "output_type": "display_data"
    }
   ],
   "source": [
    "import datetime\n",
    "\n",
    "\n",
    "dates = [datetime.date(2015, i, 1) for i in range(1, 13)]\n",
    "options = [(i.strftime(\"%b\"), i) for i in dates]\n",
    "widgets.SelectionRangeSlider(\n",
    "    options=options,\n",
    "    index=(0, 11),\n",
    "    description=\"Months (2015)\",\n",
    "    disabled=False\n",
    ")"
   ]
  },
  {
   "cell_type": "markdown",
   "metadata": {
    "slideshow": {
     "slide_type": "slide"
    }
   },
   "source": [
    "### ToggleButtons"
   ]
  },
  {
   "cell_type": "code",
   "execution_count": 22,
   "metadata": {},
   "outputs": [
    {
     "data": {
      "application/vnd.jupyter.widget-view+json": {
       "model_id": "3730828ddfc845688c0a38af9cbde2f3",
       "version_major": 2,
       "version_minor": 0
      },
      "text/plain": [
       "ToggleButtons(description='Speed:', icons=('check', 'check'), options=('Slow', 'Regular', 'Fast'), tooltips=('…"
      ]
     },
     "metadata": {},
     "output_type": "display_data"
    }
   ],
   "source": [
    "widgets.ToggleButtons(\n",
    "    options=[\"Slow\", \"Regular\", \"Fast\"],\n",
    "    description=\"Speed:\",\n",
    "    disabled=False,\n",
    "    button_style=\"\",  # \"success\", \"info\", \"warning\", \"danger\" or \"\"\n",
    "    tooltips=[\n",
    "        \"Description of slow\",\n",
    "        \"Description of regular\",\n",
    "        \"Description of fast\",\n",
    "    ],\n",
    "    icons=[\"check\"] * 2\n",
    ")"
   ]
  },
  {
   "cell_type": "markdown",
   "metadata": {},
   "source": [
    "### SelectMultiple\n",
    "\n",
    "Several values can be selected by holding down the <kbd>shift</kbd> and/or <kbd>ctrl</kbd> (or <kbd>command</kbd>) keys and clicking the mouse or arrow keys."
   ]
  },
  {
   "cell_type": "code",
   "execution_count": 23,
   "metadata": {},
   "outputs": [
    {
     "data": {
      "application/vnd.jupyter.widget-view+json": {
       "model_id": "aaa3e6e19ff64325b678e0b5b26462a7",
       "version_major": 2,
       "version_minor": 0
      },
      "text/plain": [
       "SelectMultiple(description='Fruits', index=(1,), options=('Apples', 'Oranges', 'Pears'), rows=3, value=('Orang…"
      ]
     },
     "metadata": {},
     "output_type": "display_data"
    }
   ],
   "source": [
    "widgets.SelectMultiple(\n",
    "    options=[\"Apples\", \"Oranges\", \"Pears\"],\n",
    "    value=[\"Oranges\"],\n",
    "    rows=3,\n",
    "    description=\"Fruits\",\n",
    "    disabled=False,\n",
    ")"
   ]
  },
  {
   "cell_type": "markdown",
   "metadata": {
    "slideshow": {
     "slide_type": "slide"
    }
   },
   "source": [
    "## String-Widgets\n",
    "\n",
    "There are several widgets that can be used to display strings. The widgets `Text` and` Textarea` accept input; the widgets `HTML` and` HTMLMath` display a string as HTML (`HTMLMath` also renders mathematical formulas)."
   ]
  },
  {
   "cell_type": "markdown",
   "metadata": {
    "slideshow": {
     "slide_type": "slide"
    }
   },
   "source": [
    "### Text"
   ]
  },
  {
   "cell_type": "code",
   "execution_count": 24,
   "metadata": {},
   "outputs": [
    {
     "data": {
      "application/vnd.jupyter.widget-view+json": {
       "model_id": "67241852dad34934b43e0823cf9ec7b0",
       "version_major": 2,
       "version_minor": 0
      },
      "text/plain": [
       "Text(value='Hello World', description='String:', placeholder='Type something')"
      ]
     },
     "metadata": {},
     "output_type": "display_data"
    }
   ],
   "source": [
    "widgets.Text(\n",
    "    value=\"Hello World\",\n",
    "    placeholder=\"Type something\",\n",
    "    description=\"String:\",\n",
    "    disabled=False,\n",
    ")"
   ]
  },
  {
   "cell_type": "markdown",
   "metadata": {},
   "source": [
    "### Textarea"
   ]
  },
  {
   "cell_type": "code",
   "execution_count": 25,
   "metadata": {},
   "outputs": [
    {
     "data": {
      "application/vnd.jupyter.widget-view+json": {
       "model_id": "41eb126a6a2a4d80bd638230e0b554f7",
       "version_major": 2,
       "version_minor": 0
      },
      "text/plain": [
       "Textarea(value='Hello World', description='String:', placeholder='Type something')"
      ]
     },
     "metadata": {},
     "output_type": "display_data"
    }
   ],
   "source": [
    "widgets.Textarea(\n",
    "    value=\"Hello World\",\n",
    "    placeholder=\"Type something\",\n",
    "    description=\"String:\",\n",
    "    disabled=False,\n",
    ")"
   ]
  },
  {
   "cell_type": "markdown",
   "metadata": {
    "slideshow": {
     "slide_type": "slide"
    }
   },
   "source": [
    "### Label\n",
    "\n",
    "The `Label` widget is useful for custom descriptions that are similar in style to the built-in descriptions."
   ]
  },
  {
   "cell_type": "code",
   "execution_count": 26,
   "metadata": {},
   "outputs": [
    {
     "data": {
      "application/vnd.jupyter.widget-view+json": {
       "model_id": "265d3691bfb34392bcf7359feb02ce14",
       "version_major": 2,
       "version_minor": 0
      },
      "text/plain": [
       "HBox(children=(Label(value='The $m$ in $E=mc^2$:'), FloatSlider(value=0.0)))"
      ]
     },
     "metadata": {},
     "output_type": "display_data"
    }
   ],
   "source": [
    "widgets.HBox(\n",
    "    [widgets.Label(value=\"The $m$ in $E=mc^2$:\"), widgets.FloatSlider()]\n",
    ")"
   ]
  },
  {
   "cell_type": "markdown",
   "metadata": {},
   "source": [
    "### HTML"
   ]
  },
  {
   "cell_type": "code",
   "execution_count": 27,
   "metadata": {},
   "outputs": [
    {
     "data": {
      "application/vnd.jupyter.widget-view+json": {
       "model_id": "38d2a896c2e94000a8c85ad3877dfe71",
       "version_major": 2,
       "version_minor": 0
      },
      "text/plain": [
       "HTML(value='Hello <b>World</b>', description='Some HTML', placeholder='Some HTML')"
      ]
     },
     "metadata": {},
     "output_type": "display_data"
    }
   ],
   "source": [
    "widgets.HTML(\n",
    "    value=\"Hello <b>World</b>\",\n",
    "    placeholder=\"Some HTML\",\n",
    "    description=\"Some HTML\",\n",
    ")"
   ]
  },
  {
   "cell_type": "markdown",
   "metadata": {},
   "source": [
    "### HTML Math"
   ]
  },
  {
   "cell_type": "code",
   "execution_count": 28,
   "metadata": {},
   "outputs": [
    {
     "data": {
      "application/vnd.jupyter.widget-view+json": {
       "model_id": "85a7bd45f722432fb08fb89f21fb66e0",
       "version_major": 2,
       "version_minor": 0
      },
      "text/plain": [
       "HTMLMath(value='Some math and <i>HTML</i>: \\\\(x^2\\\\) and $$\\\\frac{x+1}{x-1}$$', description='Some HTML', place…"
      ]
     },
     "metadata": {},
     "output_type": "display_data"
    }
   ],
   "source": [
    "widgets.HTMLMath(\n",
    "    value=r\"Some math and <i>HTML</i>: \\(x^2\\) and $$\\frac{x+1}{x-1}$$\",\n",
    "    placeholder=\"Some HTML\",\n",
    "    description=\"Some HTML\",\n",
    ")"
   ]
  },
  {
   "cell_type": "markdown",
   "metadata": {},
   "source": [
    "## Image"
   ]
  },
  {
   "cell_type": "code",
   "execution_count": 29,
   "metadata": {
    "scrolled": true
   },
   "outputs": [
    {
     "data": {
      "application/vnd.jupyter.widget-view+json": {
       "model_id": "987bfeca12b441d7bcafb5c5ae828e25",
       "version_major": 2,
       "version_minor": 0
      },
      "text/plain": [
       "Image(value=b'GIF89a\\x1e\\x01\\x1e\\x01\\xc4\\x1f\\x00c\\x8d\\xff\\xea\\xea\\xea\\xc7\\xc7\\xc7\\x00\\x00\\x00\\xa0H\\x00\\xa6\\xa6…"
      ]
     },
     "metadata": {},
     "output_type": "display_data"
    }
   ],
   "source": [
    "file = open(\"smiley.gif\", \"rb\")\n",
    "image = file.read()\n",
    "widgets.Image(\n",
    "    value=image,\n",
    "    format=\"gif\",\n",
    "    width=128,\n",
    "    height=128,\n",
    ")"
   ]
  },
  {
   "cell_type": "markdown",
   "metadata": {
    "slideshow": {
     "slide_type": "slide"
    }
   },
   "source": [
    "## Button"
   ]
  },
  {
   "cell_type": "code",
   "execution_count": 30,
   "metadata": {},
   "outputs": [
    {
     "data": {
      "application/vnd.jupyter.widget-view+json": {
       "model_id": "f49df2ed5b414a27bba2f3bfe7d61e9a",
       "version_major": 2,
       "version_minor": 0
      },
      "text/plain": [
       "Button(description='Click me', icon='check', style=ButtonStyle(), tooltip='Click me')"
      ]
     },
     "metadata": {},
     "output_type": "display_data"
    }
   ],
   "source": [
    "widgets.Button(\n",
    "    description=\"Click me\",\n",
    "    disabled=False,\n",
    "    button_style=\"\",  # \"success\", \"info\", \"warning\", \"danger\" or \"\"\n",
    "    tooltip=\"Click me\",\n",
    "    icon=\"check\",\n",
    ")"
   ]
  },
  {
   "cell_type": "markdown",
   "metadata": {},
   "source": [
    "## Output\n",
    "\n",
    "The `Output` widget can record and display `stdout`, `stderr` and [IPython.display](https://ipython.readthedocs.io/en/stable/api/generated/IPython.display.html#module-IPython.display ).\n",
    "\n",
    "You can attach the output to an output widget or delete it programmatically."
   ]
  },
  {
   "cell_type": "code",
   "execution_count": 31,
   "metadata": {},
   "outputs": [],
   "source": [
    "out = widgets.Output(layout={\"border\": \"1px solid black\"})"
   ]
  },
  {
   "cell_type": "code",
   "execution_count": 32,
   "metadata": {},
   "outputs": [],
   "source": [
    "with out:\n",
    "    for i in range(5):\n",
    "        print(i, \"Hello world!\")"
   ]
  },
  {
   "cell_type": "code",
   "execution_count": 33,
   "metadata": {},
   "outputs": [],
   "source": [
    "from IPython.display import YouTubeVideo\n",
    "\n",
    "\n",
    "with out:\n",
    "    display(YouTubeVideo(\"eWzY2nGfkXk\"))"
   ]
  },
  {
   "cell_type": "code",
   "execution_count": 34,
   "metadata": {},
   "outputs": [
    {
     "data": {
      "application/vnd.jupyter.widget-view+json": {
       "model_id": "5f5e06296dc941d4b8a1a0b56a674784",
       "version_major": 2,
       "version_minor": 0
      },
      "text/plain": [
       "Output(layout=Layout(border='1px solid black'))"
      ]
     },
     "metadata": {},
     "output_type": "display_data"
    }
   ],
   "source": [
    "out"
   ]
  },
  {
   "cell_type": "code",
   "execution_count": 35,
   "metadata": {},
   "outputs": [],
   "source": [
    "out.clear_output()"
   ]
  },
  {
   "cell_type": "markdown",
   "metadata": {},
   "source": [
    "Wir können Ausgaben auch direkt anhängen mit den Methoden `append_stdout`, `append_stderr` oder `append_display_data`."
   ]
  },
  {
   "cell_type": "code",
   "execution_count": 36,
   "metadata": {},
   "outputs": [
    {
     "data": {
      "application/vnd.jupyter.widget-view+json": {
       "model_id": "3e9dc1a12f06490ab28012a36a70e205",
       "version_major": 2,
       "version_minor": 0
      },
      "text/plain": [
       "Output(layout=Layout(border='1px solid black'), outputs=({'output_type': 'stream', 'name': 'stdout', 'text': '…"
      ]
     },
     "metadata": {},
     "output_type": "display_data"
    }
   ],
   "source": [
    "out = widgets.Output(layout={\"border\": \"1px solid black\"})\n",
    "out.append_stdout(\"Output appended with append_stdout\")\n",
    "out.append_display_data(YouTubeVideo(\"eWzY2nGfkXk\"))\n",
    "out"
   ]
  },
  {
   "cell_type": "markdown",
   "metadata": {},
   "source": [
    "You can find detailed documentation in [Output widgets](https://ipywidgets.readthedocs.io/en/stable/examples/Output%20Widget.html)."
   ]
  },
  {
   "cell_type": "markdown",
   "metadata": {},
   "source": [
    "## Play/Animation-Widget\n",
    "\n",
    "The `Play` widget is useful for running animations that you want to run at a specific speed. In the following example, a slider is linked to the player."
   ]
  },
  {
   "cell_type": "code",
   "execution_count": 37,
   "metadata": {},
   "outputs": [
    {
     "data": {
      "application/vnd.jupyter.widget-view+json": {
       "model_id": "43d7cd526e6e491289ea2b8d107b5065",
       "version_major": 2,
       "version_minor": 0
      },
      "text/plain": [
       "HBox(children=(Play(value=50, description='Press play', interval=10), IntSlider(value=0)))"
      ]
     },
     "metadata": {},
     "output_type": "display_data"
    }
   ],
   "source": [
    "play = widgets.Play(\n",
    "    interval=10,\n",
    "    value=50,\n",
    "    min=0,\n",
    "    max=100,\n",
    "    step=1,\n",
    "    description=\"Press play\",\n",
    "    disabled=False,\n",
    ")\n",
    "slider = widgets.IntSlider()\n",
    "widgets.jslink((play, \"value\"), (slider, \"value\"))\n",
    "widgets.HBox([play, slider])"
   ]
  },
  {
   "cell_type": "markdown",
   "metadata": {},
   "source": [
    "## DatePicker\n",
    "\n",
    "The date picker widget works in Chrome, Firefox and IE Edge, but not currently in Safari because it does not support `input type=\"date\"`."
   ]
  },
  {
   "cell_type": "code",
   "execution_count": 38,
   "metadata": {},
   "outputs": [
    {
     "data": {
      "application/vnd.jupyter.widget-view+json": {
       "model_id": "e7188400def14aa289885ee404688caf",
       "version_major": 2,
       "version_minor": 0
      },
      "text/plain": [
       "DatePicker(value=None, description='Pick a Date')"
      ]
     },
     "metadata": {},
     "output_type": "display_data"
    }
   ],
   "source": [
    "widgets.DatePicker(\n",
    "    description=\"Pick a Date\",\n",
    "    disabled=False\n",
    ")"
   ]
  },
  {
   "cell_type": "markdown",
   "metadata": {},
   "source": [
    "## Color picker"
   ]
  },
  {
   "cell_type": "code",
   "execution_count": 39,
   "metadata": {},
   "outputs": [
    {
     "data": {
      "application/vnd.jupyter.widget-view+json": {
       "model_id": "ebf932b727aa4becb17cf667d08f551a",
       "version_major": 2,
       "version_minor": 0
      },
      "text/plain": [
       "ColorPicker(value='blue', description='Pick a color')"
      ]
     },
     "metadata": {},
     "output_type": "display_data"
    }
   ],
   "source": [
    "widgets.ColorPicker(\n",
    "    concise=False,\n",
    "    description=\"Pick a color\",\n",
    "    value=\"blue\",\n",
    "    disabled=False\n",
    ")"
   ]
  },
  {
   "cell_type": "markdown",
   "metadata": {},
   "source": [
    "## Controller\n",
    "\n",
    "`Controller` enables the use of a game controller as an input device."
   ]
  },
  {
   "cell_type": "code",
   "execution_count": 40,
   "metadata": {},
   "outputs": [
    {
     "data": {
      "application/vnd.jupyter.widget-view+json": {
       "model_id": "9ec3154474d54b54bb23c3c8e47e3c94",
       "version_major": 2,
       "version_minor": 0
      },
      "text/plain": [
       "Controller()"
      ]
     },
     "metadata": {},
     "output_type": "display_data"
    }
   ],
   "source": [
    "widgets.Controller(\n",
    "    index=0,\n",
    ")"
   ]
  },
  {
   "cell_type": "markdown",
   "metadata": {},
   "source": [
    "## Container/layout widgets\n",
    "\n",
    "These widgets are used to store other widgets called `children`."
   ]
  },
  {
   "cell_type": "markdown",
   "metadata": {},
   "source": [
    "### Box"
   ]
  },
  {
   "cell_type": "code",
   "execution_count": 41,
   "metadata": {},
   "outputs": [
    {
     "data": {
      "application/vnd.jupyter.widget-view+json": {
       "model_id": "1c96de2755874b9abca376f81fc79214",
       "version_major": 2,
       "version_minor": 0
      },
      "text/plain": [
       "Box(children=(Label(value='0'), Label(value='1'), Label(value='2'), Label(value='3')))"
      ]
     },
     "metadata": {},
     "output_type": "display_data"
    }
   ],
   "source": [
    "items = [widgets.Label(str(i)) for i in range(4)]\n",
    "widgets.Box(items)"
   ]
  },
  {
   "cell_type": "markdown",
   "metadata": {},
   "source": [
    "### HBox"
   ]
  },
  {
   "cell_type": "code",
   "execution_count": 42,
   "metadata": {},
   "outputs": [
    {
     "data": {
      "application/vnd.jupyter.widget-view+json": {
       "model_id": "a0c822acb6794533b8d8b457664971fb",
       "version_major": 2,
       "version_minor": 0
      },
      "text/plain": [
       "HBox(children=(Label(value='0'), Label(value='1'), Label(value='2'), Label(value='3')))"
      ]
     },
     "metadata": {},
     "output_type": "display_data"
    }
   ],
   "source": [
    "items = [widgets.Label(str(i)) for i in range(4)]\n",
    "widgets.HBox(items)"
   ]
  },
  {
   "cell_type": "markdown",
   "metadata": {},
   "source": [
    "### VBox"
   ]
  },
  {
   "cell_type": "code",
   "execution_count": 43,
   "metadata": {},
   "outputs": [
    {
     "data": {
      "application/vnd.jupyter.widget-view+json": {
       "model_id": "5150c7ab01544ee0a71365cf229f471a",
       "version_major": 2,
       "version_minor": 0
      },
      "text/plain": [
       "HBox(children=(VBox(children=(Label(value='0'), Label(value='1'))), VBox(children=(Label(value='2'), Label(val…"
      ]
     },
     "metadata": {},
     "output_type": "display_data"
    }
   ],
   "source": [
    "items = [widgets.Label(str(i)) for i in range(4)]\n",
    "left_box = widgets.VBox([items[0], items[1]])\n",
    "right_box = widgets.VBox([items[2], items[3]])\n",
    "widgets.HBox([left_box, right_box])"
   ]
  },
  {
   "cell_type": "markdown",
   "metadata": {},
   "source": [
    "### Accordion"
   ]
  },
  {
   "cell_type": "code",
   "execution_count": 44,
   "metadata": {},
   "outputs": [
    {
     "data": {
      "application/vnd.jupyter.widget-view+json": {
       "model_id": "021ee7ca681948199411c1db7e2158c0",
       "version_major": 2,
       "version_minor": 0
      },
      "text/plain": [
       "Accordion(children=(IntSlider(value=0), Text(value='')), _titles={'0': 'Slider', '1': 'Text'})"
      ]
     },
     "metadata": {},
     "output_type": "display_data"
    }
   ],
   "source": [
    "accordion = widgets.Accordion(children=[widgets.IntSlider(), widgets.Text()])\n",
    "accordion.set_title(0, \"Slider\")\n",
    "accordion.set_title(1, \"Text\")\n",
    "accordion"
   ]
  },
  {
   "cell_type": "markdown",
   "metadata": {},
   "source": [
    "### Tabs\n",
    "\n",
    "In this example the children are set after the tab is created. Titles for the tabes are set in the same way they are for `Accordion`."
   ]
  },
  {
   "cell_type": "code",
   "execution_count": 45,
   "metadata": {},
   "outputs": [
    {
     "data": {
      "application/vnd.jupyter.widget-view+json": {
       "model_id": "ee93cadb285f489782ccf9f74eec88c7",
       "version_major": 2,
       "version_minor": 0
      },
      "text/plain": [
       "Tab(children=(Text(value='', description='P0'), Text(value='', description='P1'), Text(value='', description='…"
      ]
     },
     "metadata": {},
     "output_type": "display_data"
    }
   ],
   "source": [
    "tab_contents = [\"P0\", \"P1\", \"P2\", \"P3\", \"P4\"]\n",
    "children = [widgets.Text(description=name) for name in tab_contents]\n",
    "tab = widgets.Tab()\n",
    "tab.children = children\n",
    "for i in range(len(children)):\n",
    "    tab.set_title(i, str(i))\n",
    "tab"
   ]
  },
  {
   "cell_type": "markdown",
   "metadata": {},
   "source": [
    "### `Accordion` and` Tab`\n",
    "\n",
    "Unlike the other widgets previously described, the container widgets `Accordion` and` Tab` update their `selected_index` attribute when the user changes the accordion or tab; In addition to user input, the `selected_index` can also be set programmatically.\n",
    "\n",
    "If `selected_index = None` is chosen, all accordions will be closed or all tabs will be deselected."
   ]
  },
  {
   "cell_type": "markdown",
   "metadata": {},
   "source": [
    "In the following notebook cells the value of `selected_index` of the tab and/or accordion is displayed."
   ]
  },
  {
   "cell_type": "code",
   "execution_count": 46,
   "metadata": {},
   "outputs": [],
   "source": [
    "tab.selected_index = 3"
   ]
  },
  {
   "cell_type": "code",
   "execution_count": 47,
   "metadata": {},
   "outputs": [],
   "source": [
    "accordion.selected_index = None"
   ]
  },
  {
   "cell_type": "markdown",
   "metadata": {},
   "source": [
    "### Nesting tabs and accordions\n",
    "\n",
    "Tabs and accordions can be nested as deeply as you want. The following example shows some tabs with an accordion as `children`."
   ]
  },
  {
   "cell_type": "code",
   "execution_count": 48,
   "metadata": {},
   "outputs": [
    {
     "data": {
      "application/vnd.jupyter.widget-view+json": {
       "model_id": "51ede951886749d08e23495fc7db38c0",
       "version_major": 2,
       "version_minor": 0
      },
      "text/plain": [
       "Tab(children=(Accordion(children=(IntSlider(value=0), Text(value='')), selected_index=None, _titles={'0': 'Sli…"
      ]
     },
     "metadata": {},
     "output_type": "display_data"
    }
   ],
   "source": [
    "tab_nest = widgets.Tab()\n",
    "tab_nest.children = [accordion, accordion]\n",
    "tab_nest.set_title(0, \"An accordion\")\n",
    "tab_nest.set_title(1, \"Copy of the accordion\")\n",
    "tab_nest"
   ]
  }
 ],
 "metadata": {
  "kernelspec": {
   "display_name": "Python 3.11 Kernel",
   "language": "python",
   "name": "python311"
  },
  "language_info": {
   "codemirror_mode": {
    "name": "ipython",
    "version": 3
   },
   "file_extension": ".py",
   "mimetype": "text/x-python",
   "name": "python",
   "nbconvert_exporter": "python",
   "pygments_lexer": "ipython3",
   "version": "3.11.4"
  },
  "latex_envs": {
   "LaTeX_envs_menu_present": true,
   "autoclose": false,
   "autocomplete": true,
   "bibliofile": "biblio.bib",
   "cite_by": "apalike",
   "current_citInitial": 1,
   "eqLabelWithNumbers": true,
   "eqNumInitial": 1,
   "hotkeys": {
    "equation": "Ctrl-E",
    "itemize": "Ctrl-I"
   },
   "labels_anchors": false,
   "latex_user_defs": false,
   "report_style_numbering": false,
   "user_envs_cfg": false
  },
  "varInspector": {
   "cols": {
    "lenName": 16,
    "lenType": 16,
    "lenVar": 40
   },
   "kernels_config": {
    "python": {
     "delete_cmd_postfix": "",
     "delete_cmd_prefix": "del ",
     "library": "var_list.py",
     "varRefreshCmd": "print(var_dic_list())"
    },
    "r": {
     "delete_cmd_postfix": ") ",
     "delete_cmd_prefix": "rm(",
     "library": "var_list.r",
     "varRefreshCmd": "cat(var_dic_list()) "
    }
   },
   "types_to_exclude": [
    "module",
    "function",
    "builtin_function_or_method",
    "instance",
    "_Feature"
   ],
   "window_display": false
  },
  "widgets": {
   "application/vnd.jupyter.widget-state+json": {
    "state": {
     "00a2a225ab24407ab131429e07e461f1": {
      "model_module": "@jupyter-widgets/controls",
      "model_module_version": "1.5.0",
      "model_name": "LabelModel",
      "state": {
       "layout": "IPY_MODEL_c8bb322d5f7846b9bf52a31ee865a421",
       "style": "IPY_MODEL_97984c60db55452fa77e975ec190ced3",
       "value": "3"
      }
     },
     "00b407d924be4b3d8caf84605caf278d": {
      "model_module": "@jupyter-widgets/base",
      "model_module_version": "1.2.0",
      "model_name": "LayoutModel",
      "state": {}
     },
     "00c0e514228446bd88f40d2460932331": {
      "model_module": "@jupyter-widgets/controls",
      "model_module_version": "1.5.0",
      "model_name": "ButtonModel",
      "state": {
       "description": "Click me",
       "icon": "check",
       "layout": "IPY_MODEL_55904d19a1d149f6a6d41c973b8ed28b",
       "style": "IPY_MODEL_8165cef524794487a2490a73ac920e64",
       "tooltip": "Click me"
      }
     },
     "010cc28806d0474b8a0605e060747827": {
      "model_module": "@jupyter-widgets/controls",
      "model_module_version": "1.5.0",
      "model_name": "IntRangeSliderModel",
      "state": {
       "_model_name": "IntRangeSliderModel",
       "_view_name": "IntRangeSliderView",
       "continuous_update": false,
       "description": "Test:",
       "layout": "IPY_MODEL_dfefefe32f2c4c13a94b14768b79adaa",
       "max": 10,
       "style": "IPY_MODEL_b8d34acac38f4753b5f6a961bcace13b",
       "value": [
        5,
        7
       ]
      }
     },
     "01209ec3fcb64f39beb9a2fc63d37d7d": {
      "model_module": "@jupyter-widgets/controls",
      "model_module_version": "1.5.0",
      "model_name": "IntSliderModel",
      "state": {
       "layout": "IPY_MODEL_908903d126434ef0b0e772156f7d31cd",
       "style": "IPY_MODEL_57a064f5bf724e758e5b04e7e277e799",
       "value": 50
      }
     },
     "0127fb7e51aa42199fd9595e1161dfd3": {
      "model_module": "@jupyter-widgets/base",
      "model_module_version": "1.2.0",
      "model_name": "LayoutModel",
      "state": {}
     },
     "012e465a2e3e4103b1a196017261304a": {
      "model_module": "@jupyter-widgets/base",
      "model_module_version": "1.2.0",
      "model_name": "LayoutModel",
      "state": {}
     },
     "015141116898402e8a3f209ecf217820": {
      "model_module": "@jupyter-widgets/base",
      "model_module_version": "1.2.0",
      "model_name": "LayoutModel",
      "state": {}
     },
     "0164c1db3bc14e14a831fb5fa33502d4": {
      "model_module": "@jupyter-widgets/base",
      "model_module_version": "1.2.0",
      "model_name": "LayoutModel",
      "state": {}
     },
     "0174107887014092b192d8a6b4330ec7": {
      "model_module": "@jupyter-widgets/base",
      "model_module_version": "1.2.0",
      "model_name": "LayoutModel",
      "state": {}
     },
     "0180b717e38d4040aa7955e37d29c252": {
      "model_module": "@jupyter-widgets/controls",
      "model_module_version": "1.5.0",
      "model_name": "DescriptionStyleModel",
      "state": {
       "description_width": ""
      }
     },
     "01a2636ce4c54b8491f13f4ada294cd1": {
      "model_module": "@jupyter-widgets/base",
      "model_module_version": "1.2.0",
      "model_name": "LayoutModel",
      "state": {}
     },
     "01aadf5780a8464fa84be67e35630dc8": {
      "model_module": "@jupyter-widgets/controls",
      "model_module_version": "1.5.0",
      "model_name": "DescriptionStyleModel",
      "state": {
       "description_width": ""
      }
     },
     "01dc0d6c30ff48f88b6a07b1628ccaea": {
      "model_module": "@jupyter-widgets/base",
      "model_module_version": "1.2.0",
      "model_name": "LayoutModel",
      "state": {}
     },
     "021ee7ca681948199411c1db7e2158c0": {
      "model_module": "@jupyter-widgets/controls",
      "model_module_version": "1.5.0",
      "model_name": "AccordionModel",
      "state": {
       "_titles": {
        "0": "Slider",
        "1": "Text"
       },
       "children": [
        "IPY_MODEL_5d0dc9fa84434c93ab957ba7dea0483c",
        "IPY_MODEL_2f2904e091754f0f9577c3b512efaf45"
       ],
       "layout": "IPY_MODEL_6d05a9b61ef142afaaaafe1f4a86a431",
       "selected_index": null
      }
     },
     "02760b3333034c0eaf1f65de063f77a9": {
      "model_module": "@jupyter-widgets/controls",
      "model_module_version": "1.5.0",
      "model_name": "DescriptionStyleModel",
      "state": {
       "description_width": ""
      }
     },
     "02b2a4a5adb14c2596569460d6b61e4e": {
      "model_module": "@jupyter-widgets/base",
      "model_module_version": "1.2.0",
      "model_name": "LayoutModel",
      "state": {}
     },
     "02bf9c9559d84beaa4a98cbaff30919f": {
      "model_module": "@jupyter-widgets/base",
      "model_module_version": "1.2.0",
      "model_name": "LayoutModel",
      "state": {}
     },
     "03402f3fb8114bd09fc505440e638e82": {
      "model_module": "@jupyter-widgets/base",
      "model_module_version": "1.2.0",
      "model_name": "LayoutModel",
      "state": {}
     },
     "0382d016e3574e6c8ea0edaffc48c572": {
      "model_module": "@jupyter-widgets/controls",
      "model_module_version": "1.5.0",
      "model_name": "SliderStyleModel",
      "state": {
       "description_width": ""
      }
     },
     "03873a931cc14af0bb4044193bcc299f": {
      "model_module": "@jupyter-widgets/controls",
      "model_module_version": "1.5.0",
      "model_name": "DescriptionStyleModel",
      "state": {
       "description_width": ""
      }
     },
     "038d03f9eb32434fba0c45fdedea6f2f": {
      "model_module": "@jupyter-widgets/base",
      "model_module_version": "1.2.0",
      "model_name": "LayoutModel",
      "state": {}
     },
     "04062bdf7b474ab99f738ffc22f7dd5e": {
      "model_module": "@jupyter-widgets/controls",
      "model_module_version": "1.5.0",
      "model_name": "FloatSliderModel",
      "state": {
       "continuous_update": false,
       "description": "Test:",
       "layout": "IPY_MODEL_5419d4e9133e43feb3023fc15fb4157c",
       "max": 10,
       "orientation": "vertical",
       "readout_format": ".1f",
       "step": 0.1,
       "style": "IPY_MODEL_fa0479dfa5294f8d94d927aa270c07b7",
       "value": 7.5
      }
     },
     "04b03f832fba462eac4cf92de00e2a22": {
      "model_module": "@jupyter-widgets/controls",
      "model_module_version": "1.5.0",
      "model_name": "SliderStyleModel",
      "state": {
       "description_width": ""
      }
     },
     "04bf8193fabe48d9a972d2ba709eec07": {
      "model_module": "@jupyter-widgets/controls",
      "model_module_version": "1.5.0",
      "model_name": "LabelModel",
      "state": {
       "layout": "IPY_MODEL_bfcd1595b5324fc28232c8165d5aa82d",
       "style": "IPY_MODEL_e3433d4767c5446e9846cc4ac61b2a66",
       "value": "0"
      }
     },
     "04cdb1ba17794522a346a152b2e4ba56": {
      "model_module": "@jupyter-widgets/base",
      "model_module_version": "1.2.0",
      "model_name": "LayoutModel",
      "state": {}
     },
     "050378c574b749f0bc224daea618c909": {
      "model_module": "@jupyter-widgets/base",
      "model_module_version": "1.2.0",
      "model_name": "LayoutModel",
      "state": {}
     },
     "06bbd57ab9744d9db23ca392470c2d58": {
      "model_module": "@jupyter-widgets/base",
      "model_module_version": "1.2.0",
      "model_name": "LayoutModel",
      "state": {}
     },
     "0723aa09e91d41659991dc25c91407cb": {
      "model_module": "@jupyter-widgets/base",
      "model_module_version": "1.2.0",
      "model_name": "LayoutModel",
      "state": {}
     },
     "0755f415a2d642ca8abadb8133e75db6": {
      "model_module": "@jupyter-widgets/base",
      "model_module_version": "1.2.0",
      "model_name": "LayoutModel",
      "state": {}
     },
     "076fa62a30d94578b011f4e68683c7fe": {
      "model_module": "@jupyter-widgets/controls",
      "model_module_version": "1.5.0",
      "model_name": "DescriptionStyleModel",
      "state": {
       "description_width": ""
      }
     },
     "07962ae2a54b498d97be185df0a91eea": {
      "model_module": "@jupyter-widgets/controls",
      "model_module_version": "1.5.0",
      "model_name": "DescriptionStyleModel",
      "state": {
       "description_width": ""
      }
     },
     "07cee7ff79df4e70ab245c7a6cb4a0f8": {
      "model_module": "@jupyter-widgets/base",
      "model_module_version": "1.2.0",
      "model_name": "LayoutModel",
      "state": {}
     },
     "07d7cb73bb7b4d0dba486c656c91ec78": {
      "model_module": "@jupyter-widgets/base",
      "model_module_version": "1.2.0",
      "model_name": "LayoutModel",
      "state": {}
     },
     "08038d2c0bbf4b05be11e07971649c7a": {
      "model_module": "@jupyter-widgets/controls",
      "model_module_version": "1.5.0",
      "model_name": "SliderStyleModel",
      "state": {
       "description_width": ""
      }
     },
     "084127424c97499795a012bf742d802a": {
      "model_module": "@jupyter-widgets/base",
      "model_module_version": "1.2.0",
      "model_name": "LayoutModel",
      "state": {}
     },
     "0852c418c35446a9a16cb54a31bbe750": {
      "model_module": "@jupyter-widgets/controls",
      "model_module_version": "1.5.0",
      "model_name": "SelectionRangeSliderModel",
      "state": {
       "_model_name": "SelectionRangeSliderModel",
       "_options_labels": [
        "Jan",
        "Feb",
        "Mar",
        "Apr",
        "May",
        "Jun",
        "Jul",
        "Aug",
        "Sep",
        "Oct",
        "Nov",
        "Dec"
       ],
       "_view_name": "SelectionRangeSliderView",
       "description": "Months (2015)",
       "index": [
        0,
        11
       ],
       "layout": "IPY_MODEL_945d5504bd5944fd83aea640910018d9",
       "style": "IPY_MODEL_d6e075c24742402bb09ccceea6b22f76"
      }
     },
     "0853a1cff24a4032a16c0e17c38766d2": {
      "model_module": "@jupyter-widgets/controls",
      "model_module_version": "1.5.0",
      "model_name": "DescriptionStyleModel",
      "state": {
       "description_width": ""
      }
     },
     "08753f463654451c9c4be8bf1dddd8b0": {
      "model_module": "@jupyter-widgets/controls",
      "model_module_version": "1.5.0",
      "model_name": "ControllerModel",
      "state": {
       "layout": "IPY_MODEL_4c4bc1e53b284d6ea5d2b38fa579ebaa"
      }
     },
     "088cc24009094ec28d7238552eda44c8": {
      "model_module": "@jupyter-widgets/base",
      "model_module_version": "1.2.0",
      "model_name": "LayoutModel",
      "state": {}
     },
     "08b3b176d0e7440389cb1a82d9c1ba94": {
      "model_module": "@jupyter-widgets/controls",
      "model_module_version": "1.5.0",
      "model_name": "HBoxModel",
      "state": {
       "children": [
        "IPY_MODEL_98000a12a1aa4213860b1b2469d46bd5",
        "IPY_MODEL_5c3ccf49d5614628929c6890be197c60"
       ],
       "layout": "IPY_MODEL_7673e110a7ec4dd6b56af01d3a50ba12"
      }
     },
     "08c2b948d2bb458a93467988b09f2dd4": {
      "model_module": "@jupyter-widgets/controls",
      "model_module_version": "1.5.0",
      "model_name": "SliderStyleModel",
      "state": {
       "description_width": ""
      }
     },
     "08d811bdf42f4cc08729a647a746de12": {
      "model_module": "@jupyter-widgets/controls",
      "model_module_version": "1.5.0",
      "model_name": "IntProgressModel",
      "state": {
       "description": "Loading:",
       "layout": "IPY_MODEL_711580aa753942e5985c4d3dae2ff9a6",
       "max": 10,
       "style": "IPY_MODEL_774bd8b2f94542fa9d6c52cfa9e58d14",
       "value": 7
      }
     },
     "0935b6d2628e414d9abc9b646521c759": {
      "model_module": "@jupyter-widgets/base",
      "model_module_version": "1.2.0",
      "model_name": "LayoutModel",
      "state": {}
     },
     "09419070fa9d47bdbc1c4bb14f8b7f62": {
      "model_module": "@jupyter-widgets/controls",
      "model_module_version": "1.5.0",
      "model_name": "DescriptionStyleModel",
      "state": {
       "description_width": ""
      }
     },
     "098db764767c4369abaed3266cc5077b": {
      "model_module": "@jupyter-widgets/base",
      "model_module_version": "1.2.0",
      "model_name": "LayoutModel",
      "state": {}
     },
     "098f9a7ee57c4d3a80c7bb78ac66fa4a": {
      "model_module": "@jupyter-widgets/base",
      "model_module_version": "1.2.0",
      "model_name": "LayoutModel",
      "state": {}
     },
     "09c2926bf9834b4481608f5ab997368d": {
      "model_module": "@jupyter-widgets/base",
      "model_module_version": "1.2.0",
      "model_name": "LayoutModel",
      "state": {}
     },
     "09faa2263b4942ad9c143b8c925d4345": {
      "model_module": "@jupyter-widgets/base",
      "model_module_version": "1.2.0",
      "model_name": "LayoutModel",
      "state": {}
     },
     "0a18d3f3d1004181b2e6cc853161b7bc": {
      "model_module": "@jupyter-widgets/controls",
      "model_module_version": "1.5.0",
      "model_name": "RadioButtonsModel",
      "state": {
       "_options_labels": [
        "pepperoni",
        "pineapple",
        "anchovies"
       ],
       "description": "Pizza topping:",
       "index": 0,
       "layout": "IPY_MODEL_32c34f77042b4b34ba697a8536650478",
       "style": "IPY_MODEL_71071844670041cbb013b1a6454bd659"
      }
     },
     "0afda8c4b1574156893e3619cc325384": {
      "model_module": "@jupyter-widgets/controls",
      "model_module_version": "1.5.0",
      "model_name": "SliderStyleModel",
      "state": {
       "description_width": ""
      }
     },
     "0bd8dfafba0d4f7c94ba172ce49545f7": {
      "model_module": "@jupyter-widgets/controls",
      "model_module_version": "1.5.0",
      "model_name": "SliderStyleModel",
      "state": {
       "description_width": ""
      }
     },
     "0c080071c4c2441e9aaa34fd4c6ead9d": {
      "model_module": "@jupyter-widgets/base",
      "model_module_version": "1.2.0",
      "model_name": "LayoutModel",
      "state": {}
     },
     "0c5ab31b2c8145e7b7fee5e64ce505fd": {
      "model_module": "@jupyter-widgets/base",
      "model_module_version": "1.2.0",
      "model_name": "LayoutModel",
      "state": {}
     },
     "0c7197088c7b4af084447dd5939a7103": {
      "model_module": "@jupyter-widgets/controls",
      "model_module_version": "1.5.0",
      "model_name": "LabelModel",
      "state": {
       "layout": "IPY_MODEL_5c8f58b0d5b048a2b85e55c9ee2654ec",
       "style": "IPY_MODEL_c1bcc4a40d1c4d828b44c657f4152fc3",
       "value": "The $m$ in $E=mc^2$:"
      }
     },
     "0d54cfd206f242759d7b195edd43a1f8": {
      "model_module": "@jupyter-widgets/controls",
      "model_module_version": "1.5.0",
      "model_name": "HTMLModel",
      "state": {
       "description": "Some HTML",
       "layout": "IPY_MODEL_6b7b27c1edd6448e9afbe1ed508a9c24",
       "placeholder": "Some HTML",
       "style": "IPY_MODEL_aeb5c3f668434382ae291f8c92eee291",
       "value": "Hello <b>World</b>"
      }
     },
     "0d76779539b444cd8ce31e81dad0a587": {
      "model_module": "@jupyter-widgets/base",
      "model_module_version": "1.2.0",
      "model_name": "LayoutModel",
      "state": {}
     },
     "0da2f37c70914c8fb4c0372268e7a757": {
      "model_module": "@jupyter-widgets/controls",
      "model_module_version": "1.5.0",
      "model_name": "DescriptionStyleModel",
      "state": {
       "description_width": ""
      }
     },
     "0dcd24259d004aa7971dda12363a5b75": {
      "model_module": "@jupyter-widgets/base",
      "model_module_version": "1.2.0",
      "model_name": "LayoutModel",
      "state": {}
     },
     "0dcf7529abce4b75b2a2fce3f34f7817": {
      "model_module": "@jupyter-widgets/controls",
      "model_module_version": "1.5.0",
      "model_name": "AccordionModel",
      "state": {
       "_titles": {
        "0": "Slider",
        "1": "Text"
       },
       "children": [
        "IPY_MODEL_841bbfeb63ef4d68be3f0533a52bc572",
        "IPY_MODEL_e33dad72a9ec485fa6650b3cb8e715ae"
       ],
       "layout": "IPY_MODEL_ff251a4634074fc885bf747408e19c81",
       "selected_index": null
      }
     },
     "0df7b36c58ce46aa8e49fe5d1d16e9d5": {
      "model_module": "@jupyter-widgets/base",
      "model_module_version": "1.2.0",
      "model_name": "LayoutModel",
      "state": {
       "border": "1px solid black"
      }
     },
     "0e398dde6e6b45abb656e5c4e737aae9": {
      "model_module": "@jupyter-widgets/controls",
      "model_module_version": "1.5.0",
      "model_name": "FloatSliderModel",
      "state": {
       "continuous_update": false,
       "description": "Test:",
       "layout": "IPY_MODEL_d96e41b68c89477b83db8d61992a26f2",
       "max": 10,
       "readout_format": ".1f",
       "step": 0.1,
       "style": "IPY_MODEL_d451d3ad4abb49409a681c71a30c76c7",
       "value": 7.5
      }
     },
     "0e45d24ce48347f68dbb6912fb2bba4f": {
      "model_module": "@jupyter-widgets/controls",
      "model_module_version": "1.5.0",
      "model_name": "LabelModel",
      "state": {
       "layout": "IPY_MODEL_97074dc656104f65a8a4bb1264f90156",
       "style": "IPY_MODEL_0fa83812e0d6412d829c45095a304eea",
       "value": "The $m$ in $E=mc^2$:"
      }
     },
     "0e93b410ac6f40f5a3e467859b0407a5": {
      "model_module": "@jupyter-widgets/controls",
      "model_module_version": "1.5.0",
      "model_name": "DescriptionStyleModel",
      "state": {
       "description_width": ""
      }
     },
     "0edf7b828fb64c2b8f79d2c4a4d46cf6": {
      "model_module": "@jupyter-widgets/base",
      "model_module_version": "1.2.0",
      "model_name": "LayoutModel",
      "state": {}
     },
     "0ee6f281c5ee49b6be83c967035f7e24": {
      "model_module": "@jupyter-widgets/controls",
      "model_module_version": "1.5.0",
      "model_name": "BoxModel",
      "state": {
       "children": [
        "IPY_MODEL_4de031698a46489ea9b0d06dc6d56b88",
        "IPY_MODEL_67c21cea3e384446bca8f9ce73e6dc62",
        "IPY_MODEL_9b08dbb3cf3c482ab709e00e035abfb5",
        "IPY_MODEL_3539cfb7042f48509841d15e1c30fefd"
       ],
       "layout": "IPY_MODEL_9d8e4617067746e9a3c715fca1e7dea6"
      }
     },
     "0eff6e7dc8ed4ba9bf1e33cccf2f8a9d": {
      "model_module": "@jupyter-widgets/controls",
      "model_module_version": "1.5.0",
      "model_name": "DescriptionStyleModel",
      "state": {
       "description_width": ""
      }
     },
     "0fa83812e0d6412d829c45095a304eea": {
      "model_module": "@jupyter-widgets/controls",
      "model_module_version": "1.5.0",
      "model_name": "DescriptionStyleModel",
      "state": {
       "description_width": ""
      }
     },
     "0fb25db8b20e419fb9391ed01180670a": {
      "model_module": "@jupyter-widgets/controls",
      "model_module_version": "1.5.0",
      "model_name": "TextModel",
      "state": {
       "description": "P2",
       "layout": "IPY_MODEL_28df4a87bc7a44fa82df17c52c978e7e",
       "style": "IPY_MODEL_3db12febc66a4613ba5737d3a83429ae"
      }
     },
     "100992258d5b4c858b3ddfeb0c2219f4": {
      "model_module": "@jupyter-widgets/controls",
      "model_module_version": "1.5.0",
      "model_name": "DescriptionStyleModel",
      "state": {
       "description_width": ""
      }
     },
     "10498468d4c545c59e6f4cba71b9a082": {
      "model_module": "@jupyter-widgets/controls",
      "model_module_version": "1.5.0",
      "model_name": "DescriptionStyleModel",
      "state": {
       "description_width": ""
      }
     },
     "105cdffeb26c46c8ac5cf24f8824a63a": {
      "model_module": "@jupyter-widgets/controls",
      "model_module_version": "1.5.0",
      "model_name": "FloatSliderModel",
      "state": {
       "continuous_update": false,
       "description": "Test:",
       "layout": "IPY_MODEL_2b8feceb05fc4e77a078a0864c9dfac0",
       "max": 10,
       "orientation": "vertical",
       "readout_format": ".1f",
       "step": 0.1,
       "style": "IPY_MODEL_248bcc0c041144b1a9f018cc13af779c",
       "value": 7.5
      }
     },
     "105d57bfb7a04f5c881aa29be7562a56": {
      "model_module": "@jupyter-widgets/base",
      "model_module_version": "1.2.0",
      "model_name": "LayoutModel",
      "state": {}
     },
     "10b8996e490347ecae24e5f892864a30": {
      "model_module": "@jupyter-widgets/base",
      "model_module_version": "1.2.0",
      "model_name": "LayoutModel",
      "state": {}
     },
     "10d717134516493bb31c6121e9daa22a": {
      "model_module": "@jupyter-widgets/base",
      "model_module_version": "1.2.0",
      "model_name": "LayoutModel",
      "state": {}
     },
     "11051faf7556451a8fcd76828be3aeb9": {
      "model_module": "@jupyter-widgets/controls",
      "model_module_version": "1.5.0",
      "model_name": "DescriptionStyleModel",
      "state": {
       "description_width": ""
      }
     },
     "1145d60b5a3a4ddd8d710deb409f2430": {
      "model_module": "@jupyter-widgets/controls",
      "model_module_version": "1.5.0",
      "model_name": "TabModel",
      "state": {
       "_titles": {
        "0": "0",
        "1": "1",
        "2": "2",
        "3": "3",
        "4": "4"
       },
       "children": [
        "IPY_MODEL_736254731cc448f79523b477542ea5b3",
        "IPY_MODEL_a89791c42c5f460b91417b12f2ac9b89",
        "IPY_MODEL_0fb25db8b20e419fb9391ed01180670a",
        "IPY_MODEL_c46e37c25c324527afdef32c2e38d668",
        "IPY_MODEL_c310a5b2dc4b45f2bbb74f2ce25eadf1"
       ],
       "layout": "IPY_MODEL_75ea312a507f4688b8ae36d4a821baec",
       "selected_index": 3
      }
     },
     "11731741e8a747d6985fd095bbd334eb": {
      "model_module": "@jupyter-widgets/base",
      "model_module_version": "1.2.0",
      "model_name": "LayoutModel",
      "state": {}
     },
     "11878d55ba3640c5a6dabe79b1c8b81c": {
      "model_module": "@jupyter-widgets/base",
      "model_module_version": "1.2.0",
      "model_name": "LayoutModel",
      "state": {}
     },
     "118e1569ccbf481aa7cb4738affbeaea": {
      "model_module": "@jupyter-widgets/controls",
      "model_module_version": "1.5.0",
      "model_name": "SelectionRangeSliderModel",
      "state": {
       "_model_name": "SelectionRangeSliderModel",
       "_options_labels": [
        "Jan",
        "Feb",
        "Mar",
        "Apr",
        "May",
        "Jun",
        "Jul",
        "Aug",
        "Sep",
        "Oct",
        "Nov",
        "Dec"
       ],
       "_view_name": "SelectionRangeSliderView",
       "description": "Months (2015)",
       "index": [
        0,
        11
       ],
       "layout": "IPY_MODEL_e9573092a3b148ea9de0b297917c4826",
       "style": "IPY_MODEL_aa2028feca5045a2a9497a3f56abf933"
      }
     },
     "11ad3ade944d485c9b5ab990ca6c0659": {
      "model_module": "@jupyter-widgets/controls",
      "model_module_version": "1.5.0",
      "model_name": "HBoxModel",
      "state": {
       "children": [
        "IPY_MODEL_b856f97ac3bf42ae98fbc356ff1cee3c",
        "IPY_MODEL_9f9fee0272f2460e9d233b0ab1a9a6e0"
       ],
       "layout": "IPY_MODEL_9f95b44eaeb44422a4ec473c4bb95d99"
      }
     },
     "11d589e75af34b6081b584ab43cc94f6": {
      "model_module": "@jupyter-widgets/base",
      "model_module_version": "1.2.0",
      "model_name": "LayoutModel",
      "state": {}
     },
     "124b6ef5f6b64df6b74585af82b64471": {
      "model_module": "@jupyter-widgets/controls",
      "model_module_version": "1.5.0",
      "model_name": "VBoxModel",
      "state": {
       "children": [
        "IPY_MODEL_221683680048409680243ea63e65df4a",
        "IPY_MODEL_b6ed057be2134937b280a2d51b4b4185"
       ],
       "layout": "IPY_MODEL_050378c574b749f0bc224daea618c909"
      }
     },
     "126527ba4e254459abe5ce85f0e1cbb7": {
      "model_module": "@jupyter-widgets/controls",
      "model_module_version": "1.5.0",
      "model_name": "LabelModel",
      "state": {
       "layout": "IPY_MODEL_a014a8802b444e89851299923e35e695",
       "style": "IPY_MODEL_7d7e688be6344c88a3844395ea968aad",
       "value": "3"
      }
     },
     "12671d7db2d34c76b36d0c75bf3fe48f": {
      "model_module": "@jupyter-widgets/controls",
      "model_module_version": "1.5.0",
      "model_name": "PlayModel",
      "state": {
       "description": "Press play",
       "layout": "IPY_MODEL_63d77e3e193e42d7a4de02e12737f7db",
       "style": "IPY_MODEL_f9ca545f09ce4ecc80a7dfcda5ec0f82",
       "value": 50
      }
     },
     "12ab54ec9f9540d3958b4aac92bb18b2": {
      "model_module": "@jupyter-widgets/base",
      "model_module_version": "1.2.0",
      "model_name": "LayoutModel",
      "state": {}
     },
     "12d8b6a73ff74073996a4be3dfd1ad24": {
      "model_module": "@jupyter-widgets/base",
      "model_module_version": "1.2.0",
      "model_name": "LayoutModel",
      "state": {}
     },
     "13186495611c4936b30b4df022459638": {
      "model_module": "@jupyter-widgets/controls",
      "model_module_version": "1.5.0",
      "model_name": "DescriptionStyleModel",
      "state": {
       "description_width": ""
      }
     },
     "1330ff30be76422885e09af0760acb84": {
      "model_module": "@jupyter-widgets/controls",
      "model_module_version": "1.5.0",
      "model_name": "IntRangeSliderModel",
      "state": {
       "_model_name": "IntRangeSliderModel",
       "_view_name": "IntRangeSliderView",
       "continuous_update": false,
       "description": "Test:",
       "layout": "IPY_MODEL_269bb7c513e84af092ad6722c9e45a0e",
       "max": 10,
       "style": "IPY_MODEL_0afda8c4b1574156893e3619cc325384",
       "value": [
        5,
        7
       ]
      }
     },
     "1350594d43f141d4a7f36d143da6c587": {
      "model_module": "@jupyter-widgets/base",
      "model_module_version": "1.2.0",
      "model_name": "LayoutModel",
      "state": {}
     },
     "13a0b61c942a45a9aa4d532e624a95f9": {
      "model_module": "@jupyter-widgets/controls",
      "model_module_version": "1.5.0",
      "model_name": "LabelModel",
      "state": {
       "layout": "IPY_MODEL_1bda3b9567874905bd82585df8293e4d",
       "style": "IPY_MODEL_07962ae2a54b498d97be185df0a91eea",
       "value": "The $m$ in $E=mc^2$:"
      }
     },
     "143a8e6e3de4428297a63c38273b2baf": {
      "model_module": "@jupyter-widgets/base",
      "model_module_version": "1.2.0",
      "model_name": "LayoutModel",
      "state": {}
     },
     "146278c129f34fa1b132a02c1907826d": {
      "model_module": "@jupyter-widgets/controls",
      "model_module_version": "1.5.0",
      "model_name": "DescriptionStyleModel",
      "state": {
       "description_width": ""
      }
     },
     "1498d17836704e3a8bbbd93dc5d81d61": {
      "model_module": "@jupyter-widgets/base",
      "model_module_version": "1.2.0",
      "model_name": "LayoutModel",
      "state": {}
     },
     "14e956fc09ca417c9b707b8a5790ba0d": {
      "model_module": "@jupyter-widgets/controls",
      "model_module_version": "1.5.0",
      "model_name": "ToggleButtonsStyleModel",
      "state": {
       "button_width": "",
       "description_width": ""
      }
     },
     "14fd9928d070428f97a91acd9bc5fc27": {
      "model_module": "@jupyter-widgets/controls",
      "model_module_version": "1.5.0",
      "model_name": "ValidModel",
      "state": {
       "description": "Valid!",
       "layout": "IPY_MODEL_11878d55ba3640c5a6dabe79b1c8b81c",
       "style": "IPY_MODEL_213074bb1bbf42dabdb259c85b0aa918"
      }
     },
     "1530d18e3e124c508d9120954032d317": {
      "model_module": "@jupyter-widgets/base",
      "model_module_version": "1.2.0",
      "model_name": "LayoutModel",
      "state": {}
     },
     "15648b69e9044e71b8ecf5ccc1e544cc": {
      "model_module": "@jupyter-widgets/controls",
      "model_module_version": "1.5.0",
      "model_name": "DescriptionStyleModel",
      "state": {
       "description_width": ""
      }
     },
     "15bc1d1a94684c25943af38b1abda623": {
      "model_module": "@jupyter-widgets/controls",
      "model_module_version": "1.5.0",
      "model_name": "DescriptionStyleModel",
      "state": {
       "description_width": ""
      }
     },
     "15c2ebae318548a3940ef7db11953682": {
      "model_module": "@jupyter-widgets/controls",
      "model_module_version": "1.5.0",
      "model_name": "FloatProgressModel",
      "state": {
       "bar_style": "info",
       "description": "Loading:",
       "layout": "IPY_MODEL_40ba1eea57e6404499c18840ae06c514",
       "max": 10,
       "style": "IPY_MODEL_52729538ba554571a7b9aebcd43e17c3",
       "value": 7.5
      }
     },
     "15c75c5f37014b39b2955a4b1fae68d4": {
      "model_module": "@jupyter-widgets/controls",
      "model_module_version": "1.5.0",
      "model_name": "DescriptionStyleModel",
      "state": {
       "description_width": ""
      }
     },
     "163e35e104ab46db8d0dccc424162e89": {
      "model_module": "@jupyter-widgets/base",
      "model_module_version": "1.2.0",
      "model_name": "LayoutModel",
      "state": {}
     },
     "17ac4614139344a89cb31a9be78b6bfe": {
      "model_module": "@jupyter-widgets/controls",
      "model_module_version": "1.5.0",
      "model_name": "DescriptionStyleModel",
      "state": {
       "description_width": ""
      }
     },
     "17cf2072ec6549738aaf8e6bbcdb9a68": {
      "model_module": "@jupyter-widgets/base",
      "model_module_version": "1.2.0",
      "model_name": "LayoutModel",
      "state": {}
     },
     "1807bb9a76274e83bca69ad09fcce22a": {
      "model_module": "@jupyter-widgets/controls",
      "model_module_version": "1.5.0",
      "model_name": "DescriptionStyleModel",
      "state": {
       "description_width": ""
      }
     },
     "185ab061923143e1b58188037fec0ecb": {
      "model_module": "@jupyter-widgets/controls",
      "model_module_version": "1.5.0",
      "model_name": "HTMLMathModel",
      "state": {
       "description": "Some HTML",
       "layout": "IPY_MODEL_e1debd1cfbfb48258ecfd3cd32d583c6",
       "placeholder": "Some HTML",
       "style": "IPY_MODEL_cff420500dd4469cbefe5d69091f1dbf",
       "value": "Some math and <i>HTML</i>: \\(x^2\\) and $$\\frac{x+1}{x-1}$$"
      }
     },
     "18685d5f66e045a1ac6c6bd6064fab47": {
      "model_module": "@jupyter-widgets/controls",
      "model_module_version": "1.5.0",
      "model_name": "DescriptionStyleModel",
      "state": {
       "description_width": ""
      }
     },
     "19064ae2e4604da596cc4f8b3ee25128": {
      "model_module": "@jupyter-widgets/base",
      "model_module_version": "1.2.0",
      "model_name": "LayoutModel",
      "state": {}
     },
     "199f02df9b5641cd9f3f1aeb7c52cff6": {
      "model_module": "@jupyter-widgets/base",
      "model_module_version": "1.2.0",
      "model_name": "LayoutModel",
      "state": {}
     },
     "19b5b20d07b049bda98b342ed3ddf7da": {
      "model_module": "@jupyter-widgets/controls",
      "model_module_version": "1.5.0",
      "model_name": "DescriptionStyleModel",
      "state": {
       "description_width": ""
      }
     },
     "19b96288896c45a687a8d85afb300588": {
      "model_module": "@jupyter-widgets/controls",
      "model_module_version": "1.5.0",
      "model_name": "DescriptionStyleModel",
      "state": {
       "description_width": ""
      }
     },
     "19c2a35e8c484b1282afae706c2c8981": {
      "model_module": "@jupyter-widgets/controls",
      "model_module_version": "1.5.0",
      "model_name": "DescriptionStyleModel",
      "state": {
       "description_width": ""
      }
     },
     "19d937791a0343c09303e902229e2ad1": {
      "model_module": "@jupyter-widgets/base",
      "model_module_version": "1.2.0",
      "model_name": "LayoutModel",
      "state": {}
     },
     "19f36d06c3654ee7965196712c2489e2": {
      "model_module": "@jupyter-widgets/base",
      "model_module_version": "1.2.0",
      "model_name": "LayoutModel",
      "state": {}
     },
     "19ffbc0f1786456587ceda2793d2780c": {
      "model_module": "@jupyter-widgets/controls",
      "model_module_version": "1.5.0",
      "model_name": "FloatTextModel",
      "state": {
       "description": "Any:",
       "layout": "IPY_MODEL_490ca963f63e4477bba84e398a846194",
       "step": null,
       "style": "IPY_MODEL_13186495611c4936b30b4df022459638",
       "value": 7.5
      }
     },
     "1a6c6dad47304ea3b7b26137172c94ba": {
      "model_module": "@jupyter-widgets/controls",
      "model_module_version": "1.5.0",
      "model_name": "DescriptionStyleModel",
      "state": {
       "description_width": ""
      }
     },
     "1a7ef0e2a65a4ac19f4dcf5d48fd363b": {
      "model_module": "@jupyter-widgets/controls",
      "model_module_version": "1.5.0",
      "model_name": "DescriptionStyleModel",
      "state": {
       "description_width": ""
      }
     },
     "1aa0797348e54a1089c2c7178c90270a": {
      "model_module": "@jupyter-widgets/base",
      "model_module_version": "1.2.0",
      "model_name": "LayoutModel",
      "state": {}
     },
     "1aef5d850d644ca48d9e4364c2be586e": {
      "model_module": "@jupyter-widgets/base",
      "model_module_version": "1.2.0",
      "model_name": "LayoutModel",
      "state": {}
     },
     "1b9c160d9ac4464a923c32c529b2d2d7": {
      "model_module": "@jupyter-widgets/base",
      "model_module_version": "1.2.0",
      "model_name": "LayoutModel",
      "state": {}
     },
     "1bb1f556d16e433bb078c4b57a26c2a8": {
      "model_module": "@jupyter-widgets/controls",
      "model_module_version": "1.5.0",
      "model_name": "DescriptionStyleModel",
      "state": {
       "description_width": ""
      }
     },
     "1bc75c56cbc84316b920d45740921090": {
      "model_module": "@jupyter-widgets/controls",
      "model_module_version": "1.5.0",
      "model_name": "FloatProgressModel",
      "state": {
       "bar_style": "info",
       "description": "Loading:",
       "layout": "IPY_MODEL_82d896507f9b4a5faf317496ff6adcbd",
       "max": 10,
       "style": "IPY_MODEL_811d5ea43a2240a3a9e275c13ac9ceaa",
       "value": 7.5
      }
     },
     "1bda3b9567874905bd82585df8293e4d": {
      "model_module": "@jupyter-widgets/base",
      "model_module_version": "1.2.0",
      "model_name": "LayoutModel",
      "state": {}
     },
     "1bf7b762a56c4b00a486c273dfda4f7e": {
      "model_module": "@jupyter-widgets/controls",
      "model_module_version": "1.5.0",
      "model_name": "SliderStyleModel",
      "state": {
       "description_width": ""
      }
     },
     "1c19b40f81104aeb83cf1982be8cd277": {
      "model_module": "@jupyter-widgets/controls",
      "model_module_version": "1.5.0",
      "model_name": "SelectMultipleModel",
      "state": {
       "_options_labels": [
        "Apples",
        "Oranges",
        "Pears"
       ],
       "description": "Fruits",
       "index": [
        1
       ],
       "layout": "IPY_MODEL_af2d97b277194e0cbc0b1a7c418fd877",
       "rows": 5,
       "style": "IPY_MODEL_d4026bf70a7f4430bd0164c6a12801ee"
      }
     },
     "1c3b4ea78d4942eca4077f5a2aa206d7": {
      "model_module": "@jupyter-widgets/controls",
      "model_module_version": "1.5.0",
      "model_name": "IntSliderModel",
      "state": {
       "continuous_update": false,
       "description": "Test:",
       "layout": "IPY_MODEL_51f190956a43437fb2ff6ac35c5409fb",
       "max": 10,
       "style": "IPY_MODEL_861d41926e134b6a930b87d9fc3f9a4f",
       "value": 7
      }
     },
     "1c96de2755874b9abca376f81fc79214": {
      "model_module": "@jupyter-widgets/controls",
      "model_module_version": "1.5.0",
      "model_name": "BoxModel",
      "state": {
       "children": [
        "IPY_MODEL_81065d4ff4d94a9fbd6447e20db64029",
        "IPY_MODEL_8e6b3ddded044bfcbe3bfc8868438480",
        "IPY_MODEL_441a0ec35034434c9b4af0674e8dbb5c",
        "IPY_MODEL_c09ec3e7ee504069b00105cddd363e81"
       ],
       "layout": "IPY_MODEL_0dcd24259d004aa7971dda12363a5b75"
      }
     },
     "1cb3eeec53c64867942a552298a8d867": {
      "model_module": "@jupyter-widgets/controls",
      "model_module_version": "1.5.0",
      "model_name": "SliderStyleModel",
      "state": {
       "description_width": ""
      }
     },
     "1cdc48d9bf3147f4ac294723c8ea02be": {
      "model_module": "@jupyter-widgets/base",
      "model_module_version": "1.2.0",
      "model_name": "LayoutModel",
      "state": {}
     },
     "1d31c01b218a4ae19bd89bd2ca751211": {
      "model_module": "@jupyter-widgets/controls",
      "model_module_version": "1.5.0",
      "model_name": "IntSliderModel",
      "state": {
       "continuous_update": false,
       "description": "Test:",
       "layout": "IPY_MODEL_17cf2072ec6549738aaf8e6bbcdb9a68",
       "max": 10,
       "style": "IPY_MODEL_b18921573f5e4d269a1f9cc210baaf35",
       "value": 7
      }
     },
     "1d4ae2e0a52b46598c2bfcb92a7e9ca6": {
      "model_module": "@jupyter-widgets/controls",
      "model_module_version": "1.5.0",
      "model_name": "DescriptionStyleModel",
      "state": {
       "description_width": ""
      }
     },
     "1d84406d13124b9982f5fbe06539ffa7": {
      "model_module": "@jupyter-widgets/controls",
      "model_module_version": "1.5.0",
      "model_name": "LabelModel",
      "state": {
       "layout": "IPY_MODEL_e2dcd4a29a67479dbcbdef453d6727b9",
       "style": "IPY_MODEL_ebc4fcae1c3b4f0681e1eac4ec6b62c9",
       "value": "0"
      }
     },
     "1dbf19e4c3b14067a86492645e64b889": {
      "model_module": "@jupyter-widgets/base",
      "model_module_version": "1.2.0",
      "model_name": "LayoutModel",
      "state": {}
     },
     "1ddefe8ec2f84501b574a3e0d4f53b93": {
      "model_module": "@jupyter-widgets/controls",
      "model_module_version": "1.5.0",
      "model_name": "FloatLogSliderModel",
      "state": {
       "description": "Log Slider",
       "layout": "IPY_MODEL_da2f0d9ec6c64d9c9cb6ee90408c2097",
       "max": 10,
       "min": -10,
       "step": 0.2,
       "style": "IPY_MODEL_0382d016e3574e6c8ea0edaffc48c572",
       "value": 10
      }
     },
     "1df98ee63b1f4fc2b5224c0f4c7f1d77": {
      "model_module": "@jupyter-widgets/controls",
      "model_module_version": "1.5.0",
      "model_name": "TextareaModel",
      "state": {
       "description": "String:",
       "layout": "IPY_MODEL_e9c04e9e8a014068b7e9cbe00a14ac72",
       "placeholder": "Type something",
       "style": "IPY_MODEL_bc1d5a59a376430f8e5fe8f113f12559",
       "value": "Hello World"
      }
     },
     "1e0c369744bc420e8735c7f047e19ee9": {
      "model_module": "@jupyter-widgets/controls",
      "model_module_version": "1.5.0",
      "model_name": "DescriptionStyleModel",
      "state": {
       "description_width": ""
      }
     },
     "1e7cefc3e618459a99cdf9ffa435783f": {
      "model_module": "@jupyter-widgets/controls",
      "model_module_version": "1.5.0",
      "model_name": "TabModel",
      "state": {
       "_titles": {
        "0": "0",
        "1": "1",
        "2": "2",
        "3": "3",
        "4": "4"
       },
       "children": [
        "IPY_MODEL_e72c16eac0814572a1ed61fa598c1e1f",
        "IPY_MODEL_c84b4bc55b3f44efb1683cf00701ee21",
        "IPY_MODEL_cd7caa30b72e4a10a6eeac02ad548a2a",
        "IPY_MODEL_84ec52af8c484529b8876aa91805854d",
        "IPY_MODEL_cfc06d0134d74df9bca64a0d1c1d317a"
       ],
       "layout": "IPY_MODEL_012e465a2e3e4103b1a196017261304a",
       "selected_index": 3
      }
     },
     "1ecae4d61e7d4cf486f721fce70c2586": {
      "model_module": "@jupyter-widgets/base",
      "model_module_version": "1.2.0",
      "model_name": "LayoutModel",
      "state": {}
     },
     "1f2242f0713c4714aad3e2cff66a5e07": {
      "model_module": "@jupyter-widgets/controls",
      "model_module_version": "1.5.0",
      "model_name": "DescriptionStyleModel",
      "state": {
       "description_width": ""
      }
     },
     "1f4e9f67a9b347e38ed0aabfc7e76264": {
      "model_module": "@jupyter-widgets/base",
      "model_module_version": "1.2.0",
      "model_name": "LayoutModel",
      "state": {}
     },
     "1f5c3816dfc04c639a9fd47e84c9e4b8": {
      "model_module": "@jupyter-widgets/base",
      "model_module_version": "1.2.0",
      "model_name": "LayoutModel",
      "state": {}
     },
     "1f9aa012338e409685bafde50909d712": {
      "model_module": "@jupyter-widgets/controls",
      "model_module_version": "1.5.0",
      "model_name": "DescriptionStyleModel",
      "state": {
       "description_width": ""
      }
     },
     "1fa525b6f56a4be0aa4041eb47cee29a": {
      "model_module": "@jupyter-widgets/base",
      "model_module_version": "1.2.0",
      "model_name": "LayoutModel",
      "state": {
       "border": "1px solid black"
      }
     },
     "2014535acad641caa9ecf637268d148c": {
      "model_module": "@jupyter-widgets/base",
      "model_module_version": "1.2.0",
      "model_name": "LayoutModel",
      "state": {}
     },
     "203c347cee804daeb7ada0792a504476": {
      "model_module": "@jupyter-widgets/controls",
      "model_module_version": "1.5.0",
      "model_name": "BoxModel",
      "state": {
       "children": [
        "IPY_MODEL_77a561e258964e39aa0bc468b777790e",
        "IPY_MODEL_eaa57a83d6784654a40598a4eab16a07",
        "IPY_MODEL_ae0ce4a5052f4e119c55804de987098c",
        "IPY_MODEL_ebca891d27a843d6adc363df31a734c3"
       ],
       "layout": "IPY_MODEL_baa01178bb384cf69ad6ef53c079152b"
      }
     },
     "2061fde8fe2542b7a4aa54ecdd6ab2fa": {
      "model_module": "@jupyter-widgets/base",
      "model_module_version": "1.2.0",
      "model_name": "LayoutModel",
      "state": {}
     },
     "208c4ee4bb4e4c22bbef1791d1f51462": {
      "model_module": "@jupyter-widgets/controls",
      "model_module_version": "1.5.0",
      "model_name": "DropdownModel",
      "state": {
       "_options_labels": [
        "1",
        "2",
        "3"
       ],
       "description": "Number:",
       "index": 1,
       "layout": "IPY_MODEL_e069e1c4d84e44b59cf51a1fa364cac7",
       "style": "IPY_MODEL_bde115de358d449896e19ab9bf174a8a"
      }
     },
     "208fca5eb38e46649d6ad1d973aacd44": {
      "model_module": "@jupyter-widgets/base",
      "model_module_version": "1.2.0",
      "model_name": "LayoutModel",
      "state": {}
     },
     "20bd55ab72254665a0cbc5796977657a": {
      "model_module": "@jupyter-widgets/controls",
      "model_module_version": "1.5.0",
      "model_name": "FloatSliderModel",
      "state": {
       "continuous_update": false,
       "description": "Test:",
       "layout": "IPY_MODEL_b4fcde747bf14601bcedb661510e5295",
       "max": 10,
       "orientation": "vertical",
       "readout_format": ".1f",
       "step": 0.1,
       "style": "IPY_MODEL_da4bdd0cdb8b4107a1635e461d8caec6",
       "value": 7.5
      }
     },
     "2112a8fd490c445e9eac2986b97ddf7d": {
      "buffers": [
       {
        "data": "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",
        "encoding": "base64",
        "path": [
         "value"
        ]
       }
      ],
      "model_module": "@jupyter-widgets/controls",
      "model_module_version": "1.5.0",
      "model_name": "ImageModel",
      "state": {
       "format": "gif",
       "height": "128",
       "layout": "IPY_MODEL_cb58ff0e28074bd8b342cf4904fb9d65",
       "width": "128"
      }
     },
     "213074bb1bbf42dabdb259c85b0aa918": {
      "model_module": "@jupyter-widgets/controls",
      "model_module_version": "1.5.0",
      "model_name": "DescriptionStyleModel",
      "state": {
       "description_width": ""
      }
     },
     "2168ea44d9e94a4a889403d6c798ee78": {
      "model_module": "@jupyter-widgets/controls",
      "model_module_version": "1.5.0",
      "model_name": "HBoxModel",
      "state": {
       "children": [
        "IPY_MODEL_7e14d563ddc04232a57c214c04e74478",
        "IPY_MODEL_b8c9638d85cc46a8afba53bea0303cd1"
       ],
       "layout": "IPY_MODEL_d96f9fe8f40e493490d77d79b926c2ae"
      }
     },
     "219e66449ce44efcad98cbea38591811": {
      "model_module": "@jupyter-widgets/controls",
      "model_module_version": "1.5.0",
      "model_name": "SliderStyleModel",
      "state": {
       "description_width": ""
      }
     },
     "21a0ae0a50f74e49a9dbe8b22f1b02b8": {
      "model_module": "@jupyter-widgets/base",
      "model_module_version": "1.2.0",
      "model_name": "LayoutModel",
      "state": {}
     },
     "21bad7923fe640df8745ab1eb60d1ef1": {
      "model_module": "@jupyter-widgets/controls",
      "model_module_version": "1.5.0",
      "model_name": "LabelModel",
      "state": {
       "layout": "IPY_MODEL_79722b88b73f44cd918ff046d30f8811",
       "style": "IPY_MODEL_b434f78a477b4334becbf35975bc0d51",
       "value": "0"
      }
     },
     "221683680048409680243ea63e65df4a": {
      "model_module": "@jupyter-widgets/controls",
      "model_module_version": "1.5.0",
      "model_name": "LabelModel",
      "state": {
       "layout": "IPY_MODEL_b076d481d091437ca10dbcec522e45c0",
       "style": "IPY_MODEL_3383d0b07f34429898ca686b90e84588",
       "value": "2"
      }
     },
     "221d8d4f40f440a786d28befeea11883": {
      "model_module": "@jupyter-widgets/controls",
      "model_module_version": "1.5.0",
      "model_name": "DescriptionStyleModel",
      "state": {
       "description_width": ""
      }
     },
     "224a45af2a1f4c519b1dbd75345e94e5": {
      "model_module": "@jupyter-widgets/controls",
      "model_module_version": "1.5.0",
      "model_name": "SliderStyleModel",
      "state": {
       "description_width": ""
      }
     },
     "22801ee4b1604f728f83dd6131d68311": {
      "model_module": "@jupyter-widgets/output",
      "model_module_version": "1.0.0",
      "model_name": "OutputModel",
      "state": {
       "layout": "IPY_MODEL_b9de4987354f4792b4536719e73760b5"
      }
     },
     "2357d552f726458c97a48667db8e5cf1": {
      "model_module": "@jupyter-widgets/base",
      "model_module_version": "1.2.0",
      "model_name": "LayoutModel",
      "state": {}
     },
     "2393cdb497ea4632ab7ef03a7ed06736": {
      "model_module": "@jupyter-widgets/controls",
      "model_module_version": "1.5.0",
      "model_name": "LabelModel",
      "state": {
       "layout": "IPY_MODEL_1b9c160d9ac4464a923c32c529b2d2d7",
       "style": "IPY_MODEL_e022677be40940fc9af40c4df513c349",
       "value": "0"
      }
     },
     "23c5733b8dba4a5ba5166aab9dcc6e56": {
      "model_module": "@jupyter-widgets/base",
      "model_module_version": "1.2.0",
      "model_name": "LayoutModel",
      "state": {}
     },
     "23dd4f2e7f084f668c00d2c4407811e0": {
      "model_module": "@jupyter-widgets/controls",
      "model_module_version": "1.5.0",
      "model_name": "LabelModel",
      "state": {
       "layout": "IPY_MODEL_cdcd0ed79e7e44bcbac518bd7d6caeeb",
       "style": "IPY_MODEL_e9c1dcae82e948a19b036e0b4046bf60",
       "value": "3"
      }
     },
     "23e7196bd511416b94516ddab4fb2ab6": {
      "model_module": "@jupyter-widgets/controls",
      "model_module_version": "1.5.0",
      "model_name": "DescriptionStyleModel",
      "state": {
       "description_width": ""
      }
     },
     "244182ba9c814858a81821d665b64c50": {
      "model_module": "@jupyter-widgets/controls",
      "model_module_version": "1.5.0",
      "model_name": "SelectionRangeSliderModel",
      "state": {
       "_model_name": "SelectionRangeSliderModel",
       "_options_labels": [
        "Jan",
        "Feb",
        "Mar",
        "Apr",
        "May",
        "Jun",
        "Jul",
        "Aug",
        "Sep",
        "Oct",
        "Nov",
        "Dec"
       ],
       "_view_name": "SelectionRangeSliderView",
       "description": "Months (2015)",
       "index": [
        0,
        11
       ],
       "layout": "IPY_MODEL_473cdce5666a4985943f91b6cea12749",
       "style": "IPY_MODEL_aa0c754401664ea6abeab48113e4a876"
      }
     },
     "245a9074ee9140a9b383937f1179c12e": {
      "model_module": "@jupyter-widgets/controls",
      "model_module_version": "1.5.0",
      "model_name": "ButtonModel",
      "state": {
       "description": "Click me",
       "icon": "check",
       "layout": "IPY_MODEL_37558a7f682a4122bed6950b25cc1b49",
       "style": "IPY_MODEL_81bb56244731402ea6ce6464af66e05f",
       "tooltip": "Click me"
      }
     },
     "24753765ec82456a94239ec09f955299": {
      "model_module": "@jupyter-widgets/base",
      "model_module_version": "1.2.0",
      "model_name": "LayoutModel",
      "state": {}
     },
     "248bcc0c041144b1a9f018cc13af779c": {
      "model_module": "@jupyter-widgets/controls",
      "model_module_version": "1.5.0",
      "model_name": "SliderStyleModel",
      "state": {
       "description_width": ""
      }
     },
     "249abb73dd804bba8c371dc670369747": {
      "model_module": "@jupyter-widgets/base",
      "model_module_version": "1.2.0",
      "model_name": "LayoutModel",
      "state": {}
     },
     "24cfeb63c11f4842af69dee09122f96e": {
      "model_module": "@jupyter-widgets/base",
      "model_module_version": "1.2.0",
      "model_name": "LayoutModel",
      "state": {}
     },
     "2501f97be42a447b8feb6d7dfa38bf1e": {
      "model_module": "@jupyter-widgets/controls",
      "model_module_version": "1.5.0",
      "model_name": "IntProgressModel",
      "state": {
       "description": "Loading:",
       "layout": "IPY_MODEL_7cafd6fb335e4a218b91623c4dbfefac",
       "max": 10,
       "style": "IPY_MODEL_52ac4aec6dd94ad7b7b4444b88a68948",
       "value": 7
      }
     },
     "255d21c632b34430b12551015d08f65d": {
      "model_module": "@jupyter-widgets/base",
      "model_module_version": "1.2.0",
      "model_name": "LayoutModel",
      "state": {}
     },
     "25762b4240174b9997848755db7d2fc7": {
      "model_module": "@jupyter-widgets/base",
      "model_module_version": "1.2.0",
      "model_name": "LayoutModel",
      "state": {}
     },
     "25d2158cc49843839a4e4750b76976fd": {
      "model_module": "@jupyter-widgets/controls",
      "model_module_version": "1.5.0",
      "model_name": "FloatSliderModel",
      "state": {
       "continuous_update": false,
       "description": "Test:",
       "layout": "IPY_MODEL_b0903b2d79f74dbab9a6a45aaabcdd76",
       "max": 10,
       "readout_format": ".1f",
       "step": 0.1,
       "style": "IPY_MODEL_58ec2600a7cf40aeadd51bedf66a1c77",
       "value": 7.5
      }
     },
     "25d682e286b540408bf7e745029b281c": {
      "model_module": "@jupyter-widgets/controls",
      "model_module_version": "1.5.0",
      "model_name": "CheckboxModel",
      "state": {
       "description": "Check me",
       "disabled": false,
       "layout": "IPY_MODEL_25762b4240174b9997848755db7d2fc7",
       "style": "IPY_MODEL_a00fa875024349e6bef46e9328083eaa",
       "value": false
      }
     },
     "25db863699eb41cb8489710c09fb9cc1": {
      "model_module": "@jupyter-widgets/controls",
      "model_module_version": "1.5.0",
      "model_name": "SelectModel",
      "state": {
       "_options_labels": [
        "Linux",
        "Windows",
        "OSX"
       ],
       "description": "OS:",
       "index": 2,
       "layout": "IPY_MODEL_be6ca5c67bb24fceaa46758dfd4a64fa",
       "style": "IPY_MODEL_fcc259572d6a42ddbdd23dfb246a123b"
      }
     },
     "25e0575616d244d5b89da93913c1d040": {
      "model_module": "@jupyter-widgets/controls",
      "model_module_version": "1.5.0",
      "model_name": "AccordionModel",
      "state": {
       "_titles": {
        "0": "Slider",
        "1": "Text"
       },
       "children": [
        "IPY_MODEL_a20741e021bc4e4098ff8ccf1c137079",
        "IPY_MODEL_e27b4ca8c5484a89a26dae15ca55144c"
       ],
       "layout": "IPY_MODEL_1f5c3816dfc04c639a9fd47e84c9e4b8",
       "selected_index": null
      }
     },
     "265d3691bfb34392bcf7359feb02ce14": {
      "model_module": "@jupyter-widgets/controls",
      "model_module_version": "1.5.0",
      "model_name": "HBoxModel",
      "state": {
       "children": [
        "IPY_MODEL_3ec691aecde346e3abca095993345c46",
        "IPY_MODEL_84b022ea418c4772b1432bc7b5deadff"
       ],
       "layout": "IPY_MODEL_63a1f52fb8de4627b9823bd6b7d379f2"
      }
     },
     "2666d3d21a1b47aebd1cf6007a4f03df": {
      "model_module": "@jupyter-widgets/controls",
      "model_module_version": "1.5.0",
      "model_name": "IntTextModel",
      "state": {
       "description": "Any:",
       "layout": "IPY_MODEL_de47aa88ae3b4710960cef6500b11781",
       "step": 1,
       "style": "IPY_MODEL_7fa66c024a754a6397c03debee6fecf4",
       "value": 7
      }
     },
     "2691acf25f2242e08362de499ba3fe5a": {
      "model_module": "@jupyter-widgets/base",
      "model_module_version": "1.2.0",
      "model_name": "LayoutModel",
      "state": {}
     },
     "269bb7c513e84af092ad6722c9e45a0e": {
      "model_module": "@jupyter-widgets/base",
      "model_module_version": "1.2.0",
      "model_name": "LayoutModel",
      "state": {}
     },
     "26b0d55475a449348dd314d2eb12ea37": {
      "model_module": "@jupyter-widgets/controls",
      "model_module_version": "1.5.0",
      "model_name": "DescriptionStyleModel",
      "state": {
       "description_width": ""
      }
     },
     "26c0dadc47e249a193a6b861265ac170": {
      "model_module": "@jupyter-widgets/controls",
      "model_module_version": "1.5.0",
      "model_name": "DescriptionStyleModel",
      "state": {
       "description_width": ""
      }
     },
     "276e5549a7f5491ead7f3baf60b558e2": {
      "model_module": "@jupyter-widgets/controls",
      "model_module_version": "1.5.0",
      "model_name": "TextModel",
      "state": {
       "description": "P0",
       "layout": "IPY_MODEL_33ffbdfae49f41fdbc99ca0ea14caed1",
       "style": "IPY_MODEL_d3ae248c87fd40289ec2813a6e772bdf"
      }
     },
     "277484166eca40a7b7efc9f8010314c8": {
      "model_module": "@jupyter-widgets/controls",
      "model_module_version": "1.5.0",
      "model_name": "DescriptionStyleModel",
      "state": {
       "description_width": ""
      }
     },
     "27adef08bd7d462b86d91eb0213fbada": {
      "model_module": "@jupyter-widgets/controls",
      "model_module_version": "1.5.0",
      "model_name": "LinkModel",
      "state": {
       "source": [
        "IPY_MODEL_4e4162578472410ca708e0b6a2ec6d96",
        "value"
       ],
       "target": [
        "IPY_MODEL_98dccfd0ea954bd4b24e0c24f183be55",
        "value"
       ]
      }
     },
     "27c9d9953391496fad5dfa2351ab2f5e": {
      "model_module": "@jupyter-widgets/base",
      "model_module_version": "1.2.0",
      "model_name": "LayoutModel",
      "state": {}
     },
     "2840399b188c4acaa04066b3e97d571a": {
      "model_module": "@jupyter-widgets/base",
      "model_module_version": "1.2.0",
      "model_name": "LayoutModel",
      "state": {}
     },
     "28819c33042d4b18ba93a52bbc25314c": {
      "model_module": "@jupyter-widgets/base",
      "model_module_version": "1.2.0",
      "model_name": "LayoutModel",
      "state": {}
     },
     "289f62a26fa6437d832509e6e3c90807": {
      "model_module": "@jupyter-widgets/controls",
      "model_module_version": "1.5.0",
      "model_name": "ProgressStyleModel",
      "state": {
       "description_width": ""
      }
     },
     "28df4a87bc7a44fa82df17c52c978e7e": {
      "model_module": "@jupyter-widgets/base",
      "model_module_version": "1.2.0",
      "model_name": "LayoutModel",
      "state": {}
     },
     "28e9ba1d9e544899bbd560c218df2bd5": {
      "model_module": "@jupyter-widgets/base",
      "model_module_version": "1.2.0",
      "model_name": "LayoutModel",
      "state": {}
     },
     "29485eb7bdc04eceb4e74b9935b46a05": {
      "model_module": "@jupyter-widgets/base",
      "model_module_version": "1.2.0",
      "model_name": "LayoutModel",
      "state": {}
     },
     "2968d8c7f9e94a0db40614df851ab00e": {
      "model_module": "@jupyter-widgets/controls",
      "model_module_version": "1.5.0",
      "model_name": "PlayModel",
      "state": {
       "description": "Press play",
       "interval": 10,
       "layout": "IPY_MODEL_9eeddf76281745d188de508b1ccafb5f",
       "style": "IPY_MODEL_3c021f1bdfd9456f891f088ccd405cfc",
       "value": 50
      }
     },
     "297230bcc1fe4901bc3bb94209888802": {
      "model_module": "@jupyter-widgets/controls",
      "model_module_version": "1.5.0",
      "model_name": "FloatRangeSliderModel",
      "state": {
       "_model_name": "FloatRangeSliderModel",
       "_view_name": "FloatRangeSliderView",
       "continuous_update": false,
       "description": "Test:",
       "layout": "IPY_MODEL_d59ef2ded2b24d12a10c2c17d262a56e",
       "max": 10,
       "readout_format": ".1f",
       "step": 0.1,
       "style": "IPY_MODEL_5dcfcf61c2734a78b9cd3398679ad763",
       "value": [
        5,
        7.5
       ]
      }
     },
     "298a66b5478a48c3ac8eb32b1e4f886e": {
      "model_module": "@jupyter-widgets/controls",
      "model_module_version": "1.5.0",
      "model_name": "DescriptionStyleModel",
      "state": {
       "description_width": ""
      }
     },
     "29e5cf3e7ce44570984288b790510a89": {
      "model_module": "@jupyter-widgets/base",
      "model_module_version": "1.2.0",
      "model_name": "LayoutModel",
      "state": {}
     },
     "29f56f3a254e41faa3ea012cbfa38bcf": {
      "model_module": "@jupyter-widgets/controls",
      "model_module_version": "1.5.0",
      "model_name": "DescriptionStyleModel",
      "state": {
       "description_width": ""
      }
     },
     "2a564c63e9554e129f9d524e6c25bdd0": {
      "model_module": "@jupyter-widgets/controls",
      "model_module_version": "1.5.0",
      "model_name": "LabelModel",
      "state": {
       "layout": "IPY_MODEL_4f1cb0d38b8d403bb744be85eb8363b7",
       "style": "IPY_MODEL_ea024955f2bb418e9135280da59bdf2f",
       "value": "3"
      }
     },
     "2a721631bd3341319ed5c94b8a9e710c": {
      "model_module": "@jupyter-widgets/controls",
      "model_module_version": "1.5.0",
      "model_name": "HBoxModel",
      "state": {
       "children": [
        "IPY_MODEL_0c7197088c7b4af084447dd5939a7103",
        "IPY_MODEL_7590b0ebe0144a2ebd6633d4f223327f"
       ],
       "layout": "IPY_MODEL_255d21c632b34430b12551015d08f65d"
      }
     },
     "2a727e9ea52a47589f2977b77e34d0da": {
      "model_module": "@jupyter-widgets/controls",
      "model_module_version": "1.5.0",
      "model_name": "FloatRangeSliderModel",
      "state": {
       "_model_name": "FloatRangeSliderModel",
       "_view_name": "FloatRangeSliderView",
       "continuous_update": false,
       "description": "Test:",
       "layout": "IPY_MODEL_8aad0bbd98714119a78363369011675c",
       "max": 10,
       "readout_format": ".1f",
       "step": 0.1,
       "style": "IPY_MODEL_a0f42093e9b44564b691c42d1f69ef49",
       "value": [
        5,
        7.5
       ]
      }
     },
     "2a762751e8d84c2e8e1205ab82537ab6": {
      "model_module": "@jupyter-widgets/base",
      "model_module_version": "1.2.0",
      "model_name": "LayoutModel",
      "state": {}
     },
     "2b2be252e8a1406da0ab0fd331839de9": {
      "model_module": "@jupyter-widgets/controls",
      "model_module_version": "1.5.0",
      "model_name": "IntSliderModel",
      "state": {
       "layout": "IPY_MODEL_9154d5aee93841c58a888247b4bb623b",
       "style": "IPY_MODEL_e6536e9937c747fe8e0c3e21d2085ab1",
       "value": 50
      }
     },
     "2b53aaf6b28448bcaf7f723e22369dd4": {
      "model_module": "@jupyter-widgets/controls",
      "model_module_version": "1.5.0",
      "model_name": "AccordionModel",
      "state": {
       "_titles": {
        "0": "Slider",
        "1": "Text"
       },
       "children": [
        "IPY_MODEL_e0bd89507f664f128d4c87181af4a05e",
        "IPY_MODEL_f2acb17e4d77405aa646fd3dfa1868df"
       ],
       "layout": "IPY_MODEL_e18503c349464d4f80043c14aa61d3cd",
       "selected_index": null
      }
     },
     "2b8feceb05fc4e77a078a0864c9dfac0": {
      "model_module": "@jupyter-widgets/base",
      "model_module_version": "1.2.0",
      "model_name": "LayoutModel",
      "state": {}
     },
     "2c088aa691544595931da7cbbc67a9f2": {
      "model_module": "@jupyter-widgets/base",
      "model_module_version": "1.2.0",
      "model_name": "LayoutModel",
      "state": {}
     },
     "2c93b63380714abfaf2745e63a1612b6": {
      "model_module": "@jupyter-widgets/base",
      "model_module_version": "1.2.0",
      "model_name": "LayoutModel",
      "state": {}
     },
     "2c99a19326424d2885bdec2583a7194e": {
      "model_module": "@jupyter-widgets/base",
      "model_module_version": "1.2.0",
      "model_name": "LayoutModel",
      "state": {}
     },
     "2d24b880f7fd4a24bff244ad18b62b3e": {
      "model_module": "@jupyter-widgets/controls",
      "model_module_version": "1.5.0",
      "model_name": "DescriptionStyleModel",
      "state": {
       "description_width": ""
      }
     },
     "2d328e04ecb64db3b7734825a1e8f801": {
      "model_module": "@jupyter-widgets/controls",
      "model_module_version": "1.5.0",
      "model_name": "ValidModel",
      "state": {
       "description": "Valid!",
       "layout": "IPY_MODEL_c276048bda3841f09063df25147c77af",
       "style": "IPY_MODEL_2f8f489c350842f08c7d80c7abc4ce3a"
      }
     },
     "2d6c6896a9ea4e0f974653ea33dc92e4": {
      "model_module": "@jupyter-widgets/controls",
      "model_module_version": "1.5.0",
      "model_name": "LabelModel",
      "state": {
       "layout": "IPY_MODEL_e7e3a200506e49c5b02fcefbe44b08f4",
       "style": "IPY_MODEL_2dcb67b95c7a4da980a7fbcb7dfc6e4c",
       "value": "2"
      }
     },
     "2d95f83f083e4a9baad255e79baf77d4": {
      "model_module": "@jupyter-widgets/base",
      "model_module_version": "1.2.0",
      "model_name": "LayoutModel",
      "state": {}
     },
     "2dcb67b95c7a4da980a7fbcb7dfc6e4c": {
      "model_module": "@jupyter-widgets/controls",
      "model_module_version": "1.5.0",
      "model_name": "DescriptionStyleModel",
      "state": {
       "description_width": ""
      }
     },
     "2e527b7474ea466a9c5ad97ef9ccd6eb": {
      "model_module": "@jupyter-widgets/controls",
      "model_module_version": "1.5.0",
      "model_name": "FloatSliderModel",
      "state": {
       "continuous_update": false,
       "description": "Test:",
       "layout": "IPY_MODEL_9edd9c0048474360b0b2694f934cb6e1",
       "max": 10,
       "orientation": "vertical",
       "readout_format": ".1f",
       "step": 0.1,
       "style": "IPY_MODEL_0bd8dfafba0d4f7c94ba172ce49545f7",
       "value": 7.5
      }
     },
     "2eb65c5469554cd59ead6cb1454d8762": {
      "model_module": "@jupyter-widgets/output",
      "model_module_version": "1.0.0",
      "model_name": "OutputModel",
      "state": {
       "layout": "IPY_MODEL_3e5be519011f46afa149ecd7647fe289",
       "outputs": [
        {
         "name": "stdout",
         "output_type": "stream",
         "text": "Output appended with append_stdout"
        },
        {
         "data": {
          "text/html": "\n        <iframe\n            width=\"400\"\n            height=\"300\"\n            src=\"https://www.youtube.com/embed/eWzY2nGfkXk\"\n            frameborder=\"0\"\n            allowfullscreen\n        ></iframe>\n        ",
          "text/plain": "<IPython.lib.display.YouTubeVideo at 0x7fb4f420e358>"
         },
         "metadata": {},
         "output_type": "display_data"
        }
       ]
      }
     },
     "2eeedeffa80a41109023176b86a32b3f": {
      "model_module": "@jupyter-widgets/base",
      "model_module_version": "1.2.0",
      "model_name": "LayoutModel",
      "state": {}
     },
     "2f059bd7b3a44edc98073f5f8b275ca1": {
      "model_module": "@jupyter-widgets/controls",
      "model_module_version": "1.5.0",
      "model_name": "DescriptionStyleModel",
      "state": {
       "description_width": ""
      }
     },
     "2f2904e091754f0f9577c3b512efaf45": {
      "model_module": "@jupyter-widgets/controls",
      "model_module_version": "1.5.0",
      "model_name": "TextModel",
      "state": {
       "layout": "IPY_MODEL_f64ab18a574545f1a74e71bf702fa0e8",
       "style": "IPY_MODEL_e9612a68908a4a8c9492b397a96aee1a"
      }
     },
     "2f5b02efec654a04baf03e591d80df20": {
      "model_module": "@jupyter-widgets/controls",
      "model_module_version": "1.5.0",
      "model_name": "DescriptionStyleModel",
      "state": {
       "description_width": ""
      }
     },
     "2f60677e8bc748598feca1027aebc0a5": {
      "model_module": "@jupyter-widgets/controls",
      "model_module_version": "1.5.0",
      "model_name": "SliderStyleModel",
      "state": {
       "description_width": ""
      }
     },
     "2f8f489c350842f08c7d80c7abc4ce3a": {
      "model_module": "@jupyter-widgets/controls",
      "model_module_version": "1.5.0",
      "model_name": "DescriptionStyleModel",
      "state": {
       "description_width": ""
      }
     },
     "30923b99d3dd4b8a88a56fb7f1df16bd": {
      "model_module": "@jupyter-widgets/controls",
      "model_module_version": "1.5.0",
      "model_name": "DescriptionStyleModel",
      "state": {
       "description_width": ""
      }
     },
     "30db08c76ce440cd884524dc0cf36a1b": {
      "model_module": "@jupyter-widgets/controls",
      "model_module_version": "1.5.0",
      "model_name": "LabelModel",
      "state": {
       "layout": "IPY_MODEL_a7c65380788943049cfac9c6f1ba1639",
       "style": "IPY_MODEL_6c014b4e8e784d0a9eae20ab198223d8",
       "value": "1"
      }
     },
     "3157ece976a647d3aa9f8d4cd8fde6bc": {
      "model_module": "@jupyter-widgets/controls",
      "model_module_version": "1.5.0",
      "model_name": "DescriptionStyleModel",
      "state": {
       "description_width": ""
      }
     },
     "318023cc3ace4b65b7895fc2cd1a4e66": {
      "model_module": "@jupyter-widgets/controls",
      "model_module_version": "1.5.0",
      "model_name": "ToggleButtonsModel",
      "state": {
       "_options_labels": [
        "Slow",
        "Regular",
        "Fast"
       ],
       "button_style": "",
       "description": "Speed:",
       "icons": [],
       "index": 0,
       "layout": "IPY_MODEL_2840399b188c4acaa04066b3e97d571a",
       "style": "IPY_MODEL_e96bc0bee4274dfe8dd57907c56d94b4",
       "tooltips": [
        "Description of slow",
        "Description of regular",
        "Description of fast"
       ]
      }
     },
     "318811d1979945dba762a8c2e2e01829": {
      "model_module": "@jupyter-widgets/base",
      "model_module_version": "1.2.0",
      "model_name": "LayoutModel",
      "state": {}
     },
     "32100633b94b438b83c1165ef598cfb9": {
      "model_module": "@jupyter-widgets/base",
      "model_module_version": "1.2.0",
      "model_name": "LayoutModel",
      "state": {}
     },
     "322192b0db2c4fcc957e92983fcf7684": {
      "model_module": "@jupyter-widgets/controls",
      "model_module_version": "1.5.0",
      "model_name": "SelectModel",
      "state": {
       "_options_labels": [
        "Linux",
        "Windows",
        "OSX"
       ],
       "description": "OS:",
       "index": 2,
       "layout": "IPY_MODEL_aa155876a6924254bded7d5543689d4b",
       "rows": 3,
       "style": "IPY_MODEL_dbd7de63f7254413a23c573bcc39e785"
      }
     },
     "3238b200bd6c4d9ebffbb51ee794b972": {
      "model_module": "@jupyter-widgets/base",
      "model_module_version": "1.2.0",
      "model_name": "LayoutModel",
      "state": {
       "border": "1px solid black"
      }
     },
     "32c34f77042b4b34ba697a8536650478": {
      "model_module": "@jupyter-widgets/base",
      "model_module_version": "1.2.0",
      "model_name": "LayoutModel",
      "state": {}
     },
     "32cefad3e33e453e912623008bc82bb9": {
      "model_module": "@jupyter-widgets/controls",
      "model_module_version": "1.5.0",
      "model_name": "DescriptionStyleModel",
      "state": {
       "description_width": ""
      }
     },
     "32fd40cbe51440da8c42f3612159a7fb": {
      "model_module": "@jupyter-widgets/controls",
      "model_module_version": "1.5.0",
      "model_name": "TextModel",
      "state": {
       "description": "P4",
       "layout": "IPY_MODEL_69629663fbc64f20babe8e3568494925",
       "style": "IPY_MODEL_b94d303f96174213bb2579869cdc268e"
      }
     },
     "3361567d343241409c1de5e3e7654493": {
      "model_module": "@jupyter-widgets/controls",
      "model_module_version": "1.5.0",
      "model_name": "DescriptionStyleModel",
      "state": {
       "description_width": ""
      }
     },
     "3383d0b07f34429898ca686b90e84588": {
      "model_module": "@jupyter-widgets/controls",
      "model_module_version": "1.5.0",
      "model_name": "DescriptionStyleModel",
      "state": {
       "description_width": ""
      }
     },
     "33ffbdfae49f41fdbc99ca0ea14caed1": {
      "model_module": "@jupyter-widgets/base",
      "model_module_version": "1.2.0",
      "model_name": "LayoutModel",
      "state": {}
     },
     "3539cfb7042f48509841d15e1c30fefd": {
      "model_module": "@jupyter-widgets/controls",
      "model_module_version": "1.5.0",
      "model_name": "LabelModel",
      "state": {
       "layout": "IPY_MODEL_0164c1db3bc14e14a831fb5fa33502d4",
       "style": "IPY_MODEL_0180b717e38d4040aa7955e37d29c252",
       "value": "3"
      }
     },
     "355008543f04442791c38950dfa72444": {
      "model_module": "@jupyter-widgets/base",
      "model_module_version": "1.2.0",
      "model_name": "LayoutModel",
      "state": {}
     },
     "35504dd5c1a44fb28fce0a69d3e61e4c": {
      "model_module": "@jupyter-widgets/controls",
      "model_module_version": "1.5.0",
      "model_name": "TextModel",
      "state": {
       "description": "P1",
       "layout": "IPY_MODEL_82eb80b90ae64036a676cc3b6ce6f557",
       "style": "IPY_MODEL_11051faf7556451a8fcd76828be3aeb9"
      }
     },
     "35ef5171c6964958a60c76ba05b6599d": {
      "model_module": "@jupyter-widgets/controls",
      "model_module_version": "1.5.0",
      "model_name": "HBoxModel",
      "state": {
       "children": [
        "IPY_MODEL_3d2fa2134937426bbdcce341ccc73cf5",
        "IPY_MODEL_d4b433796bec41b3b909c92dd7f43742",
        "IPY_MODEL_2d6c6896a9ea4e0f974653ea33dc92e4",
        "IPY_MODEL_497b7037aac6444682563a4eb79186e8"
       ],
       "layout": "IPY_MODEL_5df5bc7a58f74aa4a7ce1954af79a69e"
      }
     },
     "36198adabfa54188b5124c62e65bcda7": {
      "model_module": "@jupyter-widgets/base",
      "model_module_version": "1.2.0",
      "model_name": "LayoutModel",
      "state": {}
     },
     "3666bde02bb84495b84cddb4af04ab3c": {
      "model_module": "@jupyter-widgets/controls",
      "model_module_version": "1.5.0",
      "model_name": "LabelModel",
      "state": {
       "layout": "IPY_MODEL_7bc916bc45b7472c98e883333686234e",
       "style": "IPY_MODEL_dcefb51532d7460eb484f4924eedf70f",
       "value": "3"
      }
     },
     "36e5a5c924f74804a2129d9e999a9413": {
      "model_module": "@jupyter-widgets/base",
      "model_module_version": "1.2.0",
      "model_name": "LayoutModel",
      "state": {
       "border": "1px solid black"
      }
     },
     "3730828ddfc845688c0a38af9cbde2f3": {
      "model_module": "@jupyter-widgets/controls",
      "model_module_version": "1.5.0",
      "model_name": "ToggleButtonsModel",
      "state": {
       "_options_labels": [
        "Slow",
        "Regular",
        "Fast"
       ],
       "button_style": "",
       "description": "Speed:",
       "icons": [
        "check",
        "check"
       ],
       "index": 0,
       "layout": "IPY_MODEL_5b500e5835684df5ae62138e18cf69f9",
       "style": "IPY_MODEL_9ca6f9b70f1c4b85ab5a10eb40a15b63",
       "tooltips": [
        "Description of slow",
        "Description of regular",
        "Description of fast"
       ]
      }
     },
     "37558a7f682a4122bed6950b25cc1b49": {
      "model_module": "@jupyter-widgets/base",
      "model_module_version": "1.2.0",
      "model_name": "LayoutModel",
      "state": {}
     },
     "378a4cb6fe3d4cf78a86669f4a1438ad": {
      "model_module": "@jupyter-widgets/controls",
      "model_module_version": "1.5.0",
      "model_name": "CheckboxModel",
      "state": {
       "description": "Check me",
       "disabled": false,
       "layout": "IPY_MODEL_1dbf19e4c3b14067a86492645e64b889",
       "style": "IPY_MODEL_9babd111bf6f452ca737160131fca7c2",
       "value": false
      }
     },
     "37e5de05fd474f0aa807963b7a033a8f": {
      "model_module": "@jupyter-widgets/controls",
      "model_module_version": "1.5.0",
      "model_name": "SliderStyleModel",
      "state": {
       "description_width": ""
      }
     },
     "3868629228d64a9b8ce673d8973a3183": {
      "model_module": "@jupyter-widgets/base",
      "model_module_version": "1.2.0",
      "model_name": "LayoutModel",
      "state": {}
     },
     "388f29f55ed94020a407d72f6ace0302": {
      "model_module": "@jupyter-widgets/controls",
      "model_module_version": "1.5.0",
      "model_name": "FloatLogSliderModel",
      "state": {
       "description": "Log Slider",
       "layout": "IPY_MODEL_67b28a62f2624dcf8bf514d8a318415e",
       "max": 10,
       "min": -10,
       "step": 0.2,
       "style": "IPY_MODEL_469a8ccd0ae74a66b44853814f509e23",
       "value": 10
      }
     },
     "38d2a896c2e94000a8c85ad3877dfe71": {
      "model_module": "@jupyter-widgets/controls",
      "model_module_version": "1.5.0",
      "model_name": "HTMLModel",
      "state": {
       "description": "Some HTML",
       "layout": "IPY_MODEL_7a44f3dd352741ed883cf3fca6fea390",
       "placeholder": "Some HTML",
       "style": "IPY_MODEL_48e3e63c4cec41c6937bc5f8af0d75cb",
       "value": "Hello <b>World</b>"
      }
     },
     "38f6c8e891bc455eb419e6293c0c3dab": {
      "model_module": "@jupyter-widgets/base",
      "model_module_version": "1.2.0",
      "model_name": "LayoutModel",
      "state": {}
     },
     "38fe0348681e403899f06d1473322bac": {
      "model_module": "@jupyter-widgets/controls",
      "model_module_version": "1.5.0",
      "model_name": "DescriptionStyleModel",
      "state": {
       "description_width": ""
      }
     },
     "3915eef972ee46eaad657931fe35fea9": {
      "model_module": "@jupyter-widgets/controls",
      "model_module_version": "1.5.0",
      "model_name": "SliderStyleModel",
      "state": {
       "description_width": ""
      }
     },
     "392ade698d474fcfb82a22efbccd77cc": {
      "model_module": "@jupyter-widgets/controls",
      "model_module_version": "1.5.0",
      "model_name": "DatePickerModel",
      "state": {
       "description": "Pick a Date",
       "disabled": false,
       "layout": "IPY_MODEL_6572fe6ad11343308e5f8449d34cfe0b",
       "style": "IPY_MODEL_d91e8d3bb7984f529a8a57e08c0884b9"
      }
     },
     "39694750677b4072ae7673b1dcff4ac7": {
      "model_module": "@jupyter-widgets/controls",
      "model_module_version": "1.5.0",
      "model_name": "IntSliderModel",
      "state": {
       "continuous_update": false,
       "description": "Test:",
       "layout": "IPY_MODEL_b0e879fa7bf64991a376f74e5641477b",
       "max": 10,
       "style": "IPY_MODEL_3d2d181e54504b27bf352921f80331ce",
       "value": 7
      }
     },
     "39abd23557fc4befac05035681dac75d": {
      "model_module": "@jupyter-widgets/base",
      "model_module_version": "1.2.0",
      "model_name": "LayoutModel",
      "state": {}
     },
     "39b066c2ec8441aead197e9ff7f205dc": {
      "model_module": "@jupyter-widgets/controls",
      "model_module_version": "1.5.0",
      "model_name": "DescriptionStyleModel",
      "state": {
       "description_width": ""
      }
     },
     "39df9405993044a190fa46edb59c42fa": {
      "model_module": "@jupyter-widgets/controls",
      "model_module_version": "1.5.0",
      "model_name": "SelectionSliderModel",
      "state": {
       "_options_labels": [
        "scrambled",
        "sunny side up",
        "poached",
        "over easy"
       ],
       "continuous_update": false,
       "description": "I like my eggs …",
       "index": 1,
       "layout": "IPY_MODEL_57cebc7d19ca4b05bc2f476ad567e78b",
       "style": "IPY_MODEL_55620e6bc56c43e08f2a28f14337d48c"
      }
     },
     "39e2ddf16d3f491eb82613d9c7708008": {
      "model_module": "@jupyter-widgets/controls",
      "model_module_version": "1.5.0",
      "model_name": "VBoxModel",
      "state": {
       "children": [
        "IPY_MODEL_539f73a76ab44a909ba3a9f697cc1d9e",
        "IPY_MODEL_c6a17c6f44f04a1d8752d5ab996c7aa2"
       ],
       "layout": "IPY_MODEL_9caa4a96cd4f44758870856108e703ac"
      }
     },
     "3ae9c958eb1a4df7a0acc6de00ec7285": {
      "model_module": "@jupyter-widgets/controls",
      "model_module_version": "1.5.0",
      "model_name": "FloatProgressModel",
      "state": {
       "bar_style": "info",
       "description": "Loading:",
       "layout": "IPY_MODEL_8fda6801d0a3490c889f18b38bc874ca",
       "max": 10,
       "style": "IPY_MODEL_a19a46e844bb4091ab07a8873d7a75a6",
       "value": 7.5
      }
     },
     "3b077728e9f041b49759bdd9ab76fd75": {
      "model_module": "@jupyter-widgets/base",
      "model_module_version": "1.2.0",
      "model_name": "LayoutModel",
      "state": {}
     },
     "3b5164c339a54a8384d2908b9a2823eb": {
      "model_module": "@jupyter-widgets/controls",
      "model_module_version": "1.5.0",
      "model_name": "LabelModel",
      "state": {
       "layout": "IPY_MODEL_7b3b0894034f4aea810739e5a100b424",
       "style": "IPY_MODEL_a7f43dfb523e44cc8cff9902f675f6ca",
       "value": "2"
      }
     },
     "3b83d9b1c6bc4d49a69bb9ce0d0c29ff": {
      "model_module": "@jupyter-widgets/controls",
      "model_module_version": "1.5.0",
      "model_name": "DropdownModel",
      "state": {
       "_options_labels": [
        "1",
        "2",
        "3"
       ],
       "description": "Number:",
       "index": 1,
       "layout": "IPY_MODEL_9dd61a4469ff49f69c8cd6cc9c7e7a90",
       "style": "IPY_MODEL_cea2f01371f84d4e9e7262b9cb56a46f"
      }
     },
     "3c021f1bdfd9456f891f088ccd405cfc": {
      "model_module": "@jupyter-widgets/controls",
      "model_module_version": "1.5.0",
      "model_name": "DescriptionStyleModel",
      "state": {
       "description_width": ""
      }
     },
     "3c93911484e741daa41a1da19493f96b": {
      "model_module": "@jupyter-widgets/controls",
      "model_module_version": "1.5.0",
      "model_name": "CheckboxModel",
      "state": {
       "description": "Check me",
       "disabled": false,
       "layout": "IPY_MODEL_5d30b78007f8428cb24e484b7d108db3",
       "style": "IPY_MODEL_e91538c0b61c49e5b35720f54539df2e",
       "value": false
      }
     },
     "3ca58ccdc65b447ca13ed0a95b67d111": {
      "model_module": "@jupyter-widgets/base",
      "model_module_version": "1.2.0",
      "model_name": "LayoutModel",
      "state": {}
     },
     "3d2d181e54504b27bf352921f80331ce": {
      "model_module": "@jupyter-widgets/controls",
      "model_module_version": "1.5.0",
      "model_name": "SliderStyleModel",
      "state": {
       "description_width": ""
      }
     },
     "3d2fa2134937426bbdcce341ccc73cf5": {
      "model_module": "@jupyter-widgets/controls",
      "model_module_version": "1.5.0",
      "model_name": "LabelModel",
      "state": {
       "layout": "IPY_MODEL_8392f3b96f1149b58f0a5c6a1c7849cc",
       "style": "IPY_MODEL_84f76a1dd90d4f83bd4f0f3198224511",
       "value": "0"
      }
     },
     "3d828b02aad54d0389b1c82b874e9c43": {
      "model_module": "@jupyter-widgets/base",
      "model_module_version": "1.2.0",
      "model_name": "LayoutModel",
      "state": {}
     },
     "3db12febc66a4613ba5737d3a83429ae": {
      "model_module": "@jupyter-widgets/controls",
      "model_module_version": "1.5.0",
      "model_name": "DescriptionStyleModel",
      "state": {
       "description_width": ""
      }
     },
     "3dcb35c0745c499ab764ad6c083f9c2e": {
      "model_module": "@jupyter-widgets/controls",
      "model_module_version": "1.5.0",
      "model_name": "DescriptionStyleModel",
      "state": {
       "description_width": ""
      }
     },
     "3e512e614afc49b6a49e9aacd4c116b7": {
      "model_module": "@jupyter-widgets/base",
      "model_module_version": "1.2.0",
      "model_name": "LayoutModel",
      "state": {}
     },
     "3e5be519011f46afa149ecd7647fe289": {
      "model_module": "@jupyter-widgets/base",
      "model_module_version": "1.2.0",
      "model_name": "LayoutModel",
      "state": {
       "border": "1px solid black"
      }
     },
     "3e9a891ac687436a8a0323c28eb85487": {
      "model_module": "@jupyter-widgets/controls",
      "model_module_version": "1.5.0",
      "model_name": "DescriptionStyleModel",
      "state": {
       "description_width": ""
      }
     },
     "3e9dc1a12f06490ab28012a36a70e205": {
      "buffers": [
       {
        "data": "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",
        "encoding": "base64",
        "path": [
         "outputs",
         1,
         "data",
         "image/jpeg"
        ]
       }
      ],
      "model_module": "@jupyter-widgets/output",
      "model_module_version": "1.0.0",
      "model_name": "OutputModel",
      "state": {
       "layout": "IPY_MODEL_36e5a5c924f74804a2129d9e999a9413",
       "outputs": [
        {
         "name": "stdout",
         "output_type": "stream",
         "text": "Output appended with append_stdout"
        },
        {
         "data": {
          "text/html": "\n        <iframe\n            width=\"400\"\n            height=\"300\"\n            src=\"https://www.youtube.com/embed/eWzY2nGfkXk\"\n            frameborder=\"0\"\n            allowfullscreen\n            \n        ></iframe>\n        ",
          "text/plain": "<IPython.lib.display.YouTubeVideo at 0x1052d8b50>"
         },
         "metadata": {},
         "output_type": "display_data"
        }
       ]
      }
     },
     "3ec691aecde346e3abca095993345c46": {
      "model_module": "@jupyter-widgets/controls",
      "model_module_version": "1.5.0",
      "model_name": "LabelModel",
      "state": {
       "layout": "IPY_MODEL_53379435acc34d04865100ad98b4d5f6",
       "style": "IPY_MODEL_d5d4d047ea684a06b5e36771344b8724",
       "value": "The $m$ in $E=mc^2$:"
      }
     },
     "3f1792e0781640bbbdac2ad5c2bf9d39": {
      "model_module": "@jupyter-widgets/base",
      "model_module_version": "1.2.0",
      "model_name": "LayoutModel",
      "state": {}
     },
     "3f42be9926cc4d4d97e064500a617588": {
      "model_module": "@jupyter-widgets/controls",
      "model_module_version": "1.5.0",
      "model_name": "FloatSliderModel",
      "state": {
       "layout": "IPY_MODEL_9f315d5eb7194ced809a810175b1b82c",
       "step": 0.1,
       "style": "IPY_MODEL_cbc82aa8fa6a438c91fee373f6ff0ece"
      }
     },
     "40008b376c1a43f6ab53ddec4dfb6adb": {
      "model_module": "@jupyter-widgets/controls",
      "model_module_version": "1.5.0",
      "model_name": "DropdownModel",
      "state": {
       "_options_labels": [
        "1",
        "2",
        "3"
       ],
       "description": "Number:",
       "index": 1,
       "layout": "IPY_MODEL_83833b1c51674e7583eb527d529c35ac",
       "style": "IPY_MODEL_f61c2151a573457a8875eb65ec693c98"
      }
     },
     "405e75befb0e4aefacc7c96094c0aad2": {
      "model_module": "@jupyter-widgets/controls",
      "model_module_version": "1.5.0",
      "model_name": "DescriptionStyleModel",
      "state": {
       "description_width": ""
      }
     },
     "40698fd64f0f4baab4531f23a5f118b4": {
      "model_module": "@jupyter-widgets/controls",
      "model_module_version": "1.5.0",
      "model_name": "DescriptionStyleModel",
      "state": {
       "description_width": ""
      }
     },
     "40a59dd46b0c4d32ba9185942a0914c9": {
      "model_module": "@jupyter-widgets/controls",
      "model_module_version": "1.5.0",
      "model_name": "TextareaModel",
      "state": {
       "description": "String:",
       "layout": "IPY_MODEL_e8499f80e745416ab7d5212d3458a9ab",
       "placeholder": "Type something",
       "style": "IPY_MODEL_d57144f7a98c4e54b174920ab2c45ed9",
       "value": "Hello World"
      }
     },
     "40ba1eea57e6404499c18840ae06c514": {
      "model_module": "@jupyter-widgets/base",
      "model_module_version": "1.2.0",
      "model_name": "LayoutModel",
      "state": {}
     },
     "40ce13e2f2904e768c54653f7c1d5991": {
      "model_module": "@jupyter-widgets/controls",
      "model_module_version": "1.5.0",
      "model_name": "LinkModel",
      "state": {
       "source": [
        "IPY_MODEL_cb3de87ba378481998c289a134b61ac1",
        "value"
       ],
       "target": [
        "IPY_MODEL_2b2be252e8a1406da0ab0fd331839de9",
        "value"
       ]
      }
     },
     "40df7fe3d1734fed88d2b65227d9e44e": {
      "model_module": "@jupyter-widgets/controls",
      "model_module_version": "1.5.0",
      "model_name": "DescriptionStyleModel",
      "state": {
       "description_width": ""
      }
     },
     "413b6fc97079450694a6bdcdd28458aa": {
      "model_module": "@jupyter-widgets/controls",
      "model_module_version": "1.5.0",
      "model_name": "LabelModel",
      "state": {
       "layout": "IPY_MODEL_fde3367e63d74762829beba8176f2882",
       "style": "IPY_MODEL_96148630873b466fb406720933b53c62",
       "value": "1"
      }
     },
     "41532ee89d374d2886e665a441496efa": {
      "model_module": "@jupyter-widgets/controls",
      "model_module_version": "1.5.0",
      "model_name": "LabelModel",
      "state": {
       "layout": "IPY_MODEL_de911c619d924589b8f5b8596b8671ba",
       "style": "IPY_MODEL_8896b60c8ee749409382adbe92330671",
       "value": "0"
      }
     },
     "41eb126a6a2a4d80bd638230e0b554f7": {
      "model_module": "@jupyter-widgets/controls",
      "model_module_version": "1.5.0",
      "model_name": "TextareaModel",
      "state": {
       "description": "String:",
       "layout": "IPY_MODEL_fb0f06a55fb24c288bdbb7e621173bec",
       "placeholder": "Type something",
       "style": "IPY_MODEL_17ac4614139344a89cb31a9be78b6bfe",
       "value": "Hello World"
      }
     },
     "421c9a2d5a244ebdbb8b3b2df01030ed": {
      "model_module": "@jupyter-widgets/controls",
      "model_module_version": "1.5.0",
      "model_name": "RadioButtonsModel",
      "state": {
       "_options_labels": [
        "pepperoni",
        "pineapple",
        "anchovies"
       ],
       "description": "Pizza topping:",
       "index": 0,
       "layout": "IPY_MODEL_d2a3bcee611445c395d5c17aceec501e",
       "style": "IPY_MODEL_3157ece976a647d3aa9f8d4cd8fde6bc"
      }
     },
     "42218df0691c44d7bb4ef3c68cc38e05": {
      "model_module": "@jupyter-widgets/base",
      "model_module_version": "1.2.0",
      "model_name": "LayoutModel",
      "state": {}
     },
     "423de14e2ba84176b933f7bb7846e2ca": {
      "model_module": "@jupyter-widgets/base",
      "model_module_version": "1.2.0",
      "model_name": "LayoutModel",
      "state": {}
     },
     "425c3252b7b3402aa440eb24dae54abf": {
      "model_module": "@jupyter-widgets/controls",
      "model_module_version": "1.5.0",
      "model_name": "DescriptionStyleModel",
      "state": {
       "description_width": ""
      }
     },
     "42f30b9fddc04b308f546ddc9a73806f": {
      "model_module": "@jupyter-widgets/controls",
      "model_module_version": "1.5.0",
      "model_name": "SliderStyleModel",
      "state": {
       "description_width": ""
      }
     },
     "43424b366aad444ea52136ed08920961": {
      "model_module": "@jupyter-widgets/output",
      "model_module_version": "1.0.0",
      "model_name": "OutputModel",
      "state": {
       "layout": "IPY_MODEL_8cb9b7f8cd9a46cf86fb468a13fbefa6"
      }
     },
     "4359836e31b94b7cb920ddb637a7e3e1": {
      "model_module": "@jupyter-widgets/controls",
      "model_module_version": "1.5.0",
      "model_name": "DescriptionStyleModel",
      "state": {
       "description_width": ""
      }
     },
     "4363630bd39540e7bb20aee2c0b6cfcb": {
      "buffers": [
       {
        "data": "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",
        "encoding": "base64",
        "path": [
         "value"
        ]
       }
      ],
      "model_module": "@jupyter-widgets/controls",
      "model_module_version": "1.5.0",
      "model_name": "ImageModel",
      "state": {
       "format": "gif",
       "height": "128",
       "layout": "IPY_MODEL_c8203133b371443d999a2bd1bd59f3cb",
       "width": "128"
      }
     },
     "4368baebe3ca40f389b430a6260b2469": {
      "model_module": "@jupyter-widgets/controls",
      "model_module_version": "1.5.0",
      "model_name": "SliderStyleModel",
      "state": {
       "description_width": ""
      }
     },
     "437b8f927413471ba68f58c0c2435eb5": {
      "model_module": "@jupyter-widgets/base",
      "model_module_version": "1.2.0",
      "model_name": "LayoutModel",
      "state": {}
     },
     "43d7cd526e6e491289ea2b8d107b5065": {
      "model_module": "@jupyter-widgets/controls",
      "model_module_version": "1.5.0",
      "model_name": "HBoxModel",
      "state": {
       "children": [
        "IPY_MODEL_4e4162578472410ca708e0b6a2ec6d96",
        "IPY_MODEL_98dccfd0ea954bd4b24e0c24f183be55"
       ],
       "layout": "IPY_MODEL_dfd0b50401c54154a43691df42005ece"
      }
     },
     "43e951afefb041e9a9c4d7a6ebd1773c": {
      "model_module": "@jupyter-widgets/controls",
      "model_module_version": "1.5.0",
      "model_name": "HTMLModel",
      "state": {
       "description": "Some HTML",
       "layout": "IPY_MODEL_75c12f346a39426080c4215ac088dffb",
       "placeholder": "Some HTML",
       "style": "IPY_MODEL_15bc1d1a94684c25943af38b1abda623",
       "value": "Hello <b>World</b>"
      }
     },
     "441a0ec35034434c9b4af0674e8dbb5c": {
      "model_module": "@jupyter-widgets/controls",
      "model_module_version": "1.5.0",
      "model_name": "LabelModel",
      "state": {
       "layout": "IPY_MODEL_6985db3263c14f0ba0fc5fae36a0c7c6",
       "style": "IPY_MODEL_54898b23029643d2b26964dfe776c6aa",
       "value": "2"
      }
     },
     "446e07a046f14ce0afc245c4aec3665c": {
      "model_module": "@jupyter-widgets/base",
      "model_module_version": "1.2.0",
      "model_name": "LayoutModel",
      "state": {}
     },
     "44a6721e9bc0496cbac08602f48d1829": {
      "model_module": "@jupyter-widgets/controls",
      "model_module_version": "1.5.0",
      "model_name": "DescriptionStyleModel",
      "state": {
       "description_width": ""
      }
     },
     "44acfc1dfb404758a08ff1681c91e741": {
      "model_module": "@jupyter-widgets/controls",
      "model_module_version": "1.5.0",
      "model_name": "LabelModel",
      "state": {
       "layout": "IPY_MODEL_6c0666e2469b42949bface9fd9de99d4",
       "style": "IPY_MODEL_a73be4a8c3284560aa0bf6d5549cfd37",
       "value": "2"
      }
     },
     "44b603d2ed2e476fa36e20edb650334f": {
      "model_module": "@jupyter-widgets/controls",
      "model_module_version": "1.5.0",
      "model_name": "ColorPickerModel",
      "state": {
       "description": "Pick a color",
       "disabled": false,
       "layout": "IPY_MODEL_f9df0150e2364c7da5bd1daf6a0a2fa9",
       "style": "IPY_MODEL_09419070fa9d47bdbc1c4bb14f8b7f62",
       "value": "blue"
      }
     },
     "453e071b425f4cc0962089e0f463af8e": {
      "model_module": "@jupyter-widgets/controls",
      "model_module_version": "1.5.0",
      "model_name": "ProgressStyleModel",
      "state": {
       "description_width": ""
      }
     },
     "4593602f3b2b433c8524e37f111a59dc": {
      "model_module": "@jupyter-widgets/base",
      "model_module_version": "1.2.0",
      "model_name": "LayoutModel",
      "state": {}
     },
     "459cfc853dfc4b71b20f70fb5266d0de": {
      "model_module": "@jupyter-widgets/controls",
      "model_module_version": "1.5.0",
      "model_name": "TextModel",
      "state": {
       "description": "P1",
       "layout": "IPY_MODEL_623101a016744ee691ecb015e356cf09",
       "style": "IPY_MODEL_40df7fe3d1734fed88d2b65227d9e44e"
      }
     },
     "45d0e0187d2644ab9abb903441b20294": {
      "model_module": "@jupyter-widgets/controls",
      "model_module_version": "1.5.0",
      "model_name": "SliderStyleModel",
      "state": {
       "description_width": ""
      }
     },
     "469a8ccd0ae74a66b44853814f509e23": {
      "model_module": "@jupyter-widgets/controls",
      "model_module_version": "1.5.0",
      "model_name": "SliderStyleModel",
      "state": {
       "description_width": ""
      }
     },
     "473cdce5666a4985943f91b6cea12749": {
      "model_module": "@jupyter-widgets/base",
      "model_module_version": "1.2.0",
      "model_name": "LayoutModel",
      "state": {}
     },
     "47e79e2d1897447b9acca25fd09ee3a6": {
      "model_module": "@jupyter-widgets/base",
      "model_module_version": "1.2.0",
      "model_name": "LayoutModel",
      "state": {}
     },
     "484609007bd140aa992c44202820497f": {
      "model_module": "@jupyter-widgets/controls",
      "model_module_version": "1.5.0",
      "model_name": "IntRangeSliderModel",
      "state": {
       "_model_name": "IntRangeSliderModel",
       "_view_name": "IntRangeSliderView",
       "continuous_update": false,
       "description": "Test:",
       "layout": "IPY_MODEL_cc5a3ac9887d40cc8532219cd8e99272",
       "max": 10,
       "style": "IPY_MODEL_4368baebe3ca40f389b430a6260b2469",
       "value": [
        5,
        7
       ]
      }
     },
     "489d91339ff040a4ac031dd89c6742c5": {
      "model_module": "@jupyter-widgets/controls",
      "model_module_version": "1.5.0",
      "model_name": "LinkModel",
      "state": {
       "source": [
        "IPY_MODEL_12671d7db2d34c76b36d0c75bf3fe48f",
        "value"
       ],
       "target": [
        "IPY_MODEL_01209ec3fcb64f39beb9a2fc63d37d7d",
        "value"
       ]
      }
     },
     "48d403d6b9dd4e43a4ba527e74808726": {
      "model_module": "@jupyter-widgets/base",
      "model_module_version": "1.2.0",
      "model_name": "LayoutModel",
      "state": {}
     },
     "48e3e63c4cec41c6937bc5f8af0d75cb": {
      "model_module": "@jupyter-widgets/controls",
      "model_module_version": "1.5.0",
      "model_name": "DescriptionStyleModel",
      "state": {
       "description_width": ""
      }
     },
     "48e8600a35c74ecba133a84bf90f5c1f": {
      "model_module": "@jupyter-widgets/output",
      "model_module_version": "1.0.0",
      "model_name": "OutputModel",
      "state": {
       "layout": "IPY_MODEL_78df5a4fc9e545478baed814e2908b5d",
       "outputs": [
        {
         "name": "stdout",
         "output_type": "stream",
         "text": "Output appended with append_stdout"
        },
        {
         "data": {
          "text/html": "\n        <iframe\n            width=\"400\"\n            height=\"300\"\n            src=\"https://www.youtube.com/embed/eWzY2nGfkXk\"\n            frameborder=\"0\"\n            allowfullscreen\n        ></iframe>\n        ",
          "text/plain": "<IPython.lib.display.YouTubeVideo at 0x7f7294169ba8>"
         },
         "metadata": {},
         "output_type": "display_data"
        },
        {
         "name": "stdout",
         "output_type": "stream",
         "text": "0 Hello world!\n1 Hello world!\n2 Hello world!\n3 Hello world!\n4 Hello world!\n5 Hello world!\n6 Hello world!\n7 Hello world!\n8 Hello world!\n9 Hello world!\n0 Hello world!\n1 Hello world!\n2 Hello world!\n3 Hello world!\n4 Hello world!\n5 Hello world!\n6 Hello world!\n7 Hello world!\n8 Hello world!\n9 Hello world!\n0 Hello world!\n1 Hello world!\n2 Hello world!\n3 Hello world!\n4 Hello world!\n5 Hello world!\n6 Hello world!\n7 Hello world!\n8 Hello world!\n9 Hello world!\n"
        }
       ]
      }
     },
     "490ca963f63e4477bba84e398a846194": {
      "model_module": "@jupyter-widgets/base",
      "model_module_version": "1.2.0",
      "model_name": "LayoutModel",
      "state": {}
     },
     "49603029fdb94604bfb0d94601a09b35": {
      "model_module": "@jupyter-widgets/controls",
      "model_module_version": "1.5.0",
      "model_name": "DescriptionStyleModel",
      "state": {
       "description_width": ""
      }
     },
     "497b7037aac6444682563a4eb79186e8": {
      "model_module": "@jupyter-widgets/controls",
      "model_module_version": "1.5.0",
      "model_name": "LabelModel",
      "state": {
       "layout": "IPY_MODEL_e0db9a5d646144f5ab1aceee42ec5a27",
       "style": "IPY_MODEL_d61292230a2643c69e320f3802204ee9",
       "value": "3"
      }
     },
     "49d236d67e334e14851464201fbf4e77": {
      "model_module": "@jupyter-widgets/controls",
      "model_module_version": "1.5.0",
      "model_name": "DescriptionStyleModel",
      "state": {
       "description_width": ""
      }
     },
     "4a58fff694384dcdad73acabad85cb4b": {
      "model_module": "@jupyter-widgets/controls",
      "model_module_version": "1.5.0",
      "model_name": "SelectMultipleModel",
      "state": {
       "_options_labels": [
        "Apples",
        "Oranges",
        "Pears"
       ],
       "description": "Fruits",
       "index": [
        1
       ],
       "layout": "IPY_MODEL_21a0ae0a50f74e49a9dbe8b22f1b02b8",
       "rows": 3,
       "style": "IPY_MODEL_503dbe377991435fac5bc1c4218fa261"
      }
     },
     "4a7d8e7b576a403987a4832a40e2381f": {
      "model_module": "@jupyter-widgets/controls",
      "model_module_version": "1.5.0",
      "model_name": "IntRangeSliderModel",
      "state": {
       "_model_name": "IntRangeSliderModel",
       "_view_name": "IntRangeSliderView",
       "continuous_update": false,
       "description": "Test:",
       "layout": "IPY_MODEL_098db764767c4369abaed3266cc5077b",
       "max": 10,
       "style": "IPY_MODEL_9bc5a565c2a644bf9d4cf24f4b65d228",
       "value": [
        5,
        7
       ]
      }
     },
     "4aa03937a80d4f11a00ef5bc8b8ecf30": {
      "model_module": "@jupyter-widgets/controls",
      "model_module_version": "1.5.0",
      "model_name": "DescriptionStyleModel",
      "state": {
       "description_width": ""
      }
     },
     "4adb88fcaec24aad8c40edcb44e426c5": {
      "model_module": "@jupyter-widgets/controls",
      "model_module_version": "1.5.0",
      "model_name": "IntRangeSliderModel",
      "state": {
       "_model_name": "IntRangeSliderModel",
       "_view_name": "IntRangeSliderView",
       "continuous_update": false,
       "description": "Test:",
       "layout": "IPY_MODEL_098f9a7ee57c4d3a80c7bb78ac66fa4a",
       "max": 10,
       "style": "IPY_MODEL_224a45af2a1f4c519b1dbd75345e94e5",
       "value": [
        5,
        7
       ]
      }
     },
     "4aedc482b6804d579959232bed34de18": {
      "model_module": "@jupyter-widgets/controls",
      "model_module_version": "1.5.0",
      "model_name": "SliderStyleModel",
      "state": {
       "description_width": ""
      }
     },
     "4b35fd78523845a4bbcff0f90dfff9d4": {
      "model_module": "@jupyter-widgets/controls",
      "model_module_version": "1.5.0",
      "model_name": "ValidModel",
      "state": {
       "description": "Valid!",
       "layout": "IPY_MODEL_acbcb4d6dfa74b7fbcaa3fc17810c425",
       "style": "IPY_MODEL_f625fcfcce5c4ccc976b5d8b6c0f5410"
      }
     },
     "4b3b6f4109554948b5b14fdc7f72d526": {
      "model_module": "@jupyter-widgets/base",
      "model_module_version": "1.2.0",
      "model_name": "LayoutModel",
      "state": {}
     },
     "4b776639f1a44d17b3166753183b776d": {
      "model_module": "@jupyter-widgets/controls",
      "model_module_version": "1.5.0",
      "model_name": "DropdownModel",
      "state": {
       "_options_labels": [
        "1",
        "2",
        "3"
       ],
       "description": "Number:",
       "index": 1,
       "layout": "IPY_MODEL_db9b6144c836430fbece066179679312",
       "style": "IPY_MODEL_63571fe758314d5f8da3ea9fded135d1"
      }
     },
     "4b7aa86ab2c2433b92c6ea6415e3366e": {
      "model_module": "@jupyter-widgets/base",
      "model_module_version": "1.2.0",
      "model_name": "LayoutModel",
      "state": {}
     },
     "4ba802cf89f9469ba712c869df78cc8c": {
      "model_module": "@jupyter-widgets/base",
      "model_module_version": "1.2.0",
      "model_name": "LayoutModel",
      "state": {}
     },
     "4c2f3943bf2745ea9a8f64b04f7163c7": {
      "model_module": "@jupyter-widgets/controls",
      "model_module_version": "1.5.0",
      "model_name": "SliderStyleModel",
      "state": {
       "description_width": ""
      }
     },
     "4c3a7892fafa4fb1b7e9504d18f38ba5": {
      "model_module": "@jupyter-widgets/controls",
      "model_module_version": "1.5.0",
      "model_name": "ToggleButtonModel",
      "state": {
       "description": "Click me",
       "icon": "check",
       "layout": "IPY_MODEL_eeefd8bcc7124dd69d611f199c881e9f",
       "style": "IPY_MODEL_c08344779742470d8bfab5b6624ec3a8",
       "tooltip": "Description"
      }
     },
     "4c3fe20df01a4653a02f85d68b00fbff": {
      "model_module": "@jupyter-widgets/controls",
      "model_module_version": "1.5.0",
      "model_name": "DescriptionStyleModel",
      "state": {
       "description_width": ""
      }
     },
     "4c4bc1e53b284d6ea5d2b38fa579ebaa": {
      "model_module": "@jupyter-widgets/base",
      "model_module_version": "1.2.0",
      "model_name": "LayoutModel",
      "state": {}
     },
     "4d4f3bd774c6404eb314a59f7daf0d4e": {
      "model_module": "@jupyter-widgets/base",
      "model_module_version": "1.2.0",
      "model_name": "LayoutModel",
      "state": {}
     },
     "4dc53223ecf14937aa7d19147bd3c91c": {
      "model_module": "@jupyter-widgets/base",
      "model_module_version": "1.2.0",
      "model_name": "LayoutModel",
      "state": {
       "border": "1px solid black"
      }
     },
     "4de031698a46489ea9b0d06dc6d56b88": {
      "model_module": "@jupyter-widgets/controls",
      "model_module_version": "1.5.0",
      "model_name": "LabelModel",
      "state": {
       "layout": "IPY_MODEL_f978176df8fc4940a615b385a99e0bc1",
       "style": "IPY_MODEL_7b53a76f13984d668186cd1be13d0270",
       "value": "0"
      }
     },
     "4de05a481d8c4cd2b5a729000e468e44": {
      "model_module": "@jupyter-widgets/controls",
      "model_module_version": "1.5.0",
      "model_name": "ToggleButtonsModel",
      "state": {
       "_options_labels": [
        "Slow",
        "Regular",
        "Fast"
       ],
       "button_style": "",
       "description": "Speed:",
       "icons": [
        "check",
        "check"
       ],
       "index": 0,
       "layout": "IPY_MODEL_19f36d06c3654ee7965196712c2489e2",
       "style": "IPY_MODEL_b911ba7b0d1043b59bb78e2273c725bc",
       "tooltips": [
        "Description of slow",
        "Description of regular",
        "Description of fast"
       ]
      }
     },
     "4e26ae99955341ac819487798f6fa1dc": {
      "model_module": "@jupyter-widgets/controls",
      "model_module_version": "1.5.0",
      "model_name": "BoundedIntTextModel",
      "state": {
       "description": "Text:",
       "layout": "IPY_MODEL_1aa0797348e54a1089c2c7178c90270a",
       "max": 10,
       "style": "IPY_MODEL_896e1b69746e49c38ff18b95c8c27aca",
       "value": 7
      }
     },
     "4e4162578472410ca708e0b6a2ec6d96": {
      "model_module": "@jupyter-widgets/controls",
      "model_module_version": "1.5.0",
      "model_name": "PlayModel",
      "state": {
       "description": "Press play",
       "interval": 10,
       "layout": "IPY_MODEL_42218df0691c44d7bb4ef3c68cc38e05",
       "style": "IPY_MODEL_c642217211334965adedb8ad15b11d6c",
       "value": 50
      }
     },
     "4ecd6a79cedd494ead13b16a3030cfd8": {
      "model_module": "@jupyter-widgets/controls",
      "model_module_version": "1.5.0",
      "model_name": "IntSliderModel",
      "state": {
       "layout": "IPY_MODEL_5805b06285d140d7838aed09d5bfff78",
       "style": "IPY_MODEL_a1c4f4d9ca1a46cda2c9bc2e71b14ee1"
      }
     },
     "4ee25fddf2b243528d775c3d087608fc": {
      "model_module": "@jupyter-widgets/controls",
      "model_module_version": "1.5.0",
      "model_name": "SliderStyleModel",
      "state": {
       "description_width": ""
      }
     },
     "4ef89c13a88c4404af84af474a7d3856": {
      "model_module": "@jupyter-widgets/base",
      "model_module_version": "1.2.0",
      "model_name": "LayoutModel",
      "state": {}
     },
     "4f0637f02e664b93b4a68d5396c89f1d": {
      "model_module": "@jupyter-widgets/controls",
      "model_module_version": "1.5.0",
      "model_name": "DescriptionStyleModel",
      "state": {
       "description_width": ""
      }
     },
     "4f1cb0d38b8d403bb744be85eb8363b7": {
      "model_module": "@jupyter-widgets/base",
      "model_module_version": "1.2.0",
      "model_name": "LayoutModel",
      "state": {}
     },
     "4f6e99b5622c44b2a6aa31339c41abfa": {
      "model_module": "@jupyter-widgets/controls",
      "model_module_version": "1.5.0",
      "model_name": "HTMLMathModel",
      "state": {
       "description": "Some HTML",
       "layout": "IPY_MODEL_e9fa3da771a44b5b92c2cb23c2685a0a",
       "placeholder": "Some HTML",
       "style": "IPY_MODEL_26b0d55475a449348dd314d2eb12ea37",
       "value": "Some math and <i>HTML</i>: \\(x^2\\) and $$\\frac{x+1}{x-1}$$"
      }
     },
     "4facba84934945f4991edc81355c7bb7": {
      "model_module": "@jupyter-widgets/base",
      "model_module_version": "1.2.0",
      "model_name": "LayoutModel",
      "state": {}
     },
     "503dbe377991435fac5bc1c4218fa261": {
      "model_module": "@jupyter-widgets/controls",
      "model_module_version": "1.5.0",
      "model_name": "DescriptionStyleModel",
      "state": {
       "description_width": ""
      }
     },
     "50ca8a5bb1aa4ae496d2e94c439fc895": {
      "model_module": "@jupyter-widgets/base",
      "model_module_version": "1.2.0",
      "model_name": "LayoutModel",
      "state": {}
     },
     "511ba8c8795d4ec18afaaf819fb4603e": {
      "model_module": "@jupyter-widgets/base",
      "model_module_version": "1.2.0",
      "model_name": "LayoutModel",
      "state": {}
     },
     "51355ed7779044a59cd36d807b5b8942": {
      "model_module": "@jupyter-widgets/controls",
      "model_module_version": "1.5.0",
      "model_name": "DescriptionStyleModel",
      "state": {
       "description_width": ""
      }
     },
     "5150c7ab01544ee0a71365cf229f471a": {
      "model_module": "@jupyter-widgets/controls",
      "model_module_version": "1.5.0",
      "model_name": "HBoxModel",
      "state": {
       "children": [
        "IPY_MODEL_39e2ddf16d3f491eb82613d9c7708008",
        "IPY_MODEL_8bda909d65e74ec08da7aaae98acfbfa"
       ],
       "layout": "IPY_MODEL_249abb73dd804bba8c371dc670369747"
      }
     },
     "51a85ab24a9245a6b550fdfe968e1244": {
      "model_module": "@jupyter-widgets/controls",
      "model_module_version": "1.5.0",
      "model_name": "LabelModel",
      "state": {
       "layout": "IPY_MODEL_b06d5a8fb45747c486798dc6f32bb0eb",
       "style": "IPY_MODEL_dea18b3446bb49559d7684a4f2a31892",
       "value": "3"
      }
     },
     "51ede951886749d08e23495fc7db38c0": {
      "model_module": "@jupyter-widgets/controls",
      "model_module_version": "1.5.0",
      "model_name": "TabModel",
      "state": {
       "_titles": {
        "0": "An accordion",
        "1": "Copy of the accordion"
       },
       "children": [
        "IPY_MODEL_021ee7ca681948199411c1db7e2158c0",
        "IPY_MODEL_021ee7ca681948199411c1db7e2158c0"
       ],
       "layout": "IPY_MODEL_47e79e2d1897447b9acca25fd09ee3a6"
      }
     },
     "51f190956a43437fb2ff6ac35c5409fb": {
      "model_module": "@jupyter-widgets/base",
      "model_module_version": "1.2.0",
      "model_name": "LayoutModel",
      "state": {}
     },
     "5245d281cbde4325b18946c18bd5b3b2": {
      "model_module": "@jupyter-widgets/controls",
      "model_module_version": "1.5.0",
      "model_name": "DescriptionStyleModel",
      "state": {
       "description_width": ""
      }
     },
     "5266360336e34cfa95cfa2cfe2893a4c": {
      "model_module": "@jupyter-widgets/controls",
      "model_module_version": "1.5.0",
      "model_name": "ToggleButtonModel",
      "state": {
       "description": "Click me",
       "icon": "check",
       "layout": "IPY_MODEL_f442ee3d9c4a4897913d4a287e2595f3",
       "style": "IPY_MODEL_fe018b7243f0415aa53b4e84b68a8afd",
       "tooltip": "Description"
      }
     },
     "52729538ba554571a7b9aebcd43e17c3": {
      "model_module": "@jupyter-widgets/controls",
      "model_module_version": "1.5.0",
      "model_name": "ProgressStyleModel",
      "state": {
       "description_width": ""
      }
     },
     "52ac4aec6dd94ad7b7b4444b88a68948": {
      "model_module": "@jupyter-widgets/controls",
      "model_module_version": "1.5.0",
      "model_name": "ProgressStyleModel",
      "state": {
       "description_width": ""
      }
     },
     "52cb53afd0d4490e9be38a9cbfea1b6f": {
      "model_module": "@jupyter-widgets/controls",
      "model_module_version": "1.5.0",
      "model_name": "SelectModel",
      "state": {
       "_options_labels": [
        "Linux",
        "Windows",
        "OSX"
       ],
       "description": "OS:",
       "index": 2,
       "layout": "IPY_MODEL_7ffc7400d2b94ae9a2255d6523ffe127",
       "style": "IPY_MODEL_49603029fdb94604bfb0d94601a09b35"
      }
     },
     "53035e75858f43ceba0f9e15f2178a46": {
      "model_module": "@jupyter-widgets/controls",
      "model_module_version": "1.5.0",
      "model_name": "IntRangeSliderModel",
      "state": {
       "_model_name": "IntRangeSliderModel",
       "_view_name": "IntRangeSliderView",
       "continuous_update": false,
       "description": "Test:",
       "layout": "IPY_MODEL_9a8529942ca14ab898043ee293364b38",
       "max": 10,
       "style": "IPY_MODEL_da90c60240eb4bcb814b415506088cdd",
       "value": [
        5,
        7
       ]
      }
     },
     "531293981f1644b8826d90c8693c04b3": {
      "model_module": "@jupyter-widgets/controls",
      "model_module_version": "1.5.0",
      "model_name": "DescriptionStyleModel",
      "state": {
       "description_width": ""
      }
     },
     "53379435acc34d04865100ad98b4d5f6": {
      "model_module": "@jupyter-widgets/base",
      "model_module_version": "1.2.0",
      "model_name": "LayoutModel",
      "state": {}
     },
     "534ab4c354804c02b608bf5887e91f72": {
      "model_module": "@jupyter-widgets/base",
      "model_module_version": "1.2.0",
      "model_name": "LayoutModel",
      "state": {}
     },
     "539f73a76ab44a909ba3a9f697cc1d9e": {
      "model_module": "@jupyter-widgets/controls",
      "model_module_version": "1.5.0",
      "model_name": "LabelModel",
      "state": {
       "layout": "IPY_MODEL_c618323ec2184d98a1a33ec044a3a174",
       "style": "IPY_MODEL_405e75befb0e4aefacc7c96094c0aad2",
       "value": "0"
      }
     },
     "53ed985181c24f018fd5ad64abcecf05": {
      "model_module": "@jupyter-widgets/controls",
      "model_module_version": "1.5.0",
      "model_name": "DescriptionStyleModel",
      "state": {
       "description_width": ""
      }
     },
     "5419d4e9133e43feb3023fc15fb4157c": {
      "model_module": "@jupyter-widgets/base",
      "model_module_version": "1.2.0",
      "model_name": "LayoutModel",
      "state": {}
     },
     "547c4c0e3fcb4f52a7bd7a436fe64b1c": {
      "model_module": "@jupyter-widgets/controls",
      "model_module_version": "1.5.0",
      "model_name": "LabelModel",
      "state": {
       "layout": "IPY_MODEL_74a759838bf34015b5b7b8ea55b8be22",
       "style": "IPY_MODEL_53ed985181c24f018fd5ad64abcecf05",
       "value": "1"
      }
     },
     "54898b23029643d2b26964dfe776c6aa": {
      "model_module": "@jupyter-widgets/controls",
      "model_module_version": "1.5.0",
      "model_name": "DescriptionStyleModel",
      "state": {
       "description_width": ""
      }
     },
     "551c2a21201d4cb39cd64060eb631412": {
      "model_module": "@jupyter-widgets/controls",
      "model_module_version": "1.5.0",
      "model_name": "DescriptionStyleModel",
      "state": {
       "description_width": ""
      }
     },
     "553f942d62e648439da300364c44fd44": {
      "model_module": "@jupyter-widgets/controls",
      "model_module_version": "1.5.0",
      "model_name": "ColorPickerModel",
      "state": {
       "description": "Pick a color",
       "disabled": false,
       "layout": "IPY_MODEL_19d937791a0343c09303e902229e2ad1",
       "style": "IPY_MODEL_fc2fc94ca7ad43b3babdc9de453ff347",
       "value": "#0000ff"
      }
     },
     "5558c19aebb04a908414ba4097ef8a59": {
      "model_module": "@jupyter-widgets/controls",
      "model_module_version": "1.5.0",
      "model_name": "BoundedIntTextModel",
      "state": {
       "description": "Text:",
       "layout": "IPY_MODEL_5819615b20f14fbdb762ca6e3c3289e9",
       "max": 10,
       "style": "IPY_MODEL_f64b41c4b28d43158978e7a62919f402",
       "value": 7
      }
     },
     "555fecdac2b24be687ff18c66d9a826e": {
      "model_module": "@jupyter-widgets/base",
      "model_module_version": "1.2.0",
      "model_name": "LayoutModel",
      "state": {}
     },
     "55620e6bc56c43e08f2a28f14337d48c": {
      "model_module": "@jupyter-widgets/controls",
      "model_module_version": "1.5.0",
      "model_name": "DescriptionStyleModel",
      "state": {
       "description_width": ""
      }
     },
     "55904d19a1d149f6a6d41c973b8ed28b": {
      "model_module": "@jupyter-widgets/base",
      "model_module_version": "1.2.0",
      "model_name": "LayoutModel",
      "state": {}
     },
     "55e802d01b554e61b6dcc12df493d744": {
      "model_module": "@jupyter-widgets/base",
      "model_module_version": "1.2.0",
      "model_name": "LayoutModel",
      "state": {
       "border": "1px solid black"
      }
     },
     "575207ac4227429bbabe3cea3239c14a": {
      "model_module": "@jupyter-widgets/controls",
      "model_module_version": "1.5.0",
      "model_name": "FloatTextModel",
      "state": {
       "description": "Any:",
       "layout": "IPY_MODEL_86c3daa971be48d7a23afb697b30abad",
       "step": null,
       "style": "IPY_MODEL_9fbb92cb985d422da2da88a7852e876e",
       "value": 7.5
      }
     },
     "57a064f5bf724e758e5b04e7e277e799": {
      "model_module": "@jupyter-widgets/controls",
      "model_module_version": "1.5.0",
      "model_name": "SliderStyleModel",
      "state": {
       "description_width": ""
      }
     },
     "57cebc7d19ca4b05bc2f476ad567e78b": {
      "model_module": "@jupyter-widgets/base",
      "model_module_version": "1.2.0",
      "model_name": "LayoutModel",
      "state": {}
     },
     "57ec238e94d44997b331a65342f8fae4": {
      "model_module": "@jupyter-widgets/controls",
      "model_module_version": "1.5.0",
      "model_name": "IntSliderModel",
      "state": {
       "continuous_update": false,
       "description": "Test:",
       "layout": "IPY_MODEL_81378c8e21944b6b898178fc893eb7ae",
       "max": 10,
       "style": "IPY_MODEL_8987350a12b44a61944d99bcf8d52c68",
       "value": 7
      }
     },
     "57feaba8913e4e06ae1daf43a301d129": {
      "model_module": "@jupyter-widgets/base",
      "model_module_version": "1.2.0",
      "model_name": "LayoutModel",
      "state": {}
     },
     "5805b06285d140d7838aed09d5bfff78": {
      "model_module": "@jupyter-widgets/base",
      "model_module_version": "1.2.0",
      "model_name": "LayoutModel",
      "state": {}
     },
     "5819615b20f14fbdb762ca6e3c3289e9": {
      "model_module": "@jupyter-widgets/base",
      "model_module_version": "1.2.0",
      "model_name": "LayoutModel",
      "state": {}
     },
     "5857eb93ac234a2d92330161c7a81fde": {
      "model_module": "@jupyter-widgets/controls",
      "model_module_version": "1.5.0",
      "model_name": "SliderStyleModel",
      "state": {
       "description_width": ""
      }
     },
     "588c664cf0324d71bd106bb0e12e6dbb": {
      "model_module": "@jupyter-widgets/base",
      "model_module_version": "1.2.0",
      "model_name": "LayoutModel",
      "state": {}
     },
     "58997351102449c4add3e5bf44961b13": {
      "model_module": "@jupyter-widgets/output",
      "model_module_version": "1.0.0",
      "model_name": "OutputModel",
      "state": {
       "layout": "IPY_MODEL_68d150ca2bb441cb9633d0d62013c0a3"
      }
     },
     "58aab2eca9ee47acafdf8c2cd0f5b2bc": {
      "model_module": "@jupyter-widgets/controls",
      "model_module_version": "1.5.0",
      "model_name": "DescriptionStyleModel",
      "state": {
       "description_width": ""
      }
     },
     "58c4b1217a174ac2baae799f72734c4c": {
      "model_module": "@jupyter-widgets/controls",
      "model_module_version": "1.5.0",
      "model_name": "ProgressStyleModel",
      "state": {
       "description_width": ""
      }
     },
     "58df2fefc5b44f57a4db2b5d95f9ae84": {
      "model_module": "@jupyter-widgets/base",
      "model_module_version": "1.2.0",
      "model_name": "LayoutModel",
      "state": {}
     },
     "58e95f6602934d268c3d34fd592849cb": {
      "model_module": "@jupyter-widgets/base",
      "model_module_version": "1.2.0",
      "model_name": "LayoutModel",
      "state": {}
     },
     "58ec2600a7cf40aeadd51bedf66a1c77": {
      "model_module": "@jupyter-widgets/controls",
      "model_module_version": "1.5.0",
      "model_name": "SliderStyleModel",
      "state": {
       "description_width": ""
      }
     },
     "5a5675e9053d4cfb92ff65677a5db755": {
      "model_module": "@jupyter-widgets/base",
      "model_module_version": "1.2.0",
      "model_name": "LayoutModel",
      "state": {}
     },
     "5aa16f6b36d0468db820b3d1048cc8fa": {
      "model_module": "@jupyter-widgets/controls",
      "model_module_version": "1.5.0",
      "model_name": "LinkModel",
      "state": {
       "source": [
        "IPY_MODEL_7e14d563ddc04232a57c214c04e74478",
        "value"
       ],
       "target": [
        "IPY_MODEL_b8c9638d85cc46a8afba53bea0303cd1",
        "value"
       ]
      }
     },
     "5ab44abe484f466b8a9c0acd43a14024": {
      "model_module": "@jupyter-widgets/controls",
      "model_module_version": "1.5.0",
      "model_name": "TabModel",
      "state": {
       "_titles": {
        "0": "0",
        "1": "1",
        "2": "2",
        "3": "3",
        "4": "4"
       },
       "children": [
        "IPY_MODEL_896223c8283a49469a91d390f1f5f01b",
        "IPY_MODEL_35504dd5c1a44fb28fce0a69d3e61e4c",
        "IPY_MODEL_65c0caa64bd8486c9468b0c1aa55b4f1",
        "IPY_MODEL_9cc5cfccacb64a97b03ec3f5fa42173e",
        "IPY_MODEL_6a876a8a6b884a53970a1ab453512641"
       ],
       "layout": "IPY_MODEL_fc0d4bed7586471480a7bb077315c527",
       "selected_index": 3
      }
     },
     "5b500e5835684df5ae62138e18cf69f9": {
      "model_module": "@jupyter-widgets/base",
      "model_module_version": "1.2.0",
      "model_name": "LayoutModel",
      "state": {}
     },
     "5b889838a22a4d00bfd97006856b5802": {
      "model_module": "@jupyter-widgets/controls",
      "model_module_version": "1.5.0",
      "model_name": "HBoxModel",
      "state": {
       "children": [
        "IPY_MODEL_e0d95b652229478da775f647d80ebb76",
        "IPY_MODEL_c1098e77c89f4fd0abd139997d2ced04"
       ],
       "layout": "IPY_MODEL_28819c33042d4b18ba93a52bbc25314c"
      }
     },
     "5bed77931a69458496a23de63db7df26": {
      "model_module": "@jupyter-widgets/controls",
      "model_module_version": "1.5.0",
      "model_name": "DescriptionStyleModel",
      "state": {
       "description_width": ""
      }
     },
     "5c18d80ba48e497385fa4f10c9214ab3": {
      "model_module": "@jupyter-widgets/base",
      "model_module_version": "1.2.0",
      "model_name": "LayoutModel",
      "state": {}
     },
     "5c3ccf49d5614628929c6890be197c60": {
      "model_module": "@jupyter-widgets/controls",
      "model_module_version": "1.5.0",
      "model_name": "FloatSliderModel",
      "state": {
       "layout": "IPY_MODEL_caf008d5b005490cad77aaba7b7ee9b4",
       "step": 0.1,
       "style": "IPY_MODEL_b6abab1db9314eceb42dd98b21fad21c"
      }
     },
     "5c59f5cd5b5645aa9784386b254db299": {
      "model_module": "@jupyter-widgets/controls",
      "model_module_version": "1.5.0",
      "model_name": "LabelModel",
      "state": {
       "layout": "IPY_MODEL_87a51af2bfc44bb7b542ab117a2aca55",
       "style": "IPY_MODEL_146278c129f34fa1b132a02c1907826d",
       "value": "2"
      }
     },
     "5c62d292c542465a9f4d69fed5a16b5c": {
      "model_module": "@jupyter-widgets/base",
      "model_module_version": "1.2.0",
      "model_name": "LayoutModel",
      "state": {}
     },
     "5c8f58b0d5b048a2b85e55c9ee2654ec": {
      "model_module": "@jupyter-widgets/base",
      "model_module_version": "1.2.0",
      "model_name": "LayoutModel",
      "state": {}
     },
     "5cb11d960df8466ab1c59a274605a931": {
      "model_module": "@jupyter-widgets/base",
      "model_module_version": "1.2.0",
      "model_name": "LayoutModel",
      "state": {}
     },
     "5ccc1b9b71644e60a9c41f90ab7218bd": {
      "model_module": "@jupyter-widgets/controls",
      "model_module_version": "1.5.0",
      "model_name": "SliderStyleModel",
      "state": {
       "description_width": ""
      }
     },
     "5ce23bda2d40431f92c309f2191abe5d": {
      "buffers": [
       {
        "data": "/9j/4AAQSkZJRgABAQAAAQABAAD/2wCEABALDA4MChAODQ4SERATGCgaGBYWGDEjJR0oOjM9PDkzODdASFxOQERXRTc4UG1RV19iZ2hnPk1xeXBkeFxlZ2MBERISGBUYLxoaL2NCOEJjY2NjY2NjY2NjY2NjY2NjY2NjY2NjY2NjY2NjY2NjY2NjY2NjY2NjY2NjY2NjY2NjY//AABEIAWgB4AMBIgACEQEDEQH/xAAaAAEBAAMBAQAAAAAAAAAAAAAAAQIDBAUH/8QAMxABAQABAgMHAwQBBAIDAAAAAAECAxESITETFUFRUmGRBBTRIjJxgTMFI0KhscEkNGL/xAAWAQEBAQAAAAAAAAAAAAAAAAAAAQL/xAAZEQEBAQEBAQAAAAAAAAAAAAAAARExQSH/2gAMAwEAAhEDEQA/APn4AAAAAAAAAAAAAAAAAAAAAAAAAAAAAAAAAAAAAAAAAAAAAAAAAAAAAAAAAAAAAAAAAAAAAAAAAAAAAAAAAAAAAAAAAAAAAAAAAAAAAAAAAAAAAAAAAAAAAAAA6+7tb1YfN/B3drerD5v4XByDfrfSamjtxXG7+Va+zvsgwGfZ3zh2WXnAYDPssvOL2WXnAaxsmjlb1jd9hq+rD5oOUdXd+r6sPmr3fq+rD5oOQdfd+r6sPmnd+r6sPm/gHIOvu/V9WHzfwd36vqw+b+Acg6+79X1YfN/B3fq+rD5v4ByDr7v1fVh838Hd+r6sPm/gHIOvu7W9WHzfwd3a3qw+b+DByDs7u1vVh838Hd2t6sPm/gwcY7O7tb1YfN/B3drerD5v4XBxjs7u1vVh838Hd2t6sPm/gwcY7O7tb1YfN/B3drerD5v4MHGOzu3W9WHzfwd263qw+b+DBxjs7t1vVp/N/B3brerT+b+EwcY7O7db1YfN/B3brerT+b+FwcY7O7db1YfN/B3brerT+b+EwcY7O7db1afzfwd263q0/m/hcHGOzu3W9Wn838Hdut6sPm/hBxjs7t1vVp/N/B3brerT+b+FwcY7O7db1afzfwd263q0/m/hBxjs7t1vVp/N/B3brerT+b+AcY7O7db1afzfwd263q0/m/gHGOzu3W9WHzfwd263q0/m/gHGOzu3W9Wn838Hdut6sPm/gwcY7O7tb1YfN/Cd3a3qw+b+Acg6+79X1YfN/Cd36vqw+aDlHV9hq+rD5qfY6vqw+aD1VBscn1/7cP5cTu+v/wAeP8uFmizoqRUBUUDHrHox52PWPRiwUFUAEABQAAUAAAURQAAAFAAFQAFRQBAFAAAQAFABAAAAAAAAAABEqoCIoDGsayqVBtUGhy/X/wCLH+XA9D6//DP5eezRYqRUBUAWdY9GPOnV6M6LBVRVABAAAAUFQBQAFQBRFAAAAAAUFQAAAAAAAAQURQAQFEUAAAAAAEFQERUoIxrKsaDcCqOb66f7H9vOen9b/wDXv8x5jNFipFQFQBZ1ejOjzp1ejOiwVUUAAABQVjvPOLvEFQVQAAAAVAFAUAEABQAAAAAAAQAAAAAAAADfYc31mpcZwy9QXV+qmN2x5sPu8p1krk5nNB6Gl9ThqXbpW95E3llj1NPLiwlBkAoiVUBKxrKsaC/c6Pri/c6PrjyhNHf9Tr6WehljjlvXAALFSKgAAsejOjzo9GdIsFVAFAAcurr3pOUbtfPg068+5b0FuW9WW+dYKg36evljed3dmGXFN3Djhxc5HXoyzHmo2KgooAAACoAoAApsogqbAAAAiCiAKIAogCiABugCuT6yc5k6mr6ib6fOboOPHHdldPkSWTlN04s90Vnjp8t66tKbaccnDlcufR2YTbHZUZbqgoAgFYrUB5/AvZ+7o7NezZHP2Xuwzx4a7OBo+ox2yn8A0qbAAKA9HH9sec9DH9sUZAoAANX1OPFpX2ee9SzeWPNzx2zs9wSY2zck3rbjOW3RelZaxljlw48nRo23HnebnmXs26My336RYVvVBWQFUAAAAVlIxjZi1A2NmQ3iMeFLizY1LBrotYsKAIAgAAAAgAKCoIKxs3m1VLeXIHJltjltKlvkak2yrDx5o1rZNS3bd14ftjhlk2duOW85rErIBUEVKCIqIJsbKoJs5vqp+rH+HU5vq+uIOeAIAAD0cf2z+HneL0sP2T+ABRQBr1NWac59fIGfSc3Nq3TuW82atTWy1Ot2nlGpR0crGFvNrxysrZMctT9nOs41pK7NKbYTdo0vp8pZctpHSqKAqAACooAALGzFqlZSrBs3LZJvbtGHEmpJnp5Y3pW9Rsllm8ssqVp+n/RpTH07xnamiVFtRlUAQAAAEABQEN0FS3ZLUtAtIJZug1a+F23ng1zT4m+y3xrDHlvBWrPHhykdeG0x51zWXLWxdUwnk1nxCeyym20YZXaoMxJRQABFIIDm+r/4ulzfV/8AFBzwIAAAPRw/ZP4ea9LT/Zj/AADIEUTLLhxtrg1M7llbXXr2TDn0aLjo5dMtqsGgZ6mnwbc5d2ugMsM8sLvjdmKIPQ0daauP/wCo2uD6a7a2Pu7wAAAFFEVANxFFN0AZbm7EBJeHUvllN2e7Xny4b5VmAAACAqAAJuAqCAu6CWoFqSnWmWUkQZeCxrwzl6VlKDLZq1f02ZNu7V9R+zeLOiaWP+5xdXTNnP8AT23Ful5rRb0as21oyvOw8GeN5Mt2vBkgyQFFioqA5vq+mLpc31f7cf5QcwQAABPF6On/AI8f4ed4t+P1OUxk2nIHYOT7rLyxPusvKKNn1X7I423U1rqTayRpqi227b+CCRAUAXDLhyl8npS7yXzeY6sPqLjhJwb7A6hzfc30L9zZOeH/AGDoGnHWuU34dp/K9tL0sFbVae22u1jTra/FtJvNvcR1jz+PL1ZfJ2mXqy+TR6A5NLX4JZlvWf3WPlQdA0fdYeVPusPKg3ZzfCwxu+MrT91h5VMPqMMZtdwdA0/c6fufc4e4Nw0/c6fv8H3On534BtGr7jT8/wDo+40/O/C6NitGevjwXhvNo7fU9X/SaO0cXb6nq/6Z6eveL9eXL+DR0pWHbafqZTLHKcqB0aNbK+Dbl0adSoLp/pjbxsccd5yZzCSc4DKb3ompjcsdry9yYc/05Mst+GzIDS05hh4W+cZePRNOzGTGM9lGPhzaL+6t+Uvi5pds7KXg2Ys2Eq8ePqnyDITjx9U+Tix9U+Qc/wBzmfcZufipxVB0fcZ3xa89XLPbfm18VXioKJzUAADznmnCXdN75gvCbJvfM3oL0YruiguMtvJG76T/AC8/CAk0NSzfZjlhlh+6bO65NOpOPGxNaxyV06fLCOeza7Vn2gjdvI16uX6eTC51jbQbMcrZ1ZbTzaZdl4qDbLOLza71TipxfwAf2nEcQi/2JxLxADLHVslnDjz9jtb12x5Csefmc9mfb3nvjjz9mMz9oInM5su1/XxcE/jwZXX3y37PGe2wNfM5tmetMsdpp44+8a9/YDmJubgvNDc3AVN4bwFdGE3xaMcsZf1Y7t2neXIqxhqcWN5WsZbbzZ623i142bhW/HeftrbjnnOsla8cd+crZOQjo+lx7bWxxvJ3a3+mcv08fxu4vo88McrcspL4b16Wjr5ad3ltx9ruo4r9PlpY/qm8njGi3ny6PQ+v15lp247zfrHmb7gvPfwcuv8A5dpXRu5da7aq3hDLHbHq0b+zoyv6Gjl5srU3Xe+Ry8zeb+AiAAAAyVFBAAS9EZXoxARQBF8EAZaeXBnKxQHZlqTaWXdjM45pdmUyRrWzUw4uc6tVm15s5lszx4c+qo0Dtmjp7bbObV0+DPbw8AxrBRF09S4byTqy2m3TdhjN8tpdmy8U5Xagx4ZxT/w2zGbbcmnPe3estO3K7b/2YsNTGTHedTHCcPOdWzW07hnjvvtlN+fg13lN5OS2WXKhhccN5lGGdlz3nRlZvOnNrQUnUAXwRbOSbAAAAAAAAANull4NS4XbKA3as3xaI69pljs5cptlZ5C104X9MZytGnxWbtkt6CM2WH6bvjlZfapMLVy2wnuDK6upnyyytk80vTeNXO842YW2cuoMus3c2tN8954N+9nPZh1vRbRjlj/tuV3Xa41xXlai1ABFAAABkCggAF6MVvRAAAKi1FABBAAWMpbKxig2zVy2iZ5ce0a+TLikFOBeBOOHGIxynDlyTe79Vy/Vd02BlZNupOkrHZd75guWV5Zb3dLnb1LveW6bAvF7G/FlN02JNqDbnpyZWY9Iz0PpM9fKzDbeTfnUuvL/AMMZfaLh9VqaeXFhld1E7HK6M1OW2/C14zbLneizVswuG94bd7EmWPkDG9UVEAAAAAAAnVlcMpdrOacNFdWF2jHPTmeUqY58ui3K2Ctk4cOXQuWHkx085njw5dVuFnvBk7TGftlTfe72ptfJeC+NBZZPFJeG7ys9OYeM5s+DAE7THKc8bv7McuXO8mduOE5Rz6tuWO4Lhl+jK+7myu+VrLLO7bMBaACKAKAAyVAQBQS9GLK9KxAWTfKSeKM9Gf7k9gbNTQ9NabhlN946rd2NBymzpsnjGPBj5A02bVi33DGsLjAYRTbYARUAAABQAARUUABFEUUQAQAAAAGeOG65TbbaA1spnw9NvhOuW15NnY4+OpP6gE1pf34ys+HTzm8asphLtN7/ACxl26A2TDa/pu/stl32vw13f5XLO3bfrIou1jZhq5Y+LXx3bZZd+qDd2ty6bLMd+d3advJlNTLGbXmgvFtldmU1PNolu9rLe3xBsuUvXowuXFynRP7ZQVoy/cjPU/cwVAAFAFABGQACooJfFiyvRiA2aN2yat2WGW2UB0bkrC3mSis7WNLUES1jatYglRWIKIAAAG6KAbgAAAbgAqAKi+CAAAC7GwLxWTaFzvRjZfJAZTa3nzbduTTjdmyZcgS3G9dzaepgTbxBsmy3YmO836QuMku1Ua6TKlxsvN2fS/TaeppcWpLbv4UGi5eTC13Z/SaP/G5y/Li1NLLD93/ndMGMrKMF3MGyMmriq8dTFNXru1s8rxdWOyoguxsAAKACMgAFQQKwrOsKoW8pDxhOZOoNlpueJegLvusrXGQMqiVASopegMQAABQAQAAAAAAABfBF8EAEUGRLZeXJJ0VRbnn04t2P8xdgGN9hk6fpc/pcf8+Ft8/AHJ/Q9rHV/wBN25Y4f3iZX/Tb4acMHmfT6mEvDqb8NnXya9XOXKzH9rs1fsJlvhcv4m//ALc1098rccbtegNPN6X0d/8Aj47uHLC4znLHT9PrY46fDldgdGrltjb7OHUnBpzC/u33rdrfUST9F3rlvPmDHZdlATYU2BBUBUTc3AAQAAZB4AAeIgMWVYqBj1RcedBsRlZtNksBiTpuJBVvQW9EgiF6FQEAAAAAAAFFRRBFBUAEXwQ8AEABZdl3QBdzdAF3N0AXf2N/ZAF3ZTPKTbe7fywAZcRxMQGXETJiAy4jiYgMuI4mIC8RugC7m6AKIAoigqpFAAAYM2ADZo475McMLnltHXjhjp47QGvKc2GTPK82GQMduTHFnby2iYzruBeiRlZyYQCsWWTEAAAFAAFEUERQFAAQEEW9EW9EAVFAAAAAAAAAAAAAAAAAAAAAAAGvtL7HaX2BsGvtL5Q7S+UBu8FaO1y8odrl5QG8ae1y8odrl5QG1j4sO1y8oY62WN32n9g79HS4MeK9aalcl+t1bOmPwx+5zvhAdFYWtPb5eUS6uV8IDbcmWGO7n7S+zKa+Um0kBvzvhGMae1y8odtl5QG3Ji13Vt8IdpfKA2DX2l8odpfKA2DX2l8odpfKA2jV2l8odpfYGxWrtL5Q7S+UBtGrtL5Q7S+UBtGrtL5Q7S+UBtRr7S+x2l9gbPBGHaXyidpfKA2K1dpfZe0vsDYNfaX2O0vsDYNfaX2O0vsDYNfaXyh2l9gbBr7S+x2l9gbBr7S+UO0vsDYNfaX2TtL7A2jX2l9jtL7A2DX2l9jtL7A2DX2l9jtL7A2DX2l9jtL7A2DX2l9jtL7AwAAAAAAAAAAAAAAAAAAAAAAAAAAAAAAAAAAAAAAAAAAAAAAAAAAAAAAAAAAAAAAAAAAAAAAAAAAAAAAAAAAAAAAAAAAAAAAAAAAAAAAAAAAAAAAAAAAAAAAAAAAAAAAAAAAAAAAAAAAAAAAAAAAAAAAAAAAAAAAAAAAAAAAAAAAAAAAAAAAAB//Z",
        "encoding": "base64",
        "path": [
         "outputs",
         1,
         "data",
         "image/jpeg"
        ]
       }
      ],
      "model_module": "@jupyter-widgets/output",
      "model_module_version": "1.0.0",
      "model_name": "OutputModel",
      "state": {
       "layout": "IPY_MODEL_1fa525b6f56a4be0aa4041eb47cee29a",
       "outputs": [
        {
         "name": "stdout",
         "output_type": "stream",
         "text": "Output appended with append_stdout"
        },
        {
         "data": {
          "text/html": "\n        <iframe\n            width=\"400\"\n            height=\"300\"\n            src=\"https://www.youtube.com/embed/eWzY2nGfkXk\"\n            frameborder=\"0\"\n            allowfullscreen\n            \n        ></iframe>\n        ",
          "text/plain": "<IPython.lib.display.YouTubeVideo at 0x113c45cd0>"
         },
         "metadata": {},
         "output_type": "display_data"
        }
       ]
      }
     },
     "5d0dc9fa84434c93ab957ba7dea0483c": {
      "model_module": "@jupyter-widgets/controls",
      "model_module_version": "1.5.0",
      "model_name": "IntSliderModel",
      "state": {
       "layout": "IPY_MODEL_724e4762db2c416f9cae330ada5386fb",
       "style": "IPY_MODEL_a54338fa14574afcaaec98f750fdbc2b"
      }
     },
     "5d30b78007f8428cb24e484b7d108db3": {
      "model_module": "@jupyter-widgets/base",
      "model_module_version": "1.2.0",
      "model_name": "LayoutModel",
      "state": {}
     },
     "5dcfcf61c2734a78b9cd3398679ad763": {
      "model_module": "@jupyter-widgets/controls",
      "model_module_version": "1.5.0",
      "model_name": "SliderStyleModel",
      "state": {
       "description_width": ""
      }
     },
     "5df5bc7a58f74aa4a7ce1954af79a69e": {
      "model_module": "@jupyter-widgets/base",
      "model_module_version": "1.2.0",
      "model_name": "LayoutModel",
      "state": {}
     },
     "5e69f09393f34da7b6845f83431289fe": {
      "model_module": "@jupyter-widgets/controls",
      "model_module_version": "1.5.0",
      "model_name": "DescriptionStyleModel",
      "state": {
       "description_width": ""
      }
     },
     "5ee210147c5f4eaa8b79f2bc175081e8": {
      "model_module": "@jupyter-widgets/controls",
      "model_module_version": "1.5.0",
      "model_name": "FloatRangeSliderModel",
      "state": {
       "_model_name": "FloatRangeSliderModel",
       "_view_name": "FloatRangeSliderView",
       "continuous_update": false,
       "description": "Test:",
       "layout": "IPY_MODEL_8b3cd94a832d47ba9be2bb6af674f583",
       "max": 10,
       "readout_format": ".1f",
       "step": 0.1,
       "style": "IPY_MODEL_08038d2c0bbf4b05be11e07971649c7a",
       "value": [
        5,
        7.5
       ]
      }
     },
     "5eec1aacb2dd4535a388681ec1093f37": {
      "model_module": "@jupyter-widgets/controls",
      "model_module_version": "1.5.0",
      "model_name": "TabModel",
      "state": {
       "_titles": {
        "0": "An accordion",
        "1": "Copy of the accordion"
       },
       "children": [
        "IPY_MODEL_0dcf7529abce4b75b2a2fce3f34f7817",
        "IPY_MODEL_0dcf7529abce4b75b2a2fce3f34f7817"
       ],
       "layout": "IPY_MODEL_4b3b6f4109554948b5b14fdc7f72d526"
      }
     },
     "5f5e06296dc941d4b8a1a0b56a674784": {
      "model_module": "@jupyter-widgets/output",
      "model_module_version": "1.0.0",
      "model_name": "OutputModel",
      "state": {
       "layout": "IPY_MODEL_fd25012e77a34696a171afaf76885ce1"
      }
     },
     "5fbbc42716304e58acc4192e7619e260": {
      "model_module": "@jupyter-widgets/controls",
      "model_module_version": "1.5.0",
      "model_name": "ToggleButtonsStyleModel",
      "state": {
       "button_width": "",
       "description_width": ""
      }
     },
     "607ea8ce62af4013b9e4e0ccdfe66739": {
      "model_module": "@jupyter-widgets/base",
      "model_module_version": "1.2.0",
      "model_name": "LayoutModel",
      "state": {}
     },
     "608439f6a9c447d8b7c7e4884e352332": {
      "model_module": "@jupyter-widgets/base",
      "model_module_version": "1.2.0",
      "model_name": "LayoutModel",
      "state": {}
     },
     "61517f5543de44428c2943391e714595": {
      "model_module": "@jupyter-widgets/base",
      "model_module_version": "1.2.0",
      "model_name": "LayoutModel",
      "state": {}
     },
     "623101a016744ee691ecb015e356cf09": {
      "model_module": "@jupyter-widgets/base",
      "model_module_version": "1.2.0",
      "model_name": "LayoutModel",
      "state": {}
     },
     "628f4e00b519492cabc1101f1efd5d74": {
      "model_module": "@jupyter-widgets/controls",
      "model_module_version": "1.5.0",
      "model_name": "BoundedIntTextModel",
      "state": {
       "description": "Text:",
       "layout": "IPY_MODEL_61517f5543de44428c2943391e714595",
       "max": 10,
       "style": "IPY_MODEL_e2a9c51fbb1d49498c82fb4ba2540fa5",
       "value": 7
      }
     },
     "63571fe758314d5f8da3ea9fded135d1": {
      "model_module": "@jupyter-widgets/controls",
      "model_module_version": "1.5.0",
      "model_name": "DescriptionStyleModel",
      "state": {
       "description_width": ""
      }
     },
     "637324967bc04c4d92d37995e462ed83": {
      "model_module": "@jupyter-widgets/base",
      "model_module_version": "1.2.0",
      "model_name": "LayoutModel",
      "state": {}
     },
     "637a632c21734f3387f54bf812b32e3e": {
      "model_module": "@jupyter-widgets/base",
      "model_module_version": "1.2.0",
      "model_name": "LayoutModel",
      "state": {}
     },
     "63a1f52fb8de4627b9823bd6b7d379f2": {
      "model_module": "@jupyter-widgets/base",
      "model_module_version": "1.2.0",
      "model_name": "LayoutModel",
      "state": {}
     },
     "63aca61ce3484a08b2fc892e6f2dc261": {
      "model_module": "@jupyter-widgets/controls",
      "model_module_version": "1.5.0",
      "model_name": "TextModel",
      "state": {
       "description": "P2",
       "layout": "IPY_MODEL_644514c8c8bd4528b0e1bffe24c60e00",
       "style": "IPY_MODEL_b7593aa3cd9e40e282ad24bb17a12247"
      }
     },
     "63d77e3e193e42d7a4de02e12737f7db": {
      "model_module": "@jupyter-widgets/base",
      "model_module_version": "1.2.0",
      "model_name": "LayoutModel",
      "state": {}
     },
     "63ddff8e994a4aea997b01f173eb9201": {
      "model_module": "@jupyter-widgets/controls",
      "model_module_version": "1.5.0",
      "model_name": "FloatProgressModel",
      "state": {
       "bar_style": "info",
       "description": "Loading:",
       "layout": "IPY_MODEL_06bbd57ab9744d9db23ca392470c2d58",
       "max": 10,
       "style": "IPY_MODEL_e04f05d7cfe446cba76b0160869aa555",
       "value": 7.5
      }
     },
     "63fb5c6997ec42f18a9409aa7a3cd3d7": {
      "model_module": "@jupyter-widgets/controls",
      "model_module_version": "1.5.0",
      "model_name": "LabelModel",
      "state": {
       "layout": "IPY_MODEL_58df2fefc5b44f57a4db2b5d95f9ae84",
       "style": "IPY_MODEL_2f059bd7b3a44edc98073f5f8b275ca1",
       "value": "0"
      }
     },
     "64070e7d8cff45d3a8804f344aea9f21": {
      "model_module": "@jupyter-widgets/controls",
      "model_module_version": "1.5.0",
      "model_name": "DescriptionStyleModel",
      "state": {
       "description_width": ""
      }
     },
     "644514c8c8bd4528b0e1bffe24c60e00": {
      "model_module": "@jupyter-widgets/base",
      "model_module_version": "1.2.0",
      "model_name": "LayoutModel",
      "state": {}
     },
     "6448c40c06904dacb5d5525263dd2d55": {
      "model_module": "@jupyter-widgets/controls",
      "model_module_version": "1.5.0",
      "model_name": "DescriptionStyleModel",
      "state": {
       "description_width": ""
      }
     },
     "644f47a405df42069c48e564fd6b8488": {
      "model_module": "@jupyter-widgets/controls",
      "model_module_version": "1.5.0",
      "model_name": "BoxModel",
      "state": {
       "children": [
        "IPY_MODEL_cb696c1dcb5d45f88c2b2f2463ea6880",
        "IPY_MODEL_7987b62752624c888b97267243553787",
        "IPY_MODEL_6e34f519f7b5416cb1efa6dec36b0f48",
        "IPY_MODEL_51a85ab24a9245a6b550fdfe968e1244"
       ],
       "layout": "IPY_MODEL_637a632c21734f3387f54bf812b32e3e"
      }
     },
     "645e70abad19429dbf95dea84e9a44a7": {
      "model_module": "@jupyter-widgets/controls",
      "model_module_version": "1.5.0",
      "model_name": "DescriptionStyleModel",
      "state": {
       "description_width": ""
      }
     },
     "64a4f35b9dd44751bb56c6fa95c09340": {
      "model_module": "@jupyter-widgets/controls",
      "model_module_version": "1.5.0",
      "model_name": "DescriptionStyleModel",
      "state": {
       "description_width": ""
      }
     },
     "651225c5946a46c88e34035cd6887eb0": {
      "model_module": "@jupyter-widgets/controls",
      "model_module_version": "1.5.0",
      "model_name": "TextareaModel",
      "state": {
       "description": "String:",
       "layout": "IPY_MODEL_0755f415a2d642ca8abadb8133e75db6",
       "placeholder": "Type something",
       "style": "IPY_MODEL_7dbf0c22beb94f96a562db0024f29bd2",
       "value": "Hello World"
      }
     },
     "6524d95b710243448a41b14241649e04": {
      "model_module": "@jupyter-widgets/controls",
      "model_module_version": "1.5.0",
      "model_name": "FloatRangeSliderModel",
      "state": {
       "_model_name": "FloatRangeSliderModel",
       "_view_name": "FloatRangeSliderView",
       "continuous_update": false,
       "description": "Test:",
       "layout": "IPY_MODEL_637324967bc04c4d92d37995e462ed83",
       "max": 10,
       "readout_format": ".1f",
       "step": 0.1,
       "style": "IPY_MODEL_42f30b9fddc04b308f546ddc9a73806f",
       "value": [
        5,
        7.5
       ]
      }
     },
     "65467b56450c47c89516d589a3eef6e1": {
      "model_module": "@jupyter-widgets/controls",
      "model_module_version": "1.5.0",
      "model_name": "FloatTextModel",
      "state": {
       "description": "Any:",
       "layout": "IPY_MODEL_f2e61e771b6946b78d0e3909248b48d1",
       "step": null,
       "style": "IPY_MODEL_01aadf5780a8464fa84be67e35630dc8",
       "value": 7.5
      }
     },
     "6572fe6ad11343308e5f8449d34cfe0b": {
      "model_module": "@jupyter-widgets/base",
      "model_module_version": "1.2.0",
      "model_name": "LayoutModel",
      "state": {}
     },
     "65ba2c8174774331b15a4e08e02ac2cb": {
      "model_module": "@jupyter-widgets/controls",
      "model_module_version": "1.5.0",
      "model_name": "TextareaModel",
      "state": {
       "description": "String:",
       "layout": "IPY_MODEL_aac5085a8fb44eccb81274a2326de379",
       "placeholder": "Type something",
       "style": "IPY_MODEL_30923b99d3dd4b8a88a56fb7f1df16bd",
       "value": "Hello World"
      }
     },
     "65c0caa64bd8486c9468b0c1aa55b4f1": {
      "model_module": "@jupyter-widgets/controls",
      "model_module_version": "1.5.0",
      "model_name": "TextModel",
      "state": {
       "description": "P2",
       "layout": "IPY_MODEL_0127fb7e51aa42199fd9595e1161dfd3",
       "style": "IPY_MODEL_fc5c204c94a1499f9aadf35a26077930"
      }
     },
     "65eb8fe960d340f3858ecb6c72b0d80b": {
      "model_module": "@jupyter-widgets/base",
      "model_module_version": "1.2.0",
      "model_name": "LayoutModel",
      "state": {}
     },
     "6603a1991f464c53a5b7b1f16ab419c6": {
      "model_module": "@jupyter-widgets/controls",
      "model_module_version": "1.5.0",
      "model_name": "LabelModel",
      "state": {
       "layout": "IPY_MODEL_58e95f6602934d268c3d34fd592849cb",
       "style": "IPY_MODEL_ff60d50a44d54489b4ab091d4b3a4684",
       "value": "2"
      }
     },
     "6681903ca7a54ac59c542ee562be892b": {
      "model_module": "@jupyter-widgets/controls",
      "model_module_version": "1.5.0",
      "model_name": "BoundedFloatTextModel",
      "state": {
       "description": "Text:",
       "layout": "IPY_MODEL_02b2a4a5adb14c2596569460d6b61e4e",
       "max": 10,
       "style": "IPY_MODEL_722e00774370455e86830f9f927b31a5",
       "value": 7.5
      }
     },
     "66ccbb3ada214f469366003da4ddba62": {
      "model_module": "@jupyter-widgets/controls",
      "model_module_version": "1.5.0",
      "model_name": "DescriptionStyleModel",
      "state": {
       "description_width": ""
      }
     },
     "6710554e59c344a99ce1690bc7e306af": {
      "model_module": "@jupyter-widgets/base",
      "model_module_version": "1.2.0",
      "model_name": "LayoutModel",
      "state": {}
     },
     "67241852dad34934b43e0823cf9ec7b0": {
      "model_module": "@jupyter-widgets/controls",
      "model_module_version": "1.5.0",
      "model_name": "TextModel",
      "state": {
       "description": "String:",
       "layout": "IPY_MODEL_437b8f927413471ba68f58c0c2435eb5",
       "placeholder": "Type something",
       "style": "IPY_MODEL_68b3764aedfb4d1f88988515f46e6cf8",
       "value": "Hello World"
      }
     },
     "675c790c9d9844028d2fe7a850898e4e": {
      "model_module": "@jupyter-widgets/output",
      "model_module_version": "1.0.0",
      "model_name": "OutputModel",
      "state": {
       "layout": "IPY_MODEL_55e802d01b554e61b6dcc12df493d744"
      }
     },
     "67b28a62f2624dcf8bf514d8a318415e": {
      "model_module": "@jupyter-widgets/base",
      "model_module_version": "1.2.0",
      "model_name": "LayoutModel",
      "state": {}
     },
     "67c21cea3e384446bca8f9ce73e6dc62": {
      "model_module": "@jupyter-widgets/controls",
      "model_module_version": "1.5.0",
      "model_name": "LabelModel",
      "state": {
       "layout": "IPY_MODEL_fd87f665e2b749099479cfe9d5fd2718",
       "style": "IPY_MODEL_f354bf243c364d029ddb7293d1a93392",
       "value": "1"
      }
     },
     "67f84c51de884d588278b578fd248616": {
      "buffers": [
       {
        "data": "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",
        "encoding": "base64",
        "path": [
         "value"
        ]
       }
      ],
      "model_module": "@jupyter-widgets/controls",
      "model_module_version": "1.5.0",
      "model_name": "ImageModel",
      "state": {
       "format": "gif",
       "height": "200",
       "layout": "IPY_MODEL_deee1a95874c4dd4af51ca82a14613dd",
       "width": "200"
      }
     },
     "67fa18908c3044da9368160196d5e0f8": {
      "model_module": "@jupyter-widgets/base",
      "model_module_version": "1.2.0",
      "model_name": "LayoutModel",
      "state": {}
     },
     "6815d9b8af9d4d389ebc4909294dbeee": {
      "model_module": "@jupyter-widgets/controls",
      "model_module_version": "1.5.0",
      "model_name": "HBoxModel",
      "state": {
       "children": [
        "IPY_MODEL_2968d8c7f9e94a0db40614df851ab00e",
        "IPY_MODEL_f55b7cc7cc0e460e955bbd2248689485"
       ],
       "layout": "IPY_MODEL_8c84f555cc3e4b3990d3f8f3f9dc1f17"
      }
     },
     "68226d56d74b4d8fafc1815c2e062ad4": {
      "model_module": "@jupyter-widgets/base",
      "model_module_version": "1.2.0",
      "model_name": "LayoutModel",
      "state": {}
     },
     "683a1326230a43c194eb2a115261710f": {
      "model_module": "@jupyter-widgets/controls",
      "model_module_version": "1.5.0",
      "model_name": "ToggleButtonsModel",
      "state": {
       "_options_labels": [
        "Slow",
        "Regular",
        "Fast"
       ],
       "button_style": "",
       "description": "Speed:",
       "icons": [],
       "index": 0,
       "layout": "IPY_MODEL_cf091bbb5d864b8c9e102651a0d75de4",
       "style": "IPY_MODEL_14e956fc09ca417c9b707b8a5790ba0d",
       "tooltips": [
        "Description of slow",
        "Description of regular",
        "Description of fast"
       ]
      }
     },
     "68b3764aedfb4d1f88988515f46e6cf8": {
      "model_module": "@jupyter-widgets/controls",
      "model_module_version": "1.5.0",
      "model_name": "DescriptionStyleModel",
      "state": {
       "description_width": ""
      }
     },
     "68d150ca2bb441cb9633d0d62013c0a3": {
      "model_module": "@jupyter-widgets/base",
      "model_module_version": "1.2.0",
      "model_name": "LayoutModel",
      "state": {
       "border": "1px solid black"
      }
     },
     "68ec2da410a2464aa55c9bbe40f20d0c": {
      "model_module": "@jupyter-widgets/controls",
      "model_module_version": "1.5.0",
      "model_name": "BoundedFloatTextModel",
      "state": {
       "description": "Text:",
       "layout": "IPY_MODEL_38f6c8e891bc455eb419e6293c0c3dab",
       "max": 10,
       "style": "IPY_MODEL_ebd084bdaa084a6cacf63b60fcfbb6ef",
       "value": 7.5
      }
     },
     "68ed8b42e80e4d7986f85f43e5bd47a9": {
      "model_module": "@jupyter-widgets/controls",
      "model_module_version": "1.5.0",
      "model_name": "ToggleButtonsModel",
      "state": {
       "_options_labels": [
        "Slow",
        "Regular",
        "Fast"
       ],
       "button_style": "",
       "description": "Speed:",
       "icons": [
        "check",
        "check",
        "check"
       ],
       "index": 0,
       "layout": "IPY_MODEL_015141116898402e8a3f209ecf217820",
       "style": "IPY_MODEL_7643ec82bfd94dc49dd75c9fb6c08dc9",
       "tooltips": [
        "Description of slow",
        "Description of regular",
        "Description of fast"
       ]
      }
     },
     "692622bd5f4941e480089636900619e7": {
      "model_module": "@jupyter-widgets/controls",
      "model_module_version": "1.5.0",
      "model_name": "DatePickerModel",
      "state": {
       "description": "Pick a Date",
       "disabled": false,
       "layout": "IPY_MODEL_1350594d43f141d4a7f36d143da6c587",
       "style": "IPY_MODEL_a919afe1791b4464baea6bfd35257279"
      }
     },
     "69629663fbc64f20babe8e3568494925": {
      "model_module": "@jupyter-widgets/base",
      "model_module_version": "1.2.0",
      "model_name": "LayoutModel",
      "state": {}
     },
     "6985db3263c14f0ba0fc5fae36a0c7c6": {
      "model_module": "@jupyter-widgets/base",
      "model_module_version": "1.2.0",
      "model_name": "LayoutModel",
      "state": {}
     },
     "6a83565c4b01480bb587eeaa0b122bd6": {
      "model_module": "@jupyter-widgets/base",
      "model_module_version": "1.2.0",
      "model_name": "LayoutModel",
      "state": {}
     },
     "6a876a8a6b884a53970a1ab453512641": {
      "model_module": "@jupyter-widgets/controls",
      "model_module_version": "1.5.0",
      "model_name": "TextModel",
      "state": {
       "description": "P4",
       "layout": "IPY_MODEL_87a4f3dae7b241da86faea65368fa1a2",
       "style": "IPY_MODEL_dc9b47391ec24d14a7dc52646d4d8f3a"
      }
     },
     "6ae28d92f15f49f2be37c54b4774d511": {
      "model_module": "@jupyter-widgets/controls",
      "model_module_version": "1.5.0",
      "model_name": "LabelModel",
      "state": {
       "layout": "IPY_MODEL_084127424c97499795a012bf742d802a",
       "style": "IPY_MODEL_80f1fa9045e647a39410e910dcf72305",
       "value": "1"
      }
     },
     "6b497fcf4be34123b0801575eb1379d0": {
      "model_module": "@jupyter-widgets/controls",
      "model_module_version": "1.5.0",
      "model_name": "DescriptionStyleModel",
      "state": {
       "description_width": ""
      }
     },
     "6b7b27c1edd6448e9afbe1ed508a9c24": {
      "model_module": "@jupyter-widgets/base",
      "model_module_version": "1.2.0",
      "model_name": "LayoutModel",
      "state": {}
     },
     "6b808e1f7c9d4ac0ac6ba70ffd72aa5e": {
      "model_module": "@jupyter-widgets/controls",
      "model_module_version": "1.5.0",
      "model_name": "HTMLModel",
      "state": {
       "description": "Some HTML",
       "layout": "IPY_MODEL_6710554e59c344a99ce1690bc7e306af",
       "placeholder": "Some HTML",
       "style": "IPY_MODEL_15c75c5f37014b39b2955a4b1fae68d4",
       "value": "Hello <b>World</b>"
      }
     },
     "6c014b4e8e784d0a9eae20ab198223d8": {
      "model_module": "@jupyter-widgets/controls",
      "model_module_version": "1.5.0",
      "model_name": "DescriptionStyleModel",
      "state": {
       "description_width": ""
      }
     },
     "6c0666e2469b42949bface9fd9de99d4": {
      "model_module": "@jupyter-widgets/base",
      "model_module_version": "1.2.0",
      "model_name": "LayoutModel",
      "state": {}
     },
     "6c2247ae35c7423a83e7d63c9b87ff74": {
      "model_module": "@jupyter-widgets/controls",
      "model_module_version": "1.5.0",
      "model_name": "LabelModel",
      "state": {
       "layout": "IPY_MODEL_6a83565c4b01480bb587eeaa0b122bd6",
       "style": "IPY_MODEL_3e9a891ac687436a8a0323c28eb85487",
       "value": "0"
      }
     },
     "6c6898fa7dac4d808b0678326782415a": {
      "model_module": "@jupyter-widgets/base",
      "model_module_version": "1.2.0",
      "model_name": "LayoutModel",
      "state": {}
     },
     "6c93012858b747ee967cdb6878ea6fae": {
      "model_module": "@jupyter-widgets/controls",
      "model_module_version": "1.5.0",
      "model_name": "DescriptionStyleModel",
      "state": {
       "description_width": ""
      }
     },
     "6d05a9b61ef142afaaaafe1f4a86a431": {
      "model_module": "@jupyter-widgets/base",
      "model_module_version": "1.2.0",
      "model_name": "LayoutModel",
      "state": {}
     },
     "6d0c780b23824050b64fe044de32d948": {
      "model_module": "@jupyter-widgets/controls",
      "model_module_version": "1.5.0",
      "model_name": "VBoxModel",
      "state": {
       "children": [
        "IPY_MODEL_d8eb198c4ae84a058e147353f54aa37b",
        "IPY_MODEL_3666bde02bb84495b84cddb4af04ab3c"
       ],
       "layout": "IPY_MODEL_24753765ec82456a94239ec09f955299"
      }
     },
     "6d5856f95ee74237af8e22adc3094a74": {
      "model_module": "@jupyter-widgets/controls",
      "model_module_version": "1.5.0",
      "model_name": "DescriptionStyleModel",
      "state": {
       "description_width": ""
      }
     },
     "6d8556c0367f45e1b802da81285a9783": {
      "model_module": "@jupyter-widgets/base",
      "model_module_version": "1.2.0",
      "model_name": "LayoutModel",
      "state": {
       "border": "1px solid black"
      }
     },
     "6df4cf20e8284f1ea2ead38f7c74f588": {
      "model_module": "@jupyter-widgets/base",
      "model_module_version": "1.2.0",
      "model_name": "LayoutModel",
      "state": {}
     },
     "6e1e961a0d334f4699ec2472e476226a": {
      "model_module": "@jupyter-widgets/controls",
      "model_module_version": "1.5.0",
      "model_name": "FloatSliderModel",
      "state": {
       "continuous_update": false,
       "description": "Test:",
       "layout": "IPY_MODEL_a7355a6e5e0d455f804c71c1446dd371",
       "max": 10,
       "readout_format": ".1f",
       "step": 0.1,
       "style": "IPY_MODEL_6f687fa7a1e449d7a621f5f1daaed603",
       "value": 7.5
      }
     },
     "6e34f519f7b5416cb1efa6dec36b0f48": {
      "model_module": "@jupyter-widgets/controls",
      "model_module_version": "1.5.0",
      "model_name": "LabelModel",
      "state": {
       "layout": "IPY_MODEL_ce86ff069346429298e3f25e3f661554",
       "style": "IPY_MODEL_277484166eca40a7b7efc9f8010314c8",
       "value": "2"
      }
     },
     "6eb9b884599640519f709ccbfbb7bebe": {
      "model_module": "@jupyter-widgets/controls",
      "model_module_version": "1.5.0",
      "model_name": "SelectionSliderModel",
      "state": {
       "_options_labels": [
        "scrambled",
        "sunny side up",
        "poached",
        "over easy"
       ],
       "continuous_update": false,
       "description": "I like my eggs …",
       "index": 1,
       "layout": "IPY_MODEL_23c5733b8dba4a5ba5166aab9dcc6e56",
       "style": "IPY_MODEL_64070e7d8cff45d3a8804f344aea9f21"
      }
     },
     "6ed266be750042a9bbd3bb30b506ff58": {
      "model_module": "@jupyter-widgets/controls",
      "model_module_version": "1.5.0",
      "model_name": "LabelModel",
      "state": {
       "layout": "IPY_MODEL_8e0245e4885440aeb7518df7a955f956",
       "style": "IPY_MODEL_58aab2eca9ee47acafdf8c2cd0f5b2bc",
       "value": "0"
      }
     },
     "6f687fa7a1e449d7a621f5f1daaed603": {
      "model_module": "@jupyter-widgets/controls",
      "model_module_version": "1.5.0",
      "model_name": "SliderStyleModel",
      "state": {
       "description_width": ""
      }
     },
     "6facd0a3a0a94a27b584560fe82cb02f": {
      "model_module": "@jupyter-widgets/controls",
      "model_module_version": "1.5.0",
      "model_name": "ToggleButtonModel",
      "state": {
       "description": "Click me",
       "icon": "check",
       "layout": "IPY_MODEL_b424f850771146c9889ba1fe66694f4b",
       "style": "IPY_MODEL_100992258d5b4c858b3ddfeb0c2219f4",
       "tooltip": "Description"
      }
     },
     "71071844670041cbb013b1a6454bd659": {
      "model_module": "@jupyter-widgets/controls",
      "model_module_version": "1.5.0",
      "model_name": "DescriptionStyleModel",
      "state": {
       "description_width": ""
      }
     },
     "711580aa753942e5985c4d3dae2ff9a6": {
      "model_module": "@jupyter-widgets/base",
      "model_module_version": "1.2.0",
      "model_name": "LayoutModel",
      "state": {}
     },
     "720376c01d7d4c03af8a4a5a893c6691": {
      "model_module": "@jupyter-widgets/controls",
      "model_module_version": "1.5.0",
      "model_name": "SelectionSliderModel",
      "state": {
       "_options_labels": [
        "scrambled",
        "sunny side up",
        "poached",
        "over easy"
       ],
       "continuous_update": false,
       "description": "I like my eggs …",
       "index": 1,
       "layout": "IPY_MODEL_a6ba59cadeb0495d98cafd0446591e56",
       "style": "IPY_MODEL_d1e436beb7e148de9a0a6c32a5bf4550"
      }
     },
     "7218fa90b6a6439e9ad87820e20a9df9": {
      "model_module": "@jupyter-widgets/base",
      "model_module_version": "1.2.0",
      "model_name": "LayoutModel",
      "state": {}
     },
     "722e00774370455e86830f9f927b31a5": {
      "model_module": "@jupyter-widgets/controls",
      "model_module_version": "1.5.0",
      "model_name": "DescriptionStyleModel",
      "state": {
       "description_width": ""
      }
     },
     "724258fdfce44030a5cb16b55d5a4a3e": {
      "model_module": "@jupyter-widgets/controls",
      "model_module_version": "1.5.0",
      "model_name": "IntTextModel",
      "state": {
       "description": "Any:",
       "layout": "IPY_MODEL_03402f3fb8114bd09fc505440e638e82",
       "step": 1,
       "style": "IPY_MODEL_f39e2ffbe0e94acf9d61e4c7c2159bb7",
       "value": 7
      }
     },
     "724e4762db2c416f9cae330ada5386fb": {
      "model_module": "@jupyter-widgets/base",
      "model_module_version": "1.2.0",
      "model_name": "LayoutModel",
      "state": {}
     },
     "7267a05715944b098663122fdafa7b4a": {
      "model_module": "@jupyter-widgets/controls",
      "model_module_version": "1.5.0",
      "model_name": "DescriptionStyleModel",
      "state": {
       "description_width": ""
      }
     },
     "727db7fe1d9648339c874319afb32f1b": {
      "model_module": "@jupyter-widgets/base",
      "model_module_version": "1.2.0",
      "model_name": "LayoutModel",
      "state": {}
     },
     "72d73eeca2e940b2a3f651a074aff2c3": {
      "model_module": "@jupyter-widgets/base",
      "model_module_version": "1.2.0",
      "model_name": "LayoutModel",
      "state": {}
     },
     "72ecd511d04e405faa8ac7522a638b48": {
      "buffers": [
       {
        "data": "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",
        "encoding": "base64",
        "path": [
         "value"
        ]
       }
      ],
      "model_module": "@jupyter-widgets/controls",
      "model_module_version": "1.5.0",
      "model_name": "ImageModel",
      "state": {
       "format": "gif",
       "height": "128",
       "layout": "IPY_MODEL_6df4cf20e8284f1ea2ead38f7c74f588",
       "width": "128"
      }
     },
     "736254731cc448f79523b477542ea5b3": {
      "model_module": "@jupyter-widgets/controls",
      "model_module_version": "1.5.0",
      "model_name": "TextModel",
      "state": {
       "description": "P0",
       "layout": "IPY_MODEL_8d4079b48d9443b6b6e57e7abf8802cf",
       "style": "IPY_MODEL_8fe5fc528d59401f9669bec66ef1a280"
      }
     },
     "73800ac92c1541f09ffcbf960ed6239c": {
      "model_module": "@jupyter-widgets/controls",
      "model_module_version": "1.5.0",
      "model_name": "DescriptionStyleModel",
      "state": {
       "description_width": ""
      }
     },
     "740385346f0a4ecfb4c9d4e7072f46bb": {
      "model_module": "@jupyter-widgets/base",
      "model_module_version": "1.2.0",
      "model_name": "LayoutModel",
      "state": {}
     },
     "74a759838bf34015b5b7b8ea55b8be22": {
      "model_module": "@jupyter-widgets/base",
      "model_module_version": "1.2.0",
      "model_name": "LayoutModel",
      "state": {}
     },
     "74dc54985e284b4e90fe8045c7312c83": {
      "model_module": "@jupyter-widgets/controls",
      "model_module_version": "1.5.0",
      "model_name": "RadioButtonsModel",
      "state": {
       "_options_labels": [
        "pepperoni",
        "pineapple",
        "anchovies"
       ],
       "description": "Pizza topping:",
       "index": 1,
       "layout": "IPY_MODEL_bee77cf8e26143928c6b98ead74aa7bb",
       "style": "IPY_MODEL_97d63f9e68114ac6b7ce61fa9a580726"
      }
     },
     "7590b0ebe0144a2ebd6633d4f223327f": {
      "model_module": "@jupyter-widgets/controls",
      "model_module_version": "1.5.0",
      "model_name": "FloatSliderModel",
      "state": {
       "layout": "IPY_MODEL_143a8e6e3de4428297a63c38273b2baf",
       "step": 0.1,
       "style": "IPY_MODEL_d5730bba96a342c9b29e96552ca6218f"
      }
     },
     "75c12f346a39426080c4215ac088dffb": {
      "model_module": "@jupyter-widgets/base",
      "model_module_version": "1.2.0",
      "model_name": "LayoutModel",
      "state": {}
     },
     "75ea312a507f4688b8ae36d4a821baec": {
      "model_module": "@jupyter-widgets/base",
      "model_module_version": "1.2.0",
      "model_name": "LayoutModel",
      "state": {}
     },
     "7643ec82bfd94dc49dd75c9fb6c08dc9": {
      "model_module": "@jupyter-widgets/controls",
      "model_module_version": "1.5.0",
      "model_name": "ToggleButtonsStyleModel",
      "state": {
       "button_width": "",
       "description_width": ""
      }
     },
     "7673e110a7ec4dd6b56af01d3a50ba12": {
      "model_module": "@jupyter-widgets/base",
      "model_module_version": "1.2.0",
      "model_name": "LayoutModel",
      "state": {}
     },
     "76fc22d154294063bbdc68840d111fc8": {
      "model_module": "@jupyter-widgets/controls",
      "model_module_version": "1.5.0",
      "model_name": "BoundedFloatTextModel",
      "state": {
       "description": "Text:",
       "layout": "IPY_MODEL_aed3e54fe78a4923865068d1fbeea256",
       "max": 10,
       "style": "IPY_MODEL_32cefad3e33e453e912623008bc82bb9",
       "value": 7.5
      }
     },
     "770d1a37ea5e4532926fea608ac86752": {
      "model_module": "@jupyter-widgets/base",
      "model_module_version": "1.2.0",
      "model_name": "LayoutModel",
      "state": {}
     },
     "77466eb46bbe449db481bb1a5400484e": {
      "model_module": "@jupyter-widgets/controls",
      "model_module_version": "1.5.0",
      "model_name": "TabModel",
      "state": {
       "_titles": {
        "0": "An accordion",
        "1": "Copy of the accordion"
       },
       "children": [
        "IPY_MODEL_2b53aaf6b28448bcaf7f723e22369dd4",
        "IPY_MODEL_2b53aaf6b28448bcaf7f723e22369dd4"
       ],
       "layout": "IPY_MODEL_2d95f83f083e4a9baad255e79baf77d4"
      }
     },
     "774bd8b2f94542fa9d6c52cfa9e58d14": {
      "model_module": "@jupyter-widgets/controls",
      "model_module_version": "1.5.0",
      "model_name": "ProgressStyleModel",
      "state": {
       "description_width": ""
      }
     },
     "77a561e258964e39aa0bc468b777790e": {
      "model_module": "@jupyter-widgets/controls",
      "model_module_version": "1.5.0",
      "model_name": "LabelModel",
      "state": {
       "layout": "IPY_MODEL_eaad72415ca3496190b1445b2a165799",
       "style": "IPY_MODEL_40698fd64f0f4baab4531f23a5f118b4",
       "value": "0"
      }
     },
     "784d3b55e4664991a3433766483cfd38": {
      "model_module": "@jupyter-widgets/base",
      "model_module_version": "1.2.0",
      "model_name": "LayoutModel",
      "state": {}
     },
     "78df5a4fc9e545478baed814e2908b5d": {
      "model_module": "@jupyter-widgets/base",
      "model_module_version": "1.2.0",
      "model_name": "LayoutModel",
      "state": {
       "border": "1px solid black"
      }
     },
     "78e17d55f31d47058e1e7d2c7d4f08d0": {
      "model_module": "@jupyter-widgets/controls",
      "model_module_version": "1.5.0",
      "model_name": "FloatTextModel",
      "state": {
       "description": "Any:",
       "layout": "IPY_MODEL_f5500f74296f477599cca5fd9e4e330d",
       "step": null,
       "style": "IPY_MODEL_0853a1cff24a4032a16c0e17c38766d2",
       "value": 7.5
      }
     },
     "79722b88b73f44cd918ff046d30f8811": {
      "model_module": "@jupyter-widgets/base",
      "model_module_version": "1.2.0",
      "model_name": "LayoutModel",
      "state": {}
     },
     "7987b62752624c888b97267243553787": {
      "model_module": "@jupyter-widgets/controls",
      "model_module_version": "1.5.0",
      "model_name": "LabelModel",
      "state": {
       "layout": "IPY_MODEL_68226d56d74b4d8fafc1815c2e062ad4",
       "style": "IPY_MODEL_2d24b880f7fd4a24bff244ad18b62b3e",
       "value": "1"
      }
     },
     "7a44f3dd352741ed883cf3fca6fea390": {
      "model_module": "@jupyter-widgets/base",
      "model_module_version": "1.2.0",
      "model_name": "LayoutModel",
      "state": {}
     },
     "7b07875b7e744d738554ec0d53b54808": {
      "model_module": "@jupyter-widgets/base",
      "model_module_version": "1.2.0",
      "model_name": "LayoutModel",
      "state": {}
     },
     "7b3b0894034f4aea810739e5a100b424": {
      "model_module": "@jupyter-widgets/base",
      "model_module_version": "1.2.0",
      "model_name": "LayoutModel",
      "state": {}
     },
     "7b53a76f13984d668186cd1be13d0270": {
      "model_module": "@jupyter-widgets/controls",
      "model_module_version": "1.5.0",
      "model_name": "DescriptionStyleModel",
      "state": {
       "description_width": ""
      }
     },
     "7ba77fc4d02645dc860d485602dc7462": {
      "model_module": "@jupyter-widgets/controls",
      "model_module_version": "1.5.0",
      "model_name": "SliderStyleModel",
      "state": {
       "description_width": ""
      }
     },
     "7bc916bc45b7472c98e883333686234e": {
      "model_module": "@jupyter-widgets/base",
      "model_module_version": "1.2.0",
      "model_name": "LayoutModel",
      "state": {}
     },
     "7cafd6fb335e4a218b91623c4dbfefac": {
      "model_module": "@jupyter-widgets/base",
      "model_module_version": "1.2.0",
      "model_name": "LayoutModel",
      "state": {}
     },
     "7cc2c993589a499b8f8f5d0a0ddbd76a": {
      "model_module": "@jupyter-widgets/controls",
      "model_module_version": "1.5.0",
      "model_name": "SliderStyleModel",
      "state": {
       "description_width": ""
      }
     },
     "7cd0f4b8675b4ddb95a82b9f411a7b02": {
      "buffers": [
       {
        "data": "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",
        "encoding": "base64",
        "path": [
         "outputs",
         1,
         "data",
         "image/jpeg"
        ]
       }
      ],
      "model_module": "@jupyter-widgets/output",
      "model_module_version": "1.0.0",
      "model_name": "OutputModel",
      "state": {
       "layout": "IPY_MODEL_0df7b36c58ce46aa8e49fe5d1d16e9d5",
       "outputs": [
        {
         "name": "stdout",
         "output_type": "stream",
         "text": "Output appended with append_stdout"
        },
        {
         "data": {
          "text/html": "\n        <iframe\n            width=\"400\"\n            height=\"300\"\n            src=\"https://www.youtube.com/embed/eWzY2nGfkXk\"\n            frameborder=\"0\"\n            allowfullscreen\n            \n        ></iframe>\n        ",
          "text/plain": "<IPython.lib.display.YouTubeVideo at 0x106afbd10>"
         },
         "metadata": {},
         "output_type": "display_data"
        }
       ]
      }
     },
     "7d095bbf8ff24bb68e5b651f63d122e4": {
      "model_module": "@jupyter-widgets/controls",
      "model_module_version": "1.5.0",
      "model_name": "TextModel",
      "state": {
       "description": "String:",
       "layout": "IPY_MODEL_b346ece6102e4eff9bc43ef5f6a17763",
       "placeholder": "Type something",
       "style": "IPY_MODEL_d3828b4e55ab48208067cf2fb87e9e19",
       "value": "Hello World"
      }
     },
     "7d423dcd35924b418a13f94797928840": {
      "model_module": "@jupyter-widgets/base",
      "model_module_version": "1.2.0",
      "model_name": "LayoutModel",
      "state": {}
     },
     "7d7e688be6344c88a3844395ea968aad": {
      "model_module": "@jupyter-widgets/controls",
      "model_module_version": "1.5.0",
      "model_name": "DescriptionStyleModel",
      "state": {
       "description_width": ""
      }
     },
     "7dbf0c22beb94f96a562db0024f29bd2": {
      "model_module": "@jupyter-widgets/controls",
      "model_module_version": "1.5.0",
      "model_name": "DescriptionStyleModel",
      "state": {
       "description_width": ""
      }
     },
     "7df4e43cd7f849fc97a358ceeb87b6ae": {
      "model_module": "@jupyter-widgets/controls",
      "model_module_version": "1.5.0",
      "model_name": "DescriptionStyleModel",
      "state": {
       "description_width": ""
      }
     },
     "7e14d563ddc04232a57c214c04e74478": {
      "model_module": "@jupyter-widgets/controls",
      "model_module_version": "1.5.0",
      "model_name": "PlayModel",
      "state": {
       "description": "Press play",
       "layout": "IPY_MODEL_0723aa09e91d41659991dc25c91407cb",
       "style": "IPY_MODEL_5bed77931a69458496a23de63db7df26",
       "value": 50
      }
     },
     "7e631b7decf74bda873e60f6aeed5aba": {
      "model_module": "@jupyter-widgets/controls",
      "model_module_version": "1.5.0",
      "model_name": "DescriptionStyleModel",
      "state": {
       "description_width": ""
      }
     },
     "7f2ee03f49a846298438698305d2f765": {
      "model_module": "@jupyter-widgets/base",
      "model_module_version": "1.2.0",
      "model_name": "LayoutModel",
      "state": {}
     },
     "7fa66c024a754a6397c03debee6fecf4": {
      "model_module": "@jupyter-widgets/controls",
      "model_module_version": "1.5.0",
      "model_name": "DescriptionStyleModel",
      "state": {
       "description_width": ""
      }
     },
     "7ffc7400d2b94ae9a2255d6523ffe127": {
      "model_module": "@jupyter-widgets/base",
      "model_module_version": "1.2.0",
      "model_name": "LayoutModel",
      "state": {}
     },
     "80404eafe6ba493caf5a3df44392b468": {
      "model_module": "@jupyter-widgets/controls",
      "model_module_version": "1.5.0",
      "model_name": "FloatLogSliderModel",
      "state": {
       "description": "Log Slider",
       "layout": "IPY_MODEL_10d717134516493bb31c6121e9daa22a",
       "max": 10,
       "min": -10,
       "step": 0.2,
       "style": "IPY_MODEL_d84c69f9c6d44d5eb8b03f817f459ebb",
       "value": 10
      }
     },
     "80e417b6adcf4b1e9ea2f5023c2ecbe5": {
      "model_module": "@jupyter-widgets/controls",
      "model_module_version": "1.5.0",
      "model_name": "CheckboxModel",
      "state": {
       "description": "Check me",
       "disabled": false,
       "layout": "IPY_MODEL_65eb8fe960d340f3858ecb6c72b0d80b",
       "style": "IPY_MODEL_f3d3a3c6219c41a3b87c44cdad836f4c",
       "value": false
      }
     },
     "80f1fa9045e647a39410e910dcf72305": {
      "model_module": "@jupyter-widgets/controls",
      "model_module_version": "1.5.0",
      "model_name": "DescriptionStyleModel",
      "state": {
       "description_width": ""
      }
     },
     "81065d4ff4d94a9fbd6447e20db64029": {
      "model_module": "@jupyter-widgets/controls",
      "model_module_version": "1.5.0",
      "model_name": "LabelModel",
      "state": {
       "layout": "IPY_MODEL_3b077728e9f041b49759bdd9ab76fd75",
       "style": "IPY_MODEL_da6d035ca8ec45e7a33ad3b71baaae21",
       "value": "0"
      }
     },
     "811d5ea43a2240a3a9e275c13ac9ceaa": {
      "model_module": "@jupyter-widgets/controls",
      "model_module_version": "1.5.0",
      "model_name": "ProgressStyleModel",
      "state": {
       "description_width": ""
      }
     },
     "81378c8e21944b6b898178fc893eb7ae": {
      "model_module": "@jupyter-widgets/base",
      "model_module_version": "1.2.0",
      "model_name": "LayoutModel",
      "state": {}
     },
     "8165cef524794487a2490a73ac920e64": {
      "model_module": "@jupyter-widgets/controls",
      "model_module_version": "1.5.0",
      "model_name": "ButtonStyleModel",
      "state": {}
     },
     "81bb56244731402ea6ce6464af66e05f": {
      "model_module": "@jupyter-widgets/controls",
      "model_module_version": "1.5.0",
      "model_name": "ButtonStyleModel",
      "state": {}
     },
     "81ffcc14ecce4be4aaa1c92f05575792": {
      "model_module": "@jupyter-widgets/base",
      "model_module_version": "1.2.0",
      "model_name": "LayoutModel",
      "state": {}
     },
     "8209614f010f4efb9edb7ebe6fc22f08": {
      "model_module": "@jupyter-widgets/controls",
      "model_module_version": "1.5.0",
      "model_name": "SelectionSliderModel",
      "state": {
       "_options_labels": [
        "scrambled",
        "sunny side up",
        "poached",
        "over easy"
       ],
       "continuous_update": false,
       "description": "I like my eggs …",
       "index": 1,
       "layout": "IPY_MODEL_c5f63d987fcd43d48800789b86f714ba",
       "style": "IPY_MODEL_afa5f3b4cd4d4355954a89388956c240"
      }
     },
     "821fb1c2bcda44b486b96cc67aacd65f": {
      "model_module": "@jupyter-widgets/base",
      "model_module_version": "1.2.0",
      "model_name": "LayoutModel",
      "state": {}
     },
     "82275033a3be4a0994c003fa8b656855": {
      "model_module": "@jupyter-widgets/controls",
      "model_module_version": "1.5.0",
      "model_name": "BoundedFloatTextModel",
      "state": {
       "description": "Text:",
       "layout": "IPY_MODEL_555fecdac2b24be687ff18c66d9a826e",
       "max": 10,
       "style": "IPY_MODEL_ef243d11906f4b3aab53238e579965b6",
       "value": 7.5
      }
     },
     "82832b921f1b46f4a9c777ed7a09b7a8": {
      "model_module": "@jupyter-widgets/controls",
      "model_module_version": "1.5.0",
      "model_name": "DatePickerModel",
      "state": {
       "description": "Pick a Date",
       "disabled": false,
       "layout": "IPY_MODEL_36198adabfa54188b5124c62e65bcda7",
       "style": "IPY_MODEL_df4f87746ac24caeb13148e8c7d8ca4f"
      }
     },
     "82d896507f9b4a5faf317496ff6adcbd": {
      "model_module": "@jupyter-widgets/base",
      "model_module_version": "1.2.0",
      "model_name": "LayoutModel",
      "state": {}
     },
     "82eb80b90ae64036a676cc3b6ce6f557": {
      "model_module": "@jupyter-widgets/base",
      "model_module_version": "1.2.0",
      "model_name": "LayoutModel",
      "state": {}
     },
     "83833b1c51674e7583eb527d529c35ac": {
      "model_module": "@jupyter-widgets/base",
      "model_module_version": "1.2.0",
      "model_name": "LayoutModel",
      "state": {}
     },
     "8392f3b96f1149b58f0a5c6a1c7849cc": {
      "model_module": "@jupyter-widgets/base",
      "model_module_version": "1.2.0",
      "model_name": "LayoutModel",
      "state": {}
     },
     "83a09d50d2f042259d6aa31aa8d84bbd": {
      "model_module": "@jupyter-widgets/controls",
      "model_module_version": "1.5.0",
      "model_name": "DescriptionStyleModel",
      "state": {
       "description_width": ""
      }
     },
     "83a5ab8cae2342919c1af81ae494b9dd": {
      "model_module": "@jupyter-widgets/controls",
      "model_module_version": "1.5.0",
      "model_name": "DescriptionStyleModel",
      "state": {
       "description_width": ""
      }
     },
     "83bee29e68f947c1bacfc66998d78a63": {
      "model_module": "@jupyter-widgets/controls",
      "model_module_version": "1.5.0",
      "model_name": "TextModel",
      "state": {
       "description": "String:",
       "layout": "IPY_MODEL_ed99e15d5ec549f7ba2de9fb200966db",
       "placeholder": "Type something",
       "style": "IPY_MODEL_fd08e2bbf6914704be18d7b8f358ebe4",
       "value": "Hello World"
      }
     },
     "83ea0ab22e1d427bbafb5fb059e83c5f": {
      "model_module": "@jupyter-widgets/controls",
      "model_module_version": "1.5.0",
      "model_name": "ButtonStyleModel",
      "state": {}
     },
     "841bbfeb63ef4d68be3f0533a52bc572": {
      "model_module": "@jupyter-widgets/controls",
      "model_module_version": "1.5.0",
      "model_name": "IntSliderModel",
      "state": {
       "layout": "IPY_MODEL_d3ab4ab7305d423788a6675412611854",
       "style": "IPY_MODEL_219e66449ce44efcad98cbea38591811"
      }
     },
     "8420e6506097476abfa6ad0b133b0272": {
      "model_module": "@jupyter-widgets/controls",
      "model_module_version": "1.5.0",
      "model_name": "BoxModel",
      "state": {
       "children": [
        "IPY_MODEL_6c2247ae35c7423a83e7d63c9b87ff74",
        "IPY_MODEL_30db08c76ce440cd884524dc0cf36a1b",
        "IPY_MODEL_3b5164c339a54a8384d2908b9a2823eb",
        "IPY_MODEL_2a564c63e9554e129f9d524e6c25bdd0"
       ],
       "layout": "IPY_MODEL_8decfdd296514ba5a6879d09e7a8da6e"
      }
     },
     "8427877544d74355833d5c5b18ea20b2": {
      "model_module": "@jupyter-widgets/controls",
      "model_module_version": "1.5.0",
      "model_name": "FloatSliderModel",
      "state": {
       "continuous_update": false,
       "description": "Test:",
       "layout": "IPY_MODEL_9840f4ccacad4e7baccc4ec4170eec7f",
       "max": 10,
       "readout_format": ".1f",
       "step": 0.1,
       "style": "IPY_MODEL_1bf7b762a56c4b00a486c273dfda4f7e",
       "value": 7.5
      }
     },
     "845bcde0f9344337a321f44b17e78f24": {
      "model_module": "@jupyter-widgets/controls",
      "model_module_version": "1.5.0",
      "model_name": "DescriptionStyleModel",
      "state": {
       "description_width": ""
      }
     },
     "84b022ea418c4772b1432bc7b5deadff": {
      "model_module": "@jupyter-widgets/controls",
      "model_module_version": "1.5.0",
      "model_name": "FloatSliderModel",
      "state": {
       "layout": "IPY_MODEL_39abd23557fc4befac05035681dac75d",
       "step": 0.1,
       "style": "IPY_MODEL_5857eb93ac234a2d92330161c7a81fde"
      }
     },
     "84b8048c55ae417c82042e2148d0d264": {
      "model_module": "@jupyter-widgets/base",
      "model_module_version": "1.2.0",
      "model_name": "LayoutModel",
      "state": {}
     },
     "84ec52af8c484529b8876aa91805854d": {
      "model_module": "@jupyter-widgets/controls",
      "model_module_version": "1.5.0",
      "model_name": "TextModel",
      "state": {
       "description": "P3",
       "layout": "IPY_MODEL_48d403d6b9dd4e43a4ba527e74808726",
       "style": "IPY_MODEL_1a7ef0e2a65a4ac19f4dcf5d48fd363b"
      }
     },
     "84f76a1dd90d4f83bd4f0f3198224511": {
      "model_module": "@jupyter-widgets/controls",
      "model_module_version": "1.5.0",
      "model_name": "DescriptionStyleModel",
      "state": {
       "description_width": ""
      }
     },
     "8591429ad81042d48a8f443df719d3f8": {
      "model_module": "@jupyter-widgets/base",
      "model_module_version": "1.2.0",
      "model_name": "LayoutModel",
      "state": {}
     },
     "85a7bd45f722432fb08fb89f21fb66e0": {
      "model_module": "@jupyter-widgets/controls",
      "model_module_version": "1.5.0",
      "model_name": "HTMLMathModel",
      "state": {
       "description": "Some HTML",
       "layout": "IPY_MODEL_446e07a046f14ce0afc245c4aec3665c",
       "placeholder": "Some HTML",
       "style": "IPY_MODEL_83a5ab8cae2342919c1af81ae494b9dd",
       "value": "Some math and <i>HTML</i>: \\(x^2\\) and $$\\frac{x+1}{x-1}$$"
      }
     },
     "85dc0683217f496f9c20d3b012502545": {
      "model_module": "@jupyter-widgets/base",
      "model_module_version": "1.2.0",
      "model_name": "LayoutModel",
      "state": {}
     },
     "86135b0edb9e4e3393fddede764967e2": {
      "model_module": "@jupyter-widgets/controls",
      "model_module_version": "1.5.0",
      "model_name": "TabModel",
      "state": {
       "_titles": {
        "0": "An accordion",
        "1": "Copy of the accordion"
       },
       "children": [
        "IPY_MODEL_cfa929e8922c4627a934477cc8e6bafa",
        "IPY_MODEL_cfa929e8922c4627a934477cc8e6bafa"
       ],
       "layout": "IPY_MODEL_c89e4d417773439a9a366dd4397609db"
      }
     },
     "861d41926e134b6a930b87d9fc3f9a4f": {
      "model_module": "@jupyter-widgets/controls",
      "model_module_version": "1.5.0",
      "model_name": "SliderStyleModel",
      "state": {
       "description_width": ""
      }
     },
     "863a5bac5c3048cc92b896176b0d6d74": {
      "model_module": "@jupyter-widgets/controls",
      "model_module_version": "1.5.0",
      "model_name": "DescriptionStyleModel",
      "state": {
       "description_width": ""
      }
     },
     "86742040862d4c76859ee88d427c6b83": {
      "model_module": "@jupyter-widgets/base",
      "model_module_version": "1.2.0",
      "model_name": "LayoutModel",
      "state": {}
     },
     "86c3daa971be48d7a23afb697b30abad": {
      "model_module": "@jupyter-widgets/base",
      "model_module_version": "1.2.0",
      "model_name": "LayoutModel",
      "state": {}
     },
     "86fa6d7278dd4358b35f51f1c914cadd": {
      "model_module": "@jupyter-widgets/base",
      "model_module_version": "1.2.0",
      "model_name": "LayoutModel",
      "state": {}
     },
     "87149998e08c48478f2a83427d8cdb5e": {
      "model_module": "@jupyter-widgets/controls",
      "model_module_version": "1.5.0",
      "model_name": "TextModel",
      "state": {
       "description": "String:",
       "layout": "IPY_MODEL_32100633b94b438b83c1165ef598cfb9",
       "placeholder": "Type something",
       "style": "IPY_MODEL_c0f8543e4dea4d00b1e18f92369f7661",
       "value": "Hello World"
      }
     },
     "87a4f3dae7b241da86faea65368fa1a2": {
      "model_module": "@jupyter-widgets/base",
      "model_module_version": "1.2.0",
      "model_name": "LayoutModel",
      "state": {}
     },
     "87a51af2bfc44bb7b542ab117a2aca55": {
      "model_module": "@jupyter-widgets/base",
      "model_module_version": "1.2.0",
      "model_name": "LayoutModel",
      "state": {}
     },
     "8896b60c8ee749409382adbe92330671": {
      "model_module": "@jupyter-widgets/controls",
      "model_module_version": "1.5.0",
      "model_name": "DescriptionStyleModel",
      "state": {
       "description_width": ""
      }
     },
     "89332fb15c8949e8a7822517ca35e0c4": {
      "buffers": [
       {
        "data": "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",
        "encoding": "base64",
        "path": [
         "value"
        ]
       }
      ],
      "model_module": "@jupyter-widgets/controls",
      "model_module_version": "1.5.0",
      "model_name": "ImageModel",
      "state": {
       "height": "400",
       "layout": "IPY_MODEL_4b7aa86ab2c2433b92c6ea6415e3366e",
       "width": "300"
      }
     },
     "896223c8283a49469a91d390f1f5f01b": {
      "model_module": "@jupyter-widgets/controls",
      "model_module_version": "1.5.0",
      "model_name": "TextModel",
      "state": {
       "description": "P0",
       "layout": "IPY_MODEL_b9e6e448a6144d8085ced95610c01ed3",
       "style": "IPY_MODEL_a12643ad48474683b58451abc6124e3a"
      }
     },
     "896e1b69746e49c38ff18b95c8c27aca": {
      "model_module": "@jupyter-widgets/controls",
      "model_module_version": "1.5.0",
      "model_name": "DescriptionStyleModel",
      "state": {
       "description_width": ""
      }
     },
     "8987350a12b44a61944d99bcf8d52c68": {
      "model_module": "@jupyter-widgets/controls",
      "model_module_version": "1.5.0",
      "model_name": "SliderStyleModel",
      "state": {
       "description_width": ""
      }
     },
     "8a47787d7a17499c8447fdf60f9fa018": {
      "model_module": "@jupyter-widgets/base",
      "model_module_version": "1.2.0",
      "model_name": "LayoutModel",
      "state": {}
     },
     "8aad0bbd98714119a78363369011675c": {
      "model_module": "@jupyter-widgets/base",
      "model_module_version": "1.2.0",
      "model_name": "LayoutModel",
      "state": {}
     },
     "8af85760a61449dcb09747e9f3709196": {
      "model_module": "@jupyter-widgets/controls",
      "model_module_version": "1.5.0",
      "model_name": "DatePickerModel",
      "state": {
       "description": "Pick a Date",
       "disabled": false,
       "layout": "IPY_MODEL_f1eda5a6dada4c2b8bd1eb334b99e597",
       "style": "IPY_MODEL_92a722893aad4234a74cf116b2c3062a"
      }
     },
     "8b3cd94a832d47ba9be2bb6af674f583": {
      "model_module": "@jupyter-widgets/base",
      "model_module_version": "1.2.0",
      "model_name": "LayoutModel",
      "state": {}
     },
     "8b78c09a0a4f4a7aa9b8238cb5f13a50": {
      "model_module": "@jupyter-widgets/controls",
      "model_module_version": "1.5.0",
      "model_name": "LabelModel",
      "state": {
       "layout": "IPY_MODEL_e1c6d630c3a9477a9b798a39753b80e2",
       "style": "IPY_MODEL_9953107262594c559abd225fd35b92b7",
       "value": "1"
      }
     },
     "8bda909d65e74ec08da7aaae98acfbfa": {
      "model_module": "@jupyter-widgets/controls",
      "model_module_version": "1.5.0",
      "model_name": "VBoxModel",
      "state": {
       "children": [
        "IPY_MODEL_e6d42824d3a340eb9fe875e57628d487",
        "IPY_MODEL_aa31e727bfab45e59cd13743c367a849"
       ],
       "layout": "IPY_MODEL_355008543f04442791c38950dfa72444"
      }
     },
     "8c3be5b6b5ec4a918bd8b674bfef501b": {
      "model_module": "@jupyter-widgets/controls",
      "model_module_version": "1.5.0",
      "model_name": "VBoxModel",
      "state": {
       "children": [
        "IPY_MODEL_21bad7923fe640df8745ab1eb60d1ef1",
        "IPY_MODEL_413b6fc97079450694a6bdcdd28458aa"
       ],
       "layout": "IPY_MODEL_ebd66356a4bd41bcb08bbb71c6778c33"
      }
     },
     "8c592b3388bc4f2e977b8b6a0a63f95b": {
      "model_module": "@jupyter-widgets/output",
      "model_module_version": "1.0.0",
      "model_name": "OutputModel",
      "state": {
       "layout": "IPY_MODEL_c78d6504e9f9436eb61bbabf60f54d59",
       "outputs": [
        {
         "name": "stdout",
         "output_type": "stream",
         "text": "Output appended with append_stdout"
        },
        {
         "data": {
          "image/jpeg": {},
          "text/html": "\n        <iframe\n            width=\"400\"\n            height=\"300\"\n            src=\"https://www.youtube.com/embed/eWzY2nGfkXk\"\n            frameborder=\"0\"\n            allowfullscreen\n        ></iframe>\n        ",
          "text/plain": "<IPython.lib.display.YouTubeVideo at 0x11025f510>"
         },
         "metadata": {},
         "output_type": "display_data"
        }
       ]
      }
     },
     "8c621c06afbd4cd6895e21a05b6cee2f": {
      "model_module": "@jupyter-widgets/controls",
      "model_module_version": "1.5.0",
      "model_name": "SelectMultipleModel",
      "state": {
       "_options_labels": [
        "Apples",
        "Oranges",
        "Pears"
       ],
       "description": "Fruits",
       "index": [
        1
       ],
       "layout": "IPY_MODEL_2a762751e8d84c2e8e1205ab82537ab6",
       "rows": 5,
       "style": "IPY_MODEL_943c4c5c383446e6a2b1a0dbc0f8005a"
      }
     },
     "8c84f555cc3e4b3990d3f8f3f9dc1f17": {
      "model_module": "@jupyter-widgets/base",
      "model_module_version": "1.2.0",
      "model_name": "LayoutModel",
      "state": {}
     },
     "8cb9b7f8cd9a46cf86fb468a13fbefa6": {
      "model_module": "@jupyter-widgets/base",
      "model_module_version": "1.2.0",
      "model_name": "LayoutModel",
      "state": {
       "border": "1px solid black"
      }
     },
     "8d08c42be0fa42adaeb2e23755fc489c": {
      "model_module": "@jupyter-widgets/controls",
      "model_module_version": "1.5.0",
      "model_name": "TextModel",
      "state": {
       "description": "P2",
       "layout": "IPY_MODEL_da7b15785164468795bb99f470aa12d6",
       "style": "IPY_MODEL_bb51655241cb418dbd8c8e4c525e29ad"
      }
     },
     "8d19ce58b8444b5d9c5ed02bfb895d5a": {
      "model_module": "@jupyter-widgets/controls",
      "model_module_version": "1.5.0",
      "model_name": "IntProgressModel",
      "state": {
       "description": "Loading:",
       "layout": "IPY_MODEL_28e9ba1d9e544899bbd560c218df2bd5",
       "max": 10,
       "style": "IPY_MODEL_453e071b425f4cc0962089e0f463af8e",
       "value": 7
      }
     },
     "8d4079b48d9443b6b6e57e7abf8802cf": {
      "model_module": "@jupyter-widgets/base",
      "model_module_version": "1.2.0",
      "model_name": "LayoutModel",
      "state": {}
     },
     "8d6ab17122854500a28fb0cf2a7165b7": {
      "model_module": "@jupyter-widgets/controls",
      "model_module_version": "1.5.0",
      "model_name": "DescriptionStyleModel",
      "state": {
       "description_width": ""
      }
     },
     "8da1c9244a1640f99173817acac726d0": {
      "model_module": "@jupyter-widgets/controls",
      "model_module_version": "1.5.0",
      "model_name": "BoundedIntTextModel",
      "state": {
       "description": "Text:",
       "layout": "IPY_MODEL_f45cb407d27b433e87063971fab58354",
       "max": 10,
       "style": "IPY_MODEL_1a6c6dad47304ea3b7b26137172c94ba",
       "value": 7
      }
     },
     "8decfdd296514ba5a6879d09e7a8da6e": {
      "model_module": "@jupyter-widgets/base",
      "model_module_version": "1.2.0",
      "model_name": "LayoutModel",
      "state": {}
     },
     "8e0245e4885440aeb7518df7a955f956": {
      "model_module": "@jupyter-widgets/base",
      "model_module_version": "1.2.0",
      "model_name": "LayoutModel",
      "state": {}
     },
     "8e043f259426425f99a56b3dc6672d6b": {
      "model_module": "@jupyter-widgets/controls",
      "model_module_version": "1.5.0",
      "model_name": "SelectionRangeSliderModel",
      "state": {
       "_model_name": "SelectionRangeSliderModel",
       "_options_labels": [
        "Jan",
        "Feb",
        "Mar",
        "Apr",
        "May",
        "Jun",
        "Jul",
        "Aug",
        "Sep",
        "Oct",
        "Nov",
        "Dec"
       ],
       "_view_name": "SelectionRangeSliderView",
       "description": "Months (2015)",
       "index": [
        0,
        11
       ],
       "layout": "IPY_MODEL_318811d1979945dba762a8c2e2e01829",
       "style": "IPY_MODEL_4f0637f02e664b93b4a68d5396c89f1d"
      }
     },
     "8e6b3ddded044bfcbe3bfc8868438480": {
      "model_module": "@jupyter-widgets/controls",
      "model_module_version": "1.5.0",
      "model_name": "LabelModel",
      "state": {
       "layout": "IPY_MODEL_6c6898fa7dac4d808b0678326782415a",
       "style": "IPY_MODEL_98e3e139ffff4ead89c4d745529cc10c",
       "value": "1"
      }
     },
     "8ead03a4cc5e4898ab00e4c3addc824a": {
      "model_module": "@jupyter-widgets/controls",
      "model_module_version": "1.5.0",
      "model_name": "SliderStyleModel",
      "state": {
       "description_width": ""
      }
     },
     "8f04463410aa4c48b8d05a9684fcefef": {
      "model_module": "@jupyter-widgets/controls",
      "model_module_version": "1.5.0",
      "model_name": "TextModel",
      "state": {
       "description": "P1",
       "layout": "IPY_MODEL_784d3b55e4664991a3433766483cfd38",
       "style": "IPY_MODEL_3361567d343241409c1de5e3e7654493"
      }
     },
     "8fda6801d0a3490c889f18b38bc874ca": {
      "model_module": "@jupyter-widgets/base",
      "model_module_version": "1.2.0",
      "model_name": "LayoutModel",
      "state": {}
     },
     "8fe5fc528d59401f9669bec66ef1a280": {
      "model_module": "@jupyter-widgets/controls",
      "model_module_version": "1.5.0",
      "model_name": "DescriptionStyleModel",
      "state": {
       "description_width": ""
      }
     },
     "8fe71cf660204325b22522b750b422ce": {
      "model_module": "@jupyter-widgets/base",
      "model_module_version": "1.2.0",
      "model_name": "LayoutModel",
      "state": {}
     },
     "902073e36faf4bdc99450a63d503bd18": {
      "model_module": "@jupyter-widgets/controls",
      "model_module_version": "1.5.0",
      "model_name": "ProgressStyleModel",
      "state": {
       "description_width": ""
      }
     },
     "9082e1d2ea864c5fb754e6234b9a7e41": {
      "model_module": "@jupyter-widgets/base",
      "model_module_version": "1.2.0",
      "model_name": "LayoutModel",
      "state": {}
     },
     "908903d126434ef0b0e772156f7d31cd": {
      "model_module": "@jupyter-widgets/base",
      "model_module_version": "1.2.0",
      "model_name": "LayoutModel",
      "state": {}
     },
     "91094e23f0804893ad7516d6c198574f": {
      "model_module": "@jupyter-widgets/base",
      "model_module_version": "1.2.0",
      "model_name": "LayoutModel",
      "state": {}
     },
     "9154d5aee93841c58a888247b4bb623b": {
      "model_module": "@jupyter-widgets/base",
      "model_module_version": "1.2.0",
      "model_name": "LayoutModel",
      "state": {}
     },
     "919f499f85764acb916a052b10a9f9a5": {
      "model_module": "@jupyter-widgets/controls",
      "model_module_version": "1.5.0",
      "model_name": "HBoxModel",
      "state": {
       "children": [
        "IPY_MODEL_e0df2e92f9394416aaf25b6ccfdfa0ea",
        "IPY_MODEL_124b6ef5f6b64df6b74585af82b64471"
       ],
       "layout": "IPY_MODEL_bbbc258e9b9848e786c4b5879eacd90c"
      }
     },
     "9217c130631f4a37998632e3c5a051de": {
      "model_module": "@jupyter-widgets/controls",
      "model_module_version": "1.5.0",
      "model_name": "LabelModel",
      "state": {
       "layout": "IPY_MODEL_e0b0f6a844b94b538959e4f5b1de6afe",
       "style": "IPY_MODEL_10498468d4c545c59e6f4cba71b9a082",
       "value": "2"
      }
     },
     "92a722893aad4234a74cf116b2c3062a": {
      "model_module": "@jupyter-widgets/controls",
      "model_module_version": "1.5.0",
      "model_name": "DescriptionStyleModel",
      "state": {
       "description_width": ""
      }
     },
     "92d49fa312b64cd7aea6ce97eb654edc": {
      "model_module": "@jupyter-widgets/controls",
      "model_module_version": "1.5.0",
      "model_name": "DescriptionStyleModel",
      "state": {
       "description_width": ""
      }
     },
     "92da1c478c3b47d1927897e9028af200": {
      "model_module": "@jupyter-widgets/controls",
      "model_module_version": "1.5.0",
      "model_name": "TextModel",
      "state": {
       "description": "P0",
       "layout": "IPY_MODEL_01dc0d6c30ff48f88b6a07b1628ccaea",
       "style": "IPY_MODEL_425c3252b7b3402aa440eb24dae54abf"
      }
     },
     "92fc27bfbebc4f6fbf52a68ce398fd19": {
      "model_module": "@jupyter-widgets/controls",
      "model_module_version": "1.5.0",
      "model_name": "DescriptionStyleModel",
      "state": {
       "description_width": ""
      }
     },
     "9359d66997dc4341aaa759fcb51098f1": {
      "model_module": "@jupyter-widgets/base",
      "model_module_version": "1.2.0",
      "model_name": "LayoutModel",
      "state": {}
     },
     "939e6ae34a244b78b268bd3d196f5e61": {
      "model_module": "@jupyter-widgets/controls",
      "model_module_version": "1.5.0",
      "model_name": "ToggleButtonModel",
      "state": {
       "description": "Click me",
       "icon": "check",
       "layout": "IPY_MODEL_e6403ebe03d142ba83d7bb93f44084ed",
       "style": "IPY_MODEL_23e7196bd511416b94516ddab4fb2ab6",
       "tooltip": "Description"
      }
     },
     "943c4c5c383446e6a2b1a0dbc0f8005a": {
      "model_module": "@jupyter-widgets/controls",
      "model_module_version": "1.5.0",
      "model_name": "DescriptionStyleModel",
      "state": {
       "description_width": ""
      }
     },
     "944fb832e3834b79a903f30affa2eab0": {
      "model_module": "@jupyter-widgets/controls",
      "model_module_version": "1.5.0",
      "model_name": "ButtonModel",
      "state": {
       "description": "Click me",
       "icon": "check",
       "layout": "IPY_MODEL_1498d17836704e3a8bbbd93dc5d81d61",
       "style": "IPY_MODEL_d584365b9ad64905a7e2d91fb53f2403",
       "tooltip": "Click me"
      }
     },
     "945d5504bd5944fd83aea640910018d9": {
      "model_module": "@jupyter-widgets/base",
      "model_module_version": "1.2.0",
      "model_name": "LayoutModel",
      "state": {}
     },
     "96148630873b466fb406720933b53c62": {
      "model_module": "@jupyter-widgets/controls",
      "model_module_version": "1.5.0",
      "model_name": "DescriptionStyleModel",
      "state": {
       "description_width": ""
      }
     },
     "965f80dfa03b4bd5bc53f641a55dfe21": {
      "model_module": "@jupyter-widgets/controls",
      "model_module_version": "1.5.0",
      "model_name": "DescriptionStyleModel",
      "state": {
       "description_width": ""
      }
     },
     "9662c855f0ba42288ec1cdc0a6dd5d2f": {
      "model_module": "@jupyter-widgets/controls",
      "model_module_version": "1.5.0",
      "model_name": "DescriptionStyleModel",
      "state": {
       "description_width": ""
      }
     },
     "96bd392512d6449fba38a96b15fc0584": {
      "model_module": "@jupyter-widgets/controls",
      "model_module_version": "1.5.0",
      "model_name": "FloatSliderModel",
      "state": {
       "layout": "IPY_MODEL_72d73eeca2e940b2a3f651a074aff2c3",
       "step": 0.1,
       "style": "IPY_MODEL_a4efe41dfe5d4a0f8dfb25bc52eed7b6"
      }
     },
     "97074dc656104f65a8a4bb1264f90156": {
      "model_module": "@jupyter-widgets/base",
      "model_module_version": "1.2.0",
      "model_name": "LayoutModel",
      "state": {}
     },
     "9766fb35280b466a8ec1360c6c78569e": {
      "model_module": "@jupyter-widgets/controls",
      "model_module_version": "1.5.0",
      "model_name": "ToggleButtonModel",
      "state": {
       "description": "Click me",
       "icon": "check",
       "layout": "IPY_MODEL_1aef5d850d644ca48d9e4364c2be586e",
       "style": "IPY_MODEL_f2116d4e02f54115b9b2ce3d299ef967",
       "tooltip": "Description"
      }
     },
     "97984c60db55452fa77e975ec190ced3": {
      "model_module": "@jupyter-widgets/controls",
      "model_module_version": "1.5.0",
      "model_name": "DescriptionStyleModel",
      "state": {
       "description_width": ""
      }
     },
     "97d63f9e68114ac6b7ce61fa9a580726": {
      "model_module": "@jupyter-widgets/controls",
      "model_module_version": "1.5.0",
      "model_name": "DescriptionStyleModel",
      "state": {
       "description_width": ""
      }
     },
     "98000a12a1aa4213860b1b2469d46bd5": {
      "model_module": "@jupyter-widgets/controls",
      "model_module_version": "1.5.0",
      "model_name": "LabelModel",
      "state": {
       "layout": "IPY_MODEL_534ab4c354804c02b608bf5887e91f72",
       "style": "IPY_MODEL_6448c40c06904dacb5d5525263dd2d55",
       "value": "The $m$ in $E=mc^2$:"
      }
     },
     "9815d00f47e9419bbe792946fb733960": {
      "model_module": "@jupyter-widgets/base",
      "model_module_version": "1.2.0",
      "model_name": "LayoutModel",
      "state": {
       "border": "1px solid black"
      }
     },
     "9840f4ccacad4e7baccc4ec4170eec7f": {
      "model_module": "@jupyter-widgets/base",
      "model_module_version": "1.2.0",
      "model_name": "LayoutModel",
      "state": {}
     },
     "987bfeca12b441d7bcafb5c5ae828e25": {
      "buffers": [
       {
        "data": "R0lGODlhHgEeAcQfAGON/+rq6sfHxwAAAKBIAKampgBE/4aGhm4yAGVlZUZGRk5bfmJznycpLgAifz8cADRq/3md/w0PEhdV/09+//9zAJ64/36Sy8daAO9rAJOt9N9kAB8OADZAWYqh3////yH5BAEAAB8ALAAAAAAeAR4BAAX/4CeOZGmeaKqubOu+qCAXR30oeK4n9lHIAZhwSCwaj8ikclkU0BKKxmBKrVqvWCquJmN6v+CweMx03qTZtHp9bSh8QbJ8Tq/bTYEClM3v+6cSbwVxd4WGh4glAmd/jY59DQmDiZSVlkh5CWiPnJ1rkQWXoqOkHwE3nqmqa4GTpa+wY6ebq7W2Vwqusbu8QrO3wMG4ur3FxiIFCsLLzIAJAsfRsAEJEs3XzQ0HhNLdh8nY4djP3uV0v+Lp17nm7V+n1ury1w2h7vdF1PP74RLb+ABZ6ONHEJs/bgETDizI8Jq/hAoPxGtIMZs9iO0KTKzIkVkDaBi7CaDVseQyBQhD/8ZaaLLlsocqd0lsyeEBAgQEMGyo8ODRAgsXLjBY0KHBRo4fY5YSoIyjzZwVokqV2tPRTwtYs2IVuoAkwwQplR46QPHpzqlop1ZtdFWr26xCizaUcFGsoZEFbWJIyzft2j9t3wrGqmHoUXko7RYiyw9nhr6Q0f71E3iwZQseGHTgR1fxuabqOOCMTFqyz8uotRbePA+s5zEa5Y0uTZvq6dS4CWuWl/S1F5bYHhCoTdy21dzIdR9m1tm3kgBemSE4W7z45D6Vk+O+wDqca+dGYgcfXr08z9vatWtYsDxYb/BCGF97sNe8+et8sqdHzqD9rebwtRAAaNJRZ195+LGh3/9+yF0QHTAHBCjQg7ZMd+CFCa6xIIMNUlhLAhKmIIB/q1h4IYboccihg9mEFaB4wtB34owZqrGhisn15xFIIX5QADMckDfjiTWmcSOOybH3Eo8ByhcMAkNGWWQWRyKJnAbdASMBk84lsMwDBkaJ4nFWlnkBiZ7U9ZqXwggpJo0plonkAsuoaRebwCDw2JtSxiknjiwGY2dMeN5SH599kvmnnAwIMyhGhdbywJ6IJsrWoosGesujAUW6ipuVDjklFlVimh6dwHB6j6epyBjqm6NeUaqp2um4aUisegLlq3zGasWstCbngYePqOqNk5/yiqivVQAbbHJZqrJlQD/awsH/ocqKySwVzj7L339cliPALZNmu6yf3lp5pi0SuHjMiBWaW+m2U3Sbbm7D2tKAu70EgOYfu8rbK7r3IqkBsX8oUA50toAqsKWAFUxrtJ6A2E2ujzj8sKgES4wkxZ0YWwqynmC7sbYde4xjo7WEG8u4tZh8MsSUqUwry9LyK4q/Mc88b8o2q4hzKgr3gnAfMvvMsaJBLzq0JxHugnEjSSsNJ9NN//l0Jy5fArMqVVtNJNBZc7j1I+2+wjPYYv+Mddlyokr0KwR2onHbV18Kt6kgOxK1KCRnjLfbeu+Nad+NdG3I2roOTnjEhmN6sCoNiFL3IwE7DivZke83eSp/JxJ4/yPlaj7w252r+y8bip+z+hqUmo4y6qkjeXYjlSdyuSNhy34gvQPYWztut/8R+h3VenK372MWPvyfiPeRdiGMc5I58zRj97zkr6dR9B1T81E69rM7v72ZqrQORgBsk7857ecLnUrudez+x/Lu2we88PGjFj0fxxvD1zjxgPydznz9M1j3sDA9ORxNDbEzYN4gl0BGpcJiZEgeJ/AnQQRxroJJSoXOMPHALBSwg+WjIAitpIEF4oIMo/NDBFHYPBWu0HapUJ8RqucIDtLQOh+8YW7+t4bvfSGG4vthCmsmxDK10BM6HAIPqabE7OWniRbshBGXgEQ2XK+KvwsiFlNTQv8sRPEFU/zDDMF4HzGO8TIX8MQWkaDBHrJxaQh8I4OIqIYRvqCMVuDAHfFoQz0yyAMVW0IdqTjIscHPkCHshB9ZYL8kNtKReYSkelxYhQAOYYC8uyQmC6nJU3VCAkkInxpOKMowPrKUuHkiJ0SmAvZ1onetLM3+YIkjuTlijjDo4ipzWUMm8pJBsnzEGU8AyCrgkpiR2eUxOeTLRmBQCKD8AyuZh4GbePOb4Ayn/tw4Ta0gkhOoJIIq0+BDsSGAE+N85WAiYIB62vOe+MRnBPrHxyzQ0gScnIIg3ffOR8Qzk6ihZz4Xms99xu+cjwDmChbphy/KrqCOOCgpU6NQhnr/1AAOjV8zqTDJEVSSDWs0HUYboVFjJqejH11oSM9XPDb8UwS2xJwBV/qHlmovPTCNqT4rGNAB0K8FFEXaTuHZRnkKJqhCtedMz1fNP5T0pGoYaP546gefXhGoUZVpBSHqtxfYTYJc7YNXFbQfqIZ1qucb6QAkaoKk8iFM2EsrH9aqobaGtaEgrOka/LhOLGyToEz1oFPf4taownV7GghZC+TazsHplQ18tZFf/3rPx26vn1e4Zgw6kVLfXXYNmTXSZjlbT88+T7BpSKcKhGlCFJ5WDaml0mpZ69rnFVV9WGWnbRNbHWlqp7FC7e3wQGsFT5KAtMM1aFMRehnkxlS5/7WDbRbo+oFs9uGwWyUuEBfrFut+FLupiywnZms9Gt42Dbkl1W45i97UyVVxwc3CM1UqXuIY96WslaoQtYsF536gEz98bxbiK6v5/rW+nYtjREf7CPDmjwAPyLCGN8xhDjP4V+X8U0BlWwLaYqGy0KzNf0OMI+ZWISyFvcJ+U6xicrJ4MAS+wqDkSuMl/vTGgOKEaEVAwB5bka1ARhIn5uhdPljUyIqlbpJzM1ISI4MTM4ZyNG08Za1UtQ8IMfEVSqvlGpO3y4LJsRW4lN8raLXMH24WmjlEVuOVYKQWhrN/uTxnCwi5BO3Vc5y51WcGjdSITWYDigVtmjMXOisuBv8ECRK9hiwzWi18nvOX+UACMVvh0tPd6KPhyAkeeboKoI6yqEc9GAk7gkdttkKeUw2ZFbM6NZz4W6yrMGta88XWt75MQP820if7+teZnvNIMRjoY+sy2Wg+9Aiw7GzaADvYg9l0Eaf9CEvT+trYfou21fA9alebNOAOt1bUXAVuZ/Tc6IZ2l13dCHezFN5bdjSr6f0He/cU37WW95T57Qd/dxXgfUm3urfCiThUGOEJF/iUS01kR/Qa38CTwAUWjhqKH9jiEEc22jbO8cF4/OEhb/TISy6Yk4M85Zg+JclZnhWXkw7mMZc5zWuuzIrfHOdRAZ4VNL5zP/f84z8HutD/hz7zkttcm0APei2IzvKn++Hi8Faw9Jqubqv34c041zofqK5ugvcBJP2FudjZQHZsm53TPr931KOydlZwfd/rjfu/5053dt390W9ng8H7gFeg110NbR81u6kweD54+9yHj+3fNf0I+pmb71KJfBYS3+dxe6/xisY8WjTPwMlPOdJzHUGxRT96v4962SbVKeunQvorcH7Kw479y2efedf3OdcjOLVAed/6qZu+nHX2g6nTPvvaMx3NgV8Dj+xaaeIXfxW3L+fipzDpy1u/78afsufTAGjZf7/34QeytEkQUGPz3vlVyD4sA7rFXVMB66yHPxXkD0n1lpUEMfZp55cW//oHCMenR9GnBmoifFPweFFXgAPAf280flnAJZSmBouGeRAogViEegOAB802gNcnLQfYRAF1VKr3CGAnguiHfSW4QsnXB0P2AfZHBYXHghv4ghW0fQPgSQw4ABmYf75nSB7oMheYBu4ngjkISUWVApywgixIe0OIRTHIB3QlVzcYhRWwhGPEgzMoAgFYBUH4flN4Qx7IKdQ3TFoIGVwoREXlLjn1bmuYFhuwdKU3YJyAgiZAWXM4FRsAgfung51DgVjwhSMQhlSQhNbXTcLAgcNTVMaShrilhd3EAS8hiBHWCS1wVue3AQSAAJbIHJg4iEvWAjU4BYoIahiwiqzYiv+r+IkIkGHi4Ii+BXwsIIlpQGapZoeNOIqdw4MD4Edx2AhjCGW8qCW+2DkeqIcpIFf4x2jHWIY3lEzW9AI/OABZuIsVQYvbA4zLNIwAA3DRSDkaYEhyxYwqIFcDII4N0QDliICdYIgocI3FSGPj2An8UzseOADLhFOd8Ixwdo+OIAEMoEn+5wjouAKn2IDwJpB/0ADJ+DyEWGBEgItZkIqhAhWa45A/ViYAAGGYUlTBWAQimY2vQgAM6Tgc+QkRaRkA0FpBA4zctQKImIgng5JU4IChspKbV5CL8pICpjIieVMg2AkmySc46UyDw5Oy8o5/ApSd5THAmJAusJADgJH/Q5KUVqCTB8QMHeABpgKVQ1UwImlgLmCRWXCUWakGXOlj7LIAYBmW53UvwDiSSKCOWHkgWqlfYrOSBOmUmCKWDAWSDCKS8miNnqCWeqlUSiOQErAALZkbgulRhFkrUPQcIgmQ5bGX1ecz0dgAkHkvkzmXpkKNjTCTMFCTOVkpnMkGbVlMD7kADACY3jKa12UqE4kFRLkC4Ah1SLlBM6NwtAIBAQaTf+IBIkmV6qQ8b9KaflCPriRlkkOcxWmcZbKPA7CbApEKukgczhmODyOcf6IBE1CdUakunqCcRaCaqLiWqzA+2SKeZWJe9GUl6pidYdCbf/CaGAAMr7ln+sYg/7ZpnrRpSp2gnkbAngOgmX0BiEBoLvKpIhpAneaZTwCAI8iZJrKQCnnZoMAAn4/jUqYSAeVZoRaKJPeJoEegoAPwnw76oK8SoftBASa6UBe6Mqmgnb4gkgs6JC8KJjspceVVojV6TzeqIhmqRXRwje05Iy8Ko10poixEoUVqT0eqIvfJj3WQpf+5hcJwLVHakVZCo1WKT1dKTRdkB2iZBRzQnbTxpAuqmNYmcQBApGVaT2fKIAnIdiWlBFY5BQzKhgVCSFLaVlR6pwaQp57Doz1IPaoAnVIoHa8po4IBAIeKqIq6H9hpVGPRPk46H/VIqVmhAXWKqCdqJXU5Bf3IBP8M4wltGiXfaS0mMl7SyViXaqoghT5zgwhHyAaBChmxSi4E4KZSR14aQAF2iqtBiSRJekp9CgZ/2qRD0p/pIBzdKZzHmqzKWk8TUKDIlKX4SQlpRIxiggFMaUIIEDbXRqrIuq0MBQHeukeqgJp0sKbCFSUZcK6rhBPY8l8RYKna6q73RAF/kpub96xjwKIpGSVwqk02EYqN0AEUAAEBK7CAlUU5OgqtmgpyShvU6hJs4AAWG1XdqjWrQK930Ku+Sqy1ka8guwYiO7IfRbB/si7zg7BzwKT3x7K1EawuEbMym08TUJmoYbM5FAvRCqg8Sxt1+LJYALRBa08UEK8rwqj/U2CWlTCupLO0tOGzHQG1QTu0mGK0ctQLKruyiNK0TjsFYDuyUzu2VhuBOLsYksK1HguxINu27gqvpkK2l2kMSau0Gem0eourYtu3cduox7CxrWK3tJEBDasKhXunE5CpqvMhIpG4YBoqf9gSk1ulb3sz+jK3lHC2jscrnfu1yjoBoSu6U0e6lWCvawCppQG5HPG51Vm56bKp8beqpaCwVdCh9oFhDYG7rAUBRKsevFsFOvq7t6An5sKIBGG8JNu6z5IvttC8dEMuHXshGUC880C9H4W8EuO3oKMQ4GoFtFsc36uvViC++QQBlksrBssGh+kNjFsiJ/O9oIgN8GsA/6ybvBKavlVwvwtDwPfXveUKvsJgvBMgv1TrLeabpjGRv8liNZ4Yi7egtw9MAREQwfdSv/ZrFxasCiCqNBmAAZ8oi5wgshAAARTwkRGGwFRgwPhQwo/KPKJaMCI8wq+Bw40rOzsswTRcw+ABxKmwvu9TqxKzHstgwxiBxJ7gKngzxKZiK8EAxSEBHM/ruGH6VXCjKcGAtZ4BvEjYNlbsRMubBtqLETq7BkFiNWmMI+uRuAzku2IBI1+qxKpWqOlSx9mAx3YBL80Qxxszx+kByC3SI7VUxFhgyPKCyFeiJNegxRJixl7kxbS6anLiAWtsU4z8AnrcDOmqLJJ8GQzgyP9Z8B6h3AJ4IQ7WGqQBihseQMnhkBitDANcfA2zscScnMipLA9knMsoMMrh0MsT5MfA/Ml+wMrE7Auq7GTDOkrKjC+7sQ/f8cxG8MZTrJF9LKb80RUEASDafASvnBfePKfGOhTRnDCwW84lZsetwq/x9kgaEBfynJ5tDM8nMCAmURP82q8pEhQL0BX5vArZzM9eYMwmwcID2QDtbAsKIMgKLSDcvLYgS84VLQb+jNEe7Qf/sNF0cM4fXdJWkNAiXa8RbdInQdEpTUcrzdK1MNEvHbsxLdNL5tI1vdA3jdN9QNM7TQrg4NMEQQ5BDQsCgMlEPXYhfdS7gA5LfRL77NR1haAHUf0fKE3Vi1sAPQ2y7KDV9wDVV22FxADWN3wAXc0PufDOZs0LmXDQBAEKbe0cixC4+9AKbD3X7lDXaV15kpDXeg0RecAI7cgDOh3YdE0DOADXVeAGPPADiK3XM1ADUIADR7MDXCAAgB3ZnN3Znv3ZdhACADs=",
        "encoding": "base64",
        "path": [
         "value"
        ]
       }
      ],
      "model_module": "@jupyter-widgets/controls",
      "model_module_version": "1.5.0",
      "model_name": "ImageModel",
      "state": {
       "format": "gif",
       "height": "128",
       "layout": "IPY_MODEL_0d76779539b444cd8ce31e81dad0a587",
       "width": "128"
      }
     },
     "98dccfd0ea954bd4b24e0c24f183be55": {
      "model_module": "@jupyter-widgets/controls",
      "model_module_version": "1.5.0",
      "model_name": "IntSliderModel",
      "state": {
       "layout": "IPY_MODEL_f0f7583e5f414878b628ff5ac470cd21",
       "style": "IPY_MODEL_37e5de05fd474f0aa807963b7a033a8f",
       "value": 50
      }
     },
     "98e3e139ffff4ead89c4d745529cc10c": {
      "model_module": "@jupyter-widgets/controls",
      "model_module_version": "1.5.0",
      "model_name": "DescriptionStyleModel",
      "state": {
       "description_width": ""
      }
     },
     "992c5bc5f17c4629ad9ffa7ce5ee64f0": {
      "model_module": "@jupyter-widgets/controls",
      "model_module_version": "1.5.0",
      "model_name": "HTMLModel",
      "state": {
       "description": "Some HTML",
       "layout": "IPY_MODEL_ea02b15e97b044f085521788a6765e1f",
       "placeholder": "Some HTML",
       "style": "IPY_MODEL_ad5f82dfb87e47dcaf35b46cc7e13104",
       "value": "Hello <b>World</b>"
      }
     },
     "9953107262594c559abd225fd35b92b7": {
      "model_module": "@jupyter-widgets/controls",
      "model_module_version": "1.5.0",
      "model_name": "DescriptionStyleModel",
      "state": {
       "description_width": ""
      }
     },
     "9a788310fa7e49ae9b11656a60453a5e": {
      "model_module": "@jupyter-widgets/base",
      "model_module_version": "1.2.0",
      "model_name": "LayoutModel",
      "state": {}
     },
     "9a8529942ca14ab898043ee293364b38": {
      "model_module": "@jupyter-widgets/base",
      "model_module_version": "1.2.0",
      "model_name": "LayoutModel",
      "state": {}
     },
     "9a9cd162abb9495886a01ab0a8000344": {
      "model_module": "@jupyter-widgets/base",
      "model_module_version": "1.2.0",
      "model_name": "LayoutModel",
      "state": {}
     },
     "9b08dbb3cf3c482ab709e00e035abfb5": {
      "model_module": "@jupyter-widgets/controls",
      "model_module_version": "1.5.0",
      "model_name": "LabelModel",
      "state": {
       "layout": "IPY_MODEL_57feaba8913e4e06ae1daf43a301d129",
       "style": "IPY_MODEL_fa09b1f0f6df4fcdaac3d629c5e93eac",
       "value": "2"
      }
     },
     "9babd111bf6f452ca737160131fca7c2": {
      "model_module": "@jupyter-widgets/controls",
      "model_module_version": "1.5.0",
      "model_name": "DescriptionStyleModel",
      "state": {
       "description_width": ""
      }
     },
     "9bc5a565c2a644bf9d4cf24f4b65d228": {
      "model_module": "@jupyter-widgets/controls",
      "model_module_version": "1.5.0",
      "model_name": "SliderStyleModel",
      "state": {
       "description_width": ""
      }
     },
     "9c048731d34747b397d40d0768cda66b": {
      "model_module": "@jupyter-widgets/controls",
      "model_module_version": "1.5.0",
      "model_name": "DescriptionStyleModel",
      "state": {
       "description_width": ""
      }
     },
     "9c055f6a9f8b41828d8e6a72023d7668": {
      "model_module": "@jupyter-widgets/base",
      "model_module_version": "1.2.0",
      "model_name": "LayoutModel",
      "state": {}
     },
     "9c0b58d87afd4f3cb1594eca66792832": {
      "model_module": "@jupyter-widgets/base",
      "model_module_version": "1.2.0",
      "model_name": "LayoutModel",
      "state": {}
     },
     "9c505a75d4ad413891be8abb6c6e5ffc": {
      "model_module": "@jupyter-widgets/controls",
      "model_module_version": "1.5.0",
      "model_name": "TextModel",
      "state": {
       "description": "String:",
       "layout": "IPY_MODEL_07cee7ff79df4e70ab245c7a6cb4a0f8",
       "placeholder": "Type something",
       "style": "IPY_MODEL_c705c1ca119a4496aa636f34bc58091c",
       "value": "Hello World"
      }
     },
     "9ca6f9b70f1c4b85ab5a10eb40a15b63": {
      "model_module": "@jupyter-widgets/controls",
      "model_module_version": "1.5.0",
      "model_name": "ToggleButtonsStyleModel",
      "state": {
       "button_width": "",
       "description_width": ""
      }
     },
     "9caa4a96cd4f44758870856108e703ac": {
      "model_module": "@jupyter-widgets/base",
      "model_module_version": "1.2.0",
      "model_name": "LayoutModel",
      "state": {}
     },
     "9cc5cfccacb64a97b03ec3f5fa42173e": {
      "model_module": "@jupyter-widgets/controls",
      "model_module_version": "1.5.0",
      "model_name": "TextModel",
      "state": {
       "description": "P3",
       "layout": "IPY_MODEL_27c9d9953391496fad5dfa2351ab2f5e",
       "style": "IPY_MODEL_0e93b410ac6f40f5a3e467859b0407a5"
      }
     },
     "9d1434f3897040ef93dc66da0a923f6c": {
      "model_module": "@jupyter-widgets/controls",
      "model_module_version": "1.5.0",
      "model_name": "ControllerModel",
      "state": {
       "layout": "IPY_MODEL_5a5675e9053d4cfb92ff65677a5db755"
      }
     },
     "9d8ad7b03265486a9dfe0bb4e39cc710": {
      "model_module": "@jupyter-widgets/controls",
      "model_module_version": "1.5.0",
      "model_name": "DropdownModel",
      "state": {
       "_options_labels": [
        "1",
        "2",
        "3"
       ],
       "description": "Number:",
       "index": 1,
       "layout": "IPY_MODEL_7218fa90b6a6439e9ad87820e20a9df9",
       "style": "IPY_MODEL_4c3fe20df01a4653a02f85d68b00fbff"
      }
     },
     "9d8e4617067746e9a3c715fca1e7dea6": {
      "model_module": "@jupyter-widgets/base",
      "model_module_version": "1.2.0",
      "model_name": "LayoutModel",
      "state": {}
     },
     "9dd61a4469ff49f69c8cd6cc9c7e7a90": {
      "model_module": "@jupyter-widgets/base",
      "model_module_version": "1.2.0",
      "model_name": "LayoutModel",
      "state": {}
     },
     "9e9eeb4cc6b647128e8f16affec76807": {
      "model_module": "@jupyter-widgets/controls",
      "model_module_version": "1.5.0",
      "model_name": "TextModel",
      "state": {
       "description": "String:",
       "layout": "IPY_MODEL_da6ed31102f8462fa6818c589ef1990c",
       "placeholder": "Type something",
       "style": "IPY_MODEL_d39dd364dbb948f3bbb5fa57f6cba68c",
       "value": "Hello World"
      }
     },
     "9ec3154474d54b54bb23c3c8e47e3c94": {
      "model_module": "@jupyter-widgets/controls",
      "model_module_version": "1.5.0",
      "model_name": "ControllerModel",
      "state": {
       "layout": "IPY_MODEL_81ffcc14ecce4be4aaa1c92f05575792"
      }
     },
     "9edd9c0048474360b0b2694f934cb6e1": {
      "model_module": "@jupyter-widgets/base",
      "model_module_version": "1.2.0",
      "model_name": "LayoutModel",
      "state": {}
     },
     "9eeddf76281745d188de508b1ccafb5f": {
      "model_module": "@jupyter-widgets/base",
      "model_module_version": "1.2.0",
      "model_name": "LayoutModel",
      "state": {}
     },
     "9f315d5eb7194ced809a810175b1b82c": {
      "model_module": "@jupyter-widgets/base",
      "model_module_version": "1.2.0",
      "model_name": "LayoutModel",
      "state": {}
     },
     "9f8701bfad04464ab1c8031185fadb59": {
      "model_module": "@jupyter-widgets/controls",
      "model_module_version": "1.5.0",
      "model_name": "DescriptionStyleModel",
      "state": {
       "description_width": ""
      }
     },
     "9f95b44eaeb44422a4ec473c4bb95d99": {
      "model_module": "@jupyter-widgets/base",
      "model_module_version": "1.2.0",
      "model_name": "LayoutModel",
      "state": {}
     },
     "9f9fee0272f2460e9d233b0ab1a9a6e0": {
      "model_module": "@jupyter-widgets/controls",
      "model_module_version": "1.5.0",
      "model_name": "VBoxModel",
      "state": {
       "children": [
        "IPY_MODEL_bef434b0effb4d7d8411f4e3e0264e03",
        "IPY_MODEL_ccb51838a4724b8f9a1439b3f7ce73f7"
       ],
       "layout": "IPY_MODEL_c25f1b0c33dc439a80ea319940169b25"
      }
     },
     "9fbb92cb985d422da2da88a7852e876e": {
      "model_module": "@jupyter-widgets/controls",
      "model_module_version": "1.5.0",
      "model_name": "DescriptionStyleModel",
      "state": {
       "description_width": ""
      }
     },
     "9fdc473aed984bfe828fb43f498f03df": {
      "model_module": "@jupyter-widgets/base",
      "model_module_version": "1.2.0",
      "model_name": "LayoutModel",
      "state": {}
     },
     "a00fa875024349e6bef46e9328083eaa": {
      "model_module": "@jupyter-widgets/controls",
      "model_module_version": "1.5.0",
      "model_name": "DescriptionStyleModel",
      "state": {
       "description_width": ""
      }
     },
     "a014a8802b444e89851299923e35e695": {
      "model_module": "@jupyter-widgets/base",
      "model_module_version": "1.2.0",
      "model_name": "LayoutModel",
      "state": {}
     },
     "a0490d063da341d6ad2594f55c9baa4c": {
      "buffers": [
       {
        "data": "R0lGODlhHgEeAcQfAGON/+rq6sfHxwAAAKBIAKampgBE/4aGhm4yAGVlZUZGRk5bfmJznycpLgAifz8cADRq/3md/w0PEhdV/09+//9zAJ64/36Sy8daAO9rAJOt9N9kAB8OADZAWYqh3////yH5BAEAAB8ALAAAAAAeAR4BAAX/4CeOZGmeaKqubOu+qCAXR30oeK4n9lHIAZhwSCwaj8ikclkU0BKKxmBKrVqvWCquJmN6v+CweMx03qTZtHp9bSh8QbJ8Tq/bTYEClM3v+6cSbwVxd4WGh4glAmd/jY59DQmDiZSVlkh5CWiPnJ1rkQWXoqOkHwE3nqmqa4GTpa+wY6ebq7W2Vwqusbu8QrO3wMG4ur3FxiIFCsLLzIAJAsfRsAEJEs3XzQ0HhNLdh8nY4djP3uV0v+Lp17nm7V+n1ury1w2h7vdF1PP74RLb+ABZ6ONHEJs/bgETDizI8Jq/hAoPxGtIMZs9iO0KTKzIkVkDaBi7CaDVseQyBQhD/8ZaaLLlsocqd0lsyeEBAgQEMGyo8ODRAgsXLjBY0KHBRo4fY5YSoIyjzZwVokqV2tPRTwtYs2IVuoAkwwQplR46QPHpzqlop1ZtdFWr26xCizaUcFGsoZEFbWJIyzft2j9t3wrGqmHoUXko7RYiyw9nhr6Q0f71E3iwZQseGHTgR1fxuabqOOCMTFqyz8uotRbePA+s5zEa5Y0uTZvq6dS4CWuWl/S1F5bYHhCoTdy21dzIdR9m1tm3kgBemSE4W7z45D6Vk+O+wDqca+dGYgcfXr08z9vatWtYsDxYb/BCGF97sNe8+et8sqdHzqD9rebwtRAAaNJRZ195+LGh3/9+yF0QHTAHBCjQg7ZMd+CFCa6xIIMNUlhLAhKmIIB/q1h4IYboccihg9mEFaB4wtB34owZqrGhisn15xFIIX5QADMckDfjiTWmcSOOybH3Eo8ByhcMAkNGWWQWRyKJnAbdASMBk84lsMwDBkaJ4nFWlnkBiZ7U9ZqXwggpJo0plonkAsuoaRebwCDw2JtSxiknjiwGY2dMeN5SH599kvmnnAwIMyhGhdbywJ6IJsrWoosGesujAUW6ipuVDjklFlVimh6dwHB6j6epyBjqm6NeUaqp2um4aUisegLlq3zGasWstCbngYePqOqNk5/yiqivVQAbbHJZqrJlQD/awsH/ocqKySwVzj7L339cliPALZNmu6yf3lp5pi0SuHjMiBWaW+m2U3Sbbm7D2tKAu70EgOYfu8rbK7r3IqkBsX8oUA50toAqsKWAFUxrtJ6A2E2ujzj8sKgES4wkxZ0YWwqynmC7sbYde4xjo7WEG8u4tZh8MsSUqUwry9LyK4q/Mc88b8o2q4hzKgr3gnAfMvvMsaJBLzq0JxHugnEjSSsNJ9NN//l0Jy5fArMqVVtNJNBZc7j1I+2+wjPYYv+Mddlyokr0KwR2onHbV18Kt6kgOxK1KCRnjLfbeu+Nad+NdG3I2roOTnjEhmN6sCoNiFL3IwE7DivZke83eSp/JxJ4/yPlaj7w252r+y8bip+z+hqUmo4y6qkjeXYjlSdyuSNhy34gvQPYWztut/8R+h3VenK372MWPvyfiPeRdiGMc5I58zRj97zkr6dR9B1T81E69rM7v72ZqrQORgBsk7857ecLnUrudez+x/Lu2we88PGjFj0fxxvD1zjxgPydznz9M1j3sDA9ORxNDbEzYN4gl0BGpcJiZEgeJ/AnQQRxroJJSoXOMPHALBSwg+WjIAitpIEF4oIMo/NDBFHYPBWu0HapUJ8RqucIDtLQOh+8YW7+t4bvfSGG4vthCmsmxDK10BM6HAIPqabE7OWniRbshBGXgEQ2XK+KvwsiFlNTQv8sRPEFU/zDDMF4HzGO8TIX8MQWkaDBHrJxaQh8I4OIqIYRvqCMVuDAHfFoQz0yyAMVW0IdqTjIscHPkCHshB9ZYL8kNtKReYSkelxYhQAOYYC8uyQmC6nJU3VCAkkInxpOKMowPrKUuHkiJ0SmAvZ1onetLM3+YIkjuTlijjDo4ipzWUMm8pJBsnzEGU8AyCrgkpiR2eUxOeTLRmBQCKD8AyuZh4GbePOb4Ayn/tw4Ta0gkhOoJIIq0+BDsSGAE+N85WAiYIB62vOe+MRnBPrHxyzQ0gScnIIg3ffOR8Qzk6ihZz4Xms99xu+cjwDmChbphy/KrqCOOCgpU6NQhnr/1AAOjV8zqTDJEVSSDWs0HUYboVFjJqejH11oSM9XPDb8UwS2xJwBV/qHlmovPTCNqT4rGNAB0K8FFEXaTuHZRnkKJqhCtedMz1fNP5T0pGoYaP546gefXhGoUZVpBSHqtxfYTYJc7YNXFbQfqIZ1qucb6QAkaoKk8iFM2EsrH9aqobaGtaEgrOka/LhOLGyToEz1oFPf4taownV7GghZC+TazsHplQ18tZFf/3rPx26vn1e4Zgw6kVLfXXYNmTXSZjlbT88+T7BpSKcKhGlCFJ5WDaml0mpZ69rnFVV9WGWnbRNbHWlqp7FC7e3wQGsFT5KAtMM1aFMRehnkxlS5/7WDbRbo+oFs9uGwWyUuEBfrFut+FLupiywnZms9Gt42Dbkl1W45i97UyVVxwc3CM1UqXuIY96WslaoQtYsF536gEz98bxbiK6v5/rW+nYtjREf7CPDmjwAPyLCGN8xhDjP4V+X8U0BlWwLaYqGy0KzNf0OMI+ZWISyFvcJ+U6xicrJ4MAS+wqDkSuMl/vTGgOKEaEVAwB5bka1ARhIn5uhdPljUyIqlbpJzM1ISI4MTM4ZyNG08Za1UtQ8IMfEVSqvlGpO3y4LJsRW4lN8raLXMH24WmjlEVuOVYKQWhrN/uTxnCwi5BO3Vc5y51WcGjdSITWYDigVtmjMXOisuBv8ECRK9hiwzWi18nvOX+UACMVvh0tPd6KPhyAkeeboKoI6yqEc9GAk7gkdttkKeUw2ZFbM6NZz4W6yrMGta88XWt75MQP820if7+teZnvNIMRjoY+sy2Wg+9Aiw7GzaADvYg9l0Eaf9CEvT+trYfou21fA9alebNOAOt1bUXAVuZ/Tc6IZ2l13dCHezFN5bdjSr6f0He/cU37WW95T57Qd/dxXgfUm3urfCiThUGOEJF/iUS01kR/Qa38CTwAUWjhqKH9jiEEc22jbO8cF4/OEhb/TISy6Yk4M85Zg+JclZnhWXkw7mMZc5zWuuzIrfHOdRAZ4VNL5zP/f84z8HutD/hz7zkttcm0APei2IzvKn++Hi8Faw9Jqubqv34c041zofqK5ugvcBJP2FudjZQHZsm53TPr931KOydlZwfd/rjfu/5053dt390W9ng8H7gFeg110NbR81u6kweD54+9yHj+3fNf0I+pmb71KJfBYS3+dxe6/xisY8WjTPwMlPOdJzHUGxRT96v4962SbVKeunQvorcH7Kw479y2efedf3OdcjOLVAed/6qZu+nHX2g6nTPvvaMx3NgV8Dj+xaaeIXfxW3L+fipzDpy1u/78afsufTAGjZf7/34QeytEkQUGPz3vlVyD4sA7rFXVMB66yHPxXkD0n1lpUEMfZp55cW//oHCMenR9GnBmoifFPweFFXgAPAf280flnAJZSmBouGeRAogViEegOAB802gNcnLQfYRAF1VKr3CGAnguiHfSW4QsnXB0P2AfZHBYXHghv4ghW0fQPgSQw4ABmYf75nSB7oMheYBu4ngjkISUWVApywgixIe0OIRTHIB3QlVzcYhRWwhGPEgzMoAgFYBUH4flN4Qx7IKdQ3TFoIGVwoREXlLjn1bmuYFhuwdKU3YJyAgiZAWXM4FRsAgfung51DgVjwhSMQhlSQhNbXTcLAgcNTVMaShrilhd3EAS8hiBHWCS1wVue3AQSAAJbIHJg4iEvWAjU4BYoIahiwiqzYiv+r+IkIkGHi4Ii+BXwsIIlpQGapZoeNOIqdw4MD4Edx2AhjCGW8qCW+2DkeqIcpIFf4x2jHWIY3lEzW9AI/OABZuIsVQYvbA4zLNIwAA3DRSDkaYEhyxYwqIFcDII4N0QDliICdYIgocI3FSGPj2An8UzseOADLhFOd8Ixwdo+OIAEMoEn+5wjouAKn2IDwJpB/0ADJ+DyEWGBEgItZkIqhAhWa45A/ViYAAGGYUlTBWAQimY2vQgAM6Tgc+QkRaRkA0FpBA4zctQKImIgng5JU4IChspKbV5CL8pICpjIieVMg2AkmySc46UyDw5Oy8o5/ApSd5THAmJAusJADgJH/Q5KUVqCTB8QMHeABpgKVQ1UwImlgLmCRWXCUWakGXOlj7LIAYBmW53UvwDiSSKCOWHkgWqlfYrOSBOmUmCKWDAWSDCKS8miNnqCWeqlUSiOQErAALZkbgulRhFkrUPQcIgmQ5bGX1ecz0dgAkHkvkzmXpkKNjTCTMFCTOVkpnMkGbVlMD7kADACY3jKa12UqE4kFRLkC4Ah1SLlBM6NwtAIBAQaTf+IBIkmV6qQ8b9KaflCPriRlkkOcxWmcZbKPA7CbApEKukgczhmODyOcf6IBE1CdUakunqCcRaCaqLiWqzA+2SKeZWJe9GUl6pidYdCbf/CaGAAMr7ln+sYg/7ZpnrRpSp2gnkbAngOgmX0BiEBoLvKpIhpAneaZTwCAI8iZJrKQCnnZoMAAn4/jUqYSAeVZoRaKJPeJoEegoAPwnw76oK8SoftBASa6UBe6Mqmgnb4gkgs6JC8KJjspceVVojV6TzeqIhmqRXRwje05Iy8Ko10poixEoUVqT0eqIvfJj3WQpf+5hcJwLVHakVZCo1WKT1dKTRdkB2iZBRzQnbTxpAuqmNYmcQBApGVaT2fKIAnIdiWlBFY5BQzKhgVCSFLaVlR6pwaQp57Doz1IPaoAnVIoHa8po4IBAIeKqIq6H9hpVGPRPk46H/VIqVmhAXWKqCdqJXU5Bf3IBP8M4wltGiXfaS0mMl7SyViXaqoghT5zgwhHyAaBChmxSi4E4KZSR14aQAF2iqtBiSRJekp9CgZ/2qRD0p/pIBzdKZzHmqzKWk8TUKDIlKX4SQlpRIxiggFMaUIIEDbXRqrIuq0MBQHeukeqgJp0sKbCFSUZcK6rhBPY8l8RYKna6q73RAF/kpub96xjwKIpGSVwqk02EYqN0AEUAAEBK7CAlUU5OgqtmgpyShvU6hJs4AAWG1XdqjWrQK930Ku+Sqy1ka8guwYiO7IfRbB/si7zg7BzwKT3x7K1EawuEbMym08TUJmoYbM5FAvRCqg8Sxt1+LJYALRBa08UEK8rwqj/U2CWlTCupLO0tOGzHQG1QTu0mGK0ctQLKruyiNK0TjsFYDuyUzu2VhuBOLsYksK1HguxINu27gqvpkK2l2kMSau0Gem0eourYtu3cduox7CxrWK3tJEBDasKhXunE5CpqvMhIpG4YBoqf9gSk1ulb3sz+jK3lHC2jscrnfu1yjoBoSu6U0e6lWCvawCppQG5HPG51Vm56bKp8beqpaCwVdCh9oFhDYG7rAUBRKsevFsFOvq7t6An5sKIBGG8JNu6z5IvttC8dEMuHXshGUC880C9H4W8EuO3oKMQ4GoFtFsc36uvViC++QQBlksrBssGh+kNjFsiJ/O9oIgN8GsA/6ybvBKavlVwvwtDwPfXveUKvsJgvBMgv1TrLeabpjGRv8liNZ4Yi7egtw9MAREQwfdSv/ZrFxasCiCqNBmAAZ8oi5wgshAAARTwkRGGwFRgwPhQwo/KPKJaMCI8wq+Bw40rOzsswTRcw+ABxKmwvu9TqxKzHstgwxiBxJ7gKngzxKZiK8EAxSEBHM/ruGH6VXCjKcGAtZ4BvEjYNlbsRMubBtqLETq7BkFiNWmMI+uRuAzku2IBI1+qxKpWqOlSx9mAx3YBL80Qxxszx+kByC3SI7VUxFhgyPKCyFeiJNegxRJixl7kxbS6anLiAWtsU4z8AnrcDOmqLJJ8GQzgyP9Z8B6h3AJ4IQ7WGqQBihseQMnhkBitDANcfA2zscScnMipLA9knMsoMMrh0MsT5MfA/Ml+wMrE7Auq7GTDOkrKjC+7sQ/f8cxG8MZTrJF9LKb80RUEASDafASvnBfePKfGOhTRnDCwW84lZsetwq/x9kgaEBfynJ5tDM8nMCAmURP82q8pEhQL0BX5vArZzM9eYMwmwcID2QDtbAsKIMgKLSDcvLYgS84VLQb+jNEe7Qf/sNF0cM4fXdJWkNAiXa8RbdInQdEpTUcrzdK1MNEvHbsxLdNL5tI1vdA3jdN9QNM7TQrg4NMEQQ5BDQsCgMlEPXYhfdS7gA5LfRL77NR1haAHUf0fKE3Vi1sAPQ2y7KDV9wDVV22FxADWN3wAXc0PufDOZs0LmXDQBAEKbe0cixC4+9AKbD3X7lDXaV15kpDXeg0RecAI7cgDOh3YdE0DOADXVeAGPPADiK3XM1ADUIADR7MDXCAAgB3ZnN3Znv3ZdhACADs=",
        "encoding": "base64",
        "path": [
         "value"
        ]
       }
      ],
      "model_module": "@jupyter-widgets/controls",
      "model_module_version": "1.5.0",
      "model_name": "ImageModel",
      "state": {
       "format": "gif",
       "height": "128",
       "layout": "IPY_MODEL_09c2926bf9834b4481608f5ab997368d",
       "width": "128"
      }
     },
     "a0c751eecea64da5a4271aa042132f73": {
      "model_module": "@jupyter-widgets/controls",
      "model_module_version": "1.5.0",
      "model_name": "FloatLogSliderModel",
      "state": {
       "description": "Log Slider",
       "layout": "IPY_MODEL_ac0c86d62ee14d018eef52b742535022",
       "max": 10,
       "min": -10,
       "step": 0.2,
       "style": "IPY_MODEL_5ccc1b9b71644e60a9c41f90ab7218bd",
       "value": 10
      }
     },
     "a0c822acb6794533b8d8b457664971fb": {
      "model_module": "@jupyter-widgets/controls",
      "model_module_version": "1.5.0",
      "model_name": "HBoxModel",
      "state": {
       "children": [
        "IPY_MODEL_1d84406d13124b9982f5fbe06539ffa7",
        "IPY_MODEL_feda121ef44941b2965c176bd446a1a8",
        "IPY_MODEL_6603a1991f464c53a5b7b1f16ab419c6",
        "IPY_MODEL_d06b2171815a46088f739146cb140d85"
       ],
       "layout": "IPY_MODEL_d341525b95a54dde89257e46a4a13ede"
      }
     },
     "a0f42093e9b44564b691c42d1f69ef49": {
      "model_module": "@jupyter-widgets/controls",
      "model_module_version": "1.5.0",
      "model_name": "SliderStyleModel",
      "state": {
       "description_width": ""
      }
     },
     "a12643ad48474683b58451abc6124e3a": {
      "model_module": "@jupyter-widgets/controls",
      "model_module_version": "1.5.0",
      "model_name": "DescriptionStyleModel",
      "state": {
       "description_width": ""
      }
     },
     "a137eae21c814272a3259b7a1c5d3cd6": {
      "model_module": "@jupyter-widgets/controls",
      "model_module_version": "1.5.0",
      "model_name": "FloatSliderModel",
      "state": {
       "continuous_update": false,
       "description": "Test:",
       "layout": "IPY_MODEL_4ba802cf89f9469ba712c869df78cc8c",
       "max": 10,
       "readout_format": ".1f",
       "step": 0.1,
       "style": "IPY_MODEL_bcf68d3e0d0a47bda449d014095ea52a",
       "value": 7.5
      }
     },
     "a19a46e844bb4091ab07a8873d7a75a6": {
      "model_module": "@jupyter-widgets/controls",
      "model_module_version": "1.5.0",
      "model_name": "ProgressStyleModel",
      "state": {
       "description_width": ""
      }
     },
     "a1c4f4d9ca1a46cda2c9bc2e71b14ee1": {
      "model_module": "@jupyter-widgets/controls",
      "model_module_version": "1.5.0",
      "model_name": "SliderStyleModel",
      "state": {
       "description_width": ""
      }
     },
     "a20741e021bc4e4098ff8ccf1c137079": {
      "model_module": "@jupyter-widgets/controls",
      "model_module_version": "1.5.0",
      "model_name": "IntSliderModel",
      "state": {
       "layout": "IPY_MODEL_588c664cf0324d71bd106bb0e12e6dbb",
       "style": "IPY_MODEL_4aedc482b6804d579959232bed34de18"
      }
     },
     "a27370f0e32842d396c552662b9950d7": {
      "model_module": "@jupyter-widgets/controls",
      "model_module_version": "1.5.0",
      "model_name": "LabelModel",
      "state": {
       "layout": "IPY_MODEL_e140dc7d9670437c8e15e1b796ef926e",
       "style": "IPY_MODEL_44a6721e9bc0496cbac08602f48d1829",
       "value": "1"
      }
     },
     "a306e7b798e4435eae99ece41e943390": {
      "model_module": "@jupyter-widgets/base",
      "model_module_version": "1.2.0",
      "model_name": "LayoutModel",
      "state": {}
     },
     "a3d899f03a554e66b464b1d2d1697e07": {
      "model_module": "@jupyter-widgets/controls",
      "model_module_version": "1.5.0",
      "model_name": "SelectionSliderModel",
      "state": {
       "_options_labels": [
        "scrambled",
        "sunny side up",
        "poached",
        "over easy"
       ],
       "continuous_update": false,
       "description": "I like my eggs …",
       "index": 1,
       "layout": "IPY_MODEL_0174107887014092b192d8a6b4330ec7",
       "style": "IPY_MODEL_83a09d50d2f042259d6aa31aa8d84bbd"
      }
     },
     "a43accd0be284859a980070ffcd22cb7": {
      "model_module": "@jupyter-widgets/controls",
      "model_module_version": "1.5.0",
      "model_name": "IntTextModel",
      "state": {
       "description": "Any:",
       "layout": "IPY_MODEL_f9ff4d19af1a4c468383f60b6ab2bdf5",
       "step": 1,
       "style": "IPY_MODEL_19c2a35e8c484b1282afae706c2c8981",
       "value": 7
      }
     },
     "a4e590c5a52645a3934c094630deb507": {
      "model_module": "@jupyter-widgets/controls",
      "model_module_version": "1.5.0",
      "model_name": "HTMLMathModel",
      "state": {
       "description": "Some HTML",
       "layout": "IPY_MODEL_df6c927706f54c36bf8f045f01cfbf4b",
       "placeholder": "Some HTML",
       "style": "IPY_MODEL_d8d074d9836e47ebb79830299a9c391e",
       "value": "Some math and <i>HTML</i>: \\(x^2\\) and $$\\frac{x+1}{x-1}$$"
      }
     },
     "a4efe41dfe5d4a0f8dfb25bc52eed7b6": {
      "model_module": "@jupyter-widgets/controls",
      "model_module_version": "1.5.0",
      "model_name": "SliderStyleModel",
      "state": {
       "description_width": ""
      }
     },
     "a530c8418f1749cdb71151f300125858": {
      "model_module": "@jupyter-widgets/controls",
      "model_module_version": "1.5.0",
      "model_name": "IntProgressModel",
      "state": {
       "description": "Loading:",
       "layout": "IPY_MODEL_eff76e4f6d76416184c765f2e32a4553",
       "max": 10,
       "style": "IPY_MODEL_902073e36faf4bdc99450a63d503bd18",
       "value": 7
      }
     },
     "a54338fa14574afcaaec98f750fdbc2b": {
      "model_module": "@jupyter-widgets/controls",
      "model_module_version": "1.5.0",
      "model_name": "SliderStyleModel",
      "state": {
       "description_width": ""
      }
     },
     "a5e438395c704ac0a6aacf8fd8696a50": {
      "model_module": "@jupyter-widgets/base",
      "model_module_version": "1.2.0",
      "model_name": "LayoutModel",
      "state": {}
     },
     "a5e808fe136e4e7c96072d8fb616c0f5": {
      "model_module": "@jupyter-widgets/controls",
      "model_module_version": "1.5.0",
      "model_name": "LinkModel",
      "state": {
       "source": [
        "IPY_MODEL_2968d8c7f9e94a0db40614df851ab00e",
        "value"
       ],
       "target": [
        "IPY_MODEL_f55b7cc7cc0e460e955bbd2248689485",
        "value"
       ]
      }
     },
     "a661de0d686a4383936e9db2ad4e81e3": {
      "model_module": "@jupyter-widgets/controls",
      "model_module_version": "1.5.0",
      "model_name": "FloatProgressModel",
      "state": {
       "bar_style": "info",
       "description": "Loading:",
       "layout": "IPY_MODEL_2691acf25f2242e08362de499ba3fe5a",
       "max": 10,
       "style": "IPY_MODEL_d3ddf2bb950a4d0d9ddceb23fef279fb",
       "value": 7.5
      }
     },
     "a6ba59cadeb0495d98cafd0446591e56": {
      "model_module": "@jupyter-widgets/base",
      "model_module_version": "1.2.0",
      "model_name": "LayoutModel",
      "state": {}
     },
     "a6cd890eb9da45a5817fb735932f9832": {
      "model_module": "@jupyter-widgets/controls",
      "model_module_version": "1.5.0",
      "model_name": "DescriptionStyleModel",
      "state": {
       "description_width": ""
      }
     },
     "a7355a6e5e0d455f804c71c1446dd371": {
      "model_module": "@jupyter-widgets/base",
      "model_module_version": "1.2.0",
      "model_name": "LayoutModel",
      "state": {}
     },
     "a73be4a8c3284560aa0bf6d5549cfd37": {
      "model_module": "@jupyter-widgets/controls",
      "model_module_version": "1.5.0",
      "model_name": "DescriptionStyleModel",
      "state": {
       "description_width": ""
      }
     },
     "a7c65380788943049cfac9c6f1ba1639": {
      "model_module": "@jupyter-widgets/base",
      "model_module_version": "1.2.0",
      "model_name": "LayoutModel",
      "state": {}
     },
     "a7edc07300d74e59a2b3f2b3f27f6ecc": {
      "model_module": "@jupyter-widgets/controls",
      "model_module_version": "1.5.0",
      "model_name": "DescriptionStyleModel",
      "state": {
       "description_width": ""
      }
     },
     "a7f43dfb523e44cc8cff9902f675f6ca": {
      "model_module": "@jupyter-widgets/controls",
      "model_module_version": "1.5.0",
      "model_name": "DescriptionStyleModel",
      "state": {
       "description_width": ""
      }
     },
     "a850972c4eba4e8083087697c300314b": {
      "model_module": "@jupyter-widgets/output",
      "model_module_version": "1.0.0",
      "model_name": "OutputModel",
      "state": {
       "layout": "IPY_MODEL_f93b2fe592e54c84bcada9ecea8822d8"
      }
     },
     "a89791c42c5f460b91417b12f2ac9b89": {
      "model_module": "@jupyter-widgets/controls",
      "model_module_version": "1.5.0",
      "model_name": "TextModel",
      "state": {
       "description": "P1",
       "layout": "IPY_MODEL_b02bc7ad693d4e0e869109fe6a25cdb6",
       "style": "IPY_MODEL_1e0c369744bc420e8735c7f047e19ee9"
      }
     },
     "a919afe1791b4464baea6bfd35257279": {
      "model_module": "@jupyter-widgets/controls",
      "model_module_version": "1.5.0",
      "model_name": "DescriptionStyleModel",
      "state": {
       "description_width": ""
      }
     },
     "a9592a2a20c346d59aebcdce9fb9c4bb": {
      "model_module": "@jupyter-widgets/controls",
      "model_module_version": "1.5.0",
      "model_name": "HBoxModel",
      "state": {
       "children": [
        "IPY_MODEL_0e45d24ce48347f68dbb6912fb2bba4f",
        "IPY_MODEL_eae20f1775744dc5933c9dffd584b108"
       ],
       "layout": "IPY_MODEL_0edf7b828fb64c2b8f79d2c4a4d46cf6"
      }
     },
     "a9a6deffca9e4d19a48ee4581db12cd1": {
      "model_module": "@jupyter-widgets/controls",
      "model_module_version": "1.5.0",
      "model_name": "DescriptionStyleModel",
      "state": {
       "description_width": ""
      }
     },
     "aa0c754401664ea6abeab48113e4a876": {
      "model_module": "@jupyter-widgets/controls",
      "model_module_version": "1.5.0",
      "model_name": "DescriptionStyleModel",
      "state": {
       "description_width": ""
      }
     },
     "aa155876a6924254bded7d5543689d4b": {
      "model_module": "@jupyter-widgets/base",
      "model_module_version": "1.2.0",
      "model_name": "LayoutModel",
      "state": {}
     },
     "aa2028feca5045a2a9497a3f56abf933": {
      "model_module": "@jupyter-widgets/controls",
      "model_module_version": "1.5.0",
      "model_name": "DescriptionStyleModel",
      "state": {
       "description_width": ""
      }
     },
     "aa31e727bfab45e59cd13743c367a849": {
      "model_module": "@jupyter-widgets/controls",
      "model_module_version": "1.5.0",
      "model_name": "LabelModel",
      "state": {
       "layout": "IPY_MODEL_1530d18e3e124c508d9120954032d317",
       "style": "IPY_MODEL_ad31a7a07f244a5494cf29bd6c711fee",
       "value": "3"
      }
     },
     "aaa3e6e19ff64325b678e0b5b26462a7": {
      "model_module": "@jupyter-widgets/controls",
      "model_module_version": "1.5.0",
      "model_name": "SelectMultipleModel",
      "state": {
       "_options_labels": [
        "Apples",
        "Oranges",
        "Pears"
       ],
       "description": "Fruits",
       "index": [
        1
       ],
       "layout": "IPY_MODEL_e3057ae8944d46d08c749b70e27389f4",
       "rows": 3,
       "style": "IPY_MODEL_9c048731d34747b397d40d0768cda66b"
      }
     },
     "aac5085a8fb44eccb81274a2326de379": {
      "model_module": "@jupyter-widgets/base",
      "model_module_version": "1.2.0",
      "model_name": "LayoutModel",
      "state": {}
     },
     "ab09a955567a446eae4f3351723acb74": {
      "model_module": "@jupyter-widgets/base",
      "model_module_version": "1.2.0",
      "model_name": "LayoutModel",
      "state": {}
     },
     "ab3318efdc80433e91b80cd3e127a6c9": {
      "model_module": "@jupyter-widgets/controls",
      "model_module_version": "1.5.0",
      "model_name": "TextareaModel",
      "state": {
       "description": "String:",
       "layout": "IPY_MODEL_c03261739eeb4ab487db3b54af2b9aa7",
       "placeholder": "Type something",
       "style": "IPY_MODEL_bc781b737ccf4df5973f230ef9cf9149",
       "value": "Hello World"
      }
     },
     "ab3e9e7b99bd436099f8668a44dea754": {
      "model_module": "@jupyter-widgets/base",
      "model_module_version": "1.2.0",
      "model_name": "LayoutModel",
      "state": {}
     },
     "ab812035dfbc4611b1b90eb0005b2dfd": {
      "model_module": "@jupyter-widgets/controls",
      "model_module_version": "1.5.0",
      "model_name": "DescriptionStyleModel",
      "state": {
       "description_width": ""
      }
     },
     "ac0c86d62ee14d018eef52b742535022": {
      "model_module": "@jupyter-widgets/base",
      "model_module_version": "1.2.0",
      "model_name": "LayoutModel",
      "state": {}
     },
     "acbcb4d6dfa74b7fbcaa3fc17810c425": {
      "model_module": "@jupyter-widgets/base",
      "model_module_version": "1.2.0",
      "model_name": "LayoutModel",
      "state": {}
     },
     "ad31a7a07f244a5494cf29bd6c711fee": {
      "model_module": "@jupyter-widgets/controls",
      "model_module_version": "1.5.0",
      "model_name": "DescriptionStyleModel",
      "state": {
       "description_width": ""
      }
     },
     "ad5f82dfb87e47dcaf35b46cc7e13104": {
      "model_module": "@jupyter-widgets/controls",
      "model_module_version": "1.5.0",
      "model_name": "DescriptionStyleModel",
      "state": {
       "description_width": ""
      }
     },
     "ae0ce4a5052f4e119c55804de987098c": {
      "model_module": "@jupyter-widgets/controls",
      "model_module_version": "1.5.0",
      "model_name": "LabelModel",
      "state": {
       "layout": "IPY_MODEL_4593602f3b2b433c8524e37f111a59dc",
       "style": "IPY_MODEL_02760b3333034c0eaf1f65de063f77a9",
       "value": "2"
      }
     },
     "ae1439e990d54167ba2f2e0ff6521435": {
      "model_module": "@jupyter-widgets/base",
      "model_module_version": "1.2.0",
      "model_name": "LayoutModel",
      "state": {}
     },
     "aeb5c3f668434382ae291f8c92eee291": {
      "model_module": "@jupyter-widgets/controls",
      "model_module_version": "1.5.0",
      "model_name": "DescriptionStyleModel",
      "state": {
       "description_width": ""
      }
     },
     "aed3e54fe78a4923865068d1fbeea256": {
      "model_module": "@jupyter-widgets/base",
      "model_module_version": "1.2.0",
      "model_name": "LayoutModel",
      "state": {}
     },
     "aef7388ccef3482887151782a0c5684d": {
      "model_module": "@jupyter-widgets/controls",
      "model_module_version": "1.5.0",
      "model_name": "TextModel",
      "state": {
       "layout": "IPY_MODEL_ab09a955567a446eae4f3351723acb74",
       "style": "IPY_MODEL_4aa03937a80d4f11a00ef5bc8b8ecf30"
      }
     },
     "af2d97b277194e0cbc0b1a7c418fd877": {
      "model_module": "@jupyter-widgets/base",
      "model_module_version": "1.2.0",
      "model_name": "LayoutModel",
      "state": {}
     },
     "afa18d5b38ed4c288ff45b1723127c45": {
      "model_module": "@jupyter-widgets/controls",
      "model_module_version": "1.5.0",
      "model_name": "DescriptionStyleModel",
      "state": {
       "description_width": ""
      }
     },
     "afa5f3b4cd4d4355954a89388956c240": {
      "model_module": "@jupyter-widgets/controls",
      "model_module_version": "1.5.0",
      "model_name": "DescriptionStyleModel",
      "state": {
       "description_width": ""
      }
     },
     "b02bc7ad693d4e0e869109fe6a25cdb6": {
      "model_module": "@jupyter-widgets/base",
      "model_module_version": "1.2.0",
      "model_name": "LayoutModel",
      "state": {}
     },
     "b06d5a8fb45747c486798dc6f32bb0eb": {
      "model_module": "@jupyter-widgets/base",
      "model_module_version": "1.2.0",
      "model_name": "LayoutModel",
      "state": {}
     },
     "b0713cfd0f884112ac3951e483d47699": {
      "model_module": "@jupyter-widgets/base",
      "model_module_version": "1.2.0",
      "model_name": "LayoutModel",
      "state": {}
     },
     "b076d481d091437ca10dbcec522e45c0": {
      "model_module": "@jupyter-widgets/base",
      "model_module_version": "1.2.0",
      "model_name": "LayoutModel",
      "state": {}
     },
     "b0903b2d79f74dbab9a6a45aaabcdd76": {
      "model_module": "@jupyter-widgets/base",
      "model_module_version": "1.2.0",
      "model_name": "LayoutModel",
      "state": {}
     },
     "b0bf3e2326384a18a3ac5df6b72ab26a": {
      "model_module": "@jupyter-widgets/controls",
      "model_module_version": "1.5.0",
      "model_name": "BoundedFloatTextModel",
      "state": {
       "description": "Text:",
       "layout": "IPY_MODEL_5c18d80ba48e497385fa4f10c9214ab3",
       "max": 10,
       "style": "IPY_MODEL_965f80dfa03b4bd5bc53f641a55dfe21",
       "value": 7.5
      }
     },
     "b0e879fa7bf64991a376f74e5641477b": {
      "model_module": "@jupyter-widgets/base",
      "model_module_version": "1.2.0",
      "model_name": "LayoutModel",
      "state": {}
     },
     "b152647f7bcc488189736eba9a6365e9": {
      "model_module": "@jupyter-widgets/controls",
      "model_module_version": "1.5.0",
      "model_name": "IntSliderModel",
      "state": {
       "continuous_update": false,
       "description": "Test:",
       "layout": "IPY_MODEL_105d57bfb7a04f5c881aa29be7562a56",
       "max": 10,
       "style": "IPY_MODEL_d75860cf6d074b81af891fabc094076d",
       "value": 7
      }
     },
     "b16dfb80d0a34845ae21104142d8eece": {
      "model_module": "@jupyter-widgets/controls",
      "model_module_version": "1.5.0",
      "model_name": "RadioButtonsModel",
      "state": {
       "_options_labels": [
        "pepperoni",
        "pineapple",
        "anchovies"
       ],
       "description": "Pizza topping:",
       "index": 1,
       "layout": "IPY_MODEL_10b8996e490347ecae24e5f892864a30",
       "style": "IPY_MODEL_c124581f6da74a7daca628e6ce1bcfec"
      }
     },
     "b18921573f5e4d269a1f9cc210baaf35": {
      "model_module": "@jupyter-widgets/controls",
      "model_module_version": "1.5.0",
      "model_name": "SliderStyleModel",
      "state": {
       "description_width": ""
      }
     },
     "b211bf87402a424d8908fb83c601a62c": {
      "model_module": "@jupyter-widgets/controls",
      "model_module_version": "1.5.0",
      "model_name": "ToggleButtonsStyleModel",
      "state": {
       "button_width": "",
       "description_width": ""
      }
     },
     "b2fdd3a1d2f44e599dc24a677d9e1e44": {
      "model_module": "@jupyter-widgets/controls",
      "model_module_version": "1.5.0",
      "model_name": "SelectMultipleModel",
      "state": {
       "_options_labels": [
        "Apples",
        "Oranges",
        "Pears"
       ],
       "description": "Fruits",
       "index": [
        1
       ],
       "layout": "IPY_MODEL_9fdc473aed984bfe828fb43f498f03df",
       "rows": 5,
       "style": "IPY_MODEL_6d5856f95ee74237af8e22adc3094a74"
      }
     },
     "b346ece6102e4eff9bc43ef5f6a17763": {
      "model_module": "@jupyter-widgets/base",
      "model_module_version": "1.2.0",
      "model_name": "LayoutModel",
      "state": {}
     },
     "b387a2c3a31240448c4761e36223ff5b": {
      "model_module": "@jupyter-widgets/output",
      "model_module_version": "1.0.0",
      "model_name": "OutputModel",
      "state": {
       "layout": "IPY_MODEL_9815d00f47e9419bbe792946fb733960",
       "outputs": [
        {
         "name": "stdout",
         "output_type": "stream",
         "text": "0 Hello world!\n1 Hello world!\n2 Hello world!\n3 Hello world!\n4 Hello world!\n5 Hello world!\n6 Hello world!\n7 Hello world!\n8 Hello world!\n9 Hello world!\n"
        }
       ]
      }
     },
     "b424f850771146c9889ba1fe66694f4b": {
      "model_module": "@jupyter-widgets/base",
      "model_module_version": "1.2.0",
      "model_name": "LayoutModel",
      "state": {}
     },
     "b434f78a477b4334becbf35975bc0d51": {
      "model_module": "@jupyter-widgets/controls",
      "model_module_version": "1.5.0",
      "model_name": "DescriptionStyleModel",
      "state": {
       "description_width": ""
      }
     },
     "b4f65706723f480a8949a932869accc8": {
      "model_module": "@jupyter-widgets/controls",
      "model_module_version": "1.5.0",
      "model_name": "IntTextModel",
      "state": {
       "description": "Any:",
       "layout": "IPY_MODEL_29485eb7bdc04eceb4e74b9935b46a05",
       "step": 1,
       "style": "IPY_MODEL_9662c855f0ba42288ec1cdc0a6dd5d2f",
       "value": 7
      }
     },
     "b4fcde747bf14601bcedb661510e5295": {
      "model_module": "@jupyter-widgets/base",
      "model_module_version": "1.2.0",
      "model_name": "LayoutModel",
      "state": {}
     },
     "b58bca3650174e17838f333b81d2c468": {
      "model_module": "@jupyter-widgets/controls",
      "model_module_version": "1.5.0",
      "model_name": "FloatSliderModel",
      "state": {
       "continuous_update": false,
       "description": "Test:",
       "layout": "IPY_MODEL_02bf9c9559d84beaa4a98cbaff30919f",
       "max": 10,
       "readout_format": ".1f",
       "step": 0.1,
       "style": "IPY_MODEL_8ead03a4cc5e4898ab00e4c3addc824a",
       "value": 7.5
      }
     },
     "b5ab60b1c8d745d28cd450f684dd14c6": {
      "model_module": "@jupyter-widgets/controls",
      "model_module_version": "1.5.0",
      "model_name": "FloatRangeSliderModel",
      "state": {
       "_model_name": "FloatRangeSliderModel",
       "_view_name": "FloatRangeSliderView",
       "continuous_update": false,
       "description": "Test:",
       "layout": "IPY_MODEL_e4ebc760e6464edf8efc2717774645f9",
       "max": 10,
       "readout_format": ".1f",
       "step": 0.1,
       "style": "IPY_MODEL_e831012e2ece4521a47a19e8a8a8c64e",
       "value": [
        5,
        7.5
       ]
      }
     },
     "b63b111d8fd84e5a8774a1f21f7ee6f8": {
      "model_module": "@jupyter-widgets/controls",
      "model_module_version": "1.5.0",
      "model_name": "RadioButtonsModel",
      "state": {
       "_options_labels": [
        "pepperoni",
        "pineapple",
        "anchovies"
       ],
       "description": "Pizza topping:",
       "index": 0,
       "layout": "IPY_MODEL_2c93b63380714abfaf2745e63a1612b6",
       "style": "IPY_MODEL_298a66b5478a48c3ac8eb32b1e4f886e"
      }
     },
     "b6abab1db9314eceb42dd98b21fad21c": {
      "model_module": "@jupyter-widgets/controls",
      "model_module_version": "1.5.0",
      "model_name": "SliderStyleModel",
      "state": {
       "description_width": ""
      }
     },
     "b6e844dc2fb044bcaf060d2a32dce376": {
      "model_module": "@jupyter-widgets/base",
      "model_module_version": "1.2.0",
      "model_name": "LayoutModel",
      "state": {}
     },
     "b6ed057be2134937b280a2d51b4b4185": {
      "model_module": "@jupyter-widgets/controls",
      "model_module_version": "1.5.0",
      "model_name": "LabelModel",
      "state": {
       "layout": "IPY_MODEL_29e5cf3e7ce44570984288b790510a89",
       "style": "IPY_MODEL_d21b2895d1ef4eb7b9b8c37f3b59195c",
       "value": "3"
      }
     },
     "b7593aa3cd9e40e282ad24bb17a12247": {
      "model_module": "@jupyter-widgets/controls",
      "model_module_version": "1.5.0",
      "model_name": "DescriptionStyleModel",
      "state": {
       "description_width": ""
      }
     },
     "b78f823e80c24cd3b9149284323bcc75": {
      "model_module": "@jupyter-widgets/base",
      "model_module_version": "1.2.0",
      "model_name": "LayoutModel",
      "state": {}
     },
     "b7a1931fbf024ae1a625a92c75a66795": {
      "model_module": "@jupyter-widgets/controls",
      "model_module_version": "1.5.0",
      "model_name": "ProgressStyleModel",
      "state": {
       "description_width": ""
      }
     },
     "b7b608eff4504e8ea4533733767aefc1": {
      "model_module": "@jupyter-widgets/controls",
      "model_module_version": "1.5.0",
      "model_name": "HBoxModel",
      "state": {
       "children": [
        "IPY_MODEL_e2ca6a3e225b4d3097fbd3d37629569f",
        "IPY_MODEL_3f42be9926cc4d4d97e064500a617588"
       ],
       "layout": "IPY_MODEL_67fa18908c3044da9368160196d5e0f8"
      }
     },
     "b8490d07b8094c959a5fcedeac6b1abf": {
      "buffers": [
       {
        "data": "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",
        "encoding": "base64",
        "path": [
         "value"
        ]
       }
      ],
      "model_module": "@jupyter-widgets/controls",
      "model_module_version": "1.5.0",
      "model_name": "ImageModel",
      "state": {
       "format": "gif",
       "height": "128",
       "layout": "IPY_MODEL_ab3e9e7b99bd436099f8668a44dea754",
       "width": "128"
      }
     },
     "b856f97ac3bf42ae98fbc356ff1cee3c": {
      "model_module": "@jupyter-widgets/controls",
      "model_module_version": "1.5.0",
      "model_name": "VBoxModel",
      "state": {
       "children": [
        "IPY_MODEL_6ed266be750042a9bbd3bb30b506ff58",
        "IPY_MODEL_547c4c0e3fcb4f52a7bd7a436fe64b1c"
       ],
       "layout": "IPY_MODEL_c71643e19ef34dcbb89c516b8f6601c8"
      }
     },
     "b8c9638d85cc46a8afba53bea0303cd1": {
      "model_module": "@jupyter-widgets/controls",
      "model_module_version": "1.5.0",
      "model_name": "IntSliderModel",
      "state": {
       "layout": "IPY_MODEL_04cdb1ba17794522a346a152b2e4ba56",
       "style": "IPY_MODEL_dda38b9448314d0fb844bdad5e16db90",
       "value": 50
      }
     },
     "b8d34acac38f4753b5f6a961bcace13b": {
      "model_module": "@jupyter-widgets/controls",
      "model_module_version": "1.5.0",
      "model_name": "SliderStyleModel",
      "state": {
       "description_width": ""
      }
     },
     "b911ba7b0d1043b59bb78e2273c725bc": {
      "model_module": "@jupyter-widgets/controls",
      "model_module_version": "1.5.0",
      "model_name": "ToggleButtonsStyleModel",
      "state": {
       "button_width": "",
       "description_width": ""
      }
     },
     "b94d303f96174213bb2579869cdc268e": {
      "model_module": "@jupyter-widgets/controls",
      "model_module_version": "1.5.0",
      "model_name": "DescriptionStyleModel",
      "state": {
       "description_width": ""
      }
     },
     "b9de4987354f4792b4536719e73760b5": {
      "model_module": "@jupyter-widgets/base",
      "model_module_version": "1.2.0",
      "model_name": "LayoutModel",
      "state": {
       "border": "1px solid black"
      }
     },
     "b9e6e448a6144d8085ced95610c01ed3": {
      "model_module": "@jupyter-widgets/base",
      "model_module_version": "1.2.0",
      "model_name": "LayoutModel",
      "state": {}
     },
     "ba41c9581a814ba89f844fb9347e4d32": {
      "model_module": "@jupyter-widgets/controls",
      "model_module_version": "1.5.0",
      "model_name": "FloatProgressModel",
      "state": {
       "bar_style": "info",
       "description": "Loading:",
       "layout": "IPY_MODEL_d3570ee067354e9c898085a17b543c1d",
       "max": 10,
       "style": "IPY_MODEL_b7a1931fbf024ae1a625a92c75a66795",
       "value": 7.5
      }
     },
     "baa01178bb384cf69ad6ef53c079152b": {
      "model_module": "@jupyter-widgets/base",
      "model_module_version": "1.2.0",
      "model_name": "LayoutModel",
      "state": {}
     },
     "baaf0cf20d5643a4bea62dd2f64909e9": {
      "model_module": "@jupyter-widgets/controls",
      "model_module_version": "1.5.0",
      "model_name": "IntSliderModel",
      "state": {
       "layout": "IPY_MODEL_3868629228d64a9b8ce673d8973a3183",
       "style": "IPY_MODEL_7ba77fc4d02645dc860d485602dc7462",
       "value": 33
      }
     },
     "bb51655241cb418dbd8c8e4c525e29ad": {
      "model_module": "@jupyter-widgets/controls",
      "model_module_version": "1.5.0",
      "model_name": "DescriptionStyleModel",
      "state": {
       "description_width": ""
      }
     },
     "bbb95213bb7640a3b3142c6b0841262b": {
      "model_module": "@jupyter-widgets/controls",
      "model_module_version": "1.5.0",
      "model_name": "DescriptionStyleModel",
      "state": {
       "description_width": ""
      }
     },
     "bbbc258e9b9848e786c4b5879eacd90c": {
      "model_module": "@jupyter-widgets/base",
      "model_module_version": "1.2.0",
      "model_name": "LayoutModel",
      "state": {}
     },
     "bbed48b4a5dd4a5d9831d4cd880e445c": {
      "model_module": "@jupyter-widgets/controls",
      "model_module_version": "1.5.0",
      "model_name": "BoundedFloatTextModel",
      "state": {
       "description": "Text:",
       "layout": "IPY_MODEL_dc2e6ed23d4943219ea90458025bfbdc",
       "max": 10,
       "style": "IPY_MODEL_03873a931cc14af0bb4044193bcc299f",
       "value": 7.5
      }
     },
     "bc0ecaa89e1b4dfd867711bf5ac7ed3d": {
      "model_module": "@jupyter-widgets/base",
      "model_module_version": "1.2.0",
      "model_name": "LayoutModel",
      "state": {}
     },
     "bc1d5a59a376430f8e5fe8f113f12559": {
      "model_module": "@jupyter-widgets/controls",
      "model_module_version": "1.5.0",
      "model_name": "DescriptionStyleModel",
      "state": {
       "description_width": ""
      }
     },
     "bc781b737ccf4df5973f230ef9cf9149": {
      "model_module": "@jupyter-widgets/controls",
      "model_module_version": "1.5.0",
      "model_name": "DescriptionStyleModel",
      "state": {
       "description_width": ""
      }
     },
     "bcf68d3e0d0a47bda449d014095ea52a": {
      "model_module": "@jupyter-widgets/controls",
      "model_module_version": "1.5.0",
      "model_name": "SliderStyleModel",
      "state": {
       "description_width": ""
      }
     },
     "bd1b48bec7b149d1beb9082d7ea45b78": {
      "model_module": "@jupyter-widgets/controls",
      "model_module_version": "1.5.0",
      "model_name": "BoundedIntTextModel",
      "state": {
       "description": "Text:",
       "layout": "IPY_MODEL_91094e23f0804893ad7516d6c198574f",
       "max": 10,
       "style": "IPY_MODEL_9f8701bfad04464ab1c8031185fadb59",
       "value": 7
      }
     },
     "bd9d9cd2132b4da284255571238eea8a": {
      "model_module": "@jupyter-widgets/controls",
      "model_module_version": "1.5.0",
      "model_name": "FloatLogSliderModel",
      "state": {
       "description": "Log Slider",
       "layout": "IPY_MODEL_038d03f9eb32434fba0c45fdedea6f2f",
       "max": 10,
       "min": -10,
       "step": 0.2,
       "style": "IPY_MODEL_45d0e0187d2644ab9abb903441b20294",
       "value": 10
      }
     },
     "bde115de358d449896e19ab9bf174a8a": {
      "model_module": "@jupyter-widgets/controls",
      "model_module_version": "1.5.0",
      "model_name": "DescriptionStyleModel",
      "state": {
       "description_width": ""
      }
     },
     "be533f331b744e2092da3f205d6f9879": {
      "model_module": "@jupyter-widgets/controls",
      "model_module_version": "1.5.0",
      "model_name": "ToggleButtonsModel",
      "state": {
       "_options_labels": [
        "Slow",
        "Regular",
        "Fast"
       ],
       "button_style": "",
       "description": "Speed:",
       "icons": [],
       "index": 0,
       "layout": "IPY_MODEL_bc0ecaa89e1b4dfd867711bf5ac7ed3d",
       "style": "IPY_MODEL_b211bf87402a424d8908fb83c601a62c",
       "tooltips": [
        "Description of slow",
        "Description of regular",
        "Description of fast"
       ]
      }
     },
     "be6ca5c67bb24fceaa46758dfd4a64fa": {
      "model_module": "@jupyter-widgets/base",
      "model_module_version": "1.2.0",
      "model_name": "LayoutModel",
      "state": {}
     },
     "be7ccbe24fab4040897e1504b30f14a1": {
      "model_module": "@jupyter-widgets/controls",
      "model_module_version": "1.5.0",
      "model_name": "IntTextModel",
      "state": {
       "description": "Any:",
       "layout": "IPY_MODEL_84b8048c55ae417c82042e2148d0d264",
       "step": 1,
       "style": "IPY_MODEL_fc2c0ef27c8d4801a30659b042c91c06",
       "value": 7
      }
     },
     "bee77cf8e26143928c6b98ead74aa7bb": {
      "model_module": "@jupyter-widgets/base",
      "model_module_version": "1.2.0",
      "model_name": "LayoutModel",
      "state": {}
     },
     "bef434b0effb4d7d8411f4e3e0264e03": {
      "model_module": "@jupyter-widgets/controls",
      "model_module_version": "1.5.0",
      "model_name": "LabelModel",
      "state": {
       "layout": "IPY_MODEL_2061fde8fe2542b7a4aa54ecdd6ab2fa",
       "style": "IPY_MODEL_1f2242f0713c4714aad3e2cff66a5e07",
       "value": "2"
      }
     },
     "bfaf2f38245a48219607fd81398988f1": {
      "model_module": "@jupyter-widgets/controls",
      "model_module_version": "1.5.0",
      "model_name": "HBoxModel",
      "state": {
       "children": [
        "IPY_MODEL_04bf8193fabe48d9a972d2ba709eec07",
        "IPY_MODEL_f00dc00767fe45dfbd186fdd7ca0263b",
        "IPY_MODEL_d042fc573ce345d495bba8a851a575e7",
        "IPY_MODEL_d657657397764021ac0180892b8ac806"
       ],
       "layout": "IPY_MODEL_ddf6a893b3ce47069b705a7184c1f225"
      }
     },
     "bfcd1595b5324fc28232c8165d5aa82d": {
      "model_module": "@jupyter-widgets/base",
      "model_module_version": "1.2.0",
      "model_name": "LayoutModel",
      "state": {}
     },
     "bfd4469e51fa4493bfe0d7948960cf42": {
      "model_module": "@jupyter-widgets/controls",
      "model_module_version": "1.5.0",
      "model_name": "DropdownModel",
      "state": {
       "_options_labels": [
        "1",
        "2",
        "3"
       ],
       "description": "Number:",
       "index": 1,
       "layout": "IPY_MODEL_f03317204ae34a82a89dd1a76ee0a164",
       "style": "IPY_MODEL_cc586bd513a54a51af11d578279a21a5"
      }
     },
     "bfed71ac05bf4a5ca6bc2291d5e8cb4c": {
      "model_module": "@jupyter-widgets/controls",
      "model_module_version": "1.5.0",
      "model_name": "HTMLMathModel",
      "state": {
       "description": "Some HTML",
       "layout": "IPY_MODEL_f4812cd6278d4cf8a7c2f630f3c44714",
       "placeholder": "Some HTML",
       "style": "IPY_MODEL_a6cd890eb9da45a5817fb735932f9832",
       "value": "Some math and <i>HTML</i>: \\(x^2\\) and $$\\frac{x+1}{x-1}$$"
      }
     },
     "bff171db28b441558265df4f3aa91d7d": {
      "model_module": "@jupyter-widgets/controls",
      "model_module_version": "1.5.0",
      "model_name": "HBoxModel",
      "state": {
       "children": [
        "IPY_MODEL_63fb5c6997ec42f18a9409aa7a3cd3d7",
        "IPY_MODEL_a27370f0e32842d396c552662b9950d7",
        "IPY_MODEL_5c59f5cd5b5645aa9784386b254db299",
        "IPY_MODEL_00a2a225ab24407ab131429e07e461f1"
       ],
       "layout": "IPY_MODEL_85dc0683217f496f9c20d3b012502545"
      }
     },
     "c03261739eeb4ab487db3b54af2b9aa7": {
      "model_module": "@jupyter-widgets/base",
      "model_module_version": "1.2.0",
      "model_name": "LayoutModel",
      "state": {}
     },
     "c08344779742470d8bfab5b6624ec3a8": {
      "model_module": "@jupyter-widgets/controls",
      "model_module_version": "1.5.0",
      "model_name": "DescriptionStyleModel",
      "state": {
       "description_width": ""
      }
     },
     "c09ec3e7ee504069b00105cddd363e81": {
      "model_module": "@jupyter-widgets/controls",
      "model_module_version": "1.5.0",
      "model_name": "LabelModel",
      "state": {
       "layout": "IPY_MODEL_8591429ad81042d48a8f443df719d3f8",
       "style": "IPY_MODEL_39b066c2ec8441aead197e9ff7f205dc",
       "value": "3"
      }
     },
     "c0f8543e4dea4d00b1e18f92369f7661": {
      "model_module": "@jupyter-widgets/controls",
      "model_module_version": "1.5.0",
      "model_name": "DescriptionStyleModel",
      "state": {
       "description_width": ""
      }
     },
     "c1098e77c89f4fd0abd139997d2ced04": {
      "model_module": "@jupyter-widgets/controls",
      "model_module_version": "1.5.0",
      "model_name": "VBoxModel",
      "state": {
       "children": [
        "IPY_MODEL_9217c130631f4a37998632e3c5a051de",
        "IPY_MODEL_126527ba4e254459abe5ce85f0e1cbb7"
       ],
       "layout": "IPY_MODEL_cf11df94b9db4ef1875ccc3ca6db0238"
      }
     },
     "c1234562a24b48b3b689c180808018cf": {
      "model_module": "@jupyter-widgets/base",
      "model_module_version": "1.2.0",
      "model_name": "LayoutModel",
      "state": {}
     },
     "c124581f6da74a7daca628e6ce1bcfec": {
      "model_module": "@jupyter-widgets/controls",
      "model_module_version": "1.5.0",
      "model_name": "DescriptionStyleModel",
      "state": {
       "description_width": ""
      }
     },
     "c1245908b24549369778a03319694280": {
      "model_module": "@jupyter-widgets/controls",
      "model_module_version": "1.5.0",
      "model_name": "DescriptionStyleModel",
      "state": {
       "description_width": ""
      }
     },
     "c1bcc4a40d1c4d828b44c657f4152fc3": {
      "model_module": "@jupyter-widgets/controls",
      "model_module_version": "1.5.0",
      "model_name": "DescriptionStyleModel",
      "state": {
       "description_width": ""
      }
     },
     "c235a7d971804db193648ab6c6ac6106": {
      "model_module": "@jupyter-widgets/base",
      "model_module_version": "1.2.0",
      "model_name": "LayoutModel",
      "state": {}
     },
     "c25f1b0c33dc439a80ea319940169b25": {
      "model_module": "@jupyter-widgets/base",
      "model_module_version": "1.2.0",
      "model_name": "LayoutModel",
      "state": {}
     },
     "c276048bda3841f09063df25147c77af": {
      "model_module": "@jupyter-widgets/base",
      "model_module_version": "1.2.0",
      "model_name": "LayoutModel",
      "state": {}
     },
     "c2f52f0a69ee4a93b054387ee32710d0": {
      "model_module": "@jupyter-widgets/base",
      "model_module_version": "1.2.0",
      "model_name": "LayoutModel",
      "state": {}
     },
     "c310a5b2dc4b45f2bbb74f2ce25eadf1": {
      "model_module": "@jupyter-widgets/controls",
      "model_module_version": "1.5.0",
      "model_name": "TextModel",
      "state": {
       "description": "P4",
       "layout": "IPY_MODEL_ddc024ce613445029a899fa65974ee3d",
       "style": "IPY_MODEL_845bcde0f9344337a321f44b17e78f24"
      }
     },
     "c3578b53b29241d2be5913887295ed1a": {
      "buffers": [
       {
        "data": "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",
        "encoding": "base64",
        "path": [
         "value"
        ]
       }
      ],
      "model_module": "@jupyter-widgets/controls",
      "model_module_version": "1.5.0",
      "model_name": "ImageModel",
      "state": {
       "format": "gif",
       "height": "128",
       "layout": "IPY_MODEL_7b07875b7e744d738554ec0d53b54808",
       "width": "128"
      }
     },
     "c40440aa4dbc4daf8fd28cab30ea8bed": {
      "model_module": "@jupyter-widgets/controls",
      "model_module_version": "1.5.0",
      "model_name": "FloatTextModel",
      "state": {
       "description": "Any:",
       "layout": "IPY_MODEL_19064ae2e4604da596cc4f8b3ee25128",
       "step": null,
       "style": "IPY_MODEL_f88d1cff8fb5482f927210ef947fe859",
       "value": 7.5
      }
     },
     "c46e37c25c324527afdef32c2e38d668": {
      "model_module": "@jupyter-widgets/controls",
      "model_module_version": "1.5.0",
      "model_name": "TextModel",
      "state": {
       "description": "P3",
       "layout": "IPY_MODEL_ae1439e990d54167ba2f2e0ff6521435",
       "style": "IPY_MODEL_51355ed7779044a59cd36d807b5b8942"
      }
     },
     "c472ae30b11847a79fb7e392188024c3": {
      "model_module": "@jupyter-widgets/controls",
      "model_module_version": "1.5.0",
      "model_name": "TextModel",
      "state": {
       "description": "P3",
       "layout": "IPY_MODEL_4d4f3bd774c6404eb314a59f7daf0d4e",
       "style": "IPY_MODEL_1807bb9a76274e83bca69ad09fcce22a"
      }
     },
     "c4e602ed03014fb49ce3c81c5e1eefa2": {
      "model_module": "@jupyter-widgets/controls",
      "model_module_version": "1.5.0",
      "model_name": "TextModel",
      "state": {
       "description": "P4",
       "layout": "IPY_MODEL_1cdc48d9bf3147f4ac294723c8ea02be",
       "style": "IPY_MODEL_49d236d67e334e14851464201fbf4e77"
      }
     },
     "c5cb6face0634caca7b3cddd924583a2": {
      "model_module": "@jupyter-widgets/controls",
      "model_module_version": "1.5.0",
      "model_name": "BoundedIntTextModel",
      "state": {
       "description": "Text:",
       "layout": "IPY_MODEL_2c99a19326424d2885bdec2583a7194e",
       "max": 10,
       "style": "IPY_MODEL_ab812035dfbc4611b1b90eb0005b2dfd",
       "value": 7
      }
     },
     "c5f63d987fcd43d48800789b86f714ba": {
      "model_module": "@jupyter-widgets/base",
      "model_module_version": "1.2.0",
      "model_name": "LayoutModel",
      "state": {}
     },
     "c618323ec2184d98a1a33ec044a3a174": {
      "model_module": "@jupyter-widgets/base",
      "model_module_version": "1.2.0",
      "model_name": "LayoutModel",
      "state": {}
     },
     "c642217211334965adedb8ad15b11d6c": {
      "model_module": "@jupyter-widgets/controls",
      "model_module_version": "1.5.0",
      "model_name": "DescriptionStyleModel",
      "state": {
       "description_width": ""
      }
     },
     "c69f070487c84f7fbf906da9548b3753": {
      "model_module": "@jupyter-widgets/controls",
      "model_module_version": "1.5.0",
      "model_name": "ValidModel",
      "state": {
       "description": "Valid!",
       "layout": "IPY_MODEL_5cb11d960df8466ab1c59a274605a931",
       "style": "IPY_MODEL_ddd8f750c4ca4eea917edb7c51b67477"
      }
     },
     "c6a17c6f44f04a1d8752d5ab996c7aa2": {
      "model_module": "@jupyter-widgets/controls",
      "model_module_version": "1.5.0",
      "model_name": "LabelModel",
      "state": {
       "layout": "IPY_MODEL_199f02df9b5641cd9f3f1aeb7c52cff6",
       "style": "IPY_MODEL_863a5bac5c3048cc92b896176b0d6d74",
       "value": "1"
      }
     },
     "c705c1ca119a4496aa636f34bc58091c": {
      "model_module": "@jupyter-widgets/controls",
      "model_module_version": "1.5.0",
      "model_name": "DescriptionStyleModel",
      "state": {
       "description_width": ""
      }
     },
     "c71643e19ef34dcbb89c516b8f6601c8": {
      "model_module": "@jupyter-widgets/base",
      "model_module_version": "1.2.0",
      "model_name": "LayoutModel",
      "state": {}
     },
     "c78d6504e9f9436eb61bbabf60f54d59": {
      "model_module": "@jupyter-widgets/base",
      "model_module_version": "1.2.0",
      "model_name": "LayoutModel",
      "state": {
       "border": "1px solid black"
      }
     },
     "c7e6e61fbe3b4aaca034cdaab12f6788": {
      "model_module": "@jupyter-widgets/controls",
      "model_module_version": "1.5.0",
      "model_name": "SelectModel",
      "state": {
       "_options_labels": [
        "Linux",
        "Windows",
        "OSX"
       ],
       "description": "OS:",
       "index": 2,
       "layout": "IPY_MODEL_163e35e104ab46db8d0dccc424162e89",
       "rows": 3,
       "style": "IPY_MODEL_18685d5f66e045a1ac6c6bd6064fab47"
      }
     },
     "c8203133b371443d999a2bd1bd59f3cb": {
      "model_module": "@jupyter-widgets/base",
      "model_module_version": "1.2.0",
      "model_name": "LayoutModel",
      "state": {}
     },
     "c84b4bc55b3f44efb1683cf00701ee21": {
      "model_module": "@jupyter-widgets/controls",
      "model_module_version": "1.5.0",
      "model_name": "TextModel",
      "state": {
       "description": "P1",
       "layout": "IPY_MODEL_c8e3987b2f88457b868615f1c077dab8",
       "style": "IPY_MODEL_221d8d4f40f440a786d28befeea11883"
      }
     },
     "c8780453535b439e87aa7fe94d999629": {
      "model_module": "@jupyter-widgets/base",
      "model_module_version": "1.2.0",
      "model_name": "LayoutModel",
      "state": {}
     },
     "c89e4d417773439a9a366dd4397609db": {
      "model_module": "@jupyter-widgets/base",
      "model_module_version": "1.2.0",
      "model_name": "LayoutModel",
      "state": {}
     },
     "c8bb322d5f7846b9bf52a31ee865a421": {
      "model_module": "@jupyter-widgets/base",
      "model_module_version": "1.2.0",
      "model_name": "LayoutModel",
      "state": {}
     },
     "c8e3987b2f88457b868615f1c077dab8": {
      "model_module": "@jupyter-widgets/base",
      "model_module_version": "1.2.0",
      "model_name": "LayoutModel",
      "state": {}
     },
     "c8f3bb622c334fa78a71e3abcf30e58c": {
      "model_module": "@jupyter-widgets/base",
      "model_module_version": "1.2.0",
      "model_name": "LayoutModel",
      "state": {}
     },
     "c9269932108d4cef99cd09c695c50aa2": {
      "model_module": "@jupyter-widgets/base",
      "model_module_version": "1.2.0",
      "model_name": "LayoutModel",
      "state": {}
     },
     "c9c320474aba49bc914a4a2edf595ee9": {
      "model_module": "@jupyter-widgets/controls",
      "model_module_version": "1.5.0",
      "model_name": "HTMLMathModel",
      "state": {
       "description": "Some HTML",
       "layout": "IPY_MODEL_9c0b58d87afd4f3cb1594eca66792832",
       "placeholder": "Some HTML",
       "style": "IPY_MODEL_fadb5caefca949eebb80b5d5bb2b3bfe",
       "value": "Some math and <i>HTML</i>: \\(x^2\\) and $$\\frac{x+1}{x-1}$$"
      }
     },
     "caf008d5b005490cad77aaba7b7ee9b4": {
      "model_module": "@jupyter-widgets/base",
      "model_module_version": "1.2.0",
      "model_name": "LayoutModel",
      "state": {}
     },
     "cb3de87ba378481998c289a134b61ac1": {
      "model_module": "@jupyter-widgets/controls",
      "model_module_version": "1.5.0",
      "model_name": "PlayModel",
      "state": {
       "description": "Press play",
       "layout": "IPY_MODEL_608439f6a9c447d8b7c7e4884e352332",
       "style": "IPY_MODEL_2f5b02efec654a04baf03e591d80df20",
       "value": 50
      }
     },
     "cb58ff0e28074bd8b342cf4904fb9d65": {
      "model_module": "@jupyter-widgets/base",
      "model_module_version": "1.2.0",
      "model_name": "LayoutModel",
      "state": {}
     },
     "cb5f5472b56646a4b66f7d2aa0fcc225": {
      "model_module": "@jupyter-widgets/controls",
      "model_module_version": "1.5.0",
      "model_name": "ValidModel",
      "state": {
       "description": "Valid!",
       "layout": "IPY_MODEL_86742040862d4c76859ee88d427c6b83",
       "style": "IPY_MODEL_7267a05715944b098663122fdafa7b4a"
      }
     },
     "cb696c1dcb5d45f88c2b2f2463ea6880": {
      "model_module": "@jupyter-widgets/controls",
      "model_module_version": "1.5.0",
      "model_name": "LabelModel",
      "state": {
       "layout": "IPY_MODEL_c235a7d971804db193648ab6c6ac6106",
       "style": "IPY_MODEL_19b96288896c45a687a8d85afb300588",
       "value": "0"
      }
     },
     "cbc82aa8fa6a438c91fee373f6ff0ece": {
      "model_module": "@jupyter-widgets/controls",
      "model_module_version": "1.5.0",
      "model_name": "SliderStyleModel",
      "state": {
       "description_width": ""
      }
     },
     "cc586bd513a54a51af11d578279a21a5": {
      "model_module": "@jupyter-widgets/controls",
      "model_module_version": "1.5.0",
      "model_name": "DescriptionStyleModel",
      "state": {
       "description_width": ""
      }
     },
     "cc5a3ac9887d40cc8532219cd8e99272": {
      "model_module": "@jupyter-widgets/base",
      "model_module_version": "1.2.0",
      "model_name": "LayoutModel",
      "state": {}
     },
     "cca13f2a104f4d20a6c51f361de18ba1": {
      "model_module": "@jupyter-widgets/base",
      "model_module_version": "1.2.0",
      "model_name": "LayoutModel",
      "state": {}
     },
     "ccb51838a4724b8f9a1439b3f7ce73f7": {
      "model_module": "@jupyter-widgets/controls",
      "model_module_version": "1.5.0",
      "model_name": "LabelModel",
      "state": {
       "layout": "IPY_MODEL_12d8b6a73ff74073996a4be3dfd1ad24",
       "style": "IPY_MODEL_26c0dadc47e249a193a6b861265ac170",
       "value": "3"
      }
     },
     "ccd586b764464c32ae79741babdc705c": {
      "model_module": "@jupyter-widgets/controls",
      "model_module_version": "1.5.0",
      "model_name": "FloatLogSliderModel",
      "state": {
       "description": "Log Slider",
       "layout": "IPY_MODEL_0935b6d2628e414d9abc9b646521c759",
       "max": 10,
       "min": -10,
       "step": 0.2,
       "style": "IPY_MODEL_4c2f3943bf2745ea9a8f64b04f7163c7",
       "value": 10
      }
     },
     "ccd79dc54d2e451ea6c5c7f23b305c50": {
      "model_module": "@jupyter-widgets/controls",
      "model_module_version": "1.5.0",
      "model_name": "ValidModel",
      "state": {
       "description": "Valid!",
       "layout": "IPY_MODEL_4ef89c13a88c4404af84af474a7d3856",
       "style": "IPY_MODEL_a9a6deffca9e4d19a48ee4581db12cd1"
      }
     },
     "cd7caa30b72e4a10a6eeac02ad548a2a": {
      "model_module": "@jupyter-widgets/controls",
      "model_module_version": "1.5.0",
      "model_name": "TextModel",
      "state": {
       "description": "P2",
       "layout": "IPY_MODEL_3e512e614afc49b6a49e9aacd4c116b7",
       "style": "IPY_MODEL_5245d281cbde4325b18946c18bd5b3b2"
      }
     },
     "cdcd0ed79e7e44bcbac518bd7d6caeeb": {
      "model_module": "@jupyter-widgets/base",
      "model_module_version": "1.2.0",
      "model_name": "LayoutModel",
      "state": {}
     },
     "ce235d300aa84b86b47b477604aaaf46": {
      "model_module": "@jupyter-widgets/controls",
      "model_module_version": "1.5.0",
      "model_name": "SelectModel",
      "state": {
       "_options_labels": [
        "Linux",
        "Windows",
        "OSX"
       ],
       "description": "OS:",
       "index": 2,
       "layout": "IPY_MODEL_3f1792e0781640bbbdac2ad5c2bf9d39",
       "style": "IPY_MODEL_fcff632160864ff6be80a9c07619d716"
      }
     },
     "ce86ff069346429298e3f25e3f661554": {
      "model_module": "@jupyter-widgets/base",
      "model_module_version": "1.2.0",
      "model_name": "LayoutModel",
      "state": {}
     },
     "cea2f01371f84d4e9e7262b9cb56a46f": {
      "model_module": "@jupyter-widgets/controls",
      "model_module_version": "1.5.0",
      "model_name": "DescriptionStyleModel",
      "state": {
       "description_width": ""
      }
     },
     "ced1144b83424006936b0c57d823cf8d": {
      "model_module": "@jupyter-widgets/controls",
      "model_module_version": "1.5.0",
      "model_name": "TabModel",
      "state": {
       "_titles": {
        "0": "An accordion",
        "1": "Copy of the accordion"
       },
       "children": [
        "IPY_MODEL_25e0575616d244d5b89da93913c1d040",
        "IPY_MODEL_25e0575616d244d5b89da93913c1d040"
       ],
       "layout": "IPY_MODEL_cf7567ff60a04d558277480ee2d56de7"
      }
     },
     "cf091bbb5d864b8c9e102651a0d75de4": {
      "model_module": "@jupyter-widgets/base",
      "model_module_version": "1.2.0",
      "model_name": "LayoutModel",
      "state": {}
     },
     "cf11df94b9db4ef1875ccc3ca6db0238": {
      "model_module": "@jupyter-widgets/base",
      "model_module_version": "1.2.0",
      "model_name": "LayoutModel",
      "state": {}
     },
     "cf7567ff60a04d558277480ee2d56de7": {
      "model_module": "@jupyter-widgets/base",
      "model_module_version": "1.2.0",
      "model_name": "LayoutModel",
      "state": {}
     },
     "cfa929e8922c4627a934477cc8e6bafa": {
      "model_module": "@jupyter-widgets/controls",
      "model_module_version": "1.5.0",
      "model_name": "AccordionModel",
      "state": {
       "_titles": {
        "0": "Slider",
        "1": "Text"
       },
       "children": [
        "IPY_MODEL_4ecd6a79cedd494ead13b16a3030cfd8",
        "IPY_MODEL_aef7388ccef3482887151782a0c5684d"
       ],
       "layout": "IPY_MODEL_7d423dcd35924b418a13f94797928840",
       "selected_index": null
      }
     },
     "cfc06d0134d74df9bca64a0d1c1d317a": {
      "model_module": "@jupyter-widgets/controls",
      "model_module_version": "1.5.0",
      "model_name": "TextModel",
      "state": {
       "description": "P4",
       "layout": "IPY_MODEL_07d7cb73bb7b4d0dba486c656c91ec78",
       "style": "IPY_MODEL_d8ef0dfa51964f469efa9589a7ba7526"
      }
     },
     "cff420500dd4469cbefe5d69091f1dbf": {
      "model_module": "@jupyter-widgets/controls",
      "model_module_version": "1.5.0",
      "model_name": "DescriptionStyleModel",
      "state": {
       "description_width": ""
      }
     },
     "d0097152089a4eca83dfc7e660b4f10e": {
      "model_module": "@jupyter-widgets/base",
      "model_module_version": "1.2.0",
      "model_name": "LayoutModel",
      "state": {}
     },
     "d01a3f3a326a4a238a5a90cd6de0b09f": {
      "model_module": "@jupyter-widgets/controls",
      "model_module_version": "1.5.0",
      "model_name": "IntSliderModel",
      "state": {
       "continuous_update": false,
       "description": "Test:",
       "layout": "IPY_MODEL_9a9cd162abb9495886a01ab0a8000344",
       "max": 10,
       "style": "IPY_MODEL_2f60677e8bc748598feca1027aebc0a5",
       "value": 7
      }
     },
     "d042fc573ce345d495bba8a851a575e7": {
      "model_module": "@jupyter-widgets/controls",
      "model_module_version": "1.5.0",
      "model_name": "LabelModel",
      "state": {
       "layout": "IPY_MODEL_b78f823e80c24cd3b9149284323bcc75",
       "style": "IPY_MODEL_38fe0348681e403899f06d1473322bac",
       "value": "2"
      }
     },
     "d06b2171815a46088f739146cb140d85": {
      "model_module": "@jupyter-widgets/controls",
      "model_module_version": "1.5.0",
      "model_name": "LabelModel",
      "state": {
       "layout": "IPY_MODEL_d0097152089a4eca83dfc7e660b4f10e",
       "style": "IPY_MODEL_1bb1f556d16e433bb078c4b57a26c2a8",
       "value": "3"
      }
     },
     "d0a3f4454ddc40b4966276c4c2c961d3": {
      "model_module": "@jupyter-widgets/controls",
      "model_module_version": "1.5.0",
      "model_name": "DescriptionStyleModel",
      "state": {
       "description_width": ""
      }
     },
     "d1e436beb7e148de9a0a6c32a5bf4550": {
      "model_module": "@jupyter-widgets/controls",
      "model_module_version": "1.5.0",
      "model_name": "DescriptionStyleModel",
      "state": {
       "description_width": ""
      }
     },
     "d21b2895d1ef4eb7b9b8c37f3b59195c": {
      "model_module": "@jupyter-widgets/controls",
      "model_module_version": "1.5.0",
      "model_name": "DescriptionStyleModel",
      "state": {
       "description_width": ""
      }
     },
     "d2a3bcee611445c395d5c17aceec501e": {
      "model_module": "@jupyter-widgets/base",
      "model_module_version": "1.2.0",
      "model_name": "LayoutModel",
      "state": {}
     },
     "d341525b95a54dde89257e46a4a13ede": {
      "model_module": "@jupyter-widgets/base",
      "model_module_version": "1.2.0",
      "model_name": "LayoutModel",
      "state": {}
     },
     "d3570ee067354e9c898085a17b543c1d": {
      "model_module": "@jupyter-widgets/base",
      "model_module_version": "1.2.0",
      "model_name": "LayoutModel",
      "state": {}
     },
     "d3719ec0c0084002a0bb745e47aeb4be": {
      "model_module": "@jupyter-widgets/controls",
      "model_module_version": "1.5.0",
      "model_name": "HBoxModel",
      "state": {
       "children": [
        "IPY_MODEL_8c3be5b6b5ec4a918bd8b674bfef501b",
        "IPY_MODEL_6d0c780b23824050b64fe044de32d948"
       ],
       "layout": "IPY_MODEL_11d589e75af34b6081b584ab43cc94f6"
      }
     },
     "d3828b4e55ab48208067cf2fb87e9e19": {
      "model_module": "@jupyter-widgets/controls",
      "model_module_version": "1.5.0",
      "model_name": "DescriptionStyleModel",
      "state": {
       "description_width": ""
      }
     },
     "d39dd364dbb948f3bbb5fa57f6cba68c": {
      "model_module": "@jupyter-widgets/controls",
      "model_module_version": "1.5.0",
      "model_name": "DescriptionStyleModel",
      "state": {
       "description_width": ""
      }
     },
     "d3ab4ab7305d423788a6675412611854": {
      "model_module": "@jupyter-widgets/base",
      "model_module_version": "1.2.0",
      "model_name": "LayoutModel",
      "state": {}
     },
     "d3ae248c87fd40289ec2813a6e772bdf": {
      "model_module": "@jupyter-widgets/controls",
      "model_module_version": "1.5.0",
      "model_name": "DescriptionStyleModel",
      "state": {
       "description_width": ""
      }
     },
     "d3ddf2bb950a4d0d9ddceb23fef279fb": {
      "model_module": "@jupyter-widgets/controls",
      "model_module_version": "1.5.0",
      "model_name": "ProgressStyleModel",
      "state": {
       "description_width": ""
      }
     },
     "d3f431507535407384fd3a76c497f360": {
      "model_module": "@jupyter-widgets/controls",
      "model_module_version": "1.5.0",
      "model_name": "DescriptionStyleModel",
      "state": {
       "description_width": ""
      }
     },
     "d4026bf70a7f4430bd0164c6a12801ee": {
      "model_module": "@jupyter-widgets/controls",
      "model_module_version": "1.5.0",
      "model_name": "DescriptionStyleModel",
      "state": {
       "description_width": ""
      }
     },
     "d451d3ad4abb49409a681c71a30c76c7": {
      "model_module": "@jupyter-widgets/controls",
      "model_module_version": "1.5.0",
      "model_name": "SliderStyleModel",
      "state": {
       "description_width": ""
      }
     },
     "d4b433796bec41b3b909c92dd7f43742": {
      "model_module": "@jupyter-widgets/controls",
      "model_module_version": "1.5.0",
      "model_name": "LabelModel",
      "state": {
       "layout": "IPY_MODEL_9359d66997dc4341aaa759fcb51098f1",
       "style": "IPY_MODEL_5e69f09393f34da7b6845f83431289fe",
       "value": "1"
      }
     },
     "d57144f7a98c4e54b174920ab2c45ed9": {
      "model_module": "@jupyter-widgets/controls",
      "model_module_version": "1.5.0",
      "model_name": "DescriptionStyleModel",
      "state": {
       "description_width": ""
      }
     },
     "d5730bba96a342c9b29e96552ca6218f": {
      "model_module": "@jupyter-widgets/controls",
      "model_module_version": "1.5.0",
      "model_name": "SliderStyleModel",
      "state": {
       "description_width": ""
      }
     },
     "d584365b9ad64905a7e2d91fb53f2403": {
      "model_module": "@jupyter-widgets/controls",
      "model_module_version": "1.5.0",
      "model_name": "ButtonStyleModel",
      "state": {}
     },
     "d59ef2ded2b24d12a10c2c17d262a56e": {
      "model_module": "@jupyter-widgets/base",
      "model_module_version": "1.2.0",
      "model_name": "LayoutModel",
      "state": {}
     },
     "d5d4d047ea684a06b5e36771344b8724": {
      "model_module": "@jupyter-widgets/controls",
      "model_module_version": "1.5.0",
      "model_name": "DescriptionStyleModel",
      "state": {
       "description_width": ""
      }
     },
     "d5fc9b693e9d44c3a997ca990516c540": {
      "model_module": "@jupyter-widgets/base",
      "model_module_version": "1.2.0",
      "model_name": "LayoutModel",
      "state": {}
     },
     "d61292230a2643c69e320f3802204ee9": {
      "model_module": "@jupyter-widgets/controls",
      "model_module_version": "1.5.0",
      "model_name": "DescriptionStyleModel",
      "state": {
       "description_width": ""
      }
     },
     "d657657397764021ac0180892b8ac806": {
      "model_module": "@jupyter-widgets/controls",
      "model_module_version": "1.5.0",
      "model_name": "LabelModel",
      "state": {
       "layout": "IPY_MODEL_5c62d292c542465a9f4d69fed5a16b5c",
       "style": "IPY_MODEL_92fc27bfbebc4f6fbf52a68ce398fd19",
       "value": "3"
      }
     },
     "d6e075c24742402bb09ccceea6b22f76": {
      "model_module": "@jupyter-widgets/controls",
      "model_module_version": "1.5.0",
      "model_name": "DescriptionStyleModel",
      "state": {
       "description_width": ""
      }
     },
     "d6fe833b047349a2a0fe97cced45c578": {
      "model_module": "@jupyter-widgets/output",
      "model_module_version": "1.0.0",
      "model_name": "OutputModel",
      "state": {
       "layout": "IPY_MODEL_4dc53223ecf14937aa7d19147bd3c91c"
      }
     },
     "d75860cf6d074b81af891fabc094076d": {
      "model_module": "@jupyter-widgets/controls",
      "model_module_version": "1.5.0",
      "model_name": "SliderStyleModel",
      "state": {
       "description_width": ""
      }
     },
     "d758f35a624f465c9485ae9b9c8d3268": {
      "model_module": "@jupyter-widgets/controls",
      "model_module_version": "1.5.0",
      "model_name": "HTMLModel",
      "state": {
       "description": "Some HTML",
       "layout": "IPY_MODEL_511ba8c8795d4ec18afaaf819fb4603e",
       "placeholder": "Some HTML",
       "style": "IPY_MODEL_4359836e31b94b7cb920ddb637a7e3e1",
       "value": "Hello <b>World</b>"
      }
     },
     "d7fcb2981c4049f0b0e2700832da7a76": {
      "model_module": "@jupyter-widgets/controls",
      "model_module_version": "1.5.0",
      "model_name": "LabelModel",
      "state": {
       "layout": "IPY_MODEL_d9821d9b3dcd448684973b5601508aaf",
       "style": "IPY_MODEL_ff96c7857b6247f39af9b94c521b4658",
       "value": "1"
      }
     },
     "d832aadad70046ec8039b1ee3d2968bb": {
      "model_module": "@jupyter-widgets/controls",
      "model_module_version": "1.5.0",
      "model_name": "ColorPickerModel",
      "state": {
       "description": "Pick a color",
       "disabled": false,
       "layout": "IPY_MODEL_423de14e2ba84176b933f7bb7846e2ca",
       "style": "IPY_MODEL_c1245908b24549369778a03319694280",
       "value": "blue"
      }
     },
     "d84c69f9c6d44d5eb8b03f817f459ebb": {
      "model_module": "@jupyter-widgets/controls",
      "model_module_version": "1.5.0",
      "model_name": "SliderStyleModel",
      "state": {
       "description_width": ""
      }
     },
     "d8d074d9836e47ebb79830299a9c391e": {
      "model_module": "@jupyter-widgets/controls",
      "model_module_version": "1.5.0",
      "model_name": "DescriptionStyleModel",
      "state": {
       "description_width": ""
      }
     },
     "d8eb198c4ae84a058e147353f54aa37b": {
      "model_module": "@jupyter-widgets/controls",
      "model_module_version": "1.5.0",
      "model_name": "LabelModel",
      "state": {
       "layout": "IPY_MODEL_faf5917ac55d4d35a0e393f3d566fe34",
       "style": "IPY_MODEL_e140eb9232fe49df87d2a46f1048a84d",
       "value": "2"
      }
     },
     "d8ef0dfa51964f469efa9589a7ba7526": {
      "model_module": "@jupyter-widgets/controls",
      "model_module_version": "1.5.0",
      "model_name": "DescriptionStyleModel",
      "state": {
       "description_width": ""
      }
     },
     "d91e8d3bb7984f529a8a57e08c0884b9": {
      "model_module": "@jupyter-widgets/controls",
      "model_module_version": "1.5.0",
      "model_name": "DescriptionStyleModel",
      "state": {
       "description_width": ""
      }
     },
     "d96e41b68c89477b83db8d61992a26f2": {
      "model_module": "@jupyter-widgets/base",
      "model_module_version": "1.2.0",
      "model_name": "LayoutModel",
      "state": {}
     },
     "d96f9fe8f40e493490d77d79b926c2ae": {
      "model_module": "@jupyter-widgets/base",
      "model_module_version": "1.2.0",
      "model_name": "LayoutModel",
      "state": {}
     },
     "d9821d9b3dcd448684973b5601508aaf": {
      "model_module": "@jupyter-widgets/base",
      "model_module_version": "1.2.0",
      "model_name": "LayoutModel",
      "state": {}
     },
     "d99736eed6394aa5a7cedfd5bc5f620a": {
      "model_module": "@jupyter-widgets/base",
      "model_module_version": "1.2.0",
      "model_name": "LayoutModel",
      "state": {}
     },
     "d9ca25f7ba6248c5948f9900342ac76d": {
      "model_module": "@jupyter-widgets/controls",
      "model_module_version": "1.5.0",
      "model_name": "ButtonStyleModel",
      "state": {}
     },
     "d9ea1dd6dbf64e6b84361391642ca2f2": {
      "model_module": "@jupyter-widgets/controls",
      "model_module_version": "1.5.0",
      "model_name": "HBoxModel",
      "state": {
       "children": [
        "IPY_MODEL_41532ee89d374d2886e665a441496efa",
        "IPY_MODEL_8b78c09a0a4f4a7aa9b8238cb5f13a50",
        "IPY_MODEL_44acfc1dfb404758a08ff1681c91e741",
        "IPY_MODEL_23dd4f2e7f084f668c00d2c4407811e0"
       ],
       "layout": "IPY_MODEL_9082e1d2ea864c5fb754e6234b9a7e41"
      }
     },
     "da2f0d9ec6c64d9c9cb6ee90408c2097": {
      "model_module": "@jupyter-widgets/base",
      "model_module_version": "1.2.0",
      "model_name": "LayoutModel",
      "state": {}
     },
     "da4bdd0cdb8b4107a1635e461d8caec6": {
      "model_module": "@jupyter-widgets/controls",
      "model_module_version": "1.5.0",
      "model_name": "SliderStyleModel",
      "state": {
       "description_width": ""
      }
     },
     "da6d035ca8ec45e7a33ad3b71baaae21": {
      "model_module": "@jupyter-widgets/controls",
      "model_module_version": "1.5.0",
      "model_name": "DescriptionStyleModel",
      "state": {
       "description_width": ""
      }
     },
     "da6ed31102f8462fa6818c589ef1990c": {
      "model_module": "@jupyter-widgets/base",
      "model_module_version": "1.2.0",
      "model_name": "LayoutModel",
      "state": {}
     },
     "da7b15785164468795bb99f470aa12d6": {
      "model_module": "@jupyter-widgets/base",
      "model_module_version": "1.2.0",
      "model_name": "LayoutModel",
      "state": {}
     },
     "da90c60240eb4bcb814b415506088cdd": {
      "model_module": "@jupyter-widgets/controls",
      "model_module_version": "1.5.0",
      "model_name": "SliderStyleModel",
      "state": {
       "description_width": ""
      }
     },
     "daa403e5ae864090b03f73560ef57cd0": {
      "model_module": "@jupyter-widgets/controls",
      "model_module_version": "1.5.0",
      "model_name": "IntProgressModel",
      "state": {
       "description": "Loading:",
       "layout": "IPY_MODEL_01a2636ce4c54b8491f13f4ada294cd1",
       "max": 10,
       "style": "IPY_MODEL_58c4b1217a174ac2baae799f72734c4c",
       "value": 7
      }
     },
     "db737c5e91f14dc88af54dccb0c49ff2": {
      "model_module": "@jupyter-widgets/controls",
      "model_module_version": "1.5.0",
      "model_name": "HBoxModel",
      "state": {
       "children": [
        "IPY_MODEL_12671d7db2d34c76b36d0c75bf3fe48f",
        "IPY_MODEL_01209ec3fcb64f39beb9a2fc63d37d7d"
       ],
       "layout": "IPY_MODEL_e0349491df994fa7903f66128ab71a64"
      }
     },
     "db9b6144c836430fbece066179679312": {
      "model_module": "@jupyter-widgets/base",
      "model_module_version": "1.2.0",
      "model_name": "LayoutModel",
      "state": {}
     },
     "dbd7de63f7254413a23c573bcc39e785": {
      "model_module": "@jupyter-widgets/controls",
      "model_module_version": "1.5.0",
      "model_name": "DescriptionStyleModel",
      "state": {
       "description_width": ""
      }
     },
     "dc265eff554f4d428f981135b4a437fd": {
      "model_module": "@jupyter-widgets/controls",
      "model_module_version": "1.5.0",
      "model_name": "SelectMultipleModel",
      "state": {
       "_options_labels": [
        "Apples",
        "Oranges",
        "Pears"
       ],
       "description": "Fruits",
       "index": [
        1
       ],
       "layout": "IPY_MODEL_1ecae4d61e7d4cf486f721fce70c2586",
       "rows": 5,
       "style": "IPY_MODEL_3dcb35c0745c499ab764ad6c083f9c2e"
      }
     },
     "dc2e6ed23d4943219ea90458025bfbdc": {
      "model_module": "@jupyter-widgets/base",
      "model_module_version": "1.2.0",
      "model_name": "LayoutModel",
      "state": {}
     },
     "dc9b47391ec24d14a7dc52646d4d8f3a": {
      "model_module": "@jupyter-widgets/controls",
      "model_module_version": "1.5.0",
      "model_name": "DescriptionStyleModel",
      "state": {
       "description_width": ""
      }
     },
     "dcefb51532d7460eb484f4924eedf70f": {
      "model_module": "@jupyter-widgets/controls",
      "model_module_version": "1.5.0",
      "model_name": "DescriptionStyleModel",
      "state": {
       "description_width": ""
      }
     },
     "dd264046a37849b685c9dbe64ab61057": {
      "model_module": "@jupyter-widgets/controls",
      "model_module_version": "1.5.0",
      "model_name": "RadioButtonsModel",
      "state": {
       "_options_labels": [
        "pepperoni",
        "pineapple",
        "anchovies"
       ],
       "description": "Pizza topping:",
       "index": 0,
       "layout": "IPY_MODEL_24cfeb63c11f4842af69dee09122f96e",
       "style": "IPY_MODEL_7df4e43cd7f849fc97a358ceeb87b6ae"
      }
     },
     "dda38b9448314d0fb844bdad5e16db90": {
      "model_module": "@jupyter-widgets/controls",
      "model_module_version": "1.5.0",
      "model_name": "SliderStyleModel",
      "state": {
       "description_width": ""
      }
     },
     "ddc024ce613445029a899fa65974ee3d": {
      "model_module": "@jupyter-widgets/base",
      "model_module_version": "1.2.0",
      "model_name": "LayoutModel",
      "state": {}
     },
     "ddd8f750c4ca4eea917edb7c51b67477": {
      "model_module": "@jupyter-widgets/controls",
      "model_module_version": "1.5.0",
      "model_name": "DescriptionStyleModel",
      "state": {
       "description_width": ""
      }
     },
     "ddf6a893b3ce47069b705a7184c1f225": {
      "model_module": "@jupyter-widgets/base",
      "model_module_version": "1.2.0",
      "model_name": "LayoutModel",
      "state": {}
     },
     "de47aa88ae3b4710960cef6500b11781": {
      "model_module": "@jupyter-widgets/base",
      "model_module_version": "1.2.0",
      "model_name": "LayoutModel",
      "state": {}
     },
     "de911c619d924589b8f5b8596b8671ba": {
      "model_module": "@jupyter-widgets/base",
      "model_module_version": "1.2.0",
      "model_name": "LayoutModel",
      "state": {}
     },
     "dea18b3446bb49559d7684a4f2a31892": {
      "model_module": "@jupyter-widgets/controls",
      "model_module_version": "1.5.0",
      "model_name": "DescriptionStyleModel",
      "state": {
       "description_width": ""
      }
     },
     "dea9eacb25034aa5a395a75bc9e0aa4a": {
      "model_module": "@jupyter-widgets/controls",
      "model_module_version": "1.5.0",
      "model_name": "FloatTextModel",
      "state": {
       "description": "Any:",
       "layout": "IPY_MODEL_1f4e9f67a9b347e38ed0aabfc7e76264",
       "step": null,
       "style": "IPY_MODEL_531293981f1644b8826d90c8693c04b3",
       "value": 7.5
      }
     },
     "deee1a95874c4dd4af51ca82a14613dd": {
      "model_module": "@jupyter-widgets/base",
      "model_module_version": "1.2.0",
      "model_name": "LayoutModel",
      "state": {}
     },
     "df4f87746ac24caeb13148e8c7d8ca4f": {
      "model_module": "@jupyter-widgets/controls",
      "model_module_version": "1.5.0",
      "model_name": "DescriptionStyleModel",
      "state": {
       "description_width": ""
      }
     },
     "df6c927706f54c36bf8f045f01cfbf4b": {
      "model_module": "@jupyter-widgets/base",
      "model_module_version": "1.2.0",
      "model_name": "LayoutModel",
      "state": {}
     },
     "dfd0b50401c54154a43691df42005ece": {
      "model_module": "@jupyter-widgets/base",
      "model_module_version": "1.2.0",
      "model_name": "LayoutModel",
      "state": {}
     },
     "dfefefe32f2c4c13a94b14768b79adaa": {
      "model_module": "@jupyter-widgets/base",
      "model_module_version": "1.2.0",
      "model_name": "LayoutModel",
      "state": {}
     },
     "e022677be40940fc9af40c4df513c349": {
      "model_module": "@jupyter-widgets/controls",
      "model_module_version": "1.5.0",
      "model_name": "DescriptionStyleModel",
      "state": {
       "description_width": ""
      }
     },
     "e0349491df994fa7903f66128ab71a64": {
      "model_module": "@jupyter-widgets/base",
      "model_module_version": "1.2.0",
      "model_name": "LayoutModel",
      "state": {}
     },
     "e04f05d7cfe446cba76b0160869aa555": {
      "model_module": "@jupyter-widgets/controls",
      "model_module_version": "1.5.0",
      "model_name": "ProgressStyleModel",
      "state": {
       "description_width": ""
      }
     },
     "e0646b84f4464212ba13996ad1f8134e": {
      "model_module": "@jupyter-widgets/controls",
      "model_module_version": "1.5.0",
      "model_name": "SelectMultipleModel",
      "state": {
       "_options_labels": [
        "Apples",
        "Oranges",
        "Pears"
       ],
       "description": "Fruits",
       "index": [
        1
       ],
       "layout": "IPY_MODEL_50ca8a5bb1aa4ae496d2e94c439fc895",
       "rows": 5,
       "style": "IPY_MODEL_1d4ae2e0a52b46598c2bfcb92a7e9ca6"
      }
     },
     "e069e1c4d84e44b59cf51a1fa364cac7": {
      "model_module": "@jupyter-widgets/base",
      "model_module_version": "1.2.0",
      "model_name": "LayoutModel",
      "state": {}
     },
     "e0b0f6a844b94b538959e4f5b1de6afe": {
      "model_module": "@jupyter-widgets/base",
      "model_module_version": "1.2.0",
      "model_name": "LayoutModel",
      "state": {}
     },
     "e0bd89507f664f128d4c87181af4a05e": {
      "model_module": "@jupyter-widgets/controls",
      "model_module_version": "1.5.0",
      "model_name": "IntSliderModel",
      "state": {
       "layout": "IPY_MODEL_088cc24009094ec28d7238552eda44c8",
       "style": "IPY_MODEL_3915eef972ee46eaad657931fe35fea9"
      }
     },
     "e0d95b652229478da775f647d80ebb76": {
      "model_module": "@jupyter-widgets/controls",
      "model_module_version": "1.5.0",
      "model_name": "VBoxModel",
      "state": {
       "children": [
        "IPY_MODEL_2393cdb497ea4632ab7ef03a7ed06736",
        "IPY_MODEL_d7fcb2981c4049f0b0e2700832da7a76"
       ],
       "layout": "IPY_MODEL_d99736eed6394aa5a7cedfd5bc5f620a"
      }
     },
     "e0db9a5d646144f5ab1aceee42ec5a27": {
      "model_module": "@jupyter-widgets/base",
      "model_module_version": "1.2.0",
      "model_name": "LayoutModel",
      "state": {}
     },
     "e0df2e92f9394416aaf25b6ccfdfa0ea": {
      "model_module": "@jupyter-widgets/controls",
      "model_module_version": "1.5.0",
      "model_name": "VBoxModel",
      "state": {
       "children": [
        "IPY_MODEL_ecc89ea5bbf649f5b68371cdc187928f",
        "IPY_MODEL_6ae28d92f15f49f2be37c54b4774d511"
       ],
       "layout": "IPY_MODEL_c9269932108d4cef99cd09c695c50aa2"
      }
     },
     "e140dc7d9670437c8e15e1b796ef926e": {
      "model_module": "@jupyter-widgets/base",
      "model_module_version": "1.2.0",
      "model_name": "LayoutModel",
      "state": {}
     },
     "e140eb9232fe49df87d2a46f1048a84d": {
      "model_module": "@jupyter-widgets/controls",
      "model_module_version": "1.5.0",
      "model_name": "DescriptionStyleModel",
      "state": {
       "description_width": ""
      }
     },
     "e170ee467e8d40efa10e9630dcefb8cf": {
      "model_module": "@jupyter-widgets/controls",
      "model_module_version": "1.5.0",
      "model_name": "SelectionSliderModel",
      "state": {
       "_options_labels": [
        "scrambled",
        "sunny side up",
        "poached",
        "over easy"
       ],
       "continuous_update": false,
       "description": "I like my eggs …",
       "index": 1,
       "layout": "IPY_MODEL_9c055f6a9f8b41828d8e6a72023d7668",
       "style": "IPY_MODEL_e685a90a553a4a9797696a38bd4f38b9"
      }
     },
     "e18503c349464d4f80043c14aa61d3cd": {
      "model_module": "@jupyter-widgets/base",
      "model_module_version": "1.2.0",
      "model_name": "LayoutModel",
      "state": {}
     },
     "e1b82420ef404aada6b11113939f99c1": {
      "model_module": "@jupyter-widgets/controls",
      "model_module_version": "1.5.0",
      "model_name": "IntTextModel",
      "state": {
       "description": "Any:",
       "layout": "IPY_MODEL_821fb1c2bcda44b486b96cc67aacd65f",
       "step": 1,
       "style": "IPY_MODEL_66ccbb3ada214f469366003da4ddba62",
       "value": 7
      }
     },
     "e1c6d630c3a9477a9b798a39753b80e2": {
      "model_module": "@jupyter-widgets/base",
      "model_module_version": "1.2.0",
      "model_name": "LayoutModel",
      "state": {}
     },
     "e1debd1cfbfb48258ecfd3cd32d583c6": {
      "model_module": "@jupyter-widgets/base",
      "model_module_version": "1.2.0",
      "model_name": "LayoutModel",
      "state": {}
     },
     "e27184d726c44d28a63b1c0a6bf0c602": {
      "model_module": "@jupyter-widgets/controls",
      "model_module_version": "1.5.0",
      "model_name": "TextModel",
      "state": {
       "description": "P3",
       "layout": "IPY_MODEL_2014535acad641caa9ecf637268d148c",
       "style": "IPY_MODEL_64a4f35b9dd44751bb56c6fa95c09340"
      }
     },
     "e27b4ca8c5484a89a26dae15ca55144c": {
      "model_module": "@jupyter-widgets/controls",
      "model_module_version": "1.5.0",
      "model_name": "TextModel",
      "state": {
       "layout": "IPY_MODEL_8fe71cf660204325b22522b750b422ce",
       "style": "IPY_MODEL_6b497fcf4be34123b0801575eb1379d0"
      }
     },
     "e2911ef7c0844e83a42b03f409cb6178": {
      "model_module": "@jupyter-widgets/base",
      "model_module_version": "1.2.0",
      "model_name": "LayoutModel",
      "state": {}
     },
     "e2a9c51fbb1d49498c82fb4ba2540fa5": {
      "model_module": "@jupyter-widgets/controls",
      "model_module_version": "1.5.0",
      "model_name": "DescriptionStyleModel",
      "state": {
       "description_width": ""
      }
     },
     "e2aecfff9b114f8e98c3d397ee319584": {
      "model_module": "@jupyter-widgets/controls",
      "model_module_version": "1.5.0",
      "model_name": "HBoxModel",
      "state": {
       "children": [
        "IPY_MODEL_cb3de87ba378481998c289a134b61ac1",
        "IPY_MODEL_2b2be252e8a1406da0ab0fd331839de9"
       ],
       "layout": "IPY_MODEL_09faa2263b4942ad9c143b8c925d4345"
      }
     },
     "e2ca6a3e225b4d3097fbd3d37629569f": {
      "model_module": "@jupyter-widgets/controls",
      "model_module_version": "1.5.0",
      "model_name": "LabelModel",
      "state": {
       "layout": "IPY_MODEL_b0713cfd0f884112ac3951e483d47699",
       "style": "IPY_MODEL_551c2a21201d4cb39cd64060eb631412",
       "value": "The $m$ in $E=mc^2$:"
      }
     },
     "e2dcd4a29a67479dbcbdef453d6727b9": {
      "model_module": "@jupyter-widgets/base",
      "model_module_version": "1.2.0",
      "model_name": "LayoutModel",
      "state": {}
     },
     "e3057ae8944d46d08c749b70e27389f4": {
      "model_module": "@jupyter-widgets/base",
      "model_module_version": "1.2.0",
      "model_name": "LayoutModel",
      "state": {}
     },
     "e33dad72a9ec485fa6650b3cb8e715ae": {
      "model_module": "@jupyter-widgets/controls",
      "model_module_version": "1.5.0",
      "model_name": "TextModel",
      "state": {
       "layout": "IPY_MODEL_0c5ab31b2c8145e7b7fee5e64ce505fd",
       "style": "IPY_MODEL_0eff6e7dc8ed4ba9bf1e33cccf2f8a9d"
      }
     },
     "e3433d4767c5446e9846cc4ac61b2a66": {
      "model_module": "@jupyter-widgets/controls",
      "model_module_version": "1.5.0",
      "model_name": "DescriptionStyleModel",
      "state": {
       "description_width": ""
      }
     },
     "e3f33bcecc78411681d5f7a90c6fe423": {
      "model_module": "@jupyter-widgets/controls",
      "model_module_version": "1.5.0",
      "model_name": "CheckboxModel",
      "state": {
       "description": "Check me",
       "disabled": false,
       "layout": "IPY_MODEL_e2911ef7c0844e83a42b03f409cb6178",
       "style": "IPY_MODEL_076fa62a30d94578b011f4e68683c7fe",
       "value": false
      }
     },
     "e4ebc760e6464edf8efc2717774645f9": {
      "model_module": "@jupyter-widgets/base",
      "model_module_version": "1.2.0",
      "model_name": "LayoutModel",
      "state": {}
     },
     "e5530003d0bd462a9e2edc1277c10954": {
      "model_module": "@jupyter-widgets/base",
      "model_module_version": "1.2.0",
      "model_name": "LayoutModel",
      "state": {}
     },
     "e60e2e7b9f604dc8b242e7a96179e78d": {
      "model_module": "@jupyter-widgets/controls",
      "model_module_version": "1.5.0",
      "model_name": "ColorPickerModel",
      "state": {
       "description": "Pick a color",
       "disabled": false,
       "layout": "IPY_MODEL_00b407d924be4b3d8caf84605caf278d",
       "style": "IPY_MODEL_1f9aa012338e409685bafde50909d712",
       "value": "blue"
      }
     },
     "e6403ebe03d142ba83d7bb93f44084ed": {
      "model_module": "@jupyter-widgets/base",
      "model_module_version": "1.2.0",
      "model_name": "LayoutModel",
      "state": {}
     },
     "e6536e9937c747fe8e0c3e21d2085ab1": {
      "model_module": "@jupyter-widgets/controls",
      "model_module_version": "1.5.0",
      "model_name": "SliderStyleModel",
      "state": {
       "description_width": ""
      }
     },
     "e685a90a553a4a9797696a38bd4f38b9": {
      "model_module": "@jupyter-widgets/controls",
      "model_module_version": "1.5.0",
      "model_name": "DescriptionStyleModel",
      "state": {
       "description_width": ""
      }
     },
     "e6d42824d3a340eb9fe875e57628d487": {
      "model_module": "@jupyter-widgets/controls",
      "model_module_version": "1.5.0",
      "model_name": "LabelModel",
      "state": {
       "layout": "IPY_MODEL_d5fc9b693e9d44c3a997ca990516c540",
       "style": "IPY_MODEL_73800ac92c1541f09ffcbf960ed6239c",
       "value": "2"
      }
     },
     "e7188400def14aa289885ee404688caf": {
      "model_module": "@jupyter-widgets/controls",
      "model_module_version": "1.5.0",
      "model_name": "DatePickerModel",
      "state": {
       "description": "Pick a Date",
       "disabled": false,
       "layout": "IPY_MODEL_c8780453535b439e87aa7fe94d999629",
       "style": "IPY_MODEL_15648b69e9044e71b8ecf5ccc1e544cc"
      }
     },
     "e72c16eac0814572a1ed61fa598c1e1f": {
      "model_module": "@jupyter-widgets/controls",
      "model_module_version": "1.5.0",
      "model_name": "TextModel",
      "state": {
       "description": "P0",
       "layout": "IPY_MODEL_ef75aac0736c4349aae0a939a9008db7",
       "style": "IPY_MODEL_29f56f3a254e41faa3ea012cbfa38bcf"
      }
     },
     "e730aaa16c7a4110abac9d97ac4deb65": {
      "model_module": "@jupyter-widgets/base",
      "model_module_version": "1.2.0",
      "model_name": "LayoutModel",
      "state": {}
     },
     "e7e3a200506e49c5b02fcefbe44b08f4": {
      "model_module": "@jupyter-widgets/base",
      "model_module_version": "1.2.0",
      "model_name": "LayoutModel",
      "state": {}
     },
     "e831012e2ece4521a47a19e8a8a8c64e": {
      "model_module": "@jupyter-widgets/controls",
      "model_module_version": "1.5.0",
      "model_name": "SliderStyleModel",
      "state": {
       "description_width": ""
      }
     },
     "e8499f80e745416ab7d5212d3458a9ab": {
      "model_module": "@jupyter-widgets/base",
      "model_module_version": "1.2.0",
      "model_name": "LayoutModel",
      "state": {}
     },
     "e91538c0b61c49e5b35720f54539df2e": {
      "model_module": "@jupyter-widgets/controls",
      "model_module_version": "1.5.0",
      "model_name": "DescriptionStyleModel",
      "state": {
       "description_width": ""
      }
     },
     "e9573092a3b148ea9de0b297917c4826": {
      "model_module": "@jupyter-widgets/base",
      "model_module_version": "1.2.0",
      "model_name": "LayoutModel",
      "state": {}
     },
     "e9612a68908a4a8c9492b397a96aee1a": {
      "model_module": "@jupyter-widgets/controls",
      "model_module_version": "1.5.0",
      "model_name": "DescriptionStyleModel",
      "state": {
       "description_width": ""
      }
     },
     "e96bc0bee4274dfe8dd57907c56d94b4": {
      "model_module": "@jupyter-widgets/controls",
      "model_module_version": "1.5.0",
      "model_name": "ToggleButtonsStyleModel",
      "state": {
       "button_width": "",
       "description_width": ""
      }
     },
     "e9c04e9e8a014068b7e9cbe00a14ac72": {
      "model_module": "@jupyter-widgets/base",
      "model_module_version": "1.2.0",
      "model_name": "LayoutModel",
      "state": {}
     },
     "e9c1dcae82e948a19b036e0b4046bf60": {
      "model_module": "@jupyter-widgets/controls",
      "model_module_version": "1.5.0",
      "model_name": "DescriptionStyleModel",
      "state": {
       "description_width": ""
      }
     },
     "e9fa3da771a44b5b92c2cb23c2685a0a": {
      "model_module": "@jupyter-widgets/base",
      "model_module_version": "1.2.0",
      "model_name": "LayoutModel",
      "state": {}
     },
     "ea024955f2bb418e9135280da59bdf2f": {
      "model_module": "@jupyter-widgets/controls",
      "model_module_version": "1.5.0",
      "model_name": "DescriptionStyleModel",
      "state": {
       "description_width": ""
      }
     },
     "ea02b15e97b044f085521788a6765e1f": {
      "model_module": "@jupyter-widgets/base",
      "model_module_version": "1.2.0",
      "model_name": "LayoutModel",
      "state": {}
     },
     "eaa57a83d6784654a40598a4eab16a07": {
      "model_module": "@jupyter-widgets/controls",
      "model_module_version": "1.5.0",
      "model_name": "LabelModel",
      "state": {
       "layout": "IPY_MODEL_a306e7b798e4435eae99ece41e943390",
       "style": "IPY_MODEL_8d6ab17122854500a28fb0cf2a7165b7",
       "value": "1"
      }
     },
     "eaad72415ca3496190b1445b2a165799": {
      "model_module": "@jupyter-widgets/base",
      "model_module_version": "1.2.0",
      "model_name": "LayoutModel",
      "state": {}
     },
     "eae20f1775744dc5933c9dffd584b108": {
      "model_module": "@jupyter-widgets/controls",
      "model_module_version": "1.5.0",
      "model_name": "FloatSliderModel",
      "state": {
       "layout": "IPY_MODEL_2357d552f726458c97a48667db8e5cf1",
       "step": 0.1,
       "style": "IPY_MODEL_04b03f832fba462eac4cf92de00e2a22"
      }
     },
     "ebc18604a16643f89512208c69cc18ff": {
      "model_module": "@jupyter-widgets/controls",
      "model_module_version": "1.5.0",
      "model_name": "ButtonModel",
      "state": {
       "description": "Click me",
       "icon": "check",
       "layout": "IPY_MODEL_cca13f2a104f4d20a6c51f361de18ba1",
       "style": "IPY_MODEL_d9ca25f7ba6248c5948f9900342ac76d",
       "tooltip": "Click me"
      }
     },
     "ebc4fcae1c3b4f0681e1eac4ec6b62c9": {
      "model_module": "@jupyter-widgets/controls",
      "model_module_version": "1.5.0",
      "model_name": "DescriptionStyleModel",
      "state": {
       "description_width": ""
      }
     },
     "ebca891d27a843d6adc363df31a734c3": {
      "model_module": "@jupyter-widgets/controls",
      "model_module_version": "1.5.0",
      "model_name": "LabelModel",
      "state": {
       "layout": "IPY_MODEL_86fa6d7278dd4358b35f51f1c914cadd",
       "style": "IPY_MODEL_bbb95213bb7640a3b3142c6b0841262b",
       "value": "3"
      }
     },
     "ebd084bdaa084a6cacf63b60fcfbb6ef": {
      "model_module": "@jupyter-widgets/controls",
      "model_module_version": "1.5.0",
      "model_name": "DescriptionStyleModel",
      "state": {
       "description_width": ""
      }
     },
     "ebd66356a4bd41bcb08bbb71c6778c33": {
      "model_module": "@jupyter-widgets/base",
      "model_module_version": "1.2.0",
      "model_name": "LayoutModel",
      "state": {}
     },
     "ebd8d218855c47dbaf16df36a879cdc3": {
      "model_module": "@jupyter-widgets/controls",
      "model_module_version": "1.5.0",
      "model_name": "DescriptionStyleModel",
      "state": {
       "description_width": ""
      }
     },
     "ebf932b727aa4becb17cf667d08f551a": {
      "model_module": "@jupyter-widgets/controls",
      "model_module_version": "1.5.0",
      "model_name": "ColorPickerModel",
      "state": {
       "description": "Pick a color",
       "disabled": false,
       "layout": "IPY_MODEL_2c088aa691544595931da7cbbc67a9f2",
       "style": "IPY_MODEL_645e70abad19429dbf95dea84e9a44a7",
       "value": "blue"
      }
     },
     "ecc89ea5bbf649f5b68371cdc187928f": {
      "model_module": "@jupyter-widgets/controls",
      "model_module_version": "1.5.0",
      "model_name": "LabelModel",
      "state": {
       "layout": "IPY_MODEL_c2f52f0a69ee4a93b054387ee32710d0",
       "style": "IPY_MODEL_afa18d5b38ed4c288ff45b1723127c45",
       "value": "0"
      }
     },
     "ed99e15d5ec549f7ba2de9fb200966db": {
      "model_module": "@jupyter-widgets/base",
      "model_module_version": "1.2.0",
      "model_name": "LayoutModel",
      "state": {}
     },
     "edaf9ee81c7142ec943f3097ab6bb749": {
      "model_module": "@jupyter-widgets/controls",
      "model_module_version": "1.5.0",
      "model_name": "FloatRangeSliderModel",
      "state": {
       "_model_name": "FloatRangeSliderModel",
       "_view_name": "FloatRangeSliderView",
       "continuous_update": false,
       "description": "Test:",
       "layout": "IPY_MODEL_607ea8ce62af4013b9e4e0ccdfe66739",
       "max": 10,
       "readout_format": ".1f",
       "step": 0.1,
       "style": "IPY_MODEL_7cc2c993589a499b8f8f5d0a0ddbd76a",
       "value": [
        5,
        7.5
       ]
      }
     },
     "ee93cadb285f489782ccf9f74eec88c7": {
      "model_module": "@jupyter-widgets/controls",
      "model_module_version": "1.5.0",
      "model_name": "TabModel",
      "state": {
       "_titles": {
        "0": "0",
        "1": "1",
        "2": "2",
        "3": "3",
        "4": "4"
       },
       "children": [
        "IPY_MODEL_276e5549a7f5491ead7f3baf60b558e2",
        "IPY_MODEL_8f04463410aa4c48b8d05a9684fcefef",
        "IPY_MODEL_63aca61ce3484a08b2fc892e6f2dc261",
        "IPY_MODEL_e27184d726c44d28a63b1c0a6bf0c602",
        "IPY_MODEL_c4e602ed03014fb49ce3c81c5e1eefa2"
       ],
       "layout": "IPY_MODEL_b6e844dc2fb044bcaf060d2a32dce376",
       "selected_index": 3
      }
     },
     "eeefd8bcc7124dd69d611f199c881e9f": {
      "model_module": "@jupyter-widgets/base",
      "model_module_version": "1.2.0",
      "model_name": "LayoutModel",
      "state": {}
     },
     "ef243d11906f4b3aab53238e579965b6": {
      "model_module": "@jupyter-widgets/controls",
      "model_module_version": "1.5.0",
      "model_name": "DescriptionStyleModel",
      "state": {
       "description_width": ""
      }
     },
     "ef75aac0736c4349aae0a939a9008db7": {
      "model_module": "@jupyter-widgets/base",
      "model_module_version": "1.2.0",
      "model_name": "LayoutModel",
      "state": {}
     },
     "eff76e4f6d76416184c765f2e32a4553": {
      "model_module": "@jupyter-widgets/base",
      "model_module_version": "1.2.0",
      "model_name": "LayoutModel",
      "state": {}
     },
     "f00dc00767fe45dfbd186fdd7ca0263b": {
      "model_module": "@jupyter-widgets/controls",
      "model_module_version": "1.5.0",
      "model_name": "LabelModel",
      "state": {
       "layout": "IPY_MODEL_8a47787d7a17499c8447fdf60f9fa018",
       "style": "IPY_MODEL_a7edc07300d74e59a2b3f2b3f27f6ecc",
       "value": "1"
      }
     },
     "f03317204ae34a82a89dd1a76ee0a164": {
      "model_module": "@jupyter-widgets/base",
      "model_module_version": "1.2.0",
      "model_name": "LayoutModel",
      "state": {}
     },
     "f0f7583e5f414878b628ff5ac470cd21": {
      "model_module": "@jupyter-widgets/base",
      "model_module_version": "1.2.0",
      "model_name": "LayoutModel",
      "state": {}
     },
     "f1299d92695a43f2994c1174dd538e38": {
      "model_module": "@jupyter-widgets/controls",
      "model_module_version": "1.5.0",
      "model_name": "IntProgressModel",
      "state": {
       "description": "Loading:",
       "layout": "IPY_MODEL_fb1640b4ada04c0ea17be40d0a540ccb",
       "max": 10,
       "style": "IPY_MODEL_289f62a26fa6437d832509e6e3c90807",
       "value": 7
      }
     },
     "f173d96fa7e54393a6dec3fde3397853": {
      "buffers": [
       {
        "data": "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",
        "encoding": "base64",
        "path": [
         "value"
        ]
       }
      ],
      "model_module": "@jupyter-widgets/controls",
      "model_module_version": "1.5.0",
      "model_name": "ImageModel",
      "state": {
       "format": "gif",
       "height": "128",
       "layout": "IPY_MODEL_770d1a37ea5e4532926fea608ac86752",
       "width": "128"
      }
     },
     "f1766515960d4d29a3f6b922eb722702": {
      "model_module": "@jupyter-widgets/controls",
      "model_module_version": "1.5.0",
      "model_name": "FloatSliderModel",
      "state": {
       "continuous_update": false,
       "description": "Test:",
       "layout": "IPY_MODEL_3ca58ccdc65b447ca13ed0a95b67d111",
       "max": 10,
       "orientation": "vertical",
       "readout_format": ".1f",
       "step": 0.1,
       "style": "IPY_MODEL_4ee25fddf2b243528d775c3d087608fc",
       "value": 7.5
      }
     },
     "f194fb0ac04045b0ab0d75cd388b55e7": {
      "model_module": "@jupyter-widgets/controls",
      "model_module_version": "1.5.0",
      "model_name": "TabModel",
      "state": {
       "_titles": {
        "0": "0",
        "1": "1",
        "2": "2",
        "3": "3",
        "4": "4"
       },
       "children": [
        "IPY_MODEL_92da1c478c3b47d1927897e9028af200",
        "IPY_MODEL_459cfc853dfc4b71b20f70fb5266d0de",
        "IPY_MODEL_8d08c42be0fa42adaeb2e23755fc489c",
        "IPY_MODEL_c472ae30b11847a79fb7e392188024c3",
        "IPY_MODEL_32fd40cbe51440da8c42f3612159a7fb"
       ],
       "layout": "IPY_MODEL_0c080071c4c2441e9aaa34fd4c6ead9d",
       "selected_index": 3
      }
     },
     "f1eda5a6dada4c2b8bd1eb334b99e597": {
      "model_module": "@jupyter-widgets/base",
      "model_module_version": "1.2.0",
      "model_name": "LayoutModel",
      "state": {}
     },
     "f2116d4e02f54115b9b2ce3d299ef967": {
      "model_module": "@jupyter-widgets/controls",
      "model_module_version": "1.5.0",
      "model_name": "DescriptionStyleModel",
      "state": {
       "description_width": ""
      }
     },
     "f2acb17e4d77405aa646fd3dfa1868df": {
      "model_module": "@jupyter-widgets/controls",
      "model_module_version": "1.5.0",
      "model_name": "TextModel",
      "state": {
       "layout": "IPY_MODEL_9a788310fa7e49ae9b11656a60453a5e",
       "style": "IPY_MODEL_92d49fa312b64cd7aea6ce97eb654edc"
      }
     },
     "f2cd886a5c084caca56e54f861a311f2": {
      "model_module": "@jupyter-widgets/controls",
      "model_module_version": "1.5.0",
      "model_name": "CheckboxModel",
      "state": {
       "description": "Check me",
       "disabled": false,
       "layout": "IPY_MODEL_208fca5eb38e46649d6ad1d973aacd44",
       "style": "IPY_MODEL_d3f431507535407384fd3a76c497f360",
       "value": false
      }
     },
     "f2e61e771b6946b78d0e3909248b48d1": {
      "model_module": "@jupyter-widgets/base",
      "model_module_version": "1.2.0",
      "model_name": "LayoutModel",
      "state": {}
     },
     "f354bf243c364d029ddb7293d1a93392": {
      "model_module": "@jupyter-widgets/controls",
      "model_module_version": "1.5.0",
      "model_name": "DescriptionStyleModel",
      "state": {
       "description_width": ""
      }
     },
     "f39e2ffbe0e94acf9d61e4c7c2159bb7": {
      "model_module": "@jupyter-widgets/controls",
      "model_module_version": "1.5.0",
      "model_name": "DescriptionStyleModel",
      "state": {
       "description_width": ""
      }
     },
     "f3d3a3c6219c41a3b87c44cdad836f4c": {
      "model_module": "@jupyter-widgets/controls",
      "model_module_version": "1.5.0",
      "model_name": "DescriptionStyleModel",
      "state": {
       "description_width": ""
      }
     },
     "f42ce20ec25646158314aee090e703f5": {
      "model_module": "@jupyter-widgets/output",
      "model_module_version": "1.0.0",
      "model_name": "OutputModel",
      "state": {
       "layout": "IPY_MODEL_3238b200bd6c4d9ebffbb51ee794b972"
      }
     },
     "f442ee3d9c4a4897913d4a287e2595f3": {
      "model_module": "@jupyter-widgets/base",
      "model_module_version": "1.2.0",
      "model_name": "LayoutModel",
      "state": {}
     },
     "f4451bf8ff664a3ab595f5f448e4bc9f": {
      "model_module": "@jupyter-widgets/controls",
      "model_module_version": "1.5.0",
      "model_name": "SelectModel",
      "state": {
       "_options_labels": [
        "Linux",
        "Windows",
        "OSX"
       ],
       "description": "OS:",
       "index": 2,
       "layout": "IPY_MODEL_2eeedeffa80a41109023176b86a32b3f",
       "style": "IPY_MODEL_7e631b7decf74bda873e60f6aeed5aba"
      }
     },
     "f45cb407d27b433e87063971fab58354": {
      "model_module": "@jupyter-widgets/base",
      "model_module_version": "1.2.0",
      "model_name": "LayoutModel",
      "state": {}
     },
     "f4812cd6278d4cf8a7c2f630f3c44714": {
      "model_module": "@jupyter-widgets/base",
      "model_module_version": "1.2.0",
      "model_name": "LayoutModel",
      "state": {}
     },
     "f49df2ed5b414a27bba2f3bfe7d61e9a": {
      "model_module": "@jupyter-widgets/controls",
      "model_module_version": "1.5.0",
      "model_name": "ButtonModel",
      "state": {
       "description": "Click me",
       "icon": "check",
       "layout": "IPY_MODEL_3d828b02aad54d0389b1c82b874e9c43",
       "style": "IPY_MODEL_83ea0ab22e1d427bbafb5fb059e83c5f",
       "tooltip": "Click me"
      }
     },
     "f5500f74296f477599cca5fd9e4e330d": {
      "model_module": "@jupyter-widgets/base",
      "model_module_version": "1.2.0",
      "model_name": "LayoutModel",
      "state": {}
     },
     "f55b7cc7cc0e460e955bbd2248689485": {
      "model_module": "@jupyter-widgets/controls",
      "model_module_version": "1.5.0",
      "model_name": "IntSliderModel",
      "state": {
       "layout": "IPY_MODEL_4facba84934945f4991edc81355c7bb7",
       "style": "IPY_MODEL_08c2b948d2bb458a93467988b09f2dd4",
       "value": 50
      }
     },
     "f5c16a21631248e79a0f97cc457f30a6": {
      "model_module": "@jupyter-widgets/controls",
      "model_module_version": "1.5.0",
      "model_name": "ControllerModel",
      "state": {
       "layout": "IPY_MODEL_a5e438395c704ac0a6aacf8fd8696a50"
      }
     },
     "f61c2151a573457a8875eb65ec693c98": {
      "model_module": "@jupyter-widgets/controls",
      "model_module_version": "1.5.0",
      "model_name": "DescriptionStyleModel",
      "state": {
       "description_width": ""
      }
     },
     "f625fcfcce5c4ccc976b5d8b6c0f5410": {
      "model_module": "@jupyter-widgets/controls",
      "model_module_version": "1.5.0",
      "model_name": "DescriptionStyleModel",
      "state": {
       "description_width": ""
      }
     },
     "f64ab18a574545f1a74e71bf702fa0e8": {
      "model_module": "@jupyter-widgets/base",
      "model_module_version": "1.2.0",
      "model_name": "LayoutModel",
      "state": {}
     },
     "f64b41c4b28d43158978e7a62919f402": {
      "model_module": "@jupyter-widgets/controls",
      "model_module_version": "1.5.0",
      "model_name": "DescriptionStyleModel",
      "state": {
       "description_width": ""
      }
     },
     "f6f2174fa5914d47839742802c591848": {
      "model_module": "@jupyter-widgets/controls",
      "model_module_version": "1.5.0",
      "model_name": "HTMLMathModel",
      "state": {
       "description": "Some HTML",
       "layout": "IPY_MODEL_740385346f0a4ecfb4c9d4e7072f46bb",
       "placeholder": "Some HTML",
       "style": "IPY_MODEL_6c93012858b747ee967cdb6878ea6fae",
       "value": "Some math and <i>HTML</i>: \\(x^2\\) and $$\\frac{x+1}{x-1}$$"
      }
     },
     "f80081b7368c49f8b8bf08cbee8a0866": {
      "model_module": "@jupyter-widgets/controls",
      "model_module_version": "1.5.0",
      "model_name": "SelectionRangeSliderModel",
      "state": {
       "_model_name": "SelectionRangeSliderModel",
       "_options_labels": [
        "Jan",
        "Feb",
        "Mar",
        "Apr",
        "May",
        "Jun",
        "Jul",
        "Aug",
        "Sep",
        "Oct",
        "Nov",
        "Dec"
       ],
       "_view_name": "SelectionRangeSliderView",
       "description": "Months (2015)",
       "index": [
        0,
        11
       ],
       "layout": "IPY_MODEL_e5530003d0bd462a9e2edc1277c10954",
       "style": "IPY_MODEL_ebd8d218855c47dbaf16df36a879cdc3"
      }
     },
     "f88d1cff8fb5482f927210ef947fe859": {
      "model_module": "@jupyter-widgets/controls",
      "model_module_version": "1.5.0",
      "model_name": "DescriptionStyleModel",
      "state": {
       "description_width": ""
      }
     },
     "f93b2fe592e54c84bcada9ecea8822d8": {
      "model_module": "@jupyter-widgets/base",
      "model_module_version": "1.2.0",
      "model_name": "LayoutModel",
      "state": {
       "border": "1px solid black"
      }
     },
     "f978176df8fc4940a615b385a99e0bc1": {
      "model_module": "@jupyter-widgets/base",
      "model_module_version": "1.2.0",
      "model_name": "LayoutModel",
      "state": {}
     },
     "f9ca545f09ce4ecc80a7dfcda5ec0f82": {
      "model_module": "@jupyter-widgets/controls",
      "model_module_version": "1.5.0",
      "model_name": "DescriptionStyleModel",
      "state": {
       "description_width": ""
      }
     },
     "f9df0150e2364c7da5bd1daf6a0a2fa9": {
      "model_module": "@jupyter-widgets/base",
      "model_module_version": "1.2.0",
      "model_name": "LayoutModel",
      "state": {}
     },
     "f9ed46374ecf4e8bb1be17f574493988": {
      "model_module": "@jupyter-widgets/controls",
      "model_module_version": "1.5.0",
      "model_name": "HBoxModel",
      "state": {
       "children": [
        "IPY_MODEL_13a0b61c942a45a9aa4d532e624a95f9",
        "IPY_MODEL_96bd392512d6449fba38a96b15fc0584"
       ],
       "layout": "IPY_MODEL_c1234562a24b48b3b689c180808018cf"
      }
     },
     "f9fbb7aa16a34bc481b09909f11b73f4": {
      "model_module": "@jupyter-widgets/output",
      "model_module_version": "1.0.0",
      "model_name": "OutputModel",
      "state": {
       "layout": "IPY_MODEL_6d8556c0367f45e1b802da81285a9783"
      }
     },
     "f9ff4d19af1a4c468383f60b6ab2bdf5": {
      "model_module": "@jupyter-widgets/base",
      "model_module_version": "1.2.0",
      "model_name": "LayoutModel",
      "state": {}
     },
     "fa0479dfa5294f8d94d927aa270c07b7": {
      "model_module": "@jupyter-widgets/controls",
      "model_module_version": "1.5.0",
      "model_name": "SliderStyleModel",
      "state": {
       "description_width": ""
      }
     },
     "fa09b1f0f6df4fcdaac3d629c5e93eac": {
      "model_module": "@jupyter-widgets/controls",
      "model_module_version": "1.5.0",
      "model_name": "DescriptionStyleModel",
      "state": {
       "description_width": ""
      }
     },
     "fa3ff0be7bc04deb880dd87d7a53e8dd": {
      "model_module": "@jupyter-widgets/controls",
      "model_module_version": "1.5.0",
      "model_name": "FloatSliderModel",
      "state": {
       "continuous_update": false,
       "description": "Test:",
       "layout": "IPY_MODEL_7f2ee03f49a846298438698305d2f765",
       "max": 10,
       "orientation": "vertical",
       "readout_format": ".1f",
       "step": 0.1,
       "style": "IPY_MODEL_1cb3eeec53c64867942a552298a8d867",
       "value": 7.5
      }
     },
     "fadb5caefca949eebb80b5d5bb2b3bfe": {
      "model_module": "@jupyter-widgets/controls",
      "model_module_version": "1.5.0",
      "model_name": "DescriptionStyleModel",
      "state": {
       "description_width": ""
      }
     },
     "faf5917ac55d4d35a0e393f3d566fe34": {
      "model_module": "@jupyter-widgets/base",
      "model_module_version": "1.2.0",
      "model_name": "LayoutModel",
      "state": {}
     },
     "fafd4bcc02ea4eb9b6f44f464c29d158": {
      "model_module": "@jupyter-widgets/controls",
      "model_module_version": "1.5.0",
      "model_name": "ToggleButtonsModel",
      "state": {
       "_options_labels": [
        "Slow",
        "Regular",
        "Fast"
       ],
       "button_style": "",
       "description": "Speed:",
       "icons": [],
       "index": 0,
       "layout": "IPY_MODEL_11731741e8a747d6985fd095bbd334eb",
       "style": "IPY_MODEL_5fbbc42716304e58acc4192e7619e260",
       "tooltips": [
        "Description of slow",
        "Description of regular",
        "Description of fast"
       ]
      }
     },
     "fb0f06a55fb24c288bdbb7e621173bec": {
      "model_module": "@jupyter-widgets/base",
      "model_module_version": "1.2.0",
      "model_name": "LayoutModel",
      "state": {}
     },
     "fb1640b4ada04c0ea17be40d0a540ccb": {
      "model_module": "@jupyter-widgets/base",
      "model_module_version": "1.2.0",
      "model_name": "LayoutModel",
      "state": {}
     },
     "fc0d4bed7586471480a7bb077315c527": {
      "model_module": "@jupyter-widgets/base",
      "model_module_version": "1.2.0",
      "model_name": "LayoutModel",
      "state": {}
     },
     "fc2c0ef27c8d4801a30659b042c91c06": {
      "model_module": "@jupyter-widgets/controls",
      "model_module_version": "1.5.0",
      "model_name": "DescriptionStyleModel",
      "state": {
       "description_width": ""
      }
     },
     "fc2fc94ca7ad43b3babdc9de453ff347": {
      "model_module": "@jupyter-widgets/controls",
      "model_module_version": "1.5.0",
      "model_name": "DescriptionStyleModel",
      "state": {
       "description_width": ""
      }
     },
     "fc5c204c94a1499f9aadf35a26077930": {
      "model_module": "@jupyter-widgets/controls",
      "model_module_version": "1.5.0",
      "model_name": "DescriptionStyleModel",
      "state": {
       "description_width": ""
      }
     },
     "fcc259572d6a42ddbdd23dfb246a123b": {
      "model_module": "@jupyter-widgets/controls",
      "model_module_version": "1.5.0",
      "model_name": "DescriptionStyleModel",
      "state": {
       "description_width": ""
      }
     },
     "fcff632160864ff6be80a9c07619d716": {
      "model_module": "@jupyter-widgets/controls",
      "model_module_version": "1.5.0",
      "model_name": "DescriptionStyleModel",
      "state": {
       "description_width": ""
      }
     },
     "fd08e2bbf6914704be18d7b8f358ebe4": {
      "model_module": "@jupyter-widgets/controls",
      "model_module_version": "1.5.0",
      "model_name": "DescriptionStyleModel",
      "state": {
       "description_width": ""
      }
     },
     "fd25012e77a34696a171afaf76885ce1": {
      "model_module": "@jupyter-widgets/base",
      "model_module_version": "1.2.0",
      "model_name": "LayoutModel",
      "state": {
       "border": "1px solid black"
      }
     },
     "fd3a8383329e469fafdfab7bfcb2e161": {
      "model_module": "@jupyter-widgets/controls",
      "model_module_version": "1.5.0",
      "model_name": "ToggleButtonModel",
      "state": {
       "description": "Click me",
       "icon": "check",
       "layout": "IPY_MODEL_c8f3bb622c334fa78a71e3abcf30e58c",
       "style": "IPY_MODEL_19b5b20d07b049bda98b342ed3ddf7da",
       "tooltip": "Description"
      }
     },
     "fd87f665e2b749099479cfe9d5fd2718": {
      "model_module": "@jupyter-widgets/base",
      "model_module_version": "1.2.0",
      "model_name": "LayoutModel",
      "state": {}
     },
     "fde3367e63d74762829beba8176f2882": {
      "model_module": "@jupyter-widgets/base",
      "model_module_version": "1.2.0",
      "model_name": "LayoutModel",
      "state": {}
     },
     "fe018b7243f0415aa53b4e84b68a8afd": {
      "model_module": "@jupyter-widgets/controls",
      "model_module_version": "1.5.0",
      "model_name": "DescriptionStyleModel",
      "state": {
       "description_width": ""
      }
     },
     "feda121ef44941b2965c176bd446a1a8": {
      "model_module": "@jupyter-widgets/controls",
      "model_module_version": "1.5.0",
      "model_name": "LabelModel",
      "state": {
       "layout": "IPY_MODEL_727db7fe1d9648339c874319afb32f1b",
       "style": "IPY_MODEL_d0a3f4454ddc40b4966276c4c2c961d3",
       "value": "1"
      }
     },
     "ff251a4634074fc885bf747408e19c81": {
      "model_module": "@jupyter-widgets/base",
      "model_module_version": "1.2.0",
      "model_name": "LayoutModel",
      "state": {}
     },
     "ff60d50a44d54489b4ab091d4b3a4684": {
      "model_module": "@jupyter-widgets/controls",
      "model_module_version": "1.5.0",
      "model_name": "DescriptionStyleModel",
      "state": {
       "description_width": ""
      }
     },
     "ff96c7857b6247f39af9b94c521b4658": {
      "model_module": "@jupyter-widgets/controls",
      "model_module_version": "1.5.0",
      "model_name": "DescriptionStyleModel",
      "state": {
       "description_width": ""
      }
     },
     "ffb9918b94e044ccbbe15f65d24a17f8": {
      "model_module": "@jupyter-widgets/controls",
      "model_module_version": "1.5.0",
      "model_name": "SelectionRangeSliderModel",
      "state": {
       "_model_name": "SelectionRangeSliderModel",
       "_options_labels": [
        "Jan",
        "Feb",
        "Mar",
        "Apr",
        "May",
        "Jun",
        "Jul",
        "Aug",
        "Sep",
        "Oct",
        "Nov",
        "Dec"
       ],
       "_view_name": "SelectionRangeSliderView",
       "description": "Months (2015)",
       "index": [
        0,
        11
       ],
       "layout": "IPY_MODEL_12ab54ec9f9540d3958b4aac92bb18b2",
       "style": "IPY_MODEL_0da2f37c70914c8fb4c0372268e7a757"
      }
     },
     "ffc188029d45402f90cfc0b38e4fcc54": {
      "model_module": "@jupyter-widgets/controls",
      "model_module_version": "1.5.0",
      "model_name": "ControllerModel",
      "state": {
       "layout": "IPY_MODEL_e730aaa16c7a4110abac9d97ac4deb65"
      }
     }
    },
    "version_major": 2,
    "version_minor": 0
   }
  }
 },
 "nbformat": 4,
 "nbformat_minor": 2
}
