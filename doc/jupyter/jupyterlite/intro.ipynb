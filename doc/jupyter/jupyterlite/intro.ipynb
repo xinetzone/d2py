{
 "cells": [
  {
   "cell_type": "markdown",
   "metadata": {},
   "source": [
    "# `JupyterLite` 简介\n",
    "\n",
    "`JupyterLite` 是 JupyterLab 发行版，它完全在浏览器中运行，并且是使用 `JupyterLab` 组件和扩展从头构建的。"
   ]
  },
  {
   "cell_type": "markdown",
   "metadata": {},
   "source": [
    "## &#10024; 在你的浏览器中尝试它 &#10024;\n",
    "\n",
    "JupyterLite 可以与 [JupyterLab](https://github.com/jupyterlab/jupyterlab) 和 [Jupyter Notebook](https://github.com/jupyter/notebook) 一起使用。\n",
    "\n",
    "| [用 JupyterLab 试试吧！] | [用 Jupyter Notebook 试试吧！] |\n",
    "| :-----------------------: | :-----------------------------: |\n",
    "|     ![lab-screenshot]     |     ![notebook-screenshot]      |\n",
    "\n",
    "[用 jupyterlab 试试吧！]: https://jupyterlite.readthedocs.io/en/stable/try/lab\n",
    "[lab-screenshot]:\n",
    "  https://github.com/jupyterlite/jupyterlite/assets/591645/8cd26a4e-59db-4b34-bf9b-cd2e9cbc7f98\n",
    "[用 jupyter notebook 试试吧！]: https://jupyterlite.readthedocs.io/en/stable/try/tree\n",
    "[notebook-screenshot]:\n",
    "  https://github.com/jupyterlite/jupyterlite/assets/591645/39acb251-69aa-4e2e-8768-6f33fc32b3e2"
   ]
  },
  {
   "cell_type": "markdown",
   "metadata": {},
   "source": [
    "## &#127959;️ 构建你自己的 JupyterLite &#127959;️\n",
    "\n",
    "你可以在几分钟内构建你自己的 JupyterLite 网站，并带有自定义扩展和包。\n",
    "\n",
    "更多详情请查看\n",
    "[文档](https://jupyterlite.readthedocs.io/en/stable/quickstart/deploy.html)。"
   ]
  },
  {
   "cell_type": "markdown",
   "metadata": {},
   "source": [
    "### 基于浏览器的交互式计算\n",
    "\n",
    "JupyterLite 是关于易于访问的基于浏览器的交互式计算：\n",
    "\n",
    "- 由 [Pyodide](https://pyodide.org) 支持的 Python 内核，在 Web Worker 中运行\n",
    "  - 最初支持交互式可视化库，如 `altair`、`bqplot`、`ipywidgets`、`matplotlib` 和 `plotly`\n",
    "- JavaScript 内核在 Web Worker 中运行\n",
    "- 查看托管的示例笔记本和其他文件，然后从浏览器的 `IndexDB`（或 `localStorage`）编辑、保存和下载\n",
    "- 支持保存 JupyterLab/Lite 核心和联合扩展的设置\n",
    "- 基本的会话和内核管理，以便同时运行多个内核\n",
    "- 支持 [代码控制台](https://jupyterlab.readthedocs.io/en/stable/user/code_console.html)\n",
    "\n",
    "[p5.js]: https://p5js.org/"
   ]
  },
  {
   "cell_type": "markdown",
   "metadata": {},
   "source": [
    "### 易于部署\n",
    "\n",
    "- 通过可缓存的静态 HTTP(S) 提供服务，无论是在本地还是大多数静态网络主机上\n",
    "- 可在更大的应用程序中嵌入\n",
    "- 不需要专用的应用服务器，更不用说容器编排器了\n",
    "- 页面设置具有细粒度的可配置性，包括联邦扩展的重用"
   ]
  },
  {
   "cell_type": "markdown",
   "metadata": {},
   "source": [
    "## 展示\n",
    "\n",
    "### Jupyter 交互式小部件\n",
    "\n",
    "![widgets](https://user-images.githubusercontent.com/591645/123929339-086f6180-d98f-11eb-8ab0-c7f9661ff41e.gif)\n",
    "\n",
    "### JupyterLab Mimerender 扩展\n",
    "\n",
    "![image](https://user-images.githubusercontent.com/591645/123927543-3d7ab480-d98d-11eb-9e7e-eb47baf76bc0.png)\n",
    "\n",
    "### Matplotlib 图形\n",
    "\n",
    "![image](https://user-images.githubusercontent.com/591645/123927611-4d929400-d98d-11eb-9201-c46dd47b9047.png)\n",
    "\n",
    "### Altair\n",
    "\n",
    "![altair](https://user-images.githubusercontent.com/591645/123929321-04dbda80-d98f-11eb-9d5f-c5429d7aeb51.gif)\n",
    "\n",
    "### Plotly\n",
    "\n",
    "![plotly](https://user-images.githubusercontent.com/591645/123929332-06a59e00-d98f-11eb-8c51-4a094859c128.gif)\n",
    "\n",
    "## 开发安装\n",
    "\n",
    "查看[贡献指南](https://github.com/jupyterlite/jupyterlite/blob/main/CONTRIBUTING.md)以获取开发安装说明。\n",
    "\n",
    "## 相关\n",
    "\n",
    "JupyterLite 是多次尝试制作一个完全静态的 Jupyter 发行版的重启，它在浏览器中运行，无需在主机上启动 Python Jupyter 服务器。\n",
    "\n",
    "目标是提供一个轻量级的计算环境，可以通过单击在几秒钟内在 web 浏览器中访问，无需安装任何东西。\n",
    "\n",
    "这个项目是一个包的集合，可以以多种方式混合在一起，创建新的应用程序和发行版。这个仓库中的大多数包都专注于提供在浏览器中运行的类似服务器的组件（用于管理内核、文件和设置），因此现有的 JupyterLab 扩展和插件可以开箱即用。\n",
    "\n",
    "另见：\n",
    "\n",
    "- [p5-notebook](https://github.com/jtpio/p5-notebook): 一个用于在浏览器中运行 p5.js 内核的最小 Jupyter Notebook UI\n",
    "- [jyve](https://github.com/deathbeds/jyve): 直接在 JupyterLab 内的 Jupyter 内核\n",
    "- [Starboard Notebook](https://github.com/gzuidhof/starboard-notebook): 浏览器中的字面笔记本\n",
    "- [Basthon](https://basthon.fr/about.html): 使用 Pyodide 的 Jupyter 笔记本实现"
   ]
  }
 ],
 "metadata": {
  "language_info": {
   "name": "python"
  }
 },
 "nbformat": 4,
 "nbformat_minor": 2
}
