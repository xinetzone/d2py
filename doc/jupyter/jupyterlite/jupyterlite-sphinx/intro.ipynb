{
 "cells": [
  {
   "cell_type": "markdown",
   "metadata": {},
   "source": [
    "# `jupyterlite-sphinx` 简介\n",
    "\n",
    "Sphinx 扩展，为在文档中嵌入 JupyterLite 提供实用工具。\n",
    "\n",
    "`jupyterlite-sphinx` 将 JupyterLite 的强大功能带入您的 Sphinx 文档。它在您的文档中实现了一个完整的 JupyterLite 部署，并提供了易于使用该部署的一些实用工具。\n",
    "\n",
    "```{eval-rst}\n",
    ".. replite::\n",
    "   :kernel: xeus-python\n",
    "   :toolbar: 0\n",
    "   :theme: JupyterLab Light\n",
    "   :width: 100%\n",
    "   :height: 600px\n",
    "\n",
    "   print(\"Hello from a JupyterLite console!\")\n",
    "```"
   ]
  },
  {
   "cell_type": "markdown",
   "metadata": {},
   "source": [
    "## 安装\n",
    "\n",
    "您可以使用 `pip` 安装 `jupyterlite-sphinx`：\n",
    "\n",
    "```\n",
    "pip install jupyterlite-sphinx\n",
    "```\n",
    "\n",
    "`jupyterlite-sphinx` 也可以在 `conda-forge` 上找到。您可以使用 `conda` 或 `mamba` 安装它：\n",
    "\n",
    "```bash\n",
    "# 使用 conda\n",
    "conda install -c conda-forge jupyterlite-sphinx\n",
    "\n",
    "# 使用 mamba\n",
    "mamba install -c conda-forge jupyterlite-sphinx\n",
    "```"
   ]
  },
  {
   "cell_type": "markdown",
   "metadata": {},
   "source": [
    "然后，您需要将 `jupyterlite-sphinx` 扩展添加到您的 Sphinx 文档的 `conf.py` 文件中：\n",
    "\n",
    "```python\n",
    "extensions = [\n",
    "    'jupyterlite_sphinx',\n",
    "    # And other sphinx extensions\n",
    "    # ...\n",
    "]\n",
    "```"
   ]
  },
  {
   "cell_type": "markdown",
   "metadata": {},
   "source": [
    "JupyterLite 应该会自动显示在您构建的在线文档中。要在本地预览它，您可以导航到构建目录（例如 `_build/html`），并使用 `python -m http.server` 来提供站点。\n",
    "\n",
    "````{note}\n",
    "默认情况下，`jupyterlite-sphinx` 不会安装 Python 内核。\n",
    "如果您希望在文档中使用 Python 内核，可以使用 `pip` 安装 `jupyterlite-pyodide-kernel` 或 `jupyterlite-xeus`：\n",
    "\n",
    "```shell\n",
    "# 安装基于 Pyodide 的 Python 内核\n",
    "pip install jupyterlite-pyodide-kernel\n",
    "\n",
    "# 加载基于 Xeus 的内核\n",
    "pip install jupyterlite-xeus\n",
    "```\n",
    "````"
   ]
  }
 ],
 "metadata": {
  "language_info": {
   "name": "python"
  }
 },
 "nbformat": 4,
 "nbformat_minor": 2
}
