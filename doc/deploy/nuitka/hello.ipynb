{
 "cells": [
  {
   "cell_type": "markdown",
   "metadata": {},
   "source": [
    "# 打包样例"
   ]
  }
 ],
 "metadata": {
  "kernelspec": {
   "display_name": "Python 3.8.13 ('tvmo': conda)",
   "language": "python",
   "name": "python3"
  },
  "language_info": {
   "name": "python",
   "version": "3.8.13"
  },
  "orig_nbformat": 4,
  "vscode": {
   "interpreter": {
    "hash": "f84f946b1c3af061cd4f6d85753fa9fad51e40b700ed1d7b0dec8a56b8e85b7c"
   }
  }
 },
 "nbformat": 4,
 "nbformat_minor": 2
}
