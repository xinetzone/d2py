{
 "cells": [
  {
   "cell_type": "markdown",
   "metadata": {},
   "source": [
    "# 项目构建"
   ]
  },
  {
   "cell_type": "markdown",
   "metadata": {},
   "source": [
    "为了方面和隔离 Python 环境，本项目采用 [PDM](https://pdm-project.org/zh-cn/latest) 管理 Python 环境。"
   ]
  },
  {
   "cell_type": "markdown",
   "metadata": {},
   "source": [
    "使用 `temp_dir` 作为临时开发工作区。"
   ]
  },
  {
   "cell_type": "code",
   "execution_count": null,
   "metadata": {},
   "outputs": [],
   "source": [
    "%%file set_env.py\n",
    "from pathlib import Path\n",
    "\n",
    "temp_dir = Path(\".temp\")\n",
    "temp_dir.mkdir(exist_ok=True)"
   ]
  },
  {
   "cell_type": "markdown",
   "metadata": {},
   "source": [
    "加载工作区："
   ]
  },
  {
   "cell_type": "code",
   "execution_count": null,
   "metadata": {},
   "outputs": [],
   "source": [
    "from set_env import temp_dir"
   ]
  },
  {
   "cell_type": "markdown",
   "metadata": {},
   "source": [
    "安装 PDM：\n",
    "\n",
    "```bash\n",
    "curl -sSL https://pdm-project.org/install-pdm.py | python3 - -p /media/pc/data/lxw/envs/tasks\n",
    "```\n",
    "\n",
    "其中 `/media/pc/data/lxw/envs/tasks` 表示安装目录，然后使用 `export PATH=/media/pc/data/lxw/envs/tasks/bin:$PATH` 激活环境。"
   ]
  },
  {
   "cell_type": "markdown",
   "metadata": {},
   "source": [
    "或者\n",
    "```bash\n",
    "pip install pdm\n",
    "```"
   ]
  },
  {
   "cell_type": "markdown",
   "metadata": {},
   "source": [
    "使用 `pdm` 构建 `tasks` 环境（比如这里设定环境目录为 `/media/pc/data/lxw/ai/envs`）。\n",
    "\n",
    "配置 `openmmlab` 包：\n",
    "```bash\n",
    "cd /media/pc/data/lxw/ai/envs\n",
    "mkdir -p tasks && cd tasks\n",
    "git clone git@github.com:xinetzone/mmpretrain.git\n",
    "git clone git@github.com:xinetzone/mmdeploy.git\n",
    "git clone git@github.com:xinetzone/mmengine.git\n",
    "git clone git@github.com:xinetzone/mmdetection.git\n",
    "git clone git@github.com:xinetzone/mmagic.git\n",
    "```"
   ]
  },
  {
   "cell_type": "markdown",
   "metadata": {},
   "source": [
    "更多内容见：[torch-book](https://xinetzone.github.io/torch-book/index.html)"
   ]
  }
 ],
 "metadata": {
  "kernelspec": {
   "display_name": "Python 3",
   "language": "python",
   "name": "python3"
  },
  "language_info": {
   "codemirror_mode": {
    "name": "ipython",
    "version": 3
   },
   "file_extension": ".py",
   "mimetype": "text/x-python",
   "name": "python",
   "nbconvert_exporter": "python",
   "pygments_lexer": "ipython3",
   "version": "3.12.2"
  }
 },
 "nbformat": 4,
 "nbformat_minor": 2
}
