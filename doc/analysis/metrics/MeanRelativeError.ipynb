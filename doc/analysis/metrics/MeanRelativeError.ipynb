{
 "cells": [
  {
   "cell_type": "markdown",
   "metadata": {},
   "source": [
    "# Mean Relative Error"
   ]
  },
  {
   "cell_type": "markdown",
   "metadata": {},
   "source": [
    "MRE（Mean Relative Error，平均相对误差）是评估回归模型性能的指标。它表示预测值与真实值之间差异的平均值，相对于真实值的比例。其数学表达式如下：\n",
    "\n",
    "$$\n",
    "\\text{MRE} = \\frac{1}{n} \\sum_{i=1}^{n} \\left| \\frac{y_i - \\hat{y}_i}{y_i} \\right| \n",
    "$$\n",
    "\n",
    "其中：\n",
    "- $n$ 是样本的数量。\n",
    "- $y_i$ 是第 $i$ 个样本的真实值。\n",
    "- $\\hat{y}_i$ 是第 $i$ 个样本的预测值。\n",
    "- $\\frac{y_i - \\hat{y}_i}{y_i}$ 是第  $i$ 个样本的相对误差。\n",
    "\n",
    "这个公式计算了所有样本的相对误差的绝对值的平均值，从而得到整体的平均相对误差。"
   ]
  },
  {
   "cell_type": "code",
   "execution_count": null,
   "metadata": {},
   "outputs": [],
   "source": [
    "import numpy as np\n",
    "\n",
    "def mean_relative_error(y_true: np.ndarray | list, y_pred: np.ndarray | list) -> float:\n",
    "    \"\"\"\n",
    "    Calculate the Mean Relative Error (MRE) between true values and predicted values.\n",
    "\n",
    "    Parameters:\n",
    "    y_true (np.ndarray | list): Array or list of true values.\n",
    "    y_pred (np.ndarray | list): Array or list of predicted values.\n",
    "\n",
    "    Returns:\n",
    "    float: The mean relative error.\n",
    "    \"\"\"\n",
    "    # Convert inputs to numpy arrays if they are not already\n",
    "    y_true = np.asarray(y_true, dtype=np.float64)\n",
    "    y_pred = np.asarray(y_pred, dtype=np.float64)\n",
    "    \n",
    "    # Calculate the absolute differences\n",
    "    d = np.abs(y_true - y_pred)\n",
    "    \n",
    "    # Avoid division by zero by adding a small epsilon value\n",
    "    epsilon = np.finfo(float).eps\n",
    "    denominator = np.abs(y_true) + epsilon\n",
    "    \n",
    "    # Calculate the relative errors\n",
    "    relative_error = d / denominator\n",
    "    \n",
    "    # Return the mean of the relative errors\n",
    "    return np.mean(relative_error)\n"
   ]
  },
  {
   "cell_type": "code",
   "execution_count": null,
   "metadata": {},
   "outputs": [
    {
     "data": {
      "text/plain": [
       "2.220446049250313e-16"
      ]
     },
     "execution_count": 12,
     "metadata": {},
     "output_type": "execute_result"
    }
   ],
   "source": []
  },
  {
   "cell_type": "code",
   "execution_count": null,
   "metadata": {},
   "outputs": [],
   "source": []
  }
 ],
 "metadata": {
  "kernelspec": {
   "display_name": "xxx",
   "language": "python",
   "name": "python3"
  },
  "language_info": {
   "codemirror_mode": {
    "name": "ipython",
    "version": 3
   },
   "file_extension": ".py",
   "mimetype": "text/x-python",
   "name": "python",
   "nbconvert_exporter": "python",
   "pygments_lexer": "ipython3",
   "version": "3.12.2"
  }
 },
 "nbformat": 4,
 "nbformat_minor": 2
}
