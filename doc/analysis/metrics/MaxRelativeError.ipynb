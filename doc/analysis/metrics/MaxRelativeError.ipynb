{
 "cells": [
  {
   "cell_type": "markdown",
   "metadata": {},
   "source": [
    "# MaxRelativeError"
   ]
  },
  {
   "cell_type": "code",
   "execution_count": 1,
   "metadata": {},
   "outputs": [],
   "source": [
    "import numpy as np\n",
    "\n",
    "def max_relative_error(y_true: np.ndarray | list, y_pred: np.ndarray | list) -> float:\n",
    "    \"\"\"\n",
    "    Calculate the Maximum Relative Error (MRE) between true values and predicted values.\n",
    "\n",
    "    Parameters:\n",
    "    y_true (np.ndarray | list): Array or list of true values.\n",
    "    y_pred (np.ndarray | list): Array or list of predicted values.\n",
    "\n",
    "    Returns:\n",
    "    float: The mean relative error.\n",
    "    \"\"\"\n",
    "    # Convert inputs to numpy arrays if they are not already\n",
    "    y_true = np.asarray(y_true, dtype=np.float64)\n",
    "    y_pred = np.asarray(y_pred, dtype=np.float64)\n",
    "    \n",
    "    # Calculate the absolute differences\n",
    "    d = np.abs(y_true - y_pred)\n",
    "    \n",
    "    # Avoid division by zero by adding a small epsilon value\n",
    "    epsilon = np.finfo(float).eps\n",
    "    denominator = np.abs(y_true) + epsilon\n",
    "    \n",
    "    # Calculate relative errors and find the maximum\n",
    "    relative_error = np.max(d / denominator)\n",
    "    return relative_error\n"
   ]
  }
 ],
 "metadata": {
  "kernelspec": {
   "display_name": "xxx",
   "language": "python",
   "name": "python3"
  },
  "language_info": {
   "codemirror_mode": {
    "name": "ipython",
    "version": 3
   },
   "file_extension": ".py",
   "mimetype": "text/x-python",
   "name": "python",
   "nbconvert_exporter": "python",
   "pygments_lexer": "ipython3",
   "version": "3.12.2"
  }
 },
 "nbformat": 4,
 "nbformat_minor": 2
}
