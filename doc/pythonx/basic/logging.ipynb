{
 "cells": [
  {
   "attachments": {},
   "cell_type": "markdown",
   "metadata": {},
   "source": [
    "# 日志记录\n",
    "\n",
    "```{topic} 导言\n",
    ":class: dropdown, tip\n",
    "\n",
    "日志是对软件执行时所发生事件的一种追踪方式。软件开发人员对他们的代码添加日志调用，借此来指示某事件的发生。一个事件通过一些包含变量数据的描述信息来描述（比如：每个事件发生时的数据都是不同的）。开发者还会区分事件的重要性，重要性也被称为 等级 或 严重性。\n",
    "```\n",
    "\n",
    "{mod}`logging` 模块提供功能齐全且灵活的日志记录系统。在最简单的情况下，日志消息被发送到文件或 `sys.stderr`"
   ]
  },
  {
   "cell_type": "code",
   "execution_count": 1,
   "metadata": {},
   "outputs": [
    {
     "name": "stderr",
     "output_type": "stream",
     "text": [
      "WARNING:root:Warning:config file server.conf not found\n",
      "ERROR:root:Error occurred\n",
      "CRITICAL:root:Critical error -- shutting down\n"
     ]
    }
   ],
   "source": [
    "import logging\n",
    "# 示例\n",
    "logging.debug('Debugging information')\n",
    "logging.info('Informational message')\n",
    "logging.warning('Warning:config file %s not found', 'server.conf')\n",
    "logging.error('Error occurred')\n",
    "logging.critical('Critical error -- shutting down')"
   ]
  },
  {
   "cell_type": "markdown",
   "metadata": {},
   "source": [
    "默认情况下，informational 和 debugging 消息被压制，输出会发送到标准错误流。其他输出选项包括将消息转发到电子邮件，数据报，套接字或 HTTP 服务器。新的过滤器可以根据消息优先级选择不同的路由方式：`DEBUG`，`INFO`，`WARNING`，`ERROR` 和 `CRITICAL`。\n",
    "\n",
    "`level` 指定了日志的级别，这样，便可以显示 `DEBUG` 信息："
   ]
  },
  {
   "cell_type": "code",
   "execution_count": 1,
   "metadata": {},
   "outputs": [
    {
     "name": "stderr",
     "output_type": "stream",
     "text": [
      "DEBUG:root:Debugging information\n"
     ]
    }
   ],
   "source": [
    "import logging\n",
    "logging.basicConfig(level=logging.DEBUG)\n",
    "\n",
    "logging.debug('Debugging information')"
   ]
  },
  {
   "cell_type": "markdown",
   "metadata": {},
   "source": [
    "日志系统可以直接从 Python 配置，也可以从用户配置文件加载，以便自定义日志记录而无需更改应用程序。\n",
    "\n",
    "可以将日志写入文件："
   ]
  },
  {
   "cell_type": "code",
   "execution_count": 1,
   "metadata": {},
   "outputs": [],
   "source": [
    "import logging\n",
    "logging.basicConfig(filename='example.log', level=logging.DEBUG)"
   ]
  },
  {
   "cell_type": "markdown",
   "metadata": {},
   "source": [
    "对 {func}`~logging.basicConfig` 的调用应该在 {func}`~logging.debug` ， {func}`~logging.info` 等的前面。因为它被设计为一次性的配置，只有第一次调用会进行操作，随后的调用不会产生有效操作。\n",
    "\n",
    "如果多次运行 {func}`~logging.basicConfig` 脚本，则连续运行的消息将追加到文件 `example.log`。 如果你希望每次运行重新开始，而不是记住先前运行的消息，则可以通过将上例中的调用更改为来指定 `filemode` 参数："
   ]
  },
  {
   "cell_type": "code",
   "execution_count": 2,
   "metadata": {},
   "outputs": [],
   "source": [
    "import logging\n",
    "logging.basicConfig(filename='example.log',\n",
    "                    filemode='w',\n",
    "                    level=logging.DEBUG)"
   ]
  },
  {
   "attachments": {},
   "cell_type": "markdown",
   "metadata": {},
   "source": [
    "输出将与之前相同，但不再追加进日志文件，因此早期运行的消息将丢失。\n",
    "\n",
    "## 常用设置\n",
    "\n",
    "{class}`logging.LogRecord` 可以定制日志显示格式。\n",
    "\n",
    "### 更改显示消息的格式\n",
    "\n",
    "要更改用于显示消息的格式，你需要指定要使用的格式："
   ]
  },
  {
   "cell_type": "code",
   "execution_count": 1,
   "metadata": {},
   "outputs": [
    {
     "name": "stderr",
     "output_type": "stream",
     "text": [
      "DEBUG:This message should appear on the console\n",
      "INFO:So should this\n",
      "WARNING:And this, too\n"
     ]
    }
   ],
   "source": [
    "import logging\n",
    "\n",
    "logging.basicConfig(format='%(levelname)s:%(message)s', level=logging.DEBUG)\n",
    "logging.debug('This message should appear on the console')\n",
    "logging.info('So should this')\n",
    "logging.warning('And this, too')"
   ]
  },
  {
   "cell_type": "markdown",
   "metadata": {},
   "source": [
    "## 在消息中显示日期/时间\n",
    "\n",
    "要显示事件的日期和时间，你可以在格式字符串中放置 `'%(asctime)s'`："
   ]
  },
  {
   "cell_type": "code",
   "execution_count": 1,
   "metadata": {},
   "outputs": [
    {
     "name": "stderr",
     "output_type": "stream",
     "text": [
      "2023-06-03 14:43:49,824 is when this event was logged.\n"
     ]
    }
   ],
   "source": [
    "import logging\n",
    "\n",
    "logging.basicConfig(format='%(asctime)s %(message)s')\n",
    "logging.warning('is when this event was logged.')"
   ]
  },
  {
   "cell_type": "markdown",
   "metadata": {},
   "source": [
    "控制日期/时间的格式，请为 {func}`~logging.basicConfig` 提供 `datefmt` 参数，如下例所示："
   ]
  },
  {
   "cell_type": "code",
   "execution_count": 1,
   "metadata": {},
   "outputs": [
    {
     "name": "stderr",
     "output_type": "stream",
     "text": [
      "06/03/2023 02:44:21 PM is when this event was logged.\n"
     ]
    }
   ],
   "source": [
    "import logging\n",
    "\n",
    "logging.basicConfig(format='%(asctime)s %(message)s',\n",
    "                    datefmt='%m/%d/%Y %I:%M:%S %p')\n",
    "logging.warning('is when this event was logged.')"
   ]
  },
  {
   "attachments": {},
   "cell_type": "markdown",
   "metadata": {},
   "source": [
    "## 进阶日志教程\n",
    "\n",
    "日志库采用模块化方法，并提供几类组件：记录器、处理器、过滤器和格式器。\n",
    "\n",
    "- **记录器** ({class}`~logging.Logger`) 暴露了应用程序代码直接使用的接口。\n",
    "- **处理器** ({class}`~logging.Handler`) 将日志记录（由记录器创建）发送到适当的目标。\n",
    "- **过滤器** ({class}`~logging.Filter`) 提供了更细粒度的功能，用于确定要输出的日志记录。\n",
    "- **格式器** ({class}`~logging.Formatter`) 指定最终输出中日志记录的样式。\n",
    "\n",
    "日志事件信息在 {class}`~logging.LogRecord` 实例中的记录器、处理器、过滤器和格式器之间传递。\n",
    "\n",
    "```{topic} 概念\n",
    "通过调用 {class}`~logging.Logger` 类（以下称为 loggers， 记录器）的实例来执行日志记录。每个实例都有一个名称，它们在概念上以点（句点）作为分隔符排列在命名空间的层次结构中。\n",
    "\n",
    "例如，名为 `'scan'` 的记录器是记录器 `'scan.text'`，`'scan.html'` 和 `'scan.pdf'` 的父级。记录器名称可以是你想要的任何名称，并指示记录消息源自的应用程序区域。\n",
    "```\n",
    "\n",
    "````{tip}\n",
    "在命名记录器的一个好习惯是在每个使用日志记录的模块中使用模块级记录器，命名如下：\n",
    "```python\n",
    "logger = logging.getLogger(__name__)\n",
    "```\n",
    "\n",
    "这意味着记录器名称跟踪包或模块的层次结构，并且直观地从记录器名称显示记录事件的位置。\n",
    "````\n",
    "\n",
    "### 多个 handler 和多种 formatter\n",
    "\n",
    "下面的示例实现终端和文件日志的不同管理："
   ]
  },
  {
   "cell_type": "code",
   "execution_count": 2,
   "metadata": {},
   "outputs": [],
   "source": [
    "import logging\n",
    "\n",
    "# 创建文件处理程序，并记录调试消息\n",
    "fh = logging.FileHandler(\"debug.log\")\n",
    "fh.setLevel(logging.DEBUG)\n",
    "# 创建日志级别更高的控制台处理程序\n",
    "ch = logging.StreamHandler()\n",
    "ch.setLevel(logging.INFO) # 或者logging.ERROR\n",
    "# 创建formatter并将其\n",
    "fh_formatter = logging.Formatter(\"%(levelname)s|%(asctime)s|%(name)s| -> %(message)s|%(module)s.%(funcName)s@%(pathname)s\")\n",
    "ch_formatter = logging.Formatter(\"%(levelname)s|%(asctime)s -> %(message)s\")\n",
    "fh.setFormatter(fh_formatter)\n",
    "ch.setFormatter(ch_formatter)\n",
    "logging.basicConfig(\n",
    "    level=logging.DEBUG,\n",
    "    handlers=[fh, ch]\n",
    ")"
   ]
  }
 ],
 "metadata": {
  "interpreter": {
   "hash": "4f62f115c30e6fc44fc63ce244abcfddb69ca3622d122d84df52c0b80491a68a"
  },
  "kernelspec": {
   "display_name": "Python 3.10.3 ('ai')",
   "language": "python",
   "name": "python3"
  },
  "language_info": {
   "codemirror_mode": {
    "name": "ipython",
    "version": 3
   },
   "file_extension": ".py",
   "mimetype": "text/x-python",
   "name": "python",
   "nbconvert_exporter": "python",
   "pygments_lexer": "ipython3",
   "version": "3.10.11"
  },
  "orig_nbformat": 4
 },
 "nbformat": 4,
 "nbformat_minor": 2
}
