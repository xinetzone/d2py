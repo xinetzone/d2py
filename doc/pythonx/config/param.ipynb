{
 "cells": [
  {
   "cell_type": "markdown",
   "metadata": {},
   "source": [
    "# param\n",
    "\n",
    "参考：[Param](https://param.holoviz.org/index.html)\n",
    "\n",
    "```{note}\n",
    "`param` 是用于处理所有用户可修改的实参、形参和控制代码的属性的库。它提供了自动的、健壮的错误检查，同时极大地减少了样板代码，让您专注于您希望代码做什么，而不是检查用户可能向函数或类提供不适当值的所有可能方式。\n",
    "\n",
    "`param` 允许您用 Python 声明式编程，预先声明关于每个参数的事实。一旦完成了这些工作，`param` 就可以处理其余的工作（类型检查、范围验证、文档化、序列化等等）！\n",
    "\n",
    "基于 `param` 的程序比其他 Python 程序包含的代码要少得多，而只是为每个对象或函数提供易于阅读和维护的 Parameters 清单。这样，您剩下的代码就会更加简单和清晰，而用户也可以很容易地看到如何正确地使用它。另外，`param` 不需要 Python 标准库以外的任何代码，这使得添加到任何项目都很简单。\n",
    "\n",
    "`param` 还可以使特定于领域的代码独立于任何 GUI 或其他用户界面代码，让您维护一个代码库来支持 GUI 和非 GUI 使用，GUI 可由 UI 专家维护，而特定于领域的代码则由领域专家维护。\n",
    "```\n",
    "\n",
    "安装：\n",
    "\n",
    "`````{tab-set}\n",
    "````{tab-item} conda\n",
    "```bash\n",
    "conda install -c pyviz param\n",
    "```\n",
    "````\n",
    "````{tab-item} pip\n",
    "```bash\n",
    "pip install param\n",
    "```\n",
    "````\n",
    "`````\n",
    "\n",
    "Parameter 是 Python 类属性的一种特殊类型，扩展为具有各种可选特性，如类型和范围检查、动态生成值、文档字符串、默认值等，如果没有在子类或实例中指定，则每个参数都继承自父类："
   ]
  },
  {
   "cell_type": "code",
   "execution_count": 1,
   "metadata": {},
   "outputs": [],
   "source": [
    "import param\n",
    "        \n",
    "class A(param.Parameterized):\n",
    "    title = param.String(default=\"sum\", doc=\"Title for the result\")\n",
    "    \n",
    "class B(A):\n",
    "    a = param.Integer(2, bounds=(0, 10), doc=\"First addend\")\n",
    "    b = param.Integer(3, bounds=(0, 10), doc=\"Second addend\")\n",
    "    \n",
    "    def __call__(self):\n",
    "        return self.title + \": \" + str(self.a + self.b)"
   ]
  },
  {
   "cell_type": "code",
   "execution_count": 2,
   "metadata": {},
   "outputs": [
    {
     "data": {
      "text/plain": [
       "'Sum: 9'"
      ]
     },
     "execution_count": 2,
     "metadata": {},
     "output_type": "execute_result"
    }
   ],
   "source": [
    "o1 = B(b=4, title=\"Sum\")\n",
    "o1.a = 5\n",
    "o1()"
   ]
  },
  {
   "cell_type": "markdown",
   "metadata": {},
   "source": [
    "这里定义的 Parameters 与代码中任何其他 Python 属性的工作方式完全相同，因此，将现有类迁移到使用 Param 通常非常简单。只是从 `param.Parameterized` 继承。然后为对象接受的每个参数提供可选的 `Parameter` 声明，包括范围和允许的值（如果合适的话）。您只需要在应用参数的最高超类中声明和记录每个参数一次，而它的默认值将由每个子类继承所有其他元数据。\n",
    "\n",
    "一旦你声明了参数，大量的特性和更好的行为现在就解锁了！例如，如果用户试图提供一些不适当的数据，会发生什么？使用 Param，这样的错误会立即被捕获。"
   ]
  },
  {
   "cell_type": "code",
   "execution_count": null,
   "metadata": {},
   "outputs": [],
   "source": []
  }
 ],
 "metadata": {
  "kernelspec": {
   "display_name": "Python 3.10.4 ('tvmx': conda)",
   "language": "python",
   "name": "python3"
  },
  "language_info": {
   "codemirror_mode": {
    "name": "ipython",
    "version": 3
   },
   "file_extension": ".py",
   "mimetype": "text/x-python",
   "name": "python",
   "nbconvert_exporter": "python",
   "pygments_lexer": "ipython3",
   "version": "3.10.4"
  },
  "orig_nbformat": 4,
  "vscode": {
   "interpreter": {
    "hash": "e579259ee6098e2b9319de590d145b4b096774fe457bdf04260e3ba5c171e887"
   }
  }
 },
 "nbformat": 4,
 "nbformat_minor": 2
}
