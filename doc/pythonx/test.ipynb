{
 "cells": [
  {
   "cell_type": "markdown",
   "metadata": {},
   "source": [
    "# 测试代码"
   ]
  },
  {
   "cell_type": "markdown",
   "metadata": {},
   "source": [
    "```python\n",
    "from d2py.tools.dashstyle.server import create_app, run_server\n",
    "from d2py.tools.dashstyle.utils.nav import create_nav\n",
    "\n",
    "external_stylesheets = ['https://codepen.io/chriddyp/pen/bWLwgP.css']\n",
    "app = create_app(__name__, external_stylesheets=external_stylesheets)\n",
    "```\n",
    "\n",
    "Dash 应用使用和运行：\n",
    "\n",
    "```python\n",
    "layout = ... # 布局\n",
    "await run_server(app, layout, port=8050) # 启动应用\n",
    "```"
   ]
  },
  {
   "cell_type": "markdown",
   "metadata": {},
   "source": [
    "可以直接批量修改文件后缀：\n",
    "\n",
    "```python\n",
    "from d2py.tools.sanstyle.utils import rename_suffix\n",
    "rename_suffix(root, old, new)\n",
    "```\n",
    "\n",
    "\n",
    "`root`\n",
    ":   需要修改的跟目录\n",
    "\n",
    "`old`\n",
    ":   被修改的文件后缀，如 `.txt`\n",
    "\n",
    "`new`\n",
    ":   修改后的文件后缀，如 `.rst`\n"
   ]
  },
  {
   "cell_type": "markdown",
   "metadata": {},
   "source": [
    "创建 `<embed>` 元素："
   ]
  },
  {
   "cell_type": "code",
   "execution_count": 3,
   "metadata": {},
   "outputs": [
    {
     "data": {
      "text/html": [
       "<embed type=\"text/html\" class=\"w3-pale-blue\" width=\"100%\" height=\"500\" src=\"https://dash-tests.herokuapp.com/examples/figure-n-slider\">"
      ],
      "text/plain": [
       "<d2py.tools.sanstyle.display.html.Embed at 0x7f47ec4dbe90>"
      ]
     },
     "execution_count": 3,
     "metadata": {},
     "output_type": "execute_result"
    }
   ],
   "source": [
    "from d2py.tools.sanstyle.display.html import Embed\n",
    "\n",
    "snippet_url = 'https://dash-tests.herokuapp.com'\n",
    "figure_n_slider_dash = Embed(snippet_url + '/examples/figure-n-slider',\n",
    "                   className='w3-pale-blue',\n",
    "                   height=500)\n",
    "figure_n_slider_dash"
   ]
  },
  {
   "cell_type": "markdown",
   "metadata": {},
   "source": [
    "导入 `plotly-dastsets`\n",
    "\n",
    "``` python\n",
    "import pandas as pd\n",
    "from d2py.tools.sanstyle.github.file import lfs_url\n",
    "\n",
    "url = lfs_url('SanstyleLab/plotly-dastsets',\n",
    "              'simple/usa-agricultural-exports-2011.csv')\n",
    "df = pd.read_csv(url)\n",
    "df.head()\n",
    "```"
   ]
  },
  {
   "cell_type": "code",
   "execution_count": null,
   "metadata": {},
   "outputs": [],
   "source": []
  }
 ],
 "metadata": {
  "kernelspec": {
   "display_name": "py311",
   "language": "python",
   "name": "python3"
  },
  "language_info": {
   "codemirror_mode": {
    "name": "ipython",
    "version": 3
   },
   "file_extension": ".py",
   "mimetype": "text/x-python",
   "name": "python",
   "nbconvert_exporter": "python",
   "pygments_lexer": "ipython3",
   "version": "3.11.7"
  }
 },
 "nbformat": 4,
 "nbformat_minor": 2
}
