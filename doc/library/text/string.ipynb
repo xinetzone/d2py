{
 "cells": [
  {
   "cell_type": "markdown",
   "metadata": {},
   "source": [
    "# 字符串常量和模板\n",
    "\n",
    "## 函数\n",
    "\n",
    "{func}`string.capwords` 将字符串中所有单词的首字母大写。"
   ]
  },
  {
   "cell_type": "code",
   "execution_count": 1,
   "metadata": {},
   "outputs": [
    {
     "name": "stdout",
     "output_type": "stream",
     "text": [
      "This tutorial provides an introduction to TVM, meant to address user who is new to the TVM project.\n",
      "This Tutorial Provides An Introduction To Tvm, Meant To Address User Who Is New To The Tvm Project.\n"
     ]
    }
   ],
   "source": [
    "import string\n",
    "\n",
    "s = 'This tutorial provides an introduction to TVM, meant to address user who is new to the TVM project.'\n",
    "\n",
    "print(s)\n",
    "print(string.capwords(s))"
   ]
  },
  {
   "attachments": {},
   "cell_type": "markdown",
   "metadata": {},
   "source": [
    "```{warning}\n",
    "这个函数对全大写的单词也做了改变。\n",
    "```\n",
    "\n",
    "## 模板\n",
    "字符串模板是在 {pep}`292` 中作为可供选择的内置插入语法添加进来的。\n",
    "\n",
    "在 {class}`string.Template` 中，通过前置 `$` 来识别变量（例如，`$var`）。另外，如果有需要，可以通过大括号将它们从周围的文本中分开（例如，`${var}`）。\n",
    "\n",
    "通过例子来对比下：\n",
    "\n",
    "1. 模板插入"
   ]
  },
  {
   "cell_type": "code",
   "execution_count": 2,
   "metadata": {},
   "outputs": [
    {
     "name": "stdout",
     "output_type": "stream",
     "text": [
      "TEMPLATE: \n",
      "Variable        : foo\n",
      "Escape          : $\n",
      "Variable in text: fooiable\n",
      "\n"
     ]
    }
   ],
   "source": [
    "import string\n",
    "\n",
    "values = {'var': 'foo'}\n",
    "\n",
    "t = string.Template(\"\"\"\n",
    "Variable        : $var\n",
    "Escape          : $$\n",
    "Variable in text: ${var}iable\n",
    "\"\"\")\n",
    "\n",
    "print('TEMPLATE:', t.substitute(values))"
   ]
  },
  {
   "attachments": {},
   "cell_type": "markdown",
   "metadata": {},
   "source": [
    "使用 `%` 操作符的格式化语法"
   ]
  },
  {
   "cell_type": "code",
   "execution_count": 3,
   "metadata": {},
   "outputs": [
    {
     "name": "stdout",
     "output_type": "stream",
     "text": [
      "INTERPOLATION: \n",
      "Variable        : foo\n",
      "Escape          : %\n",
      "Variable in text: fooiable\n",
      "\n"
     ]
    }
   ],
   "source": [
    "s = \"\"\"\n",
    "Variable        : %(var)s\n",
    "Escape          : %%\n",
    "Variable in text: %(var)siable\n",
    "\"\"\"\n",
    "\n",
    "print('INTERPOLATION:', s % values)"
   ]
  },
  {
   "attachments": {},
   "cell_type": "markdown",
   "metadata": {},
   "source": [
    "使用 {meth}`str.format` 的字符串语法"
   ]
  },
  {
   "cell_type": "code",
   "execution_count": 4,
   "metadata": {},
   "outputs": [
    {
     "name": "stdout",
     "output_type": "stream",
     "text": [
      "FORMAT: \n",
      "Variable        : foo\n",
      "Escape          : {}\n",
      "Variable in text: fooiable\n",
      "\n"
     ]
    }
   ],
   "source": [
    "s = \"\"\"\n",
    "Variable        : {var}\n",
    "Escape          : {{}}\n",
    "Variable in text: {var}iable\n",
    "\"\"\"\n",
    "\n",
    "print('FORMAT:', s.format(**values))"
   ]
  },
  {
   "attachments": {},
   "cell_type": "markdown",
   "metadata": {},
   "source": [
    "前两种情况，触发字符（`$` 和 `%`）需要重复两次来转义。对于第三种格式化语法，`{` 和 `}` 都需要重复才能转义。"
   ]
  },
  {
   "attachments": {},
   "cell_type": "markdown",
   "metadata": {},
   "source": [
    "使用 {meth}`string.Template.safe_substitute` 方法可以做到：如果模板需要的值没有全部作为参数提供给模板的话可以避免发生异常。"
   ]
  },
  {
   "cell_type": "code",
   "execution_count": 5,
   "metadata": {},
   "outputs": [
    {
     "name": "stdout",
     "output_type": "stream",
     "text": [
      "ERROR: 'missing'\n",
      "safe_substitute(): foo is here but $missing is not provided\n"
     ]
    }
   ],
   "source": [
    "import string\n",
    "\n",
    "values = {'var': 'foo'}\n",
    "\n",
    "t = string.Template(\"$var is here but $missing is not provided\")\n",
    "\n",
    "try:\n",
    "    print('substitute()     :', t.substitute(values))\n",
    "except KeyError as err:\n",
    "    print('ERROR:', str(err))\n",
    "\n",
    "print('safe_substitute():', t.safe_substitute(values))"
   ]
  },
  {
   "attachments": {},
   "cell_type": "markdown",
   "metadata": {},
   "source": [
    "## 高级模板\n",
    "\n",
    "{class}`string.Template` 缺省语法可以通过改变正则表达式模式来调整，这个正则表达式一般是用来寻找模板内容内变量名字的。简单的方法是通过改变 `delimiter` 和 `idpattern` 的类属性来做调整。\n"
   ]
  },
  {
   "cell_type": "code",
   "execution_count": 6,
   "metadata": {},
   "outputs": [
    {
     "name": "stdout",
     "output_type": "stream",
     "text": [
      "Modified ID pattern:\n",
      "\n",
      "  Delimiter : %\n",
      "  Replaced  : replaced\n",
      "  Ignored   : %notunderscored\n",
      "\n"
     ]
    }
   ],
   "source": [
    "import string\n",
    "\n",
    "class MyTemplate(string.Template):\n",
    "    delimiter = '%'\n",
    "    idpattern = '[a-z]+_[a-z]+'\n",
    "\n",
    "template_text = '''\n",
    "  Delimiter : %%\n",
    "  Replaced  : %with_underscore\n",
    "  Ignored   : %notunderscored\n",
    "'''\n",
    "\n",
    "d = {\n",
    "    'with_underscore': 'replaced',\n",
    "    'notunderscored': 'not replaced',\n",
    "}\n",
    "\n",
    "t = MyTemplate(template_text)\n",
    "print('Modified ID pattern:')\n",
    "print(t.safe_substitute(d))"
   ]
  },
  {
   "attachments": {},
   "cell_type": "markdown",
   "metadata": {},
   "source": [
    "示例里，替换规则进行了变更，分隔符用 `%` 来替代了 `$` 并且变量名字中必须包含下划线。 `%notunderscored` 模式并没有被替换，因为它不包括下划线字符。\n",
    "\n",
    "对于更复杂的改变，可以通过覆写 `pattern` 属性并定义全新的正则表达式来实现。覆写的模式必须提供四个命名组来获取未识别的分隔符、命名的变量、大括号模式的变量名称、和无效的分隔符模式。"
   ]
  },
  {
   "cell_type": "code",
   "execution_count": 7,
   "metadata": {},
   "outputs": [
    {
     "name": "stdout",
     "output_type": "stream",
     "text": [
      "\n",
      "            \\$(?:\n",
      "              (?P<escaped>\\$)  |   # Escape sequence of two delimiters\n",
      "              (?P<named>(?a:[_a-z][_a-z0-9]*))       |   # delimiter and a Python identifier\n",
      "              {(?P<braced>(?a:[_a-z][_a-z0-9]*))} |   # delimiter and a braced identifier\n",
      "              (?P<invalid>)             # Other ill-formed delimiter exprs\n",
      "            )\n",
      "            \n"
     ]
    }
   ],
   "source": [
    "import string\n",
    "\n",
    "t = string.Template('$var')\n",
    "print(t.pattern.pattern)"
   ]
  },
  {
   "attachments": {},
   "cell_type": "markdown",
   "metadata": {},
   "source": [
    "`t.pattern` 的值是编译好的正则表达式，但是原始字符串可以通过它的 `pattern` 属性来获取"
   ]
  },
  {
   "cell_type": "code",
   "execution_count": 9,
   "metadata": {},
   "outputs": [
    {
     "name": "stdout",
     "output_type": "stream",
     "text": [
      "re.compile('\\n            \\\\$(?:\\n              (?P<escaped>\\\\$)  |   # Escape sequence of two delimiters\\n              (?P<named>(?a:[_a-z][_a-z0-9]*))       |   # delimiter and a Python identifier\\n          , re.IGNORECASE|re.VERBOSE)\n"
     ]
    }
   ],
   "source": [
    "t.pattern"
   ]
  },
  {
   "cell_type": "markdown",
   "metadata": {},
   "source": [
    "示例定义了新的模式来生成新的模板，使用 `{{var}}` 作为变量语法。"
   ]
  },
  {
   "cell_type": "code",
   "execution_count": 10,
   "metadata": {},
   "outputs": [
    {
     "name": "stdout",
     "output_type": "stream",
     "text": [
      "MATCHES: [('{{', '', '', ''), ('', 'var', '', '')]\n",
      "SUBSTITUTED: \n",
      "{{\n",
      "replacement\n",
      "\n"
     ]
    }
   ],
   "source": [
    "import re\n",
    "import string\n",
    "\n",
    "class MyTemplate(string.Template):\n",
    "    delimiter = '{{'\n",
    "    pattern = r'''\n",
    "    \\{\\{(?:\n",
    "    (?P<escaped>\\{\\{)|\n",
    "    (?P<named>[_a-z][_a-z0-9]*)\\}\\}|\n",
    "    (?P<braced>[_a-z][_a-z0-9]*)\\}\\}|\n",
    "    (?P<invalid>)\n",
    "    )\n",
    "    '''\n",
    "\n",
    "t = MyTemplate('''\n",
    "{{{{\n",
    "{{var}}\n",
    "''')\n",
    "\n",
    "print('MATCHES:', t.pattern.findall(t.template))\n",
    "print('SUBSTITUTED:', t.safe_substitute(var='replacement'))"
   ]
  },
  {
   "attachments": {},
   "cell_type": "markdown",
   "metadata": {},
   "source": [
    "`named` 和 `braced` 两个模式都必须单独提供，虽然它们都是一样的。\n",
    "\n",
    "## 格式化程序\n",
    "\n",
    "{class}`string.Formatter` 类的执行效果与  `str` 的 {meth}`str.format` 方法一致，它的特征包括型态转换，排列，属性以及字段引用，已命名特定位置的模板参数，以及特定类型的格式化选项。通常 {meth}`str.format` 方法对于这些特征是最便捷的接口，但 {class}`string.Formatter` 提供了建立子类的方法，在需要多态情况下使用。\n",
    "\n",
    "## 常量\n",
    "\n",
    "{mod}`string` 模块包含了与 ASCII 、数字字符相关的一系列常量。"
   ]
  },
  {
   "cell_type": "code",
   "execution_count": 11,
   "metadata": {},
   "outputs": [
    {
     "name": "stdout",
     "output_type": "stream",
     "text": [
      "ascii_letters='abcdefghijklmnopqrstuvwxyzABCDEFGHIJKLMNOPQRSTUVWXYZ'\n",
      "\n",
      "ascii_lowercase='abcdefghijklmnopqrstuvwxyz'\n",
      "\n",
      "ascii_uppercase='ABCDEFGHIJKLMNOPQRSTUVWXYZ'\n",
      "\n",
      "digits='0123456789'\n",
      "\n",
      "hexdigits='0123456789abcdefABCDEF'\n",
      "\n",
      "octdigits='01234567'\n",
      "\n",
      "printable='0123456789abcdefghijklmnopqrstuvwxyzABCDEFGHIJKLMNOPQRSTUVWXYZ!\"#$%&\\'()*+,-./:;<=>?@[\\\\]^_`{|}~ \\t\\n\\r\\x0b\\x0c'\n",
      "\n",
      "punctuation='!\"#$%&\\'()*+,-./:;<=>?@[\\\\]^_`{|}~'\n",
      "\n",
      "whitespace=' \\t\\n\\r\\x0b\\x0c'\n",
      "\n"
     ]
    }
   ],
   "source": [
    "import inspect\n",
    "import string\n",
    "\n",
    "def is_str(value):\n",
    "    return isinstance(value, str)\n",
    "\n",
    "for name, value in inspect.getmembers(string, is_str):\n",
    "    if name.startswith('_'):\n",
    "        continue\n",
    "    print('%s=%r\\n' % (name, value))"
   ]
  },
  {
   "attachments": {},
   "cell_type": "markdown",
   "metadata": {},
   "source": [
    "这些常量在处理 ASCII 数据时是非常有效的，但是现在大家会越来越多的遇到 Unicode 类型的非 ASCII 文本，在这个情况下的这些常量的作用就很有限了。"
   ]
  },
  {
   "cell_type": "code",
   "execution_count": null,
   "metadata": {},
   "outputs": [],
   "source": []
  }
 ],
 "metadata": {
  "kernelspec": {
   "display_name": "py310",
   "language": "python",
   "name": "python3"
  },
  "language_info": {
   "codemirror_mode": {
    "name": "ipython",
    "version": 3
   },
   "file_extension": ".py",
   "mimetype": "text/x-python",
   "name": "python",
   "nbconvert_exporter": "python",
   "pygments_lexer": "ipython3",
   "version": "3.10.8"
  },
  "orig_nbformat": 4,
  "vscode": {
   "interpreter": {
    "hash": "34e95b0948f576614c7863cc780d83f61f9551597d4ec05ab5fbb4cfe73deb20"
   }
  }
 },
 "nbformat": 4,
 "nbformat_minor": 2
}
