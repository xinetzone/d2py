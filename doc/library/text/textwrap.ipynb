{
 "cells": [
  {
   "attachments": {},
   "cell_type": "markdown",
   "metadata": {},
   "source": [
    "#  文本段落格式化\n",
    "\n",
    "```{admonition} 目标\n",
    "通过调整段落中出现换行符的位置来设置文本格式。\n",
    "```\n",
    "\n",
    "在对字体有较高要求时，{mod}`textwrap` 模块可以用于格式化文字以便输出。这个模块提供了许多类似文字编辑器和文字处理器中拥有的整段覆盖或填充特性的编程功能。\n",
    "\n",
    "示例："
   ]
  },
  {
   "cell_type": "code",
   "execution_count": 1,
   "metadata": {},
   "outputs": [],
   "source": [
    "sample_text = '''\n",
    "    The textwrap module can be used to format text for output in\n",
    "    situations where pretty-printing is desired.  It offers\n",
    "    programmatic functionality similar to the paragraph wrapping\n",
    "    or filling features found in many text editors.\n",
    "    '''"
   ]
  },
  {
   "attachments": {},
   "cell_type": "markdown",
   "metadata": {},
   "source": [
    "## 填充段落\n",
    "\n",
    "函数 {func}`textwrap.fill` 可以输入文字并输出用户要求格式的文本。"
   ]
  },
  {
   "cell_type": "code",
   "execution_count": 2,
   "metadata": {},
   "outputs": [
    {
     "name": "stdout",
     "output_type": "stream",
     "text": [
      "     The textwrap module can be used to format\n",
      "text for output in     situations where pretty-\n",
      "printing is desired.  It offers     programmatic\n",
      "functionality similar to the paragraph wrapping\n",
      "or filling features found in many text editors.\n"
     ]
    }
   ],
   "source": [
    "import textwrap\n",
    "\n",
    "print(textwrap.fill(sample_text, width=50))"
   ]
  },
  {
   "attachments": {},
   "cell_type": "markdown",
   "metadata": {},
   "source": [
    "结果并不尽如人意。文本现在是左对齐的，只有第一行保留了缩进，但是原来的每一行的末尾和下一行的开头之间仍有空格。\n",
    "\n",
    "## 移除已有缩进\n",
    "\n",
    "在之前的示例中，输出的文本中间夹杂着许多多余的空格，使得文本格式并不是很整洁。使用 {func}`textwrap.dedent` 函数移去所有示例文本中的空格前缀可以使结果更好，并且在移除自身代码格式的同时，允许直接从 Python 的代码中使用文档字符串或嵌入式多行字符串。\n",
    "\n",
    "示例字符串为了展示这一功能添加了一些缩进。"
   ]
  },
  {
   "cell_type": "code",
   "execution_count": 3,
   "metadata": {},
   "outputs": [
    {
     "name": "stdout",
     "output_type": "stream",
     "text": [
      "Dedented:\n",
      "\n",
      "The textwrap module can be used to format text for output in\n",
      "situations where pretty-printing is desired.  It offers\n",
      "programmatic functionality similar to the paragraph wrapping\n",
      "or filling features found in many text editors.\n",
      "\n"
     ]
    }
   ],
   "source": [
    "dedented_text = textwrap.dedent(sample_text)\n",
    "print('Dedented:')\n",
    "print(dedented_text)"
   ]
  },
  {
   "attachments": {},
   "cell_type": "markdown",
   "metadata": {},
   "source": [
    "因为 \"dedent\" 是 \"indent\" 的反义词，所以输出结果是一段删除了每一行中都存在的缩进空白的文字。如果某一行比其他行缩进的更多，多出的部分将不会被移除。\n",
    "\n",
    "## 组合缩进及填充\n",
    "\n",
    "以特定的宽度输出段落。"
   ]
  },
  {
   "cell_type": "code",
   "execution_count": 4,
   "metadata": {},
   "outputs": [
    {
     "name": "stdout",
     "output_type": "stream",
     "text": [
      "45 Columns:\n",
      "\n",
      "The textwrap module can be used to format\n",
      "text for output in situations where pretty-\n",
      "printing is desired.  It offers programmatic\n",
      "functionality similar to the paragraph\n",
      "wrapping or filling features found in many\n",
      "text editors.\n",
      "\n",
      "60 Columns:\n",
      "\n",
      "The textwrap module can be used to format text for output in\n",
      "situations where pretty-printing is desired.  It offers\n",
      "programmatic functionality similar to the paragraph wrapping\n",
      "or filling features found in many text editors.\n",
      "\n"
     ]
    }
   ],
   "source": [
    "import textwrap\n",
    "\n",
    "dedented_text = textwrap.dedent(sample_text).strip()\n",
    "for width in [45, 60]:\n",
    "    print('{} Columns:\\n'.format(width))\n",
    "    print(textwrap.fill(dedented_text, width=width))\n",
    "    print()"
   ]
  },
  {
   "attachments": {},
   "cell_type": "markdown",
   "metadata": {},
   "source": [
    "## 前缀块\n",
    "\n",
    "用 {func}`textwrap.indent` 函数在字符串每一行开头加入前缀文本。这个例子非常类似电子邮件回复中被引用的部分，使用 `>` 符号来做每行文字的前缀。"
   ]
  },
  {
   "cell_type": "code",
   "execution_count": 5,
   "metadata": {},
   "outputs": [
    {
     "name": "stdout",
     "output_type": "stream",
     "text": [
      "Quoted block:\n",
      "\n",
      ">  The textwrap module can be used to format text\n",
      "> for output in situations where pretty-printing is\n",
      "> desired.  It offers programmatic functionality\n",
      "> similar to the paragraph wrapping or filling\n",
      "> features found in many text editors.\n",
      "\n",
      "> Second paragraph after a blank line.\n"
     ]
    }
   ],
   "source": [
    "import textwrap\n",
    "\n",
    "dedented_text = textwrap.dedent(sample_text)\n",
    "wrapped = textwrap.fill(dedented_text, width=50)\n",
    "wrapped += '\\n\\nSecond paragraph after a blank line.'\n",
    "final = textwrap.indent(wrapped, '> ')\n",
    "\n",
    "print('Quoted block:\\n')\n",
    "print(final)"
   ]
  },
  {
   "cell_type": "markdown",
   "metadata": {},
   "source": [
    "文字被分成了几行，每一行文字前都加了前缀，然后每行文字重新组成整个文字段落并返回。\n",
    "\n",
    "要控制特定的一行接受新前缀，给 {func}`textwrap.indent` 的 `predicate` 参数赋值。该操作会轮流遍历每行的文本，当值为真时将在该行加上前缀。"
   ]
  },
  {
   "cell_type": "code",
   "execution_count": 6,
   "metadata": {},
   "outputs": [
    {
     "name": "stdout",
     "output_type": "stream",
     "text": [
      "Indent ' The textwrap module can be used to format text\\n'?\n",
      "Indent 'for output in situations where pretty-printing is\\n'?\n",
      "Indent 'desired.  It offers programmatic functionality\\n'?\n",
      "Indent 'similar to the paragraph wrapping or filling\\n'?\n",
      "Indent 'features found in many text editors.'?\n",
      "\n",
      "Quoted block:\n",
      "\n",
      "EVEN  The textwrap module can be used to format text\n",
      "for output in situations where pretty-printing is\n",
      "EVEN desired.  It offers programmatic functionality\n",
      "EVEN similar to the paragraph wrapping or filling\n",
      "EVEN features found in many text editors.\n"
     ]
    }
   ],
   "source": [
    "import textwrap\n",
    "\n",
    "def should_indent(line):\n",
    "    print('Indent {!r}?'.format(line))\n",
    "    return len(line.strip()) % 2 == 0\n",
    "\n",
    "dedented_text = textwrap.dedent(sample_text)\n",
    "wrapped = textwrap.fill(dedented_text, width=50)\n",
    "final = textwrap.indent(wrapped, 'EVEN ',\n",
    "                        predicate=should_indent)\n",
    "\n",
    "print('\\nQuoted block:\\n')\n",
    "print(final)"
   ]
  },
  {
   "cell_type": "markdown",
   "metadata": {},
   "source": [
    "这个例子将在字符数为偶数的行加上 `EVEN` 前缀。\n",
    "\n",
    "## 悬挂缩进\n",
    "\n",
    "同时也可以设置输出段落的宽度，可以单独控制首行的缩进。"
   ]
  },
  {
   "cell_type": "code",
   "execution_count": 7,
   "metadata": {},
   "outputs": [
    {
     "name": "stdout",
     "output_type": "stream",
     "text": [
      "The textwrap module can be used to format text for\n",
      "    output in situations where pretty-printing is\n",
      "    desired.  It offers programmatic functionality\n",
      "    similar to the paragraph wrapping or filling\n",
      "    features found in many text editors.\n"
     ]
    }
   ],
   "source": [
    "import textwrap\n",
    "\n",
    "dedented_text = textwrap.dedent(sample_text).strip()\n",
    "print(textwrap.fill(dedented_text,\n",
    "                    initial_indent='',\n",
    "                    subsequent_indent=' ' * 4,\n",
    "                    width=50,\n",
    "                    ))"
   ]
  },
  {
   "attachments": {},
   "cell_type": "markdown",
   "metadata": {},
   "source": [
    "## 减短长文本\n",
    "\n",
    "为了查看长文本的摘要或预览，可以使用 {func}`textwrap.shorten`。所有的空格，比如制表符、换行符以及一系列的空格都将标准化为单个空格。然后此文本将减短为要求的长度来显示，在字词边界之间，将不包括不完整的词。"
   ]
  },
  {
   "cell_type": "code",
   "execution_count": 8,
   "metadata": {},
   "outputs": [
    {
     "name": "stdout",
     "output_type": "stream",
     "text": [
      "Original:\n",
      "\n",
      " The textwrap module can be used to format text\n",
      "for output in situations where pretty-printing is\n",
      "desired.  It offers programmatic functionality\n",
      "similar to the paragraph wrapping or filling\n",
      "features found in many text editors.\n",
      "\n",
      "Shortened:\n",
      "\n",
      "The textwrap module can be used to format text for\n",
      "output in situations where pretty-printing [...]\n"
     ]
    }
   ],
   "source": [
    "import textwrap\n",
    "\n",
    "dedented_text = textwrap.dedent(sample_text)\n",
    "original = textwrap.fill(dedented_text, width=50)\n",
    "\n",
    "print('Original:\\n')\n",
    "print(original)\n",
    "\n",
    "shortened = textwrap.shorten(original, 100)\n",
    "shortened_wrapped = textwrap.fill(shortened, width=50)\n",
    "\n",
    "print('\\nShortened:\\n')\n",
    "print(shortened_wrapped)"
   ]
  },
  {
   "attachments": {},
   "cell_type": "markdown",
   "metadata": {},
   "source": [
    "如果非空字元在原文本中被当作减短的部分被移除，他将替换为占位符。默认值 `[...]` 可以被替换，在 {func}`textwrap.shorten` 中加入 `placeholder` 参数。"
   ]
  }
 ],
 "metadata": {
  "kernelspec": {
   "display_name": "py310",
   "language": "python",
   "name": "python3"
  },
  "language_info": {
   "codemirror_mode": {
    "name": "ipython",
    "version": 3
   },
   "file_extension": ".py",
   "mimetype": "text/x-python",
   "name": "python",
   "nbconvert_exporter": "python",
   "pygments_lexer": "ipython3",
   "version": "3.10.8"
  },
  "orig_nbformat": 4,
  "vscode": {
   "interpreter": {
    "hash": "34e95b0948f576614c7863cc780d83f61f9551597d4ec05ab5fbb4cfe73deb20"
   }
  }
 },
 "nbformat": 4,
 "nbformat_minor": 2
}
