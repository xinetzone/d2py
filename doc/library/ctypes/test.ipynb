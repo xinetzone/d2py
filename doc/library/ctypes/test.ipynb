{
 "cells": [
  {
   "cell_type": "markdown",
   "metadata": {},
   "source": [
    "# 加载动态链接库实战\n",
    "\n",
    "```{include} test.c\n",
    ":code: c\n",
    "```"
   ]
  },
  {
   "cell_type": "markdown",
   "metadata": {},
   "source": [
    "导出动态库："
   ]
  },
  {
   "cell_type": "code",
   "execution_count": 1,
   "metadata": {},
   "outputs": [],
   "source": [
    "!gcc -shared -o libtest.so test.c"
   ]
  },
  {
   "cell_type": "code",
   "execution_count": 2,
   "metadata": {},
   "outputs": [],
   "source": [
    "import ctypes"
   ]
  },
  {
   "cell_type": "code",
   "execution_count": 3,
   "metadata": {},
   "outputs": [],
   "source": [
    "_mod = ctypes.cdll.LoadLibrary(\"./libtest.so\")"
   ]
  },
  {
   "cell_type": "markdown",
   "metadata": {},
   "source": [
    "成功加载 C 库后，需要编写代码提取特定的符号并为其附上类型签名。"
   ]
  },
  {
   "cell_type": "code",
   "execution_count": 4,
   "metadata": {},
   "outputs": [],
   "source": [
    "# int dcd(int, int)\n",
    "gcd = _mod.gcd"
   ]
  },
  {
   "cell_type": "code",
   "execution_count": 5,
   "metadata": {},
   "outputs": [
    {
     "data": {
      "text/plain": [
       "2"
      ]
     },
     "execution_count": 5,
     "metadata": {},
     "output_type": "execute_result"
    }
   ],
   "source": [
    "gcd(2, 4)"
   ]
  },
  {
   "cell_type": "code",
   "execution_count": 6,
   "metadata": {},
   "outputs": [
    {
     "ename": "ArgumentError",
     "evalue": "argument 2: TypeError: Don't know how to convert parameter 2",
     "output_type": "error",
     "traceback": [
      "\u001b[0;31m---------------------------------------------------------------------------\u001b[0m",
      "\u001b[0;31mArgumentError\u001b[0m                             Traceback (most recent call last)",
      "Cell \u001b[0;32mIn[6], line 1\u001b[0m\n\u001b[0;32m----> 1\u001b[0m \u001b[43mgcd\u001b[49m\u001b[43m(\u001b[49m\u001b[38;5;241;43m2\u001b[39;49m\u001b[43m,\u001b[49m\u001b[43m \u001b[49m\u001b[38;5;241;43m4.5\u001b[39;49m\u001b[43m)\u001b[49m\n",
      "\u001b[0;31mArgumentError\u001b[0m: argument 2: TypeError: Don't know how to convert parameter 2"
     ]
    }
   ],
   "source": [
    "gcd(2, 4.5)"
   ]
  },
  {
   "cell_type": "markdown",
   "metadata": {},
   "source": [
    "## ctypes `.restype` & `.argtypes`"
   ]
  },
  {
   "cell_type": "markdown",
   "metadata": {},
   "source": [
    "`.argtypes` 指定函数输入参数类型，`.restype` 表示返回类型。\n",
    "\n",
    "```{note}\n",
    "给值附上参数类型至关重要，如果没有这样做，不仅代码可能不会正常运行，而且还会使得整个解释器进程崩溃。\n",
    "```"
   ]
  },
  {
   "cell_type": "code",
   "execution_count": 7,
   "metadata": {},
   "outputs": [],
   "source": [
    "# int dcd(int, int)\n",
    "gcd = _mod.gcd\n",
    "gcd.argtypes = ctypes.c_int, ctypes.c_int\n",
    "gcd.restype = ctypes.c_int"
   ]
  },
  {
   "cell_type": "code",
   "execution_count": 8,
   "metadata": {},
   "outputs": [
    {
     "data": {
      "text/plain": [
       "2"
      ]
     },
     "execution_count": 8,
     "metadata": {},
     "output_type": "execute_result"
    }
   ],
   "source": [
    "gcd(2, 4)"
   ]
  },
  {
   "cell_type": "code",
   "execution_count": 9,
   "metadata": {},
   "outputs": [
    {
     "ename": "ArgumentError",
     "evalue": "argument 2: TypeError: 'float' object cannot be interpreted as an integer",
     "output_type": "error",
     "traceback": [
      "\u001b[0;31m---------------------------------------------------------------------------\u001b[0m",
      "\u001b[0;31mArgumentError\u001b[0m                             Traceback (most recent call last)",
      "Cell \u001b[0;32mIn[9], line 1\u001b[0m\n\u001b[0;32m----> 1\u001b[0m \u001b[43mgcd\u001b[49m\u001b[43m(\u001b[49m\u001b[38;5;241;43m2\u001b[39;49m\u001b[43m,\u001b[49m\u001b[43m \u001b[49m\u001b[38;5;241;43m4.5\u001b[39;49m\u001b[43m)\u001b[49m\n",
      "\u001b[0;31mArgumentError\u001b[0m: argument 2: TypeError: 'float' object cannot be interpreted as an integer"
     ]
    }
   ],
   "source": [
    "gcd(2, 4.5)"
   ]
  },
  {
   "cell_type": "markdown",
   "metadata": {},
   "source": [
    "## ctypes 指针参数"
   ]
  },
  {
   "cell_type": "code",
   "execution_count": 10,
   "metadata": {},
   "outputs": [],
   "source": [
    "divide = _mod.divide"
   ]
  },
  {
   "cell_type": "code",
   "execution_count": 11,
   "metadata": {},
   "outputs": [],
   "source": [
    "divide.argtypes = ctypes.c_int, ctypes.c_int, ctypes.POINTER(ctypes.c_int)"
   ]
  },
  {
   "cell_type": "code",
   "execution_count": 12,
   "metadata": {},
   "outputs": [
    {
     "ename": "ArgumentError",
     "evalue": "argument 3: TypeError: expected LP_c_int instance instead of int",
     "output_type": "error",
     "traceback": [
      "\u001b[0;31m---------------------------------------------------------------------------\u001b[0m",
      "\u001b[0;31mArgumentError\u001b[0m                             Traceback (most recent call last)",
      "Cell \u001b[0;32mIn[12], line 2\u001b[0m\n\u001b[1;32m      1\u001b[0m x \u001b[38;5;241m=\u001b[39m \u001b[38;5;241m0\u001b[39m\n\u001b[0;32m----> 2\u001b[0m \u001b[43mdivide\u001b[49m\u001b[43m(\u001b[49m\u001b[38;5;241;43m10\u001b[39;49m\u001b[43m,\u001b[49m\u001b[43m \u001b[49m\u001b[38;5;241;43m3\u001b[39;49m\u001b[43m,\u001b[49m\u001b[43m \u001b[49m\u001b[43mx\u001b[49m\u001b[43m)\u001b[49m\n",
      "\u001b[0;31mArgumentError\u001b[0m: argument 3: TypeError: expected LP_c_int instance instead of int"
     ]
    }
   ],
   "source": [
    "x = 0\n",
    "divide(10, 3, x)"
   ]
  },
  {
   "cell_type": "markdown",
   "metadata": {},
   "source": [
    "对于涉及指针的参数，必须构建兼容的 {mod}`ctypes` 对象："
   ]
  },
  {
   "cell_type": "code",
   "execution_count": 13,
   "metadata": {},
   "outputs": [
    {
     "data": {
      "text/plain": [
       "3"
      ]
     },
     "execution_count": 13,
     "metadata": {},
     "output_type": "execute_result"
    }
   ],
   "source": [
    "x = ctypes.c_int()\n",
    "divide(10, 3, x)"
   ]
  },
  {
   "cell_type": "code",
   "execution_count": 15,
   "metadata": {},
   "outputs": [
    {
     "data": {
      "text/plain": [
       "(c_int(1), 1)"
      ]
     },
     "execution_count": 15,
     "metadata": {},
     "output_type": "execute_result"
    }
   ],
   "source": [
    "x, x.value"
   ]
  },
  {
   "cell_type": "markdown",
   "metadata": {},
   "source": [
    "可以通过 `.value` 修改指针数据。"
   ]
  },
  {
   "cell_type": "code",
   "execution_count": 16,
   "metadata": {},
   "outputs": [],
   "source": [
    "x.value = 4"
   ]
  },
  {
   "cell_type": "code",
   "execution_count": 17,
   "metadata": {},
   "outputs": [
    {
     "data": {
      "text/plain": [
       "c_int(4)"
      ]
     },
     "execution_count": 17,
     "metadata": {},
     "output_type": "execute_result"
    }
   ],
   "source": [
    "x"
   ]
  },
  {
   "cell_type": "markdown",
   "metadata": {},
   "source": [
    "对于 C 调用约定（calling convention）属于非 Pythonic 的情况，通常需要编写小型包装函数来处理它。"
   ]
  },
  {
   "cell_type": "code",
   "execution_count": 20,
   "metadata": {},
   "outputs": [],
   "source": [
    "# int divide(int, int, int*)\n",
    "_divide = _mod.divide\n",
    "_divide.argtypes = ctypes.c_int, ctypes.c_int, ctypes.POINTER(ctypes.c_int)\n",
    "_divide.restype = ctypes.c_int\n",
    "\n",
    "def divide(x, y):\n",
    "    rem = ctypes.c_int()\n",
    "    quot = _divide(x, y, rem)\n",
    "    return quot, rem.value"
   ]
  },
  {
   "cell_type": "code",
   "execution_count": 22,
   "metadata": {},
   "outputs": [
    {
     "data": {
      "text/plain": [
       "(1, 3)"
      ]
     },
     "execution_count": 22,
     "metadata": {},
     "output_type": "execute_result"
    }
   ],
   "source": [
    "divide(7, 4)"
   ]
  },
  {
   "cell_type": "markdown",
   "metadata": {},
   "source": [
    "## {mod}`ctypes` 使用自定义的数据类型调用函数\n",
    "\n",
    "您也可以通过自定义 `ctypes` 参数转换方式来允许将你自己的类实例作为函数参数。`ctypes` 会寻找 `_as_parameter_` 属性并使用它作为函数参数。属性必须是整数、字符串、字节串、`ctypes` 实例或者带有 `_as_parameter_ `属性的对象:"
   ]
  },
  {
   "cell_type": "code",
   "execution_count": 26,
   "metadata": {},
   "outputs": [
    {
     "name": "stdout",
     "output_type": "stream",
     "text": [
      "42 bottles of beer\n"
     ]
    },
    {
     "data": {
      "text/plain": [
       "19"
      ]
     },
     "execution_count": 26,
     "metadata": {},
     "output_type": "execute_result"
    }
   ],
   "source": [
    "class Bottles:\n",
    "    def __init__(self, number):\n",
    "        self._as_parameter_ = number\n",
    "\n",
    "libc = ctypes.CDLL(\"libc.so.6\")\n",
    "bottles = Bottles(42)\n",
    "libc.printf(b\"%d bottles of beer\\n\", bottles)"
   ]
  },
  {
   "cell_type": "markdown",
   "metadata": {},
   "source": [
    "如果你不想将实例数据存储在 `_as_parameter_` 实例变量中，可以定义一个根据请求提供属性的 {class}`property`。"
   ]
  },
  {
   "cell_type": "markdown",
   "metadata": {},
   "source": [
    "## {mod}`ctypes` 自定义函数参数类型"
   ]
  },
  {
   "cell_type": "markdown",
   "metadata": {},
   "source": [
    "如果你定义了自己的类并将其传递给函数调用，则你必须为它们实现 {meth}`~ctypes._CData.from_param` 类方法才能够在 `argtypes` 序列中使用它们。{meth}`~ctypes._CData.from_param` 类方法将接受传递给函数调用的 Python 对象，它应该进行类型检查或者其他必要的操作以确保这个对象是可接受的，然后返回对象本身、它的 `_as_parameter_` 属性或在此情况下作为 C 函数参数传入的任何东西。 同样，结果应该是整数、字符串、字节串、`ctypes` 实例或具有 `_as_parameter_` 属性的对。"
   ]
  },
  {
   "cell_type": "markdown",
   "metadata": {},
   "source": [
    "\n",
    "{meth}`~ctypes._CData.from_param`(obj) 会将 `obj` 适配为一个 ctypes 类型。 当该类型出现在外部函数的 argtypes 元组中时它将会被调用并传入在该外部函数中使用的实际对象；它必须返回一个可被用作函数调用参数的对象。\n",
    "\n",
    "所有 `ctypes` 数据类型都带有 {meth}`~ctypes._CData.from_param`(obj) 类方法的默认实现，它通常会返回 `obj`，如果该对象是此类型的实例的话。"
   ]
  },
  {
   "cell_type": "markdown",
   "metadata": {},
   "source": [
    "当调用外部函数时，每个实际参数都会被传给 `argtypes` 元组中条目的 {meth}`~ctypes._CData.from_param` 类方法，该方法允许将实际参数适配为此外部函数所接受的对象。例如，argtypes 元组中的 `c_char_p` 条目将使用 `ctypes` 转换规则把作为参数传入的字符串转换为字节串对象。\n",
    "\n",
    "新特性：现在可以在 `argtypes` 中放入非 `ctypes` 类型的条目，但每个条目必须具有 {meth}`~ctypes._CData.from_param` 方法用于返回一个可作为参数的值（整数、字符串、ctypes 实例）。这样就允许定义可将将自定义对象适配为函数参数的适配器。"
   ]
  },
  {
   "cell_type": "markdown",
   "metadata": {},
   "source": [
    "可以将 {mod}`list` 转换为 ctypes 数组："
   ]
  },
  {
   "cell_type": "code",
   "execution_count": 31,
   "metadata": {},
   "outputs": [
    {
     "data": {
      "text/plain": [
       "<__main__.c_double_Array_3 at 0x7ff57181ea50>"
      ]
     },
     "execution_count": 31,
     "metadata": {},
     "output_type": "execute_result"
    }
   ],
   "source": [
    "nums = [1, 2, 3]\n",
    "a = (ctypes.c_double * len(nums))(*nums)\n",
    "a"
   ]
  },
  {
   "cell_type": "code",
   "execution_count": 32,
   "metadata": {},
   "outputs": [
    {
     "data": {
      "text/plain": [
       "1.0"
      ]
     },
     "execution_count": 32,
     "metadata": {},
     "output_type": "execute_result"
    }
   ],
   "source": [
    "a[0]"
   ]
  },
  {
   "cell_type": "markdown",
   "metadata": {},
   "source": [
    "对于 {mod}`array`，from_"
   ]
  },
  {
   "cell_type": "code",
   "execution_count": 37,
   "metadata": {},
   "outputs": [
    {
     "data": {
      "text/plain": [
       "array('d', [1.0, 2.0, 3.0])"
      ]
     },
     "execution_count": 37,
     "metadata": {},
     "output_type": "execute_result"
    }
   ],
   "source": [
    "import array\n",
    "\n",
    "a = array.array(\"d\", [1, 2, 3])\n",
    "a"
   ]
  },
  {
   "cell_type": "markdown",
   "metadata": {},
   "source": [
    "提取底层的内存指针："
   ]
  },
  {
   "cell_type": "code",
   "execution_count": 41,
   "metadata": {},
   "outputs": [
    {
     "data": {
      "text/plain": [
       "140692147832528"
      ]
     },
     "execution_count": 41,
     "metadata": {},
     "output_type": "execute_result"
    }
   ],
   "source": [
    "ptr, _ = a.buffer_info()\n",
    "ptr"
   ]
  },
  {
   "cell_type": "markdown",
   "metadata": {},
   "source": [
    "转换为 ctypes 指针："
   ]
  },
  {
   "cell_type": "code",
   "execution_count": 42,
   "metadata": {},
   "outputs": [
    {
     "data": {
      "text/plain": [
       "<__main__.LP_c_double at 0x7ff570e4da50>"
      ]
     },
     "execution_count": 42,
     "metadata": {},
     "output_type": "execute_result"
    }
   ],
   "source": [
    "ctypes.cast(ptr, ctypes.POINTER(ctypes.c_double))"
   ]
  },
  {
   "cell_type": "markdown",
   "metadata": {},
   "source": [
    "为了支持 C 的数组，自定义如下结构："
   ]
  },
  {
   "cell_type": "code",
   "execution_count": 53,
   "metadata": {},
   "outputs": [],
   "source": [
    "class DoubleArrayType:\n",
    "    def from_param(self, param):\n",
    "        typename = type(param).__name__\n",
    "        if hasattr(self, f'from_{typename}'):\n",
    "            return getattr(self, f'from_{typename}')(param)\n",
    "        elif isinstance(param, ctypes.Array):\n",
    "            return param\n",
    "        else:\n",
    "            raise TypeError(f\"不支持{typename}转换\")\n",
    "        \n",
    "    def from_array(self, param):\n",
    "        \"\"\"转换 array.array 对象\"\"\"\n",
    "        if param.typecode != \"d\":\n",
    "            raise TypeError(f\"必须为 double 类型数组\")\n",
    "        ptr, _ = param.buffer_info()\n",
    "        return ctypes.cast(ptr, ctypes.POINTER(ctypes.c_double))\n",
    "    \n",
    "    def from_list(self, param):\n",
    "        \"\"\"转换 list 对象\"\"\"\n",
    "        val = (ctypes.c_double * len(param))(*param)\n",
    "        return val\n",
    "    \n",
    "    # 转换 tuple 对象\n",
    "    from_tuple = from_list\n",
    "\n",
    "    def from_ndarray(self, param):\n",
    "        \"\"\"转换 numpy array 对象\"\"\"\n",
    "        return param.ctypes.data_as(ctypes.POINTER(ctypes.c_double))"
   ]
  },
  {
   "cell_type": "code",
   "execution_count": 54,
   "metadata": {},
   "outputs": [],
   "source": [
    "DoubleArray = DoubleArrayType()\n",
    "_avg = _mod.avg\n",
    "_avg.argtypes = DoubleArray, ctypes.c_int\n",
    "_avg.restype = ctypes.c_double\n",
    "\n",
    "def avg(values):\n",
    "    return _avg(values, len(values))"
   ]
  },
  {
   "cell_type": "code",
   "execution_count": 55,
   "metadata": {},
   "outputs": [
    {
     "data": {
      "text/plain": [
       "2.0"
      ]
     },
     "execution_count": 55,
     "metadata": {},
     "output_type": "execute_result"
    }
   ],
   "source": [
    "avg([1, 2, 3])"
   ]
  },
  {
   "cell_type": "code",
   "execution_count": 56,
   "metadata": {},
   "outputs": [
    {
     "data": {
      "text/plain": [
       "3.0"
      ]
     },
     "execution_count": 56,
     "metadata": {},
     "output_type": "execute_result"
    }
   ],
   "source": [
    "import array\n",
    "avg(array.array(\"d\", [1, 2, 6]))"
   ]
  },
  {
   "cell_type": "code",
   "execution_count": 57,
   "metadata": {},
   "outputs": [
    {
     "data": {
      "text/plain": [
       "2.0"
      ]
     },
     "execution_count": 57,
     "metadata": {},
     "output_type": "execute_result"
    }
   ],
   "source": [
    "import numpy as np\n",
    "avg(np.array([1.0, 2.0, 3.0]))"
   ]
  },
  {
   "cell_type": "markdown",
   "metadata": {},
   "source": [
    "## `ctypes` 结构体和联合"
   ]
  },
  {
   "cell_type": "markdown",
   "metadata": {},
   "source": []
  }
 ],
 "metadata": {
  "kernelspec": {
   "display_name": "xxx",
   "language": "python",
   "name": "python3"
  },
  "language_info": {
   "codemirror_mode": {
    "name": "ipython",
    "version": 3
   },
   "file_extension": ".py",
   "mimetype": "text/x-python",
   "name": "python",
   "nbconvert_exporter": "python",
   "pygments_lexer": "ipython3",
   "version": "3.12.4"
  }
 },
 "nbformat": 4,
 "nbformat_minor": 2
}
