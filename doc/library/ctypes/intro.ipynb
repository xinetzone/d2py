{
 "cells": [
  {
   "cell_type": "markdown",
   "metadata": {},
   "source": [
    "# {mod}`ctypes` 简介\n",
    "\n",
    "参考资料：\n",
    "- [python 官方文档](https://docs.python.org/zh-cn/3/library/ctypes.html)"
   ]
  },
  {
   "cell_type": "markdown",
   "metadata": {},
   "source": [
    "> {mod}`ctypes` 是 Python 的外部函数库。它提供了与 C 兼容的数据类型，并允许调用 DLL 或共享库中的函数。可使用该模块以纯 Python 形式对这些库进行封装。\n",
    "    \n",
    "```{note}\n",
    "> 部分示例代码引用了 {mod}`ctypes` {class}`~ctypes.c_int` 类型。在 `sizeof(long) == sizeof(int)` 的平台上此类型是 {class}`~ctypes.c_long` 的别名。所以，在程序输出 {class}`~ctypes.c_long` 而不是你期望的 {class}`~ctypes.c_int` 时不必感到迷惑 --- 它们实际上是同一种类型。\n",
    "```"
   ]
  },
  {
   "cell_type": "markdown",
   "metadata": {},
   "source": [
    "## 加载动态链接库\n",
    "\n",
    "{mod}`ctypes` 导出了 `cdll` 对象，在 Windows 系统中还导出了 `windll` 和 `oledll` 对象用于载入动态连接库。\n",
    "\n",
    "您可以通过访问这些对象的属性来加载库。 \n",
    "- `cdll` 加载使用标准 `cdecl` 调用约定导出函数的库\n",
    "- 而 `windll` 库则使用 `stdcall` 调用约定调用函数\n",
    "- `oledll` 也使用 `stdcall` 调用约定，并假定函数返回 Windows HRESULT 错误代码。\n",
    "\n",
    "当函数调用失败时会使用错误代码自动引发 {data}`OSError` 异常。\n",
    "\n",
    "```{note}\n",
    "`cdecl` 和 `stdcall` 是两种不同的函数调用约定，它们定义了函数参数的传递方式、堆栈清理责任以及名称修饰规则。\n",
    "\n",
    "1. **cdecl（C declaration）**：\n",
    "   - 参数传递顺序是从右到左，即最右边的参数最先入栈。\n",
    "   - 调用者负责清理堆栈（即由函数外部的代码来恢复堆栈指针）。\n",
    "   - 支持变长参数列表，因此常用于具有可变数量参数的函数，如printf。\n",
    "   - 在函数名前加上一个下划线作为前缀进行名称修饰（仅在编译时）。\n",
    "\n",
    "2. **stdcall（Standard call）**：\n",
    "   - 参数传递顺序也是从右到左。\n",
    "   - 被调用的函数负责清理堆栈（即由函数内部的代码来恢复堆栈指针）。\n",
    "   - 不支持变长参数列表。\n",
    "   - 在函数名前加上一个下划线作为前缀，并在其后添加一个表示参数字节数的后缀进行名称修饰（仅在编译时）。\n",
    "\n",
    "两者的联系在于它们都是x86架构上常见的函数调用约定，主要用于Windows平台的软件开发。选择使用哪种调用约定通常取决于特定的编程环境和需求。例如，如果你需要与Windows API进行交互，可能会更倾向于使用`stdcall`，因为这是Windows API主要使用的调用约定。而`cdecl`则更常见于GCC编译器中，特别是在UNIX或Linux平台上。\n",
    "```\n",
    "\n",
    "请注意，`msvcrt` 是包含大多数标准 C 函数的 MS 标准 C 库，并使用 `cdecl` 调用约定："
   ]
  },
  {
   "cell_type": "code",
   "execution_count": 6,
   "metadata": {},
   "outputs": [
    {
     "ename": "NameError",
     "evalue": "name 'windll' is not defined",
     "output_type": "error",
     "traceback": [
      "\u001b[0;31m---------------------------------------------------------------------------\u001b[0m",
      "\u001b[0;31mNameError\u001b[0m                                 Traceback (most recent call last)",
      "Cell \u001b[0;32mIn[6], line 3\u001b[0m\n\u001b[1;32m      1\u001b[0m \u001b[38;5;28;01mfrom\u001b[39;00m \u001b[38;5;21;01mctypes\u001b[39;00m \u001b[38;5;28;01mimport\u001b[39;00m \u001b[38;5;241m*\u001b[39m\n\u001b[0;32m----> 3\u001b[0m \u001b[38;5;28mprint\u001b[39m(\u001b[43mwindll\u001b[49m\u001b[38;5;241m.\u001b[39mkernel32)  \n\u001b[1;32m      5\u001b[0m \u001b[38;5;28mprint\u001b[39m(cdll\u001b[38;5;241m.\u001b[39mmsvcrt)      \n\u001b[1;32m      7\u001b[0m libc \u001b[38;5;241m=\u001b[39m cdll\u001b[38;5;241m.\u001b[39mmsvcrt  \n",
      "\u001b[0;31mNameError\u001b[0m: name 'windll' is not defined"
     ]
    }
   ],
   "source": [
    "from ctypes import windll, cdll\n",
    "\n",
    "print(windll.kernel32)  \n",
    "\n",
    "print(cdll.msvcrt)      \n",
    "\n",
    "libc = cdll.msvcrt"
   ]
  },
  {
   "cell_type": "code",
   "execution_count": null,
   "metadata": {},
   "outputs": [],
   "source": []
  }
 ],
 "metadata": {
  "kernelspec": {
   "display_name": "xxx",
   "language": "python",
   "name": "python3"
  },
  "language_info": {
   "codemirror_mode": {
    "name": "ipython",
    "version": 3
   },
   "file_extension": ".py",
   "mimetype": "text/x-python",
   "name": "python",
   "nbconvert_exporter": "python",
   "pygments_lexer": "ipython3",
   "version": "3.12.4"
  }
 },
 "nbformat": 4,
 "nbformat_minor": 2
}
