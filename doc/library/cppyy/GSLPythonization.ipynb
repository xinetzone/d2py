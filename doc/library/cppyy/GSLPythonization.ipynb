{
 "cells": [
  {
   "cell_type": "markdown",
   "metadata": {},
   "source": [
    "# GSL Python 化教程\n",
    "\n",
    "本教程介绍了 pythonizations 及其如何解决底层问题的使用方式。\n",
    "\n",
    "设定：想象您想使用 `numpy`，但被提供了一个基于 GNU 科学库（GNU Scientific Library，简称 GSL）的 C 或 C++ 库。如何让它们友好地协同工作？\n",
    "\n",
    "GSL 是用 C 编写的，但结构非常严谨：它有一致的命名约定，为其主要结构提供分配器/解除分配器，并且具有明确的所有权规则。由于这种结构，可以根据反射信息编写 pythonizations，最终变得非常简单，因此易于维护。"
   ]
  },
  {
   "cell_type": "code",
   "execution_count": 1,
   "metadata": {},
   "outputs": [
    {
     "name": "stderr",
     "output_type": "stream",
     "text": [
      "/media/pc/data/lxw/envs/anaconda3x/envs/xxx/bin/python3.12: not an ELF file.\n"
     ]
    }
   ],
   "source": [
    "import cppyy"
   ]
  },
  {
   "cell_type": "markdown",
   "metadata": {},
   "source": [
    "为了简化，我们将使用 `gsl_blas_dgemm` 作为“基于GSL的C/C++库”的替代。为了让我们的生活更轻松，我们将把绑定到 GSL 和 GSLBLAS 的内容包装成单个反射字典。对于简单项目来说，这有些过头了，但如果我们想访问所有的 GSL（而不是单独的 GSL 和 GSLBLAS），这种方法是可行的。"
   ]
  },
  {
   "cell_type": "code",
   "execution_count": 2,
   "metadata": {},
   "outputs": [],
   "source": [
    "# first, pull in all headers from the GSL installation directory (/usr/include on my system).\n",
    "import glob, os\n",
    "GSL_HOME = '/usr/include'\n",
    "gsl_headers = [os.path.relpath(x, GSL_HOME) for x in glob.glob(GSL_HOME+'/gsl/*.h')]"
   ]
  },
  {
   "cell_type": "markdown",
   "metadata": {},
   "source": [
    "接下来，我们编写一个选择文件，从 GSL 中提取所有有趣的部分。由于适当的命名约定，这个文件可以保持简单（如果 GSL 是一个 C++ 库，并且位于一个命名空间中，它可能会更简单）。然后我们运行 `genreflex` 命令生成字典文件并编译它，链接到 GSL 和 GSLBLAS。最后，我们准备将字典反射文件加载到 `cppyy` 中。"
   ]
  },
  {
   "cell_type": "code",
   "execution_count": 3,
   "metadata": {},
   "outputs": [],
   "source": [
    "!mkdir -p .temp"
   ]
  },
  {
   "cell_type": "code",
   "execution_count": 4,
   "metadata": {},
   "outputs": [
    {
     "name": "stdout",
     "output_type": "stream",
     "text": [
      "Overwriting .temp/gsl_selection.xml\n"
     ]
    }
   ],
   "source": [
    "%%file .temp/gsl_selection.xml\n",
    "<lcgdict>\n",
    "   <struct pattern=\"gsl_*\" />\n",
    "   <function pattern=\"gsl_*\" />\n",
    "   <enum pattern=\"GSL*\" />\n",
    "   <enum pattern=\"CBLAS*\" />\n",
    "</lcgdict>\n"
   ]
  },
  {
   "cell_type": "code",
   "execution_count": 5,
   "metadata": {},
   "outputs": [
    {
     "name": "stdout",
     "output_type": "stream",
     "text": [
      "genreflex failed (1): b''\n"
     ]
    },
    {
     "name": "stderr",
     "output_type": "stream",
     "text": [
      "Error: No valid header was provided!\n"
     ]
    }
   ],
   "source": [
    "# conventional name for generated output\n",
    "rfldct = 'GSLDict'\n",
    "\n",
    "if not os.path.exists(f'{rfldct}_rflx.cpp'):\n",
    "    import subprocess, sys\n",
    "\n",
    "    # generate the reflection dictionary\n",
    "    try:\n",
    "        subprocess.check_output(\n",
    "            ['genreflex',                  # utility installed by pip when installing cppyy\n",
    "             '-s', '.temp/gsl_selection.xml',    # selection file (see above)\n",
    "             '-o', f'.temp/{rfldct}_rflx.cpp',   # intermediate output file\n",
    "             '-I'+GSL_HOME]+               # include search path for GSL headers\n",
    "             gsl_headers)                  # headers themselves\n",
    "    except subprocess.CalledProcessError as e:\n",
    "        print(f\"genreflex failed ({e.returncode:d}): {e.output}\")\n",
    "    else:\n",
    "        print(\"genreflex done\")"
   ]
  },
  {
   "cell_type": "code",
   "execution_count": 6,
   "metadata": {},
   "outputs": [
    {
     "name": "stdout",
     "output_type": "stream",
     "text": [
      "cling-config done\n",
      "compilation failed (1): b''\n"
     ]
    },
    {
     "name": "stderr",
     "output_type": "stream",
     "text": [
      "cc1plus: fatal error: GSLDict_rflx.cpp: No such file or directory\n",
      "compilation terminated.\n"
     ]
    }
   ],
   "source": [
    "if not os.path.exists('%s.so' % rfldct):\n",
    "    # get command line arguments for compiler from cling\n",
    "    try:\n",
    "        clingflags = subprocess.check_output(\n",
    "            ['cling-config',               # utility installed by pip when installing cppyy\n",
    "             '--cppflags'])\n",
    "    except subprocess.CalledProcessError as e:\n",
    "        print('cling-config failed (%d):' % e.returncode, e.output)\n",
    "        raise\n",
    "    else:\n",
    "        print('cling-config done')\n",
    "\n",
    "    # compile generated file\n",
    "    try:\n",
    "        subprocess.check_output(\n",
    "            ['g++',                        # C++ compiler\n",
    "             '-fPIC',                      # require position independent code\n",
    "             '-shared',                    # generate shared library\n",
    "             '-o', '%s.so'%rfldct,         # output file\n",
    "             '-I'+GSL_HOME,                # include search path for GSL headers\n",
    "             '%s_rflx.cpp'%rfldct]+        # intermediate file to compile\n",
    "             clingflags.split()+           # extra flags provided by cling\n",
    "             ['-lgsl', '-lgslcblas'])      # link in GSL and GSLBLAS\n",
    "    except subprocess.CalledProcessError as e:\n",
    "        print('compilation failed (%d):' % e.returncode, e.output)\n",
    "    else:\n",
    "        print('compilation done')"
   ]
  },
  {
   "cell_type": "code",
   "execution_count": 7,
   "metadata": {},
   "outputs": [
    {
     "ename": "RuntimeError",
     "evalue": "Unable to load reflection library GSLDict",
     "output_type": "error",
     "traceback": [
      "\u001b[0;31m---------------------------------------------------------------------------\u001b[0m",
      "\u001b[0;31mRuntimeError\u001b[0m                              Traceback (most recent call last)",
      "Cell \u001b[0;32mIn[7], line 2\u001b[0m\n\u001b[1;32m      1\u001b[0m \u001b[38;5;66;03m# load the generated dictionary\u001b[39;00m\n\u001b[0;32m----> 2\u001b[0m \u001b[43mcppyy\u001b[49m\u001b[38;5;241;43m.\u001b[39;49m\u001b[43mload_reflection_info\u001b[49m\u001b[43m(\u001b[49m\u001b[43mrfldct\u001b[49m\u001b[43m)\u001b[49m\n",
      "File \u001b[0;32m/media/pc/data/lxw/envs/anaconda3x/envs/xxx/lib/python3.12/site-packages/cppyy/_cpython_cppyy.py:164\u001b[0m, in \u001b[0;36mload_reflection_info\u001b[0;34m(name)\u001b[0m\n\u001b[1;32m    162\u001b[0m sc \u001b[38;5;241m=\u001b[39m gbl\u001b[38;5;241m.\u001b[39mgSystem\u001b[38;5;241m.\u001b[39mLoad(name)\n\u001b[1;32m    163\u001b[0m \u001b[38;5;28;01mif\u001b[39;00m sc \u001b[38;5;241m==\u001b[39m \u001b[38;5;241m-\u001b[39m\u001b[38;5;241m1\u001b[39m:\n\u001b[0;32m--> 164\u001b[0m     \u001b[38;5;28;01mraise\u001b[39;00m \u001b[38;5;167;01mRuntimeError\u001b[39;00m(\u001b[38;5;124m\"\u001b[39m\u001b[38;5;124mUnable to load reflection library \u001b[39m\u001b[38;5;124m\"\u001b[39m\u001b[38;5;241m+\u001b[39mname)\n",
      "\u001b[0;31mRuntimeError\u001b[0m: Unable to load reflection library GSLDict"
     ]
    }
   ],
   "source": [
    "# load the generated dictionary\n",
    "cppyy.load_reflection_info(rfldct)"
   ]
  },
  {
   "cell_type": "code",
   "execution_count": null,
   "metadata": {},
   "outputs": [],
   "source": []
  }
 ],
 "metadata": {
  "kernelspec": {
   "display_name": "xxx",
   "language": "python",
   "name": "python3"
  },
  "language_info": {
   "codemirror_mode": {
    "name": "ipython",
    "version": 3
   },
   "file_extension": ".py",
   "mimetype": "text/x-python",
   "name": "python",
   "nbconvert_exporter": "python",
   "pygments_lexer": "ipython3",
   "version": "3.12.2"
  }
 },
 "nbformat": 4,
 "nbformat_minor": 2
}
