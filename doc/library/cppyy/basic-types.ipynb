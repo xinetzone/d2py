{
 "cells": [
  {
   "cell_type": "markdown",
   "metadata": {},
   "source": [
    "# cppyy 基本类型\n",
    "\n",
    "C++ 的内置类型比 Python 丰富得多。大多数 Python 代码对此可以相对保持不可知，{mod}`cppyy` 在适当的时候提供自动转换。另一方面，Python 的内置类型（如列表和映射）比 C++ 中的任何内置类型都要丰富得多。这些类型被映射到它们的标准模板库等价物。\n",
    "\n",
    "下面的示例中使用的 C++ 代码可以在这里找到，并且假设在运行任何示例代码片段之前已经加载了该代码。下载它，将其保存为名为 {download}`features.h` 的文件，然后简单地包含它："
   ]
  },
  {
   "cell_type": "code",
   "execution_count": 1,
   "metadata": {},
   "outputs": [
    {
     "name": "stderr",
     "output_type": "stream",
     "text": [
      "/media/pc/data/lxw/envs/anaconda3x/envs/xxx/bin/python3.12: not an ELF file.\n"
     ]
    },
    {
     "data": {
      "text/plain": [
       "True"
      ]
     },
     "execution_count": 1,
     "metadata": {},
     "output_type": "execute_result"
    }
   ],
   "source": [
    "import cppyy\n",
    "cppyy.include('features.h')"
   ]
  },
  {
   "cell_type": "markdown",
   "metadata": {},
   "source": [
    "## cppyy 内置类型\n",
    "\n",
    "Python 和 C++ 之间的内置数据类型的选择差异很大。在可能的情况下，内置数据类型映射到预期的等效 Python 类型，但要注意可能存在的大小差异、不同的精度或舍入等。例如，C++ 的 `float` 返回为 Python 的 `float`，实际上是 C++ 的 `double`。如果大小允许，转换是自动的。例如，C++ 的 `unsigned int` 变成 Python2 的 `long` 或 Python3 的 `int`，但无符号性仍然保留："
   ]
  },
  {
   "cell_type": "code",
   "execution_count": 2,
   "metadata": {},
   "outputs": [
    {
     "data": {
      "text/plain": [
       "0"
      ]
     },
     "execution_count": 2,
     "metadata": {},
     "output_type": "execute_result"
    }
   ],
   "source": [
    "cppyy.gbl.gUint"
   ]
  },
  {
   "cell_type": "code",
   "execution_count": 3,
   "metadata": {},
   "outputs": [
    {
     "data": {
      "text/plain": [
       "int"
      ]
     },
     "execution_count": 3,
     "metadata": {},
     "output_type": "execute_result"
    }
   ],
   "source": [
    "type(cppyy.gbl.gUint)"
   ]
  },
  {
   "cell_type": "code",
   "execution_count": 4,
   "metadata": {},
   "outputs": [
    {
     "ename": "ValueError",
     "evalue": "can't convert negative value to unsigned long",
     "output_type": "error",
     "traceback": [
      "\u001b[0;31m---------------------------------------------------------------------------\u001b[0m",
      "\u001b[0;31mValueError\u001b[0m                                Traceback (most recent call last)",
      "Cell \u001b[0;32mIn[4], line 1\u001b[0m\n\u001b[0;32m----> 1\u001b[0m \u001b[43mcppyy\u001b[49m\u001b[38;5;241;43m.\u001b[39;49m\u001b[43mgbl\u001b[49m\u001b[38;5;241;43m.\u001b[39;49m\u001b[43mgUint\u001b[49m \u001b[38;5;241m=\u001b[39m \u001b[38;5;241m-\u001b[39m\u001b[38;5;241m1\u001b[39m\n",
      "\u001b[0;31mValueError\u001b[0m: can't convert negative value to unsigned long"
     ]
    }
   ],
   "source": [
    "cppyy.gbl.gUint = -1"
   ]
  },
  {
   "cell_type": "markdown",
   "metadata": {},
   "source": [
    "在某些平台上，8 位整数类型（如 `int8_t` 和 `uint8_t`）表示为 `char` 类型。为了保持一致性，这些类型映射到 Python `int`。\n",
    "\n",
    "有些类型在 Python 中是内置的，但在 C++ 中是（STL）类。例如，`str` 与 `std::string`（另见字符串部分）以及 `complex` 与 `std::complex`。这些类已经被 python 化，以尽可能表现得相同。例如，字符串比较可以直接工作，而 `std::complex` 具有 `real` 和 `imag` 属性："
   ]
  },
  {
   "cell_type": "code",
   "execution_count": 5,
   "metadata": {},
   "outputs": [
    {
     "data": {
      "text/plain": [
       "(1+2j)"
      ]
     },
     "execution_count": 5,
     "metadata": {},
     "output_type": "execute_result"
    }
   ],
   "source": [
    "c = cppyy.gbl.std.complex['double'](1, 2)\n",
    "c"
   ]
  },
  {
   "cell_type": "code",
   "execution_count": 6,
   "metadata": {},
   "outputs": [
    {
     "data": {
      "text/plain": [
       "(1.0, 2.0)"
      ]
     },
     "execution_count": 6,
     "metadata": {},
     "output_type": "execute_result"
    }
   ],
   "source": [
    "c.real, c.imag"
   ]
  },
  {
   "cell_type": "code",
   "execution_count": 7,
   "metadata": {},
   "outputs": [
    {
     "data": {
      "text/plain": [
       "<class cppyy.gbl.std.string at 0x55deceb25330>"
      ]
     },
     "execution_count": 7,
     "metadata": {},
     "output_type": "execute_result"
    }
   ],
   "source": [
    "s = cppyy.gbl.std.string(\"aap\")\n",
    "type(s)"
   ]
  },
  {
   "cell_type": "code",
   "execution_count": 8,
   "metadata": {},
   "outputs": [
    {
     "data": {
      "text/plain": [
       "True"
      ]
     },
     "execution_count": 8,
     "metadata": {},
     "output_type": "execute_result"
    }
   ],
   "source": [
    "s == \"aap\""
   ]
  },
  {
   "cell_type": "markdown",
   "metadata": {},
   "source": [
    "要通过 C++ 的 `char`（有符号或无符号）传递参数，使用大小为 `1` 的 Python 字符串。在许多情况下，也可以使用 {mod}`ctypes` 模块中的显式 C 类型，但该模块没有公共 API（用于类型转换或其他用途），所以支持有些有限。\n",
    "\n",
    "在可能的情况下，C++ 的 `std::vector` 和 Python 的 `list` 及 `tuple` 之间存在自动转换，因为它们通常以类似的方式使用。然而，这些数据类型具有完全不同的内存布局，而 `std::vector` 要求所有元素都是相同的类型并在内存中连续排列。因此，转换需要类型检查、内存分配和复制。这可能会相当昂贵。"
   ]
  },
  {
   "cell_type": "code",
   "execution_count": 9,
   "metadata": {},
   "outputs": [
    {
     "data": {
      "text/plain": [
       "tuple"
      ]
     },
     "execution_count": 9,
     "metadata": {},
     "output_type": "execute_result"
    }
   ],
   "source": [
    "tuple"
   ]
  },
  {
   "cell_type": "markdown",
   "metadata": {},
   "source": [
    "## cppyy 数组\n",
    "\n",
    "通过 {mod}`array` 中的数组（或任何其他实现 Python 缓冲接口的内置类型数组，如 {mod}`numpy` 数组）以及 `cppyy` 中用于返回和变量访问的低级视图类型来支持内置数组（同样实现了缓冲接口）。仅在编译时知道大小的情况下进行越界检查。示例："
   ]
  },
  {
   "cell_type": "code",
   "execution_count": 10,
   "metadata": {},
   "outputs": [
    {
     "name": "stdout",
     "output_type": "stream",
     "text": [
      "1 2 3 4 \n"
     ]
    }
   ],
   "source": [
    "from cppyy.gbl import Concrete\n",
    "from array import array\n",
    "c = Concrete()\n",
    "c.array_method(array('d', [1., 2., 3., 4.]), 4)"
   ]
  },
  {
   "cell_type": "code",
   "execution_count": 11,
   "metadata": {},
   "outputs": [
    {
     "ename": "IndexError",
     "evalue": "index out of bounds on dimension 1",
     "output_type": "error",
     "traceback": [
      "\u001b[0;31m---------------------------------------------------------------------------\u001b[0m",
      "\u001b[0;31mIndexError\u001b[0m                                Traceback (most recent call last)",
      "Cell \u001b[0;32mIn[11], line 1\u001b[0m\n\u001b[0;32m----> 1\u001b[0m \u001b[43mc\u001b[49m\u001b[38;5;241;43m.\u001b[39;49m\u001b[43mm_data\u001b[49m\u001b[43m[\u001b[49m\u001b[38;5;241;43m4\u001b[39;49m\u001b[43m]\u001b[49m \u001b[38;5;66;03m# static size is 4, so out of bounds\u001b[39;00m\n",
      "\u001b[0;31mIndexError\u001b[0m: index out of bounds on dimension 1"
     ]
    }
   ],
   "source": [
    "c.m_data[4] # static size is 4, so out of bounds"
   ]
  },
  {
   "cell_type": "markdown",
   "metadata": {},
   "source": [
    "## cppyy 数组\n",
    "\n",
    "数组通过C++的低级视图对象来支持。只有在编译时知道大小或可以推断出大小时，这种方法才会有效。如果大小未知，则将大小设置为一个大整数（取决于数组元素的大小）以允许访问。然后由开发者确保不越界访问。对实例数组的支持有限，但在C++中应尽量避免使用这些："
   ]
  },
  {
   "cell_type": "code",
   "execution_count": 12,
   "metadata": {},
   "outputs": [
    {
     "data": {
      "text/plain": [
       "True"
      ]
     },
     "execution_count": 12,
     "metadata": {},
     "output_type": "execute_result"
    }
   ],
   "source": [
    "cppyy.cppdef('std::string str_array[3][2] = {{\"aa\", \"bb\"}, {\"cc\", \"dd\"}, {\"ee\", \"ff\"}};')"
   ]
  },
  {
   "cell_type": "code",
   "execution_count": 13,
   "metadata": {},
   "outputs": [
    {
     "data": {
      "text/plain": [
       "<class cppyy.gbl.std.string at 0x55deceb25330>"
      ]
     },
     "execution_count": 13,
     "metadata": {},
     "output_type": "execute_result"
    }
   ],
   "source": [
    "type(cppyy.gbl.str_array[0][1])"
   ]
  },
  {
   "cell_type": "code",
   "execution_count": 14,
   "metadata": {},
   "outputs": [
    {
     "data": {
      "text/plain": [
       "b'bb'"
      ]
     },
     "execution_count": 14,
     "metadata": {},
     "output_type": "execute_result"
    }
   ],
   "source": [
    "cppyy.gbl.str_array[0][1]"
   ]
  },
  {
   "cell_type": "code",
   "execution_count": 15,
   "metadata": {},
   "outputs": [
    {
     "ename": "IndexError",
     "evalue": "tuple index out of range",
     "output_type": "error",
     "traceback": [
      "\u001b[0;31m---------------------------------------------------------------------------\u001b[0m",
      "\u001b[0;31mIndexError\u001b[0m                                Traceback (most recent call last)",
      "Cell \u001b[0;32mIn[15], line 1\u001b[0m\n\u001b[0;32m----> 1\u001b[0m \u001b[43mcppyy\u001b[49m\u001b[38;5;241;43m.\u001b[39;49m\u001b[43mgbl\u001b[49m\u001b[38;5;241;43m.\u001b[39;49m\u001b[43mstr_array\u001b[49m\u001b[43m[\u001b[49m\u001b[38;5;241;43m4\u001b[39;49m\u001b[43m]\u001b[49m[\u001b[38;5;241m0\u001b[39m]\n",
      "\u001b[0;31mIndexError\u001b[0m: tuple index out of range"
     ]
    }
   ],
   "source": [
    "cppyy.gbl.str_array[4][0]"
   ]
  },
  {
   "cell_type": "markdown",
   "metadata": {},
   "source": [
    "## cppyy 指针\n",
    "\n",
    "当C++代码采用指向特定内置类型的指针或引用类型（例如，无符号整数）时，类型必须完全匹配。cppyy支持标准模块ctypes和array提供的这些类型。使用对内置类型的引用的示例："
   ]
  },
  {
   "cell_type": "code",
   "execution_count": 16,
   "metadata": {},
   "outputs": [
    {
     "data": {
      "text/plain": [
       "42"
      ]
     },
     "execution_count": 16,
     "metadata": {},
     "output_type": "execute_result"
    }
   ],
   "source": [
    "from ctypes import c_uint\n",
    "u = c_uint(0)\n",
    "c.uint_ref_assign(u, 42)\n",
    "u.value"
   ]
  },
  {
   "cell_type": "markdown",
   "metadata": {},
   "source": [
    "对于对象，一个对象、指向对象的指针以及智能指针以相同的方式表示，同时自动应用必要的（解）引用。指针变量也通过引用绑定，因此C++或Python端的更新也会在另一端反映出来。\n",
    "\n",
    "## cppyy 枚举\n",
    "支持命名、匿名和类枚举。枚举的Python底层类型是实现相关的，甚至可能在同一编译器上对不同枚举有所不同。然而，通常这些类型是 `int` 或 `unsigned int`，这会转换为 Python 的 `int` 或在 Python2 上的 `long`，或者在 Python3 上的 class `int`。与底层类型分开，所有枚举都有它们自己的 Python 类型，以允许它们用于模板实例化："
   ]
  },
  {
   "cell_type": "code",
   "execution_count": 17,
   "metadata": {},
   "outputs": [
    {
     "name": "stdout",
     "output_type": "stream",
     "text": [
      "29\n"
     ]
    }
   ],
   "source": [
    "from cppyy.gbl import kBanana   # classic enum, globally available\n",
    "print(kBanana)"
   ]
  },
  {
   "cell_type": "code",
   "execution_count": 18,
   "metadata": {},
   "outputs": [
    {
     "data": {
      "text/plain": [
       "__main__.EFruit"
      ]
     },
     "execution_count": 18,
     "metadata": {},
     "output_type": "execute_result"
    }
   ],
   "source": [
    "cppyy.gbl.EFruit"
   ]
  },
  {
   "cell_type": "code",
   "execution_count": 19,
   "metadata": {},
   "outputs": [
    {
     "name": "stdout",
     "output_type": "stream",
     "text": [
      "78\n"
     ]
    }
   ],
   "source": [
    "print(cppyy.gbl.EFruit.kApple)"
   ]
  },
  {
   "cell_type": "code",
   "execution_count": 20,
   "metadata": {},
   "outputs": [
    {
     "ename": "AttributeError",
     "evalue": "<namespace cppyy.gbl at 0x55decca32cc0> has no attribute 'E1'. Full details:\n  type object '' has no attribute 'E1'\n  'E1' is not a known C++ class\n  'E1' is not a known C++ template\n  'E1' is not a known C++ enum",
     "output_type": "error",
     "traceback": [
      "\u001b[0;31m---------------------------------------------------------------------------\u001b[0m",
      "\u001b[0;31mAttributeError\u001b[0m                            Traceback (most recent call last)",
      "Cell \u001b[0;32mIn[20], line 1\u001b[0m\n\u001b[0;32m----> 1\u001b[0m \u001b[43mcppyy\u001b[49m\u001b[38;5;241;43m.\u001b[39;49m\u001b[43mgbl\u001b[49m\u001b[38;5;241;43m.\u001b[39;49m\u001b[43mE1\u001b[49m\n",
      "\u001b[0;31mAttributeError\u001b[0m: <namespace cppyy.gbl at 0x55decca32cc0> has no attribute 'E1'. Full details:\n  type object '' has no attribute 'E1'\n  'E1' is not a known C++ class\n  'E1' is not a known C++ template\n  'E1' is not a known C++ enum"
     ]
    }
   ],
   "source": [
    "cppyy.gbl.E1"
   ]
  },
  {
   "cell_type": "code",
   "execution_count": 21,
   "metadata": {},
   "outputs": [
    {
     "data": {
      "text/plain": [
       "(NamedClassEnum::E1) : (int) 42"
      ]
     },
     "execution_count": 21,
     "metadata": {},
     "output_type": "execute_result"
    }
   ],
   "source": [
    "cppyy.gbl.NamedClassEnum.E1"
   ]
  },
  {
   "cell_type": "code",
   "execution_count": null,
   "metadata": {},
   "outputs": [],
   "source": []
  }
 ],
 "metadata": {
  "kernelspec": {
   "display_name": "xxx",
   "language": "python",
   "name": "python3"
  },
  "language_info": {
   "codemirror_mode": {
    "name": "ipython",
    "version": 3
   },
   "file_extension": ".py",
   "mimetype": "text/x-python",
   "name": "python",
   "nbconvert_exporter": "python",
   "pygments_lexer": "ipython3",
   "version": "3.12.2"
  }
 },
 "nbformat": 4,
 "nbformat_minor": 2
}
