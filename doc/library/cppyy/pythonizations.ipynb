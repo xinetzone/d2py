{
 "cells": [
  {
   "cell_type": "markdown",
   "metadata": {},
   "source": [
    "(cppyy:pythonizations)=\n",
    "# Pythonizations\n",
    "\n",
    "自动绑定生成大多能完成任务，但除非 C++ 库在设计时考虑到了表达性和交互性，否则使用起来会感觉生硬。因此，如果您不是一组绑定的最终用户，实施 pythonizations 是有益的。其中一些已经默认提供，例如对于 STL 容器。请考虑以下代码，使用裸露的绑定（即“C++方式”）遍历 STL 映射："
   ]
  },
  {
   "cell_type": "code",
   "execution_count": 1,
   "metadata": {},
   "outputs": [
    {
     "name": "stderr",
     "output_type": "stream",
     "text": [
      "/media/pc/data/lxw/envs/anaconda3x/envs/xxx/bin/python3.12: not an ELF file.\n"
     ]
    }
   ],
   "source": [
    "from cppyy.gbl import std\n",
    "m = std.map[int, int]()\n",
    "for i in range(10):\n",
    "    m[i] = i*2"
   ]
  },
  {
   "cell_type": "code",
   "execution_count": 2,
   "metadata": {},
   "outputs": [
    {
     "name": "stdout",
     "output_type": "stream",
     "text": [
      "0 2 4 6 8 10 12 14 16 18 "
     ]
    }
   ],
   "source": [
    "b = m.begin()\n",
    "while b != m.end():\n",
    "    print(b.__deref__().second, end=' ')\n",
    "    b.__preinc__()"
   ]
  },
  {
   "cell_type": "markdown",
   "metadata": {},
   "source": [
    "是的，这是完全可行的，但也非常笨拙。与此相比，（自动）pythonization如下："
   ]
  },
  {
   "cell_type": "code",
   "execution_count": 3,
   "metadata": {},
   "outputs": [
    {
     "name": "stdout",
     "output_type": "stream",
     "text": [
      "0 2 4 6 8 10 12 14 16 18 "
     ]
    }
   ],
   "source": [
    "for key, value in m:\n",
    "   print(value, end=' ')"
   ]
  },
  {
   "cell_type": "markdown",
   "metadata": {},
   "source": [
    "这样的pythonization可以完全使用绑定的C++方法用Python编写，不需要中间语言。由于它是基于抽象特性编写的，因此也只有一个这样的pythonization适用于所有STL映射实例。"
   ]
  },
  {
   "cell_type": "markdown",
   "metadata": {},
   "source": [
    "## `cppyy` Python 回调\n",
    "\n",
    "由于绑定的 C++ 实体是功能齐全的 Python 实体，pythonization 可以在面向最终用户的 Python 模块中显式完成。然而，这将阻止 pythonization 的延迟安装，因此提供了一个回调机制。\n",
    "\n",
    "回调是一个函数或可调用对象，接受两个参数：要进行 pythonization 的 Python 代理类及其 C++ 名称。后者提供了简单的过滤功能。然后通过 `cppyy.py.add_pythonization` 安装此回调，理想情况下只针对相关命名空间（支持为全局命名空间中的类安装回调，但请注意名称冲突）。\n",
    "\n",
    "对于结构良好并具有惯用行为的 C++ 库，pythonization 最为有效。使用 Python 反射编写规则就变得简单明了。例如，考虑这个回调，它寻找传统的 C++ 函数 GetLength 并以 Python 的 `__len__` 替换："
   ]
  },
  {
   "cell_type": "code",
   "execution_count": 4,
   "metadata": {},
   "outputs": [
    {
     "data": {
      "text/plain": [
       "True"
      ]
     },
     "execution_count": 4,
     "metadata": {},
     "output_type": "execute_result"
    }
   ],
   "source": [
    "import cppyy\n",
    "\n",
    "def replace_getlength(klass, name):\n",
    "   try:\n",
    "       klass.__len__ = klass.__dict__['GetLength']\n",
    "       del klass.GetLength\n",
    "   except KeyError:\n",
    "       pass\n",
    "\n",
    "cppyy.py.add_pythonization(replace_getlength, 'MyNamespace')\n",
    "\n",
    "cppyy.cppdef(\"\"\"\n",
    "namespace MyNamespace {\n",
    "class MyClass {\n",
    "public:\n",
    "    MyClass(int i) : fInt(i) {}\n",
    "    int GetLength() { return fInt; }\n",
    "\n",
    "private:\n",
    "    int fInt;\n",
    "};\n",
    "}\"\"\")"
   ]
  },
  {
   "cell_type": "code",
   "execution_count": 5,
   "metadata": {},
   "outputs": [
    {
     "data": {
      "text/plain": [
       "42"
      ]
     },
     "execution_count": 5,
     "metadata": {},
     "output_type": "execute_result"
    }
   ],
   "source": [
    "m = cppyy.gbl.MyNamespace.MyClass(42)\n",
    "len(m)"
   ]
  },
  {
   "cell_type": "code",
   "execution_count": 6,
   "metadata": {},
   "outputs": [
    {
     "ename": "AttributeError",
     "evalue": "'MyClass' object has no attribute 'GetLength'",
     "output_type": "error",
     "traceback": [
      "\u001b[0;31m---------------------------------------------------------------------------\u001b[0m",
      "\u001b[0;31mAttributeError\u001b[0m                            Traceback (most recent call last)",
      "Cell \u001b[0;32mIn[6], line 1\u001b[0m\n\u001b[0;32m----> 1\u001b[0m \u001b[43mm\u001b[49m\u001b[38;5;241;43m.\u001b[39;49m\u001b[43mGetLength\u001b[49m()\n",
      "\u001b[0;31mAttributeError\u001b[0m: 'MyClass' object has no attribute 'GetLength'"
     ]
    }
   ],
   "source": [
    "m.GetLength()"
   ]
  },
  {
   "cell_type": "markdown",
   "metadata": {},
   "source": [
    "如果 `MyClass.GetLength` 和 `MyClass.__len__` 都应该有效，则可以使用 `del` 省略删除 `GetLength` 方法。"
   ]
  },
  {
   "cell_type": "markdown",
   "metadata": {},
   "source": [
    "## cppyy C++ 回调\n",
    "\n",
    "如果您熟悉 Python C-API，那么有时为您的 C++ 类添加独特的优化可能会对 pythonization 层有所帮助。cppyy 会寻找两个常规函数（无需注册回调）："
   ]
  },
  {
   "cell_type": "markdown",
   "metadata": {},
   "source": [
    "```cpp\n",
    "static void __cppyy_explicit_pythonize__(PyObject* klass, const std::string&);\n",
    "```\n",
    "\n",
    "仅在声明它的类中调用。以及：\n",
    "```cpp\n",
    "static void __cppyy_pythonize__(PyObject* klass, const std::string&);\n",
    "```\n",
    "\n",
    "这也适用于所有的派生类。\n",
    "\n",
    "就像 Python 回调一样，第一个参数将是 Python 类代理，第二个参数是 C++ 名称，以便于过滤。当被调用时，`cppyy` 将完全完成对类代理的处理，因此任何和所有更改都是允许的，包括替换迭代或缓冲协议等底层更改。\n",
    "\n",
    "使用 C++ 回调将 `MyClass.GetLength` 方法替换为 Python 的 `__len__` 的pythonization示例： "
   ]
  },
  {
   "cell_type": "code",
   "execution_count": 8,
   "metadata": {},
   "outputs": [
    {
     "data": {
      "text/plain": [
       "True"
      ]
     },
     "execution_count": 8,
     "metadata": {},
     "output_type": "execute_result"
    }
   ],
   "source": [
    "import cppyy\n",
    "\n",
    "cppyy.cppdef(\"\"\"\n",
    "#include <Python.h>\n",
    "\n",
    "namespace MyNamespace {\n",
    "class MyClassCPP {\n",
    "public:\n",
    "    MyClassCPP(int i) : fInt(i) {}\n",
    "    int GetLength() { return fInt; }\n",
    "\n",
    "private:\n",
    "    int fInt;\n",
    "\n",
    "// pythonizations\n",
    "public:\n",
    "    static void __cppyy_pythonize__(PyObject* klass, const std::string&){\n",
    "        auto cppName = \"GetLength\";\n",
    "        auto pythonizationName = \"__len__\";\n",
    "        auto* methodObject = PyObject_GetAttrString(klass, cppName);\n",
    "        PyObject_SetAttrString(klass, pythonizationName, methodObject);\n",
    "        Py_DECREF(methodObject);\n",
    "        PyObject_DelAttrString(klass, cppName);\n",
    "    }\n",
    "};\n",
    "}\"\"\")"
   ]
  },
  {
   "cell_type": "code",
   "execution_count": 10,
   "metadata": {},
   "outputs": [
    {
     "data": {
      "text/plain": [
       "42"
      ]
     },
     "execution_count": 10,
     "metadata": {},
     "output_type": "execute_result"
    }
   ],
   "source": [
    "m = cppyy.gbl.MyNamespace.MyClassCPP(42)\n",
    "len(m)"
   ]
  },
  {
   "cell_type": "code",
   "execution_count": 11,
   "metadata": {},
   "outputs": [
    {
     "ename": "AttributeError",
     "evalue": "'MyClassCPP' object has no attribute 'GetLength'",
     "output_type": "error",
     "traceback": [
      "\u001b[0;31m---------------------------------------------------------------------------\u001b[0m",
      "\u001b[0;31mAttributeError\u001b[0m                            Traceback (most recent call last)",
      "Cell \u001b[0;32mIn[11], line 1\u001b[0m\n\u001b[0;32m----> 1\u001b[0m \u001b[43mm\u001b[49m\u001b[38;5;241;43m.\u001b[39;49m\u001b[43mGetLength\u001b[49m()\n",
      "\u001b[0;31mAttributeError\u001b[0m: 'MyClassCPP' object has no attribute 'GetLength'"
     ]
    }
   ],
   "source": [
    "m.GetLength()"
   ]
  },
  {
   "cell_type": "code",
   "execution_count": null,
   "metadata": {},
   "outputs": [],
   "source": []
  }
 ],
 "metadata": {
  "kernelspec": {
   "display_name": "xxx",
   "language": "python",
   "name": "python3"
  },
  "language_info": {
   "codemirror_mode": {
    "name": "ipython",
    "version": 3
   },
   "file_extension": ".py",
   "mimetype": "text/x-python",
   "name": "python",
   "nbconvert_exporter": "python",
   "pygments_lexer": "ipython3",
   "version": "3.12.4"
  }
 },
 "nbformat": 4,
 "nbformat_minor": 2
}
