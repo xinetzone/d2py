{
 "cells": [
  {
   "cell_type": "markdown",
   "metadata": {},
   "source": [
    "# 创建 Multigrid 新环境\n",
    "\n",
    "自定义环境。"
   ]
  },
  {
   "cell_type": "markdown",
   "metadata": {},
   "source": [
    "## 第一步：Multigrid 创建新世界\n",
    "\n",
    "- `core/agent.py`: 如果现有的动作类不满足需求，添加新世界的动作类。\n",
    "- `core/constants.py`: \n",
    "    - 如果有对象特定的状态，定义 `state_to_idx_{yourChosenName}` 字典。\n",
    "    - 如果你的环境需要尚未定义的对象，将新对象的条目添加到 `OBJECT_TO_STR` 字典中。\n",
    "- `core/object.py`\n",
    "    - 为新对象（如果有）定义类。\n",
    "    - 对象需要：类型、颜色、位置、编码、解码、渲染。\n",
    "    - 对象属性通过以下方式定义：can_overlap（可重叠）、can_pickup（可拾取）、can_contain（可容纳）、see_behind（可见背面）。\n",
    "    - 对象可以具有：contains（包含）、toggle（切换）。\n",
    "- `core/world.py`\n",
    "    - 如果现有世界不满足需求，添加一个新世界。\n",
    "    - 一个世界定义了对象、颜色和编码大小。\n",
    "    - 注意：编码层用于捕获不同的事物。第1层用于单元格中的对象类型，第2层用于颜色，第3层用于代理方向。我们还没有使用4、5和6层，但如果需要，它们可以用于更多特性。\n",
    "- `core/grid.py`\n",
    "    - 这是新环境的基础结构。\n",
    "    - 方法包括：copy（复制）、get（获取）、set（设置）、rotate（旋转）、slice（切片）、render（渲染）、encode（编码）。\n",
    "    - 还有：horz_wall（水平墙）、vert_wall（垂直墙）、wall_rect（矩形墙）。"
   ]
  },
  {
   "cell_type": "markdown",
   "metadata": {},
   "source": [
    "## 第二步：Multigrid 创建环境\n",
    "\n",
    "在 `gym_multigrid/gym_multigrid/envs/` 目录下创建名为 `{yourChosenName}.py` 的文件。编写继承自 `MultigridEnv` 的环境类。\n",
    "\n",
    "- 在调用父类的 `__init__` 方法时，您应该指定以下参数：\n",
    "    - 代理列表\n",
    "    - 网格尺寸\n",
    "    - 是否使用完全或部分可观测性\n",
    "    - 每个时间步长的数量\n",
    "    - 上面定义的动作和世界类"
   ]
  },
  {
   "cell_type": "code",
   "execution_count": null,
   "metadata": {
    "vscode": {
     "languageId": "plaintext"
    }
   },
   "outputs": [],
   "source": []
  }
 ],
 "metadata": {
  "language_info": {
   "name": "python"
  }
 },
 "nbformat": 4,
 "nbformat_minor": 2
}
