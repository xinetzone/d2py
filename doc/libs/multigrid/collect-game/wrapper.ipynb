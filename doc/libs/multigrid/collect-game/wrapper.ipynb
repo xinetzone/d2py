{
 "cells": [
  {
   "cell_type": "markdown",
   "metadata": {},
   "source": [
    "# 创建 `Collect` 环境包装器"
   ]
  },
  {
   "cell_type": "code",
   "execution_count": 1,
   "metadata": {},
   "outputs": [],
   "source": [
    "import logging\n",
    "import sys\n",
    "from pathlib import Path\n",
    "from d2py.utils.log_config import config_logging\n",
    "\n",
    "root_dir = Path(\".\").resolve()\n",
    "temp_dir = root_dir/\".temp\"\n",
    "temp_dir.mkdir(parents=True, exist_ok=True)\n",
    "sys.path.extend([str(root_dir.parents[3]/\"tests/gym-multigrid\")])\n",
    "temp_dir = root_dir/\"images\"\n",
    "\n",
    "logger_name = \"gym_multigrid\"\n",
    "logger = logging.getLogger(logger_name)\n",
    "config_logging(f'{temp_dir}/{logger_name}.log', logger_name, maxBytes=50000, backupCount=2)"
   ]
  },
  {
   "cell_type": "code",
   "execution_count": 2,
   "metadata": {},
   "outputs": [
    {
     "name": "stderr",
     "output_type": "stream",
     "text": [
      "INFO|2024-10-23 16:18:57,816|gym_multigrid| >>> episode ended after 100 steps\n",
      "INFO|2024-10-23 16:18:57,817|gym_multigrid| >>> agents collected 4 objects\n"
     ]
    }
   ],
   "source": [
    "from pathlib import Path\n",
    "import imageio\n",
    "from gym_multigrid.envs.collect_game import CollectGameEnv\n",
    "\n",
    "kwargs={\n",
    "    \"size\": 15,\n",
    "    \"num_balls\": [5,],\n",
    "    \"agents_index\": [1, 2, 3],  # green, purple\n",
    "    \"balls_index\": [0,],  # red, orange, yellow\n",
    "    \"balls_reward\": [1,],\n",
    "    \"respawn\": False,\n",
    "}\n",
    "origin_env = CollectGameEnv(**kwargs)\n",
    "frames = [origin_env.render()]\n",
    "obs, info = origin_env.reset()\n",
    "while True:\n",
    "    actions = [origin_env.action_space.sample() for a in origin_env.agents]\n",
    "    obs, reward, terminated, truncated, info = origin_env.step(actions)\n",
    "    frames.append(origin_env.render())\n",
    "    if terminated or truncated:\n",
    "        logger.info(f\"episode ended after {origin_env.step_count} steps\")\n",
    "        logger.info(f\"agents collected {origin_env.collected_balls} objects\")\n",
    "        break\n",
    "temp_dir = Path(temp_dir)\n",
    "(temp_dir/\"animations\").mkdir(parents=True, exist_ok=True)\n",
    "imageio.mimsave(temp_dir/f\"animations/multigrid-collect.gif\", frames, duration=0.5)"
   ]
  },
  {
   "cell_type": "code",
   "execution_count": 3,
   "metadata": {},
   "outputs": [],
   "source": [
    "# from IPython import display\n",
    "# display.Image(temp_dir/f\"animations/multigrid-collect.gif\")"
   ]
  },
  {
   "cell_type": "markdown",
   "metadata": {},
   "source": [
    "创建初始环境："
   ]
  },
  {
   "cell_type": "code",
   "execution_count": 10,
   "metadata": {},
   "outputs": [],
   "source": [
    "from dataclasses import dataclass\n",
    "from typing import Any, SupportsFloat\n",
    "import gymnasium as gym\n",
    "from gymnasium import Wrapper, Env\n",
    "from gymnasium.core import WrapperActType, WrapperObsType, RenderFrame\n",
    "from gym_multigrid.core.constants import TILE_PIXELS\n",
    "\n",
    "@dataclass\n",
    "class RewardWrapper(Wrapper):\n",
    "    env: Env\n",
    "    logger_name: str # 日志名称\n",
    "\n",
    "    def __post_init__(self):\n",
    "        self.logger = logging.getLogger(self.logger_name)\n",
    "\n",
    "    def render(self, close=False, highlight=False, tile_size=TILE_PIXELS) -> RenderFrame | list[RenderFrame] | None:\n",
    "        return self.env.render(close=close, highlight=highlight, tile_size=tile_size)\n",
    "\n",
    "    def step(\n",
    "        self, action: WrapperActType\n",
    "    ) -> tuple[WrapperObsType, SupportsFloat, bool, bool, dict[str, Any]]:\n",
    "        obs, reward, terminated, truncated, info = self.env.step(action)\n",
    "        self.logger.info(f\"obs, reward, terminated, truncated, info: {obs, reward, terminated, truncated, info}\")\n",
    "        return obs, reward, terminated, truncated, info\n"
   ]
  },
  {
   "cell_type": "code",
   "execution_count": 11,
   "metadata": {},
   "outputs": [
    {
     "ename": "TypeError",
     "evalue": "Wrapper.render() got an unexpected keyword argument 'mode'",
     "output_type": "error",
     "traceback": [
      "\u001b[0;31m---------------------------------------------------------------------------\u001b[0m",
      "\u001b[0;31mTypeError\u001b[0m                                 Traceback (most recent call last)",
      "Cell \u001b[0;32mIn[11], line 2\u001b[0m\n\u001b[1;32m      1\u001b[0m env \u001b[38;5;241m=\u001b[39m RewardWrapper(origin_env, logger_name)\n\u001b[0;32m----> 2\u001b[0m frames \u001b[38;5;241m=\u001b[39m [env\u001b[38;5;241m.\u001b[39mrender(mode\u001b[38;5;241m=\u001b[39m\u001b[38;5;124m'\u001b[39m\u001b[38;5;124mhuman\u001b[39m\u001b[38;5;124m'\u001b[39m, highlight\u001b[38;5;241m=\u001b[39m\u001b[38;5;28;01mTrue\u001b[39;00m)]\n\u001b[1;32m      3\u001b[0m obs, info \u001b[38;5;241m=\u001b[39m env\u001b[38;5;241m.\u001b[39mreset()\n\u001b[1;32m      4\u001b[0m \u001b[38;5;28;01mwhile\u001b[39;00m \u001b[38;5;28;01mTrue\u001b[39;00m:\n",
      "\u001b[0;31mTypeError\u001b[0m: Wrapper.render() got an unexpected keyword argument 'mode'"
     ]
    }
   ],
   "source": [
    "env = RewardWrapper(origin_env, logger_name)\n",
    "frames = [env.render(mode='human', highlight=True)]\n",
    "obs, info = env.reset()\n",
    "while True:\n",
    "    actions = [env.action_space.sample() for a in env.agents]\n",
    "    obs, reward, terminated, truncated, info = env.step(actions)\n",
    "    frames.append(env.render())\n",
    "    if terminated or truncated:\n",
    "        logger.info(f\"episode ended after {env.step_count} steps\")\n",
    "        logger.info(f\"agents collected {env.collected_balls} objects\")\n",
    "        break"
   ]
  },
  {
   "cell_type": "code",
   "execution_count": 13,
   "metadata": {},
   "outputs": [
    {
     "name": "stdout",
     "output_type": "stream",
     "text": [
      "\u001b[0;31mSignature:\u001b[0m \u001b[0menv\u001b[0m\u001b[0;34m.\u001b[0m\u001b[0mrender\u001b[0m\u001b[0;34m(\u001b[0m\u001b[0;34m)\u001b[0m \u001b[0;34m->\u001b[0m \u001b[0;34m'RenderFrame | list[RenderFrame] | None'\u001b[0m\u001b[0;34m\u001b[0m\u001b[0;34m\u001b[0m\u001b[0m\n",
      "\u001b[0;31mDocstring:\u001b[0m Uses the :meth:`render` of the :attr:`env` that can be overwritten to change the returned data.\n",
      "\u001b[0;31mFile:\u001b[0m      /media/pc/data/lxw/envs/anaconda3x/envs/xxx/lib/python3.12/site-packages/gymnasium/core.py\n",
      "\u001b[0;31mType:\u001b[0m      method"
     ]
    }
   ],
   "source": [
    "env.render?"
   ]
  },
  {
   "cell_type": "code",
   "execution_count": null,
   "metadata": {},
   "outputs": [],
   "source": []
  }
 ],
 "metadata": {
  "kernelspec": {
   "display_name": "xxx",
   "language": "python",
   "name": "python3"
  },
  "language_info": {
   "codemirror_mode": {
    "name": "ipython",
    "version": 3
   },
   "file_extension": ".py",
   "mimetype": "text/x-python",
   "name": "python",
   "nbconvert_exporter": "python",
   "pygments_lexer": "ipython3",
   "version": "3.12.2"
  }
 },
 "nbformat": 4,
 "nbformat_minor": 2
}
