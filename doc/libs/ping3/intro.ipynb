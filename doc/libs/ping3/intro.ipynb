{
 "cells": [
  {
   "cell_type": "markdown",
   "metadata": {},
   "source": [
    "# Ping3 简介\n",
    "\n",
    "[Ping3](https://github.com/kyan001/ping3) 是纯 Python3 版本的 ICMP ping 实现，使用了 raw socket。（需要注意的是，在一些平台上，只有以 root 权限运行的进程才能发送 ICMP 消息。）"
   ]
  },
  {
   "cell_type": "code",
   "execution_count": 1,
   "metadata": {},
   "outputs": [],
   "source": [
    "from ping3 import ping, verbose_ping"
   ]
  },
  {
   "cell_type": "code",
   "execution_count": 2,
   "metadata": {},
   "outputs": [
    {
     "data": {
      "text/plain": [
       "0.16411495208740234"
      ]
     },
     "execution_count": 2,
     "metadata": {},
     "output_type": "execute_result"
    }
   ],
   "source": [
    "ping('example.com')  # Returns delay in seconds."
   ]
  },
  {
   "cell_type": "code",
   "execution_count": 3,
   "metadata": {},
   "outputs": [
    {
     "name": "stdout",
     "output_type": "stream",
     "text": [
      "ping 'example.com' ... 178ms\n",
      "ping 'example.com' ... 178ms\n",
      "ping 'example.com' ... 181ms\n",
      "ping 'example.com' ... 181ms\n"
     ]
    }
   ],
   "source": [
    "verbose_ping('example.com')  # Ping 4 times in a row."
   ]
  },
  {
   "cell_type": "markdown",
   "metadata": {},
   "source": [
    "支持命令行模式："
   ]
  },
  {
   "cell_type": "code",
   "execution_count": 4,
   "metadata": {},
   "outputs": [
    {
     "name": "stdout",
     "output_type": "stream",
     "text": [
      "ping 'example.com' ... 190ms\n",
      "ping 'example.com' ... 173ms\n",
      "ping 'example.com' ... 171ms\n",
      "ping 'example.com' ... 178ms\n"
     ]
    }
   ],
   "source": [
    "!ping3 example.com  # Verbose ping"
   ]
  },
  {
   "cell_type": "markdown",
   "metadata": {},
   "source": [
    "函数模式："
   ]
  },
  {
   "cell_type": "markdown",
   "metadata": {},
   "source": [
    "示例：\n",
    "```python\n",
    ">>> from ping3 import ping, verbose_ping\n",
    "\n",
    ">>> ping('example.com')  # Returns delay in seconds.\n",
    "0.215697261510079666  # `0.0` returned means the delay is lower than the precision of `time.time()`.\n",
    "\n",
    ">>> ping('not.exist.com')  # If host unknown (cannot resolve), returns False.\n",
    "False\n",
    "\n",
    ">>> ping(\"224.0.0.0\")  # If timed out (no reply), returns None.\n",
    "None\n",
    "\n",
    ">>> ping('example.com', timeout=10)  # Set timeout to 10 seconds. Default timeout is 4 for 4 seconds.\n",
    "0.215697261510079666\n",
    "\n",
    ">>> ping('example.com', unit='ms')  # Returns delay in milliseconds. Default unit is 's' for seconds.\n",
    "215.9627876281738\n",
    "\n",
    ">>> ping('example.com', src_addr='192.168.1.15')  # Set source ip address for multiple interfaces. Default src_addr is None for no binding.\n",
    "0.215697261510079666\n",
    "\n",
    ">>> ping('example.com', interface='eth0')  # LINUX ONLY. Set source interface for multiple network interfaces. Default interface is None for no binding.\n",
    "0.215697261510079666\n",
    "\n",
    ">>> ping('example.com', ttl=5)  # Set packet Time-To-Live to 5. The packet is discarded if it does not reach the target host after 5 jumps. Default ttl is 64.\n",
    "None\n",
    "\n",
    ">>> ping('example.com', size=56)  # Set ICMP packet payload to 56 bytes. The total ICMP packet size is 8 (header) + 56 (payload) = 64 bytes. Default size is 56.\n",
    "0.215697261510079666\n",
    "\n",
    ">>> verbose_ping('example.com')  # Ping 4 times in a row.\n",
    "ping 'example.com' ... 215ms\n",
    "ping 'example.com' ... 216ms\n",
    "ping 'example.com' ... 219ms\n",
    "ping 'example.com' ... 217ms\n",
    "\n",
    ">>> verbose_ping('example.com', timeout=10)  # Set timeout to 10 seconds. Default timeout is 4 for 4 seconds.\n",
    "ping 'example.com' ... 215ms\n",
    "ping 'example.com' ... 216ms\n",
    "ping 'example.com' ... 219ms\n",
    "ping 'example.com' ... 217ms\n",
    "\n",
    ">>> verbose_ping('example.com', count=6)  # Ping 6 times. Default count is 4.\n",
    "ping 'example.com' ... 215ms\n",
    "ping 'example.com' ... 216ms\n",
    "ping 'example.com' ... 219ms\n",
    "ping 'example.com' ... 217ms\n",
    "ping 'example.com' ... 215ms\n",
    "ping 'example.com' ... 216ms\n",
    "\n",
    ">>> verbose_ping('example.com', count=0)  # Ping endlessly (0 means infinite loops). Using `ctrl + c` to stop manully.\n",
    "ping 'example.com' ... 215ms\n",
    "...\n",
    "\n",
    ">>> verbose_ping('example.com', src_addr='192.168.1.15')  # Ping from source IP address for multiple interfaces. Default src_addr is None.\n",
    "ping 'example.com' from '192.168.1.15' ... 215ms\n",
    "ping 'example.com' from '192.168.1.15' ... 216ms\n",
    "ping 'example.com' from '192.168.1.15' ... 219ms\n",
    "ping 'example.com' from '192.168.1.15' ... 217ms\n",
    "\n",
    ">>> verbose_ping('example.com', interface='wifi0')  # LINUX ONLY. Ping from network interface 'wifi0'. Default interface is None.\n",
    "ping 'example.com' from '192.168.1.15' ... 215ms\n",
    "ping 'example.com' from '192.168.1.15' ... 216ms\n",
    "ping 'example.com' from '192.168.1.15' ... 219ms\n",
    "ping 'example.com' from '192.168.1.15' ... 217ms\n",
    "\n",
    ">>> verbose_ping('example.com', unit='s')  # Displays delay in seconds. Default unit is \"ms\" for milliseconds.\n",
    "ping 'example.com' ... 1s\n",
    "ping 'example.com' ... 2s\n",
    "ping 'example.com' ... 1s\n",
    "ping 'example.com' ... 1s\n",
    "\n",
    ">>> verbose_ping('example.com', ttl=5)  # Set TTL to 5. Default is 64.\n",
    "ping 'example.com' ... Timeout\n",
    "ping 'example.com' ... Timeout\n",
    "ping 'example.com' ... Timeout\n",
    "ping 'example.com' ... Timeout\n",
    "\n",
    ">>> verbose_ping('example.com', interval=5)  # Wait 5 seconds between each packet. Default is 0.\n",
    "ping 'example.com' ... 215ms  # wait 5 secs\n",
    "ping 'example.com' ... 216ms  # wait 5 secs\n",
    "ping 'example.com' ... 219ms  # wait 5 secs\n",
    "ping 'example.com' ... 217ms\n",
    "\n",
    ">>> verbose_ping('example.com', size=56)  # Set ICMP payload to 56 bytes. Default size is 56.\n",
    "ping 'example.com' ... 215ms\n",
    "ping 'example.com' ... 216ms\n",
    "ping 'example.com' ... 219ms\n",
    "ping 'example.com' ... 217ms\n",
    "```"
   ]
  },
  {
   "cell_type": "markdown",
   "metadata": {},
   "source": [
    "## DEBUG 模式\n",
    "\n",
    "示例：\n",
    "```python\n",
    ">>> import ping3\n",
    ">>> ping3.DEBUG = True  # Default is False.\n",
    "\n",
    ">>> ping3.ping(\"example.com\")  # \"ping()\" prints received IP header and ICMP header.\n",
    "[DEBUG] IP HEADER: {'version': 69, 'tos': 0, 'len': 14336, 'id': 8620, 'flags': 0, 'ttl': 51, 'protocol': 1, 'checksum': *, 'src_addr': *, 'dest_addr': *}\n",
    "[DEBUG] ICMP HEADER: {'type': 0, 'code': 0, 'checksum': 8890, 'id': 21952, 'seq': 0}\n",
    "0.215697261510079666\n",
    "\n",
    ">>> ping3.ping(\"example.com\", timeout=0.0001)\n",
    "[DEBUG] Request timeout for ICMP packet. (Timeout = 0.0001s)\n",
    "None\n",
    "\n",
    ">>> ping3.ping(\"not.exist.com\")\n",
    "[DEBUG] Cannot resolve: Unknown host. (Host = not.exist.com)\n",
    "False\n",
    "\n",
    ">>> ping3.ping(\"example.com\", ttl=1)\n",
    "[DEBUG] Time exceeded: Time To Live expired.\n",
    "None\n",
    "```"
   ]
  },
  {
   "cell_type": "markdown",
   "metadata": {},
   "source": [
    "## 异常模式\n",
    "在出现错误时引发异常，而不是返回 `None`"
   ]
  },
  {
   "cell_type": "markdown",
   "metadata": {},
   "source": [
    "```python\n",
    ">>> import ping3\n",
    ">>> ping3.EXCEPTIONS = True  # Default is False.\n",
    "\n",
    ">>> ping3.ping(\"example.com\", timeout=0.0001)\n",
    "[... Traceback ...]\n",
    "ping3.errors.Timeout: Request timeout for ICMP packet. (Timeout = 0.0001s)\n",
    "\n",
    ">>> ping3.ping(\"not.exist.com\")\n",
    "[... Traceback ...]\n",
    "ping3.errors.HostUnknown: Cannot resolve: Unknown host. (Host = not.exist.com)\n",
    "\n",
    ">>> ping3.ping(\"example.com\", ttl=1)  # Linux need root privilege to receive TTL expired. Windows cannot get TTL expired.\n",
    "[... Traceback ...]\n",
    "ping3.errors.TimeToLiveExpired: Time exceeded: Time To Live expired.\n",
    "\n",
    ">>> try:\n",
    ">>>     ping3.ping(\"example.com\", ttl=1)\n",
    ">>> except ping3.errors.TimeToLiveExpired as err:\n",
    ">>>     print(err.ip_header[\"src_addr\"])  # TimeToLiveExpired, DestinationUnreachable and DestinationHostUnreachable have ip_header and icmp_header attached.\n",
    "1.2.3.4  # IP address where the TTL happened.\n",
    "\n",
    ">>> help(ping3.errors)  # More info about exceptions.\n",
    "```"
   ]
  },
  {
   "cell_type": "code",
   "execution_count": 3,
   "metadata": {},
   "outputs": [
    {
     "name": "stdout",
     "output_type": "stream",
     "text": [
      "usage: ping3 [-h] [-v] [-c COUNT] [-t TIMEOUT] [-i INTERVAL] [-I INTERFACE]\n",
      "             [-S SRC_ADDR] [-T TTL] [-s SIZE] [-D] [-E]\n",
      "             [DEST_ADDR ...]\n",
      "\n",
      "A pure python3 version of ICMP ping implementation using raw socket.\n",
      "\n",
      "positional arguments:\n",
      "  DEST_ADDR             The destination address, can be an IP address or a\n",
      "                        domain name. Ex. 192.168.1.1/example.com.\n",
      "\n",
      "options:\n",
      "  -h, --help            show this help message and exit\n",
      "  -v, --version         show program's version number and exit\n",
      "  -c COUNT, --count COUNT\n",
      "                        How many pings should be sent. Default is 4.\n",
      "  -t TIMEOUT, --timeout TIMEOUT\n",
      "                        Time to wait for a response, in seconds. Default is 4.\n",
      "  -i INTERVAL, --interval INTERVAL\n",
      "                        Time to wait between each packet, in seconds. Default\n",
      "                        is 0.\n",
      "  -I INTERFACE, --interface INTERFACE\n",
      "                        LINUX ONLY. The gateway network interface to ping\n",
      "                        from. Default is None.\n",
      "  -S SRC_ADDR, --src SRC_ADDR\n",
      "                        The IP address to ping from. This is for multiple\n",
      "                        network interfaces. Default is None\n",
      "  -T TTL, --ttl TTL     The Time-To-Live of the outgoing packet. Default is\n",
      "                        64.\n",
      "  -s SIZE, --size SIZE  The ICMP packet payload size in bytes. Default is 56.\n",
      "  -D, --debug           Turn on DEBUG mode.\n",
      "  -E, --exceptions      Turn on EXCEPTIONS mode.\n",
      "\n",
      "!!Note: ICMP messages can only be sent from processes running as root.\n"
     ]
    }
   ],
   "source": [
    "!ping3 -h"
   ]
  },
  {
   "cell_type": "code",
   "execution_count": null,
   "metadata": {},
   "outputs": [],
   "source": []
  }
 ],
 "metadata": {
  "kernelspec": {
   "display_name": "Python 3",
   "language": "python",
   "name": "python3"
  },
  "language_info": {
   "codemirror_mode": {
    "name": "ipython",
    "version": 3
   },
   "file_extension": ".py",
   "mimetype": "text/x-python",
   "name": "python",
   "nbconvert_exporter": "python",
   "pygments_lexer": "ipython3",
   "version": "3.12.2"
  }
 },
 "nbformat": 4,
 "nbformat_minor": 2
}
