{
 "cells": [
  {
   "cell_type": "markdown",
   "metadata": {},
   "source": [
    "# Cppyy 教程\n",
    "\n",
    "首先，导入模块`cppyy`。所有功能，包括使用绑定的类，总是从这个顶层开始。"
   ]
  },
  {
   "cell_type": "code",
   "execution_count": 1,
   "metadata": {},
   "outputs": [
    {
     "name": "stderr",
     "output_type": "stream",
     "text": [
      "/media/pc/data/lxw/envs/anaconda3x/envs/xxx/bin/python3.12: not an ELF file.\n"
     ]
    }
   ],
   "source": [
    "import cppyy"
   ]
  },
  {
   "cell_type": "markdown",
   "metadata": {},
   "source": [
    "`cppyy` 有三个层次：\n",
    "\n",
    "- 最顶层是模块 `gbl`（即全局命名空间）；\n",
    "- 一系列辅助函数；\n",
    "- 以及一组子模块（如`py`），它们服务于特定目的。\n",
    "\n",
    "让我们从使用辅助函数 `cppdef` 定义 C++ 小助手类开始，使示例更有趣："
   ]
  },
  {
   "cell_type": "code",
   "execution_count": 2,
   "metadata": {},
   "outputs": [
    {
     "data": {
      "text/plain": [
       "True"
      ]
     },
     "execution_count": 2,
     "metadata": {},
     "output_type": "execute_result"
    }
   ],
   "source": [
    "cppyy.cppdef(\"\"\"\n",
    "class Integer1 {\n",
    "public:\n",
    "    Integer1(int i) : m_data(i) {}\n",
    "    int m_data;\n",
    "};\"\"\")"
   ]
  },
  {
   "cell_type": "markdown",
   "metadata": {},
   "source": [
    "现在我们有了 `Integer1` 类。请注意，这个类存在于 C++ 端，必须遵循 C++ 规则。例如，在 Python 中我们可以简单地重新定义一个类，但在 C++ 中我们不能这样做。因此，我们将随着示例的进行为 `Integer` 类编号，以便能够根据需要扩展示例。\n",
    "\n",
    "Python 类是动态构建的。它们的定义位置和方式无关紧要，无论是在 Python 脚本中、编译成 C 扩展模块中，还是其他方式。`cppyy` 利用这一事实来即时生成绑定。这为具有数千个 C++ 类的大库带来了性能优势；由于除了模块 `cppyy` 本身之外，没有代码依赖于任何特定版本的 Python，因此具有通用分发优势；并且通过 Cling 后端，它实现了对 C++ 的交互式访问。\n",
    "\n",
    "要访问我们的第一个类，请在 `gbl`（全局命名空间）中找到它："
   ]
  },
  {
   "cell_type": "code",
   "execution_count": 3,
   "metadata": {},
   "outputs": [
    {
     "name": "stdout",
     "output_type": "stream",
     "text": [
      "<class cppyy.gbl.Integer1 at 0x55d6b2bfa810>\n"
     ]
    }
   ],
   "source": [
    "print(cppyy.gbl.Integer1)"
   ]
  },
  {
   "cell_type": "markdown",
   "metadata": {},
   "source": [
    "命名空间与模块有相似之处，所以我们也可以导入该类。\n",
    "\n",
    "绑定的 C++ 类是 Python 对象。我们可以实例化它们，使用正常的 Python 内省工具，调用 `help()`，在失败时引发 Python 异常，通过 Python 的引用计数和垃圾回收进行内存管理等等。此外，我们可以将它们与其他 C++ 类结合使用。"
   ]
  },
  {
   "cell_type": "code",
   "execution_count": 4,
   "metadata": {},
   "outputs": [
    {
     "name": "stdout",
     "output_type": "stream",
     "text": [
      "Variable has an 'm_data' data member? Yes!\n",
      "Variable is an instance of int? No!\n",
      "Variable is an instance of Integer1? Yes!\n"
     ]
    }
   ],
   "source": [
    "# for convenience, bring Integer1 into __main__\n",
    "from cppyy.gbl import Integer1\n",
    "\n",
    "# create a C++ Integer1 object\n",
    "i = Integer1(42)\n",
    "\n",
    "# use Python inspection\n",
    "print(\"Variable has an 'm_data' data member?\", hasattr(i, 'm_data') and 'Yes!' or 'No!')\n",
    "print(\"Variable is an instance of int?\", isinstance(i, int) and 'Yes!' or 'No!')\n",
    "print(\"Variable is an instance of Integer1?\", isinstance(i, Integer1) and 'Yes!' or 'No!')"
   ]
  },
  {
   "cell_type": "code",
   "execution_count": 5,
   "metadata": {},
   "outputs": [
    {
     "name": "stdout",
     "output_type": "stream",
     "text": [
      "<cppyy.gbl.std.vector<Integer1> object at 0x55d6b2defd30>\n"
     ]
    }
   ],
   "source": [
    "# pull in the STL vector class\n",
    "from cppyy.gbl.std import vector\n",
    "\n",
    "# create a vector of Integer1 objects; note how [] instantiates the template and () instantiates the class\n",
    "v = vector[Integer1]()\n",
    "\n",
    "# populate it\n",
    "v += [Integer1(j) for j in range(10)]\n",
    "\n",
    "# display our vector\n",
    "print(v)"
   ]
  },
  {
   "cell_type": "markdown",
   "metadata": {},
   "source": [
    "嗯，这看起来不太好。然而，由于 `Integer1` 现在是一个 Python 类，我们可以使用自定义的 `__repr__` 函数来装饰它（我们将忽略 `vector`，而是将其转换为 Python 的 `list` 以供打印）。"
   ]
  },
  {
   "cell_type": "code",
   "execution_count": 6,
   "metadata": {},
   "outputs": [
    {
     "name": "stdout",
     "output_type": "stream",
     "text": [
      "[0, 1, 2, 3, 4, 5, 6, 7, 8, 9]\n"
     ]
    }
   ],
   "source": [
    "# add a custom conversion for printing\n",
    "Integer1.__repr__ = lambda self: repr(self.m_data)\n",
    "\n",
    "# now try again (note the conversion of the vector to a Python list)\n",
    "print(list(v))"
   ]
  },
  {
   "cell_type": "markdown",
   "metadata": {},
   "source": [
    "## cppyy Python 化处理\n",
    "\n",
    "正如我们目前所看到的，自动绑定简单易用。然而，尽管它们是 Python 对象，它们仍然保留了一些 C++ 的粗糙边缘。在后台进行了一些 _pythonization_ 处理：例如，`vector` 与 `+=` 运算符和列表转换配合得很好。但是，为了将您自己的类呈现给最终用户，特定的 pythonizations 是可取的。为了使这能够与懒加载正确工作，存在一个基于回调的 API。\n",
    "\n",
    "现在，对于 `Integer1` 来说已经太晚了，所以让我们创建 `Integer2`，它存在于命名空间中，并且还具有转换功能。"
   ]
  },
  {
   "cell_type": "code",
   "execution_count": 7,
   "metadata": {},
   "outputs": [
    {
     "data": {
      "text/plain": [
       "True"
      ]
     },
     "execution_count": 7,
     "metadata": {},
     "output_type": "execute_result"
    }
   ],
   "source": [
    "# create an Integer2 class, living in namespace Math\n",
    "cppyy.cppdef(\"\"\"\n",
    "namespace Math {\n",
    "    class Integer2 : public Integer1 {\n",
    "    public:\n",
    "        using Integer1::Integer1;\n",
    "        operator int() { return m_data; }\n",
    "    };\n",
    "}\"\"\")"
   ]
  },
  {
   "cell_type": "code",
   "execution_count": 8,
   "metadata": {},
   "outputs": [],
   "source": [
    "# prepare a pythonizor\n",
    "def pythonizor(klass, name):\n",
    "    # A pythonizor receives the freshly prepared bound C++ class, and a name stripped down to\n",
    "    # the namespace the pythonizor is applied. Also accessible are klass.__name__ (for the\n",
    "    # Python name) and klass.__cpp_name__ (for the C++ name)\n",
    "    if name == 'Integer2':\n",
    "        klass.__repr__ = lambda self: repr(self.m_data)\n",
    "\n",
    "# install the pythonizor as a callback on namespace 'Math' (default is the global namespace)\n",
    "cppyy.py.add_pythonization(pythonizor, 'Math')"
   ]
  },
  {
   "cell_type": "code",
   "execution_count": 9,
   "metadata": {},
   "outputs": [
    {
     "name": "stdout",
     "output_type": "stream",
     "text": [
      "[0, 1, 2, 3, 4, 5, 6, 7, 8, 9]\n",
      "Converted Integer2 variable: 13\n"
     ]
    }
   ],
   "source": [
    "# when we next get the Integer2 class, it will have been decorated\n",
    "Integer2 = cppyy.gbl.Math.Integer2    # first time a new namespace is used, it can not be imported from\n",
    "v2 = vector[Integer2]()\n",
    "v2 += [Integer2(j) for j in range(10)]\n",
    "\n",
    "# now test the effect of the pythonizor:\n",
    "print(list(v2))\n",
    "\n",
    "# in addition, Integer2 has a conversion function, which is automatically recognized and pythonized\n",
    "i2 = Integer2(13)\n",
    "print(\"Converted Integer2 variable:\", int(i2))"
   ]
  },
  {
   "cell_type": "code",
   "execution_count": 10,
   "metadata": {},
   "outputs": [
    {
     "data": {
      "text/plain": [
       "True"
      ]
     },
     "execution_count": 10,
     "metadata": {},
     "output_type": "execute_result"
    }
   ],
   "source": [
    "# continue the decoration on the C++ side, by adding an operator+ overload\n",
    "cppyy.cppdef(\"\"\"\n",
    "namespace Math {\n",
    "    Integer2 operator+(const Integer2& left, const Integer1& right) {\n",
    "        return left.m_data + right.m_data;\n",
    "    }\n",
    "}\"\"\")"
   ]
  },
  {
   "cell_type": "code",
   "execution_count": 11,
   "metadata": {},
   "outputs": [
    {
     "name": "stdout",
     "output_type": "stream",
     "text": [
      "55 55\n"
     ]
    }
   ],
   "source": [
    "# now use that fresh decoration (it will be located and bound on use):\n",
    "k = i2 + i\n",
    "print(k, i2.m_data + i.m_data)"
   ]
  },
  {
   "cell_type": "markdown",
   "metadata": {},
   "source": [
    "## cppyy 类层次结构\n",
    "\n",
    "Python 和 C++ 都支持多种编程范式，使得映射语言特性（例如类继承、自由函数等）相对简单；许多其他特性可以干净地隐藏，仅仅因为语法非常相似或自然（例如重载、抽象类、静态数据成员等）；还有一些特性优雅地映射，因为它们的语义意图在语法中清晰地表达（例如智能指针、STL 等）。\n",
    "\n",
    "下面展示了一些自然映射的 C++ 特性，并在 Python 中对它们进行练习。"
   ]
  },
  {
   "cell_type": "code",
   "execution_count": 12,
   "metadata": {},
   "outputs": [],
   "source": [
    "# create some animals to play with\n",
    "cppyy.cppdef(\"\"\"\n",
    "namespace Zoo {\n",
    "\n",
    "    enum EAnimal { eLion, eMouse };\n",
    "    \n",
    "    class Animal {\n",
    "    public:\n",
    "        virtual ~Animal() {}\n",
    "        virtual std::string make_sound() = 0;\n",
    "    };\n",
    "    \n",
    "    class Lion : public Animal {\n",
    "    public:\n",
    "        virtual std::string make_sound() { return s_lion_sound; }\n",
    "        static std::string s_lion_sound;\n",
    "    };\n",
    "    std::string Lion::s_lion_sound = \"growl!\";\n",
    "\n",
    "    class Mouse : public Animal {\n",
    "    public:\n",
    "        virtual std::string make_sound() { return \"peep!\"; }\n",
    "    };\n",
    "\n",
    "    Animal* release_animal(EAnimal animal) {\n",
    "        if (animal == eLion) return new Lion{};\n",
    "        if (animal == eMouse) return new Mouse{};\n",
    "        return nullptr;\n",
    "    }\n",
    "\n",
    "    std::string identify_animal(Lion*) {\n",
    "        return \"the animal is a lion\";\n",
    "    }\n",
    "\n",
    "    std::string identify_animal(Mouse*) {\n",
    "        return \"the animal is a mouse\";\n",
    "    }\n",
    "\n",
    "}\n",
    "\"\"\")\n",
    "\n",
    "# pull in the Zoo (after which we can import from it)\n",
    "Zoo = cppyy.gbl.Zoo\n",
    "\n",
    "# pythonize the animal release function to take ownership on return\n",
    "Zoo.release_animal.__creates__ = True"
   ]
  },
  {
   "cell_type": "code",
   "execution_count": 13,
   "metadata": {},
   "outputs": [
    {
     "name": "stdout",
     "output_type": "stream",
     "text": [
      "Failed: none of the 2 overloaded methods succeeded. Full details:\n",
      "  cannot instantiate abstract class 'Zoo::Animal' (from derived classes, use super() instead)\n",
      "  cannot instantiate abstract class 'Zoo::Animal' (from derived classes, use super() instead) \n",
      "\n",
      "A Lion is an Animal? Yes! \n",
      "\n",
      "Type of mouse: <class cppyy.gbl.Zoo.Mouse at 0x55d6b332a180>\n",
      "Type of lion: <class cppyy.gbl.Zoo.Lion at 0x55d6b32c80b0> \n",
      "\n",
      "Does Python own the 'lion'? Yes!\n",
      "Does Python own the 'mouse'? Yes! \n",
      "\n",
      "The mouse says: peep!\n",
      "The lion says: growl! \n",
      "\n",
      "The lion says: mooh! \n",
      "\n",
      "Identification of 'mouse': the animal is a mouse\n",
      "Identification of 'lion': the animal is a lion\n"
     ]
    }
   ],
   "source": [
    "# abstract base classes can not be instantiated:\n",
    "try:\n",
    "    animal = Zoo.Animal()\n",
    "except TypeError as e:\n",
    "    print('Failed:', e, '\\n')\n",
    "\n",
    "# derived classes can be inspected in the same class hierarchy on the Python side\n",
    "print('A Lion is an Animal?', issubclass(Zoo.Lion, Zoo.Animal) and 'Yes!' or 'No!', '\\n')\n",
    "\n",
    "# returned pointer types are auto-casted to the lowest known derived type:\n",
    "mouse = Zoo.release_animal(Zoo.eMouse)\n",
    "print('Type of mouse:', type(mouse))\n",
    "lion = Zoo.release_animal(Zoo.eLion)\n",
    "print('Type of lion:', type(lion), '\\n')\n",
    "\n",
    "# as pythonized, the ownership of the return value from release_animal is Python's\n",
    "print(\"Does Python own the 'lion'?\", lion.__python_owns__ and 'Yes!' or 'No!')\n",
    "print(\"Does Python own the 'mouse'?\", mouse.__python_owns__ and 'Yes!' or 'No!', '\\n')\n",
    "\n",
    "# virtual functions work as expected:\n",
    "print('The mouse says:', mouse.make_sound())\n",
    "print('The lion says:', lion.make_sound(), '\\n')\n",
    "\n",
    "# now change what the lion says through its static (class) variable\n",
    "Zoo.Lion.s_lion_sound = \"mooh!\"\n",
    "print('The lion says:', lion.make_sound(), '\\n')\n",
    "\n",
    "# overloads are combined into a single function on the Python side and resolved dynamically\n",
    "print(\"Identification of \\'mouse\\':\", Zoo.identify_animal(mouse))\n",
    "print(\"Identification of \\'lion\\':\", Zoo.identify_animal(lion))"
   ]
  },
  {
   "cell_type": "markdown",
   "metadata": {},
   "source": [
    "## cppyy 现代 C++\n",
    "\n",
    "随着 C++ 的成熟，越来越多的语义意图（例如对象所有权）在语法中表达。这不是为了绑定生成器的利益，而是为了那些不得不阅读代码的可怜程序员。尽管如此，绑定生成器从这种增加的表达中受益匪浅。"
   ]
  },
  {
   "cell_type": "code",
   "execution_count": 14,
   "metadata": {},
   "outputs": [
    {
     "data": {
      "text/plain": [
       "True"
      ]
     },
     "execution_count": 14,
     "metadata": {},
     "output_type": "execute_result"
    }
   ],
   "source": [
    "cppyy.cppdef(\"\"\"\n",
    "namespace Zoo {\n",
    "   std::shared_ptr<Lion> free_lion{new Lion{}};\n",
    "\n",
    "   std::string identify_animal_smart(std::shared_ptr<Lion>& smart) {\n",
    "       return \"the animal is a lion\";\n",
    "   }\n",
    "}\n",
    "\"\"\")"
   ]
  },
  {
   "cell_type": "code",
   "execution_count": 15,
   "metadata": {},
   "outputs": [
    {
     "name": "stdout",
     "output_type": "stream",
     "text": [
      "Type of the 'free_lion' global: Lion\n",
      "Type of the 'free_lion' smart ptr: shared_ptr<Zoo::Lion>\n",
      "Dumb passing:  the animal is a lion\n",
      "Smart passing: the animal is a lion\n"
     ]
    }
   ],
   "source": [
    "# shared pointers are presented transparently as the wrapped type\n",
    "print(\"Type of the 'free_lion' global:\", type(Zoo.free_lion).__name__)\n",
    "\n",
    "# if need be, the smart pointer is accessible with a helper\n",
    "smart_lion = Zoo.free_lion.__smartptr__()\n",
    "print(\"Type of the 'free_lion' smart ptr:\", type(smart_lion).__name__)\n",
    "\n",
    "# pass through functions that expect a naked pointer or smart pointer\n",
    "print(\"Dumb passing: \", Zoo.identify_animal(Zoo.free_lion))\n",
    "print(\"Smart passing:\", Zoo.identify_animal_smart(Zoo.free_lion))"
   ]
  }
 ],
 "metadata": {
  "kernelspec": {
   "display_name": "xxx",
   "language": "python",
   "name": "python3"
  },
  "language_info": {
   "codemirror_mode": {
    "name": "ipython",
    "version": 3
   },
   "file_extension": ".py",
   "mimetype": "text/x-python",
   "name": "python",
   "nbconvert_exporter": "python",
   "pygments_lexer": "ipython3",
   "version": "3.12.2"
  }
 },
 "nbformat": 4,
 "nbformat_minor": 2
}
