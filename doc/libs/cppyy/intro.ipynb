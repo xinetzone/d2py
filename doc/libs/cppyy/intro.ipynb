{
 "cells": [
  {
   "cell_type": "markdown",
   "metadata": {},
   "source": [
    "# {mod}`cppyy` 概述"
   ]
  },
  {
   "cell_type": "markdown",
   "metadata": {},
   "source": [
    "cppyy 是一个自动的、运行时的 Python-C++绑定生成器，用于从Python调用C++以及从C++调用Python。运行时生成能够实现更详细的特化以获得更高的性能，延迟加载以减少大规模项目中的内存使用，Python端的交叉继承和回调以便与C++框架一起工作，运行时模板实例化，自动对象向下转换，异常映射，以及C++库的交互式探索。cppyy在不需要任何语言扩展、中间语言或手写样板代码的情况下提供了这些功能。"
   ]
  },
  {
   "cell_type": "markdown",
   "metadata": {},
   "source": [
    "`cppyy` 基于 [Cling](https://github.com/vgvassilev/cling)，这是 C++ 解释器，用于匹配 Python 的动态性、交互性和运行时行为。"
   ]
  },
  {
   "cell_type": "code",
   "execution_count": 1,
   "metadata": {},
   "outputs": [
    {
     "name": "stdout",
     "output_type": "stream",
     "text": [
      "(Re-)building pre-compiled headers (options: -O2 -march=native); this may take a minute ...\n"
     ]
    },
    {
     "name": "stderr",
     "output_type": "stream",
     "text": [
      "/media/pc/data/lxw/envs/anaconda3x/envs/xxx/bin/python3.12: not an ELF file.\n"
     ]
    },
    {
     "data": {
      "text/plain": [
       "True"
      ]
     },
     "execution_count": 1,
     "metadata": {},
     "output_type": "execute_result"
    }
   ],
   "source": [
    "import cppyy\n",
    "\n",
    "cppyy.cppdef(\"\"\"\n",
    "class MyClass {\n",
    "public:\n",
    "    MyClass(int i) : m_data(i) {}\n",
    "    virtual ~MyClass() {}\n",
    "    virtual int add_int(int i) { return m_data + i; }\n",
    "    int m_data;\n",
    "};\"\"\")"
   ]
  },
  {
   "cell_type": "code",
   "execution_count": 2,
   "metadata": {},
   "outputs": [
    {
     "data": {
      "text/plain": [
       "True"
      ]
     },
     "execution_count": 2,
     "metadata": {},
     "output_type": "execute_result"
    }
   ],
   "source": [
    "from cppyy.gbl import MyClass\n",
    "m = MyClass(42)\n",
    "cppyy.cppdef(\"\"\"\n",
    "void say_hello(MyClass* m) {\n",
    "    std::cout << \"Hello, the number is: \" << m->m_data << std::endl;\n",
    "}\"\"\")"
   ]
  },
  {
   "cell_type": "code",
   "execution_count": 3,
   "metadata": {},
   "outputs": [
    {
     "name": "stdout",
     "output_type": "stream",
     "text": [
      "Hello, the number is: 42\n"
     ]
    }
   ],
   "source": [
    "MyClass.say_hello = cppyy.gbl.say_hello\n",
    "m.say_hello()"
   ]
  },
  {
   "cell_type": "code",
   "execution_count": 4,
   "metadata": {},
   "outputs": [
    {
     "name": "stdout",
     "output_type": "stream",
     "text": [
      "Hello, the number is: 13\n"
     ]
    }
   ],
   "source": [
    "m.m_data = 13\n",
    "m.say_hello()"
   ]
  },
  {
   "cell_type": "code",
   "execution_count": 5,
   "metadata": {},
   "outputs": [],
   "source": [
    "class PyMyClass(MyClass):\n",
    "    def add_int(self, i):  # python side override (CPython only)\n",
    "        return self.m_data + 2*i"
   ]
  },
  {
   "cell_type": "code",
   "execution_count": 6,
   "metadata": {},
   "outputs": [
    {
     "data": {
      "text/plain": [
       "True"
      ]
     },
     "execution_count": 6,
     "metadata": {},
     "output_type": "execute_result"
    }
   ],
   "source": [
    "cppyy.cppdef(\"int callback(MyClass* m, int i) { return m->add_int(i); }\")"
   ]
  },
  {
   "cell_type": "code",
   "execution_count": 7,
   "metadata": {},
   "outputs": [
    {
     "data": {
      "text/plain": [
       "15"
      ]
     },
     "execution_count": 7,
     "metadata": {},
     "output_type": "execute_result"
    }
   ],
   "source": [
    "cppyy.gbl.callback(m, 2)             # calls C++ add_int"
   ]
  },
  {
   "cell_type": "code",
   "execution_count": 8,
   "metadata": {},
   "outputs": [
    {
     "data": {
      "text/plain": [
       "5"
      ]
     },
     "execution_count": 8,
     "metadata": {},
     "output_type": "execute_result"
    }
   ],
   "source": [
    "cppyy.gbl.callback(PyMyClass(1), 2)  # calls Python-side override"
   ]
  },
  {
   "cell_type": "markdown",
   "metadata": {},
   "source": [
    "凭借现代的 C++ 编译器作为后盾，cppyy 是未来证明的。请看下面这个使用 `boost::any` 的会话，这是在 C++ 中允许异质容器的封装类型。Boost 库以其对现代 C++ 的大胆使用和大量模板使用而闻名：\n",
    "\n",
    "```python\n",
    "import cppyy\n",
    "cppyy.include('boost/any.hpp')       # assumes you have boost installed\n",
    "from cppyy.gbl import std, boost\n",
    "val = boost.any()                    # the capsule\n",
    "```"
   ]
  },
  {
   "cell_type": "markdown",
   "metadata": {},
   "source": [
    "```python\n",
    ">>> val.__assign__(std.vector[int]())    # assign it a std::vector<int>\n",
    "<cppyy.gbl.boost.any object at 0xf6a8a0>\n",
    ">>> val.type() == cppyy.typeid(std.vector[int])    # verify type\n",
    "True\n",
    ">>> extract = boost.any_cast[int](std.move(val))   # wrong cast\n",
    "Traceback (most recent call last):\n",
    "  File \"<stdin>\", line 1, in <module>\n",
    "cppyy.gbl.boost.bad_any_cast: Could not instantiate any_cast<int>:\n",
    "  int boost::any_cast(boost::any&& operand) =>\n",
    "    wrapexcept<boost::bad_any_cast>: boost::bad_any_cast: failed conversion using boost::any_cast\n",
    ">>> extract = boost.any_cast[std.vector[int]](val) # correct cast\n",
    ">>> type(extract) is std.vector[int]\n",
    "True\n",
    ">>> extract += xrange(100)\n",
    ">>> len(extract)\n",
    "100\n",
    ">>> val.__assign__(std.move(extract))    # move forced\n",
    "<cppyy.gbl.boost.any object at 0xf6a8a0>\n",
    ">>> len(extract)                         # now empty (or invalid)\n",
    "0\n",
    ">>> extract = boost.any_cast[std.vector[int]](val)\n",
    ">>> list(extract)\n",
    "[0, 1, 2, 3, 4, 5, 6, ..., 97, 98, 99]\n",
    "\n",
    "```"
   ]
  },
  {
   "cell_type": "markdown",
   "metadata": {},
   "source": [
    "当然，没有理由从 Python 使用 Boost（实际上，这个例子需要 [pythonizations](https://cppyy.readthedocs.io/en/latest/pythonizations.html)），但它展示了 `cppyy` 无缝支持许多高级 C++ 特性。"
   ]
  },
  {
   "cell_type": "markdown",
   "metadata": {},
   "source": [
    "`cppyy` 适用于 CPython（v2和v3）以及 PyPy，在后者中达到类似 C++ 的性能。它审慎使用预编译头、动态加载和延迟实例化，以支持由数百万行代码和数千个类组成的 C++ 程序。`cppyy` 最小化依赖关系，以便在分布式、异构开发环境中使用。"
   ]
  }
 ],
 "metadata": {
  "kernelspec": {
   "display_name": "xxx",
   "language": "python",
   "name": "python3"
  },
  "language_info": {
   "codemirror_mode": {
    "name": "ipython",
    "version": 3
   },
   "file_extension": ".py",
   "mimetype": "text/x-python",
   "name": "python",
   "nbconvert_exporter": "python",
   "pygments_lexer": "ipython3",
   "version": "3.12.4"
  }
 },
 "nbformat": 4,
 "nbformat_minor": 2
}
