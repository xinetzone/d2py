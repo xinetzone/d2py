{
 "cells": [
  {
   "cell_type": "markdown",
   "metadata": {},
   "source": [
    "# cppyy 顶层\n",
    "\n",
    "`cppyy` 在模块级别提供了一些辅助函数，这些函数提供（直接）访问 Cling 解释器的功能（任何 C++ 代码总是通过全局命名空间 `cppyy.gbl` 访问）。文档中会频繁使用这些辅助函数，因此它们首先在这里列出，但通过 Python 解释器本身使用 `help()` 函数可以更方便地访问它们的文档。"
   ]
  },
  {
   "cell_type": "code",
   "execution_count": 1,
   "metadata": {},
   "outputs": [
    {
     "name": "stdout",
     "output_type": "stream",
     "text": [
      "Help on package cppyy:\n",
      "\n",
      "NAME\n",
      "    cppyy - Dynamic C++ bindings generator.\n",
      "\n",
      "DESCRIPTION\n",
      "    This module provides dynamic bindings to C++ through Cling, the LLVM-based C++\n",
      "    interpreter, allowing interactive mixing of Python and C++. Example:\n",
      "\n",
      "        >>> import cppyy\n",
      "        >>> cppyy.cppdef(\"\"\"\n",
      "        ... class MyClass {\n",
      "        ... public:\n",
      "        ...     MyClass(int i) : m_data(i) {}\n",
      "        ...     int m_data;\n",
      "        ... };\"\"\")\n",
      "        True\n",
      "        >>> from cppyy.gbl import MyClass\n",
      "        >>> m = MyClass(42)\n",
      "        >>> cppyy.cppdef(\"\"\"\n",
      "        ... void say_hello(MyClass* m) {\n",
      "        ...     std::cout << \"Hello, the number is: \" << m->m_data << std::endl;\n",
      "        ... }\"\"\")\n",
      "        True\n",
      "        >>> MyClass.say_hello = cppyy.gbl.say_hello\n",
      "        >>> m.say_hello()\n",
      "        Hello, the number is: 42\n",
      "        >>> m.m_data = 13\n",
      "        >>> m.say_hello()\n",
      "        Hello, the number is: 13\n",
      "        >>>\n",
      "\n",
      "    For full documentation, see:\n",
      "       https://cppyy.readthedocs.io/\n",
      "\n",
      "PACKAGE CONTENTS\n",
      "    __pyinstaller (package)\n",
      "    _cpython_cppyy\n",
      "    _pypy_cppyy\n",
      "    _pythonization\n",
      "    _stdcpp_fix\n",
      "    _typemap\n",
      "    _version\n",
      "    interactive\n",
      "    ll\n",
      "    numba_ext\n",
      "    reflex\n",
      "    types\n",
      "\n",
      "SUBMODULES\n",
      "    py\n",
      "\n",
      "FUNCTIONS\n",
      "    add_autoload_map(fname)\n",
      "        Add the entries from a autoload (.rootmap) file to Cling.\n",
      "\n",
      "    add_include_path(path)\n",
      "        Add a path to the include paths available to Cling.\n",
      "\n",
      "    add_library_path(path)\n",
      "        Add a path to the library search paths available to Cling.\n",
      "\n",
      "    c_include(header)\n",
      "        Load (and JIT) header file <header> into Cling.\n",
      "\n",
      "    cppdef(src)\n",
      "        Declare C++ source <src> to Cling.\n",
      "\n",
      "    cppexec(stmt)\n",
      "        Execute C++ statement <stmt> in Cling's global scope.\n",
      "\n",
      "    include(header)\n",
      "        Load (and JIT) header file <header> into Cling.\n",
      "\n",
      "    load_library(name)\n",
      "        Explicitly load a shared library.\n",
      "\n",
      "    macro(cppm)\n",
      "        Attempt to evalute a C/C++ pre-processor macro as a constant\n",
      "\n",
      "    multi(*bases)\n",
      "        Resolve metaclasses for multiple inheritance.\n",
      "\n",
      "    set_debug(enable=True)\n",
      "        Enable/disable debug output.\n",
      "\n",
      "    sizeof(tt)\n",
      "        Returns the storage size (in chars) of C++ type <tt>.\n",
      "\n",
      "    typeid(tt)\n",
      "        Returns the C++ runtime type information for type <tt>.\n",
      "\n",
      "DATA\n",
      "    __all__ = ['cppdef', 'cppexec', 'macro', 'include', 'c_include', 'load...\n",
      "    __warningregistry__ = {'version': 16}\n",
      "    nullptr = nullptr\n",
      "\n",
      "VERSION\n",
      "    3.1.2\n",
      "\n",
      "AUTHOR\n",
      "    Wim Lavrijsen <WLavrijsen@lbl.gov>\n",
      "\n",
      "FILE\n",
      "    /media/pc/data/lxw/envs/anaconda3x/envs/xxx/lib/python3.12/site-packages/cppyy/__init__.py\n",
      "\n",
      "\n"
     ]
    },
    {
     "name": "stderr",
     "output_type": "stream",
     "text": [
      "/media/pc/data/lxw/envs/anaconda3x/envs/xxx/bin/python3.12: not an ELF file.\n"
     ]
    }
   ],
   "source": [
    "import cppyy\n",
    "help(cppyy)"
   ]
  },
  {
   "cell_type": "markdown",
   "metadata": {},
   "source": [
    "## cppyy 加载 C++\n",
    "\n",
    "C++ 代码可以作为文本加载并即时编译（JIT），或者提前编译并以共享库的形式提供。在后一种情况下，还需要加载 C++ 头文件以向 Cling 声明类、函数和变量。除了头文件，还可以使用预编译代码；特别是所有标准 C++ 头文件和一些系统头文件在启动时都已预编译。`cppyy` 提供了以下辅助工具来加载 C++ 代码："
   ]
  },
  {
   "cell_type": "markdown",
   "metadata": {},
   "source": [
    "- `cppdef`: 直接访问解释器。此函数接受 C++ 声明作为字符串并即时编译（JIT）它们（在实际使用之前不会创建绑定）。代码被加载到全局范围内，因此从一个 `cppdef` 调用到下一个调用，任何先前加载的代码以及所有已通过预编译头文件加载的标准 C++ 头文件都是可用的。示例："
   ]
  },
  {
   "cell_type": "code",
   "execution_count": 2,
   "metadata": {},
   "outputs": [
    {
     "data": {
      "text/plain": [
       "True"
      ]
     },
     "execution_count": 2,
     "metadata": {},
     "output_type": "execute_result"
    }
   ],
   "source": [
    "cppyy.cppdef(r\"\"\"\\\n",
    "void hello() {\n",
    "    std::cout << \"Hello, World!\" << std::endl;\n",
    "}\"\"\")"
   ]
  },
  {
   "cell_type": "code",
   "execution_count": 3,
   "metadata": {},
   "outputs": [
    {
     "name": "stdout",
     "output_type": "stream",
     "text": [
      "Hello, World!\n"
     ]
    }
   ],
   "source": [
    "cppyy.gbl.hello()"
   ]
  },
  {
   "cell_type": "markdown",
   "metadata": {},
   "source": [
    "- `cppexec`: 直接访问解释器。此函数接受 C++ 语句作为字符串，即时编译并执行它们。就像 `cppdef` 一样，执行在全局范围内进行，所有先前加载的代码都是可用的。如果语句是声明，效果与 `cppdef` 相同，但 `cppexec` 也接受可执行的代码行。示例："
   ]
  },
  {
   "cell_type": "code",
   "execution_count": 6,
   "metadata": {},
   "outputs": [
    {
     "data": {
      "text/plain": [
       "True"
      ]
     },
     "execution_count": 6,
     "metadata": {},
     "output_type": "execute_result"
    }
   ],
   "source": [
    "cppyy.cppexec(r\"\"\"std::string hello = \"Hello, World!\";\"\"\")"
   ]
  },
  {
   "cell_type": "code",
   "execution_count": 7,
   "metadata": {},
   "outputs": [
    {
     "name": "stdout",
     "output_type": "stream",
     "text": [
      "Hello, World!\n"
     ]
    },
    {
     "data": {
      "text/plain": [
       "True"
      ]
     },
     "execution_count": 7,
     "metadata": {},
     "output_type": "execute_result"
    }
   ],
   "source": [
    "cppyy.cppexec(\"std::cout << hello << std::endl;\")"
   ]
  },
  {
   "cell_type": "markdown",
   "metadata": {},
   "source": [
    "- `include`: 将声明加载到解释器中。此函数接受来自文件的 C++ 声明，通常是头文件。文件通过给定给 Cling 的包含路径来定位。示例："
   ]
  },
  {
   "cell_type": "code",
   "execution_count": 8,
   "metadata": {},
   "outputs": [
    {
     "data": {
      "text/plain": [
       "True"
      ]
     },
     "execution_count": 8,
     "metadata": {},
     "output_type": "execute_result"
    }
   ],
   "source": [
    "cppyy.include(\"vector\")   # equivalent to \"#include <vector>\""
   ]
  },
  {
   "cell_type": "markdown",
   "metadata": {},
   "source": [
    "- `c_include`: 将声明加载到解释器中。此函数接受来自文件的 C++ 声明，通常是头文件。名称修饰是 C 和 C++ 代码之间的一个重要区别。使用 `c_include` 而不是 `include` 可以防止名称修饰。"
   ]
  },
  {
   "cell_type": "markdown",
   "metadata": {},
   "source": [
    "- `load_library`: 将编译好的 C++ 代码加载到解释器中。此函数接受共享库的名称，并将其加载到当前进程中，将所有外部符号暴露给 Cling。库通过给定给 Cling 的加载路径来定位，可以通过“`-L`”编译器标志或动态搜索路径环境变量（系统依赖）来实现。任何将符号引入进程的方法（包括常规链接，例如在 C++ 应用程序中嵌入 Python 时）都适合用于暴露符号。作为 `load_library` 的替代方案，例如可以使用`ctypes.CDLL`，但该函数并非在所有平台上都支持动态加载路径。"
   ]
  },
  {
   "cell_type": "markdown",
   "metadata": {},
   "source": [
    "如果在使用上述辅助函数中的任何一个对 C++ 代码进行即时编译（JIT）时发生编译错误，会引发 Python `SyntaxError` 异常。如果发生编译警告，则会发出 Python 警告。"
   ]
  },
  {
   "cell_type": "markdown",
   "metadata": {},
   "source": [
    "## cppyy 配置 Cling\n",
    "\n",
    "当加载模块时，通常方便地为 Cling 添加额外的搜索路径以查找头文件和库（Python 没有标准位置来放置头文件和库，但通常可以根据模块的位置推断出它们的位置，即其 `__file__` 属性）。`cppyy` 提供了以下两个辅助函数：\n",
    "\n",
    "- `add_include_path`: 为 Cling 添加额外的路径以查找头文件。\n",
    "- `add_library_path`: 为 Cling 添加额外的路径以查找库。\n",
    "\n",
    "这两个函数都接受一个字符串（单个路径）或一个列表（用于添加多个路径）。允许使用相对路径，但建议使用绝对路径。"
   ]
  },
  {
   "cell_type": "markdown",
   "metadata": {},
   "source": [
    "## cppyy C++ 语言\n",
    "\n",
    "一些 C++ 编译时特性在 Python 中没有等效项。相反，提供了便利函数：\n",
    "\n",
    "- `sizeof`: 接受一个代理的 C++ 类型或其名称作为字符串，并返回存储大小（以 `char` 为单位）。\n",
    "- `typeid`: 接受一个代理的 C++ 类型或其名称作为字符串，并返回 C++ 运行时类型信息（RTTI）。\n",
    "- `nullptr`: C++ `NULL`。"
   ]
  },
  {
   "cell_type": "markdown",
   "metadata": {},
   "source": [
    "## `cppyy` 预处理器\n",
    "\n",
    "在 Python 端，预处理器宏（`#define`）不可用，因为没有可用的类型信息。然而，它们通常用于常量数据（例如标志或数字；请注意，现代 C++ 推荐使用 `const` 和 `constexpr`）。在限制范围内，表示常量数据的宏可以通过 `macro` 辅助函数访问。示例："
   ]
  },
  {
   "cell_type": "code",
   "execution_count": 9,
   "metadata": {},
   "outputs": [
    {
     "data": {
      "text/plain": [
       "True"
      ]
     },
     "execution_count": 9,
     "metadata": {},
     "output_type": "execute_result"
    }
   ],
   "source": [
    "import cppyy\n",
    "cppyy.cppdef('#define HELLO \"Hello, World!\"')"
   ]
  },
  {
   "cell_type": "code",
   "execution_count": 10,
   "metadata": {},
   "outputs": [
    {
     "data": {
      "text/plain": [
       "'Hello, World!'"
      ]
     },
     "execution_count": 10,
     "metadata": {},
     "output_type": "execute_result"
    }
   ],
   "source": [
    "cppyy.macro(\"HELLO\")"
   ]
  },
  {
   "cell_type": "code",
   "execution_count": null,
   "metadata": {},
   "outputs": [],
   "source": []
  }
 ],
 "metadata": {
  "kernelspec": {
   "display_name": "xxx",
   "language": "python",
   "name": "python3"
  },
  "language_info": {
   "codemirror_mode": {
    "name": "ipython",
    "version": 3
   },
   "file_extension": ".py",
   "mimetype": "text/x-python",
   "name": "python",
   "nbconvert_exporter": "python",
   "pygments_lexer": "ipython3",
   "version": "3.12.2"
  }
 },
 "nbformat": 4,
 "nbformat_minor": 2
}
