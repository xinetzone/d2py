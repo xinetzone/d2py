{
 "cells": [
  {
   "cell_type": "markdown",
   "metadata": {},
   "source": [
    "# Gymnasium 简介\n",
    "\n",
    "Gymnasium 是开源的 Python 库，用于开发和比较强化学习算法。它通过提供标准的 API 来沟通学习算法和环境，并提供一组符合该 API 的标准环境。这是 OpenAI 的 [Gym](https://github.com/openai/gym) 库的分支，由其维护者（OpenAI 几年前将维护工作移交给了外部团队）负责，并且是未来维护工作进行的地方。\n",
    "\n",
    "文档网站位于 [gymnasium.farama.org](https://gymnasium.farama.org/)，我们还提供了公共的 Discord 服务器（协调开发工作），你可以在这里加入：<https://discord.gg/bnJ6kubTg6>。"
   ]
  },
  {
   "cell_type": "markdown",
   "metadata": {},
   "source": [
    "## Gymnasium 环境\n",
    "\n",
    "Gymnasium 包含以下几类环境和大量的第三方环境：\n",
    "\n",
    "- [经典控制](https://gymnasium.farama.org/environments/classic_control/) - 这些是基于现实世界问题和物理的经典强化学习环境。\n",
    "- [Box2D](https://gymnasium.farama.org/environments/box2d/) - 这些环境都涉及基于物理控制的玩具游戏，使用 box2d 物理引擎和 PyGame 渲染。\n",
    "- [Toy Text](https://gymnasium.farama.org/environments/toy_text/) - 这些环境设计得非常简单，具有小型离散状态和动作空间，因此容易学习。结果，它们适合调试强化学习算法的实现。\n",
    "- [MuJoCo](https://gymnasium.farama.org/environments/mujoco/) - 基于物理引擎的环境，带有多关节控制，比 Box2D 环境更复杂。\n",
    "- [Atari](https://ale.farama.org/) - Atari 2600 ROMs 模拟器，模拟具有高复杂度范围的代理学习环境。\n",
    "- [第三方](https://gymnasium.farama.org/environments/third_party_environments/) - 许多兼容 Gymnasium API 的环境已经被创建。请注意软件创建时的版本，并在必要时使用 gymnasium.make 中的 apply_env_compatibility。"
   ]
  },
  {
   "cell_type": "markdown",
   "metadata": {},
   "source": [
    "## 安装 Gymnasium\n",
    "要安装基础的 Gymnasium 库，请使用 `pip install gymnasium`。\n",
    "\n",
    "这不包括所有环境家族的依赖项（环境数量庞大，有些在某些系统上可能难以安装）。您可以为一个家族安装这些依赖项，例如使用 `pip install \"gymnasium[atari]\"`，或者使用 `pip install \"gymnasium[all]\"` 来安装所有依赖项。\n",
    "\n",
    "````{tip}\n",
    "如果 `pip` 安装不上 `box2d-py`，可以：\n",
    "```bash\n",
    "conda install anaconda::swig\n",
    "conda install -c conda-forge box2d-py\n",
    "```\n",
    "````\n",
    "\n",
    "我们支持并测试了在 Linux 和 macOS 上的 Python 3.8、3.9、3.10、3.11 和 3.12。我们会接受与 Windows 相关的 PR，但官方不支持它。\n",
    "\n",
    "## Gymnasium API\n",
    "\n",
    "Gymnasium API 将环境建模为简单的 Python env 类。创建环境实例并与之交互非常简单，这里是一个使用 \"CartPole-v1\" 环境的示例："
   ]
  },
  {
   "cell_type": "code",
   "execution_count": 1,
   "metadata": {},
   "outputs": [],
   "source": [
    "import gymnasium as gym\n",
    "\n",
    "# 初始化环境\n",
    "env = gym.make(\"CartPole-v1\")\n",
    "\n",
    "observation, info = env.reset(seed=42) # 重置环境以生成第观测值\n",
    "for _ in range(1000):\n",
    "    # 在这里插入你的策略\n",
    "    action = env.action_space.sample() # 从动作空间中随机采样动作\n",
    "    # 使用动作 action 通过环境进行转换\n",
    "    # 接收下一个观测值、奖励以及该回合（episode）是否已结束或被截断（truncated）\n",
    "    observation, reward, terminated, truncated, info = env.step(action)\n",
    "\n",
    "    if terminated or truncated: # 如果回合结束，则可以重置以开始新的回合\n",
    "        observation, info = env.reset()\n",
    "env.close()"
   ]
  },
  {
   "cell_type": "markdown",
   "metadata": {},
   "source": [
    "```python\n",
    "\n",
    "```"
   ]
  },
  {
   "cell_type": "markdown",
   "metadata": {},
   "source": [
    "## 值得关注的 Gymnasium 相关库\n",
    "\n",
    "请注意，这是一个不完整的列表，只包括维护者在被问及推荐时最常指向新用户的库。\n",
    "\n",
    "- [CleanRL](https://github.com/vwxyzjn/cleanrl) 是基于 Gymnasium API 的学习库。它旨在为该领域的新手提供帮助，并提供非常好的参考实现。\n",
    "- [PettingZoo](https://github.com/Farama-Foundation/PettingZoo) 是 Gymnasium 的多代理版本，包含一些已实现的环境，例如多代理 Atari 环境。\n",
    "- Farama Foundation 还拥有许多其他由与 Gymnasium 相同的团队维护并使用 Gymnasium API 的[环境集合](https://farama.org/projects)。"
   ]
  }
 ],
 "metadata": {
  "kernelspec": {
   "display_name": "xxx",
   "language": "python",
   "name": "python3"
  },
  "language_info": {
   "codemirror_mode": {
    "name": "ipython",
    "version": 3
   },
   "file_extension": ".py",
   "mimetype": "text/x-python",
   "name": "python",
   "nbconvert_exporter": "python",
   "pygments_lexer": "ipython3",
   "version": "3.12.2"
  }
 },
 "nbformat": 4,
 "nbformat_minor": 2
}
