{
 "cells": [
  {
   "cell_type": "markdown",
   "metadata": {},
   "source": [
    "# 与 Gym 的兼容性\n",
    "\n",
    "Gymnasium 为一系列环境实现提供了多种兼容性方法。\n",
    "\n",
    "## 加载 OpenAI Gym 环境\n",
    "\n",
    "对于仅在 OpenAI Gym 中注册且未在 Gymnasium 中的环境，Gymnasium v0.26.3 及以上版本允许通过特殊环境或包装器导入这些环境。`\"GymV26Environment-v0\"` 环境在 Gymnasium v0.26.3 中引入，允许通过 `env_name` 参数以及其他相关环境 `kwargs` 导入 Gym 环境。要通过包装器进行转换，可以通过 `env` `kwarg` 将环境本身传递给 `EnvCompatibility` 包装器。\n",
    "\n",
    "配置包环境：\n",
    "\n",
    "```bash\n",
    "pip install \"shimmy[gym-v26]\"\n",
    "```"
   ]
  },
  {
   "cell_type": "markdown",
   "metadata": {},
   "source": [
    "```python\n",
    "import gymnasium as gym\n",
    "\n",
    "env = gym.make(\"GymV26Environment-v0\", env_id=\"GymEnv-v1\")\n",
    "```"
   ]
  },
  {
   "cell_type": "markdown",
   "metadata": {},
   "source": [
    "## Gym v0.21环境兼容性\n",
    "\n",
    "许多环境尚未更新到最近的 Gym 变化，特别是自 v0.21 以来。这次更新显著引入了终止和截断签名，以替代之前使用的 `done`。为了允许向后兼容，Gym 和 Gymnasium v0.26+ 在调用 {func}`~gymnasium.make` 时包含 `apply_api_compatibility` `kwarg`，它会自动将符合 v0.21 API 的环境转换为与 v0.26+ 兼容的环境。"
   ]
  },
  {
   "cell_type": "markdown",
   "metadata": {},
   "source": [
    "```python\n",
    "import gym\n",
    "\n",
    "env = gym.make(\"OldV21Env-v0\", apply_api_compatibility=True)\n",
    "```"
   ]
  },
  {
   "cell_type": "markdown",
   "metadata": {},
   "source": [
    "此外，在 Gymnasium 中，我们为兼容性提供了专业环境，对于 `env_id` 将调用 `gym.make`。"
   ]
  },
  {
   "cell_type": "markdown",
   "metadata": {},
   "source": [
    "```python\n",
    "import gymnasium\n",
    "\n",
    "env = gymnasium.make(\"GymV21Environment-v0\", env_id=\"CartPole-v1\", render_mode=\"human\")\n",
    "# or\n",
    "env = gymnasium.make(\"GymV21Environment-v0\", env=OldV21Env())\n",
    "```"
   ]
  },
  {
   "cell_type": "markdown",
   "metadata": {},
   "source": [
    "## Step API 兼容性\n",
    "\n",
    "如果环境实现了（旧的）`done` `step` API，Gymnasium 提供了两个函数（{func}`gymnasium.utils.step_api_compatibility.convert_to_terminated_truncated_step_api`）和包装器（{class}`gymnasium.wrappers.StepAPICompatibility`），它们会将使用旧 `step` API（使用 `done`）的环境转换为新的 `step` API（使用 `termination` 和 `truncation`）。"
   ]
  }
 ],
 "metadata": {
  "kernelspec": {
   "display_name": "Python 3",
   "language": "python",
   "name": "python3"
  },
  "language_info": {
   "codemirror_mode": {
    "name": "ipython",
    "version": 3
   },
   "file_extension": ".py",
   "mimetype": "text/x-python",
   "name": "python",
   "nbconvert_exporter": "python",
   "pygments_lexer": "ipython3",
   "version": "3.12.2"
  }
 },
 "nbformat": 4,
 "nbformat_minor": 2
}
