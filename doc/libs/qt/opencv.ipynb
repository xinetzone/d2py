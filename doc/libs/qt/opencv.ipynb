{
 "cells": [
  {
   "cell_type": "markdown",
   "metadata": {},
   "source": [
    "# 在 Qt 界面中显示 OpenCV 图像\n",
    "\n",
    "参考：[在 PyQt 界面中显示OpenCV图像](https://www.aranacorp.com/en/displaying-an-opencv-image-in-a-pyqt-interface/)"
   ]
  },
  {
   "cell_type": "code",
   "execution_count": 1,
   "metadata": {},
   "outputs": [],
   "source": [
    "import sys\n",
    "import cv2\n",
    "\n",
    "def main():\n",
    "\n",
    "    cap = cv2.VideoCapture(0) #default camera\n",
    "\n",
    "    while(True):\n",
    "        ret, frame = cap.read()\n",
    "        if ret:\n",
    "            frame=cv2.resize(frame, (800, 600)) \n",
    "            cv2.imshow(\"Video\",frame)\n",
    "            \n",
    "        if cv2.waitKey(1) & 0xFF == ord('q'): #click q to stop capturing\n",
    "            break\n",
    "\n",
    "    cap.release()\n",
    "    cv2.destroyAllWindows()\n",
    "    return 0\n",
    "\n",
    "# main()"
   ]
  },
  {
   "cell_type": "markdown",
   "metadata": {},
   "source": []
  }
 ],
 "metadata": {
  "kernelspec": {
   "display_name": "py312",
   "language": "python",
   "name": "python3"
  },
  "language_info": {
   "codemirror_mode": {
    "name": "ipython",
    "version": 3
   },
   "file_extension": ".py",
   "mimetype": "text/x-python",
   "name": "python",
   "nbconvert_exporter": "python",
   "pygments_lexer": "ipython3",
   "version": "3.12.3"
  }
 },
 "nbformat": 4,
 "nbformat_minor": 2
}
