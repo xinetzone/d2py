{
 "cells": [
  {
   "cell_type": "markdown",
   "metadata": {},
   "source": [
    "# Qt 快速上手\n",
    "\n",
    "参考：[qtforpython-6/quickstart](https://doc.qt.io/qtforpython-6/quickstart.html)"
   ]
  },
  {
   "cell_type": "markdown",
   "metadata": {},
   "source": [
    "## 创建简单的 Qt Widgets 应用程序\n",
    "\n",
    "通过开发简单的应用程序来进一步探索它，该应用程序用多种语言打印“Hello World”。"
   ]
  },
  {
   "cell_type": "markdown",
   "metadata": {},
   "source": [
    "PySide6 Python 模块作为其子模块提供对 Qt API 的访问。在这种情况下，你正在导入 `QtCore`、`QtWidgets` 和 `QtGui` 子模块。"
   ]
  },
  {
   "cell_type": "code",
   "execution_count": 1,
   "metadata": {},
   "outputs": [],
   "source": [
    "import sys\n",
    "import random\n",
    "from PySide6 import QtCore, QtWidgets, QtGui"
   ]
  },
  {
   "cell_type": "markdown",
   "metadata": {},
   "source": [
    "定义名为 `MyWidget` 的类，该类扩展了 {class}`~PySide6.QtWidgets.QWidget` 并包含 `QPushButton` 和 `QLabel`。"
   ]
  },
  {
   "cell_type": "code",
   "execution_count": 2,
   "metadata": {},
   "outputs": [],
   "source": [
    "class MyWidget(QtWidgets.QWidget):\n",
    "    def __init__(self):\n",
    "        super().__init__()\n",
    "\n",
    "        self.hello = [\"Hallo Welt\", \"Hei maailma\", \"Hola Mundo\", \"Привет мир\"]\n",
    "\n",
    "        self.button = QtWidgets.QPushButton(\"Click me!\")\n",
    "        self.text = QtWidgets.QLabel(\"Hello World\",\n",
    "                                     alignment=QtCore.Qt.AlignCenter)\n",
    "\n",
    "        self.layout = QtWidgets.QVBoxLayout(self)\n",
    "        self.layout.addWidget(self.text)\n",
    "        self.layout.addWidget(self.button)\n",
    "\n",
    "        self.button.clicked.connect(self.magic)\n",
    "\n",
    "    @QtCore.Slot()\n",
    "    def magic(self):\n",
    "        self.text.setText(random.choice(self.hello))"
   ]
  },
  {
   "cell_type": "markdown",
   "metadata": {},
   "source": [
    "`MyWidget` 类有 {func}`magic` 成员函数，它从 `hello` 列表中随机选择一项。当你点击按钮时，会调用 {func}`magic` 函数。"
   ]
  },
  {
   "cell_type": "markdown",
   "metadata": {},
   "source": [
    "添加 `main` 函数，在其中实例化 `MyWidget` 并显示它。\n",
    "\n",
    "```python\n",
    "if __name__ == \"__main__\":\n",
    "    app = QtWidgets.QApplication([])\n",
    "\n",
    "    widget = MyWidget()\n",
    "    widget.resize(800, 600)\n",
    "    widget.show()\n",
    "\n",
    "    sys.exit(app.exec())\n",
    "```"
   ]
  },
  {
   "cell_type": "markdown",
   "metadata": {},
   "source": [
    "完整代码见 {download}`tests/hello.py`。"
   ]
  },
  {
   "cell_type": "markdown",
   "metadata": {},
   "source": [
    "为了[支持 Jupyter 运行 Qt 应用](https://qtconsole.readthedocs.io/en/stable/installation.html#installing-qt-if-needed)，需要：\n",
    "\n",
    "```bash\n",
    "conda install qtconsole\n",
    "```\n",
    "\n",
    "切换 jupyter 前端：\n",
    "\n",
    "```bash\n",
    "jupyter qtconsole\n",
    "```"
   ]
  },
  {
   "cell_type": "markdown",
   "metadata": {},
   "source": [
    "## 使用 Qt Quick 创建 Qt 应用程序"
   ]
  },
  {
   "cell_type": "code",
   "execution_count": 1,
   "metadata": {},
   "outputs": [],
   "source": [
    "import sys\n",
    "from PySide6.QtGui import QGuiApplication\n",
    "from PySide6.QtQml import QQmlApplicationEngine"
   ]
  },
  {
   "cell_type": "markdown",
   "metadata": {},
   "source": [
    "### Qt 声明式用户界面\n",
    "\n",
    "可以使用 QML 语言来描述 UI："
   ]
  },
  {
   "cell_type": "markdown",
   "metadata": {},
   "source": [
    "```qml\n",
    "import QtQuick\n",
    "import QtQuick.Controls\n",
    "import QtQuick.Layouts\n",
    "\n",
    "Window {\n",
    "    width: 300\n",
    "    height: 200\n",
    "    visible: true\n",
    "    title: \"Hello World\"\n",
    "\n",
    "    readonly property list<string> texts: [\"Hallo Welt\", \"Hei maailma\",\n",
    "                                           \"Hola Mundo\", \"Привет мир\"]\n",
    "\n",
    "    function setText() {\n",
    "        var i = Math.round(Math.random() * 3)\n",
    "        text.text = texts[i]\n",
    "    }\n",
    "\n",
    "    ColumnLayout {\n",
    "        anchors.fill:  parent\n",
    "\n",
    "        Text {\n",
    "            id: text\n",
    "            text: \"Hello World\"\n",
    "            Layout.alignment: Qt.AlignHCenter\n",
    "        }\n",
    "        Button {\n",
    "            text: \"Click me\"\n",
    "            Layout.alignment: Qt.AlignHCenter\n",
    "            onClicked:  setText()\n",
    "        }\n",
    "    }\n",
    "}\n",
    "```"
   ]
  },
  {
   "cell_type": "markdown",
   "metadata": {},
   "source": [
    "将以下内容放入名为 `Main.qml` 的文件中，并将该文件放置在名为 `Main` 的目录中，同时在该目录中创建名为 `qmldir` 的文件以描述基本的 QML 模块：\n",
    "\n",
    "```qml\n",
    "module Main\n",
    "Main 254.0 Main.qml\n",
    "```"
   ]
  },
  {
   "cell_type": "markdown",
   "metadata": {},
   "source": [
    "### QML 应用执行\n",
    "\n",
    "现在，添加主函数，在其中实例化 `QQmlApplicationEngine` 并加载 ``QML``：\n",
    "\n",
    "```python\n",
    "import sys\n",
    "from PySide6.QtGui import QGuiApplication\n",
    "from PySide6.QtQml import QQmlApplicationEngine\n",
    "\n",
    "if __name__ == \"__main__\":\n",
    "    app = QGuiApplication(sys.argv)\n",
    "    engine = QQmlApplicationEngine()\n",
    "    engine.addImportPath(sys.path[0])\n",
    "    engine.loadFromModule(\"Main\", \"Main\")\n",
    "    if not engine.rootObjects():\n",
    "        sys.exit(-1)\n",
    "    exit_code = app.exec()\n",
    "    del engine\n",
    "    sys.exit(exit_code)\n",
    "```\n"
   ]
  },
  {
   "cell_type": "markdown",
   "metadata": {},
   "source": []
  }
 ],
 "metadata": {
  "kernelspec": {
   "display_name": "Python 3",
   "language": "python",
   "name": "python3"
  },
  "language_info": {
   "codemirror_mode": {
    "name": "ipython",
    "version": 3
   },
   "file_extension": ".py",
   "mimetype": "text/x-python",
   "name": "python",
   "nbconvert_exporter": "python",
   "pygments_lexer": "ipython3",
   "version": "3.12.2"
  }
 },
 "nbformat": 4,
 "nbformat_minor": 2
}
