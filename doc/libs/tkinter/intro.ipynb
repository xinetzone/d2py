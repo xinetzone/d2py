{
 "cells": [
  {
   "cell_type": "markdown",
   "metadata": {},
   "source": [
    "# {mod}`tkinter` 简介\n",
    "\n",
    "我的其他博文：\n",
    "- [tkinter 手册](https://www.jianshu.com/nb/45837499)\n",
    "- [tkinter GUI 设计](https://www.jianshu.com/nb/41423750)"
   ]
  },
  {
   "cell_type": "markdown",
   "metadata": {},
   "source": [
    "一个小样例："
   ]
  },
  {
   "cell_type": "markdown",
   "metadata": {},
   "source": [
    "```python\n",
    "from tkinter import Tk\n",
    "from tkinter import ttk\n",
    "root = Tk()\n",
    "frm = ttk.Frame(root, padding=10)\n",
    "frm.grid()\n",
    "ttk.Label(frm, text=\"Hello World!\").grid(column=0, row=0)\n",
    "ttk.Button(frm, text=\"Quit\", command=root.destroy).grid(column=1, row=0)\n",
    "root.mainloop()\n",
    "```"
   ]
  },
  {
   "cell_type": "code",
   "execution_count": 1,
   "metadata": {},
   "outputs": [],
   "source": [
    "import cv2\n",
    "\n",
    "path = cv2.imread(\"/media/pc/data/lxw/ai/d2py/doc/libs/images/leimu.jpg\")"
   ]
  },
  {
   "cell_type": "code",
   "execution_count": 2,
   "metadata": {},
   "outputs": [
    {
     "data": {
      "text/plain": [
       "array([[[  1,   2,   0],\n",
       "        [  1,   1,   1],\n",
       "        [  0,   0,   0],\n",
       "        ...,\n",
       "        [  0,   0,   0],\n",
       "        [  2,   3,   1],\n",
       "        [  0,   0,   0]],\n",
       "\n",
       "       [[  0,   0,   0],\n",
       "        [  4,   8,   9],\n",
       "        [  4,   7,  11],\n",
       "        ...,\n",
       "        [  6,   4,   3],\n",
       "        [  3,   4,   2],\n",
       "        [  0,   0,   0]],\n",
       "\n",
       "       [[  0,   0,   1],\n",
       "        [  5,   6,  10],\n",
       "        [  6,   7,  11],\n",
       "        ...,\n",
       "        [  6,   4,   3],\n",
       "        [  4,   5,   3],\n",
       "        [  0,   0,   0]],\n",
       "\n",
       "       ...,\n",
       "\n",
       "       [[110, 104, 139],\n",
       "        [120, 110, 146],\n",
       "        [118, 111, 146],\n",
       "        ...,\n",
       "        [113,  94,  86],\n",
       "        [114,  95,  87],\n",
       "        [109,  90,  82]],\n",
       "\n",
       "       [[110, 104, 139],\n",
       "        [120, 110, 146],\n",
       "        [117, 110, 147],\n",
       "        ...,\n",
       "        [114,  95,  87],\n",
       "        [114,  95,  87],\n",
       "        [109,  90,  82]],\n",
       "\n",
       "       [[106,  98, 135],\n",
       "        [114, 104, 140],\n",
       "        [113, 105, 142],\n",
       "        ...,\n",
       "        [108,  89,  81],\n",
       "        [109,  88,  80],\n",
       "        [104,  83,  75]]], dtype=uint8)"
      ]
     },
     "execution_count": 2,
     "metadata": {},
     "output_type": "execute_result"
    }
   ],
   "source": [
    "path"
   ]
  },
  {
   "cell_type": "code",
   "execution_count": null,
   "metadata": {},
   "outputs": [],
   "source": []
  }
 ],
 "metadata": {
  "kernelspec": {
   "display_name": "xxx",
   "language": "python",
   "name": "python3"
  },
  "language_info": {
   "codemirror_mode": {
    "name": "ipython",
    "version": 3
   },
   "file_extension": ".py",
   "mimetype": "text/x-python",
   "name": "python",
   "nbconvert_exporter": "python",
   "pygments_lexer": "ipython3",
   "version": "3.12.2"
  }
 },
 "nbformat": 4,
 "nbformat_minor": 2
}
