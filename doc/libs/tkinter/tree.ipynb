{
 "cells": [
  {
   "cell_type": "markdown",
   "metadata": {},
   "source": [
    "# {class}`~tkinter.ttk.Treeview`\n",
    "树状视图小部件展示了一个项目的层次结构，允许用户浏览。每个项目的一个或多个属性可以作为列显示在树的右侧。它可以用来构建类似于文件管理器中的树状显示的用户界面，比如macOS Finder或Windows Explorer。和大多数Tk小部件一样，它提供了令人难以置信的灵活性，因此可以根据各种情况进行定制。"
   ]
  },
  {
   "cell_type": "markdown",
   "metadata": {},
   "source": [
    "```python\n",
    "tree = ttk.Treeview(parent)\n",
    "```"
   ]
  },
  {
   "cell_type": "markdown",
   "metadata": {},
   "source": [
    "水平滚动条和垂直滚动条可以根据需要以通常的方式添加。\n",
    "\n",
    "## 向树视图中添加项目\n",
    "为了对树视图执行任何有用的操作，我们需要向其中添加一个或多个项目。每个项目代表树中的一个节点，无论是叶节点还是包含其他节点的内部节点。项目通过唯一的id引用。可以在创建项目时分配此id，或者小部件可以自动生成一个。\n",
    "\n",
    "通过使用树视图的 `insert` 方法将项目插入到树中来创建项目。要插入项目，我们需要知道在哪里插入它。这意味着指定父项目以及在父项目的现有子项列表中的何处插入新项目。\n",
    "\n",
    "树视图小部件会自动创建一个根节点（未显示）。其id为空字符串。它是添加的第一级项目的父母。节点子项列表中的位置通过索引指定（0表示第一个，end表示在所有现有子项之后插入）。\n",
    "\n",
    "通常，您还会指定每个项目的名称，这是树中显示的文本。其他选项允许您在名称旁边添加图像，指定节点是打开还是关闭等。\n",
    "```python\n",
    "# 插入到根节点，程序选择id：\n",
    "tree.insert('', 'end', 'widgets', text='Widget Tour')\n",
    "\n",
    "# 同样的事情，但作为第一个子项插入：\n",
    "tree.insert('', 0, 'gallery', text='Applications')\n",
    "\n",
    "# 树视图选择id：\n",
    "id = tree.insert('', 'end', text='Tutorial')\n",
    "\n",
    "# 在现有节点下插入：\n",
    "tree.insert('widgets', 'end', text='Canvas')\n",
    "tree.insert(id, 'end', text='Tree')\n",
    "```\n",
    "插入项目返回新创建项目的`id`。\n",
    "\n",
    "## 重新排列项目\n",
    "节点（及其后代，如果有的话）可以移动到树中的不同位置。唯一限制是节点不能移动到其后代之下，原因很明显。如前所述，目标位置通过父节点及其子项列表中的位置指定。\n",
    "```python\n",
    "tree.move('widgets', 'gallery', 'end')  # 将widgets移动到gallery下\n",
    "```\n",
    "可以从树中分离项目。这会移除项目及其后代，但不销毁项目。这使我们以后可以通过move重新插入它们。\n",
    "```python\n",
    "tree.detach('widgets')\n",
    "```\n",
    "也可以删除项目，这将完全销毁项目及其后代。\n",
    "```python\n",
    "tree.delete('widgets')\n",
    "```\n",
    "要遍历层次结构，可以使用方法找到项目的父项（父项），下一个或上一个兄弟项（next item和prev item），并返回项目的子项列表（children item）。\n",
    "\n",
    "我们可以通过修改open item配置选项来控制项目是否打开并显示其子项。\n",
    "```python\n",
    "tree.item('widgets', open=TRUE)\n",
    "isopen = tree.item('widgets', 'open')\n",
    "```\n",
    "## 显示每个项目的信息\n",
    "树视图可以显示关于每个项目的一或多条附加信息。这些信息显示在主树显示的右侧列中。\n",
    "\n",
    "每列都通过我们分配的符号名称引用。我们可以使用树视图小部件的columns配置选项指定列列表，无论是在首次创建小部件时还是在稍后。\n",
    "```python\n",
    "tree = ttk.Treeview(root, columns=('size', 'modified'))\n",
    "tree['columns'] = ('size', 'modified', 'owner')\n",
    "```\n",
    "我们可以指定列的宽度，如何对列中项目信息的显示进行对齐，等等。我们还可以提供有关列标题的信息，例如要显示的文本、可选图像、对齐方式以及单击项目时要调用的脚本（例如，对树进行排序）。\n",
    "```python\n",
    "tree.column('size', width=100, anchor='center')\n",
    "tree.heading('size', text='Size')\n",
    "```\n",
    "要在每列中为每个项目显示的内容可以单独指定，方法是使用set方法。您还可以提供一个描述所有列中要显示内容的列表。这是通过values item配置选项完成的。它接受一个值列表，可以在首次插入项目时提供，也可以稍后更改。列表的顺序必须与小部件配置选项中的列顺序相同。\n",
    "```python\n",
    "tree.set('widgets', 'size', '12KB')\n",
    "size = tree.set('widgets', 'size')\n",
    "tree.insert('', 'end', text='Listbox', values=('15KB', 'Yesterday', 'mark'))\n",
    "```"
   ]
  },
  {
   "cell_type": "markdown",
   "metadata": {},
   "source": [
    "## 项目外观与事件处理\n",
    "如同文本和画布小部件，树视图（treeview）小部件也使用标签来修改树中项的外观。我们可以通过标签项配置选项给每个项分配一个标签列表（同样，在创建项时或之后进行）。\n",
    "\n",
    "然后，可以在标签上指定配置选项，应用于所有拥有该标签的项。有效的标签选项包括前景色（文字颜色）、背景、字体和图像（如果项指定了自己的图像则不使用图像）。\n",
    "\n",
    "我们还可以创建事件绑定到标签上来捕获鼠标点击、键盘事件等。\n",
    "\n",
    "```python\n",
    "tree.insert('', 'end', text='button', tags=('ttk', 'simple'))\n",
    "tree.tag_configure('ttk', background='yellow')\n",
    "tree.tag_bind('ttk', '<1>', itemClicked)\n",
    "# 被点击的项可以通过 tree.focus() 找到\n",
    "```\n",
    "树视图将生成虚拟事件 `<<TreeviewSelect>>`, `<<TreeviewOpen>>`, 和 `<<TreeviewClose>>`，这允许我们监控用户对小部件所做的更改。我们可以使用选择方法来确定当前选择（也可以从你的程序中改变选择）。\n",
    "\n",
    "## 自定义显示\n",
    "我们可以自定义树视图小部件显示方式的许多方面。我们已经看到了一些，例如项的文本、字体和颜色、列标题的名称等等。以下是一些额外的自定义选项。\n",
    "\n",
    "- 使用高度小部件配置选项指定要显示的行数。\n",
    "- 通过列的宽度或最小宽度选项控制每列的宽度。持有树的列可以通过符号名称 `#0` 访问。整个小部件请求的宽度基于列宽的总和。\n",
    "- 使用 `displaycolumns` 小部件配置选项选择要显示的列及其显示顺序。\n",
    "- 你可以选择性地隐藏一个或两个列标题或树本身（仅留下列），使用 `show` 小部件配置选项（默认是 `\"tree headings\"` 以显示两者）。\n",
    "- 你可以通过 `selectmode` 小部件配置选项指定用户可以选择单个项或多个项，传递 `browse`（单个项）、`extended`（多个项，默认）或 `none`。"
   ]
  }
 ],
 "metadata": {
  "language_info": {
   "name": "python"
  }
 },
 "nbformat": 4,
 "nbformat_minor": 2
}
