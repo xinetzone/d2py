{
 "cells": [
  {
   "cell_type": "markdown",
   "metadata": {},
   "source": [
    "# Tk 概念\n",
    "\n",
    "Tk 所需的三个广泛概念：小部件、几何管理和事件处理。\n",
    "\n",
    "## 小部件\n",
    "\n",
    "小部件是所有你在屏幕上看到的东西。小部件通常被称为“控件”。有时你也会看到它们被称为“窗口”，特别是在 Tk 的文档中。这是从其 X11 根源遗留下来的（在该术语下，你的顶级应用程序窗口和按钮都被称为窗口）。\n",
    "\n",
    "### 创建小部件\n",
    "\n",
    "每个单独的小部件都是 Python 对象。实例化小部件时，你必须将其父级作为参数传递给小部件类。唯一的例外是“根”窗口，即包含所有其他内容的顶层窗口。当你实例化 Tk 时，它会自动创建。它没有父级。例如：\n",
    "\n",
    "```python\n",
    "root = Tk()\n",
    "content = ttk.Frame(root)\n",
    "button = ttk.Button(content)\n",
    "```\n",
    "\n",
    "是否将小部件对象保存在变量中完全取决于你，这取决于你以后是否需要引用它。由于对象被插入到小部件层次结构中，即使你不保留自己的引用，它也不会被垃圾回收。\n",
    "\n",
    "如果你偷看一下 Tcl 如何管理小部件，你会发现每个小部件都有一个特定的路径名；你还会在 Tk 参考文档中看到这个路径名的引用。Tkinter 在幕后为你选择和管理所有这些路径名，所以你永远不必担心它们。如果你需要，可以通过调用 `str(widget)` 来获取小部件的路径名。"
   ]
  },
  {
   "cell_type": "markdown",
   "metadata": {},
   "source": [
    "### 配置选项\n",
    "\n",
    "所有小部件都有一些配置选项，用于控制小部件的显示方式或行为。\n",
    "\n",
    "当然，小部件的可用选项取决于小部件类。不同小部件类之间有很多一致性，所以执行类似功能的一些选项通常具有相同的名称。例如，按钮和标签都有一个文本选项来调整小部件显示的文本，而滚动条则没有文本选项，因为它不需要。同样，按钮有一个命令选项，告诉它在被按下时做什么，而标签只持有静态文本，因此没有这个选项。\n",
    "\n",
    "可以在创建小部件时通过指定它们的名称和值作为可选参数来设置配置选项。稍后，你可以检索这些选项的当前值，并在极少数例外情况下随时更改它们。\n",
    "\n",
    "如果你不确定小部件支持哪些配置选项，可以要求小部件描述它们。这会给出它的所有选项的长列表。\n",
    "\n",
    "所有这些都可以通过与解释器的以下交互式对话框最好地说明。"
   ]
  },
  {
   "cell_type": "markdown",
   "metadata": {},
   "source": [
    "```python\n",
    ">>> from tkinter import *\n",
    ">>> from tkinter import ttk\n",
    ">>> root = Tk()\n",
    "create a button, passing two options:\n",
    ">>> button = ttk.Button(root, text=\"Hello\", command=\"buttonpressed\")\n",
    ">>> button.grid()\n",
    "check the current value of the text option:\n",
    ">>> button['text']\n",
    "'Hello'\n",
    "change the value of the text option:\n",
    ">>> button['text'] = 'goodbye'\n",
    "another way to do the same thing:\n",
    ">>> button.configure(text='goodbye')\n",
    "check the current value of the text option:\n",
    ">>> button['text']\n",
    "'goodbye'\n",
    "get all information about the text option:\n",
    ">>> button.configure('text')\n",
    "('text', 'text', 'Text', '', 'goodbye')\n",
    "get information on all options for this widget:\n",
    ">>> button.configure()\n",
    "{'cursor': ('cursor', 'cursor', 'Cursor', '', ''), 'style': ('style', 'style', 'Style', '', ''), \n",
    "'default': ('default', 'default', 'Default', <index object at 0x00DFFD10>, <index object at 0x00DFFD10>), \n",
    "'text': ('text', 'text', 'Text', '', 'goodbye'), 'image': ('image', 'image', 'Image', '', ''), \n",
    "'class': ('class', '', '', '', ''), 'padding': ('padding', 'padding', 'Pad', '', ''), \n",
    "'width': ('width', 'width', 'Width', '', ''), \n",
    "'state': ('state', 'state', 'State', <index object at 0x0167FA20>, <index object at 0x0167FA20>), \n",
    "'command': ('command', 'command' , 'Command', '', 'buttonpressed'), \n",
    "'textvariable': ('textvariable', 'textVariable', 'Variable', '', ''), \n",
    "'compound': ('compound', 'compound', 'Compound', <index object at 0x0167FA08>, <index object at 0x0167FA08>), \n",
    "'underline': ('underline', 'underline', 'Underline', -1, -1), \n",
    "'takefocus': ('takefocus', 'takeFocus', 'TakeFocus', '', 'ttk::takefocus')}\n",
    "```"
   ]
  },
  {
   "cell_type": "markdown",
   "metadata": {},
   "source": [
    "您可以看到，对于每个选项，Tk都会显示该选项的名称及其当前值（以及其他三个通常可以忽略的属性）。\n",
    "\n",
    "好的，如果您真的想知道，这里是每个配置选项提供的五项数据的详细信息。最有用的两项是第一项，即选项的名称，以及第五项，即选项的当前值。第四项是选项的默认值，换句话说，如果您没有更改它，它将具有的值。其他两项与所谓的选项数据库有关。当我们讨论菜单时会简要提到它，但它在现代应用程序中并不使用。第二项是选项在数据库中的名称，第三项是它的类别。"
   ]
  },
  {
   "cell_type": "markdown",
   "metadata": {},
   "source": [
    "## 小部件自省\n",
    "\n",
    "Tk 提供了关于每个小部件的丰富信息，您的应用程序可以利用这些信息。其中大部分信息可以通过 `winfo` 设施获得。\n",
    "\n",
    "这个简短的例子遍历了小部件层次结构，使用每个小部件的 `winfo_children` 方法来识别需要检查的子小部件。对于每个小部件，我们打印一些基本信息，包括其类别（按钮、框架等）、宽度、高度以及相对于其父小部件的位置。"
   ]
  },
  {
   "cell_type": "markdown",
   "metadata": {},
   "source": [
    "```python\n",
    "def print_hierarchy(w, depth=0):\n",
    "    print('  '*depth + w.winfo_class() + ' w=' + str(w.winfo_width()) + ' h=' + str(w.winfo_height()) + ' x=' + str(w.winfo_x()) + ' y=' + str(w.winfo_y()))\n",
    "    for i in w.winfo_children():\n",
    "        print_hierarchy(i, depth+1)\n",
    "\n",
    "print_hierarchy(root)\n",
    "```"
   ]
  },
  {
   "cell_type": "markdown",
   "metadata": {},
   "source": [
    "以下是一些最有用的方法：\n",
    "\n",
    "`winfo_class`\n",
    ":   标识小部件类型的类，例如 TButton 表示主题按钮。\n",
    "\n",
    "`winfo_children`\n",
    ":   层次结构中某个小部件的直接子小部件列表。\n",
    "\n",
    "`winfo_parent`\n",
    ":   层次结构中小部件的父小部件。\n",
    "\n",
    "`winfo_toplevel`\n",
    ":   包含此小部件的顶级窗口。\n",
    "\n",
    "`winfo_width, winfo_height`\n",
    ":   小部件的当前宽度和高度；在屏幕上显示之前可能不准确。\n",
    "\n",
    "`winfo_reqwidth, winfo_reqheight`\n",
    ":   小部件请求几何管理器的宽度和高度（稍后会详细介绍）。\n",
    "\n",
    "`winfo_x, winfo_y`\n",
    ":   小部件相对于其父小部件的左上角位置。\n",
    "\n",
    "`winfo_rootx, winfo_rooty`:\n",
    ":   小部件相对于整个屏幕的左上角位置。\n",
    "\n",
    "`winfo_vieweable`\n",
    ":   小部件是否显示或隐藏（层次结构中的所有祖先小部件都必须可见，它才能被看到）。"
   ]
  },
  {
   "cell_type": "markdown",
   "metadata": {},
   "source": [
    "## 几何管理\n",
    "如果您已经运行过交互式代码，您可能已经注意到，仅仅通过创建小部件并不能使它们在屏幕上显示。将小部件放置在屏幕上（以及精确放置的位置）是一个单独的步骤，称为几何管理。\n",
    "\n",
    "在我们的示例中，每个小部件的定位是通过 grid 命令完成的。我们指定了我们希望每个小部件所在的列和行、网格中的对齐方式等。Grid 是几何管理器的一个示例（Tk 中有几种几何管理器，grid 是最有用的之一）。现在，我们将总体看一下几何管理；我们将在后面的章节讨论 grid。\n",
    "\n",
    "几何管理器的任务是准确地确定这些小部件将被放在哪里。这实际上是一个复杂的优化问题，一个好的几何管理器依赖于相当复杂的算法。一个好的几何管理器提供了灵活性、功能强大且易于使用的特点，这使得程序员感到满意。它还使得无需费尽周折就能轻松创建吸引人的用户界面布局。毫无疑问，Tk 的 grid 是绝对最好的几何管理器之一。"
   ]
  },
  {
   "cell_type": "markdown",
   "metadata": {},
   "source": [
    "## 事件处理\n",
    "与大多数用户界面工具包一样，Tk 运行事件循环，该循环从操作系统接收事件。这些事件包括按钮按下、键盘敲击、鼠标移动、窗口调整大小等。\n",
    "\n",
    "通常，Tk 会为您管理这个事件循环。它会确定事件适用于哪个小部件（用户是否点击了这个按钮？如果按下了键，哪个文本框有焦点？），并相应地派发事件。各个小部件知道如何响应事件；例如，当鼠标移到按钮上时，按钮可能会改变颜色，当鼠标离开时恢复原状。"
   ]
  },
  {
   "cell_type": "markdown",
   "metadata": {},
   "source": [
    "### 命令回调\n",
    "您通常希望您的程序以特定方式处理某些事件，例如在按下按钮时执行某些操作。对于这些最常自定义的事件（如果没有在按下按钮时发生某些事情，按钮还有什么用呢？），小部件将允许您将其指定为小部件配置选项的回调。我们在按钮的示例中看到了这一点。\n",
    "\n",
    "```python\n",
    "def calculate(*args):\n",
    "    ...\n",
    "\n",
    "ttk.Button(mainframe, text=\"Calculate\", command=calculate)\n",
    "```\n",
    "\n",
    "在 Tk 中的回调通常比在与编译语言一起使用的用户界面工具包中的回调要简单（其中回调必须是一个具有特定参数集的过程或具有特定签名的对象方法）。相反，回调只是解释器评估的普通代码片段。虽然它可以像您想要的那样复杂，但大多数时候，您只是想让您的回调调用其他过程。"
   ]
  },
  {
   "cell_type": "markdown",
   "metadata": {},
   "source": [
    "### 绑定到事件\n",
    "对于没有小部件特定命令回调关联的事件，您可以使用 Tk 的 bind 来捕获任何事件，然后（像回调一样）执行任意代码片段。\n",
    "\n",
    "这里是一个（愚蠢的）示例，显示一个标签响应不同的事件。当事件发生时，事件的描述会显示在标签中。\n",
    "\n",
    "```python\n",
    "from tkinter import *\n",
    "from tkinter import ttk\n",
    "root = Tk()\n",
    "l =ttk.Label(root, text=\"Starting...\")\n",
    "l.grid()\n",
    "l.bind('<Enter>', lambda e: l.configure(text='Moved mouse inside'))\n",
    "l.bind('<Leave>', lambda e: l.configure(text='Moved mouse outside'))\n",
    "l.bind('<ButtonPress-1>', lambda e: l.configure(text='Clicked left mouse button'))\n",
    "l.bind('<3>', lambda e: l.configure(text='Clicked right mouse button'))\n",
    "l.bind('<Double-1>', lambda e: l.configure(text='Double clicked'))\n",
    "l.bind('<B3-Motion>', lambda e: l.configure(text='right button drag to %d,%d' % (e.x, e.y)))\n",
    "root.mainloop()\n",
    "```"
   ]
  },
  {
   "cell_type": "markdown",
   "metadata": {},
   "source": [
    "前两个绑定非常简单，只是监视简单事件。`<Enter>` 事件意味着鼠标移动到小部件上，而 `<Leave>` 事件是在鼠标移动到另一个不同的小部件外部时生成的。\n",
    "\n",
    "下一个绑定查找鼠标点击事件，具体是 `<ButtonPress-1>` 事件。这里，`<ButtonPress>` 是实际事件，但 `-1` 是事件细节，指定鼠标上的主按钮（左键）。该绑定仅在生成涉及主鼠标按钮的 `<ButtonPress>` 事件时触发。如果单击了另一个鼠标按钮，则此绑定会忽略它。\n",
    "\n",
    "下一个绑定查找 `<3>` 事件。这实际上是 `<ButtonPress-3>` 的简写。它会响应右键单击事件。下一个绑定 `<Double-1>`（即 `<Double-ButtonPress-1>` 的简写）添加了另一个修饰符 `Double`，因此它将响应左键双击事件。\n",
    "\n",
    "最后一个绑定也使用了修饰符：捕获鼠标移动（Motion），但仅当按住右键（B3）时。这个绑定还展示了如何使用事件参数的示例。许多事件携带额外的信息，例如鼠标点击时的位置。Tk 通过使用百分号替换（percent substitutions）在 Tcl 回调脚本中提供对这些参数的访问。这些百分号替换允许您捕获它们以便在脚本中使用。\n",
    "\n",
    "Tkinter 抽象掉了这些百分号替换，而是将所有事件参数封装在一个事件对象中。在上面，我们使用了 x 和 y 字段来检索鼠标位置。稍后我们将在另一个上下文中看到百分号替换的使用，即条目小部件验证。\n",
    "\n",
    "```{tip}\n",
    "这些 Lambda 表达式是怎么回事？Tkinter 期望您提供一个函数作为事件回调，该函数的第一个参数是一个表示触发回调的事件的事件对象。有时，为一次性的琐碎回调定义常规的命名函数不值得，比如在这个例子中。相反，我们只是使用了 Python 的匿名函数（通过 lambda）。在实际应用中，您几乎总是会使用一个常规函数，例如我们在英尺到米示例中的 calculate 函数，或者一个对象的方法。\n",
    "```"
   ]
  },
  {
   "cell_type": "markdown",
   "metadata": {},
   "source": [
    "### 事件绑定的多重性\n",
    "我们刚刚看到了如何为单个小部件设置事件绑定。当该小部件接收到匹配的事件时，绑定将被触发。但这还不是全部功能。\n",
    "\n",
    "您的绑定不仅可以捕获单一事件，还可以捕获一系列简短的事件序列。`<Double-1>` 绑定在短短的时间内发生两次鼠标点击时触发。您可以做同样的事情来捕获按顺序按下的两个键，例如 `<KeyPress-A><KeyPress-B>` 或简单地 `<ab>`。\n",
    "\n",
    "您还可以在顶层窗口上设置事件绑定。当在该窗口中的任何地方发生匹配事件时，绑定将被触发。在我们的示例中，我们在主应用程序顶层窗口上设置了 Return 键的绑定。如果在任何顶层窗口中的任何小部件具有焦点时按下 Return 键，该绑定将被触发。\n",
    "\n",
    "较少见的是，您可以创建在整个应用程序中的任何地方发生匹配事件时触发的事件绑定，甚至针对给定类的所有小部件接收到的事件，例如所有按钮。"
   ]
  },
  {
   "cell_type": "markdown",
   "metadata": {},
   "source": [
    "```{tip}\n",
    "一个事件可以触发多个绑定。这使事件处理程序简洁且范围有限，意味着代码更具模块化。例如，Tk 中每个小部件类的行为本身是通过脚本级事件绑定定义的。这些绑定与应用程序中的事件绑定是分开的。事件绑定也可以更改或删除。它们可以被修改以改变特定类的小部件或应用程序部分的事件处理方式。您可以重新排序、扩展或更改每个小部件将触发的事件绑定序列；如果您感兴趣，请查看 [bindtags](https://tcl.tk/man/tcl8.6/TkCmd/bindtags.htm) 命令参考。\n",
    "```"
   ]
  },
  {
   "cell_type": "markdown",
   "metadata": {},
   "source": [
    "好的，我会将你提供的段落翻译为中文，内容如下：\n",
    "\n",
    "可用事件\n",
    "下面描述了最常用的事件以及它们生成的情况。有些事件在某些平台上生成，而在其他平台上不生成。要查看所有不同事件名称、修饰符和每个事件可用的不同参数的完整描述，最好的地方是 bind 命令参考。\n",
    "\n",
    "`<Activate>`\n",
    ":   窗口已变为活动状态。\n",
    "`<Deactivate>`\n",
    ":   窗口已被停用。\n",
    "`<MouseWheel>`\n",
    ":   鼠标滚轮被移动。\n",
    "`<KeyPress>`:\n",
    ":   键盘上的键被按下。\n",
    "`<KeyRelease>`\n",
    ":   按键被释放。\n",
    "`<ButtonPress>`\n",
    ":   鼠标按钮被按下。\n",
    "`<ButtonRelease>`\n",
    ":   鼠标按钮被释放。\n",
    "`<Motion>`\n",
    ":   鼠标被移动。\n",
    "`<Configure>`\n",
    ":   小部件的大小或位置已改变。\n",
    "`<Destroy>`\n",
    ":   小部件正在被销毁。\n",
    "`<FocusIn>`\n",
    ":   小部件已获得键盘焦点。\n",
    "`<FocusOut>`\n",
    ":   小部件已失去键盘焦点。\n",
    "\n",
    "`<Enter>`\n",
    ":   鼠标指针进入小部件。\n",
    "\n",
    "`<Leave>`:\n",
    ":   鼠标指针离开小部件。\n",
    "鼠标事件的详细情况是按下的按钮，例如 1、2 或 3。对于键盘事件，它是具体的键，例如 A、9、空格、加号、逗号、等号。完整的列表可以在 keysyms 命令参考中找到。\n",
    "\n",
    "事件修饰符可以包括，例如 B1 或 Button1 表示按住主鼠标按钮，Double 或 Triple 表示相同事件的序列。当键盘上的键被按住时，可以使用 Control、Shift、Alt、Option 和 Command 作为键修饰符。"
   ]
  },
  {
   "cell_type": "markdown",
   "metadata": {},
   "source": [
    "### 虚拟事件\n",
    "\n",
    "到目前为止我们看到的事件是低级别的操作系统事件，例如鼠标点击和窗口调整大小。许多小部件还生成更高级别的、语义化的虚拟事件。这些事件在事件名称周围用双尖括号表示，例如 `<<foo>>`。\n",
    "\n",
    "例如，列表框小部件在其选择更改时会生成一个 `<<ListboxSelect>>` 虚拟事件。无论用户是通过单击项目、使用箭头键移动到它还是其他方式，都会生成相同的虚拟事件。虚拟事件避免了设置多个可能特定于平台的事件绑定以捕获常见变化的问题。小部件可用的虚拟事件将在该小部件类的文档中列出。\n",
    "\n",
    "Tk 还为不同平台触发的不同方式定义了常见的操作虚拟事件。这些包括 `<<Cut>>`、`<<Copy>>` 和 `<<Paste>>`。\n",
    "\n",
    "您可以定义自己的虚拟事件，这些事件可以特定于您的应用程序。这是一种有用的方法，可以在单个模块中隔离特定于平台的细节，同时在您的应用程序中使用虚拟事件。您的代码可以生成以与 Tk 生成的虚拟事件完全相同的方式工作的虚拟事件。\n",
    "```python\n",
    "root.event_generate(\"<<MyOwnEvent>>\")\n",
    "```"
   ]
  },
  {
   "cell_type": "markdown",
   "metadata": {},
   "source": []
  }
 ],
 "metadata": {
  "kernelspec": {
   "display_name": "xxx",
   "language": "python",
   "name": "python3"
  },
  "language_info": {
   "codemirror_mode": {
    "name": "ipython",
    "version": 3
   },
   "file_extension": ".py",
   "mimetype": "text/x-python",
   "name": "python",
   "nbconvert_exporter": "python",
   "pygments_lexer": "ipython3",
   "version": "3.12.2"
  }
 },
 "nbformat": 4,
 "nbformat_minor": 2
}
