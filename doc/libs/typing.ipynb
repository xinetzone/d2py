{
 "cells": [
  {
   "cell_type": "markdown",
   "metadata": {},
   "source": [
    "# {mod}`typing` 对类型提示的支持"
   ]
  },
  {
   "cell_type": "markdown",
   "metadata": {},
   "source": [
    "## 只读 {class}`~typing.ReadOnly`"
   ]
  },
  {
   "cell_type": "markdown",
   "metadata": {},
   "source": [
    "{class}`~typing.ReadOnly` 用于将 {class}`~typing.TypedDict` 的项标记为只读的特殊的类型标注构造。\n",
    "\n",
    "例如："
   ]
  },
  {
   "cell_type": "code",
   "execution_count": 1,
   "metadata": {},
   "outputs": [
    {
     "ename": "ImportError",
     "evalue": "cannot import name 'ReadOnly' from 'typing' (/media/pc/data/lxw/envs/anaconda3x/envs/xxx/lib/python3.12/typing.py)",
     "output_type": "error",
     "traceback": [
      "\u001b[0;31m---------------------------------------------------------------------------\u001b[0m",
      "\u001b[0;31mImportError\u001b[0m                               Traceback (most recent call last)",
      "Cell \u001b[0;32mIn[1], line 1\u001b[0m\n\u001b[0;32m----> 1\u001b[0m \u001b[38;5;28;01mfrom\u001b[39;00m \u001b[38;5;21;01mtyping\u001b[39;00m \u001b[38;5;28;01mimport\u001b[39;00m TypedDict, ReadOnly\n\u001b[1;32m      2\u001b[0m \u001b[38;5;28;01mclass\u001b[39;00m \u001b[38;5;21;01mMovie\u001b[39;00m(TypedDict):\n\u001b[1;32m      3\u001b[0m    title: ReadOnly[\u001b[38;5;28mstr\u001b[39m]\n",
      "\u001b[0;31mImportError\u001b[0m: cannot import name 'ReadOnly' from 'typing' (/media/pc/data/lxw/envs/anaconda3x/envs/xxx/lib/python3.12/typing.py)"
     ]
    }
   ],
   "source": [
    "from typing import TypedDict, ReadOnly\n",
    "class Movie(TypedDict):\n",
    "   title: ReadOnly[str]\n",
    "   year: int\n",
    "\n",
    "def mutate_movie(m: Movie) -> None:\n",
    "   m[\"year\"] = 1999  # allowed\n",
    "   m[\"title\"] = \"The Matrix\"  # 类型检查错误"
   ]
  },
  {
   "cell_type": "code",
   "execution_count": null,
   "metadata": {},
   "outputs": [],
   "source": []
  }
 ],
 "metadata": {
  "kernelspec": {
   "display_name": "Python 3",
   "language": "python",
   "name": "python3"
  },
  "language_info": {
   "codemirror_mode": {
    "name": "ipython",
    "version": 3
   },
   "file_extension": ".py",
   "mimetype": "text/x-python",
   "name": "python",
   "nbconvert_exporter": "python",
   "pygments_lexer": "ipython3",
   "version": "3.12.2"
  }
 },
 "nbformat": 4,
 "nbformat_minor": 2
}
