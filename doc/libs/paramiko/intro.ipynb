{
 "cells": [
  {
   "cell_type": "markdown",
   "metadata": {},
   "source": [
    "# Paramiko 简介\n",
    "\n",
    "[Paramiko](https://www.paramiko.org/) 是纯 Python（3.6+）实现的 SSHv2 协议，提供客户端和服务器功能。它为高级 SSH 库 [Fabric](https://fabfile.org/) 提供了基础，建议在常见客户端用例（如运行远程 shell 命令或传输文件）中使用 Fabric。\n",
    "\n",
    "直接使用 Paramiko 本身仅适用于需要高级/低级原语的用户，或者希望在 Python 中运行 sshd 的用户。"
   ]
  },
  {
   "cell_type": "markdown",
   "metadata": {},
   "source": [
    "安装：\n",
    "```bash\n",
    "pip install paramiko\n",
    "```"
   ]
  },
  {
   "cell_type": "markdown",
   "metadata": {},
   "source": [
    "高级客户端 API 从创建 {class}`~paramiko.client.SSHClient` 对象开始。要进行更直接的控制，请将套接字（或类似于套接字的对象）传递给 {class}`~paramiko.transport.Transport`，并使用{meth}`~paramiko.transport.Transport.start_server` 或 {meth}`~paramiko.transport.Transport.start_client` 与作为服务器或客户端的远程主机进行协商。作为客户端，您负责使用密码或私钥进行身份验证，并检查服务器的主机密钥。（密钥签名和验证由 Paramiko 完成，但您需要提供私钥并检查公钥的内容是否与您预期看到的内容匹配。）作为服务器，您负责决定允许哪些用户、密码和密钥，以及允许哪种通道。完成后，任何一方都可以向另一方请求流控制 {class}`~paramiko.channel.Channel`，这是类似于套接字的 Python 对象，但通过加密会话发送和接收数据。"
   ]
  },
  {
   "cell_type": "code",
   "execution_count": 6,
   "metadata": {},
   "outputs": [],
   "source": [
    "from io import StringIO, TextIOWrapper\n",
    "\n",
    "output = StringIO()\n",
    "output.write('First line.\\n')\n",
    "print('Second line.', file=output)\n",
    "\n",
    "# 提取文件内容 -- 这将为\n",
    "# 'First line.\\nSecond line.\\n'\n",
    "contents = output.getvalue()\n",
    "\n",
    "# 关闭对象并丢弃内存缓冲区 --\n",
    "# 现在 .getvalue() 将引发一个异常。\n",
    "output.close()"
   ]
  },
  {
   "cell_type": "code",
   "execution_count": null,
   "metadata": {},
   "outputs": [
    {
     "name": "stdout",
     "output_type": "stream",
     "text": [
      "Hello, World!\n"
     ]
    }
   ],
   "source": []
  },
  {
   "cell_type": "code",
   "execution_count": null,
   "metadata": {},
   "outputs": [],
   "source": []
  }
 ],
 "metadata": {
  "kernelspec": {
   "display_name": "xxx",
   "language": "python",
   "name": "python3"
  },
  "language_info": {
   "codemirror_mode": {
    "name": "ipython",
    "version": 3
   },
   "file_extension": ".py",
   "mimetype": "text/x-python",
   "name": "python",
   "nbconvert_exporter": "python",
   "pygments_lexer": "ipython3",
   "version": "3.12.2"
  }
 },
 "nbformat": 4,
 "nbformat_minor": 2
}
