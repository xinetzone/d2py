{
 "cells": [
  {
   "cell_type": "markdown",
   "metadata": {},
   "source": [
    "# 使用 CFFI ffi/lib 对象\n",
    "\n",
    "## CFFI 操作指针、结构体和数组"
   ]
  },
  {
   "cell_type": "markdown",
   "metadata": {},
   "source": [
    "在 Python 中，C 代码的整数和浮点值映射到常规的 `int`、`long` 和 `float`。此外，C 类型 `char` 对应于 Python 中的单字符字符串。（如果你想将其映射到小整数，可以使用 `signed char` 或 `unsigned char`。）\n",
    "\n",
    "同样，C 类型 `wchar_t` 对应于单字符 `unicode` 字符串。请注意，在某些情况下（具有底层 4 字节 `wchar_t` 类型的窄 Python 构建），单个 `wchar_t` 字符可能对应于一对代理项，表示长度为 2 的 `unicode` 字符串。如果你需要将这样的 2 个字符的 `unicode` 字符串转换为整数，那么 `ord(x)` 不起作用；相反，使用 `int(ffi.cast('wchar_t', x))`。\n",
    "\n",
    "版本 1.11 中的新功能：除了 `wchar_t` 之外，C 类型 `char16_t` 和 `char32_t` 的工作方式相同，但具有已知的固定大小。在以前的版本中，这可以通过使用 `uint16_t` 和 `int32_t` 来实现，但没有自动转换为 Python unicodes 的功能。\n",
    "\n",
    "指针、结构和数组更复杂：它们没有明显的 Python 等价物。因此，它们对应于类型为 `cdata` 的对象，例如 `<cdata 'struct foo_s *' 0xa3290d8>`。\n",
    "\n",
    "`ffi.new(ctype, [initializer])`：此函数构建并返回给定 ctype 的新 cdata 对象。ctype 通常是描述 C 类型的常量字符串。它必须是一个指针或数组类型。如果它是一个指针，例如 `\"int *\"` 或 `struct foo *`，那么它会为一个 `int` 或 `struct foo` 分配内存。如果它是一个数组，例如 `int[10]`，那么它会为十个 `int` 分配内存。在这两种情况下，返回的 cdata 的类型都是 ctype。\n",
    "\n",
    "内存最初填充为零。也可以给出一个初始化器，如后面所述。"
   ]
  },
  {
   "cell_type": "code",
   "execution_count": 1,
   "metadata": {},
   "outputs": [],
   "source": [
    "from cffi import FFI\n",
    "ffi = FFI()"
   ]
  },
  {
   "cell_type": "code",
   "execution_count": 2,
   "metadata": {},
   "outputs": [
    {
     "data": {
      "text/plain": [
       "<cdata 'int *' owning 4 bytes>"
      ]
     },
     "execution_count": 2,
     "metadata": {},
     "output_type": "execute_result"
    }
   ],
   "source": [
    "ffi.new(\"int *\")"
   ]
  },
  {
   "cell_type": "code",
   "execution_count": 3,
   "metadata": {},
   "outputs": [
    {
     "data": {
      "text/plain": [
       "<cdata 'int[10]' owning 40 bytes>"
      ]
     },
     "execution_count": 3,
     "metadata": {},
     "output_type": "execute_result"
    }
   ],
   "source": [
    "ffi.new(\"int[10]\")"
   ]
  },
  {
   "cell_type": "code",
   "execution_count": 4,
   "metadata": {},
   "outputs": [
    {
     "data": {
      "text/plain": [
       "<cdata 'char *' owning 1 bytes>"
      ]
     },
     "execution_count": 4,
     "metadata": {},
     "output_type": "execute_result"
    }
   ],
   "source": [
    "ffi.new(\"char *\")          # allocates only one char---not a C string!"
   ]
  },
  {
   "cell_type": "code",
   "execution_count": 7,
   "metadata": {},
   "outputs": [
    {
     "data": {
      "text/plain": [
       "<cdata 'char[]' owning 7 bytes>"
      ]
     },
     "execution_count": 7,
     "metadata": {},
     "output_type": "execute_result"
    }
   ],
   "source": [
    "ffi.new(\"char[]\", b\"foobar\")  # this allocates a C string, ending in \\0"
   ]
  },
  {
   "cell_type": "markdown",
   "metadata": {},
   "source": [
    "与 C 不同，返回的指针对象对分配的内存具有所有权：当这个确切的对象被垃圾回收时，内存就会被释放。如果在 C 级别上，你将指针存储在别处，那么请确保你也保持该对象的生命周期尽可能长。(这也适用于如果你立即将返回的指针转换为不同类型的指针：只有原始对象拥有所有权，所以你必须保持它的生命周期。一旦你忘记了它，转换后的指针就会指向垃圾！换句话说，所有权规则附加到包装的 cdata 对象上：它们不能也不应附加到底层的原始内存上。) \n",
    "\n",
    "示例："
   ]
  },
  {
   "cell_type": "code",
   "execution_count": 9,
   "metadata": {},
   "outputs": [],
   "source": [
    "import weakref\n",
    "\n",
    "global_weakkeydict = weakref.WeakKeyDictionary()\n",
    "\n",
    "def make_foo():\n",
    "    s1   = ffi.new(\"struct foo *\")\n",
    "    fld1 = ffi.new(\"struct bar *\")\n",
    "    fld2 = ffi.new(\"struct bar *\")\n",
    "    s1.thefield1 = fld1\n",
    "    s1.thefield2 = fld2\n",
    "    # here the 'fld1' and 'fld2' object must not go away,\n",
    "    # otherwise 's1.thefield1/2' will point to garbage!\n",
    "    global_weakkeydict[s1] = (fld1, fld2)\n",
    "    # now 's1' keeps alive 'fld1' and 'fld2'.  When 's1' goes\n",
    "    # away, then the weak dictionary entry will be removed.\n",
    "    return s1"
   ]
  },
  {
   "cell_type": "markdown",
   "metadata": {},
   "source": [
    "通常你不需要使用弱引用字典（weak dict）：例如，要调用一个带有 `char **` 参数的函数，该参数包含一个指向 `char *` 指针的指针，你可以这样做："
   ]
  },
  {
   "cell_type": "code",
   "execution_count": 12,
   "metadata": {},
   "outputs": [],
   "source": [
    "p = ffi.new(\"char[]\", b\"hello, world\")    # p is a 'char *'\n",
    "q = ffi.new(\"char **\", p)                # q is a 'char **'\n",
    "# lib.myfunction(q)\n",
    "# p is alive at least until here, so that's fine"
   ]
  },
  {
   "cell_type": "markdown",
   "metadata": {},
   "source": [
    "然而，这总是错误的做法（使用已释放的内存）："
   ]
  },
  {
   "cell_type": "code",
   "execution_count": 13,
   "metadata": {},
   "outputs": [],
   "source": [
    "p = ffi.new(\"char **\", ffi.new(\"char[]\", b\"hello, world\"))\n",
    "# WRONG!  as soon as p is built, the inner ffi.new() gets freed!"
   ]
  },
  {
   "cell_type": "code",
   "execution_count": 16,
   "metadata": {},
   "outputs": [
    {
     "ename": "TypeError",
     "evalue": "expected a pointer or array ctype, got 'struct my_stuff'",
     "output_type": "error",
     "traceback": [
      "\u001b[0;31m---------------------------------------------------------------------------\u001b[0m",
      "\u001b[0;31mTypeError\u001b[0m                                 Traceback (most recent call last)",
      "Cell \u001b[0;32mIn[16], line 1\u001b[0m\n\u001b[0;32m----> 1\u001b[0m p \u001b[38;5;241m=\u001b[39m \u001b[43mffi\u001b[49m\u001b[38;5;241;43m.\u001b[39;49m\u001b[43mnew\u001b[49m\u001b[43m(\u001b[49m\u001b[38;5;124;43m\"\u001b[39;49m\u001b[38;5;124;43mstruct my_stuff\u001b[39;49m\u001b[38;5;124;43m\"\u001b[39;49m\u001b[43m)\u001b[49m\n\u001b[1;32m      2\u001b[0m p\u001b[38;5;241m.\u001b[39mfoo \u001b[38;5;241m=\u001b[39m ffi\u001b[38;5;241m.\u001b[39mnew(\u001b[38;5;124m\"\u001b[39m\u001b[38;5;124mchar[]\u001b[39m\u001b[38;5;124m\"\u001b[39m, \u001b[38;5;124mb\u001b[39m\u001b[38;5;124m\"\u001b[39m\u001b[38;5;124mhello, world\u001b[39m\u001b[38;5;124m\"\u001b[39m)\n\u001b[1;32m      3\u001b[0m \u001b[38;5;66;03m# WRONG!  as soon as p.foo is set, the ffi.new() gets freed!\u001b[39;00m\n",
      "File \u001b[0;32m/media/pc/data/lxw/envs/anaconda3x/envs/xxx/lib/python3.12/site-packages/cffi/api.py:267\u001b[0m, in \u001b[0;36mFFI.new\u001b[0;34m(self, cdecl, init)\u001b[0m\n\u001b[1;32m    265\u001b[0m \u001b[38;5;28;01mif\u001b[39;00m \u001b[38;5;28misinstance\u001b[39m(cdecl, basestring):\n\u001b[1;32m    266\u001b[0m     cdecl \u001b[38;5;241m=\u001b[39m \u001b[38;5;28mself\u001b[39m\u001b[38;5;241m.\u001b[39m_typeof(cdecl)\n\u001b[0;32m--> 267\u001b[0m \u001b[38;5;28;01mreturn\u001b[39;00m \u001b[38;5;28;43mself\u001b[39;49m\u001b[38;5;241;43m.\u001b[39;49m\u001b[43m_backend\u001b[49m\u001b[38;5;241;43m.\u001b[39;49m\u001b[43mnewp\u001b[49m\u001b[43m(\u001b[49m\u001b[43mcdecl\u001b[49m\u001b[43m,\u001b[49m\u001b[43m \u001b[49m\u001b[43minit\u001b[49m\u001b[43m)\u001b[49m\n",
      "\u001b[0;31mTypeError\u001b[0m: expected a pointer or array ctype, got 'struct my_stuff'"
     ]
    }
   ],
   "source": [
    "p = ffi.new(\"struct my_stuff\")\n",
    "p.foo = ffi.new(\"char[]\", b\"hello, world\")\n",
    "# WRONG!  as soon as p.foo is set, the ffi.new() gets freed!"
   ]
  },
  {
   "cell_type": "markdown",
   "metadata": {},
   "source": [
    "cdata对象支持大部分与C语言相同的操作：您可以从指针、数组和结构中读取或写入。在 C 语言中，通常使用 `*p` 语法来解引用指针，这在 Python 中是不合法的，因此您必须使用替代语法 `p[0]`（这也是有效的 C 语言）。此外，C 语言中的 `p.x` 和 `p->x` 语法在 Python 中都变成了 `p.x`。\n",
    "\n",
    "我们使用 `ffi.NULL` 作为与 C NULL 相同的地方。与后者一样，它实际上被定义为 `ffi.cast(\"void *\", 0)`。例如，读取一个空指针将返回一个 `<cdata 'type *' NULL>`，您可以将其与 `ffi.NULL` 进行比较以进行检查。"
   ]
  },
  {
   "cell_type": "markdown",
   "metadata": {},
   "source": [
    "在 Python 中没有 C 语言中的 `&` 运算符的通用等价物（因为它不适合这个模型，而且在这里似乎不需要）。有一个 `ffi.addressof()` 函数，但只适用于某些情况。例如，您不能获取一个数字的“地址”；同样，您也不能获取 CFFI 指针的地址。如果您有这种类型的 C 代码："
   ]
  },
  {
   "cell_type": "markdown",
   "metadata": {},
   "source": [
    "```c\n",
    "int x, y;\n",
    "fetch_size(&x, &y);\n",
    "\n",
    "opaque_t *handle;      // some opaque pointer\n",
    "init_stuff(&handle);   // initializes the variable 'handle'\n",
    "more_stuff(handle);    // pass the handle around to more functions\n",
    "```"
   ]
  },
  {
   "cell_type": "markdown",
   "metadata": {},
   "source": [
    "当那么你需要这样重写它，用逻辑上指向这些变量的指针替换 C 中的变量："
   ]
  },
  {
   "cell_type": "markdown",
   "metadata": {},
   "source": [
    "```python\n",
    "px = ffi.new(\"int *\")\n",
    "py = ffi.new(\"int *\")              arr = ffi.new(\"int[2]\")\n",
    "lib.fetch_size(px, py)    -OR-     lib.fetch_size(arr, arr + 1)\n",
    "x = px[0]                          x = arr[0]\n",
    "y = py[0]                          y = arr[1]\n",
    "\n",
    "p_handle = ffi.new(\"opaque_t **\")\n",
    "lib.init_stuff(p_handle)   # pass the pointer to the 'handle' pointer\n",
    "handle = p_handle[0]       # now we can read 'handle' out of 'p_handle'\n",
    "lib.more_stuff(handle)\n",
    "```"
   ]
  },
  {
   "cell_type": "markdown",
   "metadata": {},
   "source": [
    "在C语言中，任何返回指针、数组或结构体类型的操作都会生成一个新的cdata对象。与“原始”对象不同，这些新的cdata对象没有所有权：它们只是对现有内存的引用。\n",
    "\n",
    "作为上述规则的一个例外，解引用一个拥有结构体或联合体对象的指针将返回一个“共同拥有”相同内存的cdata结构体或联合体对象。因此在这种情况下，有两个对象可以保持相同的内存活跃。这是为了应对你真的想要一个结构体对象但没有任何方便的地方来保持原始指针对象（通过ffi.new()返回）活跃的情况。\n",
    "\n",
    "示例："
   ]
  },
  {
   "cell_type": "markdown",
   "metadata": {},
   "source": [
    "```python\n",
    "# void somefunction(int *);\n",
    "\n",
    "x = ffi.new(\"int *\")      # allocate one int, and return a pointer to it\n",
    "x[0] = 42                 # fill it\n",
    "lib.somefunction(x)       # call the C function\n",
    "print(x[0])                # read the possibly-changed value\n",
    "```"
   ]
  },
  {
   "cell_type": "markdown",
   "metadata": {},
   "source": [
    "C语言中的类型转换在 Python 中可以通过 `ffi.cast(\"type\", value)` 实现。它们应该能在与C语言相同的场景下工作。此外，这是获取整数或浮点类型的cdata对象的唯一方法："
   ]
  },
  {
   "cell_type": "code",
   "execution_count": 17,
   "metadata": {},
   "outputs": [
    {
     "data": {
      "text/plain": [
       "<cdata 'int' 42>"
      ]
     },
     "execution_count": 17,
     "metadata": {},
     "output_type": "execute_result"
    }
   ],
   "source": [
    "x = ffi.cast(\"int\", 42)\n",
    "x"
   ]
  },
  {
   "cell_type": "code",
   "execution_count": 18,
   "metadata": {},
   "outputs": [
    {
     "data": {
      "text/plain": [
       "42"
      ]
     },
     "execution_count": 18,
     "metadata": {},
     "output_type": "execute_result"
    }
   ],
   "source": [
    "int(x)"
   ]
  },
  {
   "cell_type": "markdown",
   "metadata": {},
   "source": [
    "要将指针转换为 `int`，将其转换为 `intptr_t` 或 `uintptr_t`，这些类型在C中被定义为足够大的整数类型（例如在32位系统上）："
   ]
  },
  {
   "cell_type": "markdown",
   "metadata": {},
   "source": [
    "```python\n",
    ">>> int(ffi.cast(\"intptr_t\", pointer_cdata))    # signed\n",
    "-1340782304\n",
    ">>> int(ffi.cast(\"uintptr_t\", pointer_cdata))   # unsigned\n",
    "2954184992L\n",
    "```"
   ]
  },
  {
   "cell_type": "markdown",
   "metadata": {},
   "source": [
    "作为 `ffi.new()` 的可选第二个参数给出的初始化器可以是你在C代码中用作初始化器的任何东西，使用列表或元组代替C语法 `{ .., .., .. }`。示例："
   ]
  },
  {
   "cell_type": "markdown",
   "metadata": {},
   "source": [
    "```\n",
    "typedef struct { int x, y; } foo_t;\n",
    "\n",
    "foo_t v = { 1, 2 };            // C syntax\n",
    "v = ffi.new(\"foo_t *\", [1, 2]) # CFFI equivalent\n",
    "\n",
    "foo_t v = { .y=1, .x=2 };                // C99 syntax\n",
    "v = ffi.new(\"foo_t *\", {'y': 1, 'x': 2}) # CFFI equivalent\n",
    "```"
   ]
  },
  {
   "cell_type": "markdown",
   "metadata": {},
   "source": [
    "与C语言一样，字符数组也可以从字符串进行初始化，在这种情况下，会隐式地附加一个终止空字符（null character）："
   ]
  },
  {
   "cell_type": "code",
   "execution_count": 21,
   "metadata": {},
   "outputs": [
    {
     "data": {
      "text/plain": [
       "<cdata 'char[]' owning 6 bytes>"
      ]
     },
     "execution_count": 21,
     "metadata": {},
     "output_type": "execute_result"
    }
   ],
   "source": [
    "x = ffi.new(\"char[]\", b\"hello\")\n",
    "x"
   ]
  },
  {
   "cell_type": "code",
   "execution_count": 22,
   "metadata": {},
   "outputs": [
    {
     "data": {
      "text/plain": [
       "6"
      ]
     },
     "execution_count": 22,
     "metadata": {},
     "output_type": "execute_result"
    }
   ],
   "source": [
    "len(x)        # the actual size of the array"
   ]
  },
  {
   "cell_type": "code",
   "execution_count": 23,
   "metadata": {},
   "outputs": [
    {
     "data": {
      "text/plain": [
       "b'\\x00'"
      ]
     },
     "execution_count": 23,
     "metadata": {},
     "output_type": "execute_result"
    }
   ],
   "source": [
    "x[5]          # the last item in the array"
   ]
  },
  {
   "cell_type": "code",
   "execution_count": 25,
   "metadata": {},
   "outputs": [],
   "source": [
    "x[0] = b'H'    # change the first item"
   ]
  },
  {
   "cell_type": "code",
   "execution_count": 26,
   "metadata": {},
   "outputs": [
    {
     "data": {
      "text/plain": [
       "b'Hello'"
      ]
     },
     "execution_count": 26,
     "metadata": {},
     "output_type": "execute_result"
    }
   ],
   "source": [
    "ffi.string(x) # interpret 'x' as a regular null-terminated string"
   ]
  },
  {
   "cell_type": "markdown",
   "metadata": {},
   "source": [
    "类似地，wchar_t、char16_t或char32_t数组可以从unicode字符串进行初始化，并且在cdata对象上调用ffi.string()将返回存储在源数组中的当前unicode字符串（如果需要，添加代理项）。有关更多详细信息，请参阅Unicode字符类型部分。\n",
    "\n",
    "请注意，与Python列表或元组不同，但与C语言相同，您不能使用负数从C数组的末尾进行索引。\n",
    "\n",
    "更一般地说，只要可以从初始化器中推导出长度，C数组类型就可以在其C类型中不指定长度，就像在C语言中一样："
   ]
  },
  {
   "cell_type": "code",
   "execution_count": 27,
   "metadata": {},
   "outputs": [],
   "source": [
    "# int array[] = { 1, 2, 3, 4 };           // C syntax\n",
    "array = ffi.new(\"int[]\", [1, 2, 3, 4])  # CFFI equivalent"
   ]
  },
  {
   "cell_type": "markdown",
   "metadata": {},
   "source": [
    "作为一种扩展，初始化器还可以只是一个数字，用于给出长度（如果您只需要零初始化）："
   ]
  },
  {
   "cell_type": "code",
   "execution_count": 28,
   "metadata": {},
   "outputs": [],
   "source": [
    "# int array[1000];                  // C syntax\n",
    "array = ffi.new(\"int[1000]\")      # CFFI 1st equivalent\n",
    "array = ffi.new(\"int[]\", 1000)    # CFFI 2nd equivalent"
   ]
  },
  {
   "cell_type": "markdown",
   "metadata": {},
   "source": [
    "如果长度实际上不是一个常数，这很有用，可以避免使用诸如 `ffi.new(\"int[%d]\" % x)`之类的操作。事实上，这是不推荐的：`ffi` 通常会缓存字符串 `\"int[]\"` 以避免每次都重新解析它。\n",
    "\n",
    "C99 的可变大小结构体也得到了支持，只要初始化器说明了数组应该有多长：\n",
    "\n",
    "```python\n",
    "# typedef struct { int x; int y[]; } foo_t;\n",
    "\n",
    "p = ffi.new(\"foo_t *\", [5, [6, 7, 8]]) # length 3\n",
    "p = ffi.new(\"foo_t *\", [5, 3])         # length 3 with 0 in the array\n",
    "p = ffi.new(\"foo_t *\", {'y': 3})       # length 3 with 0 everywhere\n",
    "```"
   ]
  },
  {
   "cell_type": "markdown",
   "metadata": {},
   "source": [
    "最后，请注意，任何用作初始化器的 Python 对象也可以在不使用 `ffi.new()` 的情况下直接用于数组项或结构字段的赋值操作。实际上，`p = ffi.new(\"T*\", initializer)` 等同于 `p = ffi.new(\"T*\"); p[0] = initializer`。示例：\n",
    "\n",
    "```python\n",
    "# if 'p' is a <cdata 'int[5][5]'>\n",
    "p[2] = [10, 20]             # writes to p[2][0] and p[2][1]\n",
    "\n",
    "# if 'p' is a <cdata 'foo_t *'>, and foo_t has fields x, y and z\n",
    "p[0] = {'x': 10, 'z': 20}   # writes to p.x and p.z; p.y unmodified\n",
    "\n",
    "# if, on the other hand, foo_t has a field 'char a[5]':\n",
    "p.a = \"abc\"                 # writes 'a', 'b', 'c' and '\\0'; p.a[4] unmodified\n",
    "```"
   ]
  },
  {
   "cell_type": "markdown",
   "metadata": {},
   "source": [
    "## CFFI Python 3支持\n",
    "Python 3是受支持的，但需要注意的是，C语言中的char类型对应于Python中的bytes类型，而不是str。在将Python字符串传递给CFFI或从CFFI接收它们时，您有责任对所有Python字符串进行编码/解码。\n",
    "\n",
    "这只涉及char类型及其派生类型；API的其他部分在Python 2中接受字符串，在Python 3中继续接受字符串。"
   ]
  },
  {
   "cell_type": "markdown",
   "metadata": {},
   "source": [
    "## CFFI 调用类似main的函数示例"
   ]
  },
  {
   "cell_type": "markdown",
   "metadata": {},
   "source": [
    "想象我们有以下代码：\n",
    "\n",
    "```python\n",
    "from cffi import FFI\n",
    "ffi = FFI()\n",
    "ffi.cdef(\"\"\"\n",
    "   int main_like(int argv, char *argv[]);\n",
    "\"\"\")\n",
    "lib = ffi.dlopen(\"some_library.so\")\n",
    "```\n",
    "\n",
    "现在，除了如何创建这里的 `char**` 参数之外，其他都很简单。第一个想法：\n",
    "\n",
    "```python\n",
    "lib.main_like(2, [\"arg0\", \"arg1\"])\n",
    "```\n",
    "\n",
    "不起作用，因为初始化器接收到两个Python字符串对象，而它期望的是 `<cdata 'char *'>` 对象。您需要显式使用`ffi.new()`来创建这些对象：\n",
    "\n",
    "```python\n",
    "lib.main_like(2, [ffi.new(\"char[]\", \"arg0\"),\n",
    "                  ffi.new(\"char[]\", \"arg1\")])\n",
    "```\n",
    "\n",
    "请注意，这两个 `<cdata 'char[]'>` 对象在调用期间保持活动状态：它们只在列表本身被释放时才被释放，而列表只有在调用返回时才被释放。\n",
    "\n",
    "如果您想构建一个要重用的“argv”变量，那么需要更多的注意事项：\n",
    "\n",
    "```python\n",
    "# 不工作！\n",
    "argv = ffi.new(\"char *[]\", [ffi.new(\"char[]\", \"arg0\"),\n",
    "                            ffi.new(\"char[]\", \"arg1\")])\n",
    "```\n",
    "\n",
    "在上面的示例中，内部“arg0”字符串在构建“argv”时立即被释放。您必须确保保留对内部“char[]”对象的引用，无论是直接保留还是像这样保持列表的活动状态：\n",
    "\n",
    "```python\n",
    "argv_keepalive = [ffi.new(\"char[]\", \"arg0\"),\n",
    "                  ffi.new(\"char[]\", \"arg1\")]\n",
    "argv = ffi.new(\"char *[]\", argv_keepalive)\n",
    "```"
   ]
  },
  {
   "cell_type": "markdown",
   "metadata": {},
   "source": [
    "## CFFI 函数调用\n",
    "在调用C函数时，传递参数的规则与分配给结构字段的规则基本相同，返回值的规则与读取结构字段的规则相同。例如：\n",
    "\n",
    "```c\n",
    "int foo(short a, int b);\n",
    "```\n",
    "\n",
    "```python\n",
    "n = lib.foo(2, 3)     # 返回一个正常的整数\n",
    "lib.foo(40000, 3)     # 引发 OverflowError\n",
    "```\n",
    "\n",
    "你可以将普通Python字符串传递给 `char *` 参数（但不要将普通Python字符串传递给可能修改它的 `char *` 参数的函数！）：\n",
    "\n",
    "```c\n",
    "size_t strlen(const char *);\n",
    "```\n",
    "\n",
    "```python\n",
    "assert lib.strlen(\"hello\") == 5\n",
    "```\n",
    "（请注意，传递给函数的 `char *` 指针在调用完成后可能不再有效。同样，如果你写 `lib.f(x); lib.f(x)`，其中 `x` 是一个包含字节字符串的变量，那么两次对 `f()` 的调用有时会收到不同的 `char *` 指针，每个指针只在相应的调用期间有效。这对于使用许多优化来调整字节字符串对象底层数据的PyPy来说尤其重要。CFFI 不会在每次调用时制作和释放整个字符串的副本——它通常不会这样做——但是你不能编写依赖于它的代码：有些情况下这会破坏程序。如果你需要一个指针保持有效，你需要显式地创建一个，例如使用 `ptr = ffi.new(\"char[]\", x)`。）\n",
    "\n",
    "你也可以将 unicode 字符串作为 `wchar_t *` 或 `char16_t *` 或 `char32_t *` 参数传递。请注意，C语言对于使用类型 `*` 或类型 `[]` 的参数声明没有任何区别。例如，`int *` 完全等同于 `int[]` （甚至 `int[5]`；`5` 被忽略）。对于 CFFI，这意味着你总是可以传递可以转换为 `int *` 或 `int[]` 的参数。例如：\n",
    "\n",
    "```c\n",
    "void do_something_with_array(int *array);\n",
    "```\n",
    "\n",
    "```python\n",
    "lib.do_something_with_array([1, 2, 3, 4, 5])    # 适用于int[]\n",
    "```\n",
    "参见转换以了解类似的方式传递 `struct foo_s *` 参数的方法——但总的来说，在这种情况下，更清楚地传递 `ffi.new('struct foo_s *', initializer)`。\n",
    "\n",
    "CFFI支持将结构和联合体传递给函数和回调。例如：\n",
    "\n",
    "```c\n",
    "struct foo_s { int a, b; };\n",
    "struct foo_s function_returning_a_struct(void);\n",
    "```\n",
    "\n",
    "```python\n",
    "myfoo = lib.function_returning_a_struct()\n",
    "# `myfoo`: <cdata 'struct foo_s' owning 8 bytes>\n",
    "```\n",
    "\n",
    "为了性能，通过编写 `lib.some_function` 获得的非可变 API 级别函数不是 `<cdata>` 对象，而是另一种类型的对象（在CPython上，`<built-in function>`）。这意味着您不能直接将它们传递给期望函数指针参数的其他C函数。只有 `ffi.typeof()` 才能在它们上工作。要获取包含常规函数指针的cdata，请使用 `ffi.addressof(lib, \"name\")`。\n",
    "\n",
    "有一些（晦涩难懂）的限制支持的参数和返回类型。这些限制来自 `libffi`，仅适用于调用 `<cdata>` 函数指针；换句话说，它们不适用于使用API模式的非可变 `cdef()` 声明的函数。这些限制是您不能直接传递作为参数或返回类型：\n",
    "\n",
    "- 联合（但指向联合的指针是可以的）；\n",
    "- 使用位域的结构（但指向此类结构的指针是可以的）；\n",
    "- 在 `cdef()` 中声明为“`...`”的结构。\n",
    "\n",
    "在API模式下，您可以绕过这些限制：例如，如果您需要从Python调用这样的函数指针，您可以编写一个自定义C函数，该函数接受函数指针和实际参数，并从C进行调用。然后在 `cdef()` 中声明该自定义C函数，并从Python使用它。"
   ]
  },
  {
   "cell_type": "markdown",
   "metadata": {},
   "source": [
    "## CFFI 可变参数函数调用\n",
    "C语言中的可变参数函数（以“`...`”作为最后一个参数）可以正常声明和调用，但传递给变量部分的所有参数必须是cdata对象。这是因为如果你这样写：\n",
    "\n",
    "```python\n",
    "lib.printf(\"hello, %d\\n\", 42)   # 不起工作！\n",
    "```\n",
    "\n",
    "你无法确定你真的想将 `42` 作为C `int` 传递，而不是 `long` 或 `long long`。同样的问题也出现在 `float` 与 `double` 之间。因此，如果需要的话，你必须使用 `ffi.cast()` 强制转换为所需的C类型：\n",
    "\n",
    "```python\n",
    "lib.printf(\"hello, %d\\n\", ffi.cast(\"int\", 42))\n",
    "lib.printf(\"hello, %ld\\n\", ffi.cast(\"long\", 42))\n",
    "lib.printf(\"hello, %f\\n\", ffi.cast(\"double\", 42))\n",
    "```\n",
    "但是当然：\n",
    "\n",
    "```python\n",
    "lib.printf(\"hello, %s\\n\", ffi.new(\"char[]\", \"world\"))\n",
    "```\n",
    "请注意，如果你使用的是dlopen()，则cdef()中的函数声明必须与C中的原始声明完全匹配，这通常是正确的——特别是，如果这个函数在C中是可变参数的，那么它的cdef()声明也必须是可变参数的。你不能在cdef()中使用固定参数来声明它，即使你只打算用这些参数类型来调用它。原因是某些架构根据函数签名是否固定有不同的调用约定。（在x86-64上，有时在PyPy的JIT生成代码中可以看到一些参数为double时的差异。）\n",
    "\n",
    "请注意，CFFI将函数签名int foo();解释为等同于int foo(void);。这与C标准不同，在C标准中，int foo();实际上类似于int foo(...);并且可以用任何参数调用。（C的这个特性是C89之前的遗留物：在foo()的主体中不能访问参数，除非依赖于编译器特定的扩展。如今，几乎所有带有int foo();的代码实际上都意味着int foo(void);。）"
   ]
  },
  {
   "cell_type": "markdown",
   "metadata": {},
   "source": [
    "## CFFI 外部“Python”（新式回调）\n",
    "当C代码需要一个指向一个函数的指针，该函数调用您选择的Python函数时，您可以在离线API模式下这样做。\n",
    "\n",
    "这是1.4版本中的新功能。如果向后兼容性是一个问题，请使用旧式回调。（原始回调调用速度较慢，并且与libffi的回调具有相同的问题；特别是，参见警告。本节描述的新样式完全不使用libffi的回调。）"
   ]
  },
  {
   "cell_type": "markdown",
   "metadata": {},
   "source": [
    "在构建脚本中，在 `cdef` 中声明一个带有 `extern \"Python\"` 前缀的函数："
   ]
  },
  {
   "cell_type": "code",
   "execution_count": 32,
   "metadata": {},
   "outputs": [],
   "source": [
    "import cffi\n",
    "ffibuilder = cffi.FFI()\n",
    "ffibuilder.cdef(\"\"\"\n",
    "    extern \"Python\" int my_callback(int, int);\n",
    "\n",
    "    void library_function(int(*callback)(int, int));\n",
    "\"\"\")\n",
    "ffibuilder.set_source(\"_my_example\", r\"\"\"\n",
    "    #include <some_library.h>\n",
    "\"\"\")"
   ]
  },
  {
   "cell_type": "markdown",
   "metadata": {},
   "source": [
    "函数 `my_callback()` 然后在应用程序的代码中用 Python 实现："
   ]
  },
  {
   "cell_type": "markdown",
   "metadata": {},
   "source": [
    "```python\n",
    "from _my_example import ffi, lib\n",
    "\n",
    "@ffi.def_extern()\n",
    "def my_callback(x, y):\n",
    "    return 42\n",
    "```"
   ]
  },
  {
   "cell_type": "markdown",
   "metadata": {},
   "source": [
    "你可以通过获取 `lib.my_callback` 来获得一个 `<cdata>` 指针-函数对象。这个 `<cdata>` 可以传递给C代码，然后像回调一样工作：当C代码调用这个函数指针时，Python函数`my_callback`被调用。（你需要将`lib.my_callback`传递给C代码，而不是`my_callback`：后者只是上面的Python函数，不能传递给C。）\n",
    "\n",
    "CFFI通过将`my_callback`定义为静态C函数来实现这一点，该函数在`set_source()`代码之后编写。然后，`<cdata>`指向这个函数。这个函数的作用是调用运行时附加了`@ffi.def_extern()`的Python函数对象。\n",
    "\n",
    "对于每个`extern \"Python\"`函数，应该为相同名称的全局函数应用`@ffi.def_extern()`装饰器。\n",
    "\n",
    "为了支持一些特殊情况，可以通过再次调用`@ffi.def_extern()`来重新定义附加的Python函数——但这不是推荐的做法！最好为这个名称附加一个单一的全局Python函数，并在一开始就更灵活地编写它。这是因为每个`extern \"Python\"`函数都变成了只有一个C函数。再次调用`@ffi.def_extern()`会改变这个函数的C逻辑，使其调用新的Python函数；旧的Python函数不再可调用。从`lib.my_function`获得的C函数指针始终是这个C函数的地址，即保持不变。"
   ]
  },
  {
   "cell_type": "markdown",
   "metadata": {},
   "source": [
    "## CFFI Extern “Python”和 `void *` 参数\n",
    "如前所述，您不能使用extern \"Python\"来创建一个可变数量的C函数指针。然而，在纯C代码中也无法实现这一点。因此，通常C会使用带有 `void *data` 参数的回调函数来定义回调。您可以使用 `ffi.new_handle()` 和 `ffi.from_handle()` 通过这个 `void *` 参数传递一个Python对象。例如，如果回调的C类型是：\n",
    "\n",
    "```c\n",
    "typedef void (*event_cb_t)(event_t *evt, void *userdata);\n",
    "```\n",
    "并且您通过调用以下函数注册事件：\n",
    "\n",
    "```c\n",
    "void event_cb_register(event_cb_t cb, void *userdata);\n",
    "```\n",
    "那么您将在构建脚本中编写以下内容：\n",
    "\n",
    "```python\n",
    "ffibuilder.cdef(\"\"\"\n",
    "    typedef ... event_t;\n",
    "    typedef void (*event_cb_t)(event_t *evt, void *userdata);\n",
    "    void event_cb_register(event_cb_t cb, void *userdata);\n",
    "\n",
    "    extern \"Python\" void my_event_callback(event_t *, void *);\n",
    "\"\"\")\n",
    "ffibuilder.set_source(\"_demo_cffi\", r\"\"\"\n",
    "    #include <the_event_library.h>\n",
    "\"\"\")\n",
    "```\n",
    "然后在您的主应用程序中像这样注册事件：\n",
    "\n",
    "```python\n",
    "from _demo_cffi import ffi, lib\n",
    "\n",
    "class Widget(object):\n",
    "    def __init__(self):\n",
    "        userdata = ffi.new_handle(self)\n",
    "        self._userdata = userdata     # must keep this alive!\n",
    "        lib.event_cb_register(lib.my_event_callback, userdata)\n",
    "\n",
    "    def process_event(self, evt):\n",
    "        print \"got event!\"\n",
    "\n",
    "@ffi.def_extern()\n",
    "def my_event_callback(evt, userdata):\n",
    "    widget = ffi.from_handle(userdata)\n",
    "    widget.process_event(evt)\n",
    "```\n",
    "其他一些库没有明确的 `void *` 参数，但允许您将 `void *` 附加到现有的结构上。例如，库可能会说 `widget->userdata` 是一个为应用程序保留的通用字段。如果事件的签名现在是这样：\n",
    "\n",
    "```c\n",
    "typedef void (*event_cb_t)(widget_t *w, event_t *evt);\n",
    "```\n",
    "那么您可以像这样使用底层的 `widget_t *` 中的 `void *` 字段：\n",
    "\n",
    "```python\n",
    "from _demo_cffi import ffi, lib\n",
    "\n",
    "class Widget(object):\n",
    "    def __init__(self):\n",
    "        ll_widget = lib.new_widget(500, 500)\n",
    "        self.ll_widget = ll_widget       # <cdata 'struct widget *'>\n",
    "        userdata = ffi.new_handle(self)\n",
    "        self._userdata = userdata        # must still keep this alive!\n",
    "        ll_widget.userdata = userdata    # this makes a copy of the \"void *\"\n",
    "        lib.event_cb_register(ll_widget, lib.my_event_callback)\n",
    "\n",
    "    def process_event(self, evt):\n",
    "        print \"got event!\"\n",
    "\n",
    "@ffi.def_extern()\n",
    "def my_event_callback(ll_widget, evt):\n",
    "    widget = ffi.from_handle(ll_widget.userdata)\n",
    "    widget.process_event(evt)\n",
    "```"
   ]
  },
  {
   "cell_type": "markdown",
   "metadata": {},
   "source": [
    "## 从C代码中直接访问extern \"Python\"函数\n",
    "如果你想在set_source()中编写的C代码中直接访问某些 `extern \"Python\"` 函数，你需要编写一个前向声明。（默认情况下需要是静态的，但参见下一段。）这个函数的实际实现是由CFFI在C代码之后添加的——这是必要的，因为声明可能使用由set_source()定义的类型（例如上面的event_t，来自`#include`），所以它不能在之前生成。\n",
    "\n",
    "```python\n",
    "ffibuilder.set_source(\"_demo_cffi\", r\"\"\"\n",
    "    #include <the_event_library.h>\n",
    "\n",
    "    static void my_event_callback(widget_t *, event_t *);\n",
    "\n",
    "    /* 在这里你可以编写使用'&my_event_callback'的C代码 */\n",
    "\"\"\")\n",
    "```\n",
    "这也可以用于编写直接调用Python的自定义C代码。以下是一个例子（在这种情况下效率较低，但如果 `my_algo()` 中的逻辑更复杂，可能会很有用）：\n",
    "\n",
    "```python\n",
    "ffibuilder.cdef(\"\"\"\n",
    "    extern \"Python\" int f(int);\n",
    "    int my_algo(int);\n",
    "\"\"\")\n",
    "ffibuilder.set_source(\"_example_cffi\", r\"\"\"\n",
    "    static int f(int);   /* 前向声明 */\n",
    "\n",
    "    static int my_algo(int n) {\n",
    "        int i, sum = 0;\n",
    "        for (i = 0; i < n; i++)\n",
    "            sum += f(i);     /* 在这里调用f() */\n",
    "        return sum;\n",
    "    }\n",
    "\"\"\")\n",
    "```"
   ]
  },
  {
   "cell_type": "markdown",
   "metadata": {},
   "source": []
  }
 ],
 "metadata": {
  "kernelspec": {
   "display_name": "xxx",
   "language": "python",
   "name": "python3"
  },
  "language_info": {
   "codemirror_mode": {
    "name": "ipython",
    "version": 3
   },
   "file_extension": ".py",
   "mimetype": "text/x-python",
   "name": "python",
   "nbconvert_exporter": "python",
   "pygments_lexer": "ipython3",
   "version": "3.12.4"
  }
 },
 "nbformat": 4,
 "nbformat_minor": 2
}
