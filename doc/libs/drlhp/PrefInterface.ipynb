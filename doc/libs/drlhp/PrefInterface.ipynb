{
 "cells": [
  {
   "cell_type": "markdown",
   "metadata": {},
   "source": [
    "# {class}`drlhp.pref_interface.PrefInterface` 测试"
   ]
  },
  {
   "cell_type": "code",
   "execution_count": 1,
   "metadata": {},
   "outputs": [],
   "source": [
    "from multiprocessing import Queue\n",
    "\n",
    "import numpy as np\n",
    "import termcolor\n",
    "\n",
    "from drlhp.pref_db import Segment\n",
    "from drlhp.pref_interface import PrefInterface\n",
    "\n",
    "def send_segments(n_segments, seg_pipe):\n",
    "    frame_stack = np.zeros((84, 84, 4))\n",
    "    for i in range(n_segments):\n",
    "        segment = Segment()\n",
    "        for _ in range(25):\n",
    "            segment.append(frame=frame_stack, reward=0)\n",
    "        segment.finalise(seg_id=i)\n",
    "        seg_pipe.put(segment)\n",
    "        "
   ]
  },
  {
   "cell_type": "code",
   "execution_count": 2,
   "metadata": {},
   "outputs": [
    {
     "name": "stdout",
     "output_type": "stream",
     "text": [
      "\u001b[31m<drlhp.pref_interface.PrefInterface object at 0x7f75fc78d550>\u001b[0m\n"
     ]
    }
   ],
   "source": [
    "p = PrefInterface(synthetic_prefs=True, max_segs=1000)\n",
    "termcolor.cprint(p, 'red')"
   ]
  },
  {
   "cell_type": "markdown",
   "metadata": {},
   "source": [
    "检查片段是否正确存储在循环缓冲区中。"
   ]
  },
  {
   "cell_type": "code",
   "execution_count": 3,
   "metadata": {},
   "outputs": [],
   "source": [
    "pi = PrefInterface(synthetic_prefs=True, max_segs=5)\n",
    "pipe = Queue()\n",
    "for i in range(5):\n",
    "    pipe.put(i)\n",
    "    pi.recv_segments(pipe)\n",
    "np.testing.assert_array_equal(pi.segments, [0, 1, 2, 3, 4])\n",
    "for i in range(5, 8):\n",
    "    pipe.put(i)\n",
    "    pi.recv_segments(pipe)\n",
    "np.testing.assert_array_equal(pi.segments, [5, 6, 7, 3, 4])\n",
    "for i in range(8, 11):\n",
    "    pipe.put(i)\n",
    "    pi.recv_segments(pipe)\n",
    "np.testing.assert_array_equal(pi.segments, [10, 6, 7, 8, 9])"
   ]
  },
  {
   "cell_type": "code",
   "execution_count": null,
   "metadata": {},
   "outputs": [],
   "source": []
  }
 ],
 "metadata": {
  "kernelspec": {
   "display_name": "Python 3",
   "language": "python",
   "name": "python3"
  },
  "language_info": {
   "codemirror_mode": {
    "name": "ipython",
    "version": 3
   },
   "file_extension": ".py",
   "mimetype": "text/x-python",
   "name": "python",
   "nbconvert_exporter": "python",
   "pygments_lexer": "ipython3",
   "version": "3.12.2"
  }
 },
 "nbformat": 4,
 "nbformat_minor": 2
}
