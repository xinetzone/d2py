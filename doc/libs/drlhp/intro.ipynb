{
 "cells": [
  {
   "cell_type": "markdown",
   "metadata": {},
   "source": [
    "# DRLHP 简介\n",
    "\n",
    "[原始 DRLHP](https://github.com/HumanCompatibleAI/learning-from-human-preferences) 代码是基于 OpenAI 和 DeepMind 的 [《从人类偏好中学习的深度强化学习》](https://blog.openai.com/deep-reinforcement-learning-from-human-preferences/) 复现，由 Matthew Rahtz 完成，并经过重构以便于在加州大学伯克利分校人类兼容人工智能研究中心的研究应用中使用。\n",
    "\n",
    "我们对代码进行重构于 {mod}`~tvm_book.drlhp`。\n",
    "\n",
    "```{note}\n",
    "[原始版本的代码库](https://github.com/mrahtz/learning-from-human-preferences)的目标是成功训练 DRLHP（Deep Reinforcement Learning from Human Preferences），使用合成和人类的偏好在 Pong、Enduro 和新颖的移动点环境中进行训练，其 API 主要设计用于这些小型重现案例。[HumanCompatibleAI DRLHP](https://github.com/HumanCompatibleAI/learning-from-human-preferences) 重构的目标包括：\n",
    "\n",
    "* 将 API 从单一 `run.py` 文件更改为更模块化的设计，以便可以插入其他实验代码\n",
    "* 添加对任意像素基础环境的支持，具有不同大小和通道数\n",
    "* 允许更容易地与更广泛的最新 RL 实现集成，而不是在代码库中有特定的 A2C 实现\n",
    "* 简化加载预训练策略（无论是来自 RL 还是模仿）以预热训练过程的过程，除了从头开始启动策略外\n",
    "\n",
    "为了实现[HumanCompatibleAI DRLHP](https://github.com/HumanCompatibleAI/learning-from-human-preferences)的目标，DRLHP 的基本元素被重构为 Gym 风格的环境包装器。这个包装器：\n",
    "\n",
    "* 管理创建子进程，用于异步奖励预测器训练和异步收集偏好对的片段\n",
    "* 存储从底层环境返回的观察结果，将它们连接成片段。当片段达到指定长度时，它们会通过管道传递给负责构建片段对并请求偏好的子进程\n",
    "* 可以返回底层环境的奖励或奖励预测器的奖励，该奖励预测器在整个奖励预测器训练过程中加载和更新\n",
    "* 可以与任何兼容 Gym 的 RL 算法一起使用，可以将奖励预测器奖励传递给它，而无需对其进行特殊修改\n",
    "```\n",
    "\n",
    "\n",
    "安装依赖\n",
    "\n",
    "```bash\n",
    "conda install anaconda::swig\n",
    "conda install -c conda-forge box2d-py\n",
    "pip install tensorflow pyglet \"gymnasium[all]\" -i https://pypi.tuna.tsinghua.edu.cn/simple\n",
    "```"
   ]
  }
 ],
 "metadata": {
  "kernelspec": {
   "display_name": "xxx",
   "language": "python",
   "name": "python3"
  },
  "language_info": {
   "codemirror_mode": {
    "name": "ipython",
    "version": 3
   },
   "file_extension": ".py",
   "mimetype": "text/x-python",
   "name": "python",
   "nbconvert_exporter": "python",
   "pygments_lexer": "ipython3",
   "version": "3.12.2"
  }
 },
 "nbformat": 4,
 "nbformat_minor": 2
}
