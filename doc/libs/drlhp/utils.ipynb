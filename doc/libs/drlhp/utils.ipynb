{
 "cells": [
  {
   "cell_type": "markdown",
   "metadata": {},
   "source": [
    "# {mod}`drlhp.utils` 测试"
   ]
  },
  {
   "cell_type": "code",
   "execution_count": 1,
   "metadata": {},
   "outputs": [],
   "source": [
    "import socket\n",
    "from math import ceil\n",
    "import numpy as np\n",
    "from drlhp.utils import RunningStat, batch_iter, get_port_range"
   ]
  },
  {
   "cell_type": "markdown",
   "metadata": {},
   "source": [
    "## {class}`drlhp.utils.RunningStat`\n",
    "\n",
    "代码修改自 [`running_stat.py`](https://github.com/joschu/modular_rl/blob/master/modular_rl/running_stat.py)"
   ]
  },
  {
   "cell_type": "code",
   "execution_count": 2,
   "metadata": {},
   "outputs": [],
   "source": [
    "for shp in ((), (3, ), (3, 4)):\n",
    "    li = []\n",
    "    rs = RunningStat(shp)\n",
    "    for i in range(5):\n",
    "        val = np.random.randn(*shp)\n",
    "        rs.push(val)\n",
    "        li.append(val)\n",
    "        m = np.mean(li, axis=0)\n",
    "        assert np.allclose(rs.mean, m)\n",
    "        if i == 0:\n",
    "            continue\n",
    "        # ddof=1 => calculate unbiased sample variance\n",
    "        v = np.var(li, ddof=1, axis=0)\n",
    "        assert np.allclose(rs.var, v)"
   ]
  },
  {
   "cell_type": "markdown",
   "metadata": {},
   "source": [
    "## {func}`drlhp.utils.get_port_range`"
   ]
  },
  {
   "cell_type": "markdown",
   "metadata": {},
   "source": [
    "测试 1：如果从端口 `60000` 开始请求 3 个端口（这些端口上不应该有服务在监听），应当得到以下结果："
   ]
  },
  {
   "cell_type": "code",
   "execution_count": 3,
   "metadata": {},
   "outputs": [
    {
     "data": {
      "text/plain": [
       "[60000, 60001, 60002]"
      ]
     },
     "execution_count": 3,
     "metadata": {},
     "output_type": "execute_result"
    }
   ],
   "source": [
    "ports = get_port_range(60000, 3)\n",
    "ports # 60000, 60001 and 60002"
   ]
  },
  {
   "cell_type": "markdown",
   "metadata": {},
   "source": [
    "测试2：如果在端口 `60000` 上设置监听，然后请求与测试 1 中相同的端口，函数应该跳过 `60000` 并给出下一个三个端口。"
   ]
  },
  {
   "cell_type": "code",
   "execution_count": 4,
   "metadata": {},
   "outputs": [
    {
     "name": "stdout",
     "output_type": "stream",
     "text": [
      "Warning: port 60000 already in use\n"
     ]
    },
    {
     "data": {
      "text/plain": [
       "[60001, 60002, 60003]"
      ]
     },
     "execution_count": 4,
     "metadata": {},
     "output_type": "execute_result"
    }
   ],
   "source": [
    "s1 = socket.socket(socket.AF_INET, socket.SOCK_STREAM)\n",
    "s1.bind((\"127.0.0.1\", 60000))\n",
    "ports = get_port_range(60000, 3)\n",
    "ports # 60001, 60002, 60003"
   ]
  },
  {
   "cell_type": "markdown",
   "metadata": {},
   "source": [
    "测试3：如果在端口 `60002` 上设置监听，函数应该意识到它无法从 `60000` 开始分配连续的范围，并应该给出从 `60003` 开始的范围。"
   ]
  },
  {
   "cell_type": "code",
   "execution_count": 5,
   "metadata": {},
   "outputs": [
    {
     "name": "stdout",
     "output_type": "stream",
     "text": [
      "Warning: port 60000 already in use\n",
      "Warning: port 60002 already in use\n"
     ]
    },
    {
     "data": {
      "text/plain": [
       "[60003, 60004, 60005]"
      ]
     },
     "execution_count": 5,
     "metadata": {},
     "output_type": "execute_result"
    }
   ],
   "source": [
    "s2 = socket.socket(socket.AF_INET, socket.SOCK_STREAM)\n",
    "s2.bind((\"127.0.0.1\", 60002))\n",
    "ports = get_port_range(60000, 3)\n",
    "ports # 60003, 60004, 60005"
   ]
  },
  {
   "cell_type": "markdown",
   "metadata": {},
   "source": [
    "## {func}`drlhp.utils.batch_iter`\n",
    "\n",
    "检查 {func}`drlhp.utils.batch_iter` 是否返回了完全正确的数据。"
   ]
  },
  {
   "cell_type": "code",
   "execution_count": 6,
   "metadata": {},
   "outputs": [],
   "source": [
    "l1 = list(range(16))\n",
    "l2 = list(range(15))\n",
    "l3 = list(range(13))\n",
    "for l in [l1, l2, l3]:\n",
    "    for shuffle in [True, False]:\n",
    "        expected_data = l\n",
    "        actual_data = set()\n",
    "        expected_n_batches = ceil(len(l) / 4)\n",
    "        actual_n_batches = 0\n",
    "        for batch_n, x in enumerate(batch_iter(l,\n",
    "                                                batch_size=4,\n",
    "                                                shuffle=shuffle)):\n",
    "            if batch_n == expected_n_batches - 1 and len(l) % 4 != 0:\n",
    "                assert len(x) == len(l) % 4\n",
    "            else:\n",
    "                assert len(x) == 4\n",
    "            assert len(actual_data.intersection(set(x))) == 0\n",
    "            actual_data = actual_data.union(set(x))\n",
    "            actual_n_batches += 1\n",
    "        assert actual_n_batches == expected_n_batches\n",
    "        np.testing.assert_array_equal(list(actual_data), expected_data)"
   ]
  },
  {
   "cell_type": "markdown",
   "metadata": {},
   "source": [
    "检查 `shuffle=True` 是否返回相同的数据，但顺序不同。"
   ]
  },
  {
   "cell_type": "code",
   "execution_count": 7,
   "metadata": {},
   "outputs": [
    {
     "name": "stdout",
     "output_type": "stream",
     "text": [
      "满足要求\n"
     ]
    }
   ],
   "source": [
    "expected_data = list(range(16))\n",
    "actual_data = []\n",
    "for x in batch_iter(expected_data, batch_size=4, shuffle=True):\n",
    "    actual_data.extend(x)\n",
    "assert len(actual_data) == len(expected_data)\n",
    "assert set(actual_data) == set(expected_data)\n",
    "try:\n",
    "    np.testing.assert_array_equal(actual_data, expected_data)\n",
    "except AssertionError:\n",
    "    print(\"满足要求\")"
   ]
  },
  {
   "cell_type": "markdown",
   "metadata": {},
   "source": [
    "检查连续调用是否以不同的顺序进行洗牌。"
   ]
  },
  {
   "cell_type": "code",
   "execution_count": 8,
   "metadata": {},
   "outputs": [
    {
     "name": "stdout",
     "output_type": "stream",
     "text": [
      "满足要求\n"
     ]
    }
   ],
   "source": [
    "data = list(range(16))\n",
    "out1 = []\n",
    "for x in batch_iter(data, batch_size=4, shuffle=True):\n",
    "    out1.extend(x)\n",
    "out2 = []\n",
    "for x in batch_iter(data, batch_size=4, shuffle=True):\n",
    "    out2.extend(x)\n",
    "assert set(out1) == set(out2)\n",
    "try:\n",
    "    np.testing.assert_array_equal(out1, out2)\n",
    "except AssertionError:\n",
    "    print(\"满足要求\")"
   ]
  }
 ],
 "metadata": {
  "kernelspec": {
   "display_name": "xxx",
   "language": "python",
   "name": "python3"
  },
  "language_info": {
   "codemirror_mode": {
    "name": "ipython",
    "version": 3
   },
   "file_extension": ".py",
   "mimetype": "text/x-python",
   "name": "python",
   "nbconvert_exporter": "python",
   "pygments_lexer": "ipython3",
   "version": "3.12.2"
  }
 },
 "nbformat": 4,
 "nbformat_minor": 2
}
