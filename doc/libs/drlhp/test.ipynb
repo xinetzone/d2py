{
 "cells": [
  {
   "cell_type": "markdown",
   "metadata": {},
   "source": [
    "# 测试代码"
   ]
  },
  {
   "cell_type": "code",
   "execution_count": 1,
   "metadata": {},
   "outputs": [],
   "source": [
    "import set_env\n",
    "import logging\n",
    "import multiprocessing as mp\n",
    "import sys\n",
    "import time\n",
    "from pathlib import Path\n",
    "from d2py.utils.log_config import config_logging\n",
    "root_dir = Path(\".\").resolve()\n",
    "sys.path.extend([str(root_dir.parents[2]/\"tests/gym-multigrid\")])\n",
    "\n",
    "logger_dir = root_dir/\".temp\"\n",
    "logger_dir.mkdir(parents=True, exist_ok=True)\n",
    "temp_dir = root_dir/\"images\"\n",
    "temp_dir.mkdir(parents=True, exist_ok=True)\n",
    "\n",
    "logger_name = \"drlhp\"\n",
    "logger = logging.getLogger(logger_name)\n",
    "config_logging(f'{logger_dir}/{logger_name}.log', logger_name, maxBytes=50000, backupCount=2)"
   ]
  },
  {
   "cell_type": "code",
   "execution_count": 2,
   "metadata": {},
   "outputs": [],
   "source": [
    "import argparse\n",
    "import random\n",
    "import numpy as np\n",
    "import torch\n",
    "import gymnasium as gym\n",
    "# import pybullet_envs\n",
    "# import matplotlib.pyplot as plt\n",
    "\n",
    "# model\n",
    "from utils.model.ppo import PPO\n",
    "from utils.config import get_config\n",
    "# wrappers\n",
    "from utils.human_feedback_wrapper import HumanFeedback, SyntheticFeedback\n",
    "from utils.reward_wrapper import FeedbackReward"
   ]
  },
  {
   "cell_type": "code",
   "execution_count": 3,
   "metadata": {},
   "outputs": [],
   "source": [
    "from dataclasses import dataclass\n",
    "\n",
    "@dataclass\n",
    "class EnvConfig:\n",
    "    env_name: str # [\"cartpole\", \"pendulum\", \"cheetah\"]\n",
    "    seed: int = 1\n",
    "    entropy: float = 0.1 # [0.0, 0.01, 0.05, 0.1]\n",
    "    synthetic: bool = False\n",
    "    constant_ask: int = 1000 # [100, 1000, 10000]\n",
    "    collect_initial: int = 0 # [0, 50, 200] \n",
    "    num_batches: int = 100\n",
    "\n",
    "    def __post_init__(self):\n",
    "        self.config = get_config(\n",
    "            self.env_name, \n",
    "            self.seed, \n",
    "            self.entropy, \n",
    "            self.constant_ask, \n",
    "            self.collect_initial, \n",
    "            self.num_batches\n",
    "        )"
   ]
  },
  {
   "cell_type": "code",
   "execution_count": 4,
   "metadata": {},
   "outputs": [
    {
     "name": "stdout",
     "output_type": "stream",
     "text": [
      "entropy:  0.1\n",
      "Updating reward network every 1000 steps\n",
      "Collect a preference every 1000 steps\n",
      "Clip length =  30\n",
      "--Using human feedback.--\n"
     ]
    }
   ],
   "source": [
    "env_config = EnvConfig(\"pendulum\")\n",
    "if env_config.synthetic:\n",
    "    env = SyntheticFeedback(FeedbackReward(gym.make(env_config.config.env_name)), config=env_config.config)\n",
    "else:\n",
    "    env = HumanFeedback(FeedbackReward(gym.make(env_config.config.env_name)), config=env_config.config)"
   ]
  },
  {
   "cell_type": "code",
   "execution_count": 6,
   "metadata": {},
   "outputs": [],
   "source": [
    "eval_env = gym.make(env_config.config.env_name)"
   ]
  },
  {
   "cell_type": "code",
   "execution_count": 7,
   "metadata": {},
   "outputs": [
    {
     "ename": "TypeError",
     "evalue": "tuple indices must be integers or slices, not NoneType",
     "output_type": "error",
     "traceback": [
      "\u001b[0;31m---------------------------------------------------------------------------\u001b[0m",
      "\u001b[0;31mTypeError\u001b[0m                                 Traceback (most recent call last)",
      "Cell \u001b[0;32mIn[7], line 5\u001b[0m\n\u001b[1;32m      3\u001b[0m eval_env\u001b[38;5;241m.\u001b[39mreset()\n\u001b[1;32m      4\u001b[0m model \u001b[38;5;241m=\u001b[39m PPO(env, eval_env, env_config\u001b[38;5;241m.\u001b[39mconfig, env_config\u001b[38;5;241m.\u001b[39mseed)\n\u001b[0;32m----> 5\u001b[0m model\u001b[38;5;241m.\u001b[39mtrain()\n\u001b[1;32m      6\u001b[0m \u001b[38;5;28mprint\u001b[39m (\u001b[38;5;124mf\u001b[39m\u001b[38;5;124m\"\u001b[39m\u001b[38;5;132;01m{\u001b[39;00menv\u001b[38;5;241m.\u001b[39mpref_db\u001b[38;5;241m.\u001b[39mtotal_labeled\u001b[38;5;132;01m}\u001b[39;00m\u001b[38;5;124m preference collected total\u001b[39m\u001b[38;5;124m\"\u001b[39m)\n",
      "File \u001b[0;32m/media/pc/data/lxw/ai/d2py/doc/libs/drlhp/utils/model/ppo.py:77\u001b[0m, in \u001b[0;36mPPO.train\u001b[0;34m(self)\u001b[0m\n\u001b[1;32m     72\u001b[0m averaged_total_rewards \u001b[38;5;241m=\u001b[39m []  \u001b[38;5;66;03m# the returns for each iteration\u001b[39;00m\n\u001b[1;32m     74\u001b[0m \u001b[38;5;28;01mfor\u001b[39;00m t \u001b[38;5;129;01min\u001b[39;00m \u001b[38;5;28mrange\u001b[39m(\u001b[38;5;28mself\u001b[39m\u001b[38;5;241m.\u001b[39mconfig\u001b[38;5;241m.\u001b[39mnum_batches):\n\u001b[1;32m     75\u001b[0m \n\u001b[1;32m     76\u001b[0m     \u001b[38;5;66;03m# collect a minibatch of samples\u001b[39;00m\n\u001b[0;32m---> 77\u001b[0m     paths, total_rewards \u001b[38;5;241m=\u001b[39m \u001b[38;5;28mself\u001b[39m\u001b[38;5;241m.\u001b[39msample_path(\u001b[38;5;28mself\u001b[39m\u001b[38;5;241m.\u001b[39menv)\n\u001b[1;32m     78\u001b[0m     eval_paths, total_eval_rewards \u001b[38;5;241m=\u001b[39m \u001b[38;5;28mself\u001b[39m\u001b[38;5;241m.\u001b[39msample_path(\u001b[38;5;28mself\u001b[39m\u001b[38;5;241m.\u001b[39meval_env, num_episodes \u001b[38;5;241m=\u001b[39m \u001b[38;5;28mself\u001b[39m\u001b[38;5;241m.\u001b[39meval_num_episodes)\n\u001b[1;32m     79\u001b[0m     all_eval_total_rewards\u001b[38;5;241m.\u001b[39mextend(total_eval_rewards)\n",
      "File \u001b[0;32m/media/pc/data/lxw/ai/d2py/doc/libs/drlhp/utils/model/ppo.py:162\u001b[0m, in \u001b[0;36mPPO.sample_path\u001b[0;34m(self, env, num_episodes)\u001b[0m\n\u001b[1;32m    160\u001b[0m states\u001b[38;5;241m.\u001b[39mappend(state)\n\u001b[1;32m    161\u001b[0m \u001b[38;5;66;03m# Note the difference between this line and the corresponding line in PolicyGradient.\u001b[39;00m\n\u001b[0;32m--> 162\u001b[0m action, old_logprob \u001b[38;5;241m=\u001b[39m \u001b[38;5;28mself\u001b[39m\u001b[38;5;241m.\u001b[39mpolicy\u001b[38;5;241m.\u001b[39mact(states[\u001b[38;5;241m-\u001b[39m\u001b[38;5;241m1\u001b[39m][\u001b[38;5;28;01mNone\u001b[39;00m], return_log_prob \u001b[38;5;241m=\u001b[39m \u001b[38;5;28;01mTrue\u001b[39;00m)\n\u001b[1;32m    163\u001b[0m \u001b[38;5;28;01massert\u001b[39;00m old_logprob\u001b[38;5;241m.\u001b[39mshape \u001b[38;5;241m==\u001b[39m (\u001b[38;5;241m1\u001b[39m,)\n\u001b[1;32m    164\u001b[0m action, old_logprob \u001b[38;5;241m=\u001b[39m action[\u001b[38;5;241m0\u001b[39m], old_logprob[\u001b[38;5;241m0\u001b[39m]\n",
      "\u001b[0;31mTypeError\u001b[0m: tuple indices must be integers or slices, not NoneType"
     ]
    }
   ],
   "source": [
    "# train model\n",
    "observation = eval_env.reset()\n",
    "eval_env.reset()\n",
    "model = PPO(env, eval_env, env_config.config, env_config.seed)\n",
    "model.train()\n",
    "print (f\"{env.pref_db.total_labeled} preference collected total\")"
   ]
  },
  {
   "cell_type": "code",
   "execution_count": 10,
   "metadata": {},
   "outputs": [
    {
     "data": {
      "text/plain": [
       "(1, 100, 100, 3)"
      ]
     },
     "execution_count": 10,
     "metadata": {},
     "output_type": "execute_result"
    }
   ],
   "source": [
    "obs = np.arange(100*100*3).reshape(100, 100, 3)\n",
    "np.array([np.array(obs)]).shape"
   ]
  },
  {
   "cell_type": "code",
   "execution_count": null,
   "metadata": {},
   "outputs": [],
   "source": []
  }
 ],
 "metadata": {
  "kernelspec": {
   "display_name": "Python 3",
   "language": "python",
   "name": "python3"
  },
  "language_info": {
   "codemirror_mode": {
    "name": "ipython",
    "version": 3
   },
   "file_extension": ".py",
   "mimetype": "text/x-python",
   "name": "python",
   "nbconvert_exporter": "python",
   "pygments_lexer": "ipython3",
   "version": "3.12.2"
  }
 },
 "nbformat": 4,
 "nbformat_minor": 2
}
