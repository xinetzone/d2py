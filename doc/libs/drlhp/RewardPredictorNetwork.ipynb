{
 "cells": [
  {
   "cell_type": "markdown",
   "metadata": {},
   "source": [
    "# {class}`drlhp.reward_predictor.RewardPredictorNetwork` 测试"
   ]
  },
  {
   "cell_type": "code",
   "execution_count": 1,
   "metadata": {},
   "outputs": [],
   "source": [
    "import os\n",
    "os.environ['TF_CPP_MIN_LOG_LEVEL'] = '3'  # 设置日志级别为ERROR，以减少警告信息\n",
    "# 禁用 Gemini 的底层库（gRPC 和 Abseil）在初始化日志警告\n",
    "os.environ[\"GRPC_VERBOSITY\"] = \"ERROR\"\n",
    "os.environ[\"GLOG_minloglevel\"] = \"3\"  # 0: INFO, 1: WARNING, 2: ERROR, 3: FATAL\n",
    "os.environ[\"GLOG_minloglevel\"] = \"true\"\n",
    "import logging\n",
    "import tensorflow as tf\n",
    "tf.get_logger().setLevel(logging.ERROR)\n",
    "tf.compat.v1.logging.set_verbosity(tf.compat.v1.logging.ERROR)\n",
    "!export TF_FORCE_GPU_ALLOW_GROWTH=true"
   ]
  },
  {
   "cell_type": "code",
   "execution_count": 2,
   "metadata": {},
   "outputs": [],
   "source": [
    "import logging\n",
    "import sys\n",
    "from pathlib import Path\n",
    "from d2py.utils.log_config import config_logging\n",
    "\n",
    "root_dir = Path(\".\").resolve()\n",
    "temp_dir = root_dir/\".temp\"\n",
    "temp_dir.mkdir(parents=True, exist_ok=True)\n",
    "sys.path.extend([str(root_dir.parents[2]/\"tests/gym-multigrid\")])\n",
    "temp_dir = root_dir/\"images\"\n",
    "\n",
    "logger_name = \"drlhp\"\n",
    "logger = logging.getLogger(logger_name)\n",
    "config_logging(f'{temp_dir}/{logger_name}.log', logger_name, maxBytes=50000, backupCount=2)"
   ]
  },
  {
   "cell_type": "code",
   "execution_count": 4,
   "metadata": {},
   "outputs": [],
   "source": [
    "from dataclasses import dataclass\n",
    "from typing import Any\n",
    "import tensorflow as tf\n",
    "import tensorflow.experimental.numpy as tnp\n",
    "tnp.experimental_enable_numpy_behavior()\n",
    "# import os.path as osp\n",
    "import time\n",
    "import logging\n",
    "import numpy as np\n",
    "from numpy.testing import assert_equal\n",
    "\n",
    "from drlhp.utils import RunningStat, batch_iter\n",
    "from drlhp.reward_predictor_core_network import RewardPredictorNetwork, net_cnn"
   ]
  },
  {
   "cell_type": "code",
   "execution_count": 4,
   "metadata": {},
   "outputs": [],
   "source": [
    "# batchnorm = False\n",
    "# dropout = 0.5\n",
    "# training = True\n",
    "# reuse = False\n",
    "# model = Model(batchnorm, dropout, training, reuse)\n",
    "# x = tnp.arange(36, dtype=\"float32\").reshape((1, 3, 4, 3))\n",
    "# y = model(x)"
   ]
  },
  {
   "cell_type": "code",
   "execution_count": 5,
   "metadata": {},
   "outputs": [],
   "source": [
    "# h, w, c = 10, 20, 3\n",
    "# batchnorm = True\n",
    "# dropout = 0.5\n",
    "# inputs = tf.keras.Input(shape=(None, h, w, c))\n",
    "# outputs = head(batchnorm, dropout)(inputs)\n",
    "# model = tf.keras.Model(inputs=inputs, outputs=outputs)"
   ]
  },
  {
   "cell_type": "code",
   "execution_count": null,
   "metadata": {},
   "outputs": [],
   "source": [
    "import tensorflow as tf\n",
    "\n",
    "model = RewardPredictorNetwork(net_cnn)\n",
    "model.compile(\n",
    "    optimizer=tf.keras.optimizers.RMSprop(learning_rate=1e-3),\n",
    "    loss=tf.keras.losses.SparseCategoricalCrossentropy(),\n",
    "    metrics=[tf.keras.metrics.SparseCategoricalAccuracy()],\n",
    ")\n",
    "x = tf.random.uniform((4, 7, 20, 30, 3))\n",
    "s1 = x\n",
    "s2 = x\n",
    "r1, r2, rs1, rs2, pred = model(s1, s2)"
   ]
  },
  {
   "cell_type": "code",
   "execution_count": null,
   "metadata": {},
   "outputs": [],
   "source": [
    "model.summary()"
   ]
  },
  {
   "cell_type": "code",
   "execution_count": 16,
   "metadata": {},
   "outputs": [],
   "source": [
    "import torch"
   ]
  },
  {
   "cell_type": "code",
   "execution_count": null,
   "metadata": {},
   "outputs": [],
   "source": []
  }
 ],
 "metadata": {
  "kernelspec": {
   "display_name": "xxx",
   "language": "python",
   "name": "python3"
  },
  "language_info": {
   "codemirror_mode": {
    "name": "ipython",
    "version": 3
   },
   "file_extension": ".py",
   "mimetype": "text/x-python",
   "name": "python",
   "nbconvert_exporter": "python",
   "pygments_lexer": "ipython3",
   "version": "3.12.2"
  }
 },
 "nbformat": 4,
 "nbformat_minor": 2
}
