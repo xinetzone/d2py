{
 "cells": [
  {
   "cell_type": "markdown",
   "metadata": {},
   "source": [
    "# {class}`drlhp.PrefDB` 测试"
   ]
  },
  {
   "cell_type": "code",
   "execution_count": 1,
   "metadata": {},
   "outputs": [],
   "source": [
    "import numpy as np\n",
    "from drlhp.pref_db import PrefDB"
   ]
  },
  {
   "cell_type": "markdown",
   "metadata": {},
   "source": [
    "测试偏好数据库是否真正区分相似段（即检查其哈希函数是否按预期工作）。"
   ]
  },
  {
   "cell_type": "code",
   "execution_count": 2,
   "metadata": {},
   "outputs": [],
   "source": [
    "p = PrefDB(maxlen=5)\n",
    "s1 = np.ones((25, 84, 84, 4))\n",
    "s2 = np.ones((25, 84, 84, 4))\n",
    "s2[12][24][24][2] = 0\n",
    "p.append(s1, s2, [1.0, 0.0])\n",
    "assert len(p.segments) == 2"
   ]
  },
  {
   "cell_type": "markdown",
   "metadata": {},
   "source": [
    "执行多次追加/删除操作，并检查偏好和片段的数量是否始终如预期。"
   ]
  },
  {
   "cell_type": "code",
   "execution_count": 3,
   "metadata": {},
   "outputs": [],
   "source": [
    "p = PrefDB(maxlen=10)\n",
    "\n",
    "s1 = np.random.randint(low=-10, high=10, size=(25, 84, 84, 4))\n",
    "s2 = np.random.randint(low=-10, high=10, size=(25, 84, 84, 4))\n",
    "p.append(s1, s2, [1.0, 0.0])\n",
    "assert len(p.segments) == 2\n",
    "assert len(p.prefs) == 1\n",
    "\n",
    "p.append(s1, s2, [0.0, 1.0])\n",
    "assert len(p.segments) == 2\n",
    "assert len(p.prefs) == 2\n",
    "\n",
    "s1 = np.random.randint(low=-10, high=10, size=(25, 84, 84, 4))\n",
    "p.append(s1, s2, [1.0, 0.0])\n",
    "assert len(p.segments) == 3\n",
    "assert len(p.prefs) == 3\n",
    "\n",
    "s2 = np.random.randint(low=-10, high=10, size=(25, 84, 84, 4))\n",
    "p.append(s1, s2, [1.0, 0.0])\n",
    "assert len(p.segments) == 4\n",
    "assert len(p.prefs) == 4\n",
    "\n",
    "s1 = np.random.randint(low=-10, high=10, size=(25, 84, 84, 4))\n",
    "s2 = np.random.randint(low=-10, high=10, size=(25, 84, 84, 4))\n",
    "p.append(s1, s2, [1.0, 0.0])\n",
    "assert len(p.segments) == 6\n",
    "assert len(p.prefs) == 5\n",
    "\n",
    "prefs_pre = list(p.prefs)\n",
    "p.del_first()\n",
    "assert len(p.prefs) == 4\n",
    "assert p.prefs == prefs_pre[1:]\n",
    "# These segments were also used by the second preference,\n",
    "# so the number of segments shouldn't have decreased\n",
    "assert len(p.segments) == 6\n",
    "\n",
    "p.del_first()\n",
    "assert len(p.prefs) == 3\n",
    "# One of the segments just deleted was only used by the first two\n",
    "# preferences, so the length should have shrunk by one\n",
    "assert len(p.segments) == 5\n",
    "\n",
    "p.del_first()\n",
    "assert len(p.prefs) == 2\n",
    "# Another one should bite the dust...\n",
    "assert len(p.segments) == 4\n",
    "\n",
    "p.del_first()\n",
    "assert len(p.prefs) == 1\n",
    "assert len(p.segments) == 2\n",
    "\n",
    "p.del_first()\n",
    "assert len(p.prefs) == 0\n",
    "assert len(p.segments) == 0"
   ]
  },
  {
   "cell_type": "markdown",
   "metadata": {},
   "source": [
    "测试循环"
   ]
  },
  {
   "cell_type": "code",
   "execution_count": 4,
   "metadata": {},
   "outputs": [],
   "source": [
    "p = PrefDB(maxlen=2)\n",
    "\n",
    "p.append(0, 1, 10)\n",
    "assert len(p) == 1\n",
    "p.append(2, 3, 11)\n",
    "assert len(p) == 2\n",
    "p.append(4, 5, 12)\n",
    "assert len(p) == 2\n",
    "\n",
    "assert len(p.segments) == 4\n",
    "assert (2 in p.segments.values())\n",
    "assert (3 in p.segments.values())\n",
    "assert (4 in p.segments.values())\n",
    "assert (5 in p.segments.values())\n",
    "\n",
    "assert p.prefs[0][2] == 11\n",
    "assert p.prefs[1][2] == 12"
   ]
  },
  {
   "cell_type": "code",
   "execution_count": null,
   "metadata": {},
   "outputs": [],
   "source": []
  }
 ],
 "metadata": {
  "kernelspec": {
   "display_name": "Python 3",
   "language": "python",
   "name": "python3"
  },
  "language_info": {
   "codemirror_mode": {
    "name": "ipython",
    "version": 3
   },
   "file_extension": ".py",
   "mimetype": "text/x-python",
   "name": "python",
   "nbconvert_exporter": "python",
   "pygments_lexer": "ipython3",
   "version": "3.12.2"
  }
 },
 "nbformat": 4,
 "nbformat_minor": 2
}
