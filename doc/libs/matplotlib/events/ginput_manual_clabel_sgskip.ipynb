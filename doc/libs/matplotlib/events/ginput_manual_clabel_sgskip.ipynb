{
  "cells": [
    {
      "cell_type": "markdown",
      "metadata": {},
      "source": [
        "# 交互式函数\n",
        "\n",
        "这个提供了交互式函数的使用示例，如 ginput、waitforbuttonpress 和手动 clabel 放置。"
      ]
    },
    {
      "cell_type": "code",
      "execution_count": 1,
      "metadata": {
        "collapsed": false
      },
      "outputs": [],
      "source": [
        "# %matplotlib tk\n",
        "import time\n",
        "\n",
        "import matplotlib.pyplot as plt\n",
        "import numpy as np\n",
        "\n",
        "\n",
        "def tellme(s):\n",
        "    print(s)\n",
        "    plt.title(s, fontsize=16)\n",
        "    plt.draw()"
      ]
    },
    {
      "cell_type": "markdown",
      "metadata": {},
      "source": [
        "通过点击三个点定义一个三角形"
      ]
    },
    {
      "cell_type": "code",
      "execution_count": 2,
      "metadata": {
        "collapsed": false
      },
      "outputs": [
        {
          "name": "stdout",
          "output_type": "stream",
          "text": [
            "You will define a triangle, click to begin\n",
            "Select 3 corners with mouse\n",
            "Happy? Key click for yes, mouse click for no\n",
            "Select 3 corners with mouse\n",
            "Happy? Key click for yes, mouse click for no\n",
            "Select 3 corners with mouse\n",
            "Too few points, starting over\n",
            "Select 3 corners with mouse\n",
            "Happy? Key click for yes, mouse click for no\n"
          ]
        }
      ],
      "source": [
        "plt.figure()\n",
        "plt.xlim(0, 1)\n",
        "plt.ylim(0, 1)\n",
        "\n",
        "tellme('You will define a triangle, click to begin')\n",
        "\n",
        "plt.waitforbuttonpress()\n",
        "\n",
        "while True:\n",
        "    pts = []\n",
        "    while len(pts) < 3:\n",
        "        tellme('Select 3 corners with mouse')\n",
        "        pts = np.asarray(plt.ginput(3, timeout=-1))\n",
        "        if len(pts) < 3:\n",
        "            tellme('Too few points, starting over')\n",
        "            time.sleep(1)  # Wait a second\n",
        "\n",
        "    ph = plt.fill(pts[:, 0], pts[:, 1], 'r', lw=2)\n",
        "\n",
        "    tellme('Happy? Key click for yes, mouse click for no')\n",
        "\n",
        "    if plt.waitforbuttonpress():\n",
        "        break\n",
        "\n",
        "    # Get rid of fill\n",
        "    for p in ph:\n",
        "        p.remove()"
      ]
    },
    {
      "cell_type": "markdown",
      "metadata": {},
      "source": [
        "现在根据距离三角形角的距离进行等高线绘制——仅作示例："
      ]
    },
    {
      "cell_type": "code",
      "execution_count": 3,
      "metadata": {
        "collapsed": false
      },
      "outputs": [
        {
          "name": "stdout",
          "output_type": "stream",
          "text": [
            "Use mouse to select contour label locations, middle button to finish\n",
            "Select label locations manually using first mouse button.\n",
            "End manual selection with second mouse button.\n"
          ]
        }
      ],
      "source": [
        "# Define a nice function of distance from individual pts\n",
        "def f(x, y, pts):\n",
        "    z = np.zeros_like(x)\n",
        "    for p in pts:\n",
        "        z = z + 1/(np.sqrt((x - p[0])**2 + (y - p[1])**2))\n",
        "    return 1/z\n",
        "\n",
        "\n",
        "X, Y = np.meshgrid(np.linspace(-1, 1, 51), np.linspace(-1, 1, 51))\n",
        "Z = f(X, Y, pts)\n",
        "\n",
        "CS = plt.contour(X, Y, Z, 20)\n",
        "\n",
        "tellme('Use mouse to select contour label locations, middle button to finish')\n",
        "CL = plt.clabel(CS, manual=True)"
      ]
    },
    {
      "cell_type": "markdown",
      "metadata": {},
      "source": [
        "现在进行缩放："
      ]
    },
    {
      "cell_type": "code",
      "execution_count": 4,
      "metadata": {
        "collapsed": false
      },
      "outputs": [
        {
          "name": "stdout",
          "output_type": "stream",
          "text": [
            "Now do a nested zoom, click to begin\n",
            "Select two corners of zoom, middle mouse button to finish\n",
            "Select two corners of zoom, middle mouse button to finish\n",
            "Select two corners of zoom, middle mouse button to finish\n"
          ]
        },
        {
          "name": "stderr",
          "output_type": "stream",
          "text": [
            "/tmp/ipykernel_3892400/2952028225.py:12: UserWarning: Attempting to set identical low and high xlims makes transformation singular; automatically expanding.\n",
            "  plt.xlim(xmin, xmax)\n",
            "/tmp/ipykernel_3892400/2952028225.py:13: UserWarning: Attempting to set identical low and high ylims makes transformation singular; automatically expanding.\n",
            "  plt.ylim(ymin, ymax)\n"
          ]
        },
        {
          "name": "stdout",
          "output_type": "stream",
          "text": [
            "Select two corners of zoom, middle mouse button to finish\n",
            "Select two corners of zoom, middle mouse button to finish\n",
            "Select two corners of zoom, middle mouse button to finish\n",
            "Select two corners of zoom, middle mouse button to finish\n",
            "Select two corners of zoom, middle mouse button to finish\n",
            "Select two corners of zoom, middle mouse button to finish\n",
            "All Done!\n"
          ]
        }
      ],
      "source": [
        "tellme('Now do a nested zoom, click to begin')\n",
        "plt.waitforbuttonpress()\n",
        "\n",
        "while True:\n",
        "    tellme('Select two corners of zoom, middle mouse button to finish')\n",
        "    pts = plt.ginput(2, timeout=-1)\n",
        "    if len(pts) < 2:\n",
        "        break\n",
        "    (x0, y0), (x1, y1) = pts\n",
        "    xmin, xmax = sorted([x0, x1])\n",
        "    ymin, ymax = sorted([y0, y1])\n",
        "    plt.xlim(xmin, xmax)\n",
        "    plt.ylim(ymin, ymax)\n",
        "\n",
        "tellme('All Done!')\n",
        "plt.show()"
      ]
    },
    {
      "cell_type": "code",
      "execution_count": null,
      "metadata": {},
      "outputs": [],
      "source": []
    }
  ],
  "metadata": {
    "kernelspec": {
      "display_name": "Python 3",
      "language": "python",
      "name": "python3"
    },
    "language_info": {
      "codemirror_mode": {
        "name": "ipython",
        "version": 3
      },
      "file_extension": ".py",
      "mimetype": "text/x-python",
      "name": "python",
      "nbconvert_exporter": "python",
      "pygments_lexer": "ipython3",
      "version": "3.12.2"
    }
  },
  "nbformat": 4,
  "nbformat_minor": 0
}
