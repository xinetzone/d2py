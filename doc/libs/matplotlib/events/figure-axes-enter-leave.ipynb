{
  "cells": [
    {
      "cell_type": "markdown",
      "metadata": {},
      "source": [
        "# 图形/坐标轴进入和离开事件\n",
        "\n",
        "通过在进入和离开时改变帧颜色来说明图形和坐标轴的进入和离开事件。"
      ]
    },
    {
      "cell_type": "code",
      "execution_count": 1,
      "metadata": {
        "collapsed": false
      },
      "outputs": [
        {
          "name": "stdout",
          "output_type": "stream",
          "text": [
            "enter_figure Figure(640x480)\n",
            "enter_axes Axes(0.125,0.53;0.775x0.35)\n",
            "leave_axes Axes(0.125,0.53;0.775x0.35)\n",
            "enter_axes Axes(0.125,0.11;0.775x0.35)\n",
            "leave_axes Axes(0.125,0.11;0.775x0.35)\n",
            "enter_axes Axes(0.125,0.53;0.775x0.35)\n",
            "leave_axes Axes(0.125,0.53;0.775x0.35)\n",
            "enter_axes Axes(0.125,0.11;0.775x0.35)\n",
            "leave_axes Axes(0.125,0.11;0.775x0.35)\n",
            "enter_axes Axes(0.125,0.53;0.775x0.35)\n",
            "leave_axes Axes(0.125,0.53;0.775x0.35)\n",
            "enter_axes Axes(0.125,0.11;0.775x0.35)\n",
            "leave_axes Axes(0.125,0.11;0.775x0.35)\n",
            "enter_axes Axes(0.125,0.53;0.775x0.35)\n",
            "leave_axes Axes(0.125,0.53;0.775x0.35)\n",
            "enter_axes Axes(0.125,0.11;0.775x0.35)\n",
            "leave_axes Axes(0.125,0.11;0.775x0.35)\n",
            "enter_axes Axes(0.125,0.53;0.775x0.35)\n",
            "leave_axes Axes(0.125,0.53;0.775x0.35)\n",
            "enter_axes Axes(0.125,0.11;0.775x0.35)\n",
            "leave_axes Axes(0.125,0.11;0.775x0.35)\n",
            "enter_axes Axes(0.125,0.53;0.775x0.35)\n",
            "leave_axes Axes(0.125,0.53;0.775x0.35)\n",
            "enter_axes Axes(0.125,0.11;0.775x0.35)\n",
            "leave_axes Axes(0.125,0.11;0.775x0.35)\n",
            "enter_axes Axes(0.125,0.53;0.775x0.35)\n",
            "leave_axes Axes(0.125,0.53;0.775x0.35)\n",
            "enter_axes Axes(0.125,0.11;0.775x0.35)\n",
            "leave_axes Axes(0.125,0.11;0.775x0.35)\n",
            "leave_figure Figure(640x480)\n"
          ]
        }
      ],
      "source": [
        "# %matplotlib tk\n",
        "import matplotlib.pyplot as plt\n",
        "\n",
        "\n",
        "def on_enter_axes(event):\n",
        "    print('enter_axes', event.inaxes)\n",
        "    event.inaxes.patch.set_facecolor('yellow')\n",
        "    event.canvas.draw()\n",
        "\n",
        "\n",
        "def on_leave_axes(event):\n",
        "    print('leave_axes', event.inaxes)\n",
        "    event.inaxes.patch.set_facecolor('white')\n",
        "    event.canvas.draw()\n",
        "\n",
        "\n",
        "def on_enter_figure(event):\n",
        "    print('enter_figure', event.canvas.figure)\n",
        "    event.canvas.figure.patch.set_facecolor('red')\n",
        "    event.canvas.draw()\n",
        "\n",
        "\n",
        "def on_leave_figure(event):\n",
        "    print('leave_figure', event.canvas.figure)\n",
        "    event.canvas.figure.patch.set_facecolor('grey')\n",
        "    event.canvas.draw()\n",
        "\n",
        "\n",
        "fig, axs = plt.subplots(2, 1)\n",
        "fig.suptitle('mouse hover over figure or Axes to trigger events')\n",
        "\n",
        "fig.canvas.mpl_connect('figure_enter_event', on_enter_figure)\n",
        "fig.canvas.mpl_connect('figure_leave_event', on_leave_figure)\n",
        "fig.canvas.mpl_connect('axes_enter_event', on_enter_axes)\n",
        "fig.canvas.mpl_connect('axes_leave_event', on_leave_axes)\n",
        "\n",
        "plt.show()"
      ]
    },
    {
      "cell_type": "code",
      "execution_count": null,
      "metadata": {},
      "outputs": [],
      "source": []
    }
  ],
  "metadata": {
    "kernelspec": {
      "display_name": "Python 3",
      "language": "python",
      "name": "python3"
    },
    "language_info": {
      "codemirror_mode": {
        "name": "ipython",
        "version": 3
      },
      "file_extension": ".py",
      "mimetype": "text/x-python",
      "name": "python",
      "nbconvert_exporter": "python",
      "pygments_lexer": "ipython3",
      "version": "3.12.2"
    }
  },
  "nbformat": 4,
  "nbformat_minor": 0
}
