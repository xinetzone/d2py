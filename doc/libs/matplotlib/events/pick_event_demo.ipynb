{
  "cells": [
    {
      "cell_type": "markdown",
      "metadata": {},
      "source": [
        "# 选择事件演示\n",
        "\n",
        "你可以通过设置艺术家的 \"picker\" 属性来启用选择功能（例如 Matplotlib 中的 Line2D、Text、Patch、Polygon、AxesImage 等）。\n",
        "\n",
        "picker 属性有多种含义：\n",
        "\n",
        "* `None` - 对于此艺术家禁用选择（默认）\n",
        "\n",
        "* `bool` - 如果为 `True`，则启用选择功能，当鼠标事件在艺术家上时，艺术家将触发 pick 事件。\n",
        "  设置 ``pickradius`` 将在点中添加 `epsilon` 容差，如果其数据在鼠标事件的 `epsilon` 范围内，则艺术家将触发事件。对于某些艺术家如线条和补丁集合，艺术家可能会为生成的 pick 事件提供额外的数据，例如在 pick 事件的 `epsilon` 范围内的数据的索引。\n",
        "\n",
        "* `function` - 如果 picker 是可调用的，它是用户提供的函数，用于确定鼠标事件是否命中艺术家。\n",
        "    ```python\n",
        "    hit, props = picker(artist, mouseevent)\n",
        "    ```\n",
        "\n",
        "  来确定命中测试。如果鼠标事件在艺术家上，返回 `hit=True` 并且 `props` 是要添加到 `PickEvent` 属性的字典。\n",
        "\n",
        "在通过设置 `\"picker\"` 属性启用艺术家的选择后，你需要连接到 figure canvas 的 pick_event，以在鼠标按下事件上获得 pick 回调。例如，::\n",
        "    ```python\n",
        "    def pick_handler(event):\n",
        "        mouseevent = event.mouseevent\n",
        "        artist = event.artist\n",
        "        # 现在用这个做一些事情...\n",
        "    ```\n",
        "\n",
        "传递给你的回调的 pick 事件（{class}`matplotlib.backend_bases.PickEvent`）总是带有两个属性：\n",
        "\n",
        "- `mouseevent`\n",
        "  生成 pick 事件的鼠标事件。\n",
        "\n",
        "  鼠标事件又具有诸如 `x` 和 `y`（显示空间中的坐标，例如从左下角的像素）以及 `xdata`, `ydata`（数据空间中的坐标）等属性。此外，你可以获取有关哪个按钮被按下、哪些键被按下、鼠标在哪个轴上等信息。请参阅 {class}`matplotlib.backend_bases.MouseEvent` 获取详细信息。\n",
        "\n",
        "- `artist`\n",
        "  生成 pick 事件的 {mod}`matplotlib.artist`。\n",
        "\n",
        "另外，像 Line2D 和 PatchCollection 这样的特定艺术家可能会附加额外的元数据，如满足选择标准的数据的索引（例如，在指定的 epsilon 容差范围内的所有点）。\n",
        "\n",
        "以下示例说明了这些方法。"
      ]
    },
    {
      "cell_type": "code",
      "execution_count": 1,
      "metadata": {},
      "outputs": [],
      "source": [
        "# %matplotlib tk"
      ]
    },
    {
      "cell_type": "code",
      "execution_count": 2,
      "metadata": {
        "collapsed": false
      },
      "outputs": [],
      "source": [
        "import matplotlib.pyplot as plt\n",
        "import numpy as np\n",
        "from numpy.random import rand\n",
        "\n",
        "from matplotlib.image import AxesImage\n",
        "from matplotlib.lines import Line2D\n",
        "from matplotlib.patches import Rectangle\n",
        "from matplotlib.text import Text\n",
        "\n",
        "# Fixing random state for reproducibility\n",
        "np.random.seed(19680801)"
      ]
    },
    {
      "cell_type": "markdown",
      "metadata": {},
      "source": [
        "## 简单的选择：线条、矩形和文本"
      ]
    },
    {
      "cell_type": "code",
      "execution_count": 3,
      "metadata": {
        "collapsed": false
      },
      "outputs": [
        {
          "data": {
            "text/plain": [
              "14"
            ]
          },
          "execution_count": 3,
          "metadata": {},
          "output_type": "execute_result"
        },
        {
          "name": "stdout",
          "output_type": "stream",
          "text": [
            "onpick1 line: [[37.          0.48320961]]\n",
            "onpick1 line: [[35.          0.78306588]]\n",
            "onpick1 patch: Path(array([[0., 0.],\n",
            "       [1., 0.],\n",
            "       [1., 1.],\n",
            "       [0., 1.],\n",
            "       [0., 0.]]), array([ 1,  2,  2,  2, 79], dtype=uint8))\n",
            "onpick1 patch: Path(array([[0., 0.],\n",
            "       [1., 0.],\n",
            "       [1., 1.],\n",
            "       [0., 1.],\n",
            "       [0., 0.]]), array([ 1,  2,  2,  2, 79], dtype=uint8))\n",
            "onpick1 patch: Path(array([[0., 0.],\n",
            "       [1., 0.],\n",
            "       [1., 1.],\n",
            "       [0., 1.],\n",
            "       [0., 0.]]), array([ 1,  2,  2,  2, 79], dtype=uint8))\n",
            "onpick1 line: [[82.         0.2268104]]\n",
            "onpick1 line: [[82.         0.2268104]]\n",
            "onpick1 line: [[82.         0.2268104]]\n",
            "onpick1 line: [[82.         0.2268104]]\n",
            "onpick1 patch: Path(array([[0., 0.],\n",
            "       [1., 0.],\n",
            "       [1., 1.],\n",
            "       [0., 1.],\n",
            "       [0., 0.]]), array([ 1,  2,  2,  2, 79], dtype=uint8))\n"
          ]
        }
      ],
      "source": [
        "fig, (ax1, ax2) = plt.subplots(2, 1)\n",
        "ax1.set_title('click on points, rectangles or text', picker=True)\n",
        "ax1.set_ylabel('ylabel', picker=True, bbox=dict(facecolor='red'))\n",
        "line, = ax1.plot(rand(100), 'o', picker=True, pickradius=5)\n",
        "\n",
        "# Pick the rectangle.\n",
        "ax2.bar(range(10), rand(10), picker=True)\n",
        "for label in ax2.get_xticklabels():  # Make the xtick labels pickable.\n",
        "    label.set_picker(True)\n",
        "\n",
        "\n",
        "def onpick1(event):\n",
        "    if isinstance(event.artist, Line2D):\n",
        "        thisline = event.artist\n",
        "        xdata = thisline.get_xdata()\n",
        "        ydata = thisline.get_ydata()\n",
        "        ind = event.ind\n",
        "        print('onpick1 line:', np.column_stack([xdata[ind], ydata[ind]]))\n",
        "    elif isinstance(event.artist, Rectangle):\n",
        "        patch = event.artist\n",
        "        print('onpick1 patch:', patch.get_path())\n",
        "    elif isinstance(event.artist, Text):\n",
        "        text = event.artist\n",
        "        print('onpick1 text:', text.get_text())\n",
        "\n",
        "\n",
        "fig.canvas.mpl_connect('pick_event', onpick1)"
      ]
    },
    {
      "cell_type": "markdown",
      "metadata": {},
      "source": [
        "## 使用自定义命中测试函数的选择\n",
        "你可以通过将 `picker` 设置为可调用的函数来定义自定义选择器。该函数具有以下签名：\n",
        "```python\n",
        "hit, props = func(artist, mouseevent)\n",
        "```\n",
        "来确定命中测试。如果鼠标事件在艺术家上，返回 ``hit=True`` 并且 ``props`` 是你想添加到 `.PickEvent` 属性的属性字典。"
      ]
    },
    {
      "cell_type": "code",
      "execution_count": 4,
      "metadata": {
        "collapsed": false
      },
      "outputs": [
        {
          "data": {
            "text/plain": [
              "14"
            ]
          },
          "execution_count": 4,
          "metadata": {},
          "output_type": "execute_result"
        },
        {
          "name": "stdout",
          "output_type": "stream",
          "text": [
            "onpick2 line: [0.11632148] [0.68948604]\n",
            "onpick2 line: [0.06097709 0.05552486] [0.79304089 0.84058217]\n",
            "onpick2 line: [0.53413535] [0.45664264]\n",
            "onpick2 line: [0.51195743 0.53413535] [0.50131575 0.45664264]\n",
            "onpick2 line: [0.51195743 0.53413535] [0.50131575 0.45664264]\n",
            "onpick2 line: [0.5838648] [0.53457107]\n",
            "onpick2 line: [0.70743918] [0.55113251]\n",
            "onpick2 line: [0.15024598 0.19481606 0.22140904 0.20272247] [0.28792293 0.26229789 0.24974709 0.2895639 ]\n"
          ]
        }
      ],
      "source": [
        "def line_picker(line, mouseevent):\n",
        "    \"\"\"\n",
        "    Find the points within a certain distance from the mouseclick in\n",
        "    data coords and attach some extra attributes, pickx and picky\n",
        "    which are the data points that were picked.\n",
        "    \"\"\"\n",
        "    if mouseevent.xdata is None:\n",
        "        return False, dict()\n",
        "    xdata = line.get_xdata()\n",
        "    ydata = line.get_ydata()\n",
        "    maxd = 0.05\n",
        "    d = np.sqrt(\n",
        "        (xdata - mouseevent.xdata)**2 + (ydata - mouseevent.ydata)**2)\n",
        "\n",
        "    ind, = np.nonzero(d <= maxd)\n",
        "    if len(ind):\n",
        "        pickx = xdata[ind]\n",
        "        picky = ydata[ind]\n",
        "        props = dict(ind=ind, pickx=pickx, picky=picky)\n",
        "        return True, props\n",
        "    else:\n",
        "        return False, dict()\n",
        "\n",
        "\n",
        "def onpick2(event):\n",
        "    print('onpick2 line:', event.pickx, event.picky)\n",
        "\n",
        "\n",
        "fig, ax = plt.subplots()\n",
        "ax.set_title('custom picker for line data')\n",
        "line, = ax.plot(rand(100), rand(100), 'o', picker=line_picker)\n",
        "fig.canvas.mpl_connect('pick_event', onpick2)"
      ]
    },
    {
      "cell_type": "markdown",
      "metadata": {},
      "source": [
        "## 在散点图上的选择\n",
        "散点图由 {class}`~matplotlib.collections.PathCollection` 支持。"
      ]
    },
    {
      "cell_type": "code",
      "execution_count": 5,
      "metadata": {
        "collapsed": false
      },
      "outputs": [
        {
          "data": {
            "text/plain": [
              "14"
            ]
          },
          "execution_count": 5,
          "metadata": {},
          "output_type": "execute_result"
        },
        {
          "name": "stdout",
          "output_type": "stream",
          "text": [
            "onpick3 scatter: [70 97] [0.24263777 0.23168902] [0.70451921 0.68434196]\n"
          ]
        }
      ],
      "source": [
        "x, y, c, s = rand(4, 100)\n",
        "\n",
        "\n",
        "def onpick3(event):\n",
        "    ind = event.ind\n",
        "    print('onpick3 scatter:', ind, x[ind], y[ind])\n",
        "\n",
        "\n",
        "fig, ax = plt.subplots()\n",
        "ax.scatter(x, y, 100*s, c, picker=True)\n",
        "fig.canvas.mpl_connect('pick_event', onpick3)"
      ]
    },
    {
      "cell_type": "markdown",
      "metadata": {},
      "source": [
        "## 选择图像\n",
        "使用 `.Axes.imshow` 绘制的图像是 {class}`~matplotlib.image.AxesImage` 对象。"
      ]
    },
    {
      "cell_type": "code",
      "execution_count": 6,
      "metadata": {
        "collapsed": false
      },
      "outputs": [
        {
          "name": "stdout",
          "output_type": "stream",
          "text": [
            "onpick4 image (10, 5)\n",
            "onpick4 image (20, 25)\n",
            "onpick4 image (30, 12)\n",
            "onpick4 image (5, 10)\n"
          ]
        }
      ],
      "source": [
        "fig, ax = plt.subplots()\n",
        "ax.imshow(rand(10, 5), extent=(1, 2, 1, 2), picker=True)\n",
        "ax.imshow(rand(5, 10), extent=(3, 4, 1, 2), picker=True)\n",
        "ax.imshow(rand(20, 25), extent=(1, 2, 3, 4), picker=True)\n",
        "ax.imshow(rand(30, 12), extent=(3, 4, 3, 4), picker=True)\n",
        "ax.set(xlim=(0, 5), ylim=(0, 5))\n",
        "\n",
        "\n",
        "def onpick4(event):\n",
        "    artist = event.artist\n",
        "    if isinstance(artist, AxesImage):\n",
        "        im = artist\n",
        "        A = im.get_array()\n",
        "        print('onpick4 image', A.shape)\n",
        "\n",
        "\n",
        "fig.canvas.mpl_connect('pick_event', onpick4)\n",
        "\n",
        "plt.show()"
      ]
    },
    {
      "cell_type": "markdown",
      "metadata": {},
      "source": [
        "## 选择事件演示 2\n",
        "计算 100 个数据集的均值（mu）和标准差（sigma），绘制 mu 与 sigma。当你点击其中一个 (mu, sigma) 点时，绘制生成该点的数据集的原始数据。"
      ]
    },
    {
      "cell_type": "code",
      "execution_count": 7,
      "metadata": {},
      "outputs": [],
      "source": [
        "import matplotlib.pyplot as plt\n",
        "import numpy as np\n",
        "\n",
        "# Fixing random state for reproducibility\n",
        "np.random.seed(19680801)\n",
        "\n",
        "X = np.random.rand(100, 1000)\n",
        "xs = np.mean(X, axis=1)\n",
        "ys = np.std(X, axis=1)\n",
        "\n",
        "fig, ax = plt.subplots()\n",
        "ax.set_title('click on point to plot time series')\n",
        "line, = ax.plot(xs, ys, 'o', picker=True, pickradius=5)\n",
        "\n",
        "\n",
        "def onpick(event):\n",
        "\n",
        "    if event.artist != line:\n",
        "        return\n",
        "\n",
        "    N = len(event.ind)\n",
        "    if not N:\n",
        "        return\n",
        "\n",
        "    figi, axs = plt.subplots(N, squeeze=False)\n",
        "    for ax, dataind in zip(axs.flat, event.ind):\n",
        "        ax.plot(X[dataind])\n",
        "        ax.text(.05, .9, f'mu={xs[dataind]:1.3f}\\nsigma={ys[dataind]:1.3f}',\n",
        "                transform=ax.transAxes, va='top')\n",
        "        ax.set_ylim(-0.5, 1.5)\n",
        "    figi.show()\n",
        "\n",
        "\n",
        "fig.canvas.mpl_connect('pick_event', onpick)\n",
        "\n",
        "plt.show()"
      ]
    },
    {
      "cell_type": "code",
      "execution_count": null,
      "metadata": {},
      "outputs": [],
      "source": []
    }
  ],
  "metadata": {
    "kernelspec": {
      "display_name": "Python 3",
      "language": "python",
      "name": "python3"
    },
    "language_info": {
      "codemirror_mode": {
        "name": "ipython",
        "version": 3
      },
      "file_extension": ".py",
      "mimetype": "text/x-python",
      "name": "python",
      "nbconvert_exporter": "python",
      "pygments_lexer": "ipython3",
      "version": "3.12.2"
    }
  },
  "nbformat": 4,
  "nbformat_minor": 0
}
