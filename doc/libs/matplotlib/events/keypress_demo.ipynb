{
  "cells": [
    {
      "cell_type": "markdown",
      "metadata": {},
      "source": [
        "# 按键事件\n",
        "\n",
        "展示如何连接按键事件。"
      ]
    },
    {
      "cell_type": "code",
      "execution_count": 1,
      "metadata": {
        "collapsed": false
      },
      "outputs": [
        {
          "name": "stdout",
          "output_type": "stream",
          "text": [
            "press w\n",
            "press q\n"
          ]
        }
      ],
      "source": [
        "# %matplotlib tk\n",
        "import sys\n",
        "\n",
        "import matplotlib.pyplot as plt\n",
        "import numpy as np\n",
        "\n",
        "\n",
        "def on_press(event):\n",
        "    print('press', event.key)\n",
        "    sys.stdout.flush()\n",
        "    if event.key == 'x':\n",
        "        visible = xl.get_visible()\n",
        "        xl.set_visible(not visible)\n",
        "        fig.canvas.draw()\n",
        "\n",
        "\n",
        "# Fixing random state for reproducibility\n",
        "np.random.seed(19680801)\n",
        "\n",
        "fig, ax = plt.subplots()\n",
        "\n",
        "fig.canvas.mpl_connect('key_press_event', on_press)\n",
        "\n",
        "ax.plot(np.random.rand(12), np.random.rand(12), 'go')\n",
        "xl = ax.set_xlabel('easy come, easy go')\n",
        "ax.set_title('Press a key')\n",
        "plt.show()"
      ]
    },
    {
      "cell_type": "code",
      "execution_count": null,
      "metadata": {},
      "outputs": [],
      "source": []
    }
  ],
  "metadata": {
    "kernelspec": {
      "display_name": "Python 3",
      "language": "python",
      "name": "python3"
    },
    "language_info": {
      "codemirror_mode": {
        "name": "ipython",
        "version": 3
      },
      "file_extension": ".py",
      "mimetype": "text/x-python",
      "name": "python",
      "nbconvert_exporter": "python",
      "pygments_lexer": "ipython3",
      "version": "3.12.2"
    }
  },
  "nbformat": 4,
  "nbformat_minor": 0
}
