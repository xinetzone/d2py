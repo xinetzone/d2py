{
 "cells": [
  {
   "cell_type": "markdown",
   "metadata": {},
   "source": [
    "# Figure 简介"
   ]
  },
  {
   "cell_type": "markdown",
   "metadata": {},
   "source": [
    "在使用 Matplotlib 进行可视化时，你几乎总是在查看放置在图表（{class}`~matplotlib.figure.Figure`）上的艺术家对象（Artists）。在下面的例子中，图表是蓝色区域，{meth}`~matplotlib.figure.Figure.add_subplot` 方法向图表中添加了坐标轴（{class}`~matplotlib.axes.Axes`）艺术家对象（参见[图表的组成部分](https://matplotlib.org/stable/users/explain/quick_start.html#figure-parts)）。更复杂的可视化可以在图表中添加多个坐标轴、颜色条、图例、注释等，同时这些坐标轴本身也可以包含多个艺术家对象（例如 `ax.plot` 或 `ax.imshow`）。"
   ]
  },
  {
   "cell_type": "code",
   "execution_count": 1,
   "metadata": {},
   "outputs": [
    {
     "data": {
      "text/plain": [
       "Text(0.0, 1.0, 'Axes')"
      ]
     },
     "execution_count": 1,
     "metadata": {},
     "output_type": "execute_result"
    },
    {
     "data": {
      "image/png": "[encoded data removed]",
      "text/plain": [
       "<Figure size 200x200 with 1 Axes>"
      ]
     },
     "metadata": {},
     "output_type": "display_data"
    }
   ],
   "source": [
    "from matplotlib import pyplot as plt\n",
    "fig = plt.figure(figsize=(2, 2), facecolor='lightskyblue',\n",
    "                 layout='constrained')\n",
    "fig.suptitle('Figure')\n",
    "ax = fig.add_subplot()\n",
    "ax.set_title('Axes', loc='left', fontstyle='oblique', fontsize='medium')"
   ]
  },
  {
   "cell_type": "code",
   "execution_count": null,
   "metadata": {},
   "outputs": [],
   "source": []
  }
 ],
 "metadata": {
  "kernelspec": {
   "display_name": "Python 3",
   "language": "python",
   "name": "python3"
  },
  "language_info": {
   "codemirror_mode": {
    "name": "ipython",
    "version": 3
   },
   "file_extension": ".py",
   "mimetype": "text/x-python",
   "name": "python",
   "nbconvert_exporter": "python",
   "pygments_lexer": "ipython3",
   "version": "3.12.2"
  }
 },
 "nbformat": 4,
 "nbformat_minor": 2
}
