{
  "cells": [
    {
      "cell_type": "markdown",
      "metadata": {},
      "source": [
        "# SVG 工具提示\n",
        "\n",
        "此示例展示了如何创建一个当鼠标悬停在 matplotlib 图形上时显示的工具提示。\n",
        "\n",
        "虽然可以使用 CSS 或 JavaScript 创建工具提示，但在这里我们使用 matplotlib 创建它，并在鼠标悬停在图形上时切换其可见性。这种方法提供了对工具提示位置和外观的完全控制，但需要更多的代码来实现。\n",
        "\n",
        "另一种方法是将工具提示内容放在 SVG 对象的 ``title`` 属性中。然后，使用现有的 js/CSS 库，在浏览器中创建工具提示相对简单。工具提示的内容由 ``title`` 属性决定，外观由 CSS 决定。\n",
        "\n",
        "作者： David Huard"
      ]
    },
    {
      "cell_type": "code",
      "execution_count": null,
      "metadata": {},
      "outputs": [],
      "source": [
        "from pathlib import Path\n",
        "\n",
        "Path(\".temp\").mkdir(parents=True, exist_ok=True)"
      ]
    },
    {
      "cell_type": "code",
      "execution_count": 2,
      "metadata": {
        "collapsed": false
      },
      "outputs": [
        {
          "data": {
            "image/png": "[encoded data removed]",
            "text/plain": [
              "<Figure size 640x480 with 1 Axes>"
            ]
          },
          "metadata": {},
          "output_type": "display_data"
        }
      ],
      "source": [
        "from io import BytesIO\n",
        "import xml.etree.ElementTree as ET\n",
        "\n",
        "import matplotlib.pyplot as plt\n",
        "\n",
        "ET.register_namespace(\"\", \"http://www.w3.org/2000/svg\")\n",
        "\n",
        "fig, ax = plt.subplots()\n",
        "\n",
        "# Create patches to which tooltips will be assigned.\n",
        "rect1 = plt.Rectangle((10, -20), 10, 5, fc='blue')\n",
        "rect2 = plt.Rectangle((-20, 15), 10, 5, fc='green')\n",
        "\n",
        "shapes = [rect1, rect2]\n",
        "labels = ['This is a blue rectangle.', 'This is a green rectangle']\n",
        "\n",
        "for i, (item, label) in enumerate(zip(shapes, labels)):\n",
        "    patch = ax.add_patch(item)\n",
        "    annotate = ax.annotate(labels[i], xy=item.get_xy(), xytext=(0, 0),\n",
        "                           textcoords='offset points', color='w', ha='center',\n",
        "                           fontsize=8, bbox=dict(boxstyle='round, pad=.5',\n",
        "                                                 fc=(.1, .1, .1, .92),\n",
        "                                                 ec=(1., 1., 1.), lw=1,\n",
        "                                                 zorder=1))\n",
        "\n",
        "    ax.add_patch(patch)\n",
        "    patch.set_gid(f'mypatch_{i:03d}')\n",
        "    annotate.set_gid(f'mytooltip_{i:03d}')\n",
        "\n",
        "# Save the figure in a fake file object\n",
        "ax.set_xlim(-30, 30)\n",
        "ax.set_ylim(-30, 30)\n",
        "ax.set_aspect('equal')\n",
        "\n",
        "f = BytesIO()\n",
        "plt.savefig(f, format=\"svg\")\n",
        "\n",
        "# --- Add interactivity ---\n",
        "\n",
        "# Create XML tree from the SVG file.\n",
        "tree, xmlid = ET.XMLID(f.getvalue())\n",
        "tree.set('onload', 'init(event)')\n",
        "\n",
        "for i in shapes:\n",
        "    # Get the index of the shape\n",
        "    index = shapes.index(i)\n",
        "    # Hide the tooltips\n",
        "    tooltip = xmlid[f'mytooltip_{index:03d}']\n",
        "    tooltip.set('visibility', 'hidden')\n",
        "    # Assign onmouseover and onmouseout callbacks to patches.\n",
        "    mypatch = xmlid[f'mypatch_{index:03d}']\n",
        "    mypatch.set('onmouseover', \"ShowTooltip(this)\")\n",
        "    mypatch.set('onmouseout', \"HideTooltip(this)\")\n",
        "\n",
        "# This is the script defining the ShowTooltip and HideTooltip functions.\n",
        "script = \"\"\"\n",
        "    <script type=\"text/ecmascript\">\n",
        "    <![CDATA[\n",
        "\n",
        "    function init(event) {\n",
        "        if ( window.svgDocument == null ) {\n",
        "            svgDocument = event.target.ownerDocument;\n",
        "            }\n",
        "        }\n",
        "\n",
        "    function ShowTooltip(obj) {\n",
        "        var cur = obj.id.split(\"_\")[1];\n",
        "        var tip = svgDocument.getElementById('mytooltip_' + cur);\n",
        "        tip.setAttribute('visibility', \"visible\")\n",
        "        }\n",
        "\n",
        "    function HideTooltip(obj) {\n",
        "        var cur = obj.id.split(\"_\")[1];\n",
        "        var tip = svgDocument.getElementById('mytooltip_' + cur);\n",
        "        tip.setAttribute('visibility', \"hidden\")\n",
        "        }\n",
        "\n",
        "    ]]>\n",
        "    </script>\n",
        "    \"\"\"\n",
        "\n",
        "# Insert the script at the top of the file and save it.\n",
        "tree.insert(0, ET.XML(script))\n",
        "ET.ElementTree(tree).write('.temp/svg_tooltip.svg')"
      ]
    },
    {
      "cell_type": "code",
      "execution_count": null,
      "metadata": {},
      "outputs": [],
      "source": []
    }
  ],
  "metadata": {
    "kernelspec": {
      "display_name": "Python 3",
      "language": "python",
      "name": "python3"
    },
    "language_info": {
      "codemirror_mode": {
        "name": "ipython",
        "version": 3
      },
      "file_extension": ".py",
      "mimetype": "text/x-python",
      "name": "python",
      "nbconvert_exporter": "python",
      "pygments_lexer": "ipython3",
      "version": "3.12.2"
    }
  },
  "nbformat": 4,
  "nbformat_minor": 0
}
