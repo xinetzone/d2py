{
  "cells": [
    {
      "cell_type": "markdown",
      "metadata": {},
      "source": [
        "\n",
        "# 嵌入 Tk\n"
      ]
    },
    {
      "cell_type": "code",
      "execution_count": 1,
      "metadata": {},
      "outputs": [],
      "source": [
        "from tkinter import ttk, Tk, Scale\n",
        "import numpy as np\n",
        "# Implement the default Matplotlib key bindings.\n",
        "from matplotlib.backend_bases import key_press_handler\n",
        "from matplotlib.backends.backend_tkagg import (FigureCanvasTkAgg,\n",
        "                                               NavigationToolbar2Tk)\n",
        "from matplotlib.figure import Figure\n",
        "\n",
        "\n",
        "class Window(Tk):\n",
        "    def __init__(self, *args, **kwargs):\n",
        "        super().__init__(*args, **kwargs)\n",
        "        self.button_quit = ttk.Button(text=\"Quit\", command=self.destroy)\n",
        "        self.slider_update = Scale(\n",
        "            from_=1, to=5, orient='horizontal',\n",
        "            command=self.update_frequency,\n",
        "            label=\"Frequency [Hz]\",\n",
        "        )\n",
        "\n",
        "        fig = Figure(figsize=(5, 4), dpi=100)\n",
        "        self.t = np.arange(0, 3, .01)\n",
        "        ax = fig.add_subplot()\n",
        "        self.line, = ax.plot(self.t, 2 * np.sin(2 * np.pi * self.t))\n",
        "        ax.set_xlabel(\"time [s]\")\n",
        "        ax.set_ylabel(\"f(t)\")\n",
        "\n",
        "        self.canvas = FigureCanvasTkAgg(fig)  # A tk.DrawingArea.\n",
        "        self.canvas.draw()\n",
        "\n",
        "        # pack_toolbar=False will make it easier to use a layout manager later on.\n",
        "        self.toolbar = NavigationToolbar2Tk(self.canvas, pack_toolbar=False)\n",
        "        self.toolbar.update()\n",
        "        \n",
        "        # pack顺序很重要。部件是按顺序处理的，如果因为窗口太小而没有剩余空间，它们就不会被显示。\n",
        "        # 画布的大小相当灵活，所以我们将其放在最后打包，这样可以确保UI控件在可能的情况下尽可能长时间地显示。\n",
        "        self.button_quit.pack(side='bottom')\n",
        "        self.slider_update.pack(side='bottom')\n",
        "        self.toolbar.pack(side='bottom', fill=\"x\")\n",
        "        self.canvas.get_tk_widget().pack(side=\"top\", fill=\"both\", expand=True)\n",
        "\n",
        "        self.canvas.mpl_connect(\n",
        "            \"key_press_event\", lambda event: print(f\"you pressed {event.key}\"))\n",
        "        self.canvas.mpl_connect(\"key_press_event\", key_press_handler)\n",
        "\n",
        "    def update_frequency(self, new_val):\n",
        "        # retrieve frequency\n",
        "        f = float(new_val)\n",
        "\n",
        "        # update data\n",
        "        y = 2 * np.sin(2 * np.pi * f * self.t)\n",
        "        self.line.set_data(self.t, y)\n",
        "\n",
        "        # required to update canvas and attached toolbar!\n",
        "        self.canvas.draw()"
      ]
    },
    {
      "cell_type": "code",
      "execution_count": 2,
      "metadata": {},
      "outputs": [],
      "source": [
        "win = Window()\n",
        "win.wm_title(\"Embedding in Tk\")\n",
        "# win.mainloop()"
      ]
    },
    {
      "cell_type": "code",
      "execution_count": null,
      "metadata": {},
      "outputs": [],
      "source": []
    }
  ],
  "metadata": {
    "kernelspec": {
      "display_name": "Python 3",
      "language": "python",
      "name": "python3"
    },
    "language_info": {
      "codemirror_mode": {
        "name": "ipython",
        "version": 3
      },
      "file_extension": ".py",
      "mimetype": "text/x-python",
      "name": "python",
      "nbconvert_exporter": "python",
      "pygments_lexer": "ipython3",
      "version": "3.12.2"
    }
  },
  "nbformat": 4,
  "nbformat_minor": 0
}
