{
 "cells": [
  {
   "cell_type": "markdown",
   "metadata": {},
   "source": [
    "# 在 WX 中添加光标\n",
    "\n",
    "示例展示了如何在 wx 中绘制光标并报告数据坐标。"
   ]
  },
  {
   "cell_type": "markdown",
   "metadata": {},
   "source": [
    "```python\n",
    "import wx\n",
    "\n",
    "import numpy as np\n",
    "\n",
    "from matplotlib.backends.backend_wx import NavigationToolbar2Wx\n",
    "from matplotlib.backends.backend_wxagg import FigureCanvasWxAgg as FigureCanvas\n",
    "from matplotlib.figure import Figure\n",
    "\n",
    "\n",
    "class CanvasFrame(wx.Frame):\n",
    "    def __init__(self, ):\n",
    "        super().__init__(None, -1, 'CanvasFrame', size=(550, 350))\n",
    "\n",
    "        self.figure = Figure()\n",
    "        self.axes = self.figure.add_subplot()\n",
    "        t = np.arange(0.0, 3.0, 0.01)\n",
    "        s = np.sin(2*np.pi*t)\n",
    "\n",
    "        self.axes.plot(t, s)\n",
    "        self.axes.set_xlabel('t')\n",
    "        self.axes.set_ylabel('sin(t)')\n",
    "        self.figure_canvas = FigureCanvas(self, -1, self.figure)\n",
    "\n",
    "        # Note that event is a MplEvent\n",
    "        self.figure_canvas.mpl_connect(\n",
    "            'motion_notify_event', self.UpdateStatusBar)\n",
    "        self.figure_canvas.Bind(wx.EVT_ENTER_WINDOW, self.ChangeCursor)\n",
    "\n",
    "        self.sizer = wx.BoxSizer(wx.VERTICAL)\n",
    "        self.sizer.Add(self.figure_canvas, 1, wx.LEFT | wx.TOP | wx.GROW)\n",
    "        self.SetSizer(self.sizer)\n",
    "        self.Fit()\n",
    "\n",
    "        self.statusBar = wx.StatusBar(self, -1)\n",
    "        self.SetStatusBar(self.statusBar)\n",
    "\n",
    "        self.toolbar = NavigationToolbar2Wx(self.figure_canvas)\n",
    "        self.sizer.Add(self.toolbar, 0, wx.LEFT | wx.EXPAND)\n",
    "        self.toolbar.Show()\n",
    "\n",
    "    def ChangeCursor(self, event):\n",
    "        self.figure_canvas.SetCursor(wx.Cursor(wx.CURSOR_BULLSEYE))\n",
    "\n",
    "    def UpdateStatusBar(self, event):\n",
    "        if event.inaxes:\n",
    "            self.statusBar.SetStatusText(f\"x={event.xdata}  y={event.ydata}\")\n",
    "\n",
    "\n",
    "class App(wx.App):\n",
    "    def OnInit(self):\n",
    "        \"\"\"Create the main window and insert the custom frame.\"\"\"\n",
    "        frame = CanvasFrame()\n",
    "        self.SetTopWindow(frame)\n",
    "        frame.Show(True)\n",
    "        return True\n",
    "\n",
    "\n",
    "if __name__ == '__main__':\n",
    "    app = App()\n",
    "    app.MainLoop()\n",
    "```"
   ]
  },
  {
   "cell_type": "code",
   "execution_count": null,
   "metadata": {},
   "outputs": [],
   "source": []
  }
 ],
 "metadata": {
  "kernelspec": {
   "display_name": "Python 3",
   "language": "python",
   "name": "python3"
  },
  "language_info": {
   "codemirror_mode": {
    "name": "ipython",
    "version": 3
   },
   "file_extension": ".py",
   "mimetype": "text/x-python",
   "name": "python",
   "nbconvert_exporter": "python",
   "pygments_lexer": "ipython3",
   "version": "3.12.2"
  }
 },
 "nbformat": 4,
 "nbformat_minor": 2
}
