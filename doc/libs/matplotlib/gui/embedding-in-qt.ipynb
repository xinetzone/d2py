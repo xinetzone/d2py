{
  "cells": [
    {
      "cell_type": "markdown",
      "metadata": {},
      "source": [
        "# 嵌入 Qt\n",
        "\n",
        "简单的 Qt 应用程序，嵌入 Matplotlib 画布。此程序可以同样适用于任何 Qt 绑定（PyQt6、PySide6、PyQt5、PySide2）。可以通过设置环境变量 {envvar}`QT_API` 为绑定名称来选择绑定，或者通过先导入它。"
      ]
    },
    {
      "cell_type": "code",
      "execution_count": 2,
      "metadata": {
        "collapsed": false
      },
      "outputs": [],
      "source": [
        "# %matplotlib qt\n",
        "import sys\n",
        "import time\n",
        "\n",
        "import numpy as np\n",
        "\n",
        "from matplotlib.backends.backend_qtagg import FigureCanvas\n",
        "from matplotlib.backends.backend_qtagg import \\\n",
        "    NavigationToolbar2QT as NavigationToolbar\n",
        "from matplotlib.backends.qt_compat import QtWidgets\n",
        "from matplotlib.figure import Figure\n",
        "\n",
        "\n",
        "class ApplicationWindow(QtWidgets.QMainWindow):\n",
        "    def __init__(self):\n",
        "        super().__init__()\n",
        "        self._main = QtWidgets.QWidget()\n",
        "        self.setCentralWidget(self._main)\n",
        "        layout = QtWidgets.QVBoxLayout(self._main)\n",
        "\n",
        "        static_canvas = FigureCanvas(Figure(figsize=(5, 3)))\n",
        "        # Ideally one would use self.addToolBar here, but it is slightly\n",
        "        # incompatible between PyQt6 and other bindings, so we just add the\n",
        "        # toolbar as a plain widget instead.\n",
        "        layout.addWidget(NavigationToolbar(static_canvas, self))\n",
        "        layout.addWidget(static_canvas)\n",
        "\n",
        "        dynamic_canvas = FigureCanvas(Figure(figsize=(5, 3)))\n",
        "        layout.addWidget(dynamic_canvas)\n",
        "        layout.addWidget(NavigationToolbar(dynamic_canvas, self))\n",
        "\n",
        "        self._static_ax = static_canvas.figure.subplots()\n",
        "        t = np.linspace(0, 10, 501)\n",
        "        self._static_ax.plot(t, np.tan(t), \".\")\n",
        "\n",
        "        self._dynamic_ax = dynamic_canvas.figure.subplots()\n",
        "        t = np.linspace(0, 10, 101)\n",
        "        # Set up a Line2D.\n",
        "        self._line, = self._dynamic_ax.plot(t, np.sin(t + time.time()))\n",
        "        self._timer = dynamic_canvas.new_timer(50)\n",
        "        self._timer.add_callback(self._update_canvas)\n",
        "        self._timer.start()\n",
        "\n",
        "    def _update_canvas(self):\n",
        "        t = np.linspace(0, 10, 101)\n",
        "        # Shift the sinusoid as a function of time.\n",
        "        self._line.set_data(t, np.sin(t + time.time()))\n",
        "        self._line.figure.canvas.draw()\n",
        "\n",
        "\n",
        "# if __name__ == \"__main__\":\n",
        "#     # Check whether there is already a running QApplication (e.g., if running\n",
        "#     # from an IDE).\n",
        "#     qapp = QtWidgets.QApplication.instance()\n",
        "#     if not qapp:\n",
        "#         qapp = QtWidgets.QApplication(sys.argv)\n",
        "\n",
        "#     app = ApplicationWindow()\n",
        "#     app.show()\n",
        "#     app.activateWindow()\n",
        "#     app.raise_()\n",
        "#     qapp.exec()"
      ]
    },
    {
      "cell_type": "code",
      "execution_count": null,
      "metadata": {},
      "outputs": [],
      "source": []
    }
  ],
  "metadata": {
    "kernelspec": {
      "display_name": "Python 3",
      "language": "python",
      "name": "python3"
    },
    "language_info": {
      "codemirror_mode": {
        "name": "ipython",
        "version": 3
      },
      "file_extension": ".py",
      "mimetype": "text/x-python",
      "name": "python",
      "nbconvert_exporter": "python",
      "pygments_lexer": "ipython3",
      "version": "3.12.2"
    }
  },
  "nbformat": 4,
  "nbformat_minor": 0
}
