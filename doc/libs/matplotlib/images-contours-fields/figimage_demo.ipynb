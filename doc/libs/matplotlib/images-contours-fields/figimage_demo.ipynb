{
  "cells": [
    {
      "cell_type": "markdown",
      "metadata": {},
      "source": [
        "# Figimage 演示\n",
        "\n",
        "这展示了直接在图形中放置图像，不使用轴对象。"
      ]
    },
    {
      "cell_type": "code",
      "execution_count": 2,
      "metadata": {
        "collapsed": false
      },
      "outputs": [
        {
          "data": {
            "text/plain": [
              "<Figure size 640x480 with 0 Axes>"
            ]
          },
          "metadata": {},
          "output_type": "display_data"
        }
      ],
      "source": [
        "import matplotlib.pyplot as plt\n",
        "import numpy as np\n",
        "\n",
        "fig = plt.figure()\n",
        "Z = np.arange(10000).reshape((100, 100))\n",
        "Z[:, 50:] = 1\n",
        "\n",
        "im1 = fig.figimage(Z, xo=50, yo=0, origin='lower')\n",
        "im2 = fig.figimage(Z, xo=100, yo=100, alpha=.8, origin='lower')\n",
        "\n",
        "plt.show()"
      ]
    },
    {
      "cell_type": "markdown",
      "metadata": {},
      "source": [
        "```{admonition} References\n",
        "\n",
        "   The use of the following functions, methods, classes and modules is shown\n",
        "   in this example:\n",
        "\n",
        "   - {class}`matplotlib.figure.Figure`\n",
        "   - {meth}`matplotlib.figure.Figure.figimage` / {func}`matplotlib.pyplot.figimage`\n",
        "\n",
        "```"
      ]
    },
    {
      "cell_type": "markdown",
      "metadata": {},
      "source": []
    }
  ],
  "metadata": {
    "kernelspec": {
      "display_name": "Python 3",
      "language": "python",
      "name": "python3"
    },
    "language_info": {
      "codemirror_mode": {
        "name": "ipython",
        "version": 3
      },
      "file_extension": ".py",
      "mimetype": "text/x-python",
      "name": "python",
      "nbconvert_exporter": "python",
      "pygments_lexer": "ipython3",
      "version": "3.12.2"
    }
  },
  "nbformat": 4,
  "nbformat_minor": 0
}
