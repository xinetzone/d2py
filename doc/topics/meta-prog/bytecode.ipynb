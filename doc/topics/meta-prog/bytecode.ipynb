{
 "cells": [
  {
   "cell_type": "markdown",
   "metadata": {},
   "source": [
    "# Python 字节码反汇编器\n",
    "\n",
    "参考：\n",
    "\n",
    "- [dis](https://docs.python.org/zh-cn/3.12/library/dis.html)\n",
    "- [bytecode](https://bytecode.readthedocs.io/en/latest/index.html)\n",
    "\n",
    "先看给出函数示例："
   ]
  },
  {
   "cell_type": "code",
   "execution_count": 1,
   "metadata": {},
   "outputs": [],
   "source": [
    "def myfunc(alist):\n",
    "    return len(alist)"
   ]
  },
  {
   "cell_type": "markdown",
   "metadata": {},
   "source": [
    "下面的命令可以用来显示 `myfunc()` 的反汇编："
   ]
  },
  {
   "cell_type": "code",
   "execution_count": 3,
   "metadata": {},
   "outputs": [
    {
     "name": "stdout",
     "output_type": "stream",
     "text": [
      "  2           0 LOAD_GLOBAL              0 (len)\n",
      "              2 LOAD_FAST                0 (alist)\n",
      "              4 CALL_FUNCTION            1\n",
      "              6 RETURN_VALUE\n"
     ]
    }
   ],
   "source": [
    "import dis\n",
    "\n",
    "dis.dis(myfunc)"
   ]
  },
  {
   "cell_type": "markdown",
   "metadata": {},
   "source": [
    "左上角的 `2` 是行号。"
   ]
  },
  {
   "cell_type": "markdown",
   "metadata": {},
   "source": [
    "## 字节码分析\n",
    "\n",
    "字节码分析 API 允许将 Python 代码片段包装在 {class}`~dis.Bytecode` 对象中，以便轻松访问已编译代码的详细信息。"
   ]
  },
  {
   "cell_type": "code",
   "execution_count": 4,
   "metadata": {},
   "outputs": [
    {
     "name": "stdout",
     "output_type": "stream",
     "text": [
      "LOAD_GLOBAL\n",
      "LOAD_FAST\n",
      "CALL_FUNCTION\n",
      "RETURN_VALUE\n"
     ]
    }
   ],
   "source": [
    "bytecode = dis.Bytecode(myfunc)\n",
    "for instr in bytecode:\n",
    "    print(instr.opname)"
   ]
  },
  {
   "cell_type": "markdown",
   "metadata": {},
   "source": [
    "## 字节码\n",
    "\n",
    "使用三方库 `bytecode`。"
   ]
  },
  {
   "cell_type": "markdown",
   "metadata": {},
   "source": [
    "安装：\n",
    "\n",
    "```bash\n",
    "pip install bytecode\n",
    "```"
   ]
  },
  {
   "cell_type": "markdown",
   "metadata": {},
   "source": [
    "### 抽象字节码\n",
    "\n",
    "下面使用抽象字节码执行 `print('Hello World!')`："
   ]
  },
  {
   "cell_type": "code",
   "execution_count": 2,
   "metadata": {},
   "outputs": [
    {
     "name": "stdout",
     "output_type": "stream",
     "text": [
      "Hello World!\n"
     ]
    }
   ],
   "source": [
    "from bytecode import Instr, Bytecode\n",
    "\n",
    "bytecode = Bytecode([Instr(\"LOAD_NAME\", 'print'),\n",
    "                     Instr(\"LOAD_CONST\", 'Hello World!'),\n",
    "                     Instr(\"CALL_FUNCTION\", 1),\n",
    "                     Instr(\"POP_TOP\"),\n",
    "                     Instr(\"LOAD_CONST\", None),\n",
    "                     Instr(\"RETURN_VALUE\")])\n",
    "code = bytecode.to_code()\n",
    "exec(code)"
   ]
  },
  {
   "cell_type": "markdown",
   "metadata": {},
   "source": [
    "### 具体字节码\n",
    "\n",
    "使用具体字节码执行 `print('Hello World!')` 的示例："
   ]
  },
  {
   "cell_type": "code",
   "execution_count": 5,
   "metadata": {},
   "outputs": [
    {
     "name": "stdout",
     "output_type": "stream",
     "text": [
      "Hello World!\n"
     ]
    }
   ],
   "source": [
    "from bytecode import ConcreteInstr, ConcreteBytecode\n",
    "\n",
    "bytecode = ConcreteBytecode()\n",
    "bytecode.names = ['print']\n",
    "bytecode.consts = ['Hello World!', None]\n",
    "bytecode.extend([ConcreteInstr(\"LOAD_NAME\", 0),\n",
    "                 ConcreteInstr(\"LOAD_CONST\", 0),\n",
    "                 ConcreteInstr(\"CALL_FUNCTION\", 1),\n",
    "                 ConcreteInstr(\"POP_TOP\"),\n",
    "                 ConcreteInstr(\"LOAD_CONST\", 1),\n",
    "                 ConcreteInstr(\"RETURN_VALUE\")])\n",
    "code = bytecode.to_code()\n",
    "exec(code)"
   ]
  },
  {
   "cell_type": "markdown",
   "metadata": {},
   "source": [
    "### 设置编译器标志\n",
    "\n",
    "`Bytecode`、`ConcreteBytecode` 和 `ControlFlowGraph` 实例都有 `flags` 属性，它是 `CompilerFlag` 枚举的实例。可以像操作任何二进制标志一样操作该值。\n",
    "\n",
    "设置 `OPTIMIZED` flags："
   ]
  },
  {
   "cell_type": "code",
   "execution_count": 6,
   "metadata": {},
   "outputs": [],
   "source": [
    "from bytecode import Bytecode, CompilerFlags\n",
    "\n",
    "bytecode = Bytecode()\n",
    "bytecode.flags |= CompilerFlags.OPTIMIZED"
   ]
  },
  {
   "cell_type": "markdown",
   "metadata": {},
   "source": [
    "清除 `OPTIMIZED` flags："
   ]
  },
  {
   "cell_type": "code",
   "execution_count": 7,
   "metadata": {},
   "outputs": [],
   "source": [
    "from bytecode import Bytecode, CompilerFlags\n",
    "\n",
    "bytecode = Bytecode()\n",
    "bytecode.flags ^= CompilerFlags.OPTIMIZED"
   ]
  },
  {
   "cell_type": "markdown",
   "metadata": {},
   "source": [
    "可以使用 `update_flags` 方法根据存储在代码对象中的指令更新 flags。"
   ]
  },
  {
   "cell_type": "markdown",
   "metadata": {},
   "source": [
    "### 简单的循环\n",
    "\n",
    "`for x in (1, 2, 3): print(x)`："
   ]
  },
  {
   "cell_type": "code",
   "execution_count": 8,
   "metadata": {},
   "outputs": [
    {
     "name": "stdout",
     "output_type": "stream",
     "text": [
      "1\n",
      "2\n",
      "3\n"
     ]
    }
   ],
   "source": [
    "from bytecode import Label, Instr, Bytecode\n",
    "\n",
    "loop_start = Label()\n",
    "loop_done = Label()\n",
    "loop_exit = Label()\n",
    "code = Bytecode(\n",
    "    [\n",
    "        # Python 3.8 removed SETUP_LOOP\n",
    "        Instr(\"LOAD_CONST\", (1, 2, 3)),\n",
    "        Instr(\"GET_ITER\"),\n",
    "        loop_start,\n",
    "            Instr(\"FOR_ITER\", loop_exit),\n",
    "            Instr(\"STORE_NAME\", \"x\"),\n",
    "            Instr(\"LOAD_NAME\", \"print\"),\n",
    "            Instr(\"LOAD_NAME\", \"x\"),\n",
    "            Instr(\"CALL_FUNCTION\", 1),\n",
    "            Instr(\"POP_TOP\"),\n",
    "            Instr(\"JUMP_ABSOLUTE\", loop_start),\n",
    "        # Python 3.8 removed the need to manually manage blocks in loops\n",
    "        # This is now handled internally by the interpreter\n",
    "        loop_exit,\n",
    "            Instr(\"LOAD_CONST\", None),\n",
    "            Instr(\"RETURN_VALUE\"),\n",
    "    ]\n",
    ")\n",
    "\n",
    "# The conversion to Python code object resolve jump targets:\n",
    "# abstract labels are replaced with concrete offsets\n",
    "code = code.to_code()\n",
    "exec(code)"
   ]
  },
  {
   "cell_type": "markdown",
   "metadata": {},
   "source": [
    "### 条件调整\n",
    "\n",
    "`print('yes' if test else 'no')`："
   ]
  },
  {
   "cell_type": "code",
   "execution_count": 9,
   "metadata": {},
   "outputs": [
    {
     "name": "stdout",
     "output_type": "stream",
     "text": [
      "no\n",
      "yes\n"
     ]
    }
   ],
   "source": [
    "from bytecode import Label, Instr, Bytecode\n",
    "\n",
    "label_else = Label()\n",
    "label_print = Label()\n",
    "bytecode = Bytecode([Instr('LOAD_NAME', 'print'),\n",
    "                     Instr('LOAD_NAME', 'test'),\n",
    "                     Instr('POP_JUMP_IF_FALSE', label_else),\n",
    "                         Instr('LOAD_CONST', 'yes'),\n",
    "                         Instr('JUMP_FORWARD', label_print),\n",
    "                     label_else,\n",
    "                         Instr('LOAD_CONST', 'no'),\n",
    "                     label_print,\n",
    "                         Instr('CALL_FUNCTION', 1),\n",
    "                     Instr('LOAD_CONST', None),\n",
    "                     Instr('RETURN_VALUE')])\n",
    "code = bytecode.to_code()\n",
    "\n",
    "test = 0\n",
    "exec(code)\n",
    "\n",
    "test = 1\n",
    "exec(code)"
   ]
  },
  {
   "cell_type": "markdown",
   "metadata": {},
   "source": [
    "### Control Flow Graph (CFG)\n",
    "\n",
    "为了分析或优化现有的代码，`bytecode` 提供了 `ControlFlowGraph` 类，它是[控制流图](https://en.wikipedia.org/wiki/Control_flow_graph)(CFG)。\n",
    "\n",
    "控制流图用于在转换为代码时进行堆栈深度分析。因为它比 CPython 更擅长识别死代码，所以它可以减少堆栈大小。\n",
    "\n",
    "转储条件跳转示例的控制流图："
   ]
  },
  {
   "cell_type": "code",
   "execution_count": 11,
   "metadata": {},
   "outputs": [
    {
     "name": "stdout",
     "output_type": "stream",
     "text": [
      "block1:\n",
      "    LOAD_NAME 'print'\n",
      "    LOAD_NAME 'test'\n",
      "    POP_JUMP_IF_FALSE <block3>\n",
      "    -> block2\n",
      "\n",
      "block2:\n",
      "    LOAD_CONST 'yes'\n",
      "    JUMP_FORWARD <block4>\n",
      "\n",
      "block3:\n",
      "    LOAD_CONST 'no'\n",
      "    -> block4\n",
      "\n",
      "block4:\n",
      "    CALL_FUNCTION 1\n",
      "    LOAD_CONST None\n",
      "    RETURN_VALUE\n",
      "\n"
     ]
    }
   ],
   "source": [
    "from bytecode import Label, Instr, Bytecode, ControlFlowGraph, dump_bytecode\n",
    "\n",
    "label_else = Label()\n",
    "label_print = Label()\n",
    "bytecode = Bytecode([Instr('LOAD_NAME', 'print'),\n",
    "                     Instr('LOAD_NAME', 'test'),\n",
    "                     Instr('POP_JUMP_IF_FALSE', label_else),\n",
    "                         Instr('LOAD_CONST', 'yes'),\n",
    "                         Instr('JUMP_FORWARD', label_print),\n",
    "                     label_else,\n",
    "                         Instr('LOAD_CONST', 'no'),\n",
    "                     label_print,\n",
    "                         Instr('CALL_FUNCTION', 1),\n",
    "                     Instr('LOAD_CONST', None),\n",
    "                     Instr('RETURN_VALUE')])\n",
    "\n",
    "blocks = ControlFlowGraph.from_bytecode(bytecode)\n",
    "dump_bytecode(blocks)"
   ]
  },
  {
   "cell_type": "markdown",
   "metadata": {},
   "source": [
    "```{note}\n",
    "- `block #1` 是开始块，以 `POP_JUMP_IF_FALSE` 条件跳转结束，跟着的是 `block #2`\n",
    "- `block #2` 以 `JUMP_FORWARD` 无条件跳跃结束\n",
    "- `block #3` 不包含 jump，后面跟着 `block #4`\n",
    "- `block #4` 是最终的块\n",
    "```"
   ]
  },
  {
   "cell_type": "code",
   "execution_count": null,
   "metadata": {},
   "outputs": [],
   "source": []
  }
 ],
 "metadata": {
  "kernelspec": {
   "display_name": "Python 3.8.13 64-bit",
   "language": "python",
   "name": "python3"
  },
  "language_info": {
   "codemirror_mode": {
    "name": "ipython",
    "version": 3
   },
   "file_extension": ".py",
   "mimetype": "text/x-python",
   "name": "python",
   "nbconvert_exporter": "python",
   "pygments_lexer": "ipython3",
   "version": "3.8.13"
  },
  "orig_nbformat": 4,
  "vscode": {
   "interpreter": {
    "hash": "949777d72b0d2535278d3dc13498b2535136f6dfe0678499012e853ee9abcab1"
   }
  }
 },
 "nbformat": 4,
 "nbformat_minor": 2
}
