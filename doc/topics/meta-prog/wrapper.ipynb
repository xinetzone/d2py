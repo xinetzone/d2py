{
 "cells": [
  {
   "cell_type": "markdown",
   "metadata": {},
   "source": [
    "# 装饰器定义为类\n",
    "\n",
    "```{admonition} 场景\n",
    "此装饰器可以用在类/函数中也可以用于类/函数外。\n",
    "```"
   ]
  },
  {
   "cell_type": "code",
   "execution_count": null,
   "metadata": {},
   "outputs": [],
   "source": [
    "from types import MethodType\n",
    "from typing import Any\n",
    "from functools import wraps"
   ]
  },
  {
   "cell_type": "code",
   "execution_count": null,
   "metadata": {},
   "outputs": [],
   "source": [
    "class Profiled:\n",
    "    def __init__(self, func):\n",
    "        wraps(func)(self)\n",
    "        self.ncalls = 0\n",
    "\n",
    "    def __call__(self, *args, **kwds):\n",
    "        self.ncalls += 1\n",
    "        return self.__wrapped__(*args, **kwds)\n",
    "\n",
    "    def __get__(self, obj, objtype=None):\n",
    "        if obj is None:\n",
    "            return self\n",
    "        else:\n",
    "            return MethodType(self, obj)"
   ]
  },
  {
   "cell_type": "markdown",
   "metadata": {},
   "source": [
    "可以用于装饰函数："
   ]
  },
  {
   "cell_type": "code",
   "execution_count": null,
   "metadata": {},
   "outputs": [],
   "source": [
    "@Profiled\n",
    "def add(x, y):\n",
    "    return x + y"
   ]
  },
  {
   "cell_type": "code",
   "execution_count": null,
   "metadata": {},
   "outputs": [],
   "source": [
    "print(add.ncalls) # 函数外使用\n",
    "a = add(2, 3)\n",
    "print(add.ncalls)\n",
    "a = add(4, 5)\n",
    "print(add.ncalls)"
   ]
  },
  {
   "cell_type": "markdown",
   "metadata": {},
   "source": [
    "可以用于装饰类："
   ]
  },
  {
   "cell_type": "code",
   "execution_count": null,
   "metadata": {},
   "outputs": [],
   "source": [
    "class Spam:\n",
    "    @Profiled\n",
    "    def bar(self, x):\n",
    "        print(self, x)"
   ]
  },
  {
   "cell_type": "code",
   "execution_count": null,
   "metadata": {},
   "outputs": [],
   "source": [
    "s = Spam()\n",
    "print(Spam.bar.ncalls) # 类外使用\n",
    "a = s.bar(1)\n",
    "print(Spam.bar.ncalls)\n",
    "a = s.bar(2)\n",
    "print(s.bar.ncalls)"
   ]
  },
  {
   "cell_type": "markdown",
   "metadata": {},
   "source": [
    "此 `Profiled` 记录了函数或类的调用次数。\n",
    "\n",
    "## 记录中间结果"
   ]
  },
  {
   "cell_type": "code",
   "execution_count": 109,
   "metadata": {},
   "outputs": [],
   "source": [
    "from types import MethodType\n",
    "from typing import Any\n",
    "from functools import wraps\n",
    "from weakref import WeakValueDictionary\n",
    "\n",
    "\n",
    "class Cached(type):\n",
    "    def __init__(self, *args, **kwds):\n",
    "        super().__init__(*args, **kwds)\n",
    "        self.__cache = WeakValueDictionary()\n",
    "\n",
    "    def __call__(self, *args, **kwds):\n",
    "        if args in self.__cache:\n",
    "            return self.__cache[args]\n",
    "        else:\n",
    "            obj = super().__call__(*args, **kwds)\n",
    "            self.__cache[args] = obj\n",
    "        print(\"1\", args, kwds)\n",
    "        return obj\n",
    "\n",
    "class ProfiledAccess:\n",
    "    cache = {}\n",
    "    is_activate = False\n",
    "    def __init__(self, func, *cargs, **ckwds):\n",
    "        super().__init__(*cargs, **ckwds)\n",
    "        self.ncalls = 0 # 调用次数\n",
    "        self.varname = \"temp\" \n",
    "        wraps(func)(self)\n",
    "\n",
    "    def __call__(self, *args, **kwds):\n",
    "        func = self.__wrapped__\n",
    "        values = func(*args, **kwds)\n",
    "        if type(self).is_activate:\n",
    "            type(self).cache[func.__qualname__] = values\n",
    "        self.ncalls += 1\n",
    "        return values\n",
    "\n",
    "    def __get__(self, obj, objtype=None):\n",
    "        if obj is None:\n",
    "            return self\n",
    "        else:\n",
    "            return MethodType(self, obj)\n",
    "\n",
    "    @classmethod\n",
    "    def activate(cls):\n",
    "        cls.is_activate = True\n",
    "\n",
    "    @classmethod\n",
    "    def clear(cls):\n",
    "        cls.cache.clear()\n",
    "\n"
   ]
  },
  {
   "cell_type": "code",
   "execution_count": 140,
   "metadata": {},
   "outputs": [],
   "source": [
    "from bytecode import Bytecode, Instr"
   ]
  },
  {
   "cell_type": "code",
   "execution_count": 154,
   "metadata": {},
   "outputs": [],
   "source": [
    "class Profiled:\n",
    "    def __init__(self, func):\n",
    "        self.varname = \"return\"\n",
    "        wraps(self.transform(func))(self, self.varname)\n",
    "        self.ncalls = 0\n",
    "\n",
    "    def transform(self, func):\n",
    "        \"\"\"修改函数返回值为：(原返回值, varname表示的值)\n",
    "        \"\"\"\n",
    "        c = Bytecode.from_code(func.__code__)\n",
    "        extra_code = [\n",
    "            Instr('STORE_FAST', '_res'),\n",
    "            Instr('LOAD_FAST', self.varname),\n",
    "            Instr('STORE_FAST', '_value'),\n",
    "            Instr('LOAD_FAST', '_res'),\n",
    "            Instr('LOAD_FAST', '_value'),\n",
    "            Instr('BUILD_TUPLE', 2),\n",
    "            Instr('STORE_FAST', '_result_tuple'),\n",
    "            Instr('LOAD_FAST', '_result_tuple'),\n",
    "        ]\n",
    "        c[-1:-1] = extra_code\n",
    "        func.__code__ = c.to_code()\n",
    "        return func\n",
    "\n",
    "    def __call__(self, *args, **kwds):\n",
    "        self.ncalls += 1\n",
    "        return #self.__wrapped__(*args, **kwds)\n",
    "\n",
    "    # def __get__(self, obj, objtype=None):\n",
    "    #     if obj is None:\n",
    "    #         return self\n",
    "    #     else:\n",
    "    #         return MethodType(self, obj)"
   ]
  },
  {
   "cell_type": "code",
   "execution_count": 110,
   "metadata": {},
   "outputs": [],
   "source": []
  },
  {
   "cell_type": "code",
   "execution_count": 128,
   "metadata": {},
   "outputs": [],
   "source": [
    "def func(x, y):\n",
    "    c = x + y\n",
    "    return c ** 2\n",
    "\n",
    "varname = \"c\""
   ]
  },
  {
   "cell_type": "code",
   "execution_count": 135,
   "metadata": {},
   "outputs": [],
   "source": []
  },
  {
   "cell_type": "code",
   "execution_count": 131,
   "metadata": {},
   "outputs": [],
   "source": [
    "cache = WeakValueDictionary()\n"
   ]
  },
  {
   "cell_type": "code",
   "execution_count": 132,
   "metadata": {},
   "outputs": [
    {
     "data": {
      "text/plain": [
       "(25, 5)"
      ]
     },
     "execution_count": 132,
     "metadata": {},
     "output_type": "execute_result"
    }
   ],
   "source": [
    "func(2, 3)"
   ]
  },
  {
   "cell_type": "markdown",
   "metadata": {},
   "source": [
    "## 其他"
   ]
  },
  {
   "cell_type": "code",
   "execution_count": null,
   "metadata": {},
   "outputs": [],
   "source": [
    "a = Spam(2)\n",
    "b = Spam(3)\n",
    "c = Spam(2)"
   ]
  },
  {
   "cell_type": "code",
   "execution_count": null,
   "metadata": {},
   "outputs": [],
   "source": [
    "a is c"
   ]
  },
  {
   "cell_type": "code",
   "execution_count": null,
   "metadata": {},
   "outputs": [],
   "source": [
    "exec(\"b = a + 1\")"
   ]
  },
  {
   "cell_type": "code",
   "execution_count": null,
   "metadata": {},
   "outputs": [],
   "source": [
    "print(b)"
   ]
  },
  {
   "cell_type": "code",
   "execution_count": null,
   "metadata": {},
   "outputs": [],
   "source": [
    "def test():\n",
    "    a = 13\n",
    "    loc = locals()\n",
    "    exec(\"b = a + 1\")\n",
    "    print(loc[\"b\"])"
   ]
  },
  {
   "cell_type": "code",
   "execution_count": null,
   "metadata": {},
   "outputs": [],
   "source": [
    "test()"
   ]
  },
  {
   "cell_type": "code",
   "execution_count": null,
   "metadata": {},
   "outputs": [],
   "source": [
    "def test():\n",
    "    x = 13\n",
    "    loc = locals()\n",
    "    exec(\"x += 1\")\n",
    "    print(x)\n",
    "    print(loc)"
   ]
  },
  {
   "cell_type": "code",
   "execution_count": null,
   "metadata": {},
   "outputs": [],
   "source": [
    "test()"
   ]
  },
  {
   "cell_type": "code",
   "execution_count": null,
   "metadata": {},
   "outputs": [],
   "source": [
    "x = 42"
   ]
  },
  {
   "cell_type": "code",
   "execution_count": null,
   "metadata": {},
   "outputs": [],
   "source": [
    "eval()"
   ]
  },
  {
   "cell_type": "code",
   "execution_count": null,
   "metadata": {},
   "outputs": [],
   "source": [
    "exec(\"for k in range(10): print(k)\")"
   ]
  },
  {
   "cell_type": "code",
   "execution_count": null,
   "metadata": {},
   "outputs": [],
   "source": [
    "import ast"
   ]
  },
  {
   "cell_type": "code",
   "execution_count": null,
   "metadata": {},
   "outputs": [],
   "source": [
    "ex = ast.parse(\"2 + 3*4 + x\", mode=\"eval\")"
   ]
  },
  {
   "cell_type": "code",
   "execution_count": null,
   "metadata": {},
   "outputs": [],
   "source": [
    "print(ast.dump(ex))"
   ]
  },
  {
   "cell_type": "code",
   "execution_count": null,
   "metadata": {},
   "outputs": [],
   "source": [
    "import ast\n",
    "\n",
    "class CodeAnalyzer(ast.NodeVisitor):\n",
    "    def __init__(self) -> None:\n",
    "        super().__init__()\n",
    "        self.loaded = set()\n",
    "        self.stored = set()\n",
    "        self.deleted = set()\n",
    "\n",
    "    def visit_Name(self, node):\n",
    "        if isinstance(node.ctx, ast.Load):\n",
    "            self.loaded.add(node.id)\n",
    "        elif isinstance(node.ctx, ast.Store):\n",
    "            self.stored.add(node.id)\n",
    "        elif isinstance(node.ctx, ast.Del):\n",
    "            self.deleted.add(node.id)"
   ]
  },
  {
   "cell_type": "code",
   "execution_count": null,
   "metadata": {},
   "outputs": [],
   "source": [
    "code = \"\"\"\n",
    "for k in range(10):\n",
    "    print(k)\n",
    "del k\n",
    "\"\"\""
   ]
  },
  {
   "cell_type": "code",
   "execution_count": null,
   "metadata": {},
   "outputs": [],
   "source": [
    "top = ast.parse(code, mode=\"exec\")"
   ]
  },
  {
   "cell_type": "code",
   "execution_count": null,
   "metadata": {},
   "outputs": [],
   "source": [
    "c = CodeAnalyzer()"
   ]
  },
  {
   "cell_type": "code",
   "execution_count": null,
   "metadata": {},
   "outputs": [],
   "source": [
    "c.visit(top)"
   ]
  },
  {
   "cell_type": "code",
   "execution_count": null,
   "metadata": {},
   "outputs": [],
   "source": [
    "c.loaded"
   ]
  },
  {
   "cell_type": "code",
   "execution_count": null,
   "metadata": {},
   "outputs": [],
   "source": [
    "c.stored"
   ]
  },
  {
   "cell_type": "code",
   "execution_count": null,
   "metadata": {},
   "outputs": [],
   "source": [
    "c.deleted"
   ]
  },
  {
   "cell_type": "code",
   "execution_count": null,
   "metadata": {},
   "outputs": [],
   "source": [
    "exec(compile(top, \"<stdin>\", \"exec\"))"
   ]
  },
  {
   "cell_type": "code",
   "execution_count": null,
   "metadata": {},
   "outputs": [],
   "source": []
  }
 ],
 "metadata": {
  "kernelspec": {
   "display_name": "Python 3.8.13 ('py38': conda)",
   "language": "python",
   "name": "python3"
  },
  "language_info": {
   "codemirror_mode": {
    "name": "ipython",
    "version": 3
   },
   "file_extension": ".py",
   "mimetype": "text/x-python",
   "name": "python",
   "nbconvert_exporter": "python",
   "pygments_lexer": "ipython3",
   "version": "3.8.13"
  },
  "orig_nbformat": 4,
  "vscode": {
   "interpreter": {
    "hash": "28558e8daad512806f5c536a1a04c119185f99f65b79002708a12162d02a79c7"
   }
  }
 },
 "nbformat": 4,
 "nbformat_minor": 2
}
