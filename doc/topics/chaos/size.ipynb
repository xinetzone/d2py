{
 "cells": [
  {
   "cell_type": "markdown",
   "metadata": {},
   "source": [
    "# 占用内存空间\n"
   ]
  },
  {
   "cell_type": "code",
   "execution_count": null,
   "metadata": {},
   "outputs": [],
   "source": [
    "\n",
    "\n",
    "print(\"size of 0 int32 number: %f\" % sys.getsizeof(ai32))\n",
    "print(\"size of 1 int32 number: %f\" % sys.getsizeof(bi32))\n",
    "print(\"size of 5 int32 numbers: %f\" % sys.getsizeof(ci32), end='\\n\\n')\n",
    "\n",
    "print(\"size of 0 int64 number: %f\" % sys.getsizeof(ai64))\n",
    "print(\"size of 1 int64 number: %f\" % sys.getsizeof(bi64))\n",
    "print(\"size of 5 int64 numbers: %f\" % sys.getsizeof(ci64), end='\\n\\n')\n",
    "\n",
    "print(\"size of 0 float32 number: %f\" % sys.getsizeof(af32))\n",
    "print(\"size of 1 float32 number: %f\" % sys.getsizeof(bf32))\n",
    "print(\"size of 5 float32 numbers: %f\" % sys.getsizeof(cf32), end='\\n\\n')\n",
    "\n",
    "print(\"size of 0 float64 number: %f\" % sys.getsizeof(af64))\n",
    "print(\"size of 1 float64 number: %f\" % sys.getsizeof(bf64))\n",
    "print(\"size of 5 float64 numbers: %f\" % sys.getsizeof(cf64))"
   ]
  },
  {
   "cell_type": "code",
   "execution_count": 1,
   "metadata": {},
   "outputs": [],
   "source": [
    "import numpy as np\n",
    "import sys\n",
    "\n",
    "# 32位整型\n",
    "ai32 = np.array([], dtype=np.int32)\n",
    "bi32 = np.arange(1, dtype=np.int32)\n",
    "ci32 = np.arange(5, dtype=np.int32)\n",
    "\n",
    "# 64位整型\n",
    "ai64 = np.array([], dtype=np.int64)\n",
    "bi64 = np.arange(1, dtype=np.int64)\n",
    "ci64 = np.arange(5, dtype=np.int64)\n",
    "\n",
    "# 32位浮点数\n",
    "af32 = np.array([], dtype=np.float32)\n",
    "bf32 = np.arange(1, dtype=np.float32)\n",
    "cf32 = np.arange(5, dtype=np.float32)\n",
    "\n",
    "# 64位浮点数\n",
    "af64 = np.array([], dtype=np.float64)\n",
    "bf64 = np.arange(1, dtype=np.float64)\n",
    "cf64 = np.arange(5, dtype=np.float64)"
   ]
  },
  {
   "cell_type": "markdown",
   "metadata": {},
   "source": [
    "- 空的 numpy 数组，无论什么类型，都是占用 $96$ 个字节（byte）。\n",
    "- int32 和 float32 都是占用 $4$ 个字节，而 64 位的都占用 $8$ 个字节。\n",
    "\n",
    "此外，注意 {func}`sys.getsizeof` 函数返回的是对象所占用的空间大小，对于数组来说，除了数组中每个值占用空间外，数组对象还会存储数组长度、数组类型等其他信息。而如果只想要获取数组中存储的值的占用空间大小，可以使用 `numpy.ndarray.nbytes` ，使用 `numpy.ndarray.itemsize` 获取数组中每个值的占用空间大小。"
   ]
  }
 ],
 "metadata": {
  "kernelspec": {
   "display_name": "Python 3.10.4 ('tvmx': conda)",
   "language": "python",
   "name": "python3"
  },
  "language_info": {
   "codemirror_mode": {
    "name": "ipython",
    "version": 3
   },
   "file_extension": ".py",
   "mimetype": "text/x-python",
   "name": "python",
   "nbconvert_exporter": "python",
   "pygments_lexer": "ipython3",
   "version": "3.10.4"
  },
  "orig_nbformat": 4,
  "vscode": {
   "interpreter": {
    "hash": "e579259ee6098e2b9319de590d145b4b096774fe457bdf04260e3ba5c171e887"
   }
  }
 },
 "nbformat": 4,
 "nbformat_minor": 2
}
