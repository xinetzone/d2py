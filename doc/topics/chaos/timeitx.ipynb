{
 "cells": [
  {
   "cell_type": "markdown",
   "metadata": {},
   "source": [
    "# 自定义计时器\n",
    "\n",
    "为了方便管理日志，可以："
   ]
  },
  {
   "cell_type": "code",
   "execution_count": 1,
   "metadata": {},
   "outputs": [],
   "source": [
    "import logging\n",
    "logging.basicConfig(level=logging.DEBUG,\n",
    "                    format=\"%(asctime)s %(name)s %(levelname)s @%(funcName)s: %(message)s\")"
   ]
  },
  {
   "cell_type": "markdown",
   "metadata": {},
   "source": [
    "````{tip}\n",
    "如果想要保存日志，可以\n",
    "\n",
    "```python\n",
    "logging.basicConfig(level=logging.DEBUG, filename=\"draft/main.log\", filemode=\"w\",\n",
    "                    format=\"%(asctime)s %(name)s %(levelname)s @%(funcName)s: %(message)s\")\n",
    "```\n",
    "````\n",
    "\n",
    "创建计时器 {class}`~d2py.timeitx.TimerContext` 实例："
   ]
  },
  {
   "cell_type": "code",
   "execution_count": 2,
   "metadata": {},
   "outputs": [
    {
     "data": {
      "text/plain": [
       "TimerContext(name='平方函数')"
      ]
     },
     "execution_count": 2,
     "metadata": {},
     "output_type": "execute_result"
    }
   ],
   "source": [
    "from d2py import TimerContext\n",
    "\n",
    "# 创建计时器实例\n",
    "timer = TimerContext(\"平方函数\")\n",
    "timer"
   ]
  },
  {
   "cell_type": "markdown",
   "metadata": {},
   "source": [
    "定义函数："
   ]
  },
  {
   "cell_type": "code",
   "execution_count": 3,
   "metadata": {},
   "outputs": [],
   "source": [
    "@timer\n",
    "def square(x):\n",
    "    return x**2"
   ]
  },
  {
   "cell_type": "markdown",
   "metadata": {},
   "source": [
    "运行调用函数二次观察计时器的信息："
   ]
  },
  {
   "cell_type": "code",
   "execution_count": 4,
   "metadata": {},
   "outputs": [
    {
     "name": "stderr",
     "output_type": "stream",
     "text": [
      "2022-11-05 22:25:53,492 root DEBUG @__enter__: Entering 平方函数.\n",
      "2022-11-05 22:25:53,494 root DEBUG @__exit__: Run time: 0.004053116 ms.\n",
      "2022-11-05 22:25:53,495 root DEBUG @__exit__: Exiting 平方函数.\n"
     ]
    },
    {
     "data": {
      "text/plain": [
       "4"
      ]
     },
     "execution_count": 4,
     "metadata": {},
     "output_type": "execute_result"
    }
   ],
   "source": [
    "square(2)"
   ]
  },
  {
   "cell_type": "code",
   "execution_count": 5,
   "metadata": {},
   "outputs": [
    {
     "name": "stderr",
     "output_type": "stream",
     "text": [
      "2022-11-05 22:25:53,566 root DEBUG @__enter__: Entering 平方函数.\n",
      "2022-11-05 22:25:53,567 root DEBUG @__exit__: Run time: 0.004529953 ms.\n",
      "2022-11-05 22:25:53,568 root DEBUG @__exit__: Exiting 平方函数.\n"
     ]
    },
    {
     "data": {
      "text/plain": [
       "9"
      ]
     },
     "execution_count": 5,
     "metadata": {},
     "output_type": "execute_result"
    }
   ],
   "source": [
    "square(3)"
   ]
  },
  {
   "cell_type": "markdown",
   "metadata": {},
   "source": [
    "查看计时器记录的运行时间："
   ]
  },
  {
   "cell_type": "code",
   "execution_count": 6,
   "metadata": {},
   "outputs": [
    {
     "data": {
      "text/plain": [
       "[0.0040531158447265625, 0.0045299530029296875]"
      ]
     },
     "execution_count": 6,
     "metadata": {},
     "output_type": "execute_result"
    }
   ],
   "source": [
    "timer.times"
   ]
  },
  {
   "cell_type": "markdown",
   "metadata": {},
   "source": [
    "重置计时器，以备开始新的工作："
   ]
  },
  {
   "cell_type": "code",
   "execution_count": 7,
   "metadata": {},
   "outputs": [],
   "source": [
    "timer.reset()"
   ]
  },
  {
   "cell_type": "code",
   "execution_count": 8,
   "metadata": {},
   "outputs": [
    {
     "data": {
      "text/plain": [
       "[]"
      ]
     },
     "execution_count": 8,
     "metadata": {},
     "output_type": "execute_result"
    }
   ],
   "source": [
    "timer.times"
   ]
  },
  {
   "cell_type": "markdown",
   "metadata": {},
   "source": [
    "## 统计运行时间"
   ]
  },
  {
   "cell_type": "markdown",
   "metadata": {},
   "source": [
    "也可以对同一函数调用多次统计平均运行时间："
   ]
  },
  {
   "cell_type": "code",
   "execution_count": 9,
   "metadata": {},
   "outputs": [
    {
     "name": "stderr",
     "output_type": "stream",
     "text": [
      "2022-11-05 22:25:53,869 root DEBUG @__enter__: Entering 平方函数.\n",
      "2022-11-05 22:25:53,871 root DEBUG @__exit__: Run time: 0.004529953 ms.\n",
      "2022-11-05 22:25:53,872 root DEBUG @__exit__: Exiting 平方函数.\n",
      "2022-11-05 22:25:53,872 root DEBUG @__enter__: Entering 平方函数.\n",
      "2022-11-05 22:25:53,873 root DEBUG @__exit__: Run time: 0.002384186 ms.\n",
      "2022-11-05 22:25:53,874 root DEBUG @__exit__: Exiting 平方函数.\n",
      "2022-11-05 22:25:53,875 root DEBUG @__enter__: Entering 平方函数.\n",
      "2022-11-05 22:25:53,875 root DEBUG @__exit__: Run time: 0.002861023 ms.\n",
      "2022-11-05 22:25:53,876 root DEBUG @__exit__: Exiting 平方函数.\n"
     ]
    }
   ],
   "source": [
    "timer.reset()\n",
    "for k in range(3):\n",
    "    square(142857)"
   ]
  },
  {
   "cell_type": "markdown",
   "metadata": {},
   "source": [
    "查看平均运行时间："
   ]
  },
  {
   "cell_type": "code",
   "execution_count": 10,
   "metadata": {},
   "outputs": [
    {
     "data": {
      "text/plain": [
       "0.003258387247721354"
      ]
     },
     "execution_count": 10,
     "metadata": {},
     "output_type": "execute_result"
    }
   ],
   "source": [
    "timer.avg()"
   ]
  },
  {
   "cell_type": "markdown",
   "metadata": {},
   "source": [
    "查看运行次数："
   ]
  },
  {
   "cell_type": "code",
   "execution_count": 11,
   "metadata": {},
   "outputs": [
    {
     "data": {
      "text/plain": [
       "3"
      ]
     },
     "execution_count": 11,
     "metadata": {},
     "output_type": "execute_result"
    }
   ],
   "source": [
    "len(timer)"
   ]
  },
  {
   "cell_type": "markdown",
   "metadata": {},
   "source": [
    "查看累积运行时间："
   ]
  },
  {
   "cell_type": "code",
   "execution_count": 12,
   "metadata": {},
   "outputs": [
    {
     "data": {
      "text/plain": [
       "[0.0045299530029296875, 0.0069141387939453125, 0.009775161743164062]"
      ]
     },
     "execution_count": 12,
     "metadata": {},
     "output_type": "execute_result"
    }
   ],
   "source": [
    "timer.cumsum()"
   ]
  },
  {
   "cell_type": "markdown",
   "metadata": {},
   "source": [
    "查看总运行时间："
   ]
  },
  {
   "cell_type": "code",
   "execution_count": 13,
   "metadata": {},
   "outputs": [
    {
     "data": {
      "text/plain": [
       "0.009775161743164062"
      ]
     },
     "execution_count": 13,
     "metadata": {},
     "output_type": "execute_result"
    }
   ],
   "source": [
    "timer.sum()"
   ]
  },
  {
   "cell_type": "markdown",
   "metadata": {},
   "source": [
    "可以使用普通的 Python 函数验证计时器的正确性："
   ]
  },
  {
   "cell_type": "code",
   "execution_count": 14,
   "metadata": {},
   "outputs": [],
   "source": [
    "def square(x):\n",
    "    return x**2"
   ]
  },
  {
   "cell_type": "code",
   "execution_count": 15,
   "metadata": {},
   "outputs": [
    {
     "name": "stdout",
     "output_type": "stream",
     "text": [
      "306 ns ± 2.73 ns per loop (mean ± std. dev. of 7 runs, 1,000,000 loops each)\n"
     ]
    }
   ],
   "source": [
    "%%timeit\n",
    "square(142857)"
   ]
  },
  {
   "cell_type": "markdown",
   "metadata": {},
   "source": [
    "当然也可以这样："
   ]
  },
  {
   "cell_type": "code",
   "execution_count": 37,
   "metadata": {},
   "outputs": [
    {
     "name": "stderr",
     "output_type": "stream",
     "text": [
      "2022-11-05 23:10:29,443 root DEBUG @__enter__: Entering 计时器.\n",
      "2022-11-05 23:10:29,823 root DEBUG @__exit__: Run time: 377.9917 ms.\n",
      "2022-11-05 23:10:29,826 root DEBUG @__exit__: Exiting 计时器.\n"
     ]
    }
   ],
   "source": [
    "with TimerContext(\"计时器\") as cm:\n",
    "    for _ in range(1000000):\n",
    "        square(142857)"
   ]
  },
  {
   "cell_type": "code",
   "execution_count": null,
   "metadata": {},
   "outputs": [],
   "source": []
  }
 ],
 "metadata": {
  "kernelspec": {
   "display_name": "cv",
   "language": "python",
   "name": "python3"
  },
  "language_info": {
   "codemirror_mode": {
    "name": "ipython",
    "version": 3
   },
   "file_extension": ".py",
   "mimetype": "text/x-python",
   "name": "python",
   "nbconvert_exporter": "python",
   "pygments_lexer": "ipython3",
   "version": "3.10.4 (main, Mar 31 2022, 08:41:55) [GCC 7.5.0]"
  },
  "orig_nbformat": 4,
  "vscode": {
   "interpreter": {
    "hash": "04fbf434835a7c224d4fe1e199a95727edbcbb4dd9b3fe74523b9f2dac676df3"
   }
  }
 },
 "nbformat": 4,
 "nbformat_minor": 2
}
