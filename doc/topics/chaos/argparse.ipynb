{
 "cells": [
  {
   "cell_type": "markdown",
   "metadata": {},
   "source": [
    "# `argparse`\n",
    "\n",
    "{mod}`argparse`：命令行选项、参数和子命令解析器\n",
    "\n",
    "## `ArgumentParser` 对象\n",
    "\n",
    "```python\n",
    "class argparse.ArgumentParser(prog=None,\n",
    "                              usage=None,\n",
    "                              description=None,\n",
    "                              epilog=None,\n",
    "                              parents=[],\n",
    "                              formatter_class=argparse.HelpFormatter,\n",
    "                              prefix_chars='-',\n",
    "                              fromfile_prefix_chars=None,\n",
    "                              argument_default=None,\n",
    "                              conflict_handler='error',\n",
    "                              add_help=True,\n",
    "                              allow_abbrev=True,\n",
    "                              exit_on_error=True)\n",
    "\n",
    "```\n",
    "\n",
    "创建一个新的 {class}`ArgumentParser` 对象。所有的参数都应当作为关键字参数传入。\n",
    "\n",
    "- {command}`prog`：程序的名称（默认值：`os.path.basename(sys.argv[0])`）\n",
    "- {command}`usage`：描述程序用途的字符串（默认值：从添加到解析器的参数生成）\n",
    "- {command}`description`：在参数帮助文档之前显示的文本（默认值：`None`）\n",
    "- {command}`epilog`：在参数帮助文档之后显示的文本（默认值： `None`）\n",
    "- {command}`parents`：{class}`ArgumentParser` 对象的列表，它们的参数也应包含在内\n",
    "- {command}`formatter_class`：用于自定义帮助文档输出格式的类\n",
    "- {command}`prefix_chars`：可选参数的前缀字符集合（默认值： `'-'`）\n",
    "- {command}`fromfile_prefix_chars`：当需要从文件中读取其他参数时，用于标识文件名的前缀字符集合（默认值： `None`）\n",
    "- {command}`argument_default`：参数的全局默认值（默认值： `None`）\n",
    "- {command}`conflict_handler`：解决冲突选项的策略（通常是不必要的）\n",
    "- {command}`add_help`：为解析器添加一个 {command}`-h/--help` 选项（默认值： `True`）\n",
    "- {command}`allow_abbrev`：如果缩写是无歧义的，则允许缩写长选项 （默认值：`True`）\n",
    "- {command}`exit_on_error`：决定当错误发生时是否让 {class}`ArgumentParser` 附带错误信息退出。（默认值: `True`）"
   ]
  },
  {
   "cell_type": "code",
   "execution_count": null,
   "metadata": {},
   "outputs": [],
   "source": []
  }
 ],
 "metadata": {
  "interpreter": {
   "hash": "410d97fcec9c8f0bfe82a84a3d6982ea954e4374bc1aa0a0d36cc0ce0e02db7f"
  },
  "kernelspec": {
   "display_name": "Python 3.10.0 64-bit ('xin': conda)",
   "language": "python",
   "name": "python3"
  },
  "language_info": {
   "codemirror_mode": {
    "name": "ipython",
    "version": 3
   },
   "file_extension": ".py",
   "mimetype": "text/x-python",
   "name": "python",
   "nbconvert_exporter": "python",
   "pygments_lexer": "ipython3",
   "version": "3.9.5"
  },
  "orig_nbformat": 4
 },
 "nbformat": 4,
 "nbformat_minor": 2
}
