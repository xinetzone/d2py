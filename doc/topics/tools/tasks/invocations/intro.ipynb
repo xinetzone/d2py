{
 "cells": [
  {
   "cell_type": "markdown",
   "metadata": {},
   "source": [
    "# invocations 简介\n",
    "\n",
    "Invocations 是一组可重用的 {mod}`invoke` 任务、任务集合和辅助函数的集合。最初来源于 Invoke 项目自己的项目管理任务文件，现在它们具有高度可配置性，并在多个项目中使用，旨在成为实施常见最佳实践的信息中心。\n",
    "\n",
    "目前实现的主题包括但不限于：\n",
    "\n",
    "- Sphinx 文档树的管理\n",
    "- Python 项目发布周期\n",
    "- 依赖项供应商\n",
    "- 运行测试套件（单元、集成、覆盖率导向等）\n",
    "- 控制台实用程序，如确认提示符\n"
   ]
  }
 ],
 "metadata": {
  "language_info": {
   "name": "python"
  }
 },
 "nbformat": 4,
 "nbformat_minor": 2
}
