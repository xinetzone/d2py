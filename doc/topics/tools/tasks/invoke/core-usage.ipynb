{
 "cells": [
  {
   "cell_type": "markdown",
   "metadata": {},
   "source": [
    "# `inv[oke]` 核心用法\n",
    "\n",
    "```bash\n",
    "$ inv[oke] [--core-opts] task1 [--task1-opts] ... taskN [--taskN-opts]\n",
    "```\n",
    "\n",
    "简言之，Invoke 的 CLI 解析器将您的命令行拆分成多个“解析器上下文”，这使得它可以对将要接受的参数和选项进行推理。"
   ]
  },
  {
   "cell_type": "markdown",
   "metadata": {},
   "source": []
  }
 ],
 "metadata": {
  "language_info": {
   "name": "python"
  }
 },
 "nbformat": 4,
 "nbformat_minor": 2
}
