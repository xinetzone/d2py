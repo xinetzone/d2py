{
 "cells": [
  {
   "cell_type": "markdown",
   "metadata": {},
   "source": [
    "# `invoke` 配置\n",
    "\n",
    "参考：[`invoke` 配置](https://docs.pyinvoke.org/en/stable/concepts/configuration.html)"
   ]
  }
 ],
 "metadata": {
  "language_info": {
   "name": "python"
  }
 },
 "nbformat": 4,
 "nbformat_minor": 2
}
