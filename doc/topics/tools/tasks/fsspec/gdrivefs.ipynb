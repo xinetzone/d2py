{
 "cells": [
  {
   "cell_type": "markdown",
   "metadata": {},
   "source": [
    "# `gdrivefs`\n",
    "\n",
    "[`gdrivefs`](https://github.com/fsspec/gdrivefs) 是用于访问 Google Drive 和共享文件（实验性）的命令。\n",
    "\n",
    "```bash\n",
    "pip install gdrivefs\n",
    "```"
   ]
  }
 ],
 "metadata": {
  "language_info": {
   "name": "python"
  }
 },
 "nbformat": 4,
 "nbformat_minor": 2
}
