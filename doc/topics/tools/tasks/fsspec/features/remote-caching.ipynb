{
 "cells": [
  {
   "cell_type": "markdown",
   "metadata": {},
   "source": [
    "# 远程写缓存\n",
    "\n",
    "你可以使用“simplecache”协议将文件缓存到本地文件，然后发送到远程。以下示例展示了这可能是什么样子。\n",
    "\n",
    "```python\n",
    "with fsspec.open('simplecache::s3://mybucket/myfile', 'wb',\n",
    "                 s3={\"profile\": \"writer\"}) as f:\n",
    "    f.write(b\"some data\")\n",
    "```"
   ]
  },
  {
   "cell_type": "markdown",
   "metadata": {},
   "source": [
    "这将打开一个本地文件进行写操作，当这个文件关闭时，它将被上传到目标 URL，在这个例子中是 S3。类似文件的对象 `f` 可以传递给任何期望写入文件的库。请注意，我们使用键 `\"s3\"` 向 `S3FileSystem` 传递参数，与协议的名称相同。"
   ]
  }
 ],
 "metadata": {
  "language_info": {
   "name": "python"
  }
 },
 "nbformat": 4,
 "nbformat_minor": 2
}
