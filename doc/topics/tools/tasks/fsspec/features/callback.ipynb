{
 "cells": [
  {
   "cell_type": "markdown",
   "metadata": {},
   "source": [
    "# 回调\n",
    "\n",
    "某些方法支持一个名为 `callback=` 的参数，这是向用户提供传输反馈或任何其他日志服务的入口点。这个功能是新的、实验性的，并且在不同的后端中支持程度不同。\n",
    "\n",
    "有关更多详细信息，请参阅回调模块中的文档字符串。可以使用 {class}`fsspec.callbacks.TqdmCallback` 来使用 `tqdm` 显示进度条。"
   ]
  },
  {
   "cell_type": "markdown",
   "metadata": {},
   "source": []
  }
 ],
 "metadata": {
  "language_info": {
   "name": "python"
  }
 },
 "nbformat": 4,
 "nbformat_minor": 2
}
