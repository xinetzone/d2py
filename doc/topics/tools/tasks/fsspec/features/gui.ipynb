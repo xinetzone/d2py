{
 "cells": [
  {
   "cell_type": "markdown",
   "metadata": {},
   "source": [
    "# 文件选择器（图形用户界面）\n",
    "\n",
    "`fsspec.gui` 模块包含一个图形文件选择器界面。它是使用 `panel` 构建的，必须安装才能使用 GUI。在实例化时，你可以提供初始 URL 位置（可以通过“&#127968;”按钮返回到该位置）、参数和过滤器。"
   ]
  },
  {
   "cell_type": "markdown",
   "metadata": {},
   "source": [
    "点击一个目录将进入该目录，选择一个文件将其标记为界面的输出。你可以选择任何已知的协议，但应该在“kwargs”框中提供任何必需的参数（作为字典），并在单击“⇨”前往该位置之前提供任何绝对 URL 位置。如果使用文件过滤器，它们将显示为复选框列表；只有选中的文件扩展名才会显示（如果没有选中，则显示所有文件）。"
   ]
  },
  {
   "cell_type": "markdown",
   "metadata": {},
   "source": [
    "界面提供以下输出：\n",
    "\n",
    "- `.urlpath`：当前选定的项目（如果有）\n",
    "- `.storage_options`：`kwargs` 框的值\n",
    "- `.fs`：当前文件系统实例\n",
    "- `.open_file()`：为当前选择生成一个 `OpenFile` 实例"
   ]
  },
  {
   "cell_type": "markdown",
   "metadata": {},
   "source": []
  }
 ],
 "metadata": {
  "language_info": {
   "name": "python"
  }
 },
 "nbformat": 4,
 "nbformat_minor": 2
}
