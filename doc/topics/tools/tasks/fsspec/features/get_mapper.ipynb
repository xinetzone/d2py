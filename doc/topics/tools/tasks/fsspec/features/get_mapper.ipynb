{
 "cells": [
  {
   "cell_type": "markdown",
   "metadata": {},
   "source": [
    "# 键值存储\n",
    "\n",
    "文件系统自然类似于字典类型的键值映射：每个（字符串）路径对应于存储后端的某些二进制数据。对于某些用例，能够将文件系统中的某个路径视为类似字典的存储非常方便，而 {func}`fsspec.get_mapper` 函数提供了一个一站式的方法来返回这样的对象。例如，在 zarr 项目中，这已经变得非常有用，该项目将其数组块以键的形式存储在任何类似映射的对象中。"
   ]
  },
  {
   "cell_type": "markdown",
   "metadata": {},
   "source": [
    "```python\n",
    "mapper = fsspec.get_mapper('protocol://server/path', args)\n",
    "list(mapper)\n",
    "mapper[k] = b'some data'\n",
    "```"
   ]
  },
  {
   "cell_type": "markdown",
   "metadata": {},
   "source": []
  }
 ],
 "metadata": {
  "kernelspec": {
   "display_name": "xin",
   "language": "python",
   "name": "python3"
  },
  "language_info": {
   "name": "python",
   "version": "3.12.2"
  }
 },
 "nbformat": 4,
 "nbformat_minor": 2
}
