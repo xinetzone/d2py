{
 "cells": [
  {
   "cell_type": "markdown",
   "metadata": {},
   "source": [
    "# 异步\n",
    "\n",
    "一些实现，即那些从 {class}`fsspec.asyn.AsyncFileSystem` 派生的实现，具有某些文件操作的 `async/coroutine` 实现。{data}`async` 方法的名称以 `_` 开头，并在 `asyn` 模块中列出；同步或阻塞函数会自动生成，默认情况下将通过另一个线程中的事件循环进行操作。\n",
    "\n",
    "请参阅 [](../async/index) 了解操作模式以及如何实现此类文件系统。"
   ]
  },
  {
   "cell_type": "markdown",
   "metadata": {},
   "source": []
  }
 ],
 "metadata": {
  "language_info": {
   "name": "python"
  }
 },
 "nbformat": 4,
 "nbformat_minor": 2
}
