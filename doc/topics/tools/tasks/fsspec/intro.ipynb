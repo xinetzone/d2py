{
 "cells": [
  {
   "cell_type": "markdown",
   "metadata": {},
   "source": [
    "# `fsspec` 简介\n",
    "\n",
    "```{topic} 概要\n",
    "有许多地方可以存储字节，从内存中、本地磁盘、集群分布式存储到云端。许多文件还包含名称到字节的内部映射，可能是以分层目录为导向的树状结构。处理所有这些不同的存储介质及其相关的库是一件麻烦事。{mod}`fsspec` 的存在是为了提供一个熟悉的 API，无论后端存储是什么，都能以相同的方式工作。我们尽可能地消除每个实现特有的怪癖，这样你只需要为你访问的每个服务提供凭证（如果需要），之后就不用再担心实现的问题了。\n",
    "```\n",
    "\n",
    "```{topic} 设计目标\n",
    "{mod}`fsspec` 提供了两个主要概念：一组具有统一 API 的文件系统类（即，提供一系列存储系统操作的函数，如 `cp`、`rm`、`cat`、`mkdir` 等）；以及顶级便利函数，如 {func}`fsspec.open`，允许你快速从 URL 获取一个类似文件的对象，你可以将其与第三方库或自己的代码一起使用。\n",
    "```\n",
    "\n",
    "```{topic} 背景\n",
    "Python 提供了标准接口用于打开文件，这样替代的文件类对象实现可以与许多仅依赖于该标准接口方法的函数无缝协作。许多库为文件系统实现了类似的概念，其中可以在逻辑文件系统上执行文件操作，这些文件系统可能是本地的、结构化数据存储或某些远程服务。\n",
    "\n",
    "{mod}`fsspec` 旨在定义一个标准接口，这样的文件系统应该遵循该接口，以便使用它们的代码不必了解后端实现的细节就可以操作任何数量的后端。希望社区能够聚集在一起，定义一个对最多用户来说最佳的接口，并且有了这个规范，使得开发其他文件系统实现变得更简单。\n",
    "```\n"
   ]
  },
  {
   "cell_type": "markdown",
   "metadata": {},
   "source": [
    "## 安装\n",
    "\n",
    "`fsspec` 可以从 PyPI 或 conda 安装，并且没有自己的依赖项。\n",
    "\n",
    "```bash\n",
    "pip install fsspec\n",
    "conda install -c conda-forge fsspec\n",
    "```\n",
    "\n",
    "并非所有文件系统实现都可以在不安装额外依赖项的情况下使用。例如，要访问 GCS（Google Cloud Storage）中的数据，你可以使用下面的可选 `pip` 安装语法，或者安装所需的特定包。\n",
    "\n",
    "```bash\n",
    "pip install fsspec[gcs]\n",
    "conda install -c conda-forge gcsfs\n",
    "```\n",
    "\n",
    "`fsspec` 尝试在您尝试使用需要额外依赖项的文件系统时提供正确的消息。已知实现的当前列表可以在以下位置找到："
   ]
  },
  {
   "cell_type": "code",
   "execution_count": 1,
   "metadata": {},
   "outputs": [
    {
     "data": {
      "text/plain": [
       "{'data': {'class': 'fsspec.implementations.data.DataFileSystem'},\n",
       " 'file': {'class': 'fsspec.implementations.local.LocalFileSystem'},\n",
       " 'local': {'class': 'fsspec.implementations.local.LocalFileSystem'},\n",
       " 'memory': {'class': 'fsspec.implementations.memory.MemoryFileSystem'},\n",
       " 'dropbox': {'class': 'dropboxdrivefs.DropboxDriveFileSystem',\n",
       "  'err': 'DropboxFileSystem requires \"dropboxdrivefs\",\"requests\" and \"dropbox\" to be installed'},\n",
       " 'http': {'class': 'fsspec.implementations.http.HTTPFileSystem',\n",
       "  'err': 'HTTPFileSystem requires \"requests\" and \"aiohttp\" to be installed'},\n",
       " 'https': {'class': 'fsspec.implementations.http.HTTPFileSystem',\n",
       "  'err': 'HTTPFileSystem requires \"requests\" and \"aiohttp\" to be installed'},\n",
       " 'zip': {'class': 'fsspec.implementations.zip.ZipFileSystem'},\n",
       " 'tar': {'class': 'fsspec.implementations.tar.TarFileSystem'},\n",
       " 'gcs': {'class': 'gcsfs.GCSFileSystem',\n",
       "  'err': 'Please install gcsfs to access Google Storage'},\n",
       " 'gs': {'class': 'gcsfs.GCSFileSystem',\n",
       "  'err': 'Please install gcsfs to access Google Storage'},\n",
       " 'gdrive': {'class': 'gdrivefs.GoogleDriveFileSystem',\n",
       "  'err': 'Please install gdrivefs for access to Google Drive'},\n",
       " 'sftp': {'class': 'fsspec.implementations.sftp.SFTPFileSystem',\n",
       "  'err': 'SFTPFileSystem requires \"paramiko\" to be installed'},\n",
       " 'ssh': {'class': 'fsspec.implementations.sftp.SFTPFileSystem',\n",
       "  'err': 'SFTPFileSystem requires \"paramiko\" to be installed'},\n",
       " 'ftp': {'class': 'fsspec.implementations.ftp.FTPFileSystem'},\n",
       " 'hdfs': {'class': 'fsspec.implementations.arrow.HadoopFileSystem',\n",
       "  'err': 'pyarrow and local java libraries required for HDFS'},\n",
       " 'arrow_hdfs': {'class': 'fsspec.implementations.arrow.HadoopFileSystem',\n",
       "  'err': 'pyarrow and local java libraries required for HDFS'},\n",
       " 'webhdfs': {'class': 'fsspec.implementations.webhdfs.WebHDFS',\n",
       "  'err': 'webHDFS access requires \"requests\" to be installed'},\n",
       " 's3': {'class': 's3fs.S3FileSystem', 'err': 'Install s3fs to access S3'},\n",
       " 's3a': {'class': 's3fs.S3FileSystem', 'err': 'Install s3fs to access S3'},\n",
       " 'wandb': {'class': 'wandbfs.WandbFS',\n",
       "  'err': 'Install wandbfs to access wandb'},\n",
       " 'oci': {'class': 'ocifs.OCIFileSystem',\n",
       "  'err': 'Install ocifs to access OCI Object Storage'},\n",
       " 'ocilake': {'class': 'ocifs.OCIFileSystem',\n",
       "  'err': 'Install ocifs to access OCI Data Lake'},\n",
       " 'asynclocal': {'class': 'morefs.asyn_local.AsyncLocalFileSystem',\n",
       "  'err': \"Install 'morefs[asynclocalfs]' to use AsyncLocalFileSystem\"},\n",
       " 'adl': {'class': 'adlfs.AzureDatalakeFileSystem',\n",
       "  'err': 'Install adlfs to access Azure Datalake Gen1'},\n",
       " 'abfs': {'class': 'adlfs.AzureBlobFileSystem',\n",
       "  'err': 'Install adlfs to access Azure Datalake Gen2 and Azure Blob Storage'},\n",
       " 'az': {'class': 'adlfs.AzureBlobFileSystem',\n",
       "  'err': 'Install adlfs to access Azure Datalake Gen2 and Azure Blob Storage'},\n",
       " 'cached': {'class': 'fsspec.implementations.cached.CachingFileSystem'},\n",
       " 'blockcache': {'class': 'fsspec.implementations.cached.CachingFileSystem'},\n",
       " 'filecache': {'class': 'fsspec.implementations.cached.WholeFileCacheFileSystem'},\n",
       " 'simplecache': {'class': 'fsspec.implementations.cached.SimpleCacheFileSystem'},\n",
       " 'dask': {'class': 'fsspec.implementations.dask.DaskWorkerFileSystem',\n",
       "  'err': 'Install dask distributed to access worker file system'},\n",
       " 'dbfs': {'class': 'fsspec.implementations.dbfs.DatabricksFileSystem',\n",
       "  'err': 'Install the requests package to use the DatabricksFileSystem'},\n",
       " 'github': {'class': 'fsspec.implementations.github.GithubFileSystem',\n",
       "  'err': 'Install the requests package to use the github FS'},\n",
       " 'git': {'class': 'fsspec.implementations.git.GitFileSystem',\n",
       "  'err': 'Install pygit2 to browse local git repos'},\n",
       " 'smb': {'class': 'fsspec.implementations.smb.SMBFileSystem',\n",
       "  'err': 'SMB requires \"smbprotocol\" or \"smbprotocol[kerberos]\" installed'},\n",
       " 'jupyter': {'class': 'fsspec.implementations.jupyter.JupyterFileSystem',\n",
       "  'err': 'Jupyter FS requires requests to be installed'},\n",
       " 'jlab': {'class': 'fsspec.implementations.jupyter.JupyterFileSystem',\n",
       "  'err': 'Jupyter FS requires requests to be installed'},\n",
       " 'libarchive': {'class': 'fsspec.implementations.libarchive.LibArchiveFileSystem',\n",
       "  'err': 'LibArchive requires to be installed'},\n",
       " 'reference': {'class': 'fsspec.implementations.reference.ReferenceFileSystem'},\n",
       " 'generic': {'class': 'fsspec.generic.GenericFileSystem'},\n",
       " 'oss': {'class': 'ossfs.OSSFileSystem',\n",
       "  'err': 'Install ossfs to access Alibaba Object Storage System'},\n",
       " 'webdav': {'class': 'webdav4.fsspec.WebdavFileSystem',\n",
       "  'err': 'Install webdav4 to access WebDAV'},\n",
       " 'dvc': {'class': 'dvc.api.DVCFileSystem',\n",
       "  'err': 'Install dvc to access DVCFileSystem'},\n",
       " 'hf': {'class': 'huggingface_hub.HfFileSystem',\n",
       "  'err': \"Unable to load filesystem from EntryPoint(name='hf', value='huggingface_hub.HfFileSystem', group='fsspec.specs')\"},\n",
       " 'root': {'class': 'fsspec_xrootd.XRootDFileSystem',\n",
       "  'err': \"Install fsspec-xrootd to access xrootd storage system. Note: 'root' is the protocol name for xrootd storage systems, not referring to root directories\"},\n",
       " 'dir': {'class': 'fsspec.implementations.dirfs.DirFileSystem'},\n",
       " 'box': {'class': 'boxfs.BoxFileSystem',\n",
       "  'err': 'Please install boxfs to access BoxFileSystem'},\n",
       " 'lakefs': {'class': 'lakefs_spec.LakeFSFileSystem',\n",
       "  'err': 'Please install lakefs-spec to access LakeFSFileSystem'}}"
      ]
     },
     "execution_count": 1,
     "metadata": {},
     "output_type": "execute_result"
    }
   ],
   "source": [
    "from fsspec.registry import known_implementations\n",
    "\n",
    "known_implementations"
   ]
  },
  {
   "cell_type": "code",
   "execution_count": null,
   "metadata": {},
   "outputs": [],
   "source": []
  }
 ],
 "metadata": {
  "kernelspec": {
   "display_name": "xin",
   "language": "python",
   "name": "python3"
  },
  "language_info": {
   "codemirror_mode": {
    "name": "ipython",
    "version": 3
   },
   "file_extension": ".py",
   "mimetype": "text/x-python",
   "name": "python",
   "nbconvert_exporter": "python",
   "pygments_lexer": "ipython3",
   "version": "3.12.2"
  }
 },
 "nbformat": 4,
 "nbformat_minor": 2
}
