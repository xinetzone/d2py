{
 "cells": [
  {
   "cell_type": "markdown",
   "metadata": {},
   "source": [
    "# `rich` 控制台\n",
    "\n",
    "想要对 Rich 终端内容进行更多控制，请您导入并构造 {class}`~rich.console.Console` 对象。"
   ]
  },
  {
   "cell_type": "code",
   "execution_count": 1,
   "metadata": {},
   "outputs": [],
   "source": [
    "from rich.console import Console\n",
    "\n",
    "console = Console()"
   ]
  },
  {
   "cell_type": "markdown",
   "metadata": {},
   "source": [
    "{class}`~rich.console.Console` 对象包含 `print` 方法，它和语言内置的 {data}`print` 函数有着相似的接口。下面是一段使用样例："
   ]
  },
  {
   "cell_type": "code",
   "execution_count": 3,
   "metadata": {},
   "outputs": [
    {
     "data": {
      "text/html": [
       "<pre style=\"white-space:pre;overflow-x:auto;line-height:normal;font-family:Menlo,'DejaVu Sans Mono',consolas,'Courier New',monospace\">Hello World!\n",
       "</pre>\n"
      ],
      "text/plain": [
       "Hello World!\n"
      ]
     },
     "metadata": {},
     "output_type": "display_data"
    }
   ],
   "source": [
    "console.print(\"Hello\", \"World!\")"
   ]
  },
  {
   "cell_type": "markdown",
   "metadata": {},
   "source": [
    "您可能已经料到，这时终端上会显示“ Hello World！”。请注意，与内置的“print”函数不同，Rich 会将文字自动换行以适合终端宽度。\n",
    "\n",
    "有好几种方法可以为输出添加颜色和样式。您可以通过添加 `style` 关键字参数来为整个输出设置样式。例子如下："
   ]
  },
  {
   "cell_type": "code",
   "execution_count": 4,
   "metadata": {},
   "outputs": [
    {
     "data": {
      "text/html": [
       "<pre style=\"white-space:pre;overflow-x:auto;line-height:normal;font-family:Menlo,'DejaVu Sans Mono',consolas,'Courier New',monospace\"><span style=\"color: #800000; text-decoration-color: #800000; font-weight: bold\">Hello World!</span>\n",
       "</pre>\n"
      ],
      "text/plain": [
       "\u001b[1;31mHello World!\u001b[0m\n"
      ]
     },
     "metadata": {},
     "output_type": "display_data"
    }
   ],
   "source": [
    "console.print(\"Hello\", \"World!\", style=\"bold red\")"
   ]
  },
  {
   "cell_type": "markdown",
   "metadata": {},
   "source": [
    "这个范例一次只设置了一行文字的样式。如果想获得更细腻更复杂的样式，Rich 可以渲染一个特殊的标记，其语法类似于 [bbcode](https://en.wikipedia.org/wiki/BBCode)。示例如下："
   ]
  },
  {
   "cell_type": "code",
   "execution_count": 5,
   "metadata": {},
   "outputs": [
    {
     "data": {
      "text/html": [
       "<pre style=\"white-space:pre;overflow-x:auto;line-height:normal;font-family:Menlo,'DejaVu Sans Mono',consolas,'Courier New',monospace\">Where there is a <span style=\"color: #008080; text-decoration-color: #008080; font-weight: bold\">Will</span> there <span style=\"text-decoration: underline\">is</span> a <span style=\"font-style: italic\">way</span>.\n",
       "</pre>\n"
      ],
      "text/plain": [
       "Where there is a \u001b[1;36mWill\u001b[0m there \u001b[4mis\u001b[0m a \u001b[3mway\u001b[0m.\n"
      ]
     },
     "metadata": {},
     "output_type": "display_data"
    }
   ],
   "source": [
    "console.print(\"Where there is a [bold cyan]Will[/bold cyan] there [u]is[/u] a [i]way[/i].\")"
   ]
  },
  {
   "cell_type": "markdown",
   "metadata": {},
   "source": [
    "控制台对象处理生成 ANSI 转义序列的机制，用于颜色和样式。它会自动检测终端的功能，并在必要时转换颜色。\n",
    "\n",
    "* {obj}`~rich.console.Console.size` 是终端的当前尺寸（如果你调整窗口大小，它可能会改变）。\n",
    "* {obj}`~rich.console.Console.encoding` 是默认编码（通常是 \"utf-8\"）。\n",
    "* {obj}`~rich.console.Console.is_terminal` 是一个布尔值，表示 Console 实例是否正在写入终端。\n",
    "* {obj}`~rich.console.Console.color_system` 是一个字符串，包含 Console 颜色系统（见下文）。\n",
    "\n",
    "\n"
   ]
  },
  {
   "cell_type": "markdown",
   "metadata": {},
   "source": []
  }
 ],
 "metadata": {
  "kernelspec": {
   "display_name": "xin",
   "language": "python",
   "name": "python3"
  },
  "language_info": {
   "codemirror_mode": {
    "name": "ipython",
    "version": 3
   },
   "file_extension": ".py",
   "mimetype": "text/x-python",
   "name": "python",
   "nbconvert_exporter": "python",
   "pygments_lexer": "ipython3",
   "version": "3.12.2"
  }
 },
 "nbformat": 4,
 "nbformat_minor": 2
}
