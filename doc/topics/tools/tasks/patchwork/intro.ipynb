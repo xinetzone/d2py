{
 "cells": [
  {
   "cell_type": "markdown",
   "metadata": {},
   "source": [
    "# Patchwork 简介\n",
    "\n",
    "{class}`patchwork` 是中等级别的 Unix 系统管理原语库，例如“安装软件包”或“创建用户帐户”，用于自省系统状态的查询功能，以及基于 {mod}`fabric` 库构建的其他常用功能。\n",
    "\n",
    "- 主要 API 调用力求是幂等的：它们可以连续调用多次，而不会产生不需要的变化或导致错误。\n",
    "- Patchwork 只是 API：它没有“配方”、“清单”、“类”、“角色”或其他高级组织单位的概念。这由用户或包装库来决定。\n",
    "- 这是 Patchwork 与像 [Chef](http://opscode.com/chef/) 或 [Puppet](http://puppetlabs.com/) 这样的较大配置管理框架不同之处之一。Patchwork 在本质上最接近这些工具的“资源”。\n",
    "- 它是通过 shell 调用实现的，通常从本地工作站通过SSH发送。然而，在其功能可能的情况下，它期望有基本的 Invoke {class}`~invoke.context.Context` 对象，因此可以根据调用者提供的具体上下文在本地或远程运行。"
   ]
  }
 ],
 "metadata": {
  "language_info": {
   "name": "python"
  }
 },
 "nbformat": 4,
 "nbformat_minor": 2
}
