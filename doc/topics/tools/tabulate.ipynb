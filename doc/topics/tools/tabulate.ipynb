{
 "cells": [
  {
   "cell_type": "markdown",
   "metadata": {},
   "source": [
    "# {mod}`tabulate` 字符串样式的格式化表格\n",
    "\n",
    "参考：[tabulate](https://github.com/astanin/python-tabulate)\n",
    "\n",
    "安装：\n",
    "```bash\n",
    "pip3 install tabulate \n",
    "```"
   ]
  },
  {
   "cell_type": "code",
   "execution_count": 1,
   "metadata": {},
   "outputs": [],
   "source": [
    "from tabulate import tabulate"
   ]
  },
  {
   "cell_type": "markdown",
   "metadata": {},
   "source": [
    "## 使用 {class}`list` 生成表格"
   ]
  },
  {
   "cell_type": "code",
   "execution_count": 2,
   "metadata": {},
   "outputs": [
    {
     "name": "stdout",
     "output_type": "stream",
     "text": [
      "----------  ---------  ---\n",
      "First Name  Last Name  Age\n",
      "John        Smith      39\n",
      "Mary        Jane       25\n",
      "Jennifer    Doe        28\n",
      "----------  ---------  ---\n"
     ]
    }
   ],
   "source": [
    "table = [\n",
    "    ['First Name', 'Last Name', 'Age'], \n",
    "    ['John', 'Smith', 39], \n",
    "    ['Mary', 'Jane', 25], \n",
    "    ['Jennifer', 'Doe', 28]\n",
    "]\n",
    "print(tabulate(table))"
   ]
  },
  {
   "cell_type": "markdown",
   "metadata": {},
   "source": [
    "使用以下参数将列名单独显示出来："
   ]
  },
  {
   "cell_type": "code",
   "execution_count": 3,
   "metadata": {},
   "outputs": [
    {
     "name": "stdout",
     "output_type": "stream",
     "text": [
      "First Name    Last Name      Age\n",
      "------------  -----------  -----\n",
      "John          Smith           39\n",
      "Mary          Jane            25\n",
      "Jennifer      Doe             28\n"
     ]
    }
   ],
   "source": [
    "print(tabulate(table, headers='firstrow'))"
   ]
  },
  {
   "cell_type": "markdown",
   "metadata": {},
   "source": [
    "{func}`tabulate` 函数还包提供 `tablefmt` 参数，它允许进一步改进表格的外观，代码如下："
   ]
  },
  {
   "cell_type": "code",
   "execution_count": 4,
   "metadata": {},
   "outputs": [
    {
     "name": "stdout",
     "output_type": "stream",
     "text": [
      "+--------------+-------------+-------+\n",
      "| First Name   | Last Name   |   Age |\n",
      "+==============+=============+=======+\n",
      "| John         | Smith       |    39 |\n",
      "+--------------+-------------+-------+\n",
      "| Mary         | Jane        |    25 |\n",
      "+--------------+-------------+-------+\n",
      "| Jennifer     | Doe         |    28 |\n",
      "+--------------+-------------+-------+\n"
     ]
    }
   ],
   "source": [
    "print(tabulate(table, headers='firstrow', tablefmt='grid'))"
   ]
  },
  {
   "cell_type": "code",
   "execution_count": 5,
   "metadata": {},
   "outputs": [
    {
     "name": "stdout",
     "output_type": "stream",
     "text": [
      "╒══════════════╤═════════════╤═══════╕\n",
      "│ First Name   │ Last Name   │   Age │\n",
      "╞══════════════╪═════════════╪═══════╡\n",
      "│ John         │ Smith       │    39 │\n",
      "├──────────────┼─────────────┼───────┤\n",
      "│ Mary         │ Jane        │    25 │\n",
      "├──────────────┼─────────────┼───────┤\n",
      "│ Jennifer     │ Doe         │    28 │\n",
      "╘══════════════╧═════════════╧═══════╛\n"
     ]
    }
   ],
   "source": [
    "print(tabulate(table, headers='firstrow', tablefmt='fancy_grid'))"
   ]
  },
  {
   "cell_type": "markdown",
   "metadata": {},
   "source": [
    "## 使用 {class}`dict` 生成表格"
   ]
  },
  {
   "cell_type": "markdown",
   "metadata": {},
   "source": [
    "在字典的情况下，键通常是列的标题，值将是这些列的元素取值。通常通过传递“keys”作为 headers 参数的参数来指定键是表格的标题："
   ]
  },
  {
   "cell_type": "code",
   "execution_count": 6,
   "metadata": {},
   "outputs": [
    {
     "name": "stdout",
     "output_type": "stream",
     "text": [
      "First Name    Last Name      Age\n",
      "------------  -----------  -----\n",
      "John          Smith           39\n",
      "Mary          Jane            25\n",
      "Jennifer      Doe             28\n"
     ]
    }
   ],
   "source": [
    "info = {\n",
    "    'First Name': ['John', 'Mary', 'Jennifer'], \n",
    "    'Last Name': ['Smith', 'Jane', 'Doe'], \n",
    "    'Age': [39, 25, 28]\n",
    "}\n",
    "print(tabulate(info, headers='keys'))"
   ]
  },
  {
   "cell_type": "markdown",
   "metadata": {},
   "source": [
    "还可以使用 `showindex` 参数来向表格中添加索引列："
   ]
  },
  {
   "cell_type": "code",
   "execution_count": 9,
   "metadata": {},
   "outputs": [
    {
     "name": "stdout",
     "output_type": "stream",
     "text": [
      "╒════╤══════════════╤═════════════╤═══════╕\n",
      "│    │ First Name   │ Last Name   │   Age │\n",
      "╞════╪══════════════╪═════════════╪═══════╡\n",
      "│  0 │ John         │ Smith       │    39 │\n",
      "├────┼──────────────┼─────────────┼───────┤\n",
      "│  1 │ Mary         │ Jane        │    25 │\n",
      "├────┼──────────────┼─────────────┼───────┤\n",
      "│  2 │ Jennifer     │ Doe         │    28 │\n",
      "╘════╧══════════════╧═════════════╧═══════╛\n"
     ]
    }
   ],
   "source": [
    "print(tabulate(info, headers='keys', tablefmt='fancy_grid', showindex=True))"
   ]
  },
  {
   "cell_type": "code",
   "execution_count": 10,
   "metadata": {},
   "outputs": [
    {
     "name": "stdout",
     "output_type": "stream",
     "text": [
      "╒════╤══════════════╤═════════════╤═══════╕\n",
      "│    │ First Name   │ Last Name   │   Age │\n",
      "╞════╪══════════════╪═════════════╪═══════╡\n",
      "│  1 │ John         │ Smith       │    39 │\n",
      "├────┼──────────────┼─────────────┼───────┤\n",
      "│  2 │ Mary         │ Jane        │    25 │\n",
      "├────┼──────────────┼─────────────┼───────┤\n",
      "│  3 │ Jennifer     │ Doe         │    28 │\n",
      "╘════╧══════════════╧═════════════╧═══════╛\n"
     ]
    }
   ],
   "source": [
    "print(tabulate(info, headers='keys', tablefmt='fancy_grid', showindex=range(1, 4)))"
   ]
  },
  {
   "cell_type": "code",
   "execution_count": null,
   "metadata": {},
   "outputs": [],
   "source": []
  }
 ],
 "metadata": {
  "kernelspec": {
   "display_name": "py311",
   "language": "python",
   "name": "python3"
  },
  "language_info": {
   "codemirror_mode": {
    "name": "ipython",
    "version": 3
   },
   "file_extension": ".py",
   "mimetype": "text/x-python",
   "name": "python",
   "nbconvert_exporter": "python",
   "pygments_lexer": "ipython3",
   "version": "3.11.7"
  }
 },
 "nbformat": 4,
 "nbformat_minor": 2
}
