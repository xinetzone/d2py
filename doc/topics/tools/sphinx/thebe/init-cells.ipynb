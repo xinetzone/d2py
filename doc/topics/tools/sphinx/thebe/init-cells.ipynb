{
 "cells": [
  {
   "cell_type": "markdown",
   "metadata": {},
   "source": [
    "# 当Thebe启动时运行单元格\n",
    "有时在Thebe启动时自动运行一些单元格是有帮助的。例如，如果您想预定义一些变量或导入稍后将使用的功能。这使您可以专注于传达给用户的代码中的想法。\n",
    "\n",
    "在初始化后，可以通过Javascript控制Thebe。以下是两种配置Javascript以在幕后运行代码的方法。\n",
    "\n",
    "## 在Thebe初始化时运行单元格\n",
    "一种简单的运行代码的方法是模拟点击启动Thebe时创建的按钮。通过选择Thebe按钮并调用`click()`方法，当Thebe内核准备就绪后，该单元格中的代码将被运行（并将显示输出）。\n",
    "\n",
    "以下是选择带有`thebelab-init`标签的所有单元格并模拟点击按钮的代码示例。\n",
    "\n",
    "```js\n",
    "thebelab.events.on(\"request-kernel\")(() => {\n",
    "    // Find any cells with an initialization tag and ask Thebe to run them when ready\n",
    "    var thebeInitCells = document.querySelectorAll('.thebelab-init');\n",
    "    thebeInitCells.forEach((cell) => {\n",
    "        console.log(\"Initializing Thebe with cell: \" + cell.id);\n",
    "        const initButton = cell.querySelector('.thebelab-run-button');\n",
    "        initButton.click();\n",
    "    });\n",
    "});\n",
    "```"
   ]
  },
  {
   "cell_type": "markdown",
   "metadata": {},
   "source": [
    "## 使用Thebe运行自定义代码\n",
    "此外，您可以使用Javascript和`requestExecute`方法从Thebe对象运行自己的自定义代码。以下是使用相同事件触发器的代码片段，但在这种情况下，一旦内核准备就绪，就会针对内核运行一些自定义代码。\n",
    "\n",
    "```js\n",
    "thebelab.events.on(\"request-kernel\")((kernel) => {\n",
    "    // Find any cells with an initialization tag and ask Thebe to run them when ready\n",
    "    kernel.requestExecute({code: \"import numpy\"})\n",
    "});\n",
    "```"
   ]
  },
  {
   "cell_type": "markdown",
   "metadata": {},
   "source": [
    "在上面的两种情况下，您可能需要根据代码的结构以及希望用户在访问页面时的行为来自定义Javascript调用。"
   ]
  }
 ],
 "metadata": {
  "kernelspec": {
   "display_name": "xin",
   "language": "python",
   "name": "python3"
  },
  "language_info": {
   "name": "python",
   "version": "3.12.2"
  }
 },
 "nbformat": 4,
 "nbformat_minor": 2
}
