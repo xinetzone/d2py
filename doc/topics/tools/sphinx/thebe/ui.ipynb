{
 "cells": [
  {
   "cell_type": "markdown",
   "metadata": {},
   "source": [
    "# 用户界面\n",
    "Thebe支持一些内置的用户界面元素。\n",
    "\n",
    "目的是提供简单的元素，可以添加到页面上，并由消费者相应地进行样式设置，无需重新编写代码。按照此处所示的方式使用这些UI元素，假设您已经在页面上静态加载了Thebe。\n",
    "\n",
    "内置的UI元素包括：\n",
    "\n",
    "- 激活按钮\n",
    "\n",
    "- 内核状态小部件\n",
    "\n",
    "## 激活按钮\n",
    "当按下此按钮时，它将在页面上运行thebelab.bootstrap函数。按如下方式配置此UI元素。\n",
    "\n",
    "在页面所需位置添加一个`div`元素。\n",
    "\n",
    "```html\n",
    "<div class=\"thebe-activate\" />\n",
    "```\n",
    "然后在Thebe配置对象中设置以下选项`mountActivateWidget:true`\n",
    "\n",
    "## 状态小部件\n",
    "此元素将显示内核的状态，当内核发送新消息或执行代码时会更新。按如下方式配置此UI元素。\n",
    "\n",
    "在页面所需位置添加一个`div`元素。\n",
    "\n",
    "```html\n",
    "<div class=\"thebe-status\" />\n",
    "```\n",
    "然后在Thebe配置对象中设置以下选项`mountStatusWidget:true`\n",
    "\n",
    "## 示例\n",
    "将以下内容添加到页面将呈现激活和状态小部件。\n",
    "\n",
    "```html\n",
    "<script type=\"text/x-thebe-config\">\n",
    "  {\n",
    "    requestKernel: true,\n",
    "    binderOptions: {\n",
    "      repo: \"binder-examples/requirements\",\n",
    "    },\n",
    "    mountActivateWidget: true,\n",
    "    mountStatusWidget: true\n",
    "  }\n",
    "</script>\n",
    "<div class=\"thebe-activate\" />\n",
    "<div class=\"thebe-status\" />\n",
    "<script src=\"https://unpkg.com/thebe@latest/lib/index.js\"></script>\n",
    "```\n",
    "\n",
    "按下激活将把以下代码转换为激活单元格，内核状态小部件将显示内核启动的状态。"
   ]
  },
  {
   "cell_type": "markdown",
   "metadata": {},
   "source": [
    "<script type=\"text/x-thebe-config\">\n",
    "  {\n",
    "    requestKernel: true,\n",
    "    binderOptions: {\n",
    "      repo: \"binder-examples/requirements\",\n",
    "    },\n",
    "    mountActivateWidget: true,\n",
    "    mountStatusWidget: true\n",
    "  }\n",
    "</script>\n",
    "<div class=\"thebe-activate\" />\n",
    "<div class=\"thebe-status\" />\n",
    "<script src=\"https://unpkg.com/thebe@latest/lib/index.js\"></script>"
   ]
  },
  {
   "cell_type": "code",
   "execution_count": null,
   "metadata": {},
   "outputs": [],
   "source": [
    "%matplotlib inline\n",
    "import numpy as np\n",
    "import matplotlib.pyplot as plt\n",
    "x = np.linspace(0,10)\n",
    "plt.plot(x, np.sin(x))\n",
    "plt.plot(x, np.cos(x))"
   ]
  },
  {
   "cell_type": "markdown",
   "metadata": {},
   "source": [
    "注意：如果您希望动态加载Thebe，请查看此处示例中的[自定义启动按钮](https://github.com/executablebooks/thebe/blob/feat/kernel-status/examples/demo-launch-button.html)。"
   ]
  }
 ],
 "metadata": {
  "kernelspec": {
   "display_name": "xin",
   "language": "python",
   "name": "python3"
  },
  "language_info": {
   "name": "python",
   "version": "3.12.2"
  }
 },
 "nbformat": 4,
 "nbformat_minor": 2
}
