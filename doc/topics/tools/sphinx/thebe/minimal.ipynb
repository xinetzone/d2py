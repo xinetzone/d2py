{
 "cells": [
  {
   "cell_type": "markdown",
   "metadata": {},
   "source": [
    "# 最小示例\n",
    "本页面展示了一个使用mybinder作为内核（即计算后端）提供程序来运行Thebe的最小设置。本指南将逐步介绍加载Thebe并激活它，以使您的代码单元格变得活跃。"
   ]
  },
  {
   "cell_type": "markdown",
   "metadata": {},
   "source": [
    "## 加载和配置Thebe\n",
    "为了使用Thebe，我们必须首先设置其配置。这必须在从CDN或本地脚本加载Thebe之前完成。\n",
    "\n",
    "以下是Thebe的示例配置\n",
    "```html\n",
    "<!-- Configure and load Thebe !-->\n",
    "<script type=\"text/x-thebe-config\">\n",
    "  {\n",
    "    requestKernel: true,\n",
    "    binderOptions: {\n",
    "      repo: \"binder-examples/requirements\",\n",
    "    },\n",
    "  }\n",
    "</script>\n",
    "```"
   ]
  },
  {
   "cell_type": "markdown",
   "metadata": {},
   "source": [
    "在这种情况下，`requestKernel: true` 要求Thebe在加载后立即请求内核，`binderOptions`提供了Binder将使用的存储库以提供给我们内核。\n",
    "\n",
    "接下来，我们将从CDN加载Thebe：\n",
    "\n",
    "```html\n",
    "<script src=\"https://unpkg.com/thebe@latest/lib/index.js\"></script>\n",
    "```"
   ]
  },
  {
   "cell_type": "markdown",
   "metadata": {},
   "source": [
    "<script src=\"https://unpkg.com/thebe@latest/lib/index.js\"></script>\n",
    "<!-- Configure and load Thebe !-->\n",
    "<script type=\"text/x-thebe-config\">\n",
    "  {\n",
    "    requestKernel: true,\n",
    "    binderOptions: {\n",
    "      repo: \"binder-examples/requirements\",\n",
    "    },\n",
    "  }\n",
    "</script>\n",
    "<button id=\"activateButton\"  style=\"width: 150px; height: 45px; font-size: 1.5em;\">Activate</button>\n",
    "<script>\n",
    "var bootstrapThebe = function() {\n",
    "    thebelab.bootstrap();\n",
    "}\n",
    "\n",
    "document.querySelector(\"#activateButton\").addEventListener('click', bootstrapThebe)\n",
    "</script>\n",
    "放置按钮并添加启用Thebe的JavaScript是通过以下代码完成的：\n",
    "```html\n",
    "<button id=\"activateButton\"  style=\"width: 150px; height: 45px; font-size: 1.5em;\">Activate</button>\n",
    "<script>\n",
    "var bootstrapThebe = function() {\n",
    "    thebelab.bootstrap();\n",
    "}\n",
    "\n",
    "document.querySelector(\"#activateButton\").addEventListener('click', bootstrapThebe)\n",
    "</script>\n",
    "```"
   ]
  },
  {
   "cell_type": "markdown",
   "metadata": {},
   "source": [
    "## 添加代码单元格\n",
    "最后，我们将添加Thebe可以激活的代码单元格。默认情况下，Thebe会查找具有`data-executable=\"true\"`的任何HTML元素。还将添加`data-language=\"python\"`属性以启用CodeMirror的语法高亮显示。"
   ]
  },
  {
   "cell_type": "code",
   "execution_count": null,
   "metadata": {},
   "outputs": [],
   "source": [
    "print(\"Hello!\")"
   ]
  },
  {
   "cell_type": "markdown",
   "metadata": {},
   "source": [
    "以下是创建上述单元格的代码：\n",
    "```html\n",
    "<pre data-executable=\"true\" data-language=\"python\">print(\"Hello!\")</pre>\n",
    "```"
   ]
  },
  {
   "cell_type": "markdown",
   "metadata": {},
   "source": [
    "按下上方的Thebe按钮以激活此单元格，然后按“运行”按钮或“Shift-Enter”执行此单元格。\n",
    "\n",
    "```{note}\n",
    "在此示例中激活Thebe时，它必须首先向Binder请求内核。这可能需要几秒钟的时间。\n",
    "```"
   ]
  },
  {
   "cell_type": "markdown",
   "metadata": {},
   "source": [
    "现在让我们尝试另一个生成Matplotlib图表的单元格。因为我们已经配置Thebe使用具有Numpy和Matplotlib的环境的Binder，所以一切按预期工作。尝试修改单元格内容并重新运行！\n",
    "\n",
    "这是另一个带有绘图功能的单元格。再次按Shift-Enter！"
   ]
  },
  {
   "cell_type": "code",
   "execution_count": null,
   "metadata": {},
   "outputs": [],
   "source": [
    "%matplotlib inline\n",
    "import numpy as np\n",
    "import matplotlib.pyplot as plt\n",
    "x = np.linspace(0,10)\n",
    "plt.plot(x, np.sin(x))\n",
    "plt.plot(x, np.cos(x))"
   ]
  },
  {
   "cell_type": "markdown",
   "metadata": {},
   "source": [
    "\n",
    "由下面代码生成\n",
    "```html\n",
    "<pre data-executable=\"true\" data-language=\"python\">\n",
    "%matplotlib inline\n",
    "import numpy as np\n",
    "import matplotlib.pyplot as plt\n",
    "x = np.linspace(0,10)\n",
    "plt.plot(x, np.sin(x))\n",
    "plt.plot(x, np.cos(x))\n",
    "</pre>\n",
    "```"
   ]
  },
  {
   "cell_type": "markdown",
   "metadata": {},
   "source": []
  }
 ],
 "metadata": {
  "kernelspec": {
   "display_name": "xin",
   "language": "python",
   "name": "python3"
  },
  "language_info": {
   "name": "python",
   "version": "3.12.2"
  }
 },
 "nbformat": 4,
 "nbformat_minor": 2
}
