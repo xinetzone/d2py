{
 "cells": [
  {
   "cell_type": "markdown",
   "metadata": {},
   "source": [
    "# 快速上手\n",
    "\n",
    "为了使用 Thebe，您必须在网页上执行以下步骤：\n",
    "\n",
    "## 加载 thebe JavaScript 包\n",
    "\n",
    "Thebe JavaScript 最容易从 CDN 获取。您可以通过在页面上包含以下内容来从 CDN 加载 JavaScript 库：\n",
    "\n",
    "```html\n",
    "<script src=\"https://unpkg.com/thebe@latest/lib/index.js\"></script>\n",
    "```\n",
    "\n",
    "或者，也可以下载这个包，并包含在你的站点中。"
   ]
  },
  {
   "cell_type": "markdown",
   "metadata": {},
   "source": [
    "## 在页面的HTML中配置Thebe\n",
    "\n",
    "Thebe 会在其配置时寻找特定的 HTML 块。这发生在 Thebe 被“引导”（即启动）的时候。\n",
    "\n",
    "配置块具有以下结构：\n",
    "```html\n",
    "<script type=\"text/x-thebe-config\">\n",
    "   {\n",
    "       a: collection\n",
    "       of: key\n",
    "       val: pairs\n",
    "   }\n",
    "</script>\n",
    "```"
   ]
  },
  {
   "cell_type": "markdown",
   "metadata": {},
   "source": [
    "请参阅[配置 Thebe](config)以获取有关如何使用 Thebe 进行配置以及需要配置哪些信息的信息。\n",
    "\n",
    "## 在页面上引导 Thebe\n",
    "\n",
    "如果已加载了 Thebe 的 Javascript 包，并且配置文件存在，你可以通过调用以下 Javascript 函数来引导（即启动）Thebe：\n",
    "\n",
    "```Javascript\n",
    "thebelab.bootstrap()\n",
    "```"
   ]
  },
  {
   "cell_type": "markdown",
   "metadata": {},
   "source": [
    "它将执行以下一个或多个操作：\n",
    "\n",
    "- 重新渲染代码单元格，使它们成为活动单元格。（渲染可以处理包含由提示符区分的输入和输出混合的单元格）\n",
    "-  （可选）从 Binder 请求一个笔记本服务器\n",
    "- （可选）从一笔记本服务器请求一个Jupyter内核。\n",
    "\n",
    "调用引导函数通常是通过将其连接到页面上按钮的“click”事件来完成的。\n",
    "\n",
    "```{tip}\n",
    "如果在Thebe配置中设置了 `bootstrap: true`，则在页面加载时将自动触发此操作。\n",
    "```"
   ]
  },
  {
   "cell_type": "markdown",
   "metadata": {},
   "source": []
  }
 ],
 "metadata": {
  "language_info": {
   "name": "python"
  }
 },
 "nbformat": 4,
 "nbformat_minor": 2
}
