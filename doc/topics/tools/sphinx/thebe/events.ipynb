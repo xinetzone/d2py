{
 "cells": [
  {
   "cell_type": "markdown",
   "metadata": {},
   "source": [
    "# 事件钩子\n",
    "\n",
    "当Thebe启动（使用thebelab.bootstrap）时，它会发出一系列与启动过程状态相对应的事件。您可以接入这些事件以控制页面上的行为。\n",
    "\n",
    "要实现这一点，可以使用Thebe中的状态事件，如下所示：\n",
    "\n",
    "```javascript\n",
    "thebelab.on(\"status\", function (evt, data) {\n",
    "  console.log(\"状态改变：\", data.status, data.message);\n",
    "});\n",
    "```\n",
    "\n",
    "在上面的代码中，data对象包含有关Thebe的信息集合，data.status将反映Thebe的当前状态。这将在以下状态之间循环：\n",
    "\n",
    "- building\n",
    "- built\n",
    "- launching\n",
    "- ready\n",
    "\n",
    "这些事件可用于执行诸如在Jupyter内核准备好后运行代码的操作，或在启动Thebe之前操作页面DOM以产生某些行为（例如“加载状态”按钮）。"
   ]
  }
 ],
 "metadata": {
  "language_info": {
   "name": "python"
  }
 },
 "nbformat": 4,
 "nbformat_minor": 2
}
