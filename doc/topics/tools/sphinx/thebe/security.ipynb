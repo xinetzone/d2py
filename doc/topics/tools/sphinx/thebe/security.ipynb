{
 "cells": [
  {
   "cell_type": "markdown",
   "metadata": {},
   "source": [
    "# 安全性考虑\n",
    "Thebe允许用户在Python中运行任意代码，也可能在Javascript中运行。这使得交互式图形和自定义输出可以在您的文档中运行，这是Thebe带来的好处！✨\n",
    "\n",
    "然而，这也可能导致[跨站脚本（XSS）攻击](https://en.wikipedia.org/wiki/Cross-site_scripting%3E)，最常见的情况是自我XSS攻击。当某人执行他们不理解的代码或恶意代码时，就会发生这种情况。"
   ]
  },
  {
   "cell_type": "markdown",
   "metadata": {},
   "source": [
    "例如，Jupyter中的`%%html`和`%%javascript`单元格魔术可以直接将脚本标签插入到页面中。它们可以潜在地修改DOM，代表用户进行API调用，或者运行不受信任的代码。\n",
    "\n",
    "建议您在静态环境中运行Thebe（例如ReadTheDocs或类似的环境），这些环境无法访问用户凭证，如cookie或API密钥。"
   ]
  }
 ],
 "metadata": {
  "language_info": {
   "name": "python"
  }
 },
 "nbformat": 4,
 "nbformat_minor": 2
}
