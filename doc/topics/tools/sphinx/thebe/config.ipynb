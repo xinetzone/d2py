{
 "cells": [
  {
   "cell_type": "markdown",
   "metadata": {},
   "source": [
    "# 配置 Thebe\n",
    "\n",
    "你可以通过放置在页面HTML某处的配置块来控制Thebe的行为。该配置块具有以下结构：\n",
    "\n",
    "```python\n",
    "<script type=\"text/x-thebe-config\">\n",
    "   {\n",
    "       a: collection\n",
    "       of: key\n",
    "       val: pairs\n",
    "   }\n",
    "</script>\n",
    "```"
   ]
  },
  {
   "cell_type": "markdown",
   "metadata": {},
   "source": [
    "例如，以下配置告诉Thebe使用BinderHub进行会话，并指定要与Binder一起使用的仓库：\n",
    "```html\n",
    "<script type=\"text/x-thebe-config\">\n",
    "{\n",
    "    requestKernel: true,\n",
    "    binderOptions: {\n",
    "        repo: \"binder-examples/requirements\",\n",
    "        ref: \"master\",\n",
    "    },\n",
    "}\n",
    "</script>\n",
    "```"
   ]
  },
  {
   "cell_type": "markdown",
   "metadata": {},
   "source": [
    "当在页面上启动Thebe时，将使用此配置来控制其行为。\n",
    "\n",
    "请参阅下面的部分，了解可以使用Thebe配置进行控制的内容。\n",
    "\n",
    "## 配置将要启动的内核\n",
    "要配置Thebe启动时请求的内核，请在Thebe配置中使用以下部分：\n",
    "\n",
    "```javascript\n",
    "kernelOptions: {\n",
    "  kernelName: \"python3\",\n",
    "},\n",
    "```\n",
    "\n",
    "当Thebe启动时，它将为页面请求一个具有该名称的内核。请注意，目前每个页面只能有一个内核。\n",
    "\n",
    "```{note}\n",
    "您必须确保Thebe尝试启动的环境中存在 `kernelName` 的值。某些语言（如 `python`）的简写也可能有效。\n",
    "```"
   ]
  },
  {
   "cell_type": "markdown",
   "metadata": {},
   "source": [
    "## 配置启动内核的工作目录\n",
    "除了选择内核之外，您还可以选择启动内核的 `path`。这将相对于启动的Jupyter服务器的根目录（例如，如果使用BinderHub，则相对于仓库的根目录）。\n",
    "\n",
    "要配置工作目录的路径，请使用以下配置：\n",
    "\n",
    "```javascript\n",
    "kernelOptions: {\n",
    "  kernelName: \"python3\",\n",
    "  path: \"path/to/directory\"\n",
    "}\n",
    "```\n",
    "\n",
    "## 自定义CodeMirror\n",
    "CodeMirror是将您的代码单元格转换为可编辑单元格的工具。它具有许多配置选项，例如主题和语法高亮显示。您可以使用以下Thebe配置在一个单元格中编辑所有这些属性：\n",
    "\n",
    "```javascript\n",
    "// Additional options to pass to CodeMirror instances\n",
    "codeMirrorConfig: {},\n",
    "```\n",
    "\n",
    "您可以使用[任何可用的CodeMirror配置](https://codemirror.net/doc/manual.html#config)。例如，以下配置更改了[CodeMirror的主题](https://codemirror.net/theme/)：\n",
    "\n",
    "```javascript\n",
    "codeMirrorConfig: {\n",
    "    theme: \"abcdef\"\n",
    "}\n",
    "```"
   ]
  },
  {
   "cell_type": "markdown",
   "metadata": {},
   "source": [
    "以下代码单元格演示了此主题："
   ]
  },
  {
   "cell_type": "code",
   "execution_count": null,
   "metadata": {},
   "outputs": [],
   "source": [
    "%matplotlib inline\n",
    "import numpy as np\n",
    "import matplotlib.pyplot as plt\n",
    "plt.ion()\n",
    "fig, ax = plt.subplots()\n",
    "ax.scatter(*np.random.randn(2, 100), c=np.random.randn(100))\n",
    "ax.set(title=\"Wow, an interactive plot!\")"
   ]
  },
  {
   "cell_type": "markdown",
   "metadata": {},
   "source": [
    "## 将代码单元格标记为只读\n",
    "如果您希望Thebe能够运行一个代码单元格，但不希望用户编辑它，您可以使用以下语法将其标记为“只读”：\n",
    "\n",
    "```html\n",
    "<pre data-executable data-readonly>print(\"I cannot be modified\")</pre>\n",
    "```\n",
    "\n",
    "一旦Thebe被激活，用户将无法修改代码，但他们仍然可以按下“运行”按钮来查看输出结果。\n",
    "\n",
    "中文翻译结果是：\n",
    "要将所有单元格默认设置为只读，请使用以下Thebe配置：\n",
    "\n",
    "```javascript\n",
    "codeMirrorConfig: {\n",
    "    readOnly: true\n",
    "}\n",
    "```\n",
    "\n",
    "这使用CodeMirror将所有单元格标记为只读。如果您正在使用此设置，并希望手动将单个单元格标记为可编辑，可以使用 `data-readonly=\"false\"` 来覆盖单元格的CodeMirror配置。例如：\n",
    "\n",
    "```html\n",
    "<pre data-executable data-readonly=\"false\">print(\"I still can be modified\")</pre>\n",
    "<pre data-executable>print(\"Due to codeMirrorConfig, I cannot be modified\")</pre>\n",
    "```"
   ]
  },
  {
   "cell_type": "markdown",
   "metadata": {},
   "source": []
  }
 ],
 "metadata": {
  "kernelspec": {
   "display_name": "xin",
   "language": "python",
   "name": "python3"
  },
  "language_info": {
   "name": "python",
   "version": "3.12.2"
  }
 },
 "nbformat": 4,
 "nbformat_minor": 2
}
