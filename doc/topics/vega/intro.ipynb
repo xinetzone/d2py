{
 "cells": [
  {
   "cell_type": "markdown",
   "metadata": {},
   "source": [
    "# Vega 简介\n",
    "\n",
    "Vega 是一种可视化语法，用于创建、保存和共享交互式可视化设计的声明性语言。通过使用 Vega，你可以用 JSON 格式描述可视化的外观和交互行为，并利用 Canvas 或 SVG 生成基于网页的视图。\n",
    "\n",
    "Vega 提供了构建各种可视化设计的基本构件：[数据加载](https://vega.github.io/vega/docs/data)和[变换](https://vega.github.io/vega/docs/transforms)、[比例尺](https://vega.github.io/vega/docs/scales)、[地图投影](https://vega.github.io/vega/docs/projections)、[坐标轴](https://vega.github.io/vega/docs/axes)、[图例](https://vega.github.io/vega/docs/legends)以及[图形标记](https://vega.github.io/vega/docs/marks)，如矩形、线条、绘图符号等。交互技术可以通过[响应式信号](https://vega.github.io/vega/docs/signals)来指定，这些信号可以动态地根据[输入事件流](https://vega.github.io/vega/docs/event-streams)修改可视化效果。\n",
    "\n",
    "Vega 规范以 JSON 格式定义交互式可视化。这些规范由 Vega 的 JavaScript 运行时解析，以生成静态图像或基于网页的交互视图。Vega 为计算生成可视化提供了一种便捷表示，并且可以作为新 API 和视觉分析工具的基础。\n",
    "\n",
    "要快速创建常见的统计图形，请查看 [Vega-Lite](https://vega.github.io/vega-lite)，这是一种基于 Vega 构建的更高级语言。对 JavaScript 不太感兴趣？可以看看 [Altair Python API for Vega-Lite](https://altair-viz.github.io/)。"
   ]
  }
 ],
 "metadata": {
  "language_info": {
   "name": "python"
  }
 },
 "nbformat": 4,
 "nbformat_minor": 2
}
