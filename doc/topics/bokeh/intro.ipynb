{
 "cells": [
  {
   "cell_type": "markdown",
   "metadata": {},
   "source": [
    "# Bokeh 简介\n",
    "\n",
    "- [Bokeh](https://bokeh.org/)\n",
    "\n",
    "- 灵活：Bokeh 使创建常见图表变得简单，但也能处理自定义或特殊的使用情况。\n",
    "- 交互式：工具和小部件让你和你的观众探索“如果”的场景或深入到你的数据细节中。\n",
    "- 可分享：图表、仪表盘和应用可以发布在网页或 Jupyter 笔记本中。\n",
    "- 高效：在 Python 环境中工作，靠近你已经熟悉的所有 PyData 工具。\n",
    "- 强大：你总能添加自定义的 JavaScript 来支持高级或特殊的情况。"
   ]
  },
  {
   "cell_type": "markdown",
   "metadata": {},
   "source": []
  }
 ],
 "metadata": {
  "language_info": {
   "name": "python"
  }
 },
 "nbformat": 4,
 "nbformat_minor": 2
}
