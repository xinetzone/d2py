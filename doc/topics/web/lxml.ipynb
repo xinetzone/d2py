{
 "cells": [
  {
   "cell_type": "markdown",
   "metadata": {},
   "source": [
    "# `lxml`\n",
    "\n",
    "[`lxml`](https://lxml.de/)"
   ]
  }
 ],
 "metadata": {
  "kernelspec": {
   "display_name": "tvmx",
   "language": "python",
   "name": "python3"
  },
  "language_info": {
   "name": "python",
   "version": "3.10.9"
  },
  "orig_nbformat": 4,
  "vscode": {
   "interpreter": {
    "hash": "846e8d36a186a42439ed93df1391a42e82b1fcbccca95c6333e18613b78503b9"
   }
  }
 },
 "nbformat": 4,
 "nbformat_minor": 2
}
