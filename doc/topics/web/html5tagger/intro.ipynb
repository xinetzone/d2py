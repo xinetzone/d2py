{
 "cells": [
  {
   "cell_type": "markdown",
   "metadata": {},
   "source": [
    "# `html5tagger` 快速上手\n",
    "\n",
    "安装：\n",
    "\n",
    "```bash\n",
    "pip install html5tagger\n",
    "```\n",
    "\n",
    "`html5tagger` 提供了两个 HTML 生成的起点：`E` 用于创建空的构建器来生成 HTML 片段，或者 `Document` 用于生成带有 `DOCTYPE` 声明的完整 HTML 文档。两者都会产生 `Builder` 对象，以防你需要它进行类型注解。\n",
    "\n",
    "通过点表示法创建片段并添加标签：\n",
    "\n",
    "```python \n",
    "E.p(\"Powered by:\").br.a(href=\"...\")(\"html5tagger\")\n",
    "```\n",
    "\n",
    "生成：\n",
    "\n",
    "```html\n",
    "<p>Powered by:<br><a href=\"...\">html5tagger</a>\n",
    "```"
   ]
  },
  {
   "cell_type": "markdown",
   "metadata": {},
   "source": [
    "## `html5tagger` 简单示例"
   ]
  },
  {
   "cell_type": "code",
   "execution_count": 1,
   "metadata": {},
   "outputs": [],
   "source": [
    "from html5tagger import Document, E"
   ]
  },
  {
   "cell_type": "markdown",
   "metadata": {},
   "source": [
    "创建 `document`："
   ]
  },
  {
   "cell_type": "code",
   "execution_count": 2,
   "metadata": {},
   "outputs": [],
   "source": [
    "doc = Document(\n",
    "    E.TitleText_, # 第一个参数是用于 `<title>`，添加变量TitleText。\n",
    "    lang=\"en\", # 关键字参数用于 `<html>` 属性。\n",
    "    # 只需列出你需要的资源，无需记住 link/script标签。\n",
    "    _urls=[ \"style.css\", \"favicon.png\", \"manifest.json\" ]\n",
    ")"
   ]
  },
  {
   "cell_type": "markdown",
   "metadata": {},
   "source": [
    "大写名称是模板变量。你可以在之后修改它们："
   ]
  },
  {
   "cell_type": "code",
   "execution_count": 3,
   "metadata": {},
   "outputs": [
    {
     "name": "stdout",
     "output_type": "stream",
     "text": [
      "<!DOCTYPE html><html lang=en><meta charset=\"utf-8\"><title></title><link href=\"style.css\" rel=stylesheet><link href=\"favicon.png\" rel=icon type=\"image/png\"><link href=\"manifest.json\" rel=manifest>\n"
     ]
    }
   ],
   "source": [
    "print(doc.Head_)"
   ]
  },
  {
   "cell_type": "markdown",
   "metadata": {},
   "source": [
    "进入 `<h1>` 并同时更新 `<title>`。"
   ]
  },
  {
   "cell_type": "code",
   "execution_count": 4,
   "metadata": {},
   "outputs": [
    {
     "name": "stdout",
     "output_type": "stream",
     "text": [
      "<!DOCTYPE html><html lang=en><meta charset=\"utf-8\"><title>Demo</title><link href=\"style.css\" rel=stylesheet><link href=\"favicon.png\" rel=icon type=\"image/png\"><link href=\"manifest.json\" rel=manifest><h1>Demo</h1>\n"
     ]
    }
   ],
   "source": [
    "print(doc.h1.TitleText_(\"Demo\") )"
   ]
  },
  {
   "cell_type": "markdown",
   "metadata": {},
   "source": [
    "这一直是 DOM 和其他此类生成器的难题："
   ]
  },
  {
   "cell_type": "code",
   "execution_count": 5,
   "metadata": {},
   "outputs": [
    {
     "data": {
      "text/html": [
       "<!DOCTYPE html><html lang=en><meta charset=\"utf-8\"><title>Demo</title><link href=\"style.css\" rel=stylesheet><link href=\"favicon.png\" rel=icon type=\"image/png\"><link href=\"manifest.json\" rel=manifest><h1>Demo</h1><p>A paragraph with <a href=\"/files\">a link</a> and <em>formatting</em>"
      ],
      "text/plain": [
       "《Document Builder》\n",
       "<!DOCTYPE html><html lang=en><meta charset=\"utf-8\"><title>《TitleText:Demo》</title><link href=\"style.css\" rel=stylesheet><link href=\"favicon.png\" rel=icon type=\"image/png\"><link href=\"manifest.json\" rel=manifest>《Head》<h1>《TitleText:Demo》</h1><p>A paragraph with <a href=\"/files\">a link</a> and <em>formatting</em>"
      ]
     },
     "execution_count": 5,
     "metadata": {},
     "output_type": "execute_result"
    }
   ],
   "source": [
    "doc.p(\"A paragraph with \").a(\"a link\", href=\"/files\")(\" and \").em(\"formatting\")"
   ]
  },
  {
   "cell_type": "markdown",
   "metadata": {},
   "source": [
    "对于复杂的嵌套（通常不需要）使用 {data}`with`。"
   ]
  },
  {
   "cell_type": "code",
   "execution_count": 6,
   "metadata": {},
   "outputs": [],
   "source": [
    "with doc.table(id=\"data\"):\n",
    "    doc.tr.th(\"First\").th(\"Second\").th(\"Third\")\n",
    "    doc.TableRows_"
   ]
  },
  {
   "cell_type": "markdown",
   "metadata": {},
   "source": [
    "在模板变量中添加一些东西："
   ]
  },
  {
   "cell_type": "code",
   "execution_count": 7,
   "metadata": {},
   "outputs": [
    {
     "name": "stdout",
     "output_type": "stream",
     "text": [
      "<script>console.log('<\\/script> escaping is weird')</script>\n"
     ]
    }
   ],
   "source": [
    "print(doc.Head._script(\"console.log('</script> escaping is weird')\"))"
   ]
  },
  {
   "cell_type": "code",
   "execution_count": 9,
   "metadata": {},
   "outputs": [],
   "source": [
    "table = doc.TableRows\n",
    "for row in range(10):\n",
    "    table.tr\n",
    "    for col in range(3):\n",
    "        table.td(row * col)"
   ]
  },
  {
   "cell_type": "code",
   "execution_count": 10,
   "metadata": {},
   "outputs": [
    {
     "data": {
      "text/html": [
       "<!DOCTYPE html><html lang=en><meta charset=\"utf-8\"><title>Demo</title><link href=\"style.css\" rel=stylesheet><link href=\"favicon.png\" rel=icon type=\"image/png\"><link href=\"manifest.json\" rel=manifest><script>console.log('<\\/script> escaping is weird')</script><h1>Demo</h1><p>A paragraph with <a href=\"/files\">a link</a> and <em>formatting</em><table id=data><tr><th>First<th>Second<th>Third<tr><td>0<td>0<td>0<tr><td>0<td>1<td>2<tr><td>0<td>2<td>4<tr><td>0<td>3<td>6<tr><td>0<td>4<td>8<tr><td>0<td>5<td>10<tr><td>0<td>6<td>12<tr><td>0<td>7<td>14<tr><td>0<td>8<td>16<tr><td>0<td>9<td>18</table><getdoc></getdoc>"
      ],
      "text/plain": [
       "《Document Builder》\n",
       "<!DOCTYPE html><html lang=en><meta charset=\"utf-8\"><title>《TitleText:Demo》</title><link href=\"style.css\" rel=stylesheet><link href=\"favicon.png\" rel=icon type=\"image/png\"><link href=\"manifest.json\" rel=manifest>《Head:<script>console.log('<\\/script> escaping is weird')</script>》<h1>《TitleText:Demo》</h1><p>A paragraph with <a href=\"/files\">a link</a> and <em>formatting</em><table id=data><tr><th>First<th>Second<th>Third《TableRows:<tr><td>0<td>0<td>0< ···》</table><getdoc></getdoc>"
      ]
     },
     "execution_count": 10,
     "metadata": {},
     "output_type": "execute_result"
    }
   ],
   "source": [
    "doc"
   ]
  },
  {
   "cell_type": "markdown",
   "metadata": {},
   "source": [
    "或者删除我们刚刚添加的表格数据："
   ]
  },
  {
   "cell_type": "code",
   "execution_count": 12,
   "metadata": {},
   "outputs": [],
   "source": [
    "doc.TableRows = None"
   ]
  },
  {
   "cell_type": "code",
   "execution_count": 13,
   "metadata": {},
   "outputs": [
    {
     "data": {
      "text/html": [
       "<!DOCTYPE html><html lang=en><meta charset=\"utf-8\"><title>Demo</title><link href=\"style.css\" rel=stylesheet><link href=\"favicon.png\" rel=icon type=\"image/png\"><link href=\"manifest.json\" rel=manifest><script>console.log('<\\/script> escaping is weird')</script><h1>Demo</h1><p>A paragraph with <a href=\"/files\">a link</a> and <em>formatting</em><table id=data><tr><th>First<th>Second<th>Third</table><getdoc></getdoc><getdoc></getdoc>"
      ],
      "text/plain": [
       "《Document Builder》\n",
       "<!DOCTYPE html><html lang=en><meta charset=\"utf-8\"><title>《TitleText:Demo》</title><link href=\"style.css\" rel=stylesheet><link href=\"favicon.png\" rel=icon type=\"image/png\"><link href=\"manifest.json\" rel=manifest>《Head:<script>console.log('<\\/script> escaping is weird')</script>》<h1>《TitleText:Demo》</h1><p>A paragraph with <a href=\"/files\">a link</a> and <em>formatting</em><table id=data><tr><th>First<th>Second<th>Third《TableRows》</table><getdoc></getdoc><getdoc></getdoc>"
      ]
     },
     "execution_count": 13,
     "metadata": {},
     "output_type": "execute_result"
    }
   ],
   "source": [
    "doc"
   ]
  },
  {
   "cell_type": "markdown",
   "metadata": {},
   "source": [
    "你可以使用 `str(doc)` 来获取 HTML 代码，直接使用 `doc` 通常也能达到预期效果（例如提供 HTML 响应）。Jupyter Notebooks 将其渲染为 HTML。对于调试，使用 `repr(doc)`，其中模板变量是可见的："
   ]
  },
  {
   "cell_type": "code",
   "execution_count": 15,
   "metadata": {},
   "outputs": [
    {
     "data": {
      "text/plain": [
       "'<!DOCTYPE html><html lang=en><meta charset=\"utf-8\"><title>Demo</title><link href=\"style.css\" rel=stylesheet><link href=\"favicon.png\" rel=icon type=\"image/png\"><link href=\"manifest.json\" rel=manifest><script>console.log(\\'<\\\\/script> escaping is weird\\')</script><h1>Demo</h1><p>A paragraph with <a href=\"/files\">a link</a> and <em>formatting</em><table id=data><tr><th>First<th>Second<th>Third</table><getdoc></getdoc><getdoc></getdoc>'"
      ]
     },
     "execution_count": 15,
     "metadata": {},
     "output_type": "execute_result"
    }
   ],
   "source": [
    "print(doc)"
   ]
  },
  {
   "cell_type": "markdown",
   "metadata": {},
   "source": [
    "实际的 HTML 输出是类似的。文档中没有添加任何空白，除非内容包含换行符，否则都在同一行。您可能会注意到，`body` 和其他熟悉的标签都不见了，转义也很少。这就是HTML5：文档符合标准，且少了很多冗余。\n",
    "\n",
    "## `html5tagger` 模板\n",
    "\n",
    "使用模板变量构建一次文档，在渲染时只更新动态部分，以获得更快的性能。通过 `doc.TitleText` 访问模板变量，并在标签名后的括号中添加内容。标签名末尾的下划线表示该标签被添加到文档中，并且可以在括号中有内容，但同一行上任何进一步的标签都会进入原始文档，而不是模板。"
   ]
  },
  {
   "cell_type": "markdown",
   "metadata": {},
   "source": [
    "## `html5tagger` 嵌套\n",
    "\n",
    "在 HTML5 中，像 `<p>` 这样的元素不需要任何闭合标签，因此我们可以不断添加内容而不必担心何时应该关闭。对于可选或禁止使用闭合标签的元素，此模块不使用闭合标签。\n",
    "\n",
    "当您向一个元素添加内容或添加另一个标签时，该元素会自动闭合。仅仅设置属性并不会关闭一个元素。如果后续的任何内容都不应该在它内部，则可以使用（`None`）来关闭空元素，例如 `doc.script(None, src=\"...\")`。\n",
    "\n",
    "对于像 `<table>` 和 `<ul>` 这样的元素，您可以使用 `with` 块，传递子片段参数，或添加一个模板变量。与添加另一个标签不同，添加模板不会关闭其前面的标签，而是将变量放在任何打开的元素内部。\n",
    "\n",
    "```python\n",
    "with doc.ul:  # Nest using with\n",
    "    doc.li(\"Write HTML in Python\")\n",
    "    doc.li(\"Simple syntax\").ul(id=\"inner\").InnerList_  # Nest using template\n",
    "    doc.li(\"No need for brackets or closing tags\")\n",
    "    doc.ul(E.li(\"Easy\").li(\"Peasy\"))  # Nest using (...)\n",
    "```"
   ]
  },
  {
   "cell_type": "markdown",
   "metadata": {},
   "source": [
    "## `html5tagger` Escaping\n",
    "\n",
    "所有内容和属性都会自动转义。例如，我们可以将整个文档放入 `iframe` 的 `srcdoc` 属性中，这里只应用了最少但必要的转义。使用自定义方法 `_script`、`_style` 和 `_comment` 进行相应的内联格式，以遵循它们的自定义转义规则。"
   ]
  },
  {
   "cell_type": "code",
   "execution_count": 16,
   "metadata": {},
   "outputs": [
    {
     "data": {
      "text/html": [
       "<!DOCTYPE html><meta charset=\"utf-8\"><title>Escaping &amp; Context</title><style>h1::after {content: \"<\\/Style>\"}</style><h1>&lt;Escape></h1><!--All‒‒>OK--><iframe srcdoc=\"<!DOCTYPE html><p>&amp;amp;amp; is used for &amp;amp;\"></iframe>"
      ],
      "text/plain": [
       "《Document Builder》\n",
       "<!DOCTYPE html><meta charset=\"utf-8\"><title>Escaping &amp; Context</title><style>h1::after {content: \"<\\/Style>\"}</style><h1>&lt;Escape></h1><!--All‒‒>OK--><iframe srcdoc=\"<!DOCTYPE html><p>&amp;amp;amp; is used for &amp;amp;\"></iframe>"
      ]
     },
     "execution_count": 16,
     "metadata": {},
     "output_type": "execute_result"
    }
   ],
   "source": [
    "doc = Document(\"Escaping & Context\")\n",
    "doc._style('h1::after {content: \"</Style>\"}').h1(\"<Escape>\")\n",
    "doc._comment(\"All-->OK\")\n",
    "doc.iframe(srcdoc=Document().p(\"&amp; is used for &\"))"
   ]
  },
  {
   "cell_type": "markdown",
   "metadata": {},
   "source": [
    "## 名称混淆和布尔属性\n",
    "\n",
    "名称末尾的下划线会被忽略，因此尽管 `class_` 和 `for_` 等属性是 Python 中的保留字，也可以使用。其他下划线会转换为连字符。"
   ]
  },
  {
   "cell_type": "markdown",
   "metadata": {},
   "source": [
    "```{note}\n",
    "上述仅适用于 HTML 元素和属性，但模板占位符仅使用末尾的下划线来表示它应该放在文档上，而不是被获取以供使用。\n",
    "```\n",
    "\n",
    "布尔值会转换为简短的属性。"
   ]
  },
  {
   "cell_type": "code",
   "execution_count": 18,
   "metadata": {},
   "outputs": [
    {
     "data": {
      "text/html": [
       "<input type=checkbox id=somebox checked><label for=somebox aria-role=img>🥳</label>"
      ],
      "text/plain": [
       "《E Builder:<input type=checkbox id=somebox checked><label for=somebox aria-role=img>🥳</label>》"
      ]
     },
     "execution_count": 18,
     "metadata": {},
     "output_type": "execute_result"
    }
   ],
   "source": [
    "E.input(type=\"checkbox\", id=\"somebox\", checked=True).label(for_=\"somebox\", aria_role=\"img\")(\"🥳\")"
   ]
  },
  {
   "cell_type": "markdown",
   "metadata": {},
   "source": [
    "## 预格式化的 HTML\n",
    "所有内容都会自动转义，除非它提供了 `__html__` 方法，该方法返回 HTML 格式的字符串。同样，此模块的构建器对象也暴露了 `__html__` 和 `_repr_html_` 访问器，允许它们在 Jupyter Notebooks 和遵循此约定的各种其他系统中渲染为 HTML。"
   ]
  },
  {
   "cell_type": "markdown",
   "metadata": {},
   "source": [
    "任何预格式化的 HTML 都可以用 `html5tagger.HTML(string_of_html)` 包裹，以避免在包含在文档中时被转义，因为 HTML 类有这些访问器。\n",
    "\n",
    "```{tip}\n",
    "不要将 `HTML()` 用于文本，特别是不要用于用户发送的可能包含您不打算作为 HTML 执行的 HTML 的消息。\n",
    "```"
   ]
  },
  {
   "cell_type": "markdown",
   "metadata": {},
   "source": [
    "## `html5tagger` 性能"
   ]
  },
  {
   "cell_type": "code",
   "execution_count": 20,
   "metadata": {},
   "outputs": [
    {
     "name": "stdout",
     "output_type": "stream",
     "text": [
      "23.7 µs ± 572 ns per loop (mean ± std. dev. of 7 runs, 10,000 loops each)\n"
     ]
    }
   ],
   "source": [
    "%timeit str(Document(\"benchmarking\", lang=\"en\", _urls=(\"foo.js\", \"bar.js\")))"
   ]
  },
  {
   "cell_type": "markdown",
   "metadata": {},
   "source": [
    "Jinja2 从内存模板渲染类似的文档大约需要 10 微秒，但它不需要格式化任何 HTML。当模板与 `html5tagger` 类似地使用时，渲染时间降至约 4 微秒。\n",
    "\n",
    "在上面的基准测试中，`html5tagger` 从头开始创建整个文档，一次一个元素和一个属性。除非您正在动态创建非常大的文档，否则这应该足够快了。"
   ]
  }
 ],
 "metadata": {
  "kernelspec": {
   "display_name": "py311",
   "language": "python",
   "name": "python3"
  },
  "language_info": {
   "codemirror_mode": {
    "name": "ipython",
    "version": 3
   },
   "file_extension": ".py",
   "mimetype": "text/x-python",
   "name": "python",
   "nbconvert_exporter": "python",
   "pygments_lexer": "ipython3",
   "version": "3.11.7"
  }
 },
 "nbformat": 4,
 "nbformat_minor": 2
}
