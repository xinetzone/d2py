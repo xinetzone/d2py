{
 "cells": [
  {
   "attachments": {},
   "cell_type": "markdown",
   "metadata": {},
   "source": [
    "# 分支\n",
    "\n",
    "获取分支列表：\n",
    "\n",
    "```python\n",
    "repo = g.get_repo(\"PyGithub/PyGithub\")\n",
    "list(repo.get_branches())\n",
    "```\n",
    "\n",
    "```{note}\n",
    "请注意，{func}`get_branches` 返回的 Branch 对象并没有完全填充，您不能查询所有内容。一旦你有了分支名，就使用`get_branch(branch=\"main\")`。\n",
    "```"
   ]
  },
  {
   "attachments": {},
   "cell_type": "markdown",
   "metadata": {},
   "source": [
    "获取分支：\n",
    "\n",
    "```python\n",
    "repo = g.get_repo(\"PyGithub/PyGithub\")\n",
    "repo.get_branch(branch=\"master\")\n",
    "```"
   ]
  },
  {
   "cell_type": "markdown",
   "metadata": {},
   "source": [
    "得到分支的 HEAD 提交：\n",
    "\n",
    "```python\n",
    "branch = g.get_repo(\"PyGithub/PyGithub\").get_branch(\"master\")\n",
    "branch.commit\n",
    "```"
   ]
  },
  {
   "cell_type": "markdown",
   "metadata": {},
   "source": [
    "获取分支的保护状态\n",
    "\n",
    "```python\n",
    "branch = g.get_repo(\"PyGithub/PyGithub\").get_branch(\"master\")\n",
    "branch.protected\n",
    "```"
   ]
  },
  {
   "attachments": {},
   "cell_type": "markdown",
   "metadata": {},
   "source": [
    "查看分支所需的状态检查：\n",
    "\n",
    "```python\n",
    "branch = g.get_repo(\"PyGithub/PyGithub\").get_branch(\"master\")\n",
    "branch.get_required_status_checks()\n",
    "```"
   ]
  }
 ],
 "metadata": {
  "kernelspec": {
   "display_name": "py310",
   "language": "python",
   "name": "python3"
  },
  "language_info": {
   "codemirror_mode": {
    "name": "ipython",
    "version": 3
   },
   "file_extension": ".py",
   "mimetype": "text/x-python",
   "name": "python",
   "nbconvert_exporter": "python",
   "pygments_lexer": "ipython3",
   "version": "3.10.8"
  },
  "orig_nbformat": 4,
  "vscode": {
   "interpreter": {
    "hash": "34e95b0948f576614c7863cc780d83f61f9551597d4ec05ab5fbb4cfe73deb20"
   }
  }
 },
 "nbformat": 4,
 "nbformat_minor": 2
}
