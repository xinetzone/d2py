{
 "cells": [
  {
   "attachments": {},
   "cell_type": "markdown",
   "metadata": {},
   "source": [
    "# 存储库\n",
    "\n",
    "初始化："
   ]
  },
  {
   "cell_type": "code",
   "execution_count": 1,
   "metadata": {},
   "outputs": [],
   "source": [
    "from github import Github\n",
    "\n",
    "g = Github()"
   ]
  },
  {
   "cell_type": "markdown",
   "metadata": {},
   "source": [
    "获取存储库主题："
   ]
  },
  {
   "cell_type": "code",
   "execution_count": 2,
   "metadata": {},
   "outputs": [
    {
     "data": {
      "text/plain": [
       "['coco', 'cocoapi', 'python3', 'zipfile']"
      ]
     },
     "execution_count": 2,
     "metadata": {},
     "output_type": "execute_result"
    }
   ],
   "source": [
    "repo = g.get_repo(\"Xinering/cocoapi\")\n",
    "repo.get_topics()"
   ]
  },
  {
   "attachments": {},
   "cell_type": "markdown",
   "metadata": {},
   "source": [
    "计算星星的数量："
   ]
  },
  {
   "cell_type": "code",
   "execution_count": 3,
   "metadata": {},
   "outputs": [
    {
     "data": {
      "text/plain": [
       "73"
      ]
     },
     "execution_count": 3,
     "metadata": {},
     "output_type": "execute_result"
    }
   ],
   "source": [
    "repo.stargazers_count"
   ]
  },
  {
   "cell_type": "markdown",
   "metadata": {},
   "source": [
    "获取未决问题列表："
   ]
  },
  {
   "cell_type": "code",
   "execution_count": 6,
   "metadata": {},
   "outputs": [
    {
     "name": "stdout",
     "output_type": "stream",
     "text": [
      "Issue(title=\"项目建设\", number=3)\n",
      "Issue(title=\"2023 年度计划\", number=2)\n"
     ]
    }
   ],
   "source": [
    "repo = g.get_repo(\"xinetzone/d2py\")\n",
    "open_issues = repo.get_issues(state='open')\n",
    "for issue in open_issues:\n",
    "    print(issue)"
   ]
  },
  {
   "attachments": {},
   "cell_type": "markdown",
   "metadata": {},
   "source": [
    "获取标签："
   ]
  },
  {
   "cell_type": "code",
   "execution_count": 11,
   "metadata": {},
   "outputs": [
    {
     "name": "stdout",
     "output_type": "stream",
     "text": [
      "Label(name=\"bug\")\n",
      "Label(name=\"documentation\")\n",
      "Label(name=\"duplicate\")\n",
      "Label(name=\"enhancement\")\n",
      "Label(name=\"good first issue\")\n",
      "Label(name=\"help wanted\")\n",
      "Label(name=\"invalid\")\n",
      "Label(name=\"question\")\n",
      "Label(name=\"wontfix\")\n"
     ]
    }
   ],
   "source": [
    "repo = g.get_repo(\"xinetzone/d2py\")\n",
    "labels = repo.get_labels()\n",
    "for label in labels:\n",
    "    print(label)"
   ]
  },
  {
   "cell_type": "markdown",
   "metadata": {},
   "source": [
    "获取存储库根目录的所有内容："
   ]
  },
  {
   "cell_type": "code",
   "execution_count": 13,
   "metadata": {},
   "outputs": [
    {
     "name": "stdout",
     "output_type": "stream",
     "text": [
      "ContentFile(path=\".github\")\n",
      "ContentFile(path=\".gitignore\")\n",
      "ContentFile(path=\"CONTRIBUTING.md\")\n",
      "ContentFile(path=\"LICENSE\")\n",
      "ContentFile(path=\"README.md\")\n",
      "ContentFile(path=\"SECURITY.md\")\n",
      "ContentFile(path=\"doc\")\n",
      "ContentFile(path=\"pyproject.toml\")\n",
      "ContentFile(path=\"readthedocs.yml\")\n",
      "ContentFile(path=\"src\")\n",
      "ContentFile(path=\"tasks.py\")\n"
     ]
    }
   ],
   "source": [
    "repo = g.get_repo(\"xinetzone/d2py\")\n",
    "contents = repo.get_contents(\"\")\n",
    "for content_file in contents:\n",
    "    print(content_file)"
   ]
  },
  {
   "cell_type": "markdown",
   "metadata": {},
   "source": [
    "递归地获取存储库的所有内容："
   ]
  },
  {
   "cell_type": "code",
   "execution_count": 14,
   "metadata": {},
   "outputs": [
    {
     "name": "stdout",
     "output_type": "stream",
     "text": [
      "ContentFile(path=\".gitignore\")\n",
      "ContentFile(path=\".travis.yml\")\n",
      "ContentFile(path=\"README.txt\")\n",
      "ContentFile(path=\"license.txt\")\n",
      "ContentFile(path=\"LuaAPI/CocoApi.lua\")\n",
      "ContentFile(path=\"LuaAPI/MaskApi.lua\")\n",
      "ContentFile(path=\"LuaAPI/cocoDemo.lua\")\n",
      "ContentFile(path=\"LuaAPI/env.lua\")\n",
      "ContentFile(path=\"LuaAPI/init.lua\")\n",
      "ContentFile(path=\"MatlabAPI/CocoApi.m\")\n",
      "ContentFile(path=\"MatlabAPI/CocoEval.m\")\n",
      "ContentFile(path=\"MatlabAPI/CocoUtils.m\")\n",
      "ContentFile(path=\"MatlabAPI/MaskApi.m\")\n",
      "ContentFile(path=\"MatlabAPI/cocoDemo.m\")\n",
      "ContentFile(path=\"MatlabAPI/evalDemo.m\")\n",
      "ContentFile(path=\"MatlabAPI/gason.m\")\n",
      "ContentFile(path=\"PythonAPI/Makefile\")\n",
      "ContentFile(path=\"PythonAPI/pycocoDemo.ipynb\")\n",
      "ContentFile(path=\"PythonAPI/pycocoEvalDemo.ipynb\")\n",
      "ContentFile(path=\"PythonAPI/setup.py\")\n",
      "ContentFile(path=\"common/gason.cpp\")\n",
      "ContentFile(path=\"common/gason.h\")\n",
      "ContentFile(path=\"common/maskApi.c\")\n",
      "ContentFile(path=\"common/maskApi.h\")\n",
      "ContentFile(path=\"results/captions_val2014_fakecap_results.json\")\n",
      "ContentFile(path=\"results/instances_val2014_fakebbox100_results.json\")\n",
      "ContentFile(path=\"results/instances_val2014_fakesegm100_results.json\")\n",
      "ContentFile(path=\"results/person_keypoints_val2014_fakekeypoints100_results.json\")\n",
      "ContentFile(path=\"results/val2014_fake_eval_res.txt\")\n",
      "ContentFile(path=\"LuaAPI/rocks/coco-scm-1.rockspec\")\n",
      "ContentFile(path=\"MatlabAPI/private/gasonMex.cpp\")\n",
      "ContentFile(path=\"MatlabAPI/private/gasonMex.mexa64\")\n",
      "ContentFile(path=\"MatlabAPI/private/gasonMex.mexmaci64\")\n",
      "ContentFile(path=\"MatlabAPI/private/getPrmDflt.m\")\n",
      "ContentFile(path=\"MatlabAPI/private/maskApiMex.c\")\n",
      "ContentFile(path=\"PythonAPI/pycocotools/__init__.py\")\n",
      "ContentFile(path=\"PythonAPI/pycocotools/_mask.pyx\")\n",
      "ContentFile(path=\"PythonAPI/pycocotools/coco.py\")\n",
      "ContentFile(path=\"PythonAPI/pycocotools/cocoeval.py\")\n",
      "ContentFile(path=\"PythonAPI/pycocotools/mask.py\")\n"
     ]
    }
   ],
   "source": [
    "repo = g.get_repo(\"Xinering/cocoapi\")\n",
    "contents = repo.get_contents(\"\")\n",
    "while contents:\n",
    "    file_content = contents.pop(0)\n",
    "    if file_content.type == \"dir\":\n",
    "        contents.extend(repo.get_contents(file_content.path))\n",
    "    else:\n",
    "        print(file_content)"
   ]
  },
  {
   "cell_type": "markdown",
   "metadata": {},
   "source": [
    "获取特定的内容文件："
   ]
  },
  {
   "cell_type": "code",
   "execution_count": 16,
   "metadata": {},
   "outputs": [
    {
     "name": "stdout",
     "output_type": "stream",
     "text": [
      "ContentFile(path=\"README.md\")\n"
     ]
    }
   ],
   "source": [
    "repo = g.get_repo(\"xinetzone/d2py\")\n",
    "contents = repo.get_contents(\"README.md\")\n",
    "print(contents)"
   ]
  },
  {
   "attachments": {},
   "cell_type": "markdown",
   "metadata": {},
   "source": [
    "在存储库中创建新文件：\n",
    "\n",
    "```python\n",
    "repo = g.get_repo(\"PyGithub/PyGithub\")\n",
    "repo.create_file(\"test.txt\", \"test\", \"test\", branch=\"test\")\n",
    "```"
   ]
  },
  {
   "cell_type": "markdown",
   "metadata": {},
   "source": [
    "更新存储库中的文件：\n",
    "\n",
    "```python\n",
    "repo = g.get_repo(\"PyGithub/PyGithub\")\n",
    "contents = repo.get_contents(\"test.txt\", ref=\"test\")\n",
    "repo.update_file(contents.path, \"more tests\", \"more tests\", contents.sha, branch=\"test\")\n",
    "```"
   ]
  },
  {
   "cell_type": "markdown",
   "metadata": {},
   "source": [
    "删除存储库中的文件：\n",
    "\n",
    "```python\n",
    "repo = g.get_repo(\"PyGithub/PyGithub\")\n",
    "contents = repo.get_contents(\"test.txt\", ref=\"test\")\n",
    "repo.delete_file(contents.path, \"remove test\", contents.sha, branch=\"test\")\n",
    "```"
   ]
  },
  {
   "cell_type": "markdown",
   "metadata": {},
   "source": [
    "获取过去 14 天内排名前 10 位的推荐人：\n",
    "\n",
    "```python\n",
    "repo = g.get_repo(\"PyGithub/PyGithub\")\n",
    "contents = repo.get_top_referrers()\n",
    "print(contents)\n",
    "```\n",
    "\n",
    "获取过去 14 天最受欢迎的 10 个内容：\n",
    "\n",
    "```python\n",
    "repo = g.get_repo(\"PyGithub/PyGithub\")\n",
    "contents = repo.get_top_paths()\n",
    "print(contents)\n",
    "```\n",
    "\n",
    "获取过去 14 天的克隆数量和 breakdown：\n",
    "\n",
    "```python\n",
    "repo = g.get_repo(\"PyGithub/PyGithub\")\n",
    "contents = repo.get_clones_traffic()\n",
    "contents = repo.get_clones_traffic(per=\"week\")\n",
    "print(contents)\n",
    "```\n",
    "\n",
    "获取过去 14 天的浏览量和细目：\n",
    "\n",
    "```python\n",
    "repo = g.get_repo(\"PyGithub/PyGithub\")\n",
    "contents = repo.get_views_traffic()\n",
    "contents = repo.get_views_traffic(per=\"week\")\n",
    "print(contents)\n",
    "```\n",
    "\n",
    "将存储库的通知标记为已读：\n",
    "\n",
    "```python\n",
    "repo = g.get_repo(\"PyGithub/PyGithub\")\n",
    "repo.mark_notifications_as_read()\n",
    "```"
   ]
  },
  {
   "cell_type": "code",
   "execution_count": null,
   "metadata": {},
   "outputs": [],
   "source": []
  }
 ],
 "metadata": {
  "kernelspec": {
   "display_name": "py310",
   "language": "python",
   "name": "python3"
  },
  "language_info": {
   "codemirror_mode": {
    "name": "ipython",
    "version": 3
   },
   "file_extension": ".py",
   "mimetype": "text/x-python",
   "name": "python",
   "nbconvert_exporter": "python",
   "pygments_lexer": "ipython3",
   "version": "3.10.8"
  },
  "orig_nbformat": 4,
  "vscode": {
   "interpreter": {
    "hash": "34e95b0948f576614c7863cc780d83f61f9551597d4ec05ab5fbb4cfe73deb20"
   }
  }
 },
 "nbformat": 4,
 "nbformat_minor": 2
}
