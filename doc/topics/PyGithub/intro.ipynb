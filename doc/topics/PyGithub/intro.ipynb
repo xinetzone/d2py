{
 "cells": [
  {
   "attachments": {},
   "cell_type": "markdown",
   "metadata": {},
   "source": [
    "# PyGithub 简介\n",
    "\n",
    "[PyGithub](https://pygithub.readthedocs.io/en/latest/index.html) 是使用 [Github API v3](http://developer.github.com/v3) 的 Python 库，可以管理 [Github](http://github.com/) 资源（存储库，用户配置文件，组织等）。\n",
    "\n",
    "## 快速使用\n",
    "\n",
    "首先创建 Github 实例：\n",
    "\n",
    "```python\n",
    "from github import Github\n",
    "\n",
    "# 使用访问令牌\n",
    "g = Github(\"access_token\")\n",
    "\n",
    "# Github 企业自定义主机名\n",
    "g = Github(base_url=\"https://{hostname}/api/v3\", login_or_token=\"access_token\")\n",
    "```\n",
    "\n",
    "然后操纵 Github 对象：\n",
    "\n",
    "```python\n",
    "user = g.get_user() # 获取当前用户\n",
    "for repo in g.get_user().get_repos():\n",
    "    print(repo.name)\n",
    "    repo.edit(has_wiki=False)\n",
    "    # 查看所有可用的属性和方法\n",
    "    print(dir(repo))\n",
    "\n",
    "user.login # 获取当前用户名称\n",
    "```\n",
    "\n",
    "安装：\n",
    "\n",
    "```bash\n",
    "pip install PyGithub[integrations]\n",
    "```\n",
    "\n",
    "或者\n",
    "\n",
    "```bash\n",
    "pip install PyGithub\n",
    "```"
   ]
  },
  {
   "cell_type": "markdown",
   "metadata": {},
   "source": [
    "## 使用案例"
   ]
  },
  {
   "cell_type": "code",
   "execution_count": 12,
   "metadata": {},
   "outputs": [],
   "source": [
    "from github import Github\n",
    "\n",
    "g = Github(user_agent=\"xinetzone\")"
   ]
  },
  {
   "attachments": {},
   "cell_type": "markdown",
   "metadata": {},
   "source": [
    "按名称获取用户名："
   ]
  },
  {
   "cell_type": "code",
   "execution_count": 14,
   "metadata": {},
   "outputs": [
    {
     "data": {
      "text/plain": [
       "'Dao Book'"
      ]
     },
     "execution_count": 14,
     "metadata": {},
     "output_type": "execute_result"
    }
   ],
   "source": [
    "user = g.get_user(\"daobook\")\n",
    "user.name"
   ]
  },
  {
   "attachments": {},
   "cell_type": "markdown",
   "metadata": {},
   "source": [
    "按名称获取存储库："
   ]
  },
  {
   "cell_type": "code",
   "execution_count": 15,
   "metadata": {},
   "outputs": [
    {
     "data": {
      "text/plain": [
       "'d2py'"
      ]
     },
     "execution_count": 15,
     "metadata": {},
     "output_type": "execute_result"
    }
   ],
   "source": [
    "repo = g.get_repo(\"xinetzone/d2py\")\n",
    "repo.name"
   ]
  },
  {
   "attachments": {},
   "cell_type": "markdown",
   "metadata": {},
   "source": [
    "按名称获取组织："
   ]
  },
  {
   "cell_type": "code",
   "execution_count": 17,
   "metadata": {},
   "outputs": [
    {
     "data": {
      "text/plain": [
       "'daobook'"
      ]
     },
     "execution_count": 17,
     "metadata": {},
     "output_type": "execute_result"
    }
   ],
   "source": [
    "org = g.get_organization(\"daobook\")\n",
    "org.login"
   ]
  },
  {
   "cell_type": "markdown",
   "metadata": {},
   "source": [
    "按编程语言搜索存储库："
   ]
  },
  {
   "cell_type": "code",
   "execution_count": 22,
   "metadata": {},
   "outputs": [
    {
     "name": "stdout",
     "output_type": "stream",
     "text": [
      "Repository(full_name=\"tensorflow/tensorflow\")\n",
      "Repository(full_name=\"electron/electron\")\n",
      "Repository(full_name=\"microsoft/terminal\")\n",
      "Repository(full_name=\"opencv/opencv\")\n"
     ]
    }
   ],
   "source": [
    "repositories = g.search_repositories(query='language:cpp')\n",
    "k = 0\n",
    "for repo in repositories:\n",
    "    print(repo)\n",
    "    k += 1\n",
    "    if k > 3:\n",
    "        break"
   ]
  },
  {
   "cell_type": "markdown",
   "metadata": {},
   "source": [
    "根据 `good-first-issue` 的 issue 数量搜索存储库："
   ]
  },
  {
   "cell_type": "code",
   "execution_count": 23,
   "metadata": {},
   "outputs": [
    {
     "name": "stdout",
     "output_type": "stream",
     "text": [
      "Repository(full_name=\"vuejs/vue\")\n",
      "Repository(full_name=\"facebook/react\")\n",
      "Repository(full_name=\"microsoft/vscode\")\n",
      "Repository(full_name=\"ytdl-org/youtube-dl\")\n"
     ]
    }
   ],
   "source": [
    "repositories = g.search_repositories(query='good-first-issues:>3')\n",
    "k = 0\n",
    "for repo in repositories:\n",
    "    print(repo)\n",
    "    k += 1\n",
    "    if k > 3:\n",
    "        break"
   ]
  },
  {
   "cell_type": "code",
   "execution_count": null,
   "metadata": {},
   "outputs": [],
   "source": []
  }
 ],
 "metadata": {
  "kernelspec": {
   "display_name": "py310",
   "language": "python",
   "name": "python3"
  },
  "language_info": {
   "codemirror_mode": {
    "name": "ipython",
    "version": 3
   },
   "file_extension": ".py",
   "mimetype": "text/x-python",
   "name": "python",
   "nbconvert_exporter": "python",
   "pygments_lexer": "ipython3",
   "version": "3.10.8"
  },
  "orig_nbformat": 4,
  "vscode": {
   "interpreter": {
    "hash": "34e95b0948f576614c7863cc780d83f61f9551597d4ec05ab5fbb4cfe73deb20"
   }
  }
 },
 "nbformat": 4,
 "nbformat_minor": 2
}
