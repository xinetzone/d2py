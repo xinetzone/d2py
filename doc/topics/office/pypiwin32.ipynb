{
 "cells": [
  {
   "cell_type": "markdown",
   "metadata": {},
   "source": [
    "# `pypiwin32`\n",
    "\n",
    "自动化操作 office 软件："
   ]
  },
  {
   "attachments": {},
   "cell_type": "markdown",
   "metadata": {},
   "source": [
    "```python\n",
    "from pathlib import Path\n",
    "import win32api\n",
    "from win32com.client import Dispatch # 需要安装的是pypiwin32模块\n",
    "\n",
    "\n",
    "root = Path(\"文件目录\").resolve()\n",
    "for file in root.iterdir():\n",
    "    if file.is_file():\n",
    "        print(file)\n",
    "        if file.suffix == \".docx\":\n",
    "            win32api.ShellExecute(0, \"open\", str(file), '', '', 1)\n",
    "        elif file.suffix == \".xlsx\":\n",
    "            win32api.ShellExecute(0, \"open\", str(file), '', '', 1)\n",
    "        else:\n",
    "            raise \"暂未支持！\"\n",
    "```"
   ]
  }
 ],
 "metadata": {
  "kernelspec": {
   "display_name": "tvmz",
   "language": "python",
   "name": "python3"
  },
  "language_info": {
   "codemirror_mode": {
    "name": "ipython",
    "version": 3
   },
   "file_extension": ".py",
   "mimetype": "text/x-python",
   "name": "python",
   "nbconvert_exporter": "python",
   "pygments_lexer": "ipython3",
   "version": "3.10.11"
  },
  "orig_nbformat": 4
 },
 "nbformat": 4,
 "nbformat_minor": 2
}
