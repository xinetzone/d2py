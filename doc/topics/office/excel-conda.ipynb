{
 "cells": [
  {
   "cell_type": "markdown",
   "metadata": {},
   "source": [
    "# Excel 与 Anaconda 工具箱的结合\n",
    "\n",
    "- [安装 Anaconda 工具箱](https://docs.anaconda.com/excel/install/)\n"
   ]
  }
 ],
 "metadata": {
  "language_info": {
   "name": "python"
  }
 },
 "nbformat": 4,
 "nbformat_minor": 2
}
