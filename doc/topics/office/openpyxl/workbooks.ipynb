{
 "cells": [
  {
   "attachments": {},
   "cell_type": "markdown",
   "metadata": {},
   "source": [
    "# 工作簿\n",
    "\n",
    "## 定义名字\n",
    "\n",
    "```{note}\n",
    "定义名称是用于表示单元格，区域，公式或常量值的描述性文本。\n",
    "```\n",
    "\n",
    "这意味着它们的定义是非常宽松的。它们可能包含常数，公式，单元格引用，区域或跨不同工作表的多个区域。它们在工作簿全局定义并可以通过 `defined_names` 属性进行访问。\n",
    "\n",
    "单元格引用或范围必须使用绝对坐标，并且始终包含它们所在的工作表的名称。使用实用程序 `absolute_coordinate()` 和 `quote_sheetname()` 来完成此操作。\n",
    "\n",
    "定义的名称可以限制为单个工作表，也可以对整个工作簿全局可用。名称在集合中必须是唯一的；新项将用该名称替换现有项。\n",
    "\n",
    "### 访问全局定义\n",
    "\n",
    "全局定义存储在工作簿集合中：\n",
    "\n",
    "```python\n",
    "defn = wb.defined_names[\"my_range\"]\n",
    "# the destinations attribute contains a list of ranges in the definitions\n",
    "dests = defn.destinations # returns a generator of (worksheet title, cell range) tuples\n",
    "\n",
    "cells = []\n",
    "for title, coord in dests:\n",
    "    ws = wb[title]\n",
    "    cells.append(ws[coord])\n",
    "```"
   ]
  },
  {
   "attachments": {},
   "cell_type": "markdown",
   "metadata": {},
   "source": [
    "### 访问工作表定义\n",
    "\n",
    "分配给特定工作表的定义只能从该工作表中访问:\n",
    "\n",
    "```python\n",
    "ws = wb[\"Sheet\"]\n",
    "defn = ws.defined_names[\"private_range\"]\n",
    "```\n",
    "\n",
    "### 创建全局定义\n",
    "\n",
    "全局定义分配给工作簿集合:"
   ]
  },
  {
   "cell_type": "markdown",
   "metadata": {},
   "source": [
    "```python\n",
    "from openpyxl import Workbook\n",
    "from openpyxl.workbook.defined_name import DefinedName\n",
    "from openpyxl.utils import quote_sheetname, absolute_coordinate\n",
    "wb = Workbook()\n",
    "ws = wb.active\n",
    "# make sure sheetnames and cell references are quoted correctly\n",
    "ref =  \"{quote_sheetname(ws.title)}!{absolute_coordinate('A1:A5')}\"\n",
    "\n",
    "defn = DefinedName(\"global_range\", attr_text=ref)\n",
    "wb.defined_names[\"global_range\"] = defn\n",
    "\n",
    "# key and `name` must be the same, the `.add()` method makes this easy\n",
    "wb.defined_names.add(new_range)\n",
    "```"
   ]
  },
  {
   "cell_type": "markdown",
   "metadata": {},
   "source": [
    "### 创建工作表定义\n",
    "\n",
    "分配给特定工作表的定义只能从该工作表中访问:\n",
    "\n",
    "```python\n",
    "# create a local named range (only valid for a specific sheet)\n",
    "ws = wb[\"Sheet\"]\n",
    "ws.title = \"My Sheet\"\n",
    "# make sure sheetnames  and cell referencesare quoted correctly\n",
    "ref = f\"{quote_sheetname(ws.title)}!{absolute_coordinate('A6')}\"\n",
    "\n",
    "defn = DefinedName(\"private_range\", attr_text=ref)\n",
    "ws.defined_names.add(defn)\n",
    "print(ws.defined_names[\"private_range\"].attr_text)\n",
    "```"
   ]
  },
  {
   "attachments": {},
   "cell_type": "markdown",
   "metadata": {},
   "source": [
    "### 动态命名范围\n",
    "\n",
    "只要相关且可能，`openpyxl` 将尝试将包含单元格范围的名称转换为相关对象。例如，打印区域和打印标题(它们是已定义名称的特殊情况)被映射到工作表中的打印标题和打印区域对象。\n",
    "\n",
    "但是，可以使用其他已定义的名称或对象(如表)动态定义范围。由于 `openpyxl` 无法解析此类定义，它将跳过该定义并引发警告。如果需要处理这个问题，可以提取已定义名称的范围，并将打印区域设置为适当的单元格范围。\n",
    "\n",
    "```python\n",
    "from openpyxl import load_workbook\n",
    "wb = load_workbook(\"Example.xlsx\")\n",
    "ws = wb.active\n",
    "area = ws.defined_names[\"TestArea\"] # Globally defined named ranges can be used too\n",
    "ws.print_area = area.value          # value is the cell range the defined name currently covers\n",
    "```"
   ]
  },
  {
   "cell_type": "code",
   "execution_count": null,
   "metadata": {},
   "outputs": [],
   "source": []
  }
 ],
 "metadata": {
  "kernelspec": {
   "display_name": "tvmx",
   "language": "python",
   "name": "python3"
  },
  "language_info": {
   "codemirror_mode": {
    "name": "ipython",
    "version": 3
   },
   "file_extension": ".py",
   "mimetype": "text/x-python",
   "name": "python",
   "nbconvert_exporter": "python",
   "pygments_lexer": "ipython3",
   "version": "3.10.9"
  },
  "orig_nbformat": 4
 },
 "nbformat": 4,
 "nbformat_minor": 2
}
