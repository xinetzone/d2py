{
 "cells": [
  {
   "attachments": {},
   "cell_type": "markdown",
   "metadata": {},
   "source": [
    "# `openpyxl` 操作 Excel\n",
    "\n",
    "[openpyxl](https://openpyxl.readthedocs.io/en/stable/index.html) 用于读写 Excel 2010 xlsx/xlsm/xltx/xltm 文件的 Python 库。\n",
    "\n",
    "安装：\n",
    "\n",
    "```bash\n",
    "pip install openpyxl\n",
    "```"
   ]
  },
  {
   "attachments": {},
   "cell_type": "markdown",
   "metadata": {},
   "source": [
    "## 新建工作簿\n",
    "\n",
    "无须在文件系统中创建文件即可开始使用 {mod}`openpyxl`。只要导入 {class}`~openpyxl.Workbook` 类就可以开始工作了："
   ]
  },
  {
   "cell_type": "code",
   "execution_count": 1,
   "metadata": {},
   "outputs": [],
   "source": [
    "from openpyxl import Workbook\n",
    "\n",
    "wb = Workbook()"
   ]
  },
  {
   "cell_type": "markdown",
   "metadata": {},
   "source": [
    "一个工作簿（workbook）至少有一个工作表（worksheet）. 你可以通过 {attr}`~openpyxl.Workbook.active` 来获取这个属性："
   ]
  },
  {
   "cell_type": "code",
   "execution_count": 2,
   "metadata": {},
   "outputs": [],
   "source": [
    "ws = wb.active"
   ]
  },
  {
   "attachments": {},
   "cell_type": "markdown",
   "metadata": {},
   "source": [
    "你可以使用 {meth}`~openpyxl.Workbook.create_sheet` 方法来创建新的工作表：\n",
    "\n",
    "1. 在结尾插入(默认)"
   ]
  },
  {
   "cell_type": "code",
   "execution_count": 3,
   "metadata": {},
   "outputs": [],
   "source": [
    "ws1 = wb.create_sheet(\"Mysheet\")"
   ]
  },
  {
   "attachments": {},
   "cell_type": "markdown",
   "metadata": {},
   "source": [
    "在开始位置插入："
   ]
  },
  {
   "cell_type": "code",
   "execution_count": 4,
   "metadata": {},
   "outputs": [],
   "source": [
    "ws2 = wb.create_sheet(\"Mysheet\", 0)"
   ]
  },
  {
   "attachments": {},
   "cell_type": "markdown",
   "metadata": {},
   "source": [
    "3. 插入倒数第二个位置"
   ]
  },
  {
   "cell_type": "code",
   "execution_count": 5,
   "metadata": {},
   "outputs": [],
   "source": [
    "ws3 = wb.create_sheet(\"Mysheet\", -1)"
   ]
  },
  {
   "cell_type": "markdown",
   "metadata": {},
   "source": [
    "工作表在创建时会自动生成名字，以 (Sheet, Sheet1, Sheet2, …) 来进行命名。你也可以通过 `Worksheet.title` 属性来修改命名："
   ]
  },
  {
   "cell_type": "code",
   "execution_count": 6,
   "metadata": {},
   "outputs": [],
   "source": [
    "ws.title = \"New Title\""
   ]
  },
  {
   "cell_type": "markdown",
   "metadata": {},
   "source": [
    "默认情况下，包含该标题的选项卡的背景颜色为白色。你也可以使用 RRGGBB 颜色来改变 `Worksheet.sheet_properties.tabColor` 属性："
   ]
  },
  {
   "cell_type": "code",
   "execution_count": 7,
   "metadata": {},
   "outputs": [],
   "source": [
    "ws.sheet_properties.tabColor = \"1072BA\""
   ]
  },
  {
   "cell_type": "markdown",
   "metadata": {},
   "source": [
    "给工作表命名后，就可以将其作为工作簿的键："
   ]
  },
  {
   "cell_type": "code",
   "execution_count": 8,
   "metadata": {},
   "outputs": [],
   "source": [
    "ws3 = wb[\"New Title\"]"
   ]
  },
  {
   "cell_type": "markdown",
   "metadata": {},
   "source": [
    "使用 `Workbook.sheetname` 属性查看工作簿中所有工作表的名称："
   ]
  },
  {
   "cell_type": "code",
   "execution_count": 9,
   "metadata": {},
   "outputs": [
    {
     "name": "stdout",
     "output_type": "stream",
     "text": [
      "['Mysheet1', 'New Title', 'Mysheet2', 'Mysheet']\n"
     ]
    }
   ],
   "source": [
    "print(wb.sheetnames)"
   ]
  },
  {
   "cell_type": "markdown",
   "metadata": {},
   "source": [
    "遍历工作表："
   ]
  },
  {
   "cell_type": "code",
   "execution_count": 10,
   "metadata": {},
   "outputs": [
    {
     "name": "stdout",
     "output_type": "stream",
     "text": [
      "Mysheet1\n",
      "New Title\n",
      "Mysheet2\n",
      "Mysheet\n"
     ]
    }
   ],
   "source": [
    "for sheet in wb:\n",
    "    print(sheet.title)"
   ]
  },
  {
   "cell_type": "markdown",
   "metadata": {},
   "source": [
    "你可以在工作簿中创建工作表的副本："
   ]
  },
  {
   "cell_type": "code",
   "execution_count": 11,
   "metadata": {},
   "outputs": [],
   "source": [
    "source = wb.active\n",
    "target = wb.copy_worksheet(source)"
   ]
  },
  {
   "cell_type": "markdown",
   "metadata": {},
   "source": [
    "```{note}\n",
    "只有单元格（包含值、样式、超链接和注释）以及确定的工作表属性（包含尺寸、格式和属性）会被复制。 其余的工作表/工作簿属性都不会被复制，例如：文件、图表。\n",
    "\n",
    "你也 **不能** 跨工作簿复制工作表。工作簿以 read-only 或 write_only 模式打开时也无法复制。\n",
    "```\n",
    "\n",
    "## 操作数据\n",
    "\n",
    "### 访问单元格\n",
    "\n",
    "接下来可以开始修改单元格内容了。可以直接通过工作表的键来访问单元格："
   ]
  },
  {
   "cell_type": "code",
   "execution_count": 12,
   "metadata": {},
   "outputs": [],
   "source": [
    "c = ws['A4']"
   ]
  },
  {
   "cell_type": "markdown",
   "metadata": {},
   "source": [
    "这将返回 A4 位置的单元格，如果它还不存在，则创建。可以直接赋值："
   ]
  },
  {
   "cell_type": "code",
   "execution_count": 13,
   "metadata": {},
   "outputs": [],
   "source": [
    "ws['A4'] = 4"
   ]
  },
  {
   "cell_type": "markdown",
   "metadata": {},
   "source": [
    "还有 {meth}`Worksheet.cell` 方法。\n",
    "\n",
    "这提供了使用行和列表示法访问单元格的方法："
   ]
  },
  {
   "cell_type": "code",
   "execution_count": 14,
   "metadata": {},
   "outputs": [],
   "source": [
    "d = ws.cell(row=4, column=2, value=10)"
   ]
  },
  {
   "attachments": {},
   "cell_type": "markdown",
   "metadata": {},
   "source": [
    "```{note}\n",
    "当工作薄在内存中被创建之后并没有此单元格，单元格只有在被第一次访问(access)的时候才会创建。\n",
    "```\n",
    "\n",
    "````{warning}\n",
    "由于这个特性，滚动单元格而不是直接访问它们将在内存中创建它们，即使您没有为它们分配值。\n",
    "\n",
    "比如\n",
    "```python\n",
    "for x in range(1,101):\n",
    "    for y in range(1,101):\n",
    "        ws.cell(row=x, column=y)\n",
    "```\n",
    "\n",
    "将在内存中创建 100x100 单元格。\n",
    "````\n",
    "\n",
    "### 访问大量单元格\n",
    "可以使用切片来访问一系列单元格："
   ]
  },
  {
   "cell_type": "code",
   "execution_count": 15,
   "metadata": {},
   "outputs": [],
   "source": [
    "cell_range = ws['A1':'C2']"
   ]
  },
  {
   "attachments": {},
   "cell_type": "markdown",
   "metadata": {},
   "source": [
    "一系列的行和列也可以通过类似的方法获取:"
   ]
  },
  {
   "cell_type": "code",
   "execution_count": 16,
   "metadata": {},
   "outputs": [],
   "source": [
    "colC = ws['C']\n",
    "col_range = ws['C:D']\n",
    "row10 = ws[10]\n",
    "row_range = ws[5:10]"
   ]
  },
  {
   "cell_type": "markdown",
   "metadata": {},
   "source": [
    "也可以使用 `Worksheet.iter_rows` 方法："
   ]
  },
  {
   "cell_type": "code",
   "execution_count": 17,
   "metadata": {},
   "outputs": [
    {
     "name": "stdout",
     "output_type": "stream",
     "text": [
      "<Cell 'New Title'.A1>\n",
      "<Cell 'New Title'.B1>\n",
      "<Cell 'New Title'.C1>\n",
      "<Cell 'New Title'.A2>\n",
      "<Cell 'New Title'.B2>\n",
      "<Cell 'New Title'.C2>\n"
     ]
    }
   ],
   "source": [
    "for row in ws.iter_rows(min_row=1, max_col=3, max_row=2):\n",
    "    for cell in row:\n",
    "        print(cell)"
   ]
  },
  {
   "cell_type": "markdown",
   "metadata": {},
   "source": [
    "同样 `Worksheet.iter_cols` 方法会返回列："
   ]
  },
  {
   "cell_type": "code",
   "execution_count": 18,
   "metadata": {},
   "outputs": [
    {
     "name": "stdout",
     "output_type": "stream",
     "text": [
      "<Cell 'New Title'.A1>\n",
      "<Cell 'New Title'.A2>\n",
      "<Cell 'New Title'.B1>\n",
      "<Cell 'New Title'.B2>\n",
      "<Cell 'New Title'.C1>\n",
      "<Cell 'New Title'.C2>\n"
     ]
    }
   ],
   "source": [
    "for col in ws.iter_cols(min_row=1, max_col=3, max_row=2):\n",
    "    for cell in col:\n",
    "        print(cell)"
   ]
  },
  {
   "cell_type": "markdown",
   "metadata": {},
   "source": [
    "如果需要遍历文件中的所有行和列，可以使用 `Worksheet.rows` 属性："
   ]
  },
  {
   "cell_type": "code",
   "execution_count": 19,
   "metadata": {},
   "outputs": [
    {
     "data": {
      "text/plain": [
       "((<Cell 'Mysheet1'.A1>, <Cell 'Mysheet1'.B1>, <Cell 'Mysheet1'.C1>),\n",
       " (<Cell 'Mysheet1'.A2>, <Cell 'Mysheet1'.B2>, <Cell 'Mysheet1'.C2>),\n",
       " (<Cell 'Mysheet1'.A3>, <Cell 'Mysheet1'.B3>, <Cell 'Mysheet1'.C3>),\n",
       " (<Cell 'Mysheet1'.A4>, <Cell 'Mysheet1'.B4>, <Cell 'Mysheet1'.C4>),\n",
       " (<Cell 'Mysheet1'.A5>, <Cell 'Mysheet1'.B5>, <Cell 'Mysheet1'.C5>),\n",
       " (<Cell 'Mysheet1'.A6>, <Cell 'Mysheet1'.B6>, <Cell 'Mysheet1'.C6>),\n",
       " (<Cell 'Mysheet1'.A7>, <Cell 'Mysheet1'.B7>, <Cell 'Mysheet1'.C7>),\n",
       " (<Cell 'Mysheet1'.A8>, <Cell 'Mysheet1'.B8>, <Cell 'Mysheet1'.C8>),\n",
       " (<Cell 'Mysheet1'.A9>, <Cell 'Mysheet1'.B9>, <Cell 'Mysheet1'.C9>))"
      ]
     },
     "execution_count": 19,
     "metadata": {},
     "output_type": "execute_result"
    }
   ],
   "source": [
    "ws = wb.active\n",
    "ws['C9'] = 'hello world'\n",
    "tuple(ws.rows)"
   ]
  },
  {
   "attachments": {},
   "cell_type": "markdown",
   "metadata": {},
   "source": [
    "或者 `Worksheet.columns` 属性："
   ]
  },
  {
   "cell_type": "code",
   "execution_count": 20,
   "metadata": {},
   "outputs": [
    {
     "data": {
      "text/plain": [
       "((<Cell 'Mysheet1'.A1>,\n",
       "  <Cell 'Mysheet1'.A2>,\n",
       "  <Cell 'Mysheet1'.A3>,\n",
       "  <Cell 'Mysheet1'.A4>,\n",
       "  <Cell 'Mysheet1'.A5>,\n",
       "  <Cell 'Mysheet1'.A6>,\n",
       "  <Cell 'Mysheet1'.A7>,\n",
       "  <Cell 'Mysheet1'.A8>,\n",
       "  <Cell 'Mysheet1'.A9>),\n",
       " (<Cell 'Mysheet1'.B1>,\n",
       "  <Cell 'Mysheet1'.B2>,\n",
       "  <Cell 'Mysheet1'.B3>,\n",
       "  <Cell 'Mysheet1'.B4>,\n",
       "  <Cell 'Mysheet1'.B5>,\n",
       "  <Cell 'Mysheet1'.B6>,\n",
       "  <Cell 'Mysheet1'.B7>,\n",
       "  <Cell 'Mysheet1'.B8>,\n",
       "  <Cell 'Mysheet1'.B9>),\n",
       " (<Cell 'Mysheet1'.C1>,\n",
       "  <Cell 'Mysheet1'.C2>,\n",
       "  <Cell 'Mysheet1'.C3>,\n",
       "  <Cell 'Mysheet1'.C4>,\n",
       "  <Cell 'Mysheet1'.C5>,\n",
       "  <Cell 'Mysheet1'.C6>,\n",
       "  <Cell 'Mysheet1'.C7>,\n",
       "  <Cell 'Mysheet1'.C8>,\n",
       "  <Cell 'Mysheet1'.C9>))"
      ]
     },
     "execution_count": 20,
     "metadata": {},
     "output_type": "execute_result"
    }
   ],
   "source": [
    "tuple(ws.columns)"
   ]
  },
  {
   "cell_type": "markdown",
   "metadata": {},
   "source": [
    "### 访问值\n",
    "\n",
    "如果你只想要工作薄的值，你可以使用 `Worksheet.values` 属性。这会遍历工作簿中所有的行但只返回单元格值："
   ]
  },
  {
   "cell_type": "code",
   "execution_count": 21,
   "metadata": {},
   "outputs": [
    {
     "name": "stdout",
     "output_type": "stream",
     "text": [
      "None None None None None None None None None None None None None None None None None None None None None None None None None None hello world "
     ]
    }
   ],
   "source": [
    "for row in ws.values:\n",
    "   for value in row:\n",
    "     print(value, end=\" \")"
   ]
  },
  {
   "cell_type": "markdown",
   "metadata": {},
   "source": [
    "`Worksheet.iter_rows` 和 `Worksheet.iter_cols` 可以用 `values_only` 参数来返回单元格值："
   ]
  },
  {
   "cell_type": "code",
   "execution_count": 22,
   "metadata": {},
   "outputs": [
    {
     "name": "stdout",
     "output_type": "stream",
     "text": [
      "(None, None, None)\n",
      "(None, None, None)\n"
     ]
    }
   ],
   "source": [
    "for row in ws.iter_rows(min_row=1, max_col=3, max_row=2, values_only=True):\n",
    "    print(row)"
   ]
  },
  {
   "cell_type": "markdown",
   "metadata": {},
   "source": [
    "## 数据存储\n",
    "一旦有了 Cell, 可以为其分配值："
   ]
  },
  {
   "cell_type": "code",
   "execution_count": 23,
   "metadata": {},
   "outputs": [
    {
     "name": "stdout",
     "output_type": "stream",
     "text": [
      "hello, world\n"
     ]
    }
   ],
   "source": [
    "c.value = 'hello, world'\n",
    "print(c.value)"
   ]
  },
  {
   "cell_type": "code",
   "execution_count": 24,
   "metadata": {},
   "outputs": [
    {
     "name": "stdout",
     "output_type": "stream",
     "text": [
      "3.14\n"
     ]
    }
   ],
   "source": [
    "d.value = 3.14\n",
    "print(d.value)"
   ]
  },
  {
   "cell_type": "markdown",
   "metadata": {},
   "source": [
    "### 保存至文件\n",
    "\n",
    "保存工作簿最简单和安全的方法就是使用 `Workbook.save` 方法："
   ]
  },
  {
   "cell_type": "code",
   "execution_count": 25,
   "metadata": {},
   "outputs": [],
   "source": [
    "wb = Workbook()\n",
    "wb.save('../build/balances.xlsx')"
   ]
  },
  {
   "attachments": {},
   "cell_type": "markdown",
   "metadata": {},
   "source": [
    "```{warning}\n",
    "该操作将覆盖现有文件而不发出警告。\n",
    "```\n",
    "\n",
    "可以指定属性 `template=True` 将工作簿保存为模板："
   ]
  },
  {
   "cell_type": "code",
   "execution_count": 26,
   "metadata": {},
   "outputs": [],
   "source": [
    "from openpyxl import  load_workbook\n",
    "\n",
    "wb = load_workbook('../build/balances.xlsx')\n",
    "wb.template = True\n",
    "wb.save('../build/document_template.xltx')"
   ]
  },
  {
   "attachments": {},
   "cell_type": "markdown",
   "metadata": {},
   "source": [
    "```{note}\n",
    "可以使用 {func}`openpyxl.load_workbook` 打开已存在的工作簿。\n",
    "```"
   ]
  },
  {
   "cell_type": "markdown",
   "metadata": {},
   "source": [
    "### 保存成流\n",
    "\n",
    "如果想把文件保存成流。例如当使用 Pyramid, Flask 或 Django 等 web 应用程序时，可以提供 `NamedTemporaryFile`："
   ]
  },
  {
   "cell_type": "code",
   "execution_count": 27,
   "metadata": {},
   "outputs": [],
   "source": [
    "from tempfile import NamedTemporaryFile\n",
    "from openpyxl import Workbook\n",
    "wb = Workbook()\n",
    "with NamedTemporaryFile() as tmp:\n",
    "    wb.save(tmp.name)\n",
    "    tmp.seek(0)\n",
    "    stream = tmp.read()"
   ]
  },
  {
   "cell_type": "code",
   "execution_count": null,
   "metadata": {},
   "outputs": [],
   "source": []
  }
 ],
 "metadata": {
  "kernelspec": {
   "display_name": "tvmx",
   "language": "python",
   "name": "python3"
  },
  "language_info": {
   "codemirror_mode": {
    "name": "ipython",
    "version": 3
   },
   "file_extension": ".py",
   "mimetype": "text/x-python",
   "name": "python",
   "nbconvert_exporter": "python",
   "pygments_lexer": "ipython3",
   "version": "3.10.9"
  },
  "orig_nbformat": 4,
  "vscode": {
   "interpreter": {
    "hash": "846e8d36a186a42439ed93df1391a42e82b1fcbccca95c6333e18613b78503b9"
   }
  }
 },
 "nbformat": 4,
 "nbformat_minor": 2
}
