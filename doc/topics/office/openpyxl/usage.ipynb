{
 "cells": [
  {
   "attachments": {},
   "cell_type": "markdown",
   "metadata": {},
   "source": [
    "# 创建简单的电子表格和条形图\n",
    "\n",
    "在本例中，将从头创建，并添加一些数据，然后绘制它。还将探讨一些有限的单元格样式和格式。"
   ]
  },
  {
   "cell_type": "code",
   "execution_count": 1,
   "metadata": {},
   "outputs": [],
   "source": [
    "from openpyxl import Workbook\n",
    "\n",
    "wb = Workbook()\n",
    "ws = wb.active\n",
    "\n",
    "treeData = [[\"Type\", \"Leaf Color\", \"Height\"], [\"Maple\", \"Red\", 549], [\"Oak\", \"Green\", 783], [\"Pine\", \"Green\", 1204]]"
   ]
  },
  {
   "cell_type": "markdown",
   "metadata": {},
   "source": [
    "接下来，使用 `Worksheet.append` 函数把这些数据输入工作表。"
   ]
  },
  {
   "cell_type": "code",
   "execution_count": 2,
   "metadata": {},
   "outputs": [],
   "source": [
    "for row in treeData:\n",
    "    ws.append(row)"
   ]
  },
  {
   "attachments": {},
   "cell_type": "markdown",
   "metadata": {},
   "source": [
    "应该将标题设置为粗体，使其更加突出，为此需要创建 `styles.Font`，并将其应用到标题行的所有单元格。"
   ]
  },
  {
   "cell_type": "code",
   "execution_count": 3,
   "metadata": {},
   "outputs": [],
   "source": [
    "from openpyxl.styles import Font\n",
    "\n",
    "ft = Font(bold=True)\n",
    "\n",
    "for row in ws[\"A1:C1\"]:\n",
    "    for cell in row:\n",
    "        cell.font = ft"
   ]
  },
  {
   "cell_type": "markdown",
   "metadata": {},
   "source": [
    "是时候做一些图表了："
   ]
  },
  {
   "cell_type": "code",
   "execution_count": 4,
   "metadata": {},
   "outputs": [],
   "source": [
    "from openpyxl.chart import BarChart, Series, Reference\n",
    "\n",
    "chart = BarChart()\n",
    "chart.type = \"col\"\n",
    "chart.title = \"Tree Height\"\n",
    "chart.y_axis.title = 'Height (cm)'\n",
    "chart.x_axis.title = 'Tree Type'\n",
    "chart.legend = None"
   ]
  },
  {
   "cell_type": "markdown",
   "metadata": {},
   "source": [
    "这就创建了柱状图的框架。现在需要添加对数据所在位置的引用，并将其传递给图表对象"
   ]
  },
  {
   "cell_type": "code",
   "execution_count": 5,
   "metadata": {},
   "outputs": [],
   "source": [
    "data = Reference(ws, min_col=3, min_row=2, max_row=4, max_col=3)\n",
    "categories = Reference(ws, min_col=1, min_row=2, max_row=4, max_col=1)"
   ]
  },
  {
   "cell_type": "code",
   "execution_count": 6,
   "metadata": {},
   "outputs": [],
   "source": [
    "chart.add_data(data)\n",
    "chart.set_categories(categories)"
   ]
  },
  {
   "cell_type": "markdown",
   "metadata": {},
   "source": [
    "最后可以把它添加到表格中。"
   ]
  },
  {
   "cell_type": "code",
   "execution_count": 7,
   "metadata": {},
   "outputs": [],
   "source": [
    "ws.add_chart(chart, \"E1\")\n",
    "wb.save(\"../build/TreeData.xlsx\")"
   ]
  },
  {
   "cell_type": "markdown",
   "metadata": {},
   "source": [
    "## 添加图片\n",
    "\n"
   ]
  },
  {
   "cell_type": "code",
   "execution_count": 8,
   "metadata": {},
   "outputs": [],
   "source": [
    "from openpyxl import Workbook\n",
    "\n",
    "from openpyxl.drawing.image import Image"
   ]
  },
  {
   "cell_type": "code",
   "execution_count": 9,
   "metadata": {},
   "outputs": [],
   "source": [
    "wb = Workbook()\n",
    "ws = wb.active\n",
    "\n",
    "ws['A1'] = 'You should see three logos below'"
   ]
  },
  {
   "cell_type": "code",
   "execution_count": 11,
   "metadata": {},
   "outputs": [],
   "source": [
    "# create an image\n",
    "img = Image('../../../logo.jpg')"
   ]
  },
  {
   "cell_type": "code",
   "execution_count": 13,
   "metadata": {},
   "outputs": [
    {
     "name": "stderr",
     "output_type": "stream",
     "text": [
      "/media/pc/data/tmp/cache/conda/envs/tvmx/lib/python3.10/zipfile.py:1517: UserWarning: Duplicate name: 'xl/media/image2.jpeg'\n",
      "  return self._open_to_write(zinfo, force_zip64=force_zip64)\n"
     ]
    }
   ],
   "source": [
    "# add to worksheet and anchor next to cells\n",
    "ws.add_image(img, 'A1')\n",
    "wb.save('../build/logo.xlsx')"
   ]
  },
  {
   "cell_type": "markdown",
   "metadata": {},
   "source": [
    "修改图片尺寸：\n",
    "\n",
    "```python\n",
    "_from = AnchorMarker(0, 50000, 1, 50000)\n",
    "to = AnchorMarker(15, -50000, 40, -50000)\n",
    "anchor = TwoCellAnchor('twoCell', _from, to)\n",
    "ws.add_image(img, anchor)\n",
    "```"
   ]
  },
  {
   "cell_type": "markdown",
   "metadata": {},
   "source": [
    "## 样式\n",
    "\n",
    "样式用于更改显示在屏幕上的数据的外观。它们还用于确定数字的格式。\n",
    "\n",
    "样式可以应用于以下方面：\n",
    "\n",
    "- 设置字体大小、颜色、下划线等\n",
    "- 填充以设置图案或颜色渐变\n",
    "- 在单元格上设置边框\n",
    "- 单元格对齐\n",
    "- 保护\n",
    "\n",
    "以下为默认值："
   ]
  },
  {
   "cell_type": "code",
   "execution_count": 14,
   "metadata": {},
   "outputs": [],
   "source": [
    "from openpyxl.styles import PatternFill, Border, Side, Alignment, Protection, Font\n",
    "font = Font(name='Calibri',\n",
    "            size=11,\n",
    "            bold=False,\n",
    "            italic=False,\n",
    "            vertAlign=None,\n",
    "            underline='none',\n",
    "            strike=False,\n",
    "            color='FF000000')\n",
    "fill = PatternFill(fill_type=None,\n",
    "                   start_color='FFFFFFFF',\n",
    "                   end_color='FF000000')\n",
    "border = Border(left=Side(border_style=None, color='FF000000'),\n",
    "                right=Side(border_style=None, color='FF000000'),\n",
    "                top=Side(border_style=None, color='FF000000'),\n",
    "                bottom=Side(border_style=None, color='FF000000'),\n",
    "                diagonal=Side(border_style=None, color='FF000000'),\n",
    "                diagonal_direction=0, \n",
    "                outline=Side(border_style=None, color='FF000000'),\n",
    "                vertical=Side(border_style=None, color='FF000000'),\n",
    "                horizontal=Side(border_style=None, color='FF000000'))\n",
    "alignment=Alignment(horizontal='general',\n",
    "                    vertical='bottom',\n",
    "                    text_rotation=0,\n",
    "                    wrap_text=False,\n",
    "                    shrink_to_fit=False,\n",
    "                    indent=0)\n",
    "number_format = 'General'\n",
    "protection = Protection(locked=True, hidden=False)"
   ]
  },
  {
   "attachments": {},
   "cell_type": "markdown",
   "metadata": {},
   "source": [
    "### 单元格样式和命名样式\n",
    "\n",
    "有两种类型的[样式](https://openpyxl.readthedocs.io/en/stable/styles.html)：单元格样式和命名样式，也称为样式模板。\n",
    "\n",
    "#### 单元格样式\n",
    "\n",
    "单元格样式在对象之间共享，一旦它们被分配，就不能更改。这可以避免不必要的副作用，比如当只有一个单元格发生变化时，许多单元格的样式都会发生变化。"
   ]
  },
  {
   "cell_type": "code",
   "execution_count": 16,
   "metadata": {},
   "outputs": [],
   "source": [
    "from openpyxl.styles import colors\n",
    "from openpyxl.styles import Font, Color\n",
    "from openpyxl import Workbook\n",
    "wb = Workbook()\n",
    "ws = wb.active\n",
    "a1 = ws['A1']\n",
    "d4 = ws['D4']\n",
    "ft = Font(color=\"FF0000\")\n",
    "a1.font = ft\n",
    "d4.font = ft\n",
    "# a1.font.italic = True # is not allowed # doctest: +SKIP\n",
    "# If you want to change the color of a Font, you need to reassign it::\n",
    "a1.font = Font(color=\"FF0000\", italic=True) # the change only affects A1"
   ]
  },
  {
   "cell_type": "markdown",
   "metadata": {},
   "source": [
    "#### 样式副本\n",
    "\n",
    "样式可以有副本："
   ]
  },
  {
   "cell_type": "code",
   "execution_count": 17,
   "metadata": {},
   "outputs": [
    {
     "data": {
      "text/plain": [
       "'Arial'"
      ]
     },
     "execution_count": 17,
     "metadata": {},
     "output_type": "execute_result"
    }
   ],
   "source": [
    "from openpyxl.styles import Font\n",
    "from copy import copy\n",
    "ft1 = Font(name='Arial', size=14)\n",
    "ft2 = copy(ft1)\n",
    "ft2.name = \"Tahoma\"\n",
    "ft1.name"
   ]
  },
  {
   "cell_type": "code",
   "execution_count": 18,
   "metadata": {},
   "outputs": [
    {
     "data": {
      "text/plain": [
       "'Tahoma'"
      ]
     },
     "execution_count": 18,
     "metadata": {},
     "output_type": "execute_result"
    }
   ],
   "source": [
    "ft2.name"
   ]
  },
  {
   "cell_type": "code",
   "execution_count": 19,
   "metadata": {},
   "outputs": [
    {
     "data": {
      "text/plain": [
       "14.0"
      ]
     },
     "execution_count": 19,
     "metadata": {},
     "output_type": "execute_result"
    }
   ],
   "source": [
    "ft2.size # copied from the"
   ]
  },
  {
   "attachments": {},
   "cell_type": "markdown",
   "metadata": {},
   "source": [
    "#### 颜色\n",
    "\n",
    "字体、背景、边框等的颜色可以通过三种方式设置：索引、aRGB或主题。索引颜色是遗留实现，颜色本身取决于工作簿或应用程序默认提供的索引。主题颜色对于颜色的互补阴影是有用的，但也取决于工作簿中出现的主题。因此，建议使用 aRGB 颜色。\n",
    "\n",
    "##### aRGB 颜色\n",
    "\n",
    "RGB 颜色是用红、绿、蓝的十六进制值设置的。"
   ]
  },
  {
   "cell_type": "code",
   "execution_count": 20,
   "metadata": {},
   "outputs": [],
   "source": [
    "from openpyxl.styles import Font\n",
    "font = Font(color=\"FF0000\")"
   ]
  },
  {
   "cell_type": "markdown",
   "metadata": {},
   "source": [
    "`alpha` 值在理论上是指颜色的透明度，但这与单元格样式无关。默认值 00 将前置任何简单的 RGB 值："
   ]
  },
  {
   "cell_type": "code",
   "execution_count": 21,
   "metadata": {},
   "outputs": [
    {
     "data": {
      "text/plain": [
       "'0000FF00'"
      ]
     },
     "execution_count": 21,
     "metadata": {},
     "output_type": "execute_result"
    }
   ],
   "source": [
    "from openpyxl.styles import Font\n",
    "font = Font(color=\"00FF00\")\n",
    "font.color.rgb"
   ]
  },
  {
   "cell_type": "markdown",
   "metadata": {},
   "source": [
    "它还支持遗留的索引颜色以及主题和色调。"
   ]
  },
  {
   "cell_type": "code",
   "execution_count": 22,
   "metadata": {},
   "outputs": [],
   "source": [
    "from openpyxl.styles.colors import Color\n",
    "\n",
    "c = Color(indexed=32)\n",
    "c = Color(theme=6, tint=0.5)"
   ]
  },
  {
   "cell_type": "code",
   "execution_count": 23,
   "metadata": {},
   "outputs": [
    {
     "data": {
      "text/plain": [
       "<openpyxl.styles.colors.Color object>\n",
       "Parameters:\n",
       "rgb=None, indexed=None, auto=None, theme=6, tint=0.5, type='theme'"
      ]
     },
     "execution_count": 23,
     "metadata": {},
     "output_type": "execute_result"
    }
   ],
   "source": [
    "c"
   ]
  },
  {
   "cell_type": "markdown",
   "metadata": {},
   "source": [
    "#### 应用样式\n",
    "\n",
    "样式直接应用于单元格"
   ]
  },
  {
   "cell_type": "code",
   "execution_count": 24,
   "metadata": {},
   "outputs": [],
   "source": [
    "from openpyxl.workbook import Workbook\n",
    "\n",
    "from openpyxl.styles import Font, Fill\n",
    "wb = Workbook()\n",
    "ws = wb.active\n",
    "c = ws['A1']\n",
    "c.font = Font(size=12)"
   ]
  },
  {
   "attachments": {},
   "cell_type": "markdown",
   "metadata": {},
   "source": [
    "样式也可以应用于列和行，但请注意，这只适用于文件关闭后创建的单元格(在 Excel 中)。如果你想对整个行和列应用样式，那么你必须自己对每个单元格应用样式。这是文件格式的限制："
   ]
  },
  {
   "cell_type": "code",
   "execution_count": 25,
   "metadata": {},
   "outputs": [],
   "source": [
    "col = ws.column_dimensions['A']\n",
    "col.font = Font(bold=True)\n",
    "row = ws.row_dimensions[1]\n",
    "row.font = Font(underline=\"single\")"
   ]
  },
  {
   "cell_type": "markdown",
   "metadata": {},
   "source": [
    "#### 样式化合并单元格\n",
    "\n",
    "合并的单元格的行为与其他单元格对象类似。它的值和格式在其左上角的单元格中定义。要更改整个合并单元格的边界，请更改其左上角单元格的边界。格式是为了写作而生成的。"
   ]
  },
  {
   "cell_type": "code",
   "execution_count": 26,
   "metadata": {},
   "outputs": [],
   "source": [
    "from openpyxl.styles import Border, Side, PatternFill, Font, GradientFill, Alignment\n",
    "from openpyxl import Workbook\n",
    "wb = Workbook()\n",
    "ws = wb.active\n",
    "ws.merge_cells('B2:F4')\n",
    "top_left_cell = ws['B2']\n",
    "top_left_cell.value = \"My Cell\"\n",
    "thin = Side(border_style=\"thin\", color=\"000000\")\n",
    "double = Side(border_style=\"double\", color=\"ff0000\")\n",
    "top_left_cell.border = Border(top=double, left=thin, right=thin, bottom=double)\n",
    "top_left_cell.fill = PatternFill(\"solid\", fgColor=\"DDDDDD\")\n",
    "top_left_cell.fill = fill = GradientFill(stop=(\"000000\", \"FFFFFF\"))\n",
    "top_left_cell.font  = Font(b=True, color=\"FF0000\")\n",
    "top_left_cell.alignment = Alignment(horizontal=\"center\", vertical=\"center\")\n",
    "wb.save(\"../build/styled.xlsx\")"
   ]
  },
  {
   "cell_type": "markdown",
   "metadata": {},
   "source": [
    "#### 使用数字格式\n",
    "\n",
    "您可以为单元格指定数字格式，或者对于某些实例(如 `datetime`)，它将自动格式化。"
   ]
  },
  {
   "cell_type": "code",
   "execution_count": 27,
   "metadata": {},
   "outputs": [
    {
     "data": {
      "text/plain": [
       "'yyyy-mm-dd h:mm:ss'"
      ]
     },
     "execution_count": 27,
     "metadata": {},
     "output_type": "execute_result"
    }
   ],
   "source": [
    "import datetime\n",
    "from openpyxl import Workbook\n",
    "wb = Workbook()\n",
    "ws = wb.active\n",
    "# set date using a Python datetime\n",
    "ws['A1'] = datetime.datetime(2010, 7, 21)\n",
    "ws['A1'].number_format"
   ]
  },
  {
   "cell_type": "code",
   "execution_count": 28,
   "metadata": {},
   "outputs": [],
   "source": [
    "ws[\"A2\"] = 0.123456\n",
    "ws[\"A2\"].number_format = \"0.00\" # Display to 2dp"
   ]
  },
  {
   "attachments": {},
   "cell_type": "markdown",
   "metadata": {},
   "source": [
    "### 编辑页面设置"
   ]
  },
  {
   "cell_type": "code",
   "execution_count": 29,
   "metadata": {},
   "outputs": [],
   "source": [
    "from openpyxl.workbook import Workbook\n",
    "wb = Workbook()\n",
    "ws = wb.active\n",
    "ws.page_setup.orientation = ws.ORIENTATION_LANDSCAPE\n",
    "ws.page_setup.paperSize = ws.PAPERSIZE_TABLOID\n",
    "ws.page_setup.fitToHeight = 0\n",
    "ws.page_setup.fitToWidth = 1"
   ]
  },
  {
   "attachments": {},
   "cell_type": "markdown",
   "metadata": {},
   "source": [
    "### 命名样式\n",
    "\n",
    "与单元格样式相反，命名样式是可变的。当您想要同时对许多不同的单元格应用格式时，它们是有意义的。NB。将命名样式分配给单元格后，对样式的其他更改将不会影响单元格。\n",
    "\n",
    "一旦已命名的样式被注册到工作簿中，就可以简单地通过名称引用它。"
   ]
  },
  {
   "cell_type": "code",
   "execution_count": 30,
   "metadata": {},
   "outputs": [],
   "source": [
    "from openpyxl.styles import NamedStyle, Font, Border, Side\n",
    "highlight = NamedStyle(name=\"highlight\")\n",
    "highlight.font = Font(bold=True, size=20)\n",
    "bd = Side(style='thick', color=\"000000\")\n",
    "highlight.border = Border(left=bd, top=bd, right=bd, bottom=bd)"
   ]
  },
  {
   "cell_type": "markdown",
   "metadata": {},
   "source": [
    "一旦创建了命名样式，就可以将它注册到工作簿中:"
   ]
  },
  {
   "cell_type": "code",
   "execution_count": 31,
   "metadata": {},
   "outputs": [],
   "source": [
    "wb.add_named_style(highlight)"
   ]
  },
  {
   "cell_type": "markdown",
   "metadata": {},
   "source": [
    "但是命名样式也会在第一次分配给单元格时自动注册："
   ]
  },
  {
   "cell_type": "code",
   "execution_count": 32,
   "metadata": {},
   "outputs": [],
   "source": [
    "ws['A1'].style = highlight"
   ]
  },
  {
   "cell_type": "markdown",
   "metadata": {},
   "source": [
    "注册后，仅需使用名称分配样式："
   ]
  },
  {
   "cell_type": "code",
   "execution_count": 33,
   "metadata": {},
   "outputs": [],
   "source": [
    "ws['D5'].style = 'highlight'"
   ]
  },
  {
   "cell_type": "code",
   "execution_count": null,
   "metadata": {},
   "outputs": [],
   "source": []
  }
 ],
 "metadata": {
  "kernelspec": {
   "display_name": "tvmx",
   "language": "python",
   "name": "python3"
  },
  "language_info": {
   "codemirror_mode": {
    "name": "ipython",
    "version": 3
   },
   "file_extension": ".py",
   "mimetype": "text/x-python",
   "name": "python",
   "nbconvert_exporter": "python",
   "pygments_lexer": "ipython3",
   "version": "3.10.9"
  },
  "orig_nbformat": 4
 },
 "nbformat": 4,
 "nbformat_minor": 2
}
