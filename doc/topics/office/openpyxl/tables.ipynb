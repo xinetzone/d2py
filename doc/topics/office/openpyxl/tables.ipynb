{
 "cells": [
  {
   "attachments": {},
   "cell_type": "markdown",
   "metadata": {},
   "source": [
    "# 表格\n",
    "\n",
    "工作表的[表格](https://openpyxl.readthedocs.io/en/stable/worksheet_tables.html)是对单元格组的引用。这使得某些操作(如样式化表中的单元格)更加容易。"
   ]
  },
  {
   "attachments": {},
   "cell_type": "markdown",
   "metadata": {},
   "source": [
    "## 创建表格"
   ]
  },
  {
   "cell_type": "code",
   "execution_count": 1,
   "metadata": {},
   "outputs": [],
   "source": [
    "from openpyxl import Workbook\n",
    "from openpyxl.worksheet.table import Table, TableStyleInfo\n",
    "\n",
    "wb = Workbook()\n",
    "ws = wb.active\n",
    "\n",
    "data = [\n",
    "    ['Apples', 10000, 5000, 8000, 6000],\n",
    "    ['Pears',   2000, 3000, 4000, 5000],\n",
    "    ['Bananas', 6000, 6000, 6500, 6000],\n",
    "    ['Oranges',  500,  300,  200,  700],\n",
    "]\n",
    "\n",
    "# 添加列标题。NB. 这些必须是字符串\n",
    "ws.append([\"Fruit\", \"2011\", \"2012\", \"2013\", \"2014\"])\n",
    "for row in data:\n",
    "    ws.append(row)\n",
    "\n",
    "tab = Table(displayName=\"Table1\", ref=\"A1:E5\")\n",
    "\n",
    "# 添加带有条纹行和条纹列的默认样式\n",
    "style = TableStyleInfo(name=\"TableStyleMedium9\", showFirstColumn=False,\n",
    "                       showLastColumn=False, showRowStripes=True, showColumnStripes=True)\n",
    "tab.tableStyleInfo = style\n",
    "\n",
    "'''\n",
    "Table must be added using ws.add_table() method to avoid duplicate names.\n",
    "Using this method ensures table name is unque through out defined names and all other table name. \n",
    "'''\n",
    "ws.add_table(tab)\n",
    "wb.save(\"../build/table.xlsx\")"
   ]
  },
  {
   "attachments": {},
   "cell_type": "markdown",
   "metadata": {},
   "source": [
    "表名在工作簿中必须是唯一的。默认情况下，创建表时，第一行有一个标题，所有列的过滤器和表标题和列标题必须始终包含字符串。\n",
    "\n",
    "```{warning}\n",
    "在仅写模式下，您必须手动向表中添加列标题，并且值必须始终与相应单元格的值相同(参见下面的示例)，否则 Excel 可能会认为文件无效并删除表。\n",
    "```\n",
    "\n",
    "样式是使用 `TableStyleInfo` 对象管理的。这允许您条纹行或列，并应用不同的配色方案。\n",
    "\n",
    "`ws.tables` 是类似字典的对象，包含特定工作表中的所有表："
   ]
  },
  {
   "cell_type": "code",
   "execution_count": 2,
   "metadata": {},
   "outputs": [
    {
     "data": {
      "text/plain": [
       "{'Table1': <openpyxl.worksheet.table.Table object>\n",
       " Parameters:\n",
       " id=1, name='Table1', displayName='Table1', comment=None, ref='A1:E5', tableType=None, headerRowCount=1, insertRow=None, insertRowShift=None, totalsRowCount=None, totalsRowShown=None, published=None, headerRowDxfId=None, dataDxfId=None, totalsRowDxfId=None, headerRowBorderDxfId=None, tableBorderDxfId=None, totalsRowBorderDxfId=None, headerRowCellStyle=None, dataCellStyle=None, totalsRowCellStyle=None, connectionId=None, autoFilter=<openpyxl.worksheet.filters.AutoFilter object>\n",
       " Parameters:\n",
       " ref='A1:E5', filterColumn=[], sortState=None, sortState=None, tableColumns=[<openpyxl.worksheet.table.TableColumn object>\n",
       " Parameters:\n",
       " id=1, uniqueName=None, name='Fruit', totalsRowFunction=None, totalsRowLabel=None, queryTableFieldId=None, headerRowDxfId=None, dataDxfId=None, totalsRowDxfId=None, headerRowCellStyle=None, dataCellStyle=None, totalsRowCellStyle=None, calculatedColumnFormula=None, totalsRowFormula=None, xmlColumnPr=None, extLst=None, <openpyxl.worksheet.table.TableColumn object>\n",
       " Parameters:\n",
       " id=2, uniqueName=None, name='2011', totalsRowFunction=None, totalsRowLabel=None, queryTableFieldId=None, headerRowDxfId=None, dataDxfId=None, totalsRowDxfId=None, headerRowCellStyle=None, dataCellStyle=None, totalsRowCellStyle=None, calculatedColumnFormula=None, totalsRowFormula=None, xmlColumnPr=None, extLst=None, <openpyxl.worksheet.table.TableColumn object>\n",
       " Parameters:\n",
       " id=3, uniqueName=None, name='2012', totalsRowFunction=None, totalsRowLabel=None, queryTableFieldId=None, headerRowDxfId=None, dataDxfId=None, totalsRowDxfId=None, headerRowCellStyle=None, dataCellStyle=None, totalsRowCellStyle=None, calculatedColumnFormula=None, totalsRowFormula=None, xmlColumnPr=None, extLst=None, <openpyxl.worksheet.table.TableColumn object>\n",
       " Parameters:\n",
       " id=4, uniqueName=None, name='2013', totalsRowFunction=None, totalsRowLabel=None, queryTableFieldId=None, headerRowDxfId=None, dataDxfId=None, totalsRowDxfId=None, headerRowCellStyle=None, dataCellStyle=None, totalsRowCellStyle=None, calculatedColumnFormula=None, totalsRowFormula=None, xmlColumnPr=None, extLst=None, <openpyxl.worksheet.table.TableColumn object>\n",
       " Parameters:\n",
       " id=5, uniqueName=None, name='2014', totalsRowFunction=None, totalsRowLabel=None, queryTableFieldId=None, headerRowDxfId=None, dataDxfId=None, totalsRowDxfId=None, headerRowCellStyle=None, dataCellStyle=None, totalsRowCellStyle=None, calculatedColumnFormula=None, totalsRowFormula=None, xmlColumnPr=None, extLst=None], tableStyleInfo=<openpyxl.worksheet.table.TableStyleInfo object>\n",
       " Parameters:\n",
       " name='TableStyleMedium9', showFirstColumn=False, showLastColumn=False, showRowStripes=True, showColumnStripes=True}"
      ]
     },
     "execution_count": 2,
     "metadata": {},
     "output_type": "execute_result"
    }
   ],
   "source": [
    "ws.tables"
   ]
  },
  {
   "attachments": {},
   "cell_type": "markdown",
   "metadata": {},
   "source": [
    "## 按名称或范围获取表"
   ]
  },
  {
   "cell_type": "code",
   "execution_count": 3,
   "metadata": {},
   "outputs": [
    {
     "data": {
      "text/plain": [
       "<openpyxl.worksheet.table.Table object>\n",
       "Parameters:\n",
       "id=1, name='Table1', displayName='Table1', comment=None, ref='A1:E5', tableType=None, headerRowCount=1, insertRow=None, insertRowShift=None, totalsRowCount=None, totalsRowShown=None, published=None, headerRowDxfId=None, dataDxfId=None, totalsRowDxfId=None, headerRowBorderDxfId=None, tableBorderDxfId=None, totalsRowBorderDxfId=None, headerRowCellStyle=None, dataCellStyle=None, totalsRowCellStyle=None, connectionId=None, autoFilter=<openpyxl.worksheet.filters.AutoFilter object>\n",
       "Parameters:\n",
       "ref='A1:E5', filterColumn=[], sortState=None, sortState=None, tableColumns=[<openpyxl.worksheet.table.TableColumn object>\n",
       "Parameters:\n",
       "id=1, uniqueName=None, name='Fruit', totalsRowFunction=None, totalsRowLabel=None, queryTableFieldId=None, headerRowDxfId=None, dataDxfId=None, totalsRowDxfId=None, headerRowCellStyle=None, dataCellStyle=None, totalsRowCellStyle=None, calculatedColumnFormula=None, totalsRowFormula=None, xmlColumnPr=None, extLst=None, <openpyxl.worksheet.table.TableColumn object>\n",
       "Parameters:\n",
       "id=2, uniqueName=None, name='2011', totalsRowFunction=None, totalsRowLabel=None, queryTableFieldId=None, headerRowDxfId=None, dataDxfId=None, totalsRowDxfId=None, headerRowCellStyle=None, dataCellStyle=None, totalsRowCellStyle=None, calculatedColumnFormula=None, totalsRowFormula=None, xmlColumnPr=None, extLst=None, <openpyxl.worksheet.table.TableColumn object>\n",
       "Parameters:\n",
       "id=3, uniqueName=None, name='2012', totalsRowFunction=None, totalsRowLabel=None, queryTableFieldId=None, headerRowDxfId=None, dataDxfId=None, totalsRowDxfId=None, headerRowCellStyle=None, dataCellStyle=None, totalsRowCellStyle=None, calculatedColumnFormula=None, totalsRowFormula=None, xmlColumnPr=None, extLst=None, <openpyxl.worksheet.table.TableColumn object>\n",
       "Parameters:\n",
       "id=4, uniqueName=None, name='2013', totalsRowFunction=None, totalsRowLabel=None, queryTableFieldId=None, headerRowDxfId=None, dataDxfId=None, totalsRowDxfId=None, headerRowCellStyle=None, dataCellStyle=None, totalsRowCellStyle=None, calculatedColumnFormula=None, totalsRowFormula=None, xmlColumnPr=None, extLst=None, <openpyxl.worksheet.table.TableColumn object>\n",
       "Parameters:\n",
       "id=5, uniqueName=None, name='2014', totalsRowFunction=None, totalsRowLabel=None, queryTableFieldId=None, headerRowDxfId=None, dataDxfId=None, totalsRowDxfId=None, headerRowCellStyle=None, dataCellStyle=None, totalsRowCellStyle=None, calculatedColumnFormula=None, totalsRowFormula=None, xmlColumnPr=None, extLst=None], tableStyleInfo=<openpyxl.worksheet.table.TableStyleInfo object>\n",
       "Parameters:\n",
       "name='TableStyleMedium9', showFirstColumn=False, showLastColumn=False, showRowStripes=True, showColumnStripes=True"
      ]
     },
     "execution_count": 3,
     "metadata": {},
     "output_type": "execute_result"
    }
   ],
   "source": [
    "ws.tables[\"Table1\"] # 或者 ws.tables[\"A1:E5\"]"
   ]
  },
  {
   "cell_type": "markdown",
   "metadata": {},
   "source": [
    "## 遍历工作表中的所有表格"
   ]
  },
  {
   "cell_type": "code",
   "execution_count": 5,
   "metadata": {},
   "outputs": [
    {
     "name": "stdout",
     "output_type": "stream",
     "text": [
      "<openpyxl.worksheet.table.Table object>\n",
      "Parameters:\n",
      "id=1, name='Table1', displayName='Table1', comment=None, ref='A1:E5', tableType=None, headerRowCount=1, insertRow=None, insertRowShift=None, totalsRowCount=None, totalsRowShown=None, published=None, headerRowDxfId=None, dataDxfId=None, totalsRowDxfId=None, headerRowBorderDxfId=None, tableBorderDxfId=None, totalsRowBorderDxfId=None, headerRowCellStyle=None, dataCellStyle=None, totalsRowCellStyle=None, connectionId=None, autoFilter=<openpyxl.worksheet.filters.AutoFilter object>\n",
      "Parameters:\n",
      "ref='A1:E5', filterColumn=[], sortState=None, sortState=None, tableColumns=[<openpyxl.worksheet.table.TableColumn object>\n",
      "Parameters:\n",
      "id=1, uniqueName=None, name='Fruit', totalsRowFunction=None, totalsRowLabel=None, queryTableFieldId=None, headerRowDxfId=None, dataDxfId=None, totalsRowDxfId=None, headerRowCellStyle=None, dataCellStyle=None, totalsRowCellStyle=None, calculatedColumnFormula=None, totalsRowFormula=None, xmlColumnPr=None, extLst=None, <openpyxl.worksheet.table.TableColumn object>\n",
      "Parameters:\n",
      "id=2, uniqueName=None, name='2011', totalsRowFunction=None, totalsRowLabel=None, queryTableFieldId=None, headerRowDxfId=None, dataDxfId=None, totalsRowDxfId=None, headerRowCellStyle=None, dataCellStyle=None, totalsRowCellStyle=None, calculatedColumnFormula=None, totalsRowFormula=None, xmlColumnPr=None, extLst=None, <openpyxl.worksheet.table.TableColumn object>\n",
      "Parameters:\n",
      "id=3, uniqueName=None, name='2012', totalsRowFunction=None, totalsRowLabel=None, queryTableFieldId=None, headerRowDxfId=None, dataDxfId=None, totalsRowDxfId=None, headerRowCellStyle=None, dataCellStyle=None, totalsRowCellStyle=None, calculatedColumnFormula=None, totalsRowFormula=None, xmlColumnPr=None, extLst=None, <openpyxl.worksheet.table.TableColumn object>\n",
      "Parameters:\n",
      "id=4, uniqueName=None, name='2013', totalsRowFunction=None, totalsRowLabel=None, queryTableFieldId=None, headerRowDxfId=None, dataDxfId=None, totalsRowDxfId=None, headerRowCellStyle=None, dataCellStyle=None, totalsRowCellStyle=None, calculatedColumnFormula=None, totalsRowFormula=None, xmlColumnPr=None, extLst=None, <openpyxl.worksheet.table.TableColumn object>\n",
      "Parameters:\n",
      "id=5, uniqueName=None, name='2014', totalsRowFunction=None, totalsRowLabel=None, queryTableFieldId=None, headerRowDxfId=None, dataDxfId=None, totalsRowDxfId=None, headerRowCellStyle=None, dataCellStyle=None, totalsRowCellStyle=None, calculatedColumnFormula=None, totalsRowFormula=None, xmlColumnPr=None, extLst=None], tableStyleInfo=<openpyxl.worksheet.table.TableStyleInfo object>\n",
      "Parameters:\n",
      "name='TableStyleMedium9', showFirstColumn=False, showLastColumn=False, showRowStripes=True, showColumnStripes=True\n"
     ]
    }
   ],
   "source": [
    "for table in ws.tables.values():\n",
    "    print(table)"
   ]
  },
  {
   "attachments": {},
   "cell_type": "markdown",
   "metadata": {},
   "source": [
    "## 获取工作表中所有表的表名和范围\n",
    "\n",
    "返回表名及其范围的列表。"
   ]
  },
  {
   "cell_type": "code",
   "execution_count": 6,
   "metadata": {},
   "outputs": [
    {
     "data": {
      "text/plain": [
       "[('Table1', 'A1:E5')]"
      ]
     },
     "execution_count": 6,
     "metadata": {},
     "output_type": "execute_result"
    }
   ],
   "source": [
    "ws.tables.items()"
   ]
  },
  {
   "cell_type": "markdown",
   "metadata": {},
   "source": [
    "## 删除表格"
   ]
  },
  {
   "cell_type": "code",
   "execution_count": 8,
   "metadata": {},
   "outputs": [],
   "source": [
    "del ws.tables[\"Table1\"]"
   ]
  },
  {
   "cell_type": "markdown",
   "metadata": {},
   "source": [
    "## 工作表中的表格数"
   ]
  },
  {
   "cell_type": "code",
   "execution_count": 9,
   "metadata": {},
   "outputs": [
    {
     "data": {
      "text/plain": [
       "0"
      ]
     },
     "execution_count": 9,
     "metadata": {},
     "output_type": "execute_result"
    }
   ],
   "source": [
    "len(ws.tables)"
   ]
  },
  {
   "attachments": {},
   "cell_type": "markdown",
   "metadata": {},
   "source": [
    "## 手动添加列标题\n",
    "\n",
    "在只写模式下，你可以只添加没有标题的表格："
   ]
  },
  {
   "cell_type": "code",
   "execution_count": 10,
   "metadata": {},
   "outputs": [],
   "source": [
    "table.headerRowCount = False"
   ]
  },
  {
   "cell_type": "markdown",
   "metadata": {},
   "source": [
    "或者手动初始化列标题："
   ]
  },
  {
   "cell_type": "code",
   "execution_count": 11,
   "metadata": {},
   "outputs": [],
   "source": [
    "headings = [\"Fruit\", \"2011\", \"2012\", \"2013\", \"2014\"] # all values must be strings\n",
    "table._initialise_columns()\n",
    "for column, value in zip(table.tableColumns, headings):\n",
    "    column.name = value"
   ]
  },
  {
   "attachments": {},
   "cell_type": "markdown",
   "metadata": {},
   "source": [
    "## 过滤器\n",
    "\n",
    "过滤器将自动添加到包含标题行的表中。不可能在没有过滤器的情况下创建带有标题行的表格。\n",
    "\n",
    "## 表格作为打印区域\n",
    "\n",
    "Excel 可以生成打印区域设置为表名的文档。然而，Openpyxl 不能解析这样的动态定义，并且在尝试这样做时会引发警告。\n",
    "\n",
    "如果需要处理这个问题，可以提取表格的范围，并将打印区域定义为适当的单元格范围。\n",
    "\n",
    "```python\n",
    "from openpyxl import load_workbook\n",
    "wb = load_workbook(\"../build/QueryTable.xlsx\")\n",
    "ws = wb.active\n",
    "table_range = ws.tables[\"InvoiceData\"]\n",
    "ws.print_area = table_range.ref  # Ref 是表当前覆盖的单元格范围\n",
    "```"
   ]
  },
  {
   "cell_type": "code",
   "execution_count": null,
   "metadata": {},
   "outputs": [],
   "source": []
  }
 ],
 "metadata": {
  "kernelspec": {
   "display_name": "tvmx",
   "language": "python",
   "name": "python3"
  },
  "language_info": {
   "codemirror_mode": {
    "name": "ipython",
    "version": 3
   },
   "file_extension": ".py",
   "mimetype": "text/x-python",
   "name": "python",
   "nbconvert_exporter": "python",
   "pygments_lexer": "ipython3",
   "version": "3.10.9"
  },
  "orig_nbformat": 4
 },
 "nbformat": 4,
 "nbformat_minor": 2
}
