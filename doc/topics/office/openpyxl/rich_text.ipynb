{
 "cells": [
  {
   "attachments": {},
   "cell_type": "markdown",
   "metadata": {},
   "source": [
    "# 富文本\n",
    "\n",
    "通常，样式应用于单个单元格中的所有内容。但是，富文本允许格式化字符串中的部分文本。\n",
    "\n",
    "富文本对象可以包含非格式化文本和 `TextBlock` 对象的混合，`TextBlock` 对象包含 `InlineFont` 样式和要格式化的文本。结果是 `CellRichText` 对象。"
   ]
  },
  {
   "cell_type": "code",
   "execution_count": 1,
   "metadata": {},
   "outputs": [],
   "source": [
    "from openpyxl.cell.text import InlineFont\n",
    "from openpyxl.cell.rich_text import TextBlock, CellRichText\n",
    "rich_string1 = CellRichText(\n",
    "    'This is a test ',\n",
    "    TextBlock(InlineFont(b=True), 'xxx'),\n",
    "    'yyy')"
   ]
  },
  {
   "cell_type": "markdown",
   "metadata": {},
   "source": [
    "`InlineFont` 对象实际上与 `Font` 对象相同，但是使用不同的属性名 rFont 作为字体的名称。不幸的是，这是 OOXML 所要求的，并且无法避免。"
   ]
  },
  {
   "cell_type": "code",
   "execution_count": 2,
   "metadata": {},
   "outputs": [],
   "source": [
    "inline_font = InlineFont(rFont='Calibri', # Font name\n",
    "                         sz=22,           # in 1/144 in. (1/2 point) units, must be integer\n",
    "                         charset=None,    # character set (0 to 255), less required with UTF-8\n",
    "                         family=None,     # Font family\n",
    "                         b=True,          # Bold (True/False)\n",
    "                         i=None,          # Italics (True/False)\n",
    "                         strike=None,     # strikethrough\n",
    "                         outline=None,\n",
    "                         shadow=None,\n",
    "                         condense=None,\n",
    "                         extend=None,\n",
    "                         color=None,\n",
    "                         u=None,\n",
    "                         vertAlign=None,\n",
    "                         scheme=None)"
   ]
  },
  {
   "cell_type": "markdown",
   "metadata": {},
   "source": [
    "幸运的是，如果你已经有 `Font` 对象，你可以简单地用现有的 `Font` 对象初始化 `InlineFont` 对象："
   ]
  },
  {
   "cell_type": "code",
   "execution_count": 3,
   "metadata": {},
   "outputs": [],
   "source": [
    "from openpyxl.cell.text import Font\n",
    "font = Font(name='Calibri',\n",
    "            size=11,\n",
    "            bold=False,\n",
    "            italic=False,\n",
    "            vertAlign=None,\n",
    "            underline='none',\n",
    "            strike=False,\n",
    "            color='00FF0000')\n",
    "inline_font = InlineFont(font)"
   ]
  },
  {
   "cell_type": "markdown",
   "metadata": {},
   "source": [
    "您可以单独创建 `InlineFont` 对象，并在以后使用它们。这使得工作与富文本更干净和更容易："
   ]
  },
  {
   "cell_type": "code",
   "execution_count": 4,
   "metadata": {},
   "outputs": [],
   "source": [
    "big = InlineFont(sz=\"30.0\")\n",
    "medium = InlineFont(sz=\"20.0\")\n",
    "small = InlineFont(sz=\"10.0\")\n",
    "bold = InlineFont(b=True)\n",
    "b = TextBlock\n",
    "rich_string2 = CellRichText(\n",
    "    b(big, 'M'),\n",
    "    b(medium, 'i'),\n",
    "    b(small, 'x'),\n",
    "    b(medium, 'e'),\n",
    "    b(big, 'd'))"
   ]
  },
  {
   "cell_type": "markdown",
   "metadata": {},
   "source": [
    "例如："
   ]
  },
  {
   "cell_type": "code",
   "execution_count": 5,
   "metadata": {},
   "outputs": [],
   "source": [
    "red = InlineFont(color='FF000000')\n",
    "rich_string1 = CellRichText(['When the color ', TextBlock(red, 'red'), ' is used, you can expect ', TextBlock(red, 'danger')])"
   ]
  },
  {
   "attachments": {},
   "cell_type": "markdown",
   "metadata": {},
   "source": [
    "`CellRichText` 对象是从 {class}`list` 中派生出来的，并且可以这样使用。\n",
    "\n",
    "## 空白符\n",
    "\n",
    "`CellRichText` 对象在将元素呈现为字符串或保存文件时，不会在元素之间添加空格。"
   ]
  },
  {
   "cell_type": "code",
   "execution_count": 6,
   "metadata": {},
   "outputs": [],
   "source": [
    "t = CellRichText()\n",
    "t.append('xx')\n",
    "t.append(TextBlock(red, \"red\"))"
   ]
  },
  {
   "attachments": {},
   "cell_type": "markdown",
   "metadata": {},
   "source": [
    "还可以将其强制转换为 {class}`str` 以只获得文本，而不进行格式化。"
   ]
  },
  {
   "cell_type": "code",
   "execution_count": 7,
   "metadata": {},
   "outputs": [
    {
     "data": {
      "text/plain": [
       "'xxred'"
      ]
     },
     "execution_count": 7,
     "metadata": {},
     "output_type": "execute_result"
    }
   ],
   "source": [
    "str(t)"
   ]
  },
  {
   "attachments": {},
   "cell_type": "markdown",
   "metadata": {},
   "source": [
    "## 编辑富文本\n",
    "\n",
    "由于编辑带有格式的大块文本可能很棘手，`as_list()` 方法返回字符串列表以简化索引。"
   ]
  },
  {
   "cell_type": "code",
   "execution_count": 8,
   "metadata": {},
   "outputs": [
    {
     "data": {
      "text/plain": [
       "['When the color ', 'red', ' is used, you can expect ', 'danger']"
      ]
     },
     "execution_count": 8,
     "metadata": {},
     "output_type": "execute_result"
    }
   ],
   "source": [
    "l = rich_string1.as_list()\n",
    "l"
   ]
  },
  {
   "cell_type": "code",
   "execution_count": 11,
   "metadata": {},
   "outputs": [
    {
     "data": {
      "text/plain": [
       "3"
      ]
     },
     "execution_count": 11,
     "metadata": {},
     "output_type": "execute_result"
    }
   ],
   "source": [
    "l.index(\"danger\")"
   ]
  },
  {
   "cell_type": "code",
   "execution_count": 12,
   "metadata": {},
   "outputs": [
    {
     "data": {
      "text/plain": [
       "'When the color red is used, you can expect fun'"
      ]
     },
     "execution_count": 12,
     "metadata": {},
     "output_type": "execute_result"
    }
   ],
   "source": [
    "rich_string1[3].text = \"fun\"\n",
    "str(rich_string1)"
   ]
  },
  {
   "attachments": {},
   "cell_type": "markdown",
   "metadata": {},
   "source": [
    "## 富文本单元格\n",
    "\n",
    "富文本对象可以直接分配给单元格："
   ]
  },
  {
   "cell_type": "code",
   "execution_count": 13,
   "metadata": {},
   "outputs": [],
   "source": [
    "from openpyxl import Workbook\n",
    "wb = Workbook()\n",
    "ws = wb.active\n",
    "ws['A1'] = rich_string1\n",
    "ws['A2'] = 'Simple string'"
   ]
  }
 ],
 "metadata": {
  "kernelspec": {
   "display_name": "tvmx",
   "language": "python",
   "name": "python3"
  },
  "language_info": {
   "codemirror_mode": {
    "name": "ipython",
    "version": 3
   },
   "file_extension": ".py",
   "mimetype": "text/x-python",
   "name": "python",
   "nbconvert_exporter": "python",
   "pygments_lexer": "ipython3",
   "version": "3.10.9"
  },
  "orig_nbformat": 4
 },
 "nbformat": 4,
 "nbformat_minor": 2
}
