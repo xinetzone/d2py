{
 "cells": [
  {
   "cell_type": "markdown",
   "metadata": {},
   "source": [
    "(pyarrow-data)=\n",
    "# 数据类型和内存中的数据模型\n",
    "\n",
    "Apache Arrow 通过将类型元数据与内存缓冲区组合来定义列式数组数据结构，就像在[内存和 IO](memory)中解释的那样。这些数据结构通过一系列相互关联的类在 Python 中被暴露出来：\n",
    "\n",
    "- 类型元数据：{class}`pyarrow.DataType` 的实例，描述逻辑数组类型。\n",
    "- 模式：{class}`pyarrow.Schema` 的实例，描述一个命名的类型集合。这些可以被视为类似表格对象中的列类型。\n",
    "- 数组：{class}`pyarrow.Array` 的实例，是由 Arrow Buffer 对象组成的原子性、连续的列式数据结构。\n",
    "- 记录批次：{class}`pyarrow.RecordBatch` 的实例，是一组具有特定模式的 Array 对象的集合。\n",
    "- 表格：{class}`pyarrow.Table` 的实例，是一种逻辑表格数据结构，其中每一列由一个或多个相同类型的 {class}`pyarrow.Array` 对象组成。"
   ]
  },
  {
   "cell_type": "markdown",
   "metadata": {},
   "source": [
    "## 类型元数据\n",
    "\n",
    "Apache Arrow 定义了与语言无关的列式数组数据结构。这些包括：\n",
    "- **固定长度的原始(primitive)类型**：数字、布尔值、日期和时间、固定大小的二进制、十进制以及其他可以放入给定数量的值。\n",
    "- **可变长度的原始(primitive)类型**：二进制、字符串。\n",
    "- **嵌套类型**：列表、映射、结构体和联合体。\n",
    "- **字典类型**：一种编码后的分类类型。\n",
    "\n",
    "Arrow 中的每个逻辑数据类型都有对应的工厂函数，用于在 Python 中创建该类型对象的实例："
   ]
  },
  {
   "cell_type": "code",
   "execution_count": 1,
   "metadata": {},
   "outputs": [
    {
     "data": {
      "text/plain": [
       "DataType(int32)"
      ]
     },
     "execution_count": 1,
     "metadata": {},
     "output_type": "execute_result"
    }
   ],
   "source": [
    "import pyarrow as pa\n",
    "\n",
    "pa.int32()"
   ]
  },
  {
   "cell_type": "code",
   "execution_count": 2,
   "metadata": {},
   "outputs": [
    {
     "data": {
      "text/plain": [
       "DataType(string)"
      ]
     },
     "execution_count": 2,
     "metadata": {},
     "output_type": "execute_result"
    }
   ],
   "source": [
    "pa.string()"
   ]
  },
  {
   "cell_type": "code",
   "execution_count": 3,
   "metadata": {},
   "outputs": [
    {
     "data": {
      "text/plain": [
       "DataType(binary)"
      ]
     },
     "execution_count": 3,
     "metadata": {},
     "output_type": "execute_result"
    }
   ],
   "source": [
    "pa.binary()"
   ]
  },
  {
   "cell_type": "code",
   "execution_count": 4,
   "metadata": {},
   "outputs": [
    {
     "data": {
      "text/plain": [
       "FixedSizeBinaryType(fixed_size_binary[10])"
      ]
     },
     "execution_count": 4,
     "metadata": {},
     "output_type": "execute_result"
    }
   ],
   "source": [
    "pa.binary(10)"
   ]
  },
  {
   "cell_type": "code",
   "execution_count": 5,
   "metadata": {},
   "outputs": [
    {
     "data": {
      "text/plain": [
       "TimestampType(timestamp[ms])"
      ]
     },
     "execution_count": 5,
     "metadata": {},
     "output_type": "execute_result"
    }
   ],
   "source": [
    "pa.timestamp('ms')"
   ]
  },
  {
   "cell_type": "markdown",
   "metadata": {},
   "source": [
    "使用“逻辑类型”(logical type)这个名称，是因为一种或多种类型的物理存储(physical storage)可能相同。例如，`int64`、`float64` 和 `timestamp[ms]` 每个值都占用 64 位。"
   ]
  },
  {
   "cell_type": "markdown",
   "metadata": {},
   "source": [
    "这些对象是元数据；它们用于描述数组、模式和记录批次中的数据。在 Python 中，它们可以用在输入数据（例如 Python 对象）可能被强制转换为多个 Arrow 类型的函数中。"
   ]
  },
  {
   "cell_type": "markdown",
   "metadata": {},
   "source": [
    "{class}`~pyarrow.Field` 类型是类型加上名称和可选的用户定义元数据："
   ]
  },
  {
   "cell_type": "code",
   "execution_count": 6,
   "metadata": {},
   "outputs": [
    {
     "data": {
      "text/plain": [
       "pyarrow.Field<int32_field: int32>"
      ]
     },
     "execution_count": 6,
     "metadata": {},
     "output_type": "execute_result"
    }
   ],
   "source": [
    "t1 = pa.int32()\n",
    "f0 = pa.field('int32_field', t1)\n",
    "f0"
   ]
  },
  {
   "cell_type": "code",
   "execution_count": 7,
   "metadata": {},
   "outputs": [
    {
     "data": {
      "text/plain": [
       "('int32_field', DataType(int32))"
      ]
     },
     "execution_count": 7,
     "metadata": {},
     "output_type": "execute_result"
    }
   ],
   "source": [
    "f0.name, f0.type"
   ]
  },
  {
   "cell_type": "markdown",
   "metadata": {},
   "source": [
    "Arrow 支持嵌套值类型，如列表、映射、结构体和联合体。创建这些时，必须传递类型或字段以指示类型的子项的数据类型。例如，我们可以用以下方式定义 `int32` 值的列表："
   ]
  },
  {
   "cell_type": "code",
   "execution_count": 8,
   "metadata": {},
   "outputs": [
    {
     "data": {
      "text/plain": [
       "ListType(list<item: int32>)"
      ]
     },
     "execution_count": 8,
     "metadata": {},
     "output_type": "execute_result"
    }
   ],
   "source": [
    "t1 = pa.int32()\n",
    "t6 = pa.list_(t1)\n",
    "t6"
   ]
  },
  {
   "cell_type": "markdown",
   "metadata": {},
   "source": [
    "结构体是一组命名字段的集合："
   ]
  },
  {
   "cell_type": "code",
   "execution_count": 10,
   "metadata": {},
   "outputs": [
    {
     "name": "stdout",
     "output_type": "stream",
     "text": [
      "struct<s0: int32, s1: string, s2: fixed_size_binary[10], s3: list<item: int32>>\n"
     ]
    }
   ],
   "source": [
    "t1 = pa.int32()\n",
    "\n",
    "t2 = pa.string()\n",
    "\n",
    "t3 = pa.binary()\n",
    "\n",
    "t4 = pa.binary(10)\n",
    "\n",
    "t5 = pa.timestamp('ms')\n",
    "\n",
    "fields = [\n",
    "    pa.field('s0', t1),\n",
    "    pa.field('s1', t2),\n",
    "    pa.field('s2', t4),\n",
    "    pa.field('s3', t6),\n",
    "]\n",
    "\n",
    "\n",
    "t7 = pa.struct(fields)\n",
    "\n",
    "print(t7)"
   ]
  },
  {
   "cell_type": "markdown",
   "metadata": {},
   "source": [
    "为了方便，您可以直接传递 `(name, type)` 元组而不是 {class}`~pyarrow.Field` 实例："
   ]
  },
  {
   "cell_type": "code",
   "execution_count": 11,
   "metadata": {},
   "outputs": [
    {
     "name": "stdout",
     "output_type": "stream",
     "text": [
      "struct<s0: int32, s1: string, s2: fixed_size_binary[10], s3: list<item: int32>>\n"
     ]
    },
    {
     "data": {
      "text/plain": [
       "True"
      ]
     },
     "execution_count": 11,
     "metadata": {},
     "output_type": "execute_result"
    }
   ],
   "source": [
    "t8 = pa.struct([('s0', t1), ('s1', t2), ('s2', t4), ('s3', t6)])\n",
    "\n",
    "print(t8)\n",
    "\n",
    "t8 == t7"
   ]
  },
  {
   "cell_type": "markdown",
   "metadata": {},
   "source": [
    "有关数据类型函数的完整列表，请参阅[数据类型 API](https://arrow.apache.org/docs/python/api/datatypes.html#api-types)。"
   ]
  },
  {
   "cell_type": "markdown",
   "metadata": {},
   "source": [
    "## 模式\n",
    "\n",
    "{class}`~pyarrow.Schema` 类型与 `struct` 数组类型类似；它定义了记录批次或表格数据结构中的列名和类型。{func}`pyarrow.schema` 工厂函数在 Python 中创建新的 {class}`~pyarrow.Schema` 对象："
   ]
  },
  {
   "cell_type": "code",
   "execution_count": 12,
   "metadata": {},
   "outputs": [
    {
     "data": {
      "text/plain": [
       "field0: int32\n",
       "field1: string\n",
       "field2: fixed_size_binary[10]\n",
       "field3: list<item: int32>\n",
       "  child 0, item: int32"
      ]
     },
     "execution_count": 12,
     "metadata": {},
     "output_type": "execute_result"
    }
   ],
   "source": [
    "my_schema = pa.schema([('field0', t1),\n",
    "                       ('field1', t2),\n",
    "                       ('field2', t4),\n",
    "                       ('field3', t6)])\n",
    "\n",
    "\n",
    "my_schema"
   ]
  },
  {
   "cell_type": "markdown",
   "metadata": {},
   "source": [
    "在某些应用中，您可能不需要直接创建模式，只需使用嵌入在 [IPC 消息](ipc) 中的模式。"
   ]
  },
  {
   "cell_type": "markdown",
   "metadata": {},
   "source": [
    "## 数组\n",
    "\n",
    "对于每种数据类型，都有一个相应的数组数据结构用于保存内存缓冲区，这些缓冲区定义了单个连续的列式数组数据块。当您使用 PyArrow 时，这些数据可能来自 IPC 工具，但也可以从各种类型的 Python 序列（列表、NumPy 数组、pandas 数据）创建。"
   ]
  },
  {
   "cell_type": "markdown",
   "metadata": {},
   "source": [
    "创建数组的简单方法是使用 `pyarrow.array`，它类似于 `numpy.array` 函数。默认情况下，PyArrow 会为您推断数据类型："
   ]
  },
  {
   "cell_type": "code",
   "execution_count": 14,
   "metadata": {},
   "outputs": [
    {
     "data": {
      "text/plain": [
       "<pyarrow.lib.Int64Array object at 0x7ff2c064d900>\n",
       "[\n",
       "  1,\n",
       "  2,\n",
       "  null,\n",
       "  3\n",
       "]"
      ]
     },
     "execution_count": 14,
     "metadata": {},
     "output_type": "execute_result"
    }
   ],
   "source": [
    "arr = pa.array([1, 2, None, 3])\n",
    "\n",
    "arr"
   ]
  },
  {
   "cell_type": "markdown",
   "metadata": {},
   "source": [
    "但您也可以传递特定的数据类型来覆盖类型推断："
   ]
  },
  {
   "cell_type": "code",
   "execution_count": 16,
   "metadata": {},
   "outputs": [
    {
     "data": {
      "text/plain": [
       "<pyarrow.lib.UInt16Array object at 0x7ff2be12d480>\n",
       "[\n",
       "  1,\n",
       "  2\n",
       "]"
      ]
     },
     "execution_count": 16,
     "metadata": {},
     "output_type": "execute_result"
    }
   ],
   "source": [
    "pa.array([1, 2], type=pa.uint16())"
   ]
  },
  {
   "cell_type": "markdown",
   "metadata": {},
   "source": [
    "数组的 {data}`type` 属性是相应的类型元数据部分："
   ]
  },
  {
   "cell_type": "code",
   "execution_count": 17,
   "metadata": {},
   "outputs": [
    {
     "data": {
      "text/plain": [
       "DataType(int64)"
      ]
     },
     "execution_count": 17,
     "metadata": {},
     "output_type": "execute_result"
    }
   ],
   "source": [
    "arr.type"
   ]
  },
  {
   "cell_type": "markdown",
   "metadata": {},
   "source": [
    "每个内存数组都有一个已知的长度和空值计数（如果没有空值，则为 `0`）："
   ]
  },
  {
   "cell_type": "code",
   "execution_count": 18,
   "metadata": {},
   "outputs": [
    {
     "data": {
      "text/plain": [
       "(4, 1)"
      ]
     },
     "execution_count": 18,
     "metadata": {},
     "output_type": "execute_result"
    }
   ],
   "source": [
    "len(arr), arr.null_count"
   ]
  },
  {
   "cell_type": "markdown",
   "metadata": {},
   "source": [
    "可以使用常规索引选择标量值。{func}`pyarrow.array` 将 `None` 值转换为 Arrow 空值；返回特殊的 pyarrow.NA 值来表示空值："
   ]
  },
  {
   "cell_type": "code",
   "execution_count": 19,
   "metadata": {},
   "outputs": [
    {
     "data": {
      "text/plain": [
       "(<pyarrow.Int64Scalar: 1>, <pyarrow.Int64Scalar: None>)"
      ]
     },
     "execution_count": 19,
     "metadata": {},
     "output_type": "execute_result"
    }
   ],
   "source": [
    "arr[0], arr[2]"
   ]
  },
  {
   "cell_type": "markdown",
   "metadata": {},
   "source": [
    "Arrow 数据是不可变的，因此可以选择值但不能赋值。\n",
    "\n",
    "数组可以在不复制的情况下进行切片："
   ]
  },
  {
   "cell_type": "code",
   "execution_count": 20,
   "metadata": {},
   "outputs": [
    {
     "data": {
      "text/plain": [
       "<pyarrow.lib.Int64Array object at 0x7ff2c064e020>\n",
       "[\n",
       "  2,\n",
       "  null\n",
       "]"
      ]
     },
     "execution_count": 20,
     "metadata": {},
     "output_type": "execute_result"
    }
   ],
   "source": [
    "arr[1:3]"
   ]
  },
  {
   "cell_type": "markdown",
   "metadata": {},
   "source": [
    "### `None` 值和 `NAN` 处理\n",
    "\n",
    "如上一节所述，在转换为 {class}`pyarrow.Array` 时，Python 对象 `None` 总是被转换为 Arrow 空元素。对于由 Python 对象 `float('nan')` 或 `numpy.nan` 表示的浮点数 `NaN` 值，我们通常在转换过程中将其转换为有效的浮点数值。如果向 `pyarrow.array` 提供包含 `np.nan` 的整数输入，将引发 `ValueError`。\n",
    "\n",
    "为了更好地与 Pandas 兼容，支持将 `NaN` 值解释为空元素。这在所有 `from_pandas` 函数上自动启用，并且可以通过将 `from_pandas=True` 作为函数参数传递给其他转换函数来启用。"
   ]
  },
  {
   "cell_type": "markdown",
   "metadata": {},
   "source": [
    "### 列表数组\n",
    "\n",
    "{func}`pyarrow.array` 能够推断出简单嵌套数据结构（如列表）的类型："
   ]
  },
  {
   "cell_type": "code",
   "execution_count": 21,
   "metadata": {},
   "outputs": [
    {
     "name": "stdout",
     "output_type": "stream",
     "text": [
      "list<item: int64>\n"
     ]
    }
   ],
   "source": [
    "nested_arr = pa.array([[], None, [1, 2], [None, 1]])\n",
    "\n",
    "print(nested_arr.type)"
   ]
  },
  {
   "cell_type": "markdown",
   "metadata": {},
   "source": [
    "### 结构体数组\n",
    "\n",
    "{func}`pyarrow.array` 能够从字典数组中推断出结构体类型的模式："
   ]
  },
  {
   "cell_type": "code",
   "execution_count": 22,
   "metadata": {},
   "outputs": [
    {
     "data": {
      "text/plain": [
       "<pyarrow.lib.StructArray object at 0x7ff2be12ebc0>\n",
       "-- is_valid: all not null\n",
       "-- child 0 type: int64\n",
       "  [\n",
       "    1,\n",
       "    4\n",
       "  ]\n",
       "-- child 1 type: bool\n",
       "  [\n",
       "    true,\n",
       "    null\n",
       "  ]\n",
       "-- child 2 type: double\n",
       "  [\n",
       "    null,\n",
       "    3.4\n",
       "  ]"
      ]
     },
     "execution_count": 22,
     "metadata": {},
     "output_type": "execute_result"
    }
   ],
   "source": [
    "pa.array([{'x': 1, 'y': True}, {'z': 3.4, 'x': 4}])"
   ]
  },
  {
   "cell_type": "markdown",
   "metadata": {},
   "source": [
    "结构体数组可以从 Python 字典或元组的序列中初始化。对于元组，您必须显式传递类型："
   ]
  },
  {
   "cell_type": "code",
   "execution_count": 23,
   "metadata": {},
   "outputs": [],
   "source": [
    "ty = pa.struct([('x', pa.int8()),\n",
    "                ('y', pa.bool_())])"
   ]
  },
  {
   "cell_type": "code",
   "execution_count": 24,
   "metadata": {},
   "outputs": [
    {
     "data": {
      "text/plain": [
       "<pyarrow.lib.StructArray object at 0x7ff2be12d720>\n",
       "-- is_valid: all not null\n",
       "-- child 0 type: int8\n",
       "  [\n",
       "    1,\n",
       "    2\n",
       "  ]\n",
       "-- child 1 type: bool\n",
       "  [\n",
       "    true,\n",
       "    false\n",
       "  ]"
      ]
     },
     "execution_count": 24,
     "metadata": {},
     "output_type": "execute_result"
    }
   ],
   "source": [
    "pa.array([{'x': 1, 'y': True}, {'x': 2, 'y': False}], type=ty)"
   ]
  },
  {
   "cell_type": "code",
   "execution_count": 25,
   "metadata": {},
   "outputs": [
    {
     "data": {
      "text/plain": [
       "<pyarrow.lib.StructArray object at 0x7ff2be12ed40>\n",
       "-- is_valid: all not null\n",
       "-- child 0 type: int8\n",
       "  [\n",
       "    3,\n",
       "    4\n",
       "  ]\n",
       "-- child 1 type: bool\n",
       "  [\n",
       "    true,\n",
       "    false\n",
       "  ]"
      ]
     },
     "execution_count": 25,
     "metadata": {},
     "output_type": "execute_result"
    }
   ],
   "source": [
    "pa.array([(3, True), (4, False)], type=ty)"
   ]
  },
  {
   "cell_type": "markdown",
   "metadata": {},
   "source": [
    "初始化结构体数组时，在结构级别和各个字段级别都允许有空值。如果从 Python 字典序列中初始化，缺失的字典键将被视为空值："
   ]
  },
  {
   "cell_type": "code",
   "execution_count": 26,
   "metadata": {},
   "outputs": [
    {
     "data": {
      "text/plain": [
       "<pyarrow.lib.StructArray object at 0x7ff2be12ee60>\n",
       "-- is_valid:\n",
       "  [\n",
       "    true,\n",
       "    false,\n",
       "    true\n",
       "  ]\n",
       "-- child 0 type: int8\n",
       "  [\n",
       "    1,\n",
       "    0,\n",
       "    null\n",
       "  ]\n",
       "-- child 1 type: bool\n",
       "  [\n",
       "    null,\n",
       "    false,\n",
       "    null\n",
       "  ]"
      ]
     },
     "execution_count": 26,
     "metadata": {},
     "output_type": "execute_result"
    }
   ],
   "source": [
    "pa.array([{'x': 1}, None, {'y': None}], type=ty)"
   ]
  },
  {
   "cell_type": "markdown",
   "metadata": {},
   "source": [
    "您还可以从每个结构组件的现有数组构建结构数组。在这种情况下，数据存储将与各个数组共享，不涉及复制："
   ]
  },
  {
   "cell_type": "code",
   "execution_count": 28,
   "metadata": {},
   "outputs": [
    {
     "data": {
      "text/plain": [
       "(StructType(struct<x: int16, y: bool>),\n",
       " <pyarrow.lib.StructArray object at 0x7ff2be12ee00>\n",
       " -- is_valid: all not null\n",
       " -- child 0 type: int16\n",
       "   [\n",
       "     5,\n",
       "     6,\n",
       "     7\n",
       "   ]\n",
       " -- child 1 type: bool\n",
       "   [\n",
       "     false,\n",
       "     true,\n",
       "     true\n",
       "   ])"
      ]
     },
     "execution_count": 28,
     "metadata": {},
     "output_type": "execute_result"
    }
   ],
   "source": [
    "xs = pa.array([5, 6, 7], type=pa.int16())\n",
    "\n",
    "ys = pa.array([False, True, True])\n",
    "\n",
    "arr = pa.StructArray.from_arrays((xs, ys), names=('x', 'y'))\n",
    "arr.type, arr"
   ]
  },
  {
   "cell_type": "markdown",
   "metadata": {},
   "source": [
    "### 映射数组\n",
    "\n",
    "可以从元组（键-值对）的列表构建映射数组，但只有在类型显式传递给 {func}`pyarrow.array` 函数时才能这样做："
   ]
  },
  {
   "cell_type": "code",
   "execution_count": 29,
   "metadata": {},
   "outputs": [
    {
     "data": {
      "text/plain": [
       "<pyarrow.lib.MapArray object at 0x7ff2be12e5c0>\n",
       "[\n",
       "  keys:\n",
       "  [\n",
       "    \"x\",\n",
       "    \"y\"\n",
       "  ]\n",
       "  values:\n",
       "  [\n",
       "    1,\n",
       "    0\n",
       "  ],\n",
       "  keys:\n",
       "  [\n",
       "    \"a\",\n",
       "    \"b\"\n",
       "  ]\n",
       "  values:\n",
       "  [\n",
       "    2,\n",
       "    45\n",
       "  ]\n",
       "]"
      ]
     },
     "execution_count": 29,
     "metadata": {},
     "output_type": "execute_result"
    }
   ],
   "source": [
    "data = [[('x', 1), ('y', 0)], [('a', 2), ('b', 45)]]\n",
    "\n",
    "ty = pa.map_(pa.string(), pa.int64())\n",
    "\n",
    "pa.array(data, type=ty)"
   ]
  },
  {
   "cell_type": "markdown",
   "metadata": {},
   "source": [
    "映射数组也可以从偏移量、键和项数组构建。偏移量代表每个映射的起始位置。请注意，{meth}`pyarrow.MapArray.keys` 和 {meth}`pyarrow.MapArray.items` 属性提供扁平化的键和项。要使键和项与它们的行相关联，请使用 {meth}`pyarrow.ListArray.from_arrays` 构造函数与 {data}`pyarrow.MapArray.offsets` 属性。"
   ]
  },
  {
   "cell_type": "code",
   "execution_count": 30,
   "metadata": {},
   "outputs": [
    {
     "data": {
      "text/plain": [
       "<pyarrow.lib.StringArray object at 0x7ff2be12f040>\n",
       "[\n",
       "  \"x\",\n",
       "  \"y\",\n",
       "  \"z\"\n",
       "]"
      ]
     },
     "execution_count": 30,
     "metadata": {},
     "output_type": "execute_result"
    }
   ],
   "source": [
    "arr = pa.MapArray.from_arrays([0, 2, 3], ['x', 'y', 'z'], [4, 5, 6])\n",
    "\n",
    "arr.keys"
   ]
  },
  {
   "cell_type": "code",
   "execution_count": 31,
   "metadata": {},
   "outputs": [
    {
     "data": {
      "text/plain": [
       "<pyarrow.lib.Int64Array object at 0x7ff2be12eaa0>\n",
       "[\n",
       "  4,\n",
       "  5,\n",
       "  6\n",
       "]"
      ]
     },
     "execution_count": 31,
     "metadata": {},
     "output_type": "execute_result"
    }
   ],
   "source": [
    "arr.items"
   ]
  },
  {
   "cell_type": "code",
   "execution_count": 32,
   "metadata": {},
   "outputs": [
    {
     "data": {
      "text/plain": [
       "<pyarrow.lib.ListArray object at 0x7ff2be12f340>\n",
       "[\n",
       "  [\n",
       "    \"x\",\n",
       "    \"y\"\n",
       "  ],\n",
       "  [\n",
       "    \"z\"\n",
       "  ]\n",
       "]"
      ]
     },
     "execution_count": 32,
     "metadata": {},
     "output_type": "execute_result"
    }
   ],
   "source": [
    "pa.ListArray.from_arrays(arr.offsets, arr.keys)"
   ]
  },
  {
   "cell_type": "code",
   "execution_count": 33,
   "metadata": {},
   "outputs": [
    {
     "data": {
      "text/plain": [
       "<pyarrow.lib.ListArray object at 0x7ff2be12f5e0>\n",
       "[\n",
       "  [\n",
       "    4,\n",
       "    5\n",
       "  ],\n",
       "  [\n",
       "    6\n",
       "  ]\n",
       "]"
      ]
     },
     "execution_count": 33,
     "metadata": {},
     "output_type": "execute_result"
    }
   ],
   "source": [
    "pa.ListArray.from_arrays(arr.offsets, arr.items)"
   ]
  },
  {
   "cell_type": "markdown",
   "metadata": {},
   "source": [
    "### 联合数组\n",
    "\n",
    "联合类型表示嵌套数组类型，其中每个值可以是（且仅是）一组可能类型中的一个。联合数组有两种可能的存储类型：稀疏和密集。\n",
    "\n",
    "在稀疏联合数组中，每个子数组的长度与结果联合数组相同。它们与一个 `int8` 类型的“types”数组相连，该数组指示每个值必须从哪个子数组中选择："
   ]
  },
  {
   "cell_type": "code",
   "execution_count": 34,
   "metadata": {},
   "outputs": [
    {
     "data": {
      "text/plain": [
       "(SparseUnionType(sparse_union<0: int64=0, 1: bool=1>),\n",
       " <pyarrow.lib.UnionArray object at 0x7ff2be12eec0>\n",
       " -- is_valid: all not null\n",
       " -- type_ids:   [\n",
       "     0,\n",
       "     1,\n",
       "     1\n",
       "   ]\n",
       " -- child 0 type: int64\n",
       "   [\n",
       "     5,\n",
       "     6,\n",
       "     7\n",
       "   ]\n",
       " -- child 1 type: bool\n",
       "   [\n",
       "     false,\n",
       "     false,\n",
       "     true\n",
       "   ])"
      ]
     },
     "execution_count": 34,
     "metadata": {},
     "output_type": "execute_result"
    }
   ],
   "source": [
    "xs = pa.array([5, 6, 7])\n",
    "\n",
    "ys = pa.array([False, False, True])\n",
    "\n",
    "types = pa.array([0, 1, 1], type=pa.int8())\n",
    "\n",
    "union_arr = pa.UnionArray.from_sparse(types, [xs, ys])\n",
    "union_arr.type, union_arr"
   ]
  },
  {
   "cell_type": "markdown",
   "metadata": {},
   "source": [
    "在密集联合数组中，除了 `int8` 类型的“types”数组外，还需要传递 `int32` 类型的“offsets”数组，该数组指示每个值在选定的子数组中的每个偏移量处可以找到。"
   ]
  },
  {
   "cell_type": "code",
   "execution_count": 35,
   "metadata": {},
   "outputs": [
    {
     "data": {
      "text/plain": [
       "(DenseUnionType(dense_union<0: int64=0, 1: bool=1>),\n",
       " <pyarrow.lib.UnionArray object at 0x7ff2be12fac0>\n",
       " -- is_valid: all not null\n",
       " -- type_ids:   [\n",
       "     0,\n",
       "     1,\n",
       "     1,\n",
       "     0,\n",
       "     0\n",
       "   ]\n",
       " -- value_offsets:   [\n",
       "     0,\n",
       "     0,\n",
       "     1,\n",
       "     1,\n",
       "     2\n",
       "   ]\n",
       " -- child 0 type: int64\n",
       "   [\n",
       "     5,\n",
       "     6,\n",
       "     7\n",
       "   ]\n",
       " -- child 1 type: bool\n",
       "   [\n",
       "     false,\n",
       "     true\n",
       "   ])"
      ]
     },
     "execution_count": 35,
     "metadata": {},
     "output_type": "execute_result"
    }
   ],
   "source": [
    "xs = pa.array([5, 6, 7])\n",
    "\n",
    "ys = pa.array([False, True])\n",
    "\n",
    "types = pa.array([0, 1, 1, 0, 0], type=pa.int8())\n",
    "\n",
    "offsets = pa.array([0, 0, 1, 1, 2], type=pa.int32())\n",
    "\n",
    "union_arr = pa.UnionArray.from_dense(types, offsets, [xs, ys])\n",
    "\n",
    "union_arr.type, union_arr"
   ]
  },
  {
   "cell_type": "markdown",
   "metadata": {},
   "source": [
    "### 字典数组\n",
    "\n",
    "PyArrow 中的 Dictionary 类型是一种特殊类型的数组，类似于 R 中的因子或 `pandas.Categorical`。它允许一个或多个文件或流中的记录批次传输引用共享字典的整数索引，该字典包含逻辑数组中的独特值。这种方法特别常用于字符串以节省内存并提高性能。"
   ]
  },
  {
   "cell_type": "markdown",
   "metadata": {},
   "source": [
    "在 Apache Arrow 格式中处理字典的方式以及它们在 C++ 和 Python 中的呈现方式略有不同。我们定义了特殊的 {class}`~pyarrow.DictionaryArray` 类型和相应的字典类型。让我们考虑一个例子："
   ]
  },
  {
   "cell_type": "code",
   "execution_count": 37,
   "metadata": {},
   "outputs": [
    {
     "data": {
      "text/plain": [
       "<pyarrow.lib.DictionaryArray object at 0x7ff2c0a07df0>\n",
       "\n",
       "-- dictionary:\n",
       "  [\n",
       "    \"foo\",\n",
       "    \"bar\",\n",
       "    \"baz\"\n",
       "  ]\n",
       "-- indices:\n",
       "  [\n",
       "    0,\n",
       "    1,\n",
       "    0,\n",
       "    1,\n",
       "    2,\n",
       "    0,\n",
       "    null,\n",
       "    2\n",
       "  ]"
      ]
     },
     "execution_count": 37,
     "metadata": {},
     "output_type": "execute_result"
    }
   ],
   "source": [
    "indices = pa.array([0, 1, 0, 1, 2, 0, None, 2])\n",
    "\n",
    "dictionary = pa.array(['foo', 'bar', 'baz'])\n",
    "\n",
    "dict_array = pa.DictionaryArray.from_arrays(indices, dictionary)\n",
    "\n",
    "dict_array"
   ]
  },
  {
   "cell_type": "code",
   "execution_count": 43,
   "metadata": {},
   "outputs": [
    {
     "data": {
      "text/plain": [
       "<pyarrow.lib.Int64Array object at 0x7ff2bdfac3a0>\n",
       "[\n",
       "  0,\n",
       "  1,\n",
       "  0,\n",
       "  1,\n",
       "  2,\n",
       "  0,\n",
       "  null,\n",
       "  2\n",
       "]"
      ]
     },
     "execution_count": 43,
     "metadata": {},
     "output_type": "execute_result"
    }
   ],
   "source": [
    "dict_array.indices"
   ]
  },
  {
   "cell_type": "code",
   "execution_count": 42,
   "metadata": {},
   "outputs": [
    {
     "name": "stdout",
     "output_type": "stream",
     "text": [
      "dictionary<values=string, indices=int64, ordered=0>\n"
     ]
    },
    {
     "data": {
      "text/plain": [
       "<pyarrow.lib.StringArray object at 0x7ff2be12f580>\n",
       "[\n",
       "  \"foo\",\n",
       "  \"bar\",\n",
       "  \"baz\"\n",
       "]"
      ]
     },
     "execution_count": 42,
     "metadata": {},
     "output_type": "execute_result"
    }
   ],
   "source": [
    "print(dict_array.type)\n",
    "dict_array.dictionary"
   ]
  },
  {
   "cell_type": "markdown",
   "metadata": {},
   "source": [
    "当在 `pandas` 中使用 `DictionaryArray` 时，对应的是 `pandas.Categorical`。"
   ]
  },
  {
   "cell_type": "code",
   "execution_count": 44,
   "metadata": {},
   "outputs": [
    {
     "data": {
      "text/plain": [
       "0    foo\n",
       "1    bar\n",
       "2    foo\n",
       "3    bar\n",
       "4    baz\n",
       "5    foo\n",
       "6    NaN\n",
       "7    baz\n",
       "dtype: category\n",
       "Categories (3, object): ['foo', 'bar', 'baz']"
      ]
     },
     "execution_count": 44,
     "metadata": {},
     "output_type": "execute_result"
    }
   ],
   "source": [
    "dict_array.to_pandas()"
   ]
  },
  {
   "cell_type": "markdown",
   "metadata": {},
   "source": [
    "## 记录批次\n",
    "\n",
    "在 Apache Arrow 中，记录批次(Record Batch)是一组等长的数组实例。让我们考虑数组集合："
   ]
  },
  {
   "cell_type": "code",
   "execution_count": 45,
   "metadata": {},
   "outputs": [],
   "source": [
    "data = [\n",
    "    pa.array([1, 2, 3, 4]),\n",
    "    pa.array(['foo', 'bar', 'baz', None]),\n",
    "    pa.array([True, None, False, True])\n",
    "]"
   ]
  },
  {
   "cell_type": "markdown",
   "metadata": {},
   "source": [
    "可以使用 `RecordBatch.from_arrays` 从数组列表创建记录批次。"
   ]
  },
  {
   "cell_type": "code",
   "execution_count": 46,
   "metadata": {},
   "outputs": [],
   "source": [
    "batch = pa.RecordBatch.from_arrays(data, ['f0', 'f1', 'f2'])"
   ]
  },
  {
   "cell_type": "code",
   "execution_count": 47,
   "metadata": {},
   "outputs": [
    {
     "data": {
      "text/plain": [
       "(3, 4)"
      ]
     },
     "execution_count": 47,
     "metadata": {},
     "output_type": "execute_result"
    }
   ],
   "source": [
    "batch.num_columns, batch.num_rows"
   ]
  },
  {
   "cell_type": "code",
   "execution_count": 48,
   "metadata": {},
   "outputs": [
    {
     "data": {
      "text/plain": [
       "f0: int64\n",
       "f1: string\n",
       "f2: bool"
      ]
     },
     "execution_count": 48,
     "metadata": {},
     "output_type": "execute_result"
    }
   ],
   "source": [
    "batch.schema"
   ]
  },
  {
   "cell_type": "code",
   "execution_count": 49,
   "metadata": {},
   "outputs": [
    {
     "data": {
      "text/plain": [
       "<pyarrow.lib.StringArray object at 0x7ff2be12f220>\n",
       "[\n",
       "  \"foo\",\n",
       "  \"bar\",\n",
       "  \"baz\",\n",
       "  null\n",
       "]"
      ]
     },
     "execution_count": 49,
     "metadata": {},
     "output_type": "execute_result"
    }
   ],
   "source": [
    "batch[1]"
   ]
  },
  {
   "cell_type": "markdown",
   "metadata": {},
   "source": [
    "记录批次可以像数组一样进行切片，而无需复制内存。"
   ]
  },
  {
   "cell_type": "code",
   "execution_count": 50,
   "metadata": {},
   "outputs": [
    {
     "data": {
      "text/plain": [
       "<pyarrow.lib.StringArray object at 0x7ff2bdfad4e0>\n",
       "[\n",
       "  \"bar\",\n",
       "  \"baz\",\n",
       "  null\n",
       "]"
      ]
     },
     "execution_count": 50,
     "metadata": {},
     "output_type": "execute_result"
    }
   ],
   "source": [
    "batch2 = batch.slice(1, 3)\n",
    "\n",
    "batch2[1]"
   ]
  },
  {
   "cell_type": "markdown",
   "metadata": {},
   "source": [
    "## PyArrow 表格\n",
    "\n",
    "PyArrow {class}`~pyarrow.Table` 类型不是 Apache Arrow 规范的一部分，而是一个工具，用于帮助处理多个记录批次和数组片段作为单个逻辑数据集。例如，我们可能需要从套接字流中接收多个小记录批次，然后将它们连接成连续的内存以供 NumPy 或 pandas 使用。Table 对象可以在不要求额外内存复制的情况下实现这一点。\n",
    "\n",
    "考虑上面创建的记录批次，我们可以使用 `Table.from_batches` 创建一个包含一个或多个批次副本的表："
   ]
  },
  {
   "cell_type": "code",
   "execution_count": 51,
   "metadata": {},
   "outputs": [
    {
     "data": {
      "text/plain": [
       "(20,\n",
       " pyarrow.Table\n",
       " f0: int64\n",
       " f1: string\n",
       " f2: bool\n",
       " ----\n",
       " f0: [[1,2,3,4],[1,2,3,4],...,[1,2,3,4],[1,2,3,4]]\n",
       " f1: [[\"foo\",\"bar\",\"baz\",null],[\"foo\",\"bar\",\"baz\",null],...,[\"foo\",\"bar\",\"baz\",null],[\"foo\",\"bar\",\"baz\",null]]\n",
       " f2: [[true,null,false,true],[true,null,false,true],...,[true,null,false,true],[true,null,false,true]])"
      ]
     },
     "execution_count": 51,
     "metadata": {},
     "output_type": "execute_result"
    }
   ],
   "source": [
    "batches = [batch] * 5\n",
    "\n",
    "table = pa.Table.from_batches(batches)\n",
    "\n",
    "table.num_rows, table"
   ]
  },
  {
   "cell_type": "markdown",
   "metadata": {},
   "source": [
    "表格的列是 {class}`~pyarrow.ChunkedArray` 的实例，它是相同类型的一个或多个数组的容器。"
   ]
  },
  {
   "cell_type": "code",
   "execution_count": 53,
   "metadata": {},
   "outputs": [
    {
     "data": {
      "text/plain": [
       "<pyarrow.lib.ChunkedArray object at 0x7ff2bdfa7600>\n",
       "[\n",
       "  [\n",
       "    1,\n",
       "    2,\n",
       "    3,\n",
       "    4\n",
       "  ],\n",
       "  [\n",
       "    1,\n",
       "    2,\n",
       "    3,\n",
       "    4\n",
       "  ],\n",
       "...,\n",
       "  [\n",
       "    1,\n",
       "    2,\n",
       "    3,\n",
       "    4\n",
       "  ],\n",
       "  [\n",
       "    1,\n",
       "    2,\n",
       "    3,\n",
       "    4\n",
       "  ]\n",
       "]"
      ]
     },
     "execution_count": 53,
     "metadata": {},
     "output_type": "execute_result"
    }
   ],
   "source": [
    "c = table[0]\n",
    "\n",
    "c"
   ]
  },
  {
   "cell_type": "code",
   "execution_count": 55,
   "metadata": {},
   "outputs": [
    {
     "data": {
      "text/plain": [
       "(5,\n",
       " <pyarrow.lib.Int64Array object at 0x7ff2bdfad540>\n",
       " [\n",
       "   1,\n",
       "   2,\n",
       "   3,\n",
       "   4\n",
       " ])"
      ]
     },
     "execution_count": 55,
     "metadata": {},
     "output_type": "execute_result"
    }
   ],
   "source": [
    "c.num_chunks, c.chunk(0)"
   ]
  },
  {
   "cell_type": "markdown",
   "metadata": {},
   "source": [
    "正如您将在 [`pandas` 部分](https://arrow.apache.org/docs/python/pandas.html#pandas-interop) 看到的，我们可以将这些对象转换为连续的 NumPy 数组以供 `pandas` 使用："
   ]
  },
  {
   "cell_type": "code",
   "execution_count": 56,
   "metadata": {},
   "outputs": [
    {
     "data": {
      "text/plain": [
       "0     1\n",
       "1     2\n",
       "2     3\n",
       "3     4\n",
       "4     1\n",
       "5     2\n",
       "6     3\n",
       "7     4\n",
       "8     1\n",
       "9     2\n",
       "10    3\n",
       "11    4\n",
       "12    1\n",
       "13    2\n",
       "14    3\n",
       "15    4\n",
       "16    1\n",
       "17    2\n",
       "18    3\n",
       "19    4\n",
       "Name: f0, dtype: int64"
      ]
     },
     "execution_count": 56,
     "metadata": {},
     "output_type": "execute_result"
    }
   ],
   "source": [
    "c.to_pandas()"
   ]
  },
  {
   "cell_type": "markdown",
   "metadata": {},
   "source": [
    "如果模式相等，还可以使用 {func}`pyarrow.concat_tables` 将多个表连接在一起以形成单个表。"
   ]
  },
  {
   "cell_type": "code",
   "execution_count": 57,
   "metadata": {},
   "outputs": [
    {
     "name": "stdout",
     "output_type": "stream",
     "text": [
      "40\n"
     ]
    },
    {
     "data": {
      "text/plain": [
       "10"
      ]
     },
     "execution_count": 57,
     "metadata": {},
     "output_type": "execute_result"
    }
   ],
   "source": [
    "tables = [table] * 2\n",
    "\n",
    "table_all = pa.concat_tables(tables)\n",
    "\n",
    "print(table_all.num_rows)\n",
    "\n",
    "c = table_all[0]\n",
    "\n",
    "c.num_chunks"
   ]
  },
  {
   "cell_type": "markdown",
   "metadata": {},
   "source": [
    "这个函数类似于 `Table.from_batches`，但是它使用表作为输入而不是记录批次。记录批次可以转换为表，但反过来不行，所以如果你的数据已经是表的形式，那么使用 {func}`~pyarrow.concat_tables`。"
   ]
  },
  {
   "cell_type": "markdown",
   "metadata": {},
   "source": [
    "## 自定义 Schema 和字段元数据\n",
    "\n",
    "Arrow 支持模式级别和字段级别的自定义键值元数据，允许系统插入自己的应用程序定义的元数据以自定义行为。\n",
    "\n",
    "可以在 {data}`pyarrow.Schema.metadata` 中访问模式级别的自定义元数据，在 {data}`pyarrow.Field.metadata` 中访问字段级别的自定义元数据。"
   ]
  },
  {
   "cell_type": "markdown",
   "metadata": {},
   "source": [
    "请注意，这种元数据在[流式处理、序列化和进程间通信（IPC）过程](ipc)中得以保留。\n",
    "\n",
    "要自定义现有表的模式元数据，可以使用 {meth}`pyarrow.Table.replace_schema_metadata` 方法："
   ]
  },
  {
   "cell_type": "code",
   "execution_count": 58,
   "metadata": {},
   "outputs": [
    {
     "data": {
      "text/plain": [
       "{b'f0': b'First dose'}"
      ]
     },
     "execution_count": 58,
     "metadata": {},
     "output_type": "execute_result"
    }
   ],
   "source": [
    "table.schema.metadata # empty\n",
    "\n",
    "table = table.replace_schema_metadata({\"f0\": \"First dose\"})\n",
    "\n",
    "table.schema.metadata"
   ]
  },
  {
   "cell_type": "markdown",
   "metadata": {},
   "source": [
    "要自定义表模式中字段的元数据，可以使用 {meth}`pyarrow.Field.with_metadata` 方法。"
   ]
  },
  {
   "cell_type": "code",
   "execution_count": 59,
   "metadata": {},
   "outputs": [
    {
     "data": {
      "text/plain": [
       "{b'f1': b'Second dose'}"
      ]
     },
     "execution_count": 59,
     "metadata": {},
     "output_type": "execute_result"
    }
   ],
   "source": [
    "field_f1 = table.schema.field(\"f1\")\n",
    "\n",
    "field_f1.metadata # empty\n",
    "\n",
    "field_f1 = field_f1.with_metadata({\"f1\": \"Second dose\"})\n",
    "\n",
    "field_f1.metadata"
   ]
  },
  {
   "cell_type": "markdown",
   "metadata": {},
   "source": [
    "这两种选项都会创建数据的浅拷贝，并且实际上不会改变不可变的 Schema。要更改表的 Schema 中的元数据，我们在调用 {meth}`pyarrow.Table.replace_schema_metadata` 时会创建一个新对象。\n",
    "\n",
    "要更改模式中字段的元数据，我们需要定义一个新模式，并将数据转换为这个新模式："
   ]
  },
  {
   "cell_type": "code",
   "execution_count": 60,
   "metadata": {},
   "outputs": [
    {
     "data": {
      "text/plain": [
       "{b'name': b'First dose'}"
      ]
     },
     "execution_count": 60,
     "metadata": {},
     "output_type": "execute_result"
    }
   ],
   "source": [
    "my_schema2 = pa.schema([\n",
    "   pa.field('f0', pa.int64(), metadata={\"name\": \"First dose\"}),\n",
    "   pa.field('f1', pa.string(), metadata={\"name\": \"Second dose\"}),\n",
    "   pa.field('f2', pa.bool_())],\n",
    "   metadata={\"f2\": \"booster\"})\n",
    "t2 = table.cast(my_schema2)\n",
    "\n",
    "t2.schema.field(\"f0\").metadata"
   ]
  },
  {
   "cell_type": "code",
   "execution_count": 61,
   "metadata": {},
   "outputs": [
    {
     "data": {
      "text/plain": [
       "{b'name': b'Second dose'}"
      ]
     },
     "execution_count": 61,
     "metadata": {},
     "output_type": "execute_result"
    }
   ],
   "source": [
    "t2.schema.field(\"f1\").metadata"
   ]
  },
  {
   "cell_type": "code",
   "execution_count": 62,
   "metadata": {},
   "outputs": [
    {
     "data": {
      "text/plain": [
       "{b'f2': b'booster'}"
      ]
     },
     "execution_count": 62,
     "metadata": {},
     "output_type": "execute_result"
    }
   ],
   "source": [
    "t2.schema.metadata"
   ]
  },
  {
   "cell_type": "markdown",
   "metadata": {},
   "source": [
    "元数据键值对在 C++ 实现中是 `std::string` 对象，而在 Python 中则是字节对象（`b'...'`）。"
   ]
  },
  {
   "cell_type": "markdown",
   "metadata": {},
   "source": [
    "## 记录批次读取器\n",
    "\n",
    "PyArrow 中的许多函数要么返回要么接受 {class}`pyarrow.RecordBatchReader` 作为参数。它可以像任何记录批次的可迭代对象一样使用，但在获取任何批次之前还提供了它们共同的模式。"
   ]
  },
  {
   "cell_type": "code",
   "execution_count": 63,
   "metadata": {},
   "outputs": [
    {
     "name": "stdout",
     "output_type": "stream",
     "text": [
      "x: int64\n"
     ]
    }
   ],
   "source": [
    "schema = pa.schema([('x', pa.int64())])\n",
    "def iter_record_batches():\n",
    "   for i in range(2):\n",
    "      yield pa.RecordBatch.from_arrays([pa.array([1, 2, 3])], schema=schema)\n",
    "reader = pa.RecordBatchReader.from_batches(schema, iter_record_batches())\n",
    "print(reader.schema)"
   ]
  },
  {
   "cell_type": "code",
   "execution_count": 64,
   "metadata": {},
   "outputs": [
    {
     "name": "stdout",
     "output_type": "stream",
     "text": [
      "pyarrow.RecordBatch\n",
      "x: int64\n",
      "----\n",
      "x: [1,2,3]\n",
      "pyarrow.RecordBatch\n",
      "x: int64\n",
      "----\n",
      "x: [1,2,3]\n"
     ]
    }
   ],
   "source": [
    "for batch in reader:\n",
    "   print(batch)"
   ]
  },
  {
   "cell_type": "markdown",
   "metadata": {},
   "source": [
    "它还可以使用 [C 流接口](https://arrow.apache.org/docs/format/CStreamInterface.html#c-stream-interface)在语言之间发送。\n"
   ]
  }
 ],
 "metadata": {
  "kernelspec": {
   "display_name": "xin",
   "language": "python",
   "name": "python3"
  },
  "language_info": {
   "codemirror_mode": {
    "name": "ipython",
    "version": 3
   },
   "file_extension": ".py",
   "mimetype": "text/x-python",
   "name": "python",
   "nbconvert_exporter": "python",
   "pygments_lexer": "ipython3",
   "version": "3.12.2"
  }
 },
 "nbformat": 4,
 "nbformat_minor": 2
}
