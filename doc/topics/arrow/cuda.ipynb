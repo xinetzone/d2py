{
 "cells": [
  {
   "cell_type": "markdown",
   "metadata": {},
   "source": [
    "# CUDA 集成\n",
    "\n",
    "参考：[CUDA集成](https://arrow.apache.org/docs/python/integration/cuda.html)\n",
    "\n",
    "Arrow 不仅限于 CPU 缓冲区（位于计算机的主内存中，也称为“主机内存”）。它还提供了访问位于支持 CUDA 的 GPU 设备上的缓冲区的机制（在“设备内存”中）。\n",
    "\n",
    "## CUDA上下文\n",
    "CUDA上下文代表了对特定支持CUDA的设备的访问。例如，这是创建一个访问CUDA设备编号 `0` 的CUDA上下文："
   ]
  },
  {
   "cell_type": "code",
   "execution_count": null,
   "metadata": {},
   "outputs": [],
   "source": []
  }
 ],
 "metadata": {
  "kernelspec": {
   "display_name": "xin",
   "language": "python",
   "name": "python3"
  },
  "language_info": {
   "codemirror_mode": {
    "name": "ipython",
    "version": 3
   },
   "file_extension": ".py",
   "mimetype": "text/x-python",
   "name": "python",
   "nbconvert_exporter": "python",
   "pygments_lexer": "ipython3",
   "version": "3.12.2"
  }
 },
 "nbformat": 4,
 "nbformat_minor": 2
}
