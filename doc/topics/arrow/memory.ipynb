{
 "cells": [
  {
   "cell_type": "markdown",
   "metadata": {},
   "source": [
    "# 内存和 IO 接口\n",
    "\n",
    "本节将向您介绍 PyArrow 内存管理和 IO 系统中的主要概念：\n",
    "\n",
    "- 缓冲区\n",
    "- 内存池\n",
    "- 类文件和流式对象"
   ]
  },
  {
   "cell_type": "markdown",
   "metadata": {},
   "source": [
    "## 引用和分配内存\n",
    "\n",
    "### {class}`pyarrow.Buffer`\n",
    "\n",
    "{class}`~pyarrow.Buffer` 对象封装了 C++ 的 {cpp:class}`arrow::Buffer` 类型，这是 Apache Arrow 在 C++ 中进行内存管理的主要工具。它允许更高级别的数组类安全地与它们可能拥有或可能不拥有的内存进行交互。{cpp:class}`arrow::Buffer` 可以进行零拷贝切片，以允许 Buffers 廉价地引用其他 Buffers，同时保持内存生命周期和清晰的父子关系。"
   ]
  },
  {
   "cell_type": "markdown",
   "metadata": {},
   "source": [
    "{cpp:class}`arrow::Buffer` 有许多实现，但它们都提供了标准接口：数据指针和长度。这与 Python 的内置缓冲区协议和 {class}`memoryview` 对象类似。\n",
    "\n",
    "可以通过调用 {func}`~pyarrow.py_buffer` 函数从任何实现了缓冲区协议的 Python 对象创建 {class}`~pyarrow.Buffer`。\n",
    "\n",
    "考虑字节对象："
   ]
  },
  {
   "cell_type": "code",
   "execution_count": 1,
   "metadata": {},
   "outputs": [
    {
     "data": {
      "text/plain": [
       "(26,\n",
       " <pyarrow.Buffer address=0x7f2eb4158d10 size=26 is_cpu=True is_mutable=False>)"
      ]
     },
     "execution_count": 1,
     "metadata": {},
     "output_type": "execute_result"
    }
   ],
   "source": [
    "import pyarrow as pa\n",
    "\n",
    "data = b'abcdefghijklmnopqrstuvwxyz'\n",
    "\n",
    "buf = pa.py_buffer(data)\n",
    "\n",
    "buf.size, buf"
   ]
  },
  {
   "cell_type": "markdown",
   "metadata": {},
   "source": [
    "以这种方式创建 {class}`~pyarrow.Buffer` 不会分配任何内存；它是对从数据字节对象导出的内存的零拷贝视图。\n",
    "\n",
    "外部内存，以原始指针和大小的形式，也可以使用 {class}`~pyarrow.foreign_buffer` 函数进行引用。\n",
    "\n",
    "在需要 Python 缓冲区或 {class}`memoryview` 的情况下，可以使用 Buffers，并且这种转换是零拷贝的："
   ]
  },
  {
   "cell_type": "code",
   "execution_count": 2,
   "metadata": {},
   "outputs": [
    {
     "data": {
      "text/plain": [
       "<memory at 0x7f2e8c053700>"
      ]
     },
     "execution_count": 2,
     "metadata": {},
     "output_type": "execute_result"
    }
   ],
   "source": [
    "memoryview(buf)"
   ]
  },
  {
   "cell_type": "markdown",
   "metadata": {},
   "source": [
    "{class}`~pyarrow.Buffer` 的 {meth}`~pyarrow.Buffer.to_pybytes` 方法将 {class}`~pyarrow.Buffer` 的数据转换为 Python 字节字符串（因此会复制数据）："
   ]
  },
  {
   "cell_type": "code",
   "execution_count": 3,
   "metadata": {},
   "outputs": [
    {
     "data": {
      "text/plain": [
       "b'abcdefghijklmnopqrstuvwxyz'"
      ]
     },
     "execution_count": 3,
     "metadata": {},
     "output_type": "execute_result"
    }
   ],
   "source": [
    "buf.to_pybytes()"
   ]
  },
  {
   "cell_type": "markdown",
   "metadata": {},
   "source": [
    "### 内存池\n",
    "所有内存分配和释放（如 C 中的 `malloc` 和 `free`）都在 {class}`pyarrow.MemoryPool` 的一个实例中进行跟踪。这意味着我们可以精确地跟踪已分配的内存量："
   ]
  },
  {
   "cell_type": "code",
   "execution_count": 4,
   "metadata": {},
   "outputs": [
    {
     "data": {
      "text/plain": [
       "0"
      ]
     },
     "execution_count": 4,
     "metadata": {},
     "output_type": "execute_result"
    }
   ],
   "source": [
    "pa.total_allocated_bytes()"
   ]
  },
  {
   "cell_type": "markdown",
   "metadata": {},
   "source": [
    "从默认池分配一个可调整大小的 {class}`pyarrow.Buffer`："
   ]
  },
  {
   "cell_type": "code",
   "execution_count": 5,
   "metadata": {},
   "outputs": [
    {
     "data": {
      "text/plain": [
       "1024"
      ]
     },
     "execution_count": 5,
     "metadata": {},
     "output_type": "execute_result"
    }
   ],
   "source": [
    "buf = pa.allocate_buffer(1024, resizable=True)\n",
    "pa.total_allocated_bytes()"
   ]
  },
  {
   "cell_type": "code",
   "execution_count": 6,
   "metadata": {},
   "outputs": [
    {
     "data": {
      "text/plain": [
       "2048"
      ]
     },
     "execution_count": 6,
     "metadata": {},
     "output_type": "execute_result"
    }
   ],
   "source": [
    "buf.resize(2048)\n",
    "\n",
    "pa.total_allocated_bytes()"
   ]
  },
  {
   "cell_type": "markdown",
   "metadata": {},
   "source": [
    "默认分配器以最小 64 字节的增量请求内存。如果缓冲区被垃圾回收，所有内存都会被释放："
   ]
  },
  {
   "cell_type": "code",
   "execution_count": 7,
   "metadata": {},
   "outputs": [
    {
     "data": {
      "text/plain": [
       "0"
      ]
     },
     "execution_count": 7,
     "metadata": {},
     "output_type": "execute_result"
    }
   ],
   "source": [
    "buf = None\n",
    "\n",
    "pa.total_allocated_bytes()"
   ]
  },
  {
   "cell_type": "markdown",
   "metadata": {},
   "source": [
    "除了默认的内置内存池外，根据 Arrow 是如何构建的，还可以选择其他内存池（如 [mimalloc](https://github.com/microsoft/mimalloc)）。可以获取内存池的后端名称："
   ]
  },
  {
   "cell_type": "code",
   "execution_count": 8,
   "metadata": {},
   "outputs": [
    {
     "data": {
      "text/plain": [
       "'jemalloc'"
      ]
     },
     "execution_count": 8,
     "metadata": {},
     "output_type": "execute_result"
    }
   ],
   "source": [
    "pa.default_memory_pool().backend_name"
   ]
  },
  {
   "cell_type": "markdown",
   "metadata": {},
   "source": [
    "````{seealso}\n",
    "- [内存池文档](https://arrow.apache.org/docs/python/api/memory.html#api-memory-pool)\n",
    "````"
   ]
  },
  {
   "cell_type": "markdown",
   "metadata": {},
   "source": [
    "## 输入和输出\n",
    "\n",
    "Arrow C++ 库为不同种类的 IO 对象提供了几个抽象接口：\n",
    "\n",
    "- 只读流\n",
    "- 支持随机访问的只读文件\n",
    "- 只写流\n",
    "- 支持随机访问的只写文件\n",
    "- 支持读写和随机访问的文件"
   ]
  },
  {
   "cell_type": "markdown",
   "metadata": {},
   "source": [
    "为了使得这些对象的行为更像 Python 的内置 `file` 对象，我们定义了 {class}`~pyarrow.NativeFile` 基类，它实现了与常规 Python 文件对象相同的 API。\n",
    "\n",
    "{class}`~pyarrow.NativeFile` 具有一些重要特性，这使得在可能的情况下，使用它比使用 Python `file` 与 PyArrow 更为可取：\n",
    "- 其他 Arrow 类可以原生地访问内部 C++ IO 对象，无需获取 Python GIL\n",
    "- Native C++ IO 可能能够进行零拷贝 IO，例如使用内存映射"
   ]
  },
  {
   "cell_type": "markdown",
   "metadata": {},
   "source": [
    "有多种 {class}`~pyarrow.NativeFile` 选项可供选择：\n",
    "\n",
    "- {class}`~pyarrow.OSFile`：一种使用操作系统文件描述符的原生文件\n",
    "- {class}`~pyarrow.MemoryMappedFile`：用于读取（零拷贝）和通过内存映射写入\n",
    "- {class}`~pyarrow.BufferReader`：用于将 Buffer 对象作为文件读取\n",
    "- {class}`~pyarrow.BufferOutputStream`：用于在内存中写入数据，最后生成 Buffer\n",
    "- {class}`~pyarrow.FixedSizeBufferWriter`：用于将数据写入已分配的 Buffer\n",
    "- {class}`~pyarrow.HdfsFile`：用于从 Hadoop 文件系统读写数据\n",
    "- {class}`~pyarrow.PythonFile`：用于在 C++ 中与 Python 文件对象进行接口\n",
    "- {class}`~pyarrow.CompressedInputStream` 和 {class}`~pyarrow.CompressedOutputStream`：用于实时压缩或解压缩到/来自另一个流\n",
    "\n",
    "还有一些高级 API，使得实例化常见类型的流更加容易。"
   ]
  },
  {
   "cell_type": "markdown",
   "metadata": {},
   "source": [
    "### 高级 API\n",
    "\n",
    "#### 输入流\n",
    "\n",
    "{func}`~pyarrow.input_stream` 函数允许从各种来源创建可读的 {class}`~pyarrow.NativeFile`。\n",
    "\n",
    "- 如果传入 {class}`~pyarrow.Buffer` 或 {class}`memoryview` 对象，将返回 {class}`~pyarrow.BufferReader`："
   ]
  },
  {
   "cell_type": "code",
   "execution_count": 9,
   "metadata": {},
   "outputs": [
    {
     "data": {
      "text/plain": [
       "b'some'"
      ]
     },
     "execution_count": 9,
     "metadata": {},
     "output_type": "execute_result"
    }
   ],
   "source": [
    "buf = memoryview(b\"some data\")\n",
    "\n",
    "stream = pa.input_stream(buf)\n",
    "\n",
    "stream.read(4)"
   ]
  },
  {
   "cell_type": "markdown",
   "metadata": {},
   "source": [
    "- 如果传入字符串或文件路径，它将打开给定的文件进行读取，创建 {class}`~pyarrow.OSFile`。可选地，文件可以是压缩的：如果其文件名以诸如 `.gz` 这样的可识别扩展名结尾，其内容将在读取时自动解压缩。"
   ]
  },
  {
   "cell_type": "code",
   "execution_count": 10,
   "metadata": {},
   "outputs": [
    {
     "data": {
      "text/plain": [
       "b'some data\\nsome data\\nsome data\\n'"
      ]
     },
     "execution_count": 10,
     "metadata": {},
     "output_type": "execute_result"
    }
   ],
   "source": [
    "import gzip\n",
    "\n",
    "with gzip.open('example.gz', 'wb') as f:\n",
    "    f.write(b'some data\\n' * 3)\n",
    "stream = pa.input_stream('example.gz')\n",
    "stream.read()"
   ]
  },
  {
   "cell_type": "markdown",
   "metadata": {},
   "source": [
    "- 如果传入 Python 文件对象，它将被包装在 {class}`~pyarrow.PythonFile` 中，以便 Arrow C++ 库可以从中读取数据（这会带来一些开销）。"
   ]
  },
  {
   "cell_type": "markdown",
   "metadata": {},
   "source": [
    "#### 输出流\n",
    "\n",
    "{func}`~pyarrow.output_stream` 是用于输出流的等效函数，允许创建可写的 {class}`~pyarrow.NativeFile`。它具有与上述 {func}`~pyarrow.input_stream` 相同的特性，例如能够写入缓冲区或进行实时压缩。"
   ]
  },
  {
   "cell_type": "code",
   "execution_count": 11,
   "metadata": {},
   "outputs": [
    {
     "data": {
      "text/plain": [
       "b'some data'"
      ]
     },
     "execution_count": 11,
     "metadata": {},
     "output_type": "execute_result"
    }
   ],
   "source": [
    "with pa.output_stream('example1.dat') as stream:\n",
    "    stream.write(b'some data')\n",
    "\n",
    "\n",
    "f = open('example1.dat', 'rb')\n",
    "\n",
    "f.read()"
   ]
  },
  {
   "cell_type": "markdown",
   "metadata": {},
   "source": [
    "### 磁盘上的文件和内存映射文件\n",
    "\n",
    "PyArrow 包括两种与磁盘上的数据交互的方式：标准操作系统级别的文件API，以及内存映射文件。在常规Python中，我们可以编写："
   ]
  },
  {
   "cell_type": "code",
   "execution_count": 12,
   "metadata": {},
   "outputs": [],
   "source": [
    "with open('example2.dat', 'wb') as f:\n",
    "    f.write(b'some example data')"
   ]
  },
  {
   "cell_type": "markdown",
   "metadata": {},
   "source": [
    "使用 {class}`pyarrow.OSFile` 类，你可以编写："
   ]
  },
  {
   "cell_type": "code",
   "execution_count": 13,
   "metadata": {},
   "outputs": [],
   "source": [
    "with pa.OSFile('example3.dat', 'wb') as f:\n",
    "    f.write(b'some example data')"
   ]
  },
  {
   "cell_type": "markdown",
   "metadata": {},
   "source": [
    "对于读取文件，你可以使用 {class}`pyarrow.OSFile` 或 {class}`pyarrow.MemoryMappedFile`。它们之间的区别在于，{class}`pyarrow.OSFile` 在每次读取时都会分配新的内存，就像 Python 文件对象一样。在从 {class}`pyarrow.MemoryMappedFile` 中读取时，库会构造引用映射内存的缓冲区，而不进行任何内存分配或复制："
   ]
  },
  {
   "cell_type": "code",
   "execution_count": 14,
   "metadata": {},
   "outputs": [
    {
     "data": {
      "text/plain": [
       "b'some'"
      ]
     },
     "execution_count": 14,
     "metadata": {},
     "output_type": "execute_result"
    }
   ],
   "source": [
    "file_obj = pa.OSFile('example2.dat')\n",
    "\n",
    "mmap = pa.memory_map('example3.dat')\n",
    "\n",
    "file_obj.read(4)"
   ]
  },
  {
   "cell_type": "code",
   "execution_count": 15,
   "metadata": {},
   "outputs": [
    {
     "data": {
      "text/plain": [
       "b'some'"
      ]
     },
     "execution_count": 15,
     "metadata": {},
     "output_type": "execute_result"
    }
   ],
   "source": [
    "mmap.read(4)"
   ]
  },
  {
   "cell_type": "markdown",
   "metadata": {},
   "source": [
    "`read` 方法实现了标准的 Python `file` 读取 API。要读取到 Arrow Buffer 对象中，使用 `read_buffer`："
   ]
  },
  {
   "cell_type": "code",
   "execution_count": 16,
   "metadata": {},
   "outputs": [
    {
     "data": {
      "text/plain": [
       "0"
      ]
     },
     "execution_count": 16,
     "metadata": {},
     "output_type": "execute_result"
    }
   ],
   "source": [
    "mmap.seek(0)"
   ]
  },
  {
   "cell_type": "code",
   "execution_count": 17,
   "metadata": {},
   "outputs": [
    {
     "name": "stdout",
     "output_type": "stream",
     "text": [
      "<pyarrow.Buffer address=0x7f2eba7f6000 size=4 is_cpu=True is_mutable=False>\n"
     ]
    },
    {
     "data": {
      "text/plain": [
       "b'some'"
      ]
     },
     "execution_count": 17,
     "metadata": {},
     "output_type": "execute_result"
    }
   ],
   "source": [
    "buf = mmap.read_buffer(4)\n",
    "\n",
    "print(buf)\n",
    "\n",
    "buf.to_pybytes()"
   ]
  },
  {
   "cell_type": "markdown",
   "metadata": {},
   "source": [
    "PyArrow 中的许多工具，特别是 Apache Parquet 接口以及文件和流消息工具，在使用这些 `NativeFile` 类型时比使用常规 Python 文件对象更高效。"
   ]
  },
  {
   "cell_type": "markdown",
   "metadata": {},
   "source": [
    "### 内存中读写\n",
    "为了帮助内存数据的序列化和反序列化，我们提供了可以读写 Arrow Buffers 的文件接口。"
   ]
  },
  {
   "cell_type": "code",
   "execution_count": 18,
   "metadata": {},
   "outputs": [
    {
     "name": "stdout",
     "output_type": "stream",
     "text": [
      "<pyarrow.Buffer address=0x7f2ea4210000 size=14 is_cpu=True is_mutable=True>\n",
      "14\n"
     ]
    }
   ],
   "source": [
    "writer = pa.BufferOutputStream()\n",
    "\n",
    "writer.write(b'hello, friends')\n",
    "\n",
    "buf = writer.getvalue()\n",
    "\n",
    "print(buf)\n",
    "\n",
    "print(buf.size)\n",
    "\n",
    "reader = pa.BufferReader(buf)"
   ]
  },
  {
   "cell_type": "code",
   "execution_count": 19,
   "metadata": {},
   "outputs": [
    {
     "data": {
      "text/plain": [
       "7"
      ]
     },
     "execution_count": 19,
     "metadata": {},
     "output_type": "execute_result"
    }
   ],
   "source": [
    "reader.seek(7)"
   ]
  },
  {
   "cell_type": "code",
   "execution_count": 20,
   "metadata": {},
   "outputs": [
    {
     "data": {
      "text/plain": [
       "b'friends'"
      ]
     },
     "execution_count": 20,
     "metadata": {},
     "output_type": "execute_result"
    }
   ],
   "source": [
    "reader.read(7)"
   ]
  },
  {
   "cell_type": "markdown",
   "metadata": {},
   "source": [
    "这些接口与 Python 内置的 {class}`io.BytesIO` 具有相似的语义。"
   ]
  }
 ],
 "metadata": {
  "kernelspec": {
   "display_name": "xin",
   "language": "python",
   "name": "python3"
  },
  "language_info": {
   "codemirror_mode": {
    "name": "ipython",
    "version": 3
   },
   "file_extension": ".py",
   "mimetype": "text/x-python",
   "name": "python",
   "nbconvert_exporter": "python",
   "pygments_lexer": "ipython3",
   "version": "3.12.2"
  }
 },
 "nbformat": 4,
 "nbformat_minor": 2
}
