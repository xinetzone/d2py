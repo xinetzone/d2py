{
 "cells": [
  {
   "cell_type": "markdown",
   "metadata": {},
   "source": [
    "# 内存和 IO 接口\n",
    "\n",
    "本节将向您介绍 PyArrow 内存管理和 IO 系统中的主要概念：\n",
    "\n",
    "- 缓冲区\n",
    "- 内存池\n",
    "- 类文件和流式对象"
   ]
  },
  {
   "cell_type": "markdown",
   "metadata": {},
   "source": [
    "## 引用和分配内存\n",
    "\n",
    "### {class}`pyarrow.Buffer`\n",
    "\n",
    "{class}`~pyarrow.Buffer` 对象封装了 C++ 的 {cpp:class}`arrow::Buffer` 类型，这是 Apache Arrow 在 C++ 中进行内存管理的主要工具。它允许更高级别的数组类安全地与它们可能拥有或可能不拥有的内存进行交互。{cpp:class}`arrow::Buffer` 可以进行零拷贝切片，以允许 Buffers 廉价地引用其他 Buffers，同时保持内存生命周期和清晰的父子关系。"
   ]
  },
  {
   "cell_type": "markdown",
   "metadata": {},
   "source": [
    "{cpp:class}`arrow::Buffer` 有许多实现，但它们都提供了标准接口：数据指针和长度。这与 Python 的内置缓冲区协议和 {class}`memoryview` 对象类似。\n",
    "\n",
    "可以通过调用 {func}`~pyarrow.py_buffer` 函数从任何实现了缓冲区协议的 Python 对象创建 {class}`~pyarrow.Buffer`。\n",
    "\n",
    "考虑字节对象："
   ]
  },
  {
   "cell_type": "code",
   "execution_count": 1,
   "metadata": {},
   "outputs": [
    {
     "data": {
      "text/plain": [
       "(26,\n",
       " <pyarrow.Buffer address=0x7fc2242ade50 size=26 is_cpu=True is_mutable=False>)"
      ]
     },
     "execution_count": 1,
     "metadata": {},
     "output_type": "execute_result"
    }
   ],
   "source": [
    "import pyarrow as pa\n",
    "\n",
    "data = b'abcdefghijklmnopqrstuvwxyz'\n",
    "\n",
    "buf = pa.py_buffer(data)\n",
    "\n",
    "buf.size, buf"
   ]
  },
  {
   "cell_type": "markdown",
   "metadata": {},
   "source": [
    "以这种方式创建 {class}`~pyarrow.Buffer` 不会分配任何内存；它是对从数据字节对象导出的内存的零拷贝视图。\n",
    "\n",
    "外部内存，以原始指针和大小的形式，也可以使用 {class}`~pyarrow.foreign_buffer` 函数进行引用。\n",
    "\n",
    "在需要 Python 缓冲区或 {class}`memoryview` 的情况下，可以使用 Buffers，并且这种转换是零拷贝的："
   ]
  },
  {
   "cell_type": "code",
   "execution_count": 2,
   "metadata": {},
   "outputs": [
    {
     "data": {
      "text/plain": [
       "<memory at 0x7fc1ea55fa00>"
      ]
     },
     "execution_count": 2,
     "metadata": {},
     "output_type": "execute_result"
    }
   ],
   "source": [
    "memoryview(buf)"
   ]
  },
  {
   "cell_type": "markdown",
   "metadata": {},
   "source": [
    "{class}`~pyarrow.Buffer` 的 {meth}`~pyarrow.Buffer.to_pybytes` 方法将 {class}`~pyarrow.Buffer` 的数据转换为 Python 字节字符串（因此会复制数据）："
   ]
  },
  {
   "cell_type": "code",
   "execution_count": 3,
   "metadata": {},
   "outputs": [
    {
     "data": {
      "text/plain": [
       "b'abcdefghijklmnopqrstuvwxyz'"
      ]
     },
     "execution_count": 3,
     "metadata": {},
     "output_type": "execute_result"
    }
   ],
   "source": [
    "buf.to_pybytes()"
   ]
  },
  {
   "cell_type": "markdown",
   "metadata": {},
   "source": [
    "### 内存池\n",
    "所有内存分配和释放（如 C 中的 `malloc` 和 `free`）都在 {class}`pyarrow.MemoryPool` 的一个实例中进行跟踪。这意味着我们可以精确地跟踪已分配的内存量："
   ]
  },
  {
   "cell_type": "code",
   "execution_count": 4,
   "metadata": {},
   "outputs": [
    {
     "data": {
      "text/plain": [
       "0"
      ]
     },
     "execution_count": 4,
     "metadata": {},
     "output_type": "execute_result"
    }
   ],
   "source": [
    "pa.total_allocated_bytes()"
   ]
  },
  {
   "cell_type": "markdown",
   "metadata": {},
   "source": [
    "从默认池分配一个可调整大小的 {class}`pyarrow.Buffer`："
   ]
  },
  {
   "cell_type": "code",
   "execution_count": 5,
   "metadata": {},
   "outputs": [
    {
     "data": {
      "text/plain": [
       "1024"
      ]
     },
     "execution_count": 5,
     "metadata": {},
     "output_type": "execute_result"
    }
   ],
   "source": [
    "buf = pa.allocate_buffer(1024, resizable=True)\n",
    "pa.total_allocated_bytes()"
   ]
  },
  {
   "cell_type": "code",
   "execution_count": 6,
   "metadata": {},
   "outputs": [
    {
     "data": {
      "text/plain": [
       "2048"
      ]
     },
     "execution_count": 6,
     "metadata": {},
     "output_type": "execute_result"
    }
   ],
   "source": [
    "buf.resize(2048)\n",
    "\n",
    "pa.total_allocated_bytes()"
   ]
  },
  {
   "cell_type": "markdown",
   "metadata": {},
   "source": [
    "默认分配器以最小 64 字节的增量请求内存。如果缓冲区被垃圾回收，所有内存都会被释放："
   ]
  },
  {
   "cell_type": "code",
   "execution_count": 7,
   "metadata": {},
   "outputs": [
    {
     "data": {
      "text/plain": [
       "0"
      ]
     },
     "execution_count": 7,
     "metadata": {},
     "output_type": "execute_result"
    }
   ],
   "source": [
    "buf = None\n",
    "\n",
    "pa.total_allocated_bytes()"
   ]
  },
  {
   "cell_type": "markdown",
   "metadata": {},
   "source": [
    "除了默认的内置内存池外，根据 Arrow 是如何构建的，还可以选择其他内存池（如 [mimalloc](https://github.com/microsoft/mimalloc)）。可以获取内存池的后端名称："
   ]
  },
  {
   "cell_type": "code",
   "execution_count": 8,
   "metadata": {},
   "outputs": [
    {
     "data": {
      "text/plain": [
       "'jemalloc'"
      ]
     },
     "execution_count": 8,
     "metadata": {},
     "output_type": "execute_result"
    }
   ],
   "source": [
    "pa.default_memory_pool().backend_name"
   ]
  },
  {
   "cell_type": "markdown",
   "metadata": {},
   "source": [
    "````{seealso}\n",
    "- [内存池文档](https://arrow.apache.org/docs/python/api/memory.html#api-memory-pool)\n",
    "````"
   ]
  },
  {
   "cell_type": "markdown",
   "metadata": {},
   "source": [
    "## 输入和输出\n",
    "\n",
    "Arrow C++ 库为不同种类的 IO 对象提供了几个抽象接口：\n",
    "\n",
    "- 只读流\n",
    "- 支持随机访问的只读文件\n",
    "- 只写流\n",
    "- 支持随机访问的只写文件\n",
    "- 支持读写和随机访问的文件"
   ]
  }
 ],
 "metadata": {
  "kernelspec": {
   "display_name": "xin",
   "language": "python",
   "name": "python3"
  },
  "language_info": {
   "codemirror_mode": {
    "name": "ipython",
    "version": 3
   },
   "file_extension": ".py",
   "mimetype": "text/x-python",
   "name": "python",
   "nbconvert_exporter": "python",
   "pygments_lexer": "ipython3",
   "version": "3.12.2"
  }
 },
 "nbformat": 4,
 "nbformat_minor": 2
}
