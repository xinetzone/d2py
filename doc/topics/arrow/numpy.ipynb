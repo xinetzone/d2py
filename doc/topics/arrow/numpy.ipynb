{
 "cells": [
  {
   "cell_type": "markdown",
   "metadata": {},
   "source": [
    "# `numpy` 集成\n",
    "\n",
    "PyArrow允许在NumPy数组和Arrow数组之间来回转换。"
   ]
  },
  {
   "cell_type": "markdown",
   "metadata": {},
   "source": [
    "## NumPy 转 Arrow\n",
    "\n",
    "要将 NumPy 数组转换为 Arrow，可以直接调用 {func}`pyarrow.array` 工厂函数。"
   ]
  },
  {
   "cell_type": "code",
   "execution_count": 1,
   "metadata": {},
   "outputs": [
    {
     "data": {
      "text/plain": [
       "<pyarrow.lib.Int16Array object at 0x7f02ecf991e0>\n",
       "[\n",
       "  0,\n",
       "  1,\n",
       "  2,\n",
       "  3,\n",
       "  4,\n",
       "  5,\n",
       "  6,\n",
       "  7,\n",
       "  8,\n",
       "  9\n",
       "]"
      ]
     },
     "execution_count": 1,
     "metadata": {},
     "output_type": "execute_result"
    }
   ],
   "source": [
    "import numpy as np\n",
    "import pyarrow as pa\n",
    "data = np.arange(10, dtype='int16')\n",
    "arr = pa.array(data)\n",
    "arr"
   ]
  },
  {
   "cell_type": "markdown",
   "metadata": {},
   "source": [
    "从 NumPy 转换支持广泛的输入 `dtypes`，包括结构化 `dtypes` 或字符串。"
   ]
  },
  {
   "cell_type": "markdown",
   "metadata": {},
   "source": [
    "## Arrow 转 NumPy\n",
    "\n",
    "在相反的方向，可以使用 {class}`~pyarrow.Array.to_numpy` 方法生成 Arrow Array 的视图，以便与 NumPy 一起使用。这仅限于 NumPy 和 Arrow 具有相同物理表示的原始类型，并且假设 Arrow 数据没有空值。"
   ]
  },
  {
   "cell_type": "code",
   "execution_count": 2,
   "metadata": {},
   "outputs": [
    {
     "data": {
      "text/plain": [
       "array([4, 5, 6], dtype=int32)"
      ]
     },
     "execution_count": 2,
     "metadata": {},
     "output_type": "execute_result"
    }
   ],
   "source": [
    "import numpy as np\n",
    "import pyarrow as pa\n",
    "arr = pa.array([4, 5, 6], type=pa.int32())\n",
    "view = arr.to_numpy()\n",
    "view"
   ]
  },
  {
   "cell_type": "code",
   "execution_count": null,
   "metadata": {},
   "outputs": [],
   "source": []
  }
 ],
 "metadata": {
  "kernelspec": {
   "display_name": "xin",
   "language": "python",
   "name": "python3"
  },
  "language_info": {
   "codemirror_mode": {
    "name": "ipython",
    "version": 3
   },
   "file_extension": ".py",
   "mimetype": "text/x-python",
   "name": "python",
   "nbconvert_exporter": "python",
   "pygments_lexer": "ipython3",
   "version": "3.12.2"
  }
 },
 "nbformat": 4,
 "nbformat_minor": 2
}
