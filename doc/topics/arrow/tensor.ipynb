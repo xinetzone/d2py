{
 "cells": [
  {
   "cell_type": "markdown",
   "metadata": {},
   "source": [
    "# {class}`pyarrow.Tensor`\n",
    "\n",
    "{class}`pyarrow.Tensor` 是 $n$ 维 {class}`pyarrow.Array`，也就是张量。"
   ]
  },
  {
   "cell_type": "code",
   "execution_count": 1,
   "metadata": {},
   "outputs": [
    {
     "data": {
      "text/plain": [
       "<pyarrow.Tensor>\n",
       "type: int32\n",
       "shape: (2, 3)\n",
       "strides: (12, 4)"
      ]
     },
     "execution_count": 1,
     "metadata": {},
     "output_type": "execute_result"
    }
   ],
   "source": [
    "import pyarrow as pa\n",
    "import numpy as np\n",
    "\n",
    "x = np.array([[2, 2, 4], [4, 5, 100]], np.int32)\n",
    "y = pa.Tensor.from_numpy(x, dim_names=[\"dim1\",\"dim2\"])\n",
    "y"
   ]
  },
  {
   "cell_type": "markdown",
   "metadata": {},
   "source": [
    "## {meth}`pyarrow.Tensor.dim_name`(self, i)\n",
    "\n",
    "返回第 `i` 个张量维度的名称。"
   ]
  },
  {
   "cell_type": "code",
   "execution_count": 2,
   "metadata": {},
   "outputs": [
    {
     "data": {
      "text/plain": [
       "('dim1', 'dim2')"
      ]
     },
     "execution_count": 2,
     "metadata": {},
     "output_type": "execute_result"
    }
   ],
   "source": [
    "import pyarrow as pa\n",
    "import numpy as np\n",
    "x = np.array([[2, 2, 4], [4, 5, 100]], np.int32)\n",
    "tensor = pa.Tensor.from_numpy(x, dim_names=[\"dim1\",\"dim2\"])\n",
    "tensor.dim_name(0), tensor.dim_name(1)"
   ]
  },
  {
   "cell_type": "markdown",
   "metadata": {},
   "source": [
    "## {meth}`pyarrow.Tensor.equals`(self, Tensor other)\n",
    "\n",
    "如果张量包含完全相同的数据，则返回 `True`。"
   ]
  },
  {
   "cell_type": "code",
   "execution_count": 3,
   "metadata": {},
   "outputs": [
    {
     "data": {
      "text/plain": [
       "(True, False)"
      ]
     },
     "execution_count": 3,
     "metadata": {},
     "output_type": "execute_result"
    }
   ],
   "source": [
    "import pyarrow as pa\n",
    "import numpy as np\n",
    "x = np.array([[2, 2, 4], [4, 5, 100]], np.int32)\n",
    "tensor = pa.Tensor.from_numpy(x, dim_names=[\"dim1\",\"dim2\"])\n",
    "y = np.array([[2, 2, 4], [4, 5, 10]], np.int32)\n",
    "tensor2 = pa.Tensor.from_numpy(y, dim_names=[\"a\",\"b\"])\n",
    "tensor.equals(tensor), tensor.equals(tensor2)"
   ]
  },
  {
   "cell_type": "code",
   "execution_count": 4,
   "metadata": {},
   "outputs": [
    {
     "data": {
      "text/plain": [
       "(True, True)"
      ]
     },
     "execution_count": 4,
     "metadata": {},
     "output_type": "execute_result"
    }
   ],
   "source": [
    "x1 = np.array([[2, 2, 4], [4, 5, 100]], np.int32)\n",
    "x2 = np.array([[2, 2, 4], [4, 5, 100]], np.int32)\n",
    "tensor1 = pa.Tensor.from_numpy(x1, dim_names=[\"dim11\",\"dim12\"])\n",
    "tensor2 = pa.Tensor.from_numpy(x2, dim_names=[\"dim21\",\"dim22\"])\n",
    "tensor1.equals(tensor2), tensor1 == tensor2"
   ]
  },
  {
   "cell_type": "markdown",
   "metadata": {},
   "source": [
    "## {meth}`pyarrow.Tensor.to_numpy`"
   ]
  },
  {
   "cell_type": "code",
   "execution_count": 5,
   "metadata": {},
   "outputs": [
    {
     "data": {
      "text/plain": [
       "array([[  2,   2,   4],\n",
       "       [  4,   5, 100]], dtype=int32)"
      ]
     },
     "execution_count": 5,
     "metadata": {},
     "output_type": "execute_result"
    }
   ],
   "source": [
    "x = np.array([[2, 2, 4], [4, 5, 100]], np.int32)\n",
    "tensor = pa.Tensor.from_numpy(x, dim_names=[\"dim1\",\"dim2\"])\n",
    "tensor.to_numpy()"
   ]
  }
 ],
 "metadata": {
  "kernelspec": {
   "display_name": "xin",
   "language": "python",
   "name": "python3"
  },
  "language_info": {
   "codemirror_mode": {
    "name": "ipython",
    "version": 3
   },
   "file_extension": ".py",
   "mimetype": "text/x-python",
   "name": "python",
   "nbconvert_exporter": "python",
   "pygments_lexer": "ipython3",
   "version": "3.12.2"
  }
 },
 "nbformat": 4,
 "nbformat_minor": 2
}
