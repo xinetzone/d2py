{
 "cells": [
  {
   "cell_type": "markdown",
   "metadata": {},
   "source": [
    "# `pyarrow` 快速上手"
   ]
  },
  {
   "cell_type": "markdown",
   "metadata": {},
   "source": [
    "Arrow 通过数组（{class}`pyarrow.Array`）管理数据，这些数组可以组合成表格（{class}`pyarrow.Table`），以表示表格数据中的列。\n",
    "\n",
    "Arrow 还支持各种格式，以便将表格数据从磁盘和网络中读取和写入。最常用的格式包括 Parquet（[读取和写入 Apache Parquet 格式](pyarrow:parquet)）和 IPC 格式（[流式传输、序列化和 IPC](ipc)）。"
   ]
  },
  {
   "cell_type": "markdown",
   "metadata": {},
   "source": [
    "## 创建数组和表格\n",
    "\n",
    "Arrow 中的数组是统一类型的数据集合。这使得 Arrow 能够使用最佳性能的实现来存储数据并对其进行计算。因此，每个数组都包含数据和类型。"
   ]
  },
  {
   "cell_type": "code",
   "execution_count": 1,
   "metadata": {},
   "outputs": [
    {
     "data": {
      "text/plain": [
       "<pyarrow.lib.Int8Array object at 0x7f65980f63e0>\n",
       "[\n",
       "  1,\n",
       "  12,\n",
       "  17,\n",
       "  23,\n",
       "  28\n",
       "]"
      ]
     },
     "execution_count": 1,
     "metadata": {},
     "output_type": "execute_result"
    }
   ],
   "source": [
    "import pyarrow as pa\n",
    "\n",
    "days = pa.array([1, 12, 17, 23, 28], type=pa.int8())\n",
    "days"
   ]
  },
  {
   "cell_type": "markdown",
   "metadata": {},
   "source": [
    "多个数组可以结合在表格中，当附加到列名时，形成表格数据中的列。"
   ]
  },
  {
   "cell_type": "code",
   "execution_count": 2,
   "metadata": {},
   "outputs": [
    {
     "data": {
      "text/plain": [
       "pyarrow.Table\n",
       "days: int8\n",
       "months: int8\n",
       "years: int16\n",
       "----\n",
       "days: [[1,12,17,23,28]]\n",
       "months: [[1,3,5,7,1]]\n",
       "years: [[1990,2000,1995,2000,1995]]"
      ]
     },
     "execution_count": 2,
     "metadata": {},
     "output_type": "execute_result"
    }
   ],
   "source": [
    "months = pa.array([1, 3, 5, 7, 1], type=pa.int8())\n",
    "\n",
    "years = pa.array([1990, 2000, 1995, 2000, 1995], type=pa.int16())\n",
    "\n",
    "birthdays_table = pa.table([days, months, years],\n",
    "                           names=[\"days\", \"months\", \"years\"])\n",
    "\n",
    "\n",
    "birthdays_table"
   ]
  },
  {
   "cell_type": "markdown",
   "metadata": {},
   "source": [
    "请参阅 [](pyarrow-data) 以获取更多详细信息。"
   ]
  },
  {
   "cell_type": "markdown",
   "metadata": {},
   "source": [
    "## 保存和加载表格\n",
    "\n",
    "一旦你有了表格数据，Arrow 就提供了一些现成的功能来保存和恢复 Parquet 这样的常见格式的数据。"
   ]
  },
  {
   "cell_type": "code",
   "execution_count": 3,
   "metadata": {},
   "outputs": [],
   "source": [
    "import pyarrow.parquet as pq\n",
    "\n",
    "pq.write_table(birthdays_table, 'birthdays.parquet')"
   ]
  },
  {
   "cell_type": "markdown",
   "metadata": {},
   "source": [
    "一旦你的数据存储在磁盘上，加载回来只需要一个简单的函数调用，Arrow 对内存和速度进行了大量优化，因此加载数据将尽可能快。"
   ]
  },
  {
   "cell_type": "code",
   "execution_count": 4,
   "metadata": {},
   "outputs": [
    {
     "data": {
      "text/plain": [
       "pyarrow.Table\n",
       "days: int8\n",
       "months: int8\n",
       "years: int16\n",
       "----\n",
       "days: [[1,12,17,23,28]]\n",
       "months: [[1,3,5,7,1]]\n",
       "years: [[1990,2000,1995,2000,1995]]"
      ]
     },
     "execution_count": 4,
     "metadata": {},
     "output_type": "execute_result"
    }
   ],
   "source": [
    "reloaded_birthdays = pq.read_table('birthdays.parquet')\n",
    "\n",
    "reloaded_birthdays"
   ]
  },
  {
   "cell_type": "markdown",
   "metadata": {},
   "source": [
    "在 Arrow 中保存和加载数据通常通过 [Parquet](pyarrow:parquet)、[IPC 格式](ipc)（[Feather 文件格式](feather)）、[CSV](csv) 或 [Line-Delimited JSON](./json) 格式进行。"
   ]
  },
  {
   "cell_type": "markdown",
   "metadata": {},
   "source": [
    "## 执行计算\n",
    "\n",
    "Arrow 附带了一组计算函数，可以应用于其数组和表格，因此通过这些计算函数，可以对数据应用转换。"
   ]
  },
  {
   "cell_type": "code",
   "execution_count": 5,
   "metadata": {},
   "outputs": [
    {
     "data": {
      "text/plain": [
       "<pyarrow.lib.StructArray object at 0x7f6597ed7b20>\n",
       "-- is_valid: all not null\n",
       "-- child 0 type: int16\n",
       "  [\n",
       "    1990,\n",
       "    2000,\n",
       "    1995\n",
       "  ]\n",
       "-- child 1 type: int64\n",
       "  [\n",
       "    1,\n",
       "    2,\n",
       "    2\n",
       "  ]"
      ]
     },
     "execution_count": 5,
     "metadata": {},
     "output_type": "execute_result"
    }
   ],
   "source": [
    "import pyarrow.compute as pc\n",
    "\n",
    "pc.value_counts(birthdays_table[\"years\"])"
   ]
  },
  {
   "cell_type": "markdown",
   "metadata": {},
   "source": [
    "请参阅[计算函数](compute)以获取可用计算函数的列表以及如何使用它们的说明。"
   ]
  },
  {
   "cell_type": "markdown",
   "metadata": {},
   "source": [
    "## 处理大型数据\n",
    "\n",
    "Arrow 还提供了 {mod}`pyarrow.dataset` API 来处理大型数据，它将为您处理将数据分割成较小的块。"
   ]
  },
  {
   "cell_type": "code",
   "execution_count": 6,
   "metadata": {},
   "outputs": [],
   "source": [
    "%rm -rf .temp/"
   ]
  },
  {
   "cell_type": "code",
   "execution_count": 7,
   "metadata": {},
   "outputs": [],
   "source": [
    "import pyarrow.dataset as ds\n",
    "\n",
    "ds.write_dataset(\n",
    "    birthdays_table, \".temp\", format=\"parquet\",\n",
    "    partitioning=ds.partitioning(\n",
    "    pa.schema([birthdays_table.schema.field(\"years\")]))\n",
    ")\n"
   ]
  },
  {
   "cell_type": "markdown",
   "metadata": {},
   "source": [
    "加载分区数据集时，将检测到块。"
   ]
  },
  {
   "cell_type": "code",
   "execution_count": 8,
   "metadata": {},
   "outputs": [
    {
     "data": {
      "text/plain": [
       "['.temp/1990/part-0.parquet',\n",
       " '.temp/1995/part-0.parquet',\n",
       " '.temp/2000/part-0.parquet']"
      ]
     },
     "execution_count": 8,
     "metadata": {},
     "output_type": "execute_result"
    }
   ],
   "source": [
    "birthdays_dataset = ds.dataset(\".temp\", format=\"parquet\", partitioning=[\"years\"])\n",
    "\n",
    "birthdays_dataset.files"
   ]
  },
  {
   "cell_type": "markdown",
   "metadata": {},
   "source": [
    "并且只有在迭代它们时才会懒加载数据块"
   ]
  },
  {
   "cell_type": "code",
   "execution_count": 9,
   "metadata": {},
   "outputs": [
    {
     "name": "stdout",
     "output_type": "stream",
     "text": [
      "AGES [\n",
      "  34\n",
      "]\n",
      "AGES [\n",
      "  29,\n",
      "  29\n",
      "]\n",
      "AGES [\n",
      "  24,\n",
      "  24\n",
      "]\n"
     ]
    }
   ],
   "source": [
    "import datetime\n",
    "\n",
    "current_year = datetime.datetime.now(datetime.UTC).year\n",
    "\n",
    "for table_chunk in birthdays_dataset.to_batches():\n",
    "    print(\"AGES\", pc.subtract(current_year, table_chunk[\"years\"]))"
   ]
  }
 ],
 "metadata": {
  "kernelspec": {
   "display_name": "py312",
   "language": "python",
   "name": "python3"
  },
  "language_info": {
   "codemirror_mode": {
    "name": "ipython",
    "version": 3
   },
   "file_extension": ".py",
   "mimetype": "text/x-python",
   "name": "python",
   "nbconvert_exporter": "python",
   "pygments_lexer": "ipython3",
   "version": "3.12.2"
  }
 },
 "nbformat": 4,
 "nbformat_minor": 2
}
