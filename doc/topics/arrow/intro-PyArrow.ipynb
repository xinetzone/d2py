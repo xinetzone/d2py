{
 "cells": [
  {
   "cell_type": "markdown",
   "metadata": {},
   "source": [
    "# PyArrow\n",
    "\n",
    "[PyArrow](https://arrow.apache.org/docs/python/index.html) 是 Apache Arrow 的 Python 绑定。"
   ]
  },
  {
   "cell_type": "markdown",
   "metadata": {},
   "source": [
    "安装\n",
    "\n",
    ":::::{tab-set}\n",
    "\n",
    "::::{tab-item} pip\n",
    "```bash\n",
    "pip install pyarrow\n",
    "```\n",
    "::::\n",
    "\n",
    "::::{tab-item} conda\n",
    "```bash\n",
    "conda install -c conda-forge pyarrow\n",
    "```\n",
    "::::\n",
    "\n",
    ":::::\n"
   ]
  },
  {
   "cell_type": "markdown",
   "metadata": {},
   "source": [
    "## Windows 上的 tzdata \n",
    "\n",
    "虽然 Arrow 在 Linux 和 macOS 上使用操作系统提供时区数据库，但在 Windows 上需要用户提供数据库。要下载和解压缩 IANA 时区数据库的文本版本，请按照 `C++` [运行时依赖项](https://arrow.apache.org/docs/cpp/build_system.html#download-timezone-database)中的说明操作。"
   ]
  },
  {
   "cell_type": "markdown",
   "metadata": {},
   "source": [
    "默认情况下，时区数据库将被检测在 `%USERPROFILE%\\Downloads\\tzdata` 目录中。如果数据库被下载到了其他位置，你需要从 Python 设置一个到数据库的自定义路径："
   ]
  },
  {
   "cell_type": "markdown",
   "metadata": {},
   "source": [
    "```python\n",
    "import pyarrow as pa\n",
    "pa.set_timezone_db_path(\"custom_path\")\n",
    "```"
   ]
  }
 ],
 "metadata": {
  "kernelspec": {
   "display_name": "py312",
   "language": "python",
   "name": "python3"
  },
  "language_info": {
   "name": "python",
   "version": "3.12.2"
  }
 },
 "nbformat": 4,
 "nbformat_minor": 2
}
