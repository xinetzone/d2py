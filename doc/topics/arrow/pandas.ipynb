{
 "cells": [
  {
   "cell_type": "markdown",
   "metadata": {},
   "source": [
    "# Pandas 集成\n",
    "为了与 `pandas` 接口，PyArrow 提供了各种转换例程，用于使用 `pandas` 结构并将其转换回这些结构。\n",
    "\n",
    "参考：[Pandas 集成](https://arrow.apache.org/docs/python/pandas.html)"
   ]
  }
 ],
 "metadata": {
  "language_info": {
   "name": "python"
  }
 },
 "nbformat": 4,
 "nbformat_minor": 2
}
