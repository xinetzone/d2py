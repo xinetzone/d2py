{
 "cells": [
  {
   "cell_type": "markdown",
   "metadata": {},
   "source": [
    "# Jupyter Notebook 简介\n",
    "\n",
    "参考：[notebook](https://jupyter-tutorial.readthedocs.io/en/stable/notebook/index.html)\n",
    "\n",
    "```{topic} Jupyter Notebooks\n",
    "Jupyter Notebooks 扩展了基于控制台的交互式计算方法，引入了一个基于网络的应用程序。借助这个程序，整个流程可以被记录：从开发和执行代码到文档化和呈现结果。\n",
    "\n",
    "Jupyter Notebook 是一种开源的网络应用程序，它允许用户创建和共享包含实时代码、方程、可视化图像以及说明性文本的文档。这种技术基本上将代码开发、文档撰写和数据分析集成在一个交互式环境中。\n",
    "\n",
    "Jupyter Notebooks 的主要特点包括：\n",
    "\n",
    "1. **交互式计算**：可以在单元格中输入代码并立即看到结果，这大大加快了实验和调试的速度。\n",
    "2. **富媒体内容**：除了代码，Notebooks 还支持丰富的媒体内容，如数学公式、图表、图片甚至视频。\n",
    "3. **文档与代码结合**：在 Jupyter Notebook 中，代码和其输出可以混合使用，使得文档不仅是可执行的，而且是自解释的。\n",
    "4. **多种编程语言支持**：Jupyter 支持多种编程语言内核，包括但不限于 Python, R, Julia 和 Scala。\n",
    "5. **数据探索与可视化**：结合各种数据科学库（如 NumPy, Pandas, Matplotlib），Jupyter Notebooks 成为数据探索和可视化的强大工具。\n",
    "6. **易于分享与协作**：Notebooks 可以被导出为多种格式，如 HTML、PDF 或 Markdown，也可以直接通过 NBViewer 在线分享。\n",
    "7. **教育与演示**：由于其交互性和即时反馈的特点，Jupyter Notebooks 被广泛用于教育和培训目的。\n",
    "\n",
    "总之，Jupyter Notebooks 提供了一个灵活、强大且易于使用的平台，用于教学、科研和商业分析，特别适合数据科学和机器学习项目。\n",
    "```"
   ]
  }
 ],
 "metadata": {
  "language_info": {
   "name": "python"
  }
 },
 "nbformat": 4,
 "nbformat_minor": 2
}
