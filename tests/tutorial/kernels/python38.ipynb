{
 "cells": [
  {
   "cell_type": "markdown",
   "metadata": {},
   "source": [
    "# What’s new in Python 3.8?\n",
    "\n",
    "In Python 3.8, the syntax is simplified and support for C libraries is also improved. Below is a brief overview of some of the new features. You can get a complete overview in [What’s New In Python 3.8](https://docs.python.org/3/whatsnew/3.8.html)."
   ]
  },
  {
   "cell_type": "markdown",
   "metadata": {},
   "source": [
    "## Installation\n",
    "\n",
    "### Check"
   ]
  },
  {
   "cell_type": "code",
   "execution_count": 1,
   "metadata": {},
   "outputs": [
    {
     "name": "stdout",
     "output_type": "stream",
     "text": [
      "Python 3.8.0\r\n"
     ]
    }
   ],
   "source": [
    "!python3 -V"
   ]
  },
  {
   "cell_type": "markdown",
   "metadata": {},
   "source": [
    "or"
   ]
  },
  {
   "cell_type": "code",
   "execution_count": null,
   "metadata": {},
   "outputs": [],
   "source": [
    "import sys\n",
    "assert sys.version_info[:2] >= (3, 8)"
   ]
  },
  {
   "cell_type": "markdown",
   "metadata": {},
   "source": [
    "## Assignment Expressions: Walrus operator `:=`\n",
    "\n",
    "So far, e.g. `env_base` can be determined by pip as follows:"
   ]
  },
  {
   "cell_type": "code",
   "execution_count": null,
   "metadata": {},
   "outputs": [],
   "source": [
    "import os"
   ]
  },
  {
   "cell_type": "code",
   "execution_count": null,
   "metadata": {},
   "outputs": [],
   "source": [
    "def _getuserbase():\n",
    "    env_base = os.environ.get(\"PYTHONUSERBASE\", None)\n",
    "    if env_base:\n",
    "        return env_base"
   ]
  },
  {
   "cell_type": "markdown",
   "metadata": {},
   "source": [
    "This can now be simplified with:"
   ]
  },
  {
   "cell_type": "code",
   "execution_count": null,
   "metadata": {},
   "outputs": [],
   "source": [
    "def _getuserbase():\n",
    "    if env_base := os.environ.get(\"PYTHONUSERBASE\", None):\n",
    "        return env_base"
   ]
  },
  {
   "cell_type": "markdown",
   "metadata": {},
   "source": [
    "Multiple nested `if`, such as in [cpython/Lib/copy.py](https://github.com/python/cpython/blob/main/Lib/copy.py), can also be avoided. This"
   ]
  },
  {
   "cell_type": "code",
   "execution_count": null,
   "metadata": {},
   "outputs": [],
   "source": [
    "from copyreg import dispatch_table"
   ]
  },
  {
   "cell_type": "code",
   "execution_count": null,
   "metadata": {},
   "outputs": [],
   "source": [
    "def copy(x):\n",
    "    cls = type(x)\n",
    "    reductor = dispatch_table.get(cls)\n",
    "    if reductor:\n",
    "        rv = reductor(x)\n",
    "    else:\n",
    "        reductor = getattr(x, \"__reduce_ex__\", None)\n",
    "        if reductor:\n",
    "            rv = reductor(4)\n",
    "        else:\n",
    "            reductor = getattr(x, \"__reduce__\", None)\n",
    "            if reductor:\n",
    "                rv = reductor()\n",
    "            else:\n",
    "                raise Error(\n",
    "                    \"un(deep)copyable object of type %s\" % cls)"
   ]
  },
  {
   "cell_type": "markdown",
   "metadata": {},
   "source": [
    "becomes that:"
   ]
  },
  {
   "cell_type": "code",
   "execution_count": null,
   "metadata": {},
   "outputs": [],
   "source": [
    "def copy(x):\n",
    "    cls = type(x)\n",
    "    reductor = dispatch_table.get(cls)\n",
    "    if reductor := dispatch_table.get(cls):\n",
    "        rv = reductor(x)\n",
    "    elif reductor := getattr(x, \"__reduce_ex__\", None):\n",
    "        rv = reductor(4)\n",
    "    elif reductor := getattr(x, \"__reduce__\", None):\n",
    "        rv = reductor()\n",
    "    else:\n",
    "        raise Error(\"un(deep)copyable object of type %s\" % cls)"
   ]
  },
  {
   "cell_type": "markdown",
   "metadata": {},
   "source": [
    "## *Positional-only* parameters\n",
    "\n",
    "In Python 3.8 a function parameter can be specified position-related with `/`. Several Python functions implemented in C do not allow keyword arguments. This behavior can now be emulated in Python itself, e.g. for the [pow()](https://docs.python.org/3/library/functions.html#pow) function:"
   ]
  },
  {
   "cell_type": "code",
   "execution_count": null,
   "metadata": {},
   "outputs": [],
   "source": [
    "def pow(x, y, z=None, /):\n",
    "    \"Emulate the built in pow() function\"\n",
    "    r = x ** y\n",
    "    return r if z is None else r%z"
   ]
  },
  {
   "cell_type": "markdown",
   "metadata": {},
   "source": [
    "## `f-strings` support `=` for self-documenting expressions and debugging"
   ]
  },
  {
   "cell_type": "code",
   "execution_count": null,
   "metadata": {},
   "outputs": [],
   "source": [
    "user = 'veit'\n",
    "member_since = date(2012, 1, 30)\n",
    "f'{user=} {member_since=}'"
   ]
  },
  {
   "cell_type": "markdown",
   "metadata": {},
   "source": [
    "## Debug and release build use the same ABI\n",
    "\n",
    "So far, a consistent application binary interface (ABI) should be guaranteed by [Spack](https://www.python4data.science/en/latest/productive/envs/spack/index.html). However, this did not include using Python in the debug build. Python 3.8 now also supports ABI compatibility for debug builds. The `Py_TRACE_REFS` macro can now be set with the `./configure --with-trace-refs` option."
   ]
  },
  {
   "cell_type": "markdown",
   "metadata": {},
   "source": [
    "## New C API\n",
    "\n",
    "[PEP 587](https://peps.python.org/pep-0587/) adds a new C API for configuring the Python initialisation, which offers more precise control of the entire configuration and better error reports."
   ]
  },
  {
   "cell_type": "markdown",
   "metadata": {},
   "source": [
    "## Vectorcall – a fast protocol for CPython\n",
    "\n",
    "The protocol is not yet fully implemented; this will probably come with Python 3.9. However, you can already get a full description in [PEP 590](https://peps.python.org/pep-0590)."
   ]
  },
  {
   "cell_type": "markdown",
   "metadata": {},
   "source": [
    "## Update – or not?\n",
    "\n",
    "The following is a brief overview of the problems you may encounter when switching to Python 3.8:\n",
    "\n",
    "### Missing packages\n",
    "\n",
    "* [opencv-python](https://pypi.org/project/opencv-python/#files)\n",
    "  \n",
    "### Bugs\n",
    "\n",
    "* Python 3.7.1 was released 4 months after the first major release with a [long list of bug fixes](https://docs.python.org/3.7/whatsnew/changelog.html#python-3-7-1-final) . Something similar is to be expected with Python 3.8.\n",
    "  \n",
    "### Syntax\n",
    "\n",
    "* Very few code analysis tools and autoformatters can already handle the syntax changes of Python 3.8\n",
    "\n",
    "### Why update anyway?\n",
    "\n",
    "Since the upgrade will take some time, it can be tempting to postpone the move indefinitely. Why should you concern yourself with incompatibilities in new versions when your current version works reliably?\n",
    "\n",
    "The problem is that your Python is not supported indefinitely, nor will the libraries you use will support all older Python versions indefinitely. And the longer you delay an update, the bigger and riskier it will be. Therefore, the update to the new major version of Python is usually recommended a few months after the first release."
   ]
  },
  {
   "cell_type": "markdown",
   "metadata": {},
   "source": [
    "## Porting\n",
    "\n",
    "<div class=\"alert alert-block alert-info\">\n",
    "\n",
    "**See also:**\n",
    "\n",
    "* [Porting to Python 3.8](https://docs.python.org/3.8/whatsnew/3.8.html#porting-to-python-3-8)\n",
    "</div>"
   ]
  }
 ],
 "metadata": {
  "kernelspec": {
   "display_name": "Python 3",
   "language": "python",
   "name": "python3"
  },
  "language_info": {
   "codemirror_mode": {
    "name": "ipython",
    "version": 3
   },
   "file_extension": ".py",
   "mimetype": "text/x-python",
   "name": "python",
   "nbconvert_exporter": "python",
   "pygments_lexer": "ipython3",
   "version": "3.7.3"
  },
  "latex_envs": {
   "LaTeX_envs_menu_present": true,
   "autoclose": false,
   "autocomplete": true,
   "bibliofile": "biblio.bib",
   "cite_by": "apalike",
   "current_citInitial": 1,
   "eqLabelWithNumbers": true,
   "eqNumInitial": 1,
   "hotkeys": {
    "equation": "Ctrl-E",
    "itemize": "Ctrl-I"
   },
   "labels_anchors": false,
   "latex_user_defs": false,
   "report_style_numbering": false,
   "user_envs_cfg": false
  },
  "varInspector": {
   "cols": {
    "lenName": 16,
    "lenType": 16,
    "lenVar": 40
   },
   "kernels_config": {
    "python": {
     "delete_cmd_postfix": "",
     "delete_cmd_prefix": "del ",
     "library": "var_list.py",
     "varRefreshCmd": "print(var_dic_list())"
    },
    "r": {
     "delete_cmd_postfix": ") ",
     "delete_cmd_prefix": "rm(",
     "library": "var_list.r",
     "varRefreshCmd": "cat(var_dic_list()) "
    }
   },
   "types_to_exclude": [
    "module",
    "function",
    "builtin_function_or_method",
    "instance",
    "_Feature"
   ],
   "window_display": false
  },
  "widgets": {
   "application/vnd.jupyter.widget-state+json": {
    "state": {},
    "version_major": 2,
    "version_minor": 0
   }
  }
 },
 "nbformat": 4,
 "nbformat_minor": 2
}
