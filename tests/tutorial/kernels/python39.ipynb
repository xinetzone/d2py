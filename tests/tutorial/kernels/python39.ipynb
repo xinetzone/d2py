{
 "cells": [
  {
   "cell_type": "markdown",
   "metadata": {},
   "source": [
    "# What’s new in Python 3.9?\n",
    "\n",
    "With Python 3.9, a new release cycle is used for the first time: in the future, new releases will appear annually (see also [PEP 602](https://peps.python.org/pep-0602/)). The developers hope that they will get faster feedback on new features.\n",
    "\n",
    "With the first published release candidate, Python should also have a stable binary interface (application binary interface, ABI): there should no longer be any ABI changes in the 3.9 series, which means that extension modules no longer have to be recompiled for each version.\n",
    "\n",
    "\n",
    "You can find more information in [What’s New In Python 3.9](https://docs.python.org/3.9/whatsnew/3.9.html).\n",
    "\n",
    "In the following, I’ll give you a brief overview of some of the new features."
   ]
  },
  {
   "cell_type": "markdown",
   "metadata": {},
   "source": [
    "## Installation\n",
    "\n",
    "### Check"
   ]
  },
  {
   "cell_type": "code",
   "execution_count": 1,
   "metadata": {},
   "outputs": [
    {
     "name": "stdout",
     "output_type": "stream",
     "text": [
      "Python 3.9.0rc1\r\n"
     ]
    }
   ],
   "source": [
    "!python3 -V"
   ]
  },
  {
   "cell_type": "markdown",
   "metadata": {},
   "source": [
    "or"
   ]
  },
  {
   "cell_type": "code",
   "execution_count": 2,
   "metadata": {},
   "outputs": [],
   "source": [
    "import sys\n",
    "assert sys.version_info[:2] >= (3, 9)"
   ]
  },
  {
   "cell_type": "markdown",
   "metadata": {},
   "source": [
    "## [PEP 584](https://peps.python.org/pep-0584): Dictionary Merge and Update Operators\n",
    "\n",
    "Operators for the built-in [dict](https://docs.python.org/3.9/library/stdtypes.html#dict) class are now similar to those for concatenating lists: Merge (`|`) and Update (`|=`). This eliminates various disadvantages of the previous methods `dict.update`, `{**d1, **d2}` and `collections.ChainMap`."
   ]
  },
  {
   "cell_type": "markdown",
   "metadata": {},
   "source": [
    "### Example [ipykernel/ipykernel/kernelapp.py](https://github.com/ipython/ipykernel/blob/main/ipykernel/kernelapp.py)"
   ]
  },
  {
   "cell_type": "code",
   "execution_count": null,
   "metadata": {},
   "outputs": [],
   "source": [
    "kernel_aliases = dict(base_aliases)\n",
    "kernel_aliases.update({\n",
    "    'ip' : 'IPKernelApp.ip',\n",
    "    'hb' : 'IPKernelApp.hb_port',\n",
    "    'shell' : 'IPKernelApp.shell_port',\n",
    "    'iopub' : 'IPKernelApp.iopub_port',\n",
    "    'stdin' : 'IPKernelApp.stdin_port',\n",
    "    'control' : 'IPKernelApp.control_port',\n",
    "    'f' : 'IPKernelApp.connection_file',\n",
    "    'transport': 'IPKernelApp.transport',\n",
    "})\n",
    "\n",
    "kernel_flags = dict(base_flags)\n",
    "kernel_flags.update({\n",
    "    'no-stdout' : (\n",
    "            {'IPKernelApp' : {'no_stdout' : True}},\n",
    "            \"redirect stdout to the null device\"),\n",
    "    'no-stderr' : (\n",
    "            {'IPKernelApp' : {'no_stderr' : True}},\n",
    "            \"redirect stderr to the null device\"),\n",
    "    'pylab' : (\n",
    "        {'IPKernelApp' : {'pylab' : 'auto'}},\n",
    "        \"\"\"Pre-load matplotlib and numpy for interactive use with\n",
    "        the default matplotlib backend.\"\"\"),\n",
    "    'trio-loop' : (\n",
    "        {'InteractiveShell' : {'trio_loop' : False}},\n",
    "        'Enable Trio as main event loop.'\n",
    "    ),\n",
    "})"
   ]
  },
  {
   "cell_type": "markdown",
   "metadata": {},
   "source": [
    "can be simplified with:"
   ]
  },
  {
   "cell_type": "code",
   "execution_count": null,
   "metadata": {},
   "outputs": [],
   "source": [
    "kernel_aliases = base_aliases | {\n",
    "    'ip': 'KernelApp.ip',\n",
    "    'hb': 'KernelApp.hb_port',\n",
    "    'shell': 'KernelApp.shell_port',\n",
    "    'iopub': 'KernelApp.iopub_port',\n",
    "    'stdin': 'KernelApp.stdin_port',\n",
    "    'parent': 'KernelApp.parent',\n",
    "}}\n",
    "if sys.platform.startswith ('win'):\n",
    "    kernel_aliases ['interrupt'] = 'KernelApp.interrupt'\n",
    "\n",
    "kernel_flags = base_flags | {\n",
    "    'no-stdout': (\n",
    "            {'KernelApp': {'no_stdout': True}},\n",
    "            \"stdout auf das Nullgerät umleiten\"),\n",
    "    'no-stderr': (\n",
    "            {'KernelApp': {'no_stderr': True}},\n",
    "            \"stderr auf das Nullgerät umleiten\"),\n",
    "}}"
   ]
  },
  {
   "cell_type": "markdown",
   "metadata": {},
   "source": [
    "### Example [matplotlib/legend.py](https://github.com/matplotlib/matplotlib/blob/main/lib/matplotlib/legend.py)"
   ]
  },
  {
   "cell_type": "code",
   "execution_count": null,
   "metadata": {},
   "outputs": [],
   "source": [
    "hm = default_handler_map.copy()\n",
    "hm.update(self._custom_handler_map)\n",
    "return hm"
   ]
  },
  {
   "cell_type": "markdown",
   "metadata": {},
   "source": [
    "can be simplified with:"
   ]
  },
  {
   "cell_type": "code",
   "execution_count": null,
   "metadata": {},
   "outputs": [],
   "source": [
    "return default_handler_map | self._handler_map"
   ]
  },
  {
   "cell_type": "markdown",
   "metadata": {},
   "source": [
    "## [PEP 616](https://peps.python.org/pep-0616): `removeprefix()` and `removesuffix()` for string methods\n",
    "\n",
    "With [str.removeprefix(prefix)](https://docs.python.org/3.9/library/stdtypes.html#str.removeprefix) and [str.removesuffix(suffix)](https://docs.python.org/3.9/library/stdtypes.html#str.removesuffix) you can easily remove prefixes and suffixes. Similar methods have also been added for `bytes`, `bytearray` objects, and `collections.UserString`. All in all, this should lead to less fragile, better performing and more readable code."
   ]
  },
  {
   "cell_type": "markdown",
   "metadata": {},
   "source": [
    "### Example [find_recursionlimit.py](https://github.com/python/cpython/blob/3.9/Tools/scripts/find_recursionlimit.py)"
   ]
  },
  {
   "cell_type": "code",
   "execution_count": null,
   "metadata": {},
   "outputs": [],
   "source": [
    "if test_func_name.startswith(\"test_\"):\n",
    "    print(test_func_name[5:])\n",
    "else:http://localhost:8888/notebooks/docs/workspace/jupyter/kernels/python39.ipynb#Beispiel-find_recursionlimit.py\n",
    "    print(test_func_name)"
   ]
  },
  {
   "cell_type": "markdown",
   "metadata": {},
   "source": [
    "can be simplified with:"
   ]
  },
  {
   "cell_type": "code",
   "execution_count": null,
   "metadata": {},
   "outputs": [],
   "source": [
    "print (test_func_name.removeprefix (\"test_\"))"
   ]
  },
  {
   "cell_type": "markdown",
   "metadata": {},
   "source": [
    "### Example [deccheck.py](https://github.com/python/cpython/blob/main/Modules/_decimal/tests/deccheck.py)"
   ]
  },
  {
   "cell_type": "code",
   "execution_count": null,
   "metadata": {},
   "outputs": [],
   "source": [
    "if funcname.startswith(\"context.\"):\n",
    "    self.funcname = funcname.replace(\"context.\", \"\")\n",
    "    self.contextfunc = True\n",
    "else:\n",
    "    self.funcname = funcname"
   ]
  },
  {
   "cell_type": "markdown",
   "metadata": {},
   "source": [
    "can be simplified with:"
   ]
  },
  {
   "cell_type": "code",
   "execution_count": null,
   "metadata": {},
   "outputs": [],
   "source": [
    "self.contextfunc = funcname.startswith (\"context.\")\n",
    "self.funcname = funcname.removeprefix (\"context.\")"
   ]
  },
  {
   "cell_type": "markdown",
   "metadata": {},
   "source": [
    "## [PEP 585](https://peps.python.org/pep-0585): Additional generic types\n",
    "\n",
    "In *Type Annotations*, for example `list` or `dict` can be used directly as generic types – they no longer have to be imported separately from `typing`. Importing `typing` is thus deprecated."
   ]
  },
  {
   "cell_type": "markdown",
   "metadata": {},
   "source": [
    "### Example"
   ]
  },
  {
   "cell_type": "code",
   "execution_count": null,
   "metadata": {},
   "outputs": [],
   "source": [
    "def greet_all(names: list[str]) -> None:\n",
    "    for name in names:\n",
    "        print(\"Hello\", name)"
   ]
  },
  {
   "cell_type": "markdown",
   "metadata": {},
   "source": [
    "## [PEP 617](https://peps.python.org/pep-0617): New PEG parser\n",
    "\n",
    "Python 3.9 now uses a [PEG](https://en.wikipedia.org/wiki/Parsing_expression_grammar) (Parsing Expression Grammar) parser instead of the previous [LL](https://en.wikipedia.org/wiki/LL_parser) parser. This has i.a. the following advantages:\n",
    "\n",
    "* the parsing of abstract syntax trees (AST) is simplified considerably\n",
    "* [Left recursion](https://en.wikipedia.org/wiki/Left_recursion) becomes possible\n",
    "* The creation of [concrete syntax trees (CST)](https://en.wikipedia.org/wiki/Parse_tree) is possible\n",
    "\n",
    "The new parser is therefore more flexible and should be used primarily when designing new language functions. The [ast](https://docs.python.org/3.9/library/ast.html#module-ast) module is already using the new parser without the output having changed.\n",
    "\n",
    "In Python 3.10, the old parser and all functions that depend on it – mainly the obsolete [parser](https://docs.python.org/3.9/library/parser.html#module-parser) module - are deleted. Only in Python 3.9 you can return to the LL parser on the command line with `-X oldparser` or with the environment variable `PYTHONOLDPARSER=1`."
   ]
  },
  {
   "cell_type": "markdown",
   "metadata": {},
   "source": [
    "## [PEP 615](https://peps.python.org/pep-0615): Support for the IANA Time Zone Database in the Standard Library\n",
    "\n",
    "The new [zoneinfo](https://docs.python.org/3.9/library/zoneinfo.html#module-zoneinfo) brings support for the IANA time zone database to the standard library."
   ]
  },
  {
   "cell_type": "code",
   "execution_count": 5,
   "metadata": {},
   "outputs": [],
   "source": [
    "from zoneinfo import ZoneInfo\n",
    "from datetime import datetime, timedelta"
   ]
  },
  {
   "cell_type": "markdown",
   "metadata": {},
   "source": [
    "Pacific Daylight Time:"
   ]
  },
  {
   "cell_type": "code",
   "execution_count": 6,
   "metadata": {},
   "outputs": [
    {
     "name": "stdout",
     "output_type": "stream",
     "text": [
      "2020-10-31 12:00:00-07:00\n"
     ]
    }
   ],
   "source": [
    "dt = datetime(2020, 10, 31, 12, tzinfo=ZoneInfo(\"America/Los_Angeles\"))\n",
    "print(dt)"
   ]
  },
  {
   "cell_type": "code",
   "execution_count": 7,
   "metadata": {},
   "outputs": [
    {
     "data": {
      "text/plain": [
       "'PDT'"
      ]
     },
     "execution_count": 7,
     "metadata": {},
     "output_type": "execute_result"
    }
   ],
   "source": [
    "dt.tzname()"
   ]
  },
  {
   "cell_type": "markdown",
   "metadata": {},
   "source": [
    "Pacific Standard Time:"
   ]
  },
  {
   "cell_type": "code",
   "execution_count": 8,
   "metadata": {},
   "outputs": [
    {
     "name": "stdout",
     "output_type": "stream",
     "text": [
      "2020-11-07 12:00:00-08:00\n"
     ]
    }
   ],
   "source": [
    "dt += timedelta(days=7)\n",
    "print(dt)"
   ]
  },
  {
   "cell_type": "code",
   "execution_count": 9,
   "metadata": {},
   "outputs": [
    {
     "name": "stdout",
     "output_type": "stream",
     "text": [
      "PST\n"
     ]
    }
   ],
   "source": [
    "print(dt.tzname())"
   ]
  }
 ],
 "metadata": {
  "kernelspec": {
   "display_name": "Python 3.9.0",
   "language": "python",
   "name": "python-390"
  },
  "language_info": {
   "codemirror_mode": {
    "name": "ipython",
    "version": 3
   },
   "file_extension": ".py",
   "mimetype": "text/x-python",
   "name": "python",
   "nbconvert_exporter": "python",
   "pygments_lexer": "ipython3",
   "version": "3.9.0rc1"
  },
  "latex_envs": {
   "LaTeX_envs_menu_present": true,
   "autoclose": false,
   "autocomplete": true,
   "bibliofile": "biblio.bib",
   "cite_by": "apalike",
   "current_citInitial": 1,
   "eqLabelWithNumbers": true,
   "eqNumInitial": 1,
   "hotkeys": {
    "equation": "Ctrl-E",
    "itemize": "Ctrl-I"
   },
   "labels_anchors": false,
   "latex_user_defs": false,
   "report_style_numbering": false,
   "user_envs_cfg": false
  },
  "widgets": {
   "application/vnd.jupyter.widget-state+json": {
    "state": {},
    "version_major": 2,
    "version_minor": 0
   }
  }
 },
 "nbformat": 4,
 "nbformat_minor": 4
}
