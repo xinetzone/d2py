{
 "cells": [
  {
   "cell_type": "markdown",
   "metadata": {},
   "source": [
    "# DRLHP 开发\n",
    "\n",
    "集成 [DRLHP](https://github.com/HumanCompatibleAI/learning-from-human-preferences) 与 [gym-multigrid](https://github.com/Tran-Research-Group/gym-multigrid)。\n",
    "\n",
    "```bash\n",
    "git clone git@github.com:Tran-Research-Group/gym-multigrid.git\n",
    "```"
   ]
  },
  {
   "cell_type": "markdown",
   "metadata": {},
   "source": [
    "安装依赖\n",
    "```bash\n",
    "conda install -c conda-forge box2d-py\n",
    "pip install \"gymnasium[all]\" -i https://pypi.tuna.tsinghua.edu.cn/simple \n",
    "```\n",
    "\n",
    "```bash\n",
    "pip install stable-baselines3 tensorflow pyglet -i https://pypi.tuna.tsinghua.edu.cn/simple \n",
    "```\n"
   ]
  },
  {
   "cell_type": "markdown",
   "metadata": {},
   "source": [
    "启用 SSH 远程 X11：\n",
    "```bash\n",
    "ssh -XY ai@10.16.11.3\n",
    "```"
   ]
  },
  {
   "cell_type": "code",
   "execution_count": 1,
   "metadata": {},
   "outputs": [],
   "source": [
    "import logging"
   ]
  },
  {
   "cell_type": "code",
   "execution_count": 4,
   "metadata": {},
   "outputs": [
    {
     "data": {
      "text/plain": [
       "20"
      ]
     },
     "execution_count": 4,
     "metadata": {},
     "output_type": "execute_result"
    }
   ],
   "source": [
    "logging.INFO"
   ]
  },
  {
   "cell_type": "code",
   "execution_count": null,
   "metadata": {},
   "outputs": [],
   "source": []
  }
 ],
 "metadata": {
  "kernelspec": {
   "display_name": "gym",
   "language": "python",
   "name": "python3"
  },
  "language_info": {
   "codemirror_mode": {
    "name": "ipython",
    "version": 3
   },
   "file_extension": ".py",
   "mimetype": "text/x-python",
   "name": "python",
   "nbconvert_exporter": "python",
   "pygments_lexer": "ipython3",
   "version": "3.12.2"
  }
 },
 "nbformat": 4,
 "nbformat_minor": 2
}
