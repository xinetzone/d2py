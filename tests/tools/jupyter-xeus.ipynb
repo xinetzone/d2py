{
 "cells": [
  {
   "cell_type": "markdown",
   "metadata": {},
   "source": [
    "# jupyter xeus\n",
    "\n",
    "参考：[jupyter-xeus](https://github.com/jupyter-xeus)"
   ]
  }
 ],
 "metadata": {
  "language_info": {
   "name": "python"
  }
 },
 "nbformat": 4,
 "nbformat_minor": 2
}
