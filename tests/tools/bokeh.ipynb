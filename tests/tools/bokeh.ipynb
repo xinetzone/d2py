{
 "cells": [
  {
   "cell_type": "markdown",
   "metadata": {},
   "source": [
    "# bokeh\n",
    "\n",
    "参考：[first_steps](https://docs.bokeh.org/en/latest/docs/first_steps.html) & [bokeh-jupyter](https://docs.bokeh.org/en/latest/docs/user_guide/jupyter.html)\n",
    "\n",
    "为了支持 Jupyter，需要：\n",
    "\n",
    "```bash\n",
    "conda install jupyter_bokeh\n",
    "```\n",
    "\n",
    "## bokeh 折线图\n",
    "\n",
    "只需几行 Python 代码，Bokeh 就能让您创建交互式的、Javascript 支持的、可在 Web 浏览器中显示的可视化效果。\n",
    "\n",
    "Bokeh 的基本思想是两步实现：\n",
    "\n",
    "- 首先，从 Bokeh 的构建块中选择创建可视化。\n",
    "- 其次，您可以定制这些构建块以满足您的需求。\n",
    "\n",
    "为了做到这一点，Bokeh 结合了两个元素：\n",
    "\n",
    "- 用于定义可视化的内容和交互功能的 Python 库。\n",
    "- 名为 BokehJS 的 JavaScript 库，它在后台工作，在 Web 浏览器中显示交互式可视化。\n",
    "\n",
    "基于您的 Python 代码，Bokeh 自动生成所有必要的 Javascript 和 HTML 代码。在默认设置下，Bokeh 会自动从 Bokeh 的 CDN（content delivery network，即内容传递网络）加载任何额外的 Javascript 代码。"
   ]
  },
  {
   "cell_type": "code",
   "execution_count": 1,
   "metadata": {},
   "outputs": [
    {
     "data": {
      "text/html": [
       "<div class=\"bk-root\">\n",
       "        <a href=\"https://bokeh.org\" target=\"_blank\" class=\"bk-logo bk-logo-small bk-logo-notebook\"></a>\n",
       "        <span id=\"1002\">Loading BokehJS ...</span>\n",
       "    </div>\n"
      ]
     },
     "metadata": {},
     "output_type": "display_data"
    },
    {
     "data": {
      "application/javascript": "(function(root) {\n  function now() {\n    return new Date();\n  }\n\n  const force = true;\n\n  if (typeof root._bokeh_onload_callbacks === \"undefined\" || force === true) {\n    root._bokeh_onload_callbacks = [];\n    root._bokeh_is_loading = undefined;\n  }\n\nconst JS_MIME_TYPE = 'application/javascript';\n  const HTML_MIME_TYPE = 'text/html';\n  const EXEC_MIME_TYPE = 'application/vnd.bokehjs_exec.v0+json';\n  const CLASS_NAME = 'output_bokeh rendered_html';\n\n  /**\n   * Render data to the DOM node\n   */\n  function render(props, node) {\n    const script = document.createElement(\"script\");\n    node.appendChild(script);\n  }\n\n  /**\n   * Handle when an output is cleared or removed\n   */\n  function handleClearOutput(event, handle) {\n    const cell = handle.cell;\n\n    const id = cell.output_area._bokeh_element_id;\n    const server_id = cell.output_area._bokeh_server_id;\n    // Clean up Bokeh references\n    if (id != null && id in Bokeh.index) {\n      Bokeh.index[id].model.document.clear();\n      delete Bokeh.index[id];\n    }\n\n    if (server_id !== undefined) {\n      // Clean up Bokeh references\n      const cmd_clean = \"from bokeh.io.state import curstate; print(curstate().uuid_to_server['\" + server_id + \"'].get_sessions()[0].document.roots[0]._id)\";\n      cell.notebook.kernel.execute(cmd_clean, {\n        iopub: {\n          output: function(msg) {\n            const id = msg.content.text.trim();\n            if (id in Bokeh.index) {\n              Bokeh.index[id].model.document.clear();\n              delete Bokeh.index[id];\n            }\n          }\n        }\n      });\n      // Destroy server and session\n      const cmd_destroy = \"import bokeh.io.notebook as ion; ion.destroy_server('\" + server_id + \"')\";\n      cell.notebook.kernel.execute(cmd_destroy);\n    }\n  }\n\n  /**\n   * Handle when a new output is added\n   */\n  function handleAddOutput(event, handle) {\n    const output_area = handle.output_area;\n    const output = handle.output;\n\n    // limit handleAddOutput to display_data with EXEC_MIME_TYPE content only\n    if ((output.output_type != \"display_data\") || (!Object.prototype.hasOwnProperty.call(output.data, EXEC_MIME_TYPE))) {\n      return\n    }\n\n    const toinsert = output_area.element.find(\".\" + CLASS_NAME.split(' ')[0]);\n\n    if (output.metadata[EXEC_MIME_TYPE][\"id\"] !== undefined) {\n      toinsert[toinsert.length - 1].firstChild.textContent = output.data[JS_MIME_TYPE];\n      // store reference to embed id on output_area\n      output_area._bokeh_element_id = output.metadata[EXEC_MIME_TYPE][\"id\"];\n    }\n    if (output.metadata[EXEC_MIME_TYPE][\"server_id\"] !== undefined) {\n      const bk_div = document.createElement(\"div\");\n      bk_div.innerHTML = output.data[HTML_MIME_TYPE];\n      const script_attrs = bk_div.children[0].attributes;\n      for (let i = 0; i < script_attrs.length; i++) {\n        toinsert[toinsert.length - 1].firstChild.setAttribute(script_attrs[i].name, script_attrs[i].value);\n        toinsert[toinsert.length - 1].firstChild.textContent = bk_div.children[0].textContent\n      }\n      // store reference to server id on output_area\n      output_area._bokeh_server_id = output.metadata[EXEC_MIME_TYPE][\"server_id\"];\n    }\n  }\n\n  function register_renderer(events, OutputArea) {\n\n    function append_mime(data, metadata, element) {\n      // create a DOM node to render to\n      const toinsert = this.create_output_subarea(\n        metadata,\n        CLASS_NAME,\n        EXEC_MIME_TYPE\n      );\n      this.keyboard_manager.register_events(toinsert);\n      // Render to node\n      const props = {data: data, metadata: metadata[EXEC_MIME_TYPE]};\n      render(props, toinsert[toinsert.length - 1]);\n      element.append(toinsert);\n      return toinsert\n    }\n\n    /* Handle when an output is cleared or removed */\n    events.on('clear_output.CodeCell', handleClearOutput);\n    events.on('delete.Cell', handleClearOutput);\n\n    /* Handle when a new output is added */\n    events.on('output_added.OutputArea', handleAddOutput);\n\n    /**\n     * Register the mime type and append_mime function with output_area\n     */\n    OutputArea.prototype.register_mime_type(EXEC_MIME_TYPE, append_mime, {\n      /* Is output safe? */\n      safe: true,\n      /* Index of renderer in `output_area.display_order` */\n      index: 0\n    });\n  }\n\n  // register the mime type if in Jupyter Notebook environment and previously unregistered\n  if (root.Jupyter !== undefined) {\n    const events = require('base/js/events');\n    const OutputArea = require('notebook/js/outputarea').OutputArea;\n\n    if (OutputArea.prototype.mime_types().indexOf(EXEC_MIME_TYPE) == -1) {\n      register_renderer(events, OutputArea);\n    }\n  }\n  if (typeof (root._bokeh_timeout) === \"undefined\" || force === true) {\n    root._bokeh_timeout = Date.now() + 5000;\n    root._bokeh_failed_load = false;\n  }\n\n  const NB_LOAD_WARNING = {'data': {'text/html':\n     \"<div style='background-color: #fdd'>\\n\"+\n     \"<p>\\n\"+\n     \"BokehJS does not appear to have successfully loaded. If loading BokehJS from CDN, this \\n\"+\n     \"may be due to a slow or bad network connection. Possible fixes:\\n\"+\n     \"</p>\\n\"+\n     \"<ul>\\n\"+\n     \"<li>re-rerun `output_notebook()` to attempt to load from CDN again, or</li>\\n\"+\n     \"<li>use INLINE resources instead, as so:</li>\\n\"+\n     \"</ul>\\n\"+\n     \"<code>\\n\"+\n     \"from bokeh.resources import INLINE\\n\"+\n     \"output_notebook(resources=INLINE)\\n\"+\n     \"</code>\\n\"+\n     \"</div>\"}};\n\n  function display_loaded() {\n    const el = document.getElementById(\"1002\");\n    if (el != null) {\n      el.textContent = \"BokehJS is loading...\";\n    }\n    if (root.Bokeh !== undefined) {\n      if (el != null) {\n        el.textContent = \"BokehJS \" + root.Bokeh.version + \" successfully loaded.\";\n      }\n    } else if (Date.now() < root._bokeh_timeout) {\n      setTimeout(display_loaded, 100)\n    }\n  }\n\n  function run_callbacks() {\n    try {\n      root._bokeh_onload_callbacks.forEach(function(callback) {\n        if (callback != null)\n          callback();\n      });\n    } finally {\n      delete root._bokeh_onload_callbacks\n    }\n    console.debug(\"Bokeh: all callbacks have finished\");\n  }\n\n  function load_libs(css_urls, js_urls, callback) {\n    if (css_urls == null) css_urls = [];\n    if (js_urls == null) js_urls = [];\n\n    root._bokeh_onload_callbacks.push(callback);\n    if (root._bokeh_is_loading > 0) {\n      console.debug(\"Bokeh: BokehJS is being loaded, scheduling callback at\", now());\n      return null;\n    }\n    if (js_urls == null || js_urls.length === 0) {\n      run_callbacks();\n      return null;\n    }\n    console.debug(\"Bokeh: BokehJS not loaded, scheduling load and callback at\", now());\n    root._bokeh_is_loading = css_urls.length + js_urls.length;\n\n    function on_load() {\n      root._bokeh_is_loading--;\n      if (root._bokeh_is_loading === 0) {\n        console.debug(\"Bokeh: all BokehJS libraries/stylesheets loaded\");\n        run_callbacks()\n      }\n    }\n\n    function on_error(url) {\n      console.error(\"failed to load \" + url);\n    }\n\n    for (let i = 0; i < css_urls.length; i++) {\n      const url = css_urls[i];\n      const element = document.createElement(\"link\");\n      element.onload = on_load;\n      element.onerror = on_error.bind(null, url);\n      element.rel = \"stylesheet\";\n      element.type = \"text/css\";\n      element.href = url;\n      console.debug(\"Bokeh: injecting link tag for BokehJS stylesheet: \", url);\n      document.body.appendChild(element);\n    }\n\n    for (let i = 0; i < js_urls.length; i++) {\n      const url = js_urls[i];\n      const element = document.createElement('script');\n      element.onload = on_load;\n      element.onerror = on_error.bind(null, url);\n      element.async = false;\n      element.src = url;\n      console.debug(\"Bokeh: injecting script tag for BokehJS library: \", url);\n      document.head.appendChild(element);\n    }\n  };\n\n  function inject_raw_css(css) {\n    const element = document.createElement(\"style\");\n    element.appendChild(document.createTextNode(css));\n    document.body.appendChild(element);\n  }\n\n  const js_urls = [\"https://cdn.bokeh.org/bokeh/release/bokeh-2.4.3.min.js\", \"https://cdn.bokeh.org/bokeh/release/bokeh-gl-2.4.3.min.js\", \"https://cdn.bokeh.org/bokeh/release/bokeh-widgets-2.4.3.min.js\", \"https://cdn.bokeh.org/bokeh/release/bokeh-tables-2.4.3.min.js\", \"https://cdn.bokeh.org/bokeh/release/bokeh-mathjax-2.4.3.min.js\"];\n  const css_urls = [];\n\n  const inline_js = [    function(Bokeh) {\n      Bokeh.set_log_level(\"info\");\n    },\nfunction(Bokeh) {\n    }\n  ];\n\n  function run_inline_js() {\n    if (root.Bokeh !== undefined || force === true) {\n          for (let i = 0; i < inline_js.length; i++) {\n      inline_js[i].call(root, root.Bokeh);\n    }\nif (force === true) {\n        display_loaded();\n      }} else if (Date.now() < root._bokeh_timeout) {\n      setTimeout(run_inline_js, 100);\n    } else if (!root._bokeh_failed_load) {\n      console.log(\"Bokeh: BokehJS failed to load within specified timeout.\");\n      root._bokeh_failed_load = true;\n    } else if (force !== true) {\n      const cell = $(document.getElementById(\"1002\")).parents('.cell').data().cell;\n      cell.output_area.append_execute_result(NB_LOAD_WARNING)\n    }\n  }\n\n  if (root._bokeh_is_loading === 0) {\n    console.debug(\"Bokeh: BokehJS loaded, going straight to plotting\");\n    run_inline_js();\n  } else {\n    load_libs(css_urls, js_urls, function() {\n      console.debug(\"Bokeh: BokehJS plotting callback run at\", now());\n      run_inline_js();\n    });\n  }\n}(window));",
      "application/vnd.bokehjs_load.v0+json": ""
     },
     "metadata": {},
     "output_type": "display_data"
    }
   ],
   "source": [
    "from bokeh.io import push_notebook, show, output_notebook\n",
    "from bokeh.layouts import row\n",
    "from bokeh.plotting import figure\n",
    "output_notebook()\n",
    "\n",
    "# 准备一些数据\n",
    "x = [1, 2, 3, 4, 5]\n",
    "y = [6, 7, 2, 4, 5]"
   ]
  },
  {
   "cell_type": "markdown",
   "metadata": {},
   "source": [
    "创建具有标题和轴标签的绘图："
   ]
  },
  {
   "cell_type": "code",
   "execution_count": 2,
   "metadata": {},
   "outputs": [],
   "source": [
    "p = figure(title=\"Simple line example\", \n",
    "           x_axis_label='x', \n",
    "           y_axis_label='y')"
   ]
  },
  {
   "cell_type": "markdown",
   "metadata": {},
   "source": [
    "添加带有图例和线粗细的 line 渲染器："
   ]
  },
  {
   "cell_type": "code",
   "execution_count": 3,
   "metadata": {},
   "outputs": [],
   "source": [
    "p.line(x, y, legend_label=\"Temp.\", line_width=2);"
   ]
  },
  {
   "cell_type": "markdown",
   "metadata": {},
   "source": [
    "最后，使用 {func}`show` 函数生成图形，并打开 Web 浏览器显示生成的 HTML 文件。"
   ]
  },
  {
   "cell_type": "code",
   "execution_count": 4,
   "metadata": {},
   "outputs": [
    {
     "data": {
      "text/html": [
       "\n",
       "  <div class=\"bk-root\" id=\"1e31f0f8-3c19-46f4-8e1a-9adf72f6fb0e\" data-root-id=\"1003\"></div>\n"
      ]
     },
     "metadata": {},
     "output_type": "display_data"
    },
    {
     "data": {
      "application/javascript": "(function(root) {\n  function embed_document(root) {\n  const docs_json = {\"14ac924e-273a-471d-9c8c-070f16c766dc\":{\"defs\":[],\"roots\":{\"references\":[{\"attributes\":{\"below\":[{\"id\":\"1014\"}],\"center\":[{\"id\":\"1017\"},{\"id\":\"1021\"},{\"id\":\"1052\"}],\"left\":[{\"id\":\"1018\"}],\"renderers\":[{\"id\":\"1040\"}],\"title\":{\"id\":\"1004\"},\"toolbar\":{\"id\":\"1029\"},\"x_range\":{\"id\":\"1006\"},\"x_scale\":{\"id\":\"1010\"},\"y_range\":{\"id\":\"1008\"},\"y_scale\":{\"id\":\"1012\"}},\"id\":\"1003\",\"subtype\":\"Figure\",\"type\":\"Plot\"},{\"attributes\":{\"tools\":[{\"id\":\"1022\"},{\"id\":\"1023\"},{\"id\":\"1024\"},{\"id\":\"1025\"},{\"id\":\"1026\"},{\"id\":\"1027\"}]},\"id\":\"1029\",\"type\":\"Toolbar\"},{\"attributes\":{\"axis_label\":\"y\",\"coordinates\":null,\"formatter\":{\"id\":\"1044\"},\"group\":null,\"major_label_policy\":{\"id\":\"1045\"},\"ticker\":{\"id\":\"1019\"}},\"id\":\"1018\",\"type\":\"LinearAxis\"},{\"attributes\":{},\"id\":\"1019\",\"type\":\"BasicTicker\"},{\"attributes\":{},\"id\":\"1044\",\"type\":\"BasicTickFormatter\"},{\"attributes\":{\"line_color\":\"#1f77b4\",\"line_width\":2,\"x\":{\"field\":\"x\"},\"y\":{\"field\":\"y\"}},\"id\":\"1037\",\"type\":\"Line\"},{\"attributes\":{},\"id\":\"1015\",\"type\":\"BasicTicker\"},{\"attributes\":{},\"id\":\"1010\",\"type\":\"LinearScale\"},{\"attributes\":{\"axis\":{\"id\":\"1014\"},\"coordinates\":null,\"group\":null,\"ticker\":null},\"id\":\"1017\",\"type\":\"Grid\"},{\"attributes\":{},\"id\":\"1050\",\"type\":\"Selection\"},{\"attributes\":{\"data\":{\"x\":[1,2,3,4,5],\"y\":[6,7,2,4,5]},\"selected\":{\"id\":\"1050\"},\"selection_policy\":{\"id\":\"1049\"}},\"id\":\"1036\",\"type\":\"ColumnDataSource\"},{\"attributes\":{},\"id\":\"1027\",\"type\":\"HelpTool\"},{\"attributes\":{},\"id\":\"1049\",\"type\":\"UnionRenderers\"},{\"attributes\":{\"line_alpha\":0.1,\"line_color\":\"#1f77b4\",\"line_width\":2,\"x\":{\"field\":\"x\"},\"y\":{\"field\":\"y\"}},\"id\":\"1038\",\"type\":\"Line\"},{\"attributes\":{},\"id\":\"1026\",\"type\":\"ResetTool\"},{\"attributes\":{\"line_alpha\":0.2,\"line_color\":\"#1f77b4\",\"line_width\":2,\"x\":{\"field\":\"x\"},\"y\":{\"field\":\"y\"}},\"id\":\"1039\",\"type\":\"Line\"},{\"attributes\":{},\"id\":\"1025\",\"type\":\"SaveTool\"},{\"attributes\":{\"coordinates\":null,\"data_source\":{\"id\":\"1036\"},\"glyph\":{\"id\":\"1037\"},\"group\":null,\"hover_glyph\":null,\"muted_glyph\":{\"id\":\"1039\"},\"nonselection_glyph\":{\"id\":\"1038\"},\"view\":{\"id\":\"1041\"}},\"id\":\"1040\",\"type\":\"GlyphRenderer\"},{\"attributes\":{\"overlay\":{\"id\":\"1028\"}},\"id\":\"1024\",\"type\":\"BoxZoomTool\"},{\"attributes\":{\"label\":{\"value\":\"Temp.\"},\"renderers\":[{\"id\":\"1040\"}]},\"id\":\"1053\",\"type\":\"LegendItem\"},{\"attributes\":{},\"id\":\"1023\",\"type\":\"WheelZoomTool\"},{\"attributes\":{\"axis_label\":\"x\",\"coordinates\":null,\"formatter\":{\"id\":\"1047\"},\"group\":null,\"major_label_policy\":{\"id\":\"1048\"},\"ticker\":{\"id\":\"1015\"}},\"id\":\"1014\",\"type\":\"LinearAxis\"},{\"attributes\":{\"coordinates\":null,\"group\":null,\"text\":\"Simple line example\"},\"id\":\"1004\",\"type\":\"Title\"},{\"attributes\":{},\"id\":\"1022\",\"type\":\"PanTool\"},{\"attributes\":{\"axis\":{\"id\":\"1018\"},\"coordinates\":null,\"dimension\":1,\"group\":null,\"ticker\":null},\"id\":\"1021\",\"type\":\"Grid\"},{\"attributes\":{\"source\":{\"id\":\"1036\"}},\"id\":\"1041\",\"type\":\"CDSView\"},{\"attributes\":{},\"id\":\"1012\",\"type\":\"LinearScale\"},{\"attributes\":{},\"id\":\"1008\",\"type\":\"DataRange1d\"},{\"attributes\":{},\"id\":\"1048\",\"type\":\"AllLabels\"},{\"attributes\":{\"coordinates\":null,\"group\":null,\"items\":[{\"id\":\"1053\"}]},\"id\":\"1052\",\"type\":\"Legend\"},{\"attributes\":{\"bottom_units\":\"screen\",\"coordinates\":null,\"fill_alpha\":0.5,\"fill_color\":\"lightgrey\",\"group\":null,\"left_units\":\"screen\",\"level\":\"overlay\",\"line_alpha\":1.0,\"line_color\":\"black\",\"line_dash\":[4,4],\"line_width\":2,\"right_units\":\"screen\",\"syncable\":false,\"top_units\":\"screen\"},\"id\":\"1028\",\"type\":\"BoxAnnotation\"},{\"attributes\":{},\"id\":\"1045\",\"type\":\"AllLabels\"},{\"attributes\":{},\"id\":\"1006\",\"type\":\"DataRange1d\"},{\"attributes\":{},\"id\":\"1047\",\"type\":\"BasicTickFormatter\"}],\"root_ids\":[\"1003\"]},\"title\":\"Bokeh Application\",\"version\":\"2.4.3\"}};\n  const render_items = [{\"docid\":\"14ac924e-273a-471d-9c8c-070f16c766dc\",\"root_ids\":[\"1003\"],\"roots\":{\"1003\":\"1e31f0f8-3c19-46f4-8e1a-9adf72f6fb0e\"}}];\n  root.Bokeh.embed.embed_items_notebook(docs_json, render_items);\n  }\n  if (root.Bokeh !== undefined) {\n    embed_document(root);\n  } else {\n    let attempts = 0;\n    const timer = setInterval(function(root) {\n      if (root.Bokeh !== undefined) {\n        clearInterval(timer);\n        embed_document(root);\n      } else {\n        attempts++;\n        if (attempts > 100) {\n          clearInterval(timer);\n          console.log(\"Bokeh: ERROR: Unable to run BokehJS code because BokehJS library is missing\");\n        }\n      }\n    }, 10, root)\n  }\n})(window);",
      "application/vnd.bokehjs_exec.v0+json": ""
     },
     "metadata": {
      "application/vnd.bokehjs_exec.v0+json": {
       "id": "1003"
      }
     },
     "output_type": "display_data"
    }
   ],
   "source": [
    "show(p)"
   ]
  },
  {
   "cell_type": "code",
   "execution_count": 5,
   "metadata": {},
   "outputs": [
    {
     "data": {
      "text/html": [
       "\n",
       "  <div class=\"bk-root\" id=\"55bb24aa-1bde-4cd7-9aa0-a220e2b373a1\" data-root-id=\"1114\"></div>\n"
      ]
     },
     "metadata": {},
     "output_type": "display_data"
    },
    {
     "data": {
      "application/javascript": "(function(root) {\n  function embed_document(root) {\n  const docs_json = {\"d47ecb33-0462-497e-b330-30bcb63f0541\":{\"defs\":[],\"roots\":{\"references\":[{\"attributes\":{\"below\":[{\"id\":\"1125\"}],\"center\":[{\"id\":\"1128\"},{\"id\":\"1132\"},{\"id\":\"1163\"}],\"left\":[{\"id\":\"1129\"}],\"renderers\":[{\"id\":\"1151\"},{\"id\":\"1169\"},{\"id\":\"1188\"}],\"title\":{\"id\":\"1115\"},\"toolbar\":{\"id\":\"1140\"},\"x_range\":{\"id\":\"1117\"},\"x_scale\":{\"id\":\"1121\"},\"y_range\":{\"id\":\"1119\"},\"y_scale\":{\"id\":\"1123\"}},\"id\":\"1114\",\"subtype\":\"Figure\",\"type\":\"Plot\"},{\"attributes\":{\"tools\":[{\"id\":\"1133\"},{\"id\":\"1134\"},{\"id\":\"1135\"},{\"id\":\"1136\"},{\"id\":\"1137\"},{\"id\":\"1138\"}]},\"id\":\"1140\",\"type\":\"Toolbar\"},{\"attributes\":{},\"id\":\"1121\",\"type\":\"LinearScale\"},{\"attributes\":{\"axis\":{\"id\":\"1125\"},\"coordinates\":null,\"group\":null,\"ticker\":null},\"id\":\"1128\",\"type\":\"Grid\"},{\"attributes\":{},\"id\":\"1126\",\"type\":\"BasicTicker\"},{\"attributes\":{},\"id\":\"1181\",\"type\":\"Selection\"},{\"attributes\":{\"data\":{\"x\":[1,2,3,4,5],\"y\":[4,5,5,7,2]},\"selected\":{\"id\":\"1202\"},\"selection_policy\":{\"id\":\"1201\"}},\"id\":\"1184\",\"type\":\"ColumnDataSource\"},{\"attributes\":{\"label\":{\"value\":\"Rate\"},\"renderers\":[{\"id\":\"1169\"}]},\"id\":\"1183\",\"type\":\"LegendItem\"},{\"attributes\":{\"line_alpha\":0.2,\"line_color\":\"red\",\"line_width\":2,\"x\":{\"field\":\"x\"},\"y\":{\"field\":\"y\"}},\"id\":\"1168\",\"type\":\"Line\"},{\"attributes\":{},\"id\":\"1180\",\"type\":\"UnionRenderers\"},{\"attributes\":{\"line_alpha\":0.1,\"line_color\":\"red\",\"line_width\":2,\"x\":{\"field\":\"x\"},\"y\":{\"field\":\"y\"}},\"id\":\"1167\",\"type\":\"Line\"},{\"attributes\":{},\"id\":\"1161\",\"type\":\"Selection\"},{\"attributes\":{},\"id\":\"1123\",\"type\":\"LinearScale\"},{\"attributes\":{},\"id\":\"1155\",\"type\":\"BasicTickFormatter\"},{\"attributes\":{},\"id\":\"1156\",\"type\":\"AllLabels\"},{\"attributes\":{\"coordinates\":null,\"data_source\":{\"id\":\"1165\"},\"glyph\":{\"id\":\"1166\"},\"group\":null,\"hover_glyph\":null,\"muted_glyph\":{\"id\":\"1168\"},\"nonselection_glyph\":{\"id\":\"1167\"},\"view\":{\"id\":\"1170\"}},\"id\":\"1169\",\"type\":\"GlyphRenderer\"},{\"attributes\":{\"line_color\":\"red\",\"line_width\":2,\"x\":{\"field\":\"x\"},\"y\":{\"field\":\"y\"}},\"id\":\"1166\",\"type\":\"Line\"},{\"attributes\":{\"label\":{\"value\":\"Temp.\"},\"renderers\":[{\"id\":\"1151\"}]},\"id\":\"1164\",\"type\":\"LegendItem\"},{\"attributes\":{\"line_alpha\":0.1,\"line_color\":\"blue\",\"line_width\":2,\"x\":{\"field\":\"x\"},\"y\":{\"field\":\"y\"}},\"id\":\"1149\",\"type\":\"Line\"},{\"attributes\":{\"line_color\":\"green\",\"line_width\":2,\"x\":{\"field\":\"x\"},\"y\":{\"field\":\"y\"}},\"id\":\"1185\",\"type\":\"Line\"},{\"attributes\":{\"source\":{\"id\":\"1165\"}},\"id\":\"1170\",\"type\":\"CDSView\"},{\"attributes\":{},\"id\":\"1160\",\"type\":\"UnionRenderers\"},{\"attributes\":{\"coordinates\":null,\"data_source\":{\"id\":\"1184\"},\"glyph\":{\"id\":\"1185\"},\"group\":null,\"hover_glyph\":null,\"muted_glyph\":{\"id\":\"1187\"},\"nonselection_glyph\":{\"id\":\"1186\"},\"view\":{\"id\":\"1189\"}},\"id\":\"1188\",\"type\":\"GlyphRenderer\"},{\"attributes\":{\"line_alpha\":0.2,\"line_color\":\"blue\",\"line_width\":2,\"x\":{\"field\":\"x\"},\"y\":{\"field\":\"y\"}},\"id\":\"1150\",\"type\":\"Line\"},{\"attributes\":{\"bottom_units\":\"screen\",\"coordinates\":null,\"fill_alpha\":0.5,\"fill_color\":\"lightgrey\",\"group\":null,\"left_units\":\"screen\",\"level\":\"overlay\",\"line_alpha\":1.0,\"line_color\":\"black\",\"line_dash\":[4,4],\"line_width\":2,\"right_units\":\"screen\",\"syncable\":false,\"top_units\":\"screen\"},\"id\":\"1139\",\"type\":\"BoxAnnotation\"},{\"attributes\":{\"source\":{\"id\":\"1147\"}},\"id\":\"1152\",\"type\":\"CDSView\"},{\"attributes\":{\"source\":{\"id\":\"1184\"}},\"id\":\"1189\",\"type\":\"CDSView\"},{\"attributes\":{\"coordinates\":null,\"group\":null,\"items\":[{\"id\":\"1164\"},{\"id\":\"1183\"},{\"id\":\"1204\"}]},\"id\":\"1163\",\"type\":\"Legend\"},{\"attributes\":{\"coordinates\":null,\"group\":null,\"text\":\"Multiple line example\"},\"id\":\"1115\",\"type\":\"Title\"},{\"attributes\":{},\"id\":\"1158\",\"type\":\"BasicTickFormatter\"},{\"attributes\":{\"line_color\":\"blue\",\"line_width\":2,\"x\":{\"field\":\"x\"},\"y\":{\"field\":\"y\"}},\"id\":\"1148\",\"type\":\"Line\"},{\"attributes\":{\"axis_label\":\"x\",\"coordinates\":null,\"formatter\":{\"id\":\"1158\"},\"group\":null,\"major_label_policy\":{\"id\":\"1159\"},\"ticker\":{\"id\":\"1126\"}},\"id\":\"1125\",\"type\":\"LinearAxis\"},{\"attributes\":{\"line_alpha\":0.2,\"line_color\":\"green\",\"line_width\":2,\"x\":{\"field\":\"x\"},\"y\":{\"field\":\"y\"}},\"id\":\"1187\",\"type\":\"Line\"},{\"attributes\":{},\"id\":\"1137\",\"type\":\"ResetTool\"},{\"attributes\":{\"line_alpha\":0.1,\"line_color\":\"green\",\"line_width\":2,\"x\":{\"field\":\"x\"},\"y\":{\"field\":\"y\"}},\"id\":\"1186\",\"type\":\"Line\"},{\"attributes\":{},\"id\":\"1159\",\"type\":\"AllLabels\"},{\"attributes\":{},\"id\":\"1136\",\"type\":\"SaveTool\"},{\"attributes\":{\"overlay\":{\"id\":\"1139\"}},\"id\":\"1135\",\"type\":\"BoxZoomTool\"},{\"attributes\":{},\"id\":\"1133\",\"type\":\"PanTool\"},{\"attributes\":{},\"id\":\"1138\",\"type\":\"HelpTool\"},{\"attributes\":{},\"id\":\"1202\",\"type\":\"Selection\"},{\"attributes\":{},\"id\":\"1119\",\"type\":\"DataRange1d\"},{\"attributes\":{\"data\":{\"x\":[1,2,3,4,5],\"y\":[6,7,2,4,5]},\"selected\":{\"id\":\"1161\"},\"selection_policy\":{\"id\":\"1160\"}},\"id\":\"1147\",\"type\":\"ColumnDataSource\"},{\"attributes\":{\"label\":{\"value\":\"Objects\"},\"renderers\":[{\"id\":\"1188\"}]},\"id\":\"1204\",\"type\":\"LegendItem\"},{\"attributes\":{},\"id\":\"1130\",\"type\":\"BasicTicker\"},{\"attributes\":{\"axis\":{\"id\":\"1129\"},\"coordinates\":null,\"dimension\":1,\"group\":null,\"ticker\":null},\"id\":\"1132\",\"type\":\"Grid\"},{\"attributes\":{\"data\":{\"x\":[1,2,3,4,5],\"y\":[2,3,4,5,6]},\"selected\":{\"id\":\"1181\"},\"selection_policy\":{\"id\":\"1180\"}},\"id\":\"1165\",\"type\":\"ColumnDataSource\"},{\"attributes\":{},\"id\":\"1201\",\"type\":\"UnionRenderers\"},{\"attributes\":{},\"id\":\"1117\",\"type\":\"DataRange1d\"},{\"attributes\":{\"axis_label\":\"y\",\"coordinates\":null,\"formatter\":{\"id\":\"1155\"},\"group\":null,\"major_label_policy\":{\"id\":\"1156\"},\"ticker\":{\"id\":\"1130\"}},\"id\":\"1129\",\"type\":\"LinearAxis\"},{\"attributes\":{},\"id\":\"1134\",\"type\":\"WheelZoomTool\"},{\"attributes\":{\"coordinates\":null,\"data_source\":{\"id\":\"1147\"},\"glyph\":{\"id\":\"1148\"},\"group\":null,\"hover_glyph\":null,\"muted_glyph\":{\"id\":\"1150\"},\"nonselection_glyph\":{\"id\":\"1149\"},\"view\":{\"id\":\"1152\"}},\"id\":\"1151\",\"type\":\"GlyphRenderer\"}],\"root_ids\":[\"1114\"]},\"title\":\"Bokeh Application\",\"version\":\"2.4.3\"}};\n  const render_items = [{\"docid\":\"d47ecb33-0462-497e-b330-30bcb63f0541\",\"root_ids\":[\"1114\"],\"roots\":{\"1114\":\"55bb24aa-1bde-4cd7-9aa0-a220e2b373a1\"}}];\n  root.Bokeh.embed.embed_items_notebook(docs_json, render_items);\n  }\n  if (root.Bokeh !== undefined) {\n    embed_document(root);\n  } else {\n    let attempts = 0;\n    const timer = setInterval(function(root) {\n      if (root.Bokeh !== undefined) {\n        clearInterval(timer);\n        embed_document(root);\n      } else {\n        attempts++;\n        if (attempts > 100) {\n          clearInterval(timer);\n          console.log(\"Bokeh: ERROR: Unable to run BokehJS code because BokehJS library is missing\");\n        }\n      }\n    }, 10, root)\n  }\n})(window);",
      "application/vnd.bokehjs_exec.v0+json": ""
     },
     "metadata": {
      "application/vnd.bokehjs_exec.v0+json": {
       "id": "1114"
      }
     },
     "output_type": "display_data"
    }
   ],
   "source": [
    "# prepare some data\n",
    "x = [1, 2, 3, 4, 5]\n",
    "y1 = [6, 7, 2, 4, 5]\n",
    "y2 = [2, 3, 4, 5, 6]\n",
    "y3 = [4, 5, 5, 7, 2]\n",
    "\n",
    "# create a new plot with a title and axis labels\n",
    "p = figure(title=\"Multiple line example\", x_axis_label=\"x\", y_axis_label=\"y\")\n",
    "\n",
    "# add multiple renderers\n",
    "p.line(x, y1, legend_label=\"Temp.\", color=\"blue\", line_width=2)\n",
    "p.line(x, y2, legend_label=\"Rate\", color=\"red\", line_width=2)\n",
    "p.line(x, y3, legend_label=\"Objects\", color=\"green\", line_width=2)\n",
    "\n",
    "# 显示结果\n",
    "show(p)\n",
    "# save() 可以保存结果"
   ]
  },
  {
   "cell_type": "markdown",
   "metadata": {},
   "source": [
    "## 添加自定义渲染\n",
    "\n",
    "Bokeh 的 {func}`figure` 函数中提供了所有受支持的 glyphs 方法的完整列表。"
   ]
  },
  {
   "cell_type": "code",
   "execution_count": 6,
   "metadata": {},
   "outputs": [
    {
     "data": {
      "text/html": [
       "\n",
       "  <div class=\"bk-root\" id=\"a0ea1346-aae1-4dfa-a7cc-2c1fc5b1a92b\" data-root-id=\"1299\"></div>\n"
      ]
     },
     "metadata": {},
     "output_type": "display_data"
    },
    {
     "data": {
      "application/javascript": "(function(root) {\n  function embed_document(root) {\n  const docs_json = {\"8b816743-7c89-4f61-83ae-70c786f1065d\":{\"defs\":[],\"roots\":{\"references\":[{\"attributes\":{\"below\":[{\"id\":\"1310\"}],\"center\":[{\"id\":\"1313\"},{\"id\":\"1317\"},{\"id\":\"1348\"}],\"left\":[{\"id\":\"1314\"}],\"renderers\":[{\"id\":\"1336\"},{\"id\":\"1354\"},{\"id\":\"1373\"}],\"title\":{\"id\":\"1300\"},\"toolbar\":{\"id\":\"1325\"},\"x_range\":{\"id\":\"1302\"},\"x_scale\":{\"id\":\"1306\"},\"y_range\":{\"id\":\"1304\"},\"y_scale\":{\"id\":\"1308\"}},\"id\":\"1299\",\"subtype\":\"Figure\",\"type\":\"Plot\"},{\"attributes\":{\"line_color\":\"blue\",\"line_width\":2,\"x\":{\"field\":\"x\"},\"y\":{\"field\":\"y\"}},\"id\":\"1333\",\"type\":\"Line\"},{\"attributes\":{},\"id\":\"1341\",\"type\":\"AllLabels\"},{\"attributes\":{},\"id\":\"1302\",\"type\":\"DataRange1d\"},{\"attributes\":{},\"id\":\"1343\",\"type\":\"BasicTickFormatter\"},{\"attributes\":{\"data\":{\"x\":[1,2,3,4,5],\"y\":[6,7,2,4,5]},\"selected\":{\"id\":\"1346\"},\"selection_policy\":{\"id\":\"1345\"}},\"id\":\"1332\",\"type\":\"ColumnDataSource\"},{\"attributes\":{\"coordinates\":null,\"data_source\":{\"id\":\"1350\"},\"glyph\":{\"id\":\"1351\"},\"group\":null,\"hover_glyph\":null,\"muted_glyph\":{\"id\":\"1353\"},\"nonselection_glyph\":{\"id\":\"1352\"},\"view\":{\"id\":\"1355\"}},\"id\":\"1354\",\"type\":\"GlyphRenderer\"},{\"attributes\":{\"data\":{\"top\":[2,3,4,5,6],\"x\":[1,2,3,4,5]},\"selected\":{\"id\":\"1366\"},\"selection_policy\":{\"id\":\"1365\"}},\"id\":\"1350\",\"type\":\"ColumnDataSource\"},{\"attributes\":{},\"id\":\"1344\",\"type\":\"AllLabels\"},{\"attributes\":{},\"id\":\"1304\",\"type\":\"DataRange1d\"},{\"attributes\":{},\"id\":\"1322\",\"type\":\"ResetTool\"},{\"attributes\":{},\"id\":\"1308\",\"type\":\"LinearScale\"},{\"attributes\":{\"coordinates\":null,\"group\":null,\"text\":\"Multiple glyphs example\"},\"id\":\"1300\",\"type\":\"Title\"},{\"attributes\":{},\"id\":\"1311\",\"type\":\"BasicTicker\"},{\"attributes\":{\"bottom_units\":\"screen\",\"coordinates\":null,\"fill_alpha\":0.5,\"fill_color\":\"lightgrey\",\"group\":null,\"left_units\":\"screen\",\"level\":\"overlay\",\"line_alpha\":1.0,\"line_color\":\"black\",\"line_dash\":[4,4],\"line_width\":2,\"right_units\":\"screen\",\"syncable\":false,\"top_units\":\"screen\"},\"id\":\"1324\",\"type\":\"BoxAnnotation\"},{\"attributes\":{\"axis\":{\"id\":\"1310\"},\"coordinates\":null,\"group\":null,\"ticker\":null},\"id\":\"1313\",\"type\":\"Grid\"},{\"attributes\":{\"label\":{\"value\":\"Rate\"},\"renderers\":[{\"id\":\"1354\"}]},\"id\":\"1368\",\"type\":\"LegendItem\"},{\"attributes\":{},\"id\":\"1306\",\"type\":\"LinearScale\"},{\"attributes\":{\"axis_label\":\"x\",\"coordinates\":null,\"formatter\":{\"id\":\"1343\"},\"group\":null,\"major_label_policy\":{\"id\":\"1344\"},\"ticker\":{\"id\":\"1311\"}},\"id\":\"1310\",\"type\":\"LinearAxis\"},{\"attributes\":{\"axis\":{\"id\":\"1314\"},\"coordinates\":null,\"dimension\":1,\"group\":null,\"ticker\":null},\"id\":\"1317\",\"type\":\"Grid\"},{\"attributes\":{},\"id\":\"1323\",\"type\":\"HelpTool\"},{\"attributes\":{},\"id\":\"1345\",\"type\":\"UnionRenderers\"},{\"attributes\":{\"axis_label\":\"y\",\"coordinates\":null,\"formatter\":{\"id\":\"1340\"},\"group\":null,\"major_label_policy\":{\"id\":\"1341\"},\"ticker\":{\"id\":\"1315\"}},\"id\":\"1314\",\"type\":\"LinearAxis\"},{\"attributes\":{\"overlay\":{\"id\":\"1324\"}},\"id\":\"1320\",\"type\":\"BoxZoomTool\"},{\"attributes\":{},\"id\":\"1318\",\"type\":\"PanTool\"},{\"attributes\":{},\"id\":\"1315\",\"type\":\"BasicTicker\"},{\"attributes\":{\"line_alpha\":0.2,\"line_color\":\"blue\",\"line_width\":2,\"x\":{\"field\":\"x\"},\"y\":{\"field\":\"y\"}},\"id\":\"1335\",\"type\":\"Line\"},{\"attributes\":{},\"id\":\"1346\",\"type\":\"Selection\"},{\"attributes\":{\"source\":{\"id\":\"1332\"}},\"id\":\"1337\",\"type\":\"CDSView\"},{\"attributes\":{\"coordinates\":null,\"group\":null,\"items\":[{\"id\":\"1349\"},{\"id\":\"1368\"},{\"id\":\"1389\"}]},\"id\":\"1348\",\"type\":\"Legend\"},{\"attributes\":{},\"id\":\"1365\",\"type\":\"UnionRenderers\"},{\"attributes\":{\"coordinates\":null,\"data_source\":{\"id\":\"1369\"},\"glyph\":{\"id\":\"1370\"},\"group\":null,\"hover_glyph\":null,\"muted_glyph\":{\"id\":\"1372\"},\"nonselection_glyph\":{\"id\":\"1371\"},\"view\":{\"id\":\"1374\"}},\"id\":\"1373\",\"type\":\"GlyphRenderer\"},{\"attributes\":{},\"id\":\"1319\",\"type\":\"WheelZoomTool\"},{\"attributes\":{},\"id\":\"1321\",\"type\":\"SaveTool\"},{\"attributes\":{\"fill_alpha\":{\"value\":0.5},\"fill_color\":{\"value\":\"green\"},\"line_color\":{\"value\":\"blue\"},\"size\":{\"value\":80},\"x\":{\"field\":\"x\"},\"y\":{\"field\":\"y\"}},\"id\":\"1370\",\"type\":\"Circle\"},{\"attributes\":{\"fill_alpha\":{\"value\":0.2},\"fill_color\":{\"value\":\"green\"},\"hatch_alpha\":{\"value\":0.2},\"line_alpha\":{\"value\":0.2},\"line_color\":{\"value\":\"blue\"},\"size\":{\"value\":80},\"x\":{\"field\":\"x\"},\"y\":{\"field\":\"y\"}},\"id\":\"1372\",\"type\":\"Circle\"},{\"attributes\":{\"coordinates\":null,\"data_source\":{\"id\":\"1332\"},\"glyph\":{\"id\":\"1333\"},\"group\":null,\"hover_glyph\":null,\"muted_glyph\":{\"id\":\"1335\"},\"nonselection_glyph\":{\"id\":\"1334\"},\"view\":{\"id\":\"1337\"}},\"id\":\"1336\",\"type\":\"GlyphRenderer\"},{\"attributes\":{\"source\":{\"id\":\"1369\"}},\"id\":\"1374\",\"type\":\"CDSView\"},{\"attributes\":{\"line_alpha\":0.1,\"line_color\":\"blue\",\"line_width\":2,\"x\":{\"field\":\"x\"},\"y\":{\"field\":\"y\"}},\"id\":\"1334\",\"type\":\"Line\"},{\"attributes\":{\"data\":{\"x\":[1,2,3,4,5],\"y\":[6,7,2,4,5]},\"selected\":{\"id\":\"1387\"},\"selection_policy\":{\"id\":\"1386\"}},\"id\":\"1369\",\"type\":\"ColumnDataSource\"},{\"attributes\":{\"fill_alpha\":{\"value\":0.1},\"fill_color\":{\"value\":\"green\"},\"hatch_alpha\":{\"value\":0.1},\"line_alpha\":{\"value\":0.1},\"line_color\":{\"value\":\"blue\"},\"size\":{\"value\":80},\"x\":{\"field\":\"x\"},\"y\":{\"field\":\"y\"}},\"id\":\"1371\",\"type\":\"Circle\"},{\"attributes\":{},\"id\":\"1387\",\"type\":\"Selection\"},{\"attributes\":{\"label\":{\"value\":\"Objects\"},\"renderers\":[{\"id\":\"1373\"}]},\"id\":\"1389\",\"type\":\"LegendItem\"},{\"attributes\":{\"fill_alpha\":{\"value\":0.1},\"fill_color\":{\"value\":\"red\"},\"hatch_alpha\":{\"value\":0.1},\"hatch_color\":{\"value\":\"red\"},\"line_alpha\":{\"value\":0.1},\"line_color\":{\"value\":\"red\"},\"top\":{\"field\":\"top\"},\"width\":{\"value\":0.5},\"x\":{\"field\":\"x\"}},\"id\":\"1352\",\"type\":\"VBar\"},{\"attributes\":{},\"id\":\"1340\",\"type\":\"BasicTickFormatter\"},{\"attributes\":{},\"id\":\"1386\",\"type\":\"UnionRenderers\"},{\"attributes\":{},\"id\":\"1366\",\"type\":\"Selection\"},{\"attributes\":{\"tools\":[{\"id\":\"1318\"},{\"id\":\"1319\"},{\"id\":\"1320\"},{\"id\":\"1321\"},{\"id\":\"1322\"},{\"id\":\"1323\"}]},\"id\":\"1325\",\"type\":\"Toolbar\"},{\"attributes\":{\"label\":{\"value\":\"Temp.\"},\"renderers\":[{\"id\":\"1336\"}]},\"id\":\"1349\",\"type\":\"LegendItem\"},{\"attributes\":{\"fill_alpha\":{\"value\":0.2},\"fill_color\":{\"value\":\"red\"},\"hatch_alpha\":{\"value\":0.2},\"hatch_color\":{\"value\":\"red\"},\"line_alpha\":{\"value\":0.2},\"line_color\":{\"value\":\"red\"},\"top\":{\"field\":\"top\"},\"width\":{\"value\":0.5},\"x\":{\"field\":\"x\"}},\"id\":\"1353\",\"type\":\"VBar\"},{\"attributes\":{\"fill_color\":{\"value\":\"red\"},\"hatch_color\":{\"value\":\"red\"},\"line_color\":{\"value\":\"red\"},\"top\":{\"field\":\"top\"},\"width\":{\"value\":0.5},\"x\":{\"field\":\"x\"}},\"id\":\"1351\",\"type\":\"VBar\"},{\"attributes\":{\"source\":{\"id\":\"1350\"}},\"id\":\"1355\",\"type\":\"CDSView\"}],\"root_ids\":[\"1299\"]},\"title\":\"Bokeh Application\",\"version\":\"2.4.3\"}};\n  const render_items = [{\"docid\":\"8b816743-7c89-4f61-83ae-70c786f1065d\",\"root_ids\":[\"1299\"],\"roots\":{\"1299\":\"a0ea1346-aae1-4dfa-a7cc-2c1fc5b1a92b\"}}];\n  root.Bokeh.embed.embed_items_notebook(docs_json, render_items);\n  }\n  if (root.Bokeh !== undefined) {\n    embed_document(root);\n  } else {\n    let attempts = 0;\n    const timer = setInterval(function(root) {\n      if (root.Bokeh !== undefined) {\n        clearInterval(timer);\n        embed_document(root);\n      } else {\n        attempts++;\n        if (attempts > 100) {\n          clearInterval(timer);\n          console.log(\"Bokeh: ERROR: Unable to run BokehJS code because BokehJS library is missing\");\n        }\n      }\n    }, 10, root)\n  }\n})(window);",
      "application/vnd.bokehjs_exec.v0+json": ""
     },
     "metadata": {
      "application/vnd.bokehjs_exec.v0+json": {
       "id": "1299"
      }
     },
     "output_type": "display_data"
    }
   ],
   "source": [
    "from bokeh.plotting import figure, show\n",
    "\n",
    "# prepare some data\n",
    "x = [1, 2, 3, 4, 5]\n",
    "y1 = [6, 7, 2, 4, 5]\n",
    "y2 = [2, 3, 4, 5, 6]\n",
    "y3 = [4, 5, 5, 7, 2]\n",
    "\n",
    "# create a new plot with a title and axis labels\n",
    "p = figure(title=\"Multiple glyphs example\", x_axis_label=\"x\", y_axis_label=\"y\")\n",
    "\n",
    "# add multiple renderers\n",
    "p.line(x, y1, legend_label=\"Temp.\", color=\"blue\", line_width=2)\n",
    "p.vbar(x=x, top=y2, legend_label=\"Rate\", width=0.5, bottom=0, color=\"red\")\n",
    "p.circle(\n",
    "    x,\n",
    "    y,\n",
    "    legend_label=\"Objects\",\n",
    "    fill_color=\"green\",\n",
    "    fill_alpha=0.5,\n",
    "    line_color=\"blue\",\n",
    "    size=80,\n",
    ")\n",
    "\n",
    "# show the results\n",
    "show(p)"
   ]
  },
  {
   "cell_type": "markdown",
   "metadata": {},
   "source": [
    "可以修改渲染器："
   ]
  },
  {
   "cell_type": "code",
   "execution_count": 7,
   "metadata": {},
   "outputs": [
    {
     "data": {
      "text/html": [
       "\n",
       "  <div class=\"bk-root\" id=\"b049a665-8fd7-4e4f-a2c4-1335546384b9\" data-root-id=\"1299\"></div>\n"
      ]
     },
     "metadata": {},
     "output_type": "display_data"
    },
    {
     "data": {
      "application/javascript": "(function(root) {\n  function embed_document(root) {\n  const docs_json = {\"de9dc392-5b64-4a4a-a95c-ab5b7d4c510b\":{\"defs\":[],\"roots\":{\"references\":[{\"attributes\":{\"below\":[{\"id\":\"1310\"}],\"center\":[{\"id\":\"1313\"},{\"id\":\"1317\"},{\"id\":\"1348\"}],\"left\":[{\"id\":\"1314\"}],\"renderers\":[{\"id\":\"1336\"},{\"id\":\"1354\"},{\"id\":\"1373\"},{\"id\":\"1502\"}],\"title\":{\"id\":\"1300\"},\"toolbar\":{\"id\":\"1325\"},\"x_range\":{\"id\":\"1302\"},\"x_scale\":{\"id\":\"1306\"},\"y_range\":{\"id\":\"1304\"},\"y_scale\":{\"id\":\"1308\"}},\"id\":\"1299\",\"subtype\":\"Figure\",\"type\":\"Plot\"},{\"attributes\":{\"line_color\":\"blue\",\"line_width\":2,\"x\":{\"field\":\"x\"},\"y\":{\"field\":\"y\"}},\"id\":\"1333\",\"type\":\"Line\"},{\"attributes\":{\"source\":{\"id\":\"1498\"}},\"id\":\"1503\",\"type\":\"CDSView\"},{\"attributes\":{},\"id\":\"1341\",\"type\":\"AllLabels\"},{\"attributes\":{},\"id\":\"1302\",\"type\":\"DataRange1d\"},{\"attributes\":{},\"id\":\"1343\",\"type\":\"BasicTickFormatter\"},{\"attributes\":{\"data\":{\"x\":[1,2,3,4,5],\"y\":[6,7,2,4,5]},\"selected\":{\"id\":\"1346\"},\"selection_policy\":{\"id\":\"1345\"}},\"id\":\"1332\",\"type\":\"ColumnDataSource\"},{\"attributes\":{\"coordinates\":null,\"data_source\":{\"id\":\"1350\"},\"glyph\":{\"id\":\"1351\"},\"group\":null,\"hover_glyph\":null,\"muted_glyph\":{\"id\":\"1353\"},\"nonselection_glyph\":{\"id\":\"1352\"},\"view\":{\"id\":\"1355\"}},\"id\":\"1354\",\"type\":\"GlyphRenderer\"},{\"attributes\":{\"data\":{\"top\":[2,3,4,5,6],\"x\":[1,2,3,4,5]},\"selected\":{\"id\":\"1366\"},\"selection_policy\":{\"id\":\"1365\"}},\"id\":\"1350\",\"type\":\"ColumnDataSource\"},{\"attributes\":{\"fill_alpha\":{\"value\":0.1},\"fill_color\":{\"value\":\"green\"},\"hatch_alpha\":{\"value\":0.1},\"line_alpha\":{\"value\":0.1},\"line_color\":{\"value\":\"blue\"},\"size\":{\"value\":80},\"x\":{\"field\":\"x\"},\"y\":{\"field\":\"y\"}},\"id\":\"1500\",\"type\":\"Circle\"},{\"attributes\":{\"fill_alpha\":{\"value\":0.2},\"fill_color\":{\"value\":\"green\"},\"hatch_alpha\":{\"value\":0.2},\"line_alpha\":{\"value\":0.2},\"line_color\":{\"value\":\"blue\"},\"size\":{\"value\":80},\"x\":{\"field\":\"x\"},\"y\":{\"field\":\"y\"}},\"id\":\"1501\",\"type\":\"Circle\"},{\"attributes\":{},\"id\":\"1304\",\"type\":\"DataRange1d\"},{\"attributes\":{},\"id\":\"1344\",\"type\":\"AllLabels\"},{\"attributes\":{},\"id\":\"1322\",\"type\":\"ResetTool\"},{\"attributes\":{},\"id\":\"1308\",\"type\":\"LinearScale\"},{\"attributes\":{\"coordinates\":null,\"group\":null,\"text\":\"Multiple glyphs example\"},\"id\":\"1300\",\"type\":\"Title\"},{\"attributes\":{},\"id\":\"1311\",\"type\":\"BasicTicker\"},{\"attributes\":{\"bottom_units\":\"screen\",\"coordinates\":null,\"fill_alpha\":0.5,\"fill_color\":\"lightgrey\",\"group\":null,\"left_units\":\"screen\",\"level\":\"overlay\",\"line_alpha\":1.0,\"line_color\":\"black\",\"line_dash\":[4,4],\"line_width\":2,\"right_units\":\"screen\",\"syncable\":false,\"top_units\":\"screen\"},\"id\":\"1324\",\"type\":\"BoxAnnotation\"},{\"attributes\":{\"axis\":{\"id\":\"1310\"},\"coordinates\":null,\"group\":null,\"ticker\":null},\"id\":\"1313\",\"type\":\"Grid\"},{\"attributes\":{\"label\":{\"value\":\"Rate\"},\"renderers\":[{\"id\":\"1354\"}]},\"id\":\"1368\",\"type\":\"LegendItem\"},{\"attributes\":{},\"id\":\"1306\",\"type\":\"LinearScale\"},{\"attributes\":{\"axis_label\":\"x\",\"coordinates\":null,\"formatter\":{\"id\":\"1343\"},\"group\":null,\"major_label_policy\":{\"id\":\"1344\"},\"ticker\":{\"id\":\"1311\"}},\"id\":\"1310\",\"type\":\"LinearAxis\"},{\"attributes\":{\"axis\":{\"id\":\"1314\"},\"coordinates\":null,\"dimension\":1,\"group\":null,\"ticker\":null},\"id\":\"1317\",\"type\":\"Grid\"},{\"attributes\":{},\"id\":\"1323\",\"type\":\"HelpTool\"},{\"attributes\":{},\"id\":\"1541\",\"type\":\"UnionRenderers\"},{\"attributes\":{},\"id\":\"1345\",\"type\":\"UnionRenderers\"},{\"attributes\":{\"axis_label\":\"y\",\"coordinates\":null,\"formatter\":{\"id\":\"1340\"},\"group\":null,\"major_label_policy\":{\"id\":\"1341\"},\"ticker\":{\"id\":\"1315\"}},\"id\":\"1314\",\"type\":\"LinearAxis\"},{\"attributes\":{\"overlay\":{\"id\":\"1324\"}},\"id\":\"1320\",\"type\":\"BoxZoomTool\"},{\"attributes\":{},\"id\":\"1318\",\"type\":\"PanTool\"},{\"attributes\":{},\"id\":\"1315\",\"type\":\"BasicTicker\"},{\"attributes\":{\"line_alpha\":0.2,\"line_color\":\"blue\",\"line_width\":2,\"x\":{\"field\":\"x\"},\"y\":{\"field\":\"y\"}},\"id\":\"1335\",\"type\":\"Line\"},{\"attributes\":{},\"id\":\"1346\",\"type\":\"Selection\"},{\"attributes\":{},\"id\":\"1542\",\"type\":\"Selection\"},{\"attributes\":{\"source\":{\"id\":\"1332\"}},\"id\":\"1337\",\"type\":\"CDSView\"},{\"attributes\":{\"coordinates\":null,\"group\":null,\"items\":[{\"id\":\"1349\"},{\"id\":\"1368\"},{\"id\":\"1389\"}]},\"id\":\"1348\",\"type\":\"Legend\"},{\"attributes\":{},\"id\":\"1365\",\"type\":\"UnionRenderers\"},{\"attributes\":{\"coordinates\":null,\"data_source\":{\"id\":\"1369\"},\"glyph\":{\"id\":\"1370\"},\"group\":null,\"hover_glyph\":null,\"muted_glyph\":{\"id\":\"1372\"},\"nonselection_glyph\":{\"id\":\"1371\"},\"view\":{\"id\":\"1374\"}},\"id\":\"1373\",\"type\":\"GlyphRenderer\"},{\"attributes\":{},\"id\":\"1319\",\"type\":\"WheelZoomTool\"},{\"attributes\":{},\"id\":\"1321\",\"type\":\"SaveTool\"},{\"attributes\":{\"fill_alpha\":{\"value\":0.5},\"fill_color\":{\"value\":\"green\"},\"line_color\":{\"value\":\"blue\"},\"size\":{\"value\":80},\"x\":{\"field\":\"x\"},\"y\":{\"field\":\"y\"}},\"id\":\"1370\",\"type\":\"Circle\"},{\"attributes\":{\"fill_alpha\":{\"value\":0.2},\"fill_color\":{\"value\":\"green\"},\"hatch_alpha\":{\"value\":0.2},\"line_alpha\":{\"value\":0.2},\"line_color\":{\"value\":\"blue\"},\"size\":{\"value\":80},\"x\":{\"field\":\"x\"},\"y\":{\"field\":\"y\"}},\"id\":\"1372\",\"type\":\"Circle\"},{\"attributes\":{\"data\":{\"x\":[1,2,3,4,5],\"y\":[6,7,2,4,5]},\"selected\":{\"id\":\"1542\"},\"selection_policy\":{\"id\":\"1541\"}},\"id\":\"1498\",\"type\":\"ColumnDataSource\"},{\"attributes\":{\"fill_alpha\":{\"value\":0.5},\"fill_color\":{\"value\":\"blue\"},\"line_color\":{\"value\":\"blue\"},\"size\":{\"value\":80},\"x\":{\"field\":\"x\"},\"y\":{\"field\":\"y\"}},\"id\":\"1499\",\"type\":\"Circle\"},{\"attributes\":{\"coordinates\":null,\"data_source\":{\"id\":\"1332\"},\"glyph\":{\"id\":\"1333\"},\"group\":null,\"hover_glyph\":null,\"muted_glyph\":{\"id\":\"1335\"},\"nonselection_glyph\":{\"id\":\"1334\"},\"view\":{\"id\":\"1337\"}},\"id\":\"1336\",\"type\":\"GlyphRenderer\"},{\"attributes\":{\"source\":{\"id\":\"1369\"}},\"id\":\"1374\",\"type\":\"CDSView\"},{\"attributes\":{\"line_alpha\":0.1,\"line_color\":\"blue\",\"line_width\":2,\"x\":{\"field\":\"x\"},\"y\":{\"field\":\"y\"}},\"id\":\"1334\",\"type\":\"Line\"},{\"attributes\":{\"data\":{\"x\":[1,2,3,4,5],\"y\":[6,7,2,4,5]},\"selected\":{\"id\":\"1387\"},\"selection_policy\":{\"id\":\"1386\"}},\"id\":\"1369\",\"type\":\"ColumnDataSource\"},{\"attributes\":{\"fill_alpha\":{\"value\":0.1},\"fill_color\":{\"value\":\"green\"},\"hatch_alpha\":{\"value\":0.1},\"line_alpha\":{\"value\":0.1},\"line_color\":{\"value\":\"blue\"},\"size\":{\"value\":80},\"x\":{\"field\":\"x\"},\"y\":{\"field\":\"y\"}},\"id\":\"1371\",\"type\":\"Circle\"},{\"attributes\":{},\"id\":\"1387\",\"type\":\"Selection\"},{\"attributes\":{\"label\":{\"value\":\"Objects\"},\"renderers\":[{\"id\":\"1373\"},{\"id\":\"1502\"}]},\"id\":\"1389\",\"type\":\"LegendItem\"},{\"attributes\":{\"coordinates\":null,\"data_source\":{\"id\":\"1498\"},\"glyph\":{\"id\":\"1499\"},\"group\":null,\"hover_glyph\":null,\"muted_glyph\":{\"id\":\"1501\"},\"nonselection_glyph\":{\"id\":\"1500\"},\"view\":{\"id\":\"1503\"}},\"id\":\"1502\",\"type\":\"GlyphRenderer\"},{\"attributes\":{\"fill_alpha\":{\"value\":0.1},\"fill_color\":{\"value\":\"red\"},\"hatch_alpha\":{\"value\":0.1},\"hatch_color\":{\"value\":\"red\"},\"line_alpha\":{\"value\":0.1},\"line_color\":{\"value\":\"red\"},\"top\":{\"field\":\"top\"},\"width\":{\"value\":0.5},\"x\":{\"field\":\"x\"}},\"id\":\"1352\",\"type\":\"VBar\"},{\"attributes\":{},\"id\":\"1340\",\"type\":\"BasicTickFormatter\"},{\"attributes\":{},\"id\":\"1386\",\"type\":\"UnionRenderers\"},{\"attributes\":{},\"id\":\"1366\",\"type\":\"Selection\"},{\"attributes\":{\"tools\":[{\"id\":\"1318\"},{\"id\":\"1319\"},{\"id\":\"1320\"},{\"id\":\"1321\"},{\"id\":\"1322\"},{\"id\":\"1323\"}]},\"id\":\"1325\",\"type\":\"Toolbar\"},{\"attributes\":{\"label\":{\"value\":\"Temp.\"},\"renderers\":[{\"id\":\"1336\"}]},\"id\":\"1349\",\"type\":\"LegendItem\"},{\"attributes\":{\"fill_alpha\":{\"value\":0.2},\"fill_color\":{\"value\":\"red\"},\"hatch_alpha\":{\"value\":0.2},\"hatch_color\":{\"value\":\"red\"},\"line_alpha\":{\"value\":0.2},\"line_color\":{\"value\":\"red\"},\"top\":{\"field\":\"top\"},\"width\":{\"value\":0.5},\"x\":{\"field\":\"x\"}},\"id\":\"1353\",\"type\":\"VBar\"},{\"attributes\":{\"fill_color\":{\"value\":\"red\"},\"hatch_color\":{\"value\":\"red\"},\"line_color\":{\"value\":\"red\"},\"top\":{\"field\":\"top\"},\"width\":{\"value\":0.5},\"x\":{\"field\":\"x\"}},\"id\":\"1351\",\"type\":\"VBar\"},{\"attributes\":{\"source\":{\"id\":\"1350\"}},\"id\":\"1355\",\"type\":\"CDSView\"}],\"root_ids\":[\"1299\"]},\"title\":\"Bokeh Application\",\"version\":\"2.4.3\"}};\n  const render_items = [{\"docid\":\"de9dc392-5b64-4a4a-a95c-ab5b7d4c510b\",\"root_ids\":[\"1299\"],\"roots\":{\"1299\":\"b049a665-8fd7-4e4f-a2c4-1335546384b9\"}}];\n  root.Bokeh.embed.embed_items_notebook(docs_json, render_items);\n  }\n  if (root.Bokeh !== undefined) {\n    embed_document(root);\n  } else {\n    let attempts = 0;\n    const timer = setInterval(function(root) {\n      if (root.Bokeh !== undefined) {\n        clearInterval(timer);\n        embed_document(root);\n      } else {\n        attempts++;\n        if (attempts > 100) {\n          clearInterval(timer);\n          console.log(\"Bokeh: ERROR: Unable to run BokehJS code because BokehJS library is missing\");\n        }\n      }\n    }, 10, root)\n  }\n})(window);",
      "application/vnd.bokehjs_exec.v0+json": ""
     },
     "metadata": {
      "application/vnd.bokehjs_exec.v0+json": {
       "id": "1299"
      }
     },
     "output_type": "display_data"
    }
   ],
   "source": [
    "circle = p.circle(\n",
    "    x,\n",
    "    y,\n",
    "    legend_label=\"Objects\",\n",
    "    fill_color=\"green\",\n",
    "    fill_alpha=0.5,\n",
    "    line_color=\"blue\",\n",
    "    size=80,\n",
    ")\n",
    "glyph = circle.glyph\n",
    "glyph.fill_color = \"blue\"\n",
    "show(p)"
   ]
  },
  {
   "cell_type": "markdown",
   "metadata": {},
   "source": [
    "## 添加图例、文本和注释"
   ]
  },
  {
   "cell_type": "code",
   "execution_count": 8,
   "metadata": {},
   "outputs": [
    {
     "data": {
      "text/html": [
       "\n",
       "  <div class=\"bk-root\" id=\"46c85a74-e6b9-4af7-994f-df704a9126e2\" data-root-id=\"1680\"></div>\n"
      ]
     },
     "metadata": {},
     "output_type": "display_data"
    },
    {
     "data": {
      "application/javascript": "(function(root) {\n  function embed_document(root) {\n  const docs_json = {\"146dfc97-51e7-46fe-82ff-9fa437598db0\":{\"defs\":[],\"roots\":{\"references\":[{\"attributes\":{\"below\":[{\"id\":\"1691\"}],\"center\":[{\"id\":\"1694\"},{\"id\":\"1698\"},{\"id\":\"1729\"}],\"left\":[{\"id\":\"1695\"}],\"renderers\":[{\"id\":\"1717\"},{\"id\":\"1735\"}],\"title\":{\"id\":\"1681\"},\"toolbar\":{\"id\":\"1706\"},\"x_range\":{\"id\":\"1683\"},\"x_scale\":{\"id\":\"1687\"},\"y_range\":{\"id\":\"1685\"},\"y_scale\":{\"id\":\"1689\"}},\"id\":\"1680\",\"subtype\":\"Figure\",\"type\":\"Plot\"},{\"attributes\":{\"data\":{\"x\":[1,2,3,4,5],\"y\":[4,5,5,7,2]},\"selected\":{\"id\":\"1727\"},\"selection_policy\":{\"id\":\"1726\"}},\"id\":\"1713\",\"type\":\"ColumnDataSource\"},{\"attributes\":{},\"id\":\"1746\",\"type\":\"UnionRenderers\"},{\"attributes\":{\"line_color\":\"blue\",\"line_width\":2,\"x\":{\"field\":\"x\"},\"y\":{\"field\":\"y\"}},\"id\":\"1714\",\"type\":\"Line\"},{\"attributes\":{\"axis\":{\"id\":\"1695\"},\"coordinates\":null,\"dimension\":1,\"group\":null,\"ticker\":null},\"id\":\"1698\",\"type\":\"Grid\"},{\"attributes\":{},\"id\":\"1726\",\"type\":\"UnionRenderers\"},{\"attributes\":{},\"id\":\"1747\",\"type\":\"Selection\"},{\"attributes\":{},\"id\":\"1696\",\"type\":\"BasicTicker\"},{\"attributes\":{\"tools\":[{\"id\":\"1699\"},{\"id\":\"1700\"},{\"id\":\"1701\"},{\"id\":\"1702\"},{\"id\":\"1703\"},{\"id\":\"1704\"}]},\"id\":\"1706\",\"type\":\"Toolbar\"},{\"attributes\":{\"bottom_units\":\"screen\",\"coordinates\":null,\"fill_alpha\":0.5,\"fill_color\":\"lightgrey\",\"group\":null,\"left_units\":\"screen\",\"level\":\"overlay\",\"line_alpha\":1.0,\"line_color\":\"black\",\"line_dash\":[4,4],\"line_width\":2,\"right_units\":\"screen\",\"syncable\":false,\"top_units\":\"screen\"},\"id\":\"1705\",\"type\":\"BoxAnnotation\"},{\"attributes\":{},\"id\":\"1700\",\"type\":\"WheelZoomTool\"},{\"attributes\":{\"coordinates\":null,\"data_source\":{\"id\":\"1713\"},\"glyph\":{\"id\":\"1714\"},\"group\":null,\"hover_glyph\":null,\"muted_glyph\":{\"id\":\"1716\"},\"nonselection_glyph\":{\"id\":\"1715\"},\"view\":{\"id\":\"1718\"}},\"id\":\"1717\",\"type\":\"GlyphRenderer\"},{\"attributes\":{},\"id\":\"1699\",\"type\":\"PanTool\"},{\"attributes\":{},\"id\":\"1724\",\"type\":\"BasicTickFormatter\"},{\"attributes\":{\"data\":{\"x\":[1,2,3,4,5],\"y\":[2,3,4,5,6]},\"selected\":{\"id\":\"1747\"},\"selection_policy\":{\"id\":\"1746\"}},\"id\":\"1731\",\"type\":\"ColumnDataSource\"},{\"attributes\":{\"overlay\":{\"id\":\"1705\"}},\"id\":\"1701\",\"type\":\"BoxZoomTool\"},{\"attributes\":{},\"id\":\"1685\",\"type\":\"DataRange1d\"},{\"attributes\":{},\"id\":\"1702\",\"type\":\"SaveTool\"},{\"attributes\":{},\"id\":\"1689\",\"type\":\"LinearScale\"},{\"attributes\":{},\"id\":\"1703\",\"type\":\"ResetTool\"},{\"attributes\":{\"coordinates\":null,\"group\":null,\"text\":\"Legend example\"},\"id\":\"1681\",\"type\":\"Title\"},{\"attributes\":{\"coordinates\":null,\"formatter\":{\"id\":\"1721\"},\"group\":null,\"major_label_policy\":{\"id\":\"1722\"},\"ticker\":{\"id\":\"1696\"}},\"id\":\"1695\",\"type\":\"LinearAxis\"},{\"attributes\":{},\"id\":\"1692\",\"type\":\"BasicTicker\"},{\"attributes\":{\"axis\":{\"id\":\"1691\"},\"coordinates\":null,\"group\":null,\"ticker\":null},\"id\":\"1694\",\"type\":\"Grid\"},{\"attributes\":{},\"id\":\"1687\",\"type\":\"LinearScale\"},{\"attributes\":{\"coordinates\":null,\"formatter\":{\"id\":\"1724\"},\"group\":null,\"major_label_policy\":{\"id\":\"1725\"},\"ticker\":{\"id\":\"1692\"}},\"id\":\"1691\",\"type\":\"LinearAxis\"},{\"attributes\":{},\"id\":\"1721\",\"type\":\"BasicTickFormatter\"},{\"attributes\":{},\"id\":\"1704\",\"type\":\"HelpTool\"},{\"attributes\":{\"fill_alpha\":{\"value\":0.5},\"fill_color\":{\"value\":\"red\"},\"line_color\":{\"value\":\"blue\"},\"size\":{\"value\":80},\"x\":{\"field\":\"x\"},\"y\":{\"field\":\"y\"}},\"id\":\"1732\",\"type\":\"Circle\"},{\"attributes\":{},\"id\":\"1727\",\"type\":\"Selection\"},{\"attributes\":{},\"id\":\"1722\",\"type\":\"AllLabels\"},{\"attributes\":{\"label\":{\"value\":\"Temp.\"},\"renderers\":[{\"id\":\"1717\"}]},\"id\":\"1730\",\"type\":\"LegendItem\"},{\"attributes\":{\"fill_alpha\":{\"value\":0.2},\"fill_color\":{\"value\":\"red\"},\"hatch_alpha\":{\"value\":0.2},\"line_alpha\":{\"value\":0.2},\"line_color\":{\"value\":\"blue\"},\"size\":{\"value\":80},\"x\":{\"field\":\"x\"},\"y\":{\"field\":\"y\"}},\"id\":\"1734\",\"type\":\"Circle\"},{\"attributes\":{\"coordinates\":null,\"data_source\":{\"id\":\"1731\"},\"glyph\":{\"id\":\"1732\"},\"group\":null,\"hover_glyph\":null,\"muted_glyph\":{\"id\":\"1734\"},\"nonselection_glyph\":{\"id\":\"1733\"},\"view\":{\"id\":\"1736\"}},\"id\":\"1735\",\"type\":\"GlyphRenderer\"},{\"attributes\":{\"background_fill_alpha\":0.2,\"background_fill_color\":\"navy\",\"border_line_alpha\":0.8,\"border_line_color\":\"navy\",\"border_line_width\":3,\"coordinates\":null,\"group\":null,\"items\":[{\"id\":\"1730\"},{\"id\":\"1749\"}],\"label_text_color\":\"navy\",\"label_text_font\":\"times\",\"label_text_font_style\":\"italic\",\"location\":\"top_left\",\"title\":\"Obervations\"},\"id\":\"1729\",\"type\":\"Legend\"},{\"attributes\":{\"line_alpha\":0.1,\"line_color\":\"blue\",\"line_width\":2,\"x\":{\"field\":\"x\"},\"y\":{\"field\":\"y\"}},\"id\":\"1715\",\"type\":\"Line\"},{\"attributes\":{\"source\":{\"id\":\"1731\"}},\"id\":\"1736\",\"type\":\"CDSView\"},{\"attributes\":{\"fill_alpha\":{\"value\":0.1},\"fill_color\":{\"value\":\"red\"},\"hatch_alpha\":{\"value\":0.1},\"line_alpha\":{\"value\":0.1},\"line_color\":{\"value\":\"blue\"},\"size\":{\"value\":80},\"x\":{\"field\":\"x\"},\"y\":{\"field\":\"y\"}},\"id\":\"1733\",\"type\":\"Circle\"},{\"attributes\":{\"line_alpha\":0.2,\"line_color\":\"blue\",\"line_width\":2,\"x\":{\"field\":\"x\"},\"y\":{\"field\":\"y\"}},\"id\":\"1716\",\"type\":\"Line\"},{\"attributes\":{\"label\":{\"value\":\"Objects\"},\"renderers\":[{\"id\":\"1735\"}]},\"id\":\"1749\",\"type\":\"LegendItem\"},{\"attributes\":{\"source\":{\"id\":\"1713\"}},\"id\":\"1718\",\"type\":\"CDSView\"},{\"attributes\":{},\"id\":\"1725\",\"type\":\"AllLabels\"},{\"attributes\":{},\"id\":\"1683\",\"type\":\"DataRange1d\"}],\"root_ids\":[\"1680\"]},\"title\":\"Bokeh Application\",\"version\":\"2.4.3\"}};\n  const render_items = [{\"docid\":\"146dfc97-51e7-46fe-82ff-9fa437598db0\",\"root_ids\":[\"1680\"],\"roots\":{\"1680\":\"46c85a74-e6b9-4af7-994f-df704a9126e2\"}}];\n  root.Bokeh.embed.embed_items_notebook(docs_json, render_items);\n  }\n  if (root.Bokeh !== undefined) {\n    embed_document(root);\n  } else {\n    let attempts = 0;\n    const timer = setInterval(function(root) {\n      if (root.Bokeh !== undefined) {\n        clearInterval(timer);\n        embed_document(root);\n      } else {\n        attempts++;\n        if (attempts > 100) {\n          clearInterval(timer);\n          console.log(\"Bokeh: ERROR: Unable to run BokehJS code because BokehJS library is missing\");\n        }\n      }\n    }, 10, root)\n  }\n})(window);",
      "application/vnd.bokehjs_exec.v0+json": ""
     },
     "metadata": {
      "application/vnd.bokehjs_exec.v0+json": {
       "id": "1680"
      }
     },
     "output_type": "display_data"
    }
   ],
   "source": [
    "# prepare some data\n",
    "x = [1, 2, 3, 4, 5]\n",
    "y1 = [4, 5, 5, 7, 2]\n",
    "y2 = [2, 3, 4, 5, 6]\n",
    "\n",
    "# create a new plot\n",
    "p = figure(title=\"Legend example\")\n",
    "\n",
    "# add circle renderer with legend_label arguments\n",
    "line = p.line(x, y1, legend_label=\"Temp.\", line_color=\"blue\", line_width=2)\n",
    "circle = p.circle(\n",
    "    x,\n",
    "    y2,\n",
    "\n",
    "    legend_label=\"Objects\",\n",
    "\n",
    "    fill_color=\"red\",\n",
    "    fill_alpha=0.5,\n",
    "    line_color=\"blue\",\n",
    "    size=80,\n",
    ")\n",
    "\n",
    "# display legend in top left corner (default is top right corner)\n",
    "\n",
    "p.legend.location = \"top_left\"\n",
    "\n",
    "\n",
    "# add a title to your legend\n",
    "\n",
    "p.legend.title = \"Obervations\"\n",
    "\n",
    "\n",
    "# change appearance of legend text\n",
    "\n",
    "p.legend.label_text_font = \"times\"\n",
    "\n",
    "p.legend.label_text_font_style = \"italic\"\n",
    "\n",
    "p.legend.label_text_color = \"navy\"\n",
    "\n",
    "\n",
    "# change border and background of legend\n",
    "\n",
    "p.legend.border_line_width = 3\n",
    "\n",
    "p.legend.border_line_color = \"navy\"\n",
    "\n",
    "p.legend.border_line_alpha = 0.8\n",
    "\n",
    "p.legend.background_fill_color = \"navy\"\n",
    "\n",
    "p.legend.background_fill_alpha = 0.2\n",
    "\n",
    "\n",
    "# show the results\n",
    "show(p)"
   ]
  },
  {
   "cell_type": "markdown",
   "metadata": {},
   "source": [
    "### 自定义头条"
   ]
  },
  {
   "cell_type": "code",
   "execution_count": 9,
   "metadata": {},
   "outputs": [
    {
     "data": {
      "text/html": [
       "\n",
       "  <div class=\"bk-root\" id=\"34f125c0-09d2-481d-9bda-54298e6bc15e\" data-root-id=\"1862\"></div>\n"
      ]
     },
     "metadata": {},
     "output_type": "display_data"
    },
    {
     "data": {
      "application/javascript": "(function(root) {\n  function embed_document(root) {\n  const docs_json = {\"7ecbae66-6e0d-4cb5-ad06-d122ee11e90b\":{\"defs\":[],\"roots\":{\"references\":[{\"attributes\":{\"below\":[{\"id\":\"1873\"}],\"center\":[{\"id\":\"1876\"},{\"id\":\"1880\"},{\"id\":\"1911\"}],\"left\":[{\"id\":\"1877\"}],\"renderers\":[{\"id\":\"1899\"}],\"title\":{\"id\":\"1863\"},\"title_location\":\"left\",\"toolbar\":{\"id\":\"1888\"},\"x_range\":{\"id\":\"1865\"},\"x_scale\":{\"id\":\"1869\"},\"y_range\":{\"id\":\"1867\"},\"y_scale\":{\"id\":\"1871\"}},\"id\":\"1862\",\"subtype\":\"Figure\",\"type\":\"Plot\"},{\"attributes\":{},\"id\":\"1874\",\"type\":\"BasicTicker\"},{\"attributes\":{\"line_alpha\":0.1,\"line_color\":\"#1f77b4\",\"line_width\":2,\"x\":{\"field\":\"x\"},\"y\":{\"field\":\"y\"}},\"id\":\"1897\",\"type\":\"Line\"},{\"attributes\":{\"line_alpha\":0.2,\"line_color\":\"#1f77b4\",\"line_width\":2,\"x\":{\"field\":\"x\"},\"y\":{\"field\":\"y\"}},\"id\":\"1898\",\"type\":\"Line\"},{\"attributes\":{},\"id\":\"1865\",\"type\":\"DataRange1d\"},{\"attributes\":{\"coordinates\":null,\"data_source\":{\"id\":\"1895\"},\"glyph\":{\"id\":\"1896\"},\"group\":null,\"hover_glyph\":null,\"muted_glyph\":{\"id\":\"1898\"},\"nonselection_glyph\":{\"id\":\"1897\"},\"view\":{\"id\":\"1900\"}},\"id\":\"1899\",\"type\":\"GlyphRenderer\"},{\"attributes\":{\"data\":{\"x\":[1,2,3,4,5],\"y\":[6,7,2,4,5]},\"selected\":{\"id\":\"1909\"},\"selection_policy\":{\"id\":\"1908\"}},\"id\":\"1895\",\"type\":\"ColumnDataSource\"},{\"attributes\":{},\"id\":\"1903\",\"type\":\"BasicTickFormatter\"},{\"attributes\":{\"coordinates\":null,\"group\":null,\"items\":[{\"id\":\"1912\"}]},\"id\":\"1911\",\"type\":\"Legend\"},{\"attributes\":{},\"id\":\"1904\",\"type\":\"AllLabels\"},{\"attributes\":{},\"id\":\"1906\",\"type\":\"BasicTickFormatter\"},{\"attributes\":{\"tools\":[{\"id\":\"1881\"},{\"id\":\"1882\"},{\"id\":\"1883\"},{\"id\":\"1884\"},{\"id\":\"1885\"},{\"id\":\"1886\"}]},\"id\":\"1888\",\"type\":\"Toolbar\"},{\"attributes\":{\"bottom_units\":\"screen\",\"coordinates\":null,\"fill_alpha\":0.5,\"fill_color\":\"lightgrey\",\"group\":null,\"left_units\":\"screen\",\"level\":\"overlay\",\"line_alpha\":1.0,\"line_color\":\"black\",\"line_dash\":[4,4],\"line_width\":2,\"right_units\":\"screen\",\"syncable\":false,\"top_units\":\"screen\"},\"id\":\"1887\",\"type\":\"BoxAnnotation\"},{\"attributes\":{},\"id\":\"1885\",\"type\":\"ResetTool\"},{\"attributes\":{\"line_color\":\"#1f77b4\",\"line_width\":2,\"x\":{\"field\":\"x\"},\"y\":{\"field\":\"y\"}},\"id\":\"1896\",\"type\":\"Line\"},{\"attributes\":{},\"id\":\"1908\",\"type\":\"UnionRenderers\"},{\"attributes\":{},\"id\":\"1907\",\"type\":\"AllLabels\"},{\"attributes\":{},\"id\":\"1881\",\"type\":\"PanTool\"},{\"attributes\":{\"label\":{\"value\":\"Temp.\"},\"renderers\":[{\"id\":\"1899\"}]},\"id\":\"1912\",\"type\":\"LegendItem\"},{\"attributes\":{\"overlay\":{\"id\":\"1887\"}},\"id\":\"1883\",\"type\":\"BoxZoomTool\"},{\"attributes\":{\"source\":{\"id\":\"1895\"}},\"id\":\"1900\",\"type\":\"CDSView\"},{\"attributes\":{},\"id\":\"1884\",\"type\":\"SaveTool\"},{\"attributes\":{},\"id\":\"1878\",\"type\":\"BasicTicker\"},{\"attributes\":{},\"id\":\"1867\",\"type\":\"DataRange1d\"},{\"attributes\":{\"axis\":{\"id\":\"1877\"},\"coordinates\":null,\"dimension\":1,\"group\":null,\"ticker\":null},\"id\":\"1880\",\"type\":\"Grid\"},{\"attributes\":{},\"id\":\"1882\",\"type\":\"WheelZoomTool\"},{\"attributes\":{},\"id\":\"1871\",\"type\":\"LinearScale\"},{\"attributes\":{\"align\":\"right\",\"background_fill_color\":\"darkgrey\",\"coordinates\":null,\"group\":null,\"text\":\"Changing headline text example\",\"text_color\":\"white\",\"text_font_size\":\"25px\"},\"id\":\"1863\",\"type\":\"Title\"},{\"attributes\":{},\"id\":\"1909\",\"type\":\"Selection\"},{\"attributes\":{},\"id\":\"1886\",\"type\":\"HelpTool\"},{\"attributes\":{\"coordinates\":null,\"formatter\":{\"id\":\"1906\"},\"group\":null,\"major_label_policy\":{\"id\":\"1907\"},\"ticker\":{\"id\":\"1874\"}},\"id\":\"1873\",\"type\":\"LinearAxis\"},{\"attributes\":{},\"id\":\"1869\",\"type\":\"LinearScale\"},{\"attributes\":{\"coordinates\":null,\"formatter\":{\"id\":\"1903\"},\"group\":null,\"major_label_policy\":{\"id\":\"1904\"},\"ticker\":{\"id\":\"1878\"}},\"id\":\"1877\",\"type\":\"LinearAxis\"},{\"attributes\":{\"axis\":{\"id\":\"1873\"},\"coordinates\":null,\"group\":null,\"ticker\":null},\"id\":\"1876\",\"type\":\"Grid\"}],\"root_ids\":[\"1862\"]},\"title\":\"Bokeh Application\",\"version\":\"2.4.3\"}};\n  const render_items = [{\"docid\":\"7ecbae66-6e0d-4cb5-ad06-d122ee11e90b\",\"root_ids\":[\"1862\"],\"roots\":{\"1862\":\"34f125c0-09d2-481d-9bda-54298e6bc15e\"}}];\n  root.Bokeh.embed.embed_items_notebook(docs_json, render_items);\n  }\n  if (root.Bokeh !== undefined) {\n    embed_document(root);\n  } else {\n    let attempts = 0;\n    const timer = setInterval(function(root) {\n      if (root.Bokeh !== undefined) {\n        clearInterval(timer);\n        embed_document(root);\n      } else {\n        attempts++;\n        if (attempts > 100) {\n          clearInterval(timer);\n          console.log(\"Bokeh: ERROR: Unable to run BokehJS code because BokehJS library is missing\");\n        }\n      }\n    }, 10, root)\n  }\n})(window);",
      "application/vnd.bokehjs_exec.v0+json": ""
     },
     "metadata": {
      "application/vnd.bokehjs_exec.v0+json": {
       "id": "1862"
      }
     },
     "output_type": "display_data"
    }
   ],
   "source": [
    "# prepare some data\n",
    "x = [1, 2, 3, 4, 5]\n",
    "y = [6, 7, 2, 4, 5]\n",
    "\n",
    "# create new plot\n",
    "p = figure(title=\"Headline example\")\n",
    "\n",
    "# add line renderer with a legend\n",
    "p.line(x, y, legend_label=\"Temp.\", line_width=2)\n",
    "\n",
    "# change headline location to the left\n",
    "p.title_location = \"left\"\n",
    "\n",
    "# change headline text\n",
    "p.title.text = \"Changing headline text example\"\n",
    "\n",
    "# style the headline\n",
    "p.title.text_font_size = \"25px\"\n",
    "p.title.align = \"right\"\n",
    "p.title.background_fill_color = \"darkgrey\"\n",
    "p.title.text_color = \"white\"\n",
    "\n",
    "# show the results\n",
    "show(p)"
   ]
  },
  {
   "cell_type": "markdown",
   "metadata": {},
   "source": [
    "### 添加注解"
   ]
  },
  {
   "cell_type": "code",
   "execution_count": 10,
   "metadata": {},
   "outputs": [
    {
     "data": {
      "text/html": [
       "\n",
       "  <div class=\"bk-root\" id=\"73245706-5e71-4a35-8c2d-da015c0c62ee\" data-root-id=\"2025\"></div>\n"
      ]
     },
     "metadata": {},
     "output_type": "display_data"
    },
    {
     "data": {
      "application/javascript": "(function(root) {\n  function embed_document(root) {\n  const docs_json = {\"8b60e249-bf2d-45da-9612-e7753310259f\":{\"defs\":[],\"roots\":{\"references\":[{\"attributes\":{\"below\":[{\"id\":\"2036\"}],\"center\":[{\"id\":\"2039\"},{\"id\":\"2043\"},{\"id\":\"2064\"},{\"id\":\"2065\"},{\"id\":\"2066\"}],\"left\":[{\"id\":\"2040\"}],\"renderers\":[{\"id\":\"2062\"}],\"title\":{\"id\":\"2026\"},\"toolbar\":{\"id\":\"2051\"},\"x_range\":{\"id\":\"2028\"},\"x_scale\":{\"id\":\"2032\"},\"y_range\":{\"id\":\"2030\"},\"y_scale\":{\"id\":\"2034\"}},\"id\":\"2025\",\"subtype\":\"Figure\",\"type\":\"Plot\"},{\"attributes\":{\"coordinates\":null,\"fill_alpha\":0.2,\"fill_color\":\"#F0E442\",\"group\":null,\"top\":20},\"id\":\"2064\",\"type\":\"BoxAnnotation\"},{\"attributes\":{\"data\":{\"x\":[0,1,2,3,4,5,6,7,8,9,10,11,12,13,14,15,16,17,18,19,20,21,22,23,24,25,26,27,28,29,30,31,32,33,34,35,36,37,38,39,40,41,42,43,44,45,46,47,48,49,50],\"y\":[64,70,58,32,10,62,35,33,84,34,2,21,38,7,91,55,53,12,0,37,36,14,18,23,42,9,56,27,13,28,73,25,86,40,78,5,79,95,16,24,44,96,74,59,61,67,63,49,47,17,77]},\"selected\":{\"id\":\"2137\"},\"selection_policy\":{\"id\":\"2136\"}},\"id\":\"2058\",\"type\":\"ColumnDataSource\"},{\"attributes\":{\"line_alpha\":0.1,\"line_color\":\"#000000\",\"line_width\":2,\"x\":{\"field\":\"x\"},\"y\":{\"field\":\"y\"}},\"id\":\"2060\",\"type\":\"Line\"},{\"attributes\":{\"tools\":[{\"id\":\"2044\"},{\"id\":\"2045\"},{\"id\":\"2046\"},{\"id\":\"2047\"},{\"id\":\"2048\"},{\"id\":\"2049\"}]},\"id\":\"2051\",\"type\":\"Toolbar\"},{\"attributes\":{},\"id\":\"2028\",\"type\":\"DataRange1d\"},{\"attributes\":{\"line_alpha\":0.2,\"line_color\":\"#000000\",\"line_width\":2,\"x\":{\"field\":\"x\"},\"y\":{\"field\":\"y\"}},\"id\":\"2061\",\"type\":\"Line\"},{\"attributes\":{},\"id\":\"2136\",\"type\":\"UnionRenderers\"},{\"attributes\":{\"line_color\":\"#000000\",\"line_width\":2,\"x\":{\"field\":\"x\"},\"y\":{\"field\":\"y\"}},\"id\":\"2059\",\"type\":\"Line\"},{\"attributes\":{},\"id\":\"2134\",\"type\":\"BasicTickFormatter\"},{\"attributes\":{},\"id\":\"2137\",\"type\":\"Selection\"},{\"attributes\":{\"coordinates\":null,\"formatter\":{\"id\":\"2134\"},\"group\":null,\"major_label_policy\":{\"id\":\"2135\"},\"ticker\":{\"id\":\"2037\"}},\"id\":\"2036\",\"type\":\"LinearAxis\"},{\"attributes\":{},\"id\":\"2049\",\"type\":\"HelpTool\"},{\"attributes\":{},\"id\":\"2037\",\"type\":\"BasicTicker\"},{\"attributes\":{},\"id\":\"2032\",\"type\":\"LinearScale\"},{\"attributes\":{\"bottom\":20,\"coordinates\":null,\"fill_alpha\":0.2,\"fill_color\":\"#009E73\",\"group\":null,\"top\":80},\"id\":\"2065\",\"type\":\"BoxAnnotation\"},{\"attributes\":{\"source\":{\"id\":\"2058\"}},\"id\":\"2063\",\"type\":\"CDSView\"},{\"attributes\":{},\"id\":\"2034\",\"type\":\"LinearScale\"},{\"attributes\":{\"axis\":{\"id\":\"2036\"},\"coordinates\":null,\"group\":null,\"ticker\":null},\"id\":\"2039\",\"type\":\"Grid\"},{\"attributes\":{},\"id\":\"2131\",\"type\":\"BasicTickFormatter\"},{\"attributes\":{\"axis\":{\"id\":\"2040\"},\"coordinates\":null,\"dimension\":1,\"group\":null,\"ticker\":null},\"id\":\"2043\",\"type\":\"Grid\"},{\"attributes\":{\"coordinates\":null,\"data_source\":{\"id\":\"2058\"},\"glyph\":{\"id\":\"2059\"},\"group\":null,\"hover_glyph\":null,\"muted_glyph\":{\"id\":\"2061\"},\"nonselection_glyph\":{\"id\":\"2060\"},\"view\":{\"id\":\"2063\"}},\"id\":\"2062\",\"type\":\"GlyphRenderer\"},{\"attributes\":{\"bottom\":80,\"coordinates\":null,\"fill_alpha\":0.2,\"fill_color\":\"#F0E442\",\"group\":null},\"id\":\"2066\",\"type\":\"BoxAnnotation\"},{\"attributes\":{},\"id\":\"2041\",\"type\":\"BasicTicker\"},{\"attributes\":{\"coordinates\":null,\"formatter\":{\"id\":\"2131\"},\"group\":null,\"major_label_policy\":{\"id\":\"2132\"},\"ticker\":{\"id\":\"2041\"}},\"id\":\"2040\",\"type\":\"LinearAxis\"},{\"attributes\":{\"coordinates\":null,\"group\":null,\"text\":\"Box annotation example\"},\"id\":\"2026\",\"type\":\"Title\"},{\"attributes\":{},\"id\":\"2030\",\"type\":\"DataRange1d\"},{\"attributes\":{},\"id\":\"2045\",\"type\":\"WheelZoomTool\"},{\"attributes\":{},\"id\":\"2044\",\"type\":\"PanTool\"},{\"attributes\":{\"overlay\":{\"id\":\"2050\"}},\"id\":\"2046\",\"type\":\"BoxZoomTool\"},{\"attributes\":{},\"id\":\"2047\",\"type\":\"SaveTool\"},{\"attributes\":{},\"id\":\"2048\",\"type\":\"ResetTool\"},{\"attributes\":{},\"id\":\"2132\",\"type\":\"AllLabels\"},{\"attributes\":{},\"id\":\"2135\",\"type\":\"AllLabels\"},{\"attributes\":{\"bottom_units\":\"screen\",\"coordinates\":null,\"fill_alpha\":0.5,\"fill_color\":\"lightgrey\",\"group\":null,\"left_units\":\"screen\",\"level\":\"overlay\",\"line_alpha\":1.0,\"line_color\":\"black\",\"line_dash\":[4,4],\"line_width\":2,\"right_units\":\"screen\",\"syncable\":false,\"top_units\":\"screen\"},\"id\":\"2050\",\"type\":\"BoxAnnotation\"}],\"root_ids\":[\"2025\"]},\"title\":\"Bokeh Application\",\"version\":\"2.4.3\"}};\n  const render_items = [{\"docid\":\"8b60e249-bf2d-45da-9612-e7753310259f\",\"root_ids\":[\"2025\"],\"roots\":{\"2025\":\"73245706-5e71-4a35-8c2d-da015c0c62ee\"}}];\n  root.Bokeh.embed.embed_items_notebook(docs_json, render_items);\n  }\n  if (root.Bokeh !== undefined) {\n    embed_document(root);\n  } else {\n    let attempts = 0;\n    const timer = setInterval(function(root) {\n      if (root.Bokeh !== undefined) {\n        clearInterval(timer);\n        embed_document(root);\n      } else {\n        attempts++;\n        if (attempts > 100) {\n          clearInterval(timer);\n          console.log(\"Bokeh: ERROR: Unable to run BokehJS code because BokehJS library is missing\");\n        }\n      }\n    }, 10, root)\n  }\n})(window);",
      "application/vnd.bokehjs_exec.v0+json": ""
     },
     "metadata": {
      "application/vnd.bokehjs_exec.v0+json": {
       "id": "2025"
      }
     },
     "output_type": "display_data"
    }
   ],
   "source": [
    "import random\n",
    "\n",
    "\n",
    "from bokeh.models import BoxAnnotation\n",
    "\n",
    "from bokeh.plotting import figure, show\n",
    "\n",
    "# generate some data (1-50 for x, random values for y)\n",
    "x = list(range(0, 51))\n",
    "y = random.sample(range(0, 100), 51)\n",
    "\n",
    "# create new plot\n",
    "p = figure(title=\"Box annotation example\")\n",
    "\n",
    "# add line renderer\n",
    "line = p.line(x, y, line_color=\"#000000\", line_width=2)\n",
    "\n",
    "# add box annotations\n",
    "\n",
    "low_box = BoxAnnotation(top=20, fill_alpha=0.2, fill_color=\"#F0E442\")\n",
    "\n",
    "mid_box = BoxAnnotation(bottom=20, top=80, fill_alpha=0.2, fill_color=\"#009E73\")\n",
    "\n",
    "high_box = BoxAnnotation(bottom=80, fill_alpha=0.2, fill_color=\"#F0E442\")\n",
    "\n",
    "\n",
    "# add boxes to existing figure\n",
    "\n",
    "p.add_layout(low_box)\n",
    "\n",
    "p.add_layout(mid_box)\n",
    "\n",
    "p.add_layout(high_box)\n",
    "\n",
    "\n",
    "# show the results\n",
    "show(p)"
   ]
  },
  {
   "cell_type": "markdown",
   "metadata": {},
   "source": [
    "## 使用组件"
   ]
  },
  {
   "cell_type": "code",
   "execution_count": 11,
   "metadata": {},
   "outputs": [
    {
     "data": {
      "text/html": [
       "\n",
       "  <div class=\"bk-root\" id=\"78455b74-74d3-4ab6-bff4-4f6dcde449ef\" data-root-id=\"2235\"></div>\n"
      ]
     },
     "metadata": {},
     "output_type": "display_data"
    },
    {
     "data": {
      "application/javascript": "(function(root) {\n  function embed_document(root) {\n  const docs_json = {\"d9858f30-3b05-4fb6-bd8f-23420a81fe7d\":{\"defs\":[],\"roots\":{\"references\":[{\"attributes\":{\"children\":[{\"id\":\"2232\"},{\"id\":\"2233\"},{\"id\":\"2234\"}]},\"id\":\"2235\",\"type\":\"Column\"},{\"attributes\":{\"axis\":{\"id\":\"2202\"},\"coordinates\":null,\"dimension\":1,\"group\":null,\"ticker\":null},\"id\":\"2205\",\"type\":\"Grid\"},{\"attributes\":{},\"id\":\"2209\",\"type\":\"SaveTool\"},{\"attributes\":{\"axis\":{\"id\":\"2198\"},\"coordinates\":null,\"group\":null,\"ticker\":null},\"id\":\"2201\",\"type\":\"Grid\"},{\"attributes\":{},\"id\":\"2210\",\"type\":\"ResetTool\"},{\"attributes\":{},\"id\":\"2311\",\"type\":\"BasicTickFormatter\"},{\"attributes\":{\"bottom_units\":\"screen\",\"coordinates\":null,\"fill_alpha\":0.5,\"fill_color\":\"lightgrey\",\"group\":null,\"left_units\":\"screen\",\"level\":\"overlay\",\"line_alpha\":1.0,\"line_color\":\"black\",\"line_dash\":[4,4],\"line_width\":2,\"right_units\":\"screen\",\"syncable\":false,\"top_units\":\"screen\"},\"id\":\"2212\",\"type\":\"BoxAnnotation\"},{\"attributes\":{\"high\":60,\"js_property_callbacks\":{\"change:value\":[{\"id\":\"2228\"}]},\"low\":0,\"step\":5,\"title\":\"Circle size\",\"value\":30,\"value_throttled\":30,\"width\":200},\"id\":\"2227\",\"type\":\"Spinner\"},{\"attributes\":{},\"id\":\"2316\",\"type\":\"UnionRenderers\"},{\"attributes\":{\"tools\":[{\"id\":\"2206\"},{\"id\":\"2207\"},{\"id\":\"2208\"},{\"id\":\"2209\"},{\"id\":\"2210\"},{\"id\":\"2211\"}]},\"id\":\"2213\",\"type\":\"Toolbar\"},{\"attributes\":{\"coordinates\":null,\"formatter\":{\"id\":\"2314\"},\"group\":null,\"major_label_policy\":{\"id\":\"2315\"},\"ticker\":{\"id\":\"2199\"}},\"id\":\"2198\",\"type\":\"LinearAxis\"},{\"attributes\":{},\"id\":\"2314\",\"type\":\"BasicTickFormatter\"},{\"attributes\":{\"children\":[{\"id\":\"2229\"}]},\"id\":\"2233\",\"type\":\"Row\"},{\"attributes\":{},\"id\":\"2317\",\"type\":\"Selection\"},{\"attributes\":{},\"id\":\"2196\",\"type\":\"LinearScale\"},{\"attributes\":{\"source\":{\"id\":\"2220\"}},\"id\":\"2225\",\"type\":\"CDSView\"},{\"attributes\":{\"fill_alpha\":{\"value\":0.1},\"fill_color\":{\"value\":\"#21a7df\"},\"hatch_alpha\":{\"value\":0.1},\"line_alpha\":{\"value\":0.1},\"line_color\":{\"value\":\"#1f77b4\"},\"size\":{\"value\":30},\"x\":{\"field\":\"x\"},\"y\":{\"field\":\"y\"}},\"id\":\"2222\",\"type\":\"Circle\"},{\"attributes\":{\"fill_alpha\":{\"value\":0.2},\"fill_color\":{\"value\":\"#21a7df\"},\"hatch_alpha\":{\"value\":0.2},\"line_alpha\":{\"value\":0.2},\"line_color\":{\"value\":\"#1f77b4\"},\"size\":{\"value\":30},\"x\":{\"field\":\"x\"},\"y\":{\"field\":\"y\"}},\"id\":\"2223\",\"type\":\"Circle\"},{\"attributes\":{\"end\":10,\"js_property_callbacks\":{\"change:value\":[{\"id\":\"2230\"},{\"id\":\"2231\"}]},\"start\":0,\"title\":\"Adjust x-axis range\",\"value\":[1,9]},\"id\":\"2229\",\"type\":\"RangeSlider\"},{\"attributes\":{\"coordinates\":null,\"group\":null},\"id\":\"2308\",\"type\":\"Title\"},{\"attributes\":{\"args\":{\"other\":{\"id\":\"2221\"}},\"code\":\"other.size = this.value\"},\"id\":\"2228\",\"type\":\"CustomJS\"},{\"attributes\":{},\"id\":\"2194\",\"type\":\"LinearScale\"},{\"attributes\":{\"args\":{\"other\":{\"id\":\"2190\"}},\"code\":\"other.start = this.value[0]\"},\"id\":\"2230\",\"type\":\"CustomJS\"},{\"attributes\":{\"args\":{\"other\":{\"id\":\"2190\"}},\"code\":\"other.end = this.value[1]\"},\"id\":\"2231\",\"type\":\"CustomJS\"},{\"attributes\":{},\"id\":\"2192\",\"type\":\"DataRange1d\"},{\"attributes\":{\"below\":[{\"id\":\"2198\"}],\"center\":[{\"id\":\"2201\"},{\"id\":\"2205\"}],\"height\":250,\"left\":[{\"id\":\"2202\"}],\"renderers\":[{\"id\":\"2224\"}],\"title\":{\"id\":\"2308\"},\"toolbar\":{\"id\":\"2213\"},\"width\":500,\"x_range\":{\"id\":\"2190\"},\"x_scale\":{\"id\":\"2194\"},\"y_range\":{\"id\":\"2192\"},\"y_scale\":{\"id\":\"2196\"}},\"id\":\"2189\",\"subtype\":\"Figure\",\"type\":\"Plot\"},{\"attributes\":{},\"id\":\"2199\",\"type\":\"BasicTicker\"},{\"attributes\":{\"fill_color\":{\"value\":\"#21a7df\"},\"line_color\":{\"value\":\"#1f77b4\"},\"size\":{\"value\":30},\"x\":{\"field\":\"x\"},\"y\":{\"field\":\"y\"}},\"id\":\"2221\",\"type\":\"Circle\"},{\"attributes\":{},\"id\":\"2312\",\"type\":\"AllLabels\"},{\"attributes\":{\"height\":30,\"text\":\"\\n\\n          <p>Select the circle's size using this control element:</p>\\n\\n          \",\"width\":200},\"id\":\"2226\",\"type\":\"Div\"},{\"attributes\":{\"children\":[{\"id\":\"2189\"}]},\"id\":\"2234\",\"type\":\"Row\"},{\"attributes\":{\"end\":9,\"start\":1},\"id\":\"2190\",\"type\":\"Range1d\"},{\"attributes\":{},\"id\":\"2203\",\"type\":\"BasicTicker\"},{\"attributes\":{\"data\":{\"x\":[1,2,3,4,5,6,7,8,9,10],\"y\":[4,5,5,7,2,6,4,9,1,3]},\"selected\":{\"id\":\"2317\"},\"selection_policy\":{\"id\":\"2316\"}},\"id\":\"2220\",\"type\":\"ColumnDataSource\"},{\"attributes\":{\"coordinates\":null,\"data_source\":{\"id\":\"2220\"},\"glyph\":{\"id\":\"2221\"},\"group\":null,\"hover_glyph\":null,\"muted_glyph\":{\"id\":\"2223\"},\"nonselection_glyph\":{\"id\":\"2222\"},\"view\":{\"id\":\"2225\"}},\"id\":\"2224\",\"type\":\"GlyphRenderer\"},{\"attributes\":{},\"id\":\"2315\",\"type\":\"AllLabels\"},{\"attributes\":{\"coordinates\":null,\"formatter\":{\"id\":\"2311\"},\"group\":null,\"major_label_policy\":{\"id\":\"2312\"},\"ticker\":{\"id\":\"2203\"}},\"id\":\"2202\",\"type\":\"LinearAxis\"},{\"attributes\":{\"children\":[{\"id\":\"2226\"},{\"id\":\"2227\"}]},\"id\":\"2232\",\"type\":\"Row\"},{\"attributes\":{},\"id\":\"2211\",\"type\":\"HelpTool\"},{\"attributes\":{},\"id\":\"2207\",\"type\":\"WheelZoomTool\"},{\"attributes\":{},\"id\":\"2206\",\"type\":\"PanTool\"},{\"attributes\":{\"overlay\":{\"id\":\"2212\"}},\"id\":\"2208\",\"type\":\"BoxZoomTool\"}],\"root_ids\":[\"2235\"]},\"title\":\"Bokeh Application\",\"version\":\"2.4.3\"}};\n  const render_items = [{\"docid\":\"d9858f30-3b05-4fb6-bd8f-23420a81fe7d\",\"root_ids\":[\"2235\"],\"roots\":{\"2235\":\"78455b74-74d3-4ab6-bff4-4f6dcde449ef\"}}];\n  root.Bokeh.embed.embed_items_notebook(docs_json, render_items);\n  }\n  if (root.Bokeh !== undefined) {\n    embed_document(root);\n  } else {\n    let attempts = 0;\n    const timer = setInterval(function(root) {\n      if (root.Bokeh !== undefined) {\n        clearInterval(timer);\n        embed_document(root);\n      } else {\n        attempts++;\n        if (attempts > 100) {\n          clearInterval(timer);\n          console.log(\"Bokeh: ERROR: Unable to run BokehJS code because BokehJS library is missing\");\n        }\n      }\n    }, 10, root)\n  }\n})(window);",
      "application/vnd.bokehjs_exec.v0+json": ""
     },
     "metadata": {
      "application/vnd.bokehjs_exec.v0+json": {
       "id": "2235"
      }
     },
     "output_type": "display_data"
    }
   ],
   "source": [
    "from bokeh.layouts import layout\n",
    "\n",
    "from bokeh.models import Div, RangeSlider, Spinner\n",
    "\n",
    "from bokeh.plotting import figure, show\n",
    "\n",
    "# prepare some data\n",
    "x = [1, 2, 3, 4, 5, 6, 7, 8, 9, 10]\n",
    "y = [4, 5, 5, 7, 2, 6, 4, 9, 1, 3]\n",
    "\n",
    "# create plot with circle glyphs\n",
    "p = figure(x_range=(1, 9), width=500, height=250)\n",
    "points = p.circle(x=x, y=y, size=30, fill_color=\"#21a7df\")\n",
    "\n",
    "# set up textarea (div)\n",
    "\n",
    "div = Div(\n",
    "\n",
    "    text=\"\"\"\n",
    "\n",
    "          <p>Select the circle's size using this control element:</p>\n",
    "\n",
    "          \"\"\",\n",
    "\n",
    "    width=200,\n",
    "\n",
    "    height=30,\n",
    "\n",
    ")\n",
    "\n",
    "\n",
    "# set up spinner\n",
    "\n",
    "spinner = Spinner(\n",
    "\n",
    "    title=\"Circle size\",\n",
    "\n",
    "    low=0,\n",
    "\n",
    "    high=60,\n",
    "\n",
    "    step=5,\n",
    "\n",
    "    value=points.glyph.size,\n",
    "\n",
    "    width=200,\n",
    "\n",
    ")\n",
    "\n",
    "spinner.js_link(\"value\", points.glyph, \"size\")\n",
    "\n",
    "\n",
    "# set up RangeSlider\n",
    "\n",
    "range_slider = RangeSlider(\n",
    "\n",
    "    title=\"Adjust x-axis range\",\n",
    "\n",
    "    start=0,\n",
    "\n",
    "    end=10,\n",
    "\n",
    "    step=1,\n",
    "\n",
    "    value=(p.x_range.start, p.x_range.end),\n",
    "\n",
    ")\n",
    "\n",
    "range_slider.js_link(\"value\", p.x_range, \"start\", attr_selector=0)\n",
    "\n",
    "range_slider.js_link(\"value\", p.x_range, \"end\", attr_selector=1)\n",
    "\n",
    "\n",
    "# create layout\n",
    "layout = layout(\n",
    "    [\n",
    "        [div, spinner],\n",
    "        [range_slider],\n",
    "        [p],\n",
    "    ]\n",
    ")\n",
    "\n",
    "# show result\n",
    "show(layout)"
   ]
  },
  {
   "cell_type": "code",
   "execution_count": null,
   "metadata": {},
   "outputs": [],
   "source": []
  }
 ],
 "metadata": {
  "kernelspec": {
   "display_name": "Python 3.10.4 ('tvmx': conda)",
   "language": "python",
   "name": "python3"
  },
  "language_info": {
   "codemirror_mode": {
    "name": "ipython",
    "version": 3
   },
   "file_extension": ".py",
   "mimetype": "text/x-python",
   "name": "python",
   "nbconvert_exporter": "python",
   "pygments_lexer": "ipython3",
   "version": "3.10.4"
  },
  "orig_nbformat": 4,
  "vscode": {
   "interpreter": {
    "hash": "e579259ee6098e2b9319de590d145b4b096774fe457bdf04260e3ba5c171e887"
   }
  }
 },
 "nbformat": 4,
 "nbformat_minor": 2
}
