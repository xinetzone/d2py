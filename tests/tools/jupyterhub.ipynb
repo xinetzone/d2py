{
 "cells": [
  {
   "cell_type": "markdown",
   "metadata": {},
   "source": [
    "# JupyterHub\n",
    "\n",
    "参考：\n",
    "\n",
    "- [native-authenticator](https://native-authenticator.readthedocs.io/en/latest/)：这是一个相对简单的验证器，适用于小型或中型JupyterHub应用程序。注册和身份验证是在JupyterHub上实现的，不依赖于外部服务。"
   ]
  }
 ],
 "metadata": {
  "kernelspec": {
   "display_name": "ai",
   "language": "python",
   "name": "python3"
  },
  "language_info": {
   "name": "python",
   "version": "3.10.8 (main, Nov 24 2022, 14:13:03) [GCC 11.2.0]"
  },
  "orig_nbformat": 4,
  "vscode": {
   "interpreter": {
    "hash": "d0d307675f12182d62ca143bf4e5db321e57c24ab1edf40ce60a9751b29adda0"
   }
  }
 },
 "nbformat": 4,
 "nbformat_minor": 2
}
